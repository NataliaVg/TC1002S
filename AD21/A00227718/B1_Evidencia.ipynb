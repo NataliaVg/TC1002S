{
 "cells": [
  {
   "cell_type": "markdown",
   "metadata": {},
   "source": [
    "# TC1002S Herramientas computacionales: el arte de la analítica\n",
    "\n",
    "This is a notebook with all your work for the final evidence of this course\n",
    "\n",
    "\n",
    "# Niveles de dominio a demostrar con la evidencia\n",
    "\n",
    "### SING0202A\n",
    "\n",
    "Interpreta interacciones entre variables relevantes en un problema, como base para la construcción de modelos bivariados basados en datos de un fenómeno investigado que le permita reproducir la respuesta del mismo. Es capaz de construir modelos bivariados que expliquen el comportamiento de un fenómeno.\n",
    "\n",
    "\n",
    "# Student information\n",
    "\n",
    "- Name: Manuel Eduardo Ochoa Obezo\n",
    "\n",
    "- ID: A00227718\n",
    "\n",
    "- My career: Ingeniero en Robotica\n"
   ]
  },
  {
   "cell_type": "markdown",
   "metadata": {},
   "source": [
    "# Importing libraries"
   ]
  },
  {
   "cell_type": "code",
   "execution_count": 208,
   "metadata": {},
   "outputs": [],
   "source": [
    "# Import the packages that we will be using\n",
    "import pandas as pd                 # For data handling\n",
    "import seaborn as sns               # For advanced plotting\n",
    "import matplotlib.pyplot as plt     # For showing plots\n",
    "from sklearn.preprocessing import MinMaxScaler\n",
    "from sklearn.cluster import KMeans"
   ]
  },
  {
   "cell_type": "markdown",
   "metadata": {},
   "source": [
    "# A1 Loa your dataset"
   ]
  },
  {
   "cell_type": "code",
   "execution_count": 209,
   "metadata": {},
   "outputs": [
    {
     "data": {
      "text/html": [
       "<div>\n",
       "<style scoped>\n",
       "    .dataframe tbody tr th:only-of-type {\n",
       "        vertical-align: middle;\n",
       "    }\n",
       "\n",
       "    .dataframe tbody tr th {\n",
       "        vertical-align: top;\n",
       "    }\n",
       "\n",
       "    .dataframe thead th {\n",
       "        text-align: right;\n",
       "    }\n",
       "</style>\n",
       "<table border=\"1\" class=\"dataframe\">\n",
       "  <thead>\n",
       "    <tr style=\"text-align: right;\">\n",
       "      <th></th>\n",
       "      <th>ID</th>\n",
       "      <th>x1</th>\n",
       "      <th>x2</th>\n",
       "    </tr>\n",
       "  </thead>\n",
       "  <tbody>\n",
       "    <tr>\n",
       "      <th>0</th>\n",
       "      <td>0</td>\n",
       "      <td>-1.457274</td>\n",
       "      <td>1.093038</td>\n",
       "    </tr>\n",
       "    <tr>\n",
       "      <th>1</th>\n",
       "      <td>1</td>\n",
       "      <td>-1.763838</td>\n",
       "      <td>2.321210</td>\n",
       "    </tr>\n",
       "    <tr>\n",
       "      <th>2</th>\n",
       "      <td>2</td>\n",
       "      <td>0.530845</td>\n",
       "      <td>3.012410</td>\n",
       "    </tr>\n",
       "    <tr>\n",
       "      <th>3</th>\n",
       "      <td>3</td>\n",
       "      <td>-4.537149</td>\n",
       "      <td>-0.601087</td>\n",
       "    </tr>\n",
       "    <tr>\n",
       "      <th>4</th>\n",
       "      <td>4</td>\n",
       "      <td>1.070596</td>\n",
       "      <td>5.140156</td>\n",
       "    </tr>\n",
       "    <tr>\n",
       "      <th>...</th>\n",
       "      <td>...</td>\n",
       "      <td>...</td>\n",
       "      <td>...</td>\n",
       "    </tr>\n",
       "    <tr>\n",
       "      <th>713</th>\n",
       "      <td>713</td>\n",
       "      <td>-7.215398</td>\n",
       "      <td>4.609216</td>\n",
       "    </tr>\n",
       "    <tr>\n",
       "      <th>714</th>\n",
       "      <td>714</td>\n",
       "      <td>-10.067797</td>\n",
       "      <td>5.528433</td>\n",
       "    </tr>\n",
       "    <tr>\n",
       "      <th>715</th>\n",
       "      <td>715</td>\n",
       "      <td>-7.298928</td>\n",
       "      <td>6.124493</td>\n",
       "    </tr>\n",
       "    <tr>\n",
       "      <th>716</th>\n",
       "      <td>716</td>\n",
       "      <td>-2.452068</td>\n",
       "      <td>1.910159</td>\n",
       "    </tr>\n",
       "    <tr>\n",
       "      <th>717</th>\n",
       "      <td>717</td>\n",
       "      <td>-1.444294</td>\n",
       "      <td>5.476217</td>\n",
       "    </tr>\n",
       "  </tbody>\n",
       "</table>\n",
       "<p>718 rows × 3 columns</p>\n",
       "</div>"
      ],
      "text/plain": [
       "      ID         x1        x2\n",
       "0      0  -1.457274  1.093038\n",
       "1      1  -1.763838  2.321210\n",
       "2      2   0.530845  3.012410\n",
       "3      3  -4.537149 -0.601087\n",
       "4      4   1.070596  5.140156\n",
       "..   ...        ...       ...\n",
       "713  713  -7.215398  4.609216\n",
       "714  714 -10.067797  5.528433\n",
       "715  715  -7.298928  6.124493\n",
       "716  716  -2.452068  1.910159\n",
       "717  717  -1.444294  5.476217\n",
       "\n",
       "[718 rows x 3 columns]"
      ]
     },
     "execution_count": 209,
     "metadata": {},
     "output_type": "execute_result"
    }
   ],
   "source": [
    "url = \"A00227718.csv\"\n",
    "ar = pd.read_csv(url)\n",
    "ar"
   ]
  },
  {
   "cell_type": "markdown",
   "metadata": {},
   "source": [
    "# A2 DataManagment\n"
   ]
  },
  {
   "cell_type": "markdown",
   "metadata": {},
   "source": [
    "Print the first 7 rows"
   ]
  },
  {
   "cell_type": "code",
   "execution_count": 210,
   "metadata": {},
   "outputs": [
    {
     "data": {
      "text/html": [
       "<div>\n",
       "<style scoped>\n",
       "    .dataframe tbody tr th:only-of-type {\n",
       "        vertical-align: middle;\n",
       "    }\n",
       "\n",
       "    .dataframe tbody tr th {\n",
       "        vertical-align: top;\n",
       "    }\n",
       "\n",
       "    .dataframe thead th {\n",
       "        text-align: right;\n",
       "    }\n",
       "</style>\n",
       "<table border=\"1\" class=\"dataframe\">\n",
       "  <thead>\n",
       "    <tr style=\"text-align: right;\">\n",
       "      <th></th>\n",
       "      <th>ID</th>\n",
       "      <th>x1</th>\n",
       "      <th>x2</th>\n",
       "    </tr>\n",
       "  </thead>\n",
       "  <tbody>\n",
       "    <tr>\n",
       "      <th>0</th>\n",
       "      <td>0</td>\n",
       "      <td>-1.457274</td>\n",
       "      <td>1.093038</td>\n",
       "    </tr>\n",
       "    <tr>\n",
       "      <th>1</th>\n",
       "      <td>1</td>\n",
       "      <td>-1.763838</td>\n",
       "      <td>2.321210</td>\n",
       "    </tr>\n",
       "    <tr>\n",
       "      <th>2</th>\n",
       "      <td>2</td>\n",
       "      <td>0.530845</td>\n",
       "      <td>3.012410</td>\n",
       "    </tr>\n",
       "    <tr>\n",
       "      <th>3</th>\n",
       "      <td>3</td>\n",
       "      <td>-4.537149</td>\n",
       "      <td>-0.601087</td>\n",
       "    </tr>\n",
       "    <tr>\n",
       "      <th>4</th>\n",
       "      <td>4</td>\n",
       "      <td>1.070596</td>\n",
       "      <td>5.140156</td>\n",
       "    </tr>\n",
       "    <tr>\n",
       "      <th>5</th>\n",
       "      <td>5</td>\n",
       "      <td>-0.319053</td>\n",
       "      <td>4.471438</td>\n",
       "    </tr>\n",
       "    <tr>\n",
       "      <th>6</th>\n",
       "      <td>6</td>\n",
       "      <td>2.891884</td>\n",
       "      <td>3.166712</td>\n",
       "    </tr>\n",
       "  </tbody>\n",
       "</table>\n",
       "</div>"
      ],
      "text/plain": [
       "   ID        x1        x2\n",
       "0   0 -1.457274  1.093038\n",
       "1   1 -1.763838  2.321210\n",
       "2   2  0.530845  3.012410\n",
       "3   3 -4.537149 -0.601087\n",
       "4   4  1.070596  5.140156\n",
       "5   5 -0.319053  4.471438\n",
       "6   6  2.891884  3.166712"
      ]
     },
     "execution_count": 210,
     "metadata": {},
     "output_type": "execute_result"
    }
   ],
   "source": [
    "ar.head(7)"
   ]
  },
  {
   "cell_type": "markdown",
   "metadata": {},
   "source": [
    "Print the first 4 last rows"
   ]
  },
  {
   "cell_type": "code",
   "execution_count": 211,
   "metadata": {},
   "outputs": [
    {
     "data": {
      "text/html": [
       "<div>\n",
       "<style scoped>\n",
       "    .dataframe tbody tr th:only-of-type {\n",
       "        vertical-align: middle;\n",
       "    }\n",
       "\n",
       "    .dataframe tbody tr th {\n",
       "        vertical-align: top;\n",
       "    }\n",
       "\n",
       "    .dataframe thead th {\n",
       "        text-align: right;\n",
       "    }\n",
       "</style>\n",
       "<table border=\"1\" class=\"dataframe\">\n",
       "  <thead>\n",
       "    <tr style=\"text-align: right;\">\n",
       "      <th></th>\n",
       "      <th>ID</th>\n",
       "      <th>x1</th>\n",
       "      <th>x2</th>\n",
       "    </tr>\n",
       "  </thead>\n",
       "  <tbody>\n",
       "    <tr>\n",
       "      <th>714</th>\n",
       "      <td>714</td>\n",
       "      <td>-10.067797</td>\n",
       "      <td>5.528433</td>\n",
       "    </tr>\n",
       "    <tr>\n",
       "      <th>715</th>\n",
       "      <td>715</td>\n",
       "      <td>-7.298928</td>\n",
       "      <td>6.124493</td>\n",
       "    </tr>\n",
       "    <tr>\n",
       "      <th>716</th>\n",
       "      <td>716</td>\n",
       "      <td>-2.452068</td>\n",
       "      <td>1.910159</td>\n",
       "    </tr>\n",
       "    <tr>\n",
       "      <th>717</th>\n",
       "      <td>717</td>\n",
       "      <td>-1.444294</td>\n",
       "      <td>5.476217</td>\n",
       "    </tr>\n",
       "  </tbody>\n",
       "</table>\n",
       "</div>"
      ],
      "text/plain": [
       "      ID         x1        x2\n",
       "714  714 -10.067797  5.528433\n",
       "715  715  -7.298928  6.124493\n",
       "716  716  -2.452068  1.910159\n",
       "717  717  -1.444294  5.476217"
      ]
     },
     "execution_count": 211,
     "metadata": {},
     "output_type": "execute_result"
    }
   ],
   "source": [
    "ar.tail(4)"
   ]
  },
  {
   "cell_type": "markdown",
   "metadata": {},
   "source": [
    "How many rows and columns are in your data?\n",
    "\n",
    "Use the `shape` method\n"
   ]
  },
  {
   "cell_type": "code",
   "execution_count": 212,
   "metadata": {},
   "outputs": [
    {
     "data": {
      "text/plain": [
       "(718, 3)"
      ]
     },
     "execution_count": 212,
     "metadata": {},
     "output_type": "execute_result"
    }
   ],
   "source": [
    "ar.shape"
   ]
  },
  {
   "cell_type": "markdown",
   "metadata": {},
   "source": [
    "Print the name of all columns \n",
    "\n",
    "Use the `columns` method"
   ]
  },
  {
   "cell_type": "code",
   "execution_count": 213,
   "metadata": {},
   "outputs": [
    {
     "data": {
      "text/plain": [
       "Index(['ID', 'x1', 'x2'], dtype='object')"
      ]
     },
     "execution_count": 213,
     "metadata": {},
     "output_type": "execute_result"
    }
   ],
   "source": [
    "ar.columns"
   ]
  },
  {
   "cell_type": "markdown",
   "metadata": {},
   "source": [
    "What is the data type in each column\n",
    "\n",
    "Use the `dtypes` method "
   ]
  },
  {
   "cell_type": "code",
   "execution_count": 214,
   "metadata": {},
   "outputs": [
    {
     "data": {
      "text/plain": [
       "ID      int64\n",
       "x1    float64\n",
       "x2    float64\n",
       "dtype: object"
      ]
     },
     "execution_count": 214,
     "metadata": {},
     "output_type": "execute_result"
    }
   ],
   "source": [
    "ar.dtypes"
   ]
  },
  {
   "cell_type": "markdown",
   "metadata": {},
   "source": [
    "What is the meaning of rows and columns?"
   ]
  },
  {
   "cell_type": "code",
   "execution_count": 215,
   "metadata": {},
   "outputs": [],
   "source": [
    "# Your responses here\n",
    "\n",
    "# Las columnas nos indica que valor tiene cada variable, la primera es la numeracion de las vairbales\n",
    "# y despues los valores de x1 y x2.\n"
   ]
  },
  {
   "cell_type": "markdown",
   "metadata": {},
   "source": [
    "Print a statistical summary of your columns\n"
   ]
  },
  {
   "cell_type": "code",
   "execution_count": 216,
   "metadata": {},
   "outputs": [
    {
     "data": {
      "text/html": [
       "<div>\n",
       "<style scoped>\n",
       "    .dataframe tbody tr th:only-of-type {\n",
       "        vertical-align: middle;\n",
       "    }\n",
       "\n",
       "    .dataframe tbody tr th {\n",
       "        vertical-align: top;\n",
       "    }\n",
       "\n",
       "    .dataframe thead th {\n",
       "        text-align: right;\n",
       "    }\n",
       "</style>\n",
       "<table border=\"1\" class=\"dataframe\">\n",
       "  <thead>\n",
       "    <tr style=\"text-align: right;\">\n",
       "      <th></th>\n",
       "      <th>ID</th>\n",
       "      <th>x1</th>\n",
       "      <th>x2</th>\n",
       "    </tr>\n",
       "  </thead>\n",
       "  <tbody>\n",
       "    <tr>\n",
       "      <th>count</th>\n",
       "      <td>718.000000</td>\n",
       "      <td>718.000000</td>\n",
       "      <td>718.000000</td>\n",
       "    </tr>\n",
       "    <tr>\n",
       "      <th>mean</th>\n",
       "      <td>358.500000</td>\n",
       "      <td>-1.105546</td>\n",
       "      <td>5.122318</td>\n",
       "    </tr>\n",
       "    <tr>\n",
       "      <th>std</th>\n",
       "      <td>207.413034</td>\n",
       "      <td>5.645264</td>\n",
       "      <td>3.373555</td>\n",
       "    </tr>\n",
       "    <tr>\n",
       "      <th>min</th>\n",
       "      <td>0.000000</td>\n",
       "      <td>-12.073392</td>\n",
       "      <td>-2.363260</td>\n",
       "    </tr>\n",
       "    <tr>\n",
       "      <th>25%</th>\n",
       "      <td>179.250000</td>\n",
       "      <td>-5.379720</td>\n",
       "      <td>2.538325</td>\n",
       "    </tr>\n",
       "    <tr>\n",
       "      <th>50%</th>\n",
       "      <td>358.500000</td>\n",
       "      <td>-1.528137</td>\n",
       "      <td>4.733566</td>\n",
       "    </tr>\n",
       "    <tr>\n",
       "      <th>75%</th>\n",
       "      <td>537.750000</td>\n",
       "      <td>2.837227</td>\n",
       "      <td>7.489648</td>\n",
       "    </tr>\n",
       "    <tr>\n",
       "      <th>max</th>\n",
       "      <td>717.000000</td>\n",
       "      <td>11.284818</td>\n",
       "      <td>14.809302</td>\n",
       "    </tr>\n",
       "  </tbody>\n",
       "</table>\n",
       "</div>"
      ],
      "text/plain": [
       "               ID          x1          x2\n",
       "count  718.000000  718.000000  718.000000\n",
       "mean   358.500000   -1.105546    5.122318\n",
       "std    207.413034    5.645264    3.373555\n",
       "min      0.000000  -12.073392   -2.363260\n",
       "25%    179.250000   -5.379720    2.538325\n",
       "50%    358.500000   -1.528137    4.733566\n",
       "75%    537.750000    2.837227    7.489648\n",
       "max    717.000000   11.284818   14.809302"
      ]
     },
     "execution_count": 216,
     "metadata": {},
     "output_type": "execute_result"
    }
   ],
   "source": [
    "ar.describe()"
   ]
  },
  {
   "cell_type": "code",
   "execution_count": 217,
   "metadata": {},
   "outputs": [],
   "source": [
    "# 1) What is the minumum and maximum values of each variable\n",
    "    # Para la numeracion por logica el primero es 0, en x1 es -12 y en x2 es -2\n",
    "# 2) What is the mean and standar deviation of each variable\n",
    "    #De x1 la media es -1.105546 y la desviacion es 5.645\n",
    "    #De x2 la media es 5.122318 y la desviacion es 3.373555\n",
    "# 3) What the 25%, 50% and 75% represent?\n",
    "    #si partieramos la lista en 4 partes, los valores que dan son los valores de los puntos donde se parte nuestra lista\n"
   ]
  },
  {
   "cell_type": "markdown",
   "metadata": {},
   "source": [
    "Rename the columns using the same name with capital letters"
   ]
  },
  {
   "cell_type": "code",
   "execution_count": 218,
   "metadata": {},
   "outputs": [
    {
     "data": {
      "text/html": [
       "<div>\n",
       "<style scoped>\n",
       "    .dataframe tbody tr th:only-of-type {\n",
       "        vertical-align: middle;\n",
       "    }\n",
       "\n",
       "    .dataframe tbody tr th {\n",
       "        vertical-align: top;\n",
       "    }\n",
       "\n",
       "    .dataframe thead th {\n",
       "        text-align: right;\n",
       "    }\n",
       "</style>\n",
       "<table border=\"1\" class=\"dataframe\">\n",
       "  <thead>\n",
       "    <tr style=\"text-align: right;\">\n",
       "      <th></th>\n",
       "      <th>ID</th>\n",
       "      <th>X1</th>\n",
       "      <th>X2</th>\n",
       "    </tr>\n",
       "  </thead>\n",
       "  <tbody>\n",
       "    <tr>\n",
       "      <th>0</th>\n",
       "      <td>0</td>\n",
       "      <td>-1.457274</td>\n",
       "      <td>1.093038</td>\n",
       "    </tr>\n",
       "    <tr>\n",
       "      <th>1</th>\n",
       "      <td>1</td>\n",
       "      <td>-1.763838</td>\n",
       "      <td>2.321210</td>\n",
       "    </tr>\n",
       "    <tr>\n",
       "      <th>2</th>\n",
       "      <td>2</td>\n",
       "      <td>0.530845</td>\n",
       "      <td>3.012410</td>\n",
       "    </tr>\n",
       "    <tr>\n",
       "      <th>3</th>\n",
       "      <td>3</td>\n",
       "      <td>-4.537149</td>\n",
       "      <td>-0.601087</td>\n",
       "    </tr>\n",
       "    <tr>\n",
       "      <th>4</th>\n",
       "      <td>4</td>\n",
       "      <td>1.070596</td>\n",
       "      <td>5.140156</td>\n",
       "    </tr>\n",
       "    <tr>\n",
       "      <th>...</th>\n",
       "      <td>...</td>\n",
       "      <td>...</td>\n",
       "      <td>...</td>\n",
       "    </tr>\n",
       "    <tr>\n",
       "      <th>713</th>\n",
       "      <td>713</td>\n",
       "      <td>-7.215398</td>\n",
       "      <td>4.609216</td>\n",
       "    </tr>\n",
       "    <tr>\n",
       "      <th>714</th>\n",
       "      <td>714</td>\n",
       "      <td>-10.067797</td>\n",
       "      <td>5.528433</td>\n",
       "    </tr>\n",
       "    <tr>\n",
       "      <th>715</th>\n",
       "      <td>715</td>\n",
       "      <td>-7.298928</td>\n",
       "      <td>6.124493</td>\n",
       "    </tr>\n",
       "    <tr>\n",
       "      <th>716</th>\n",
       "      <td>716</td>\n",
       "      <td>-2.452068</td>\n",
       "      <td>1.910159</td>\n",
       "    </tr>\n",
       "    <tr>\n",
       "      <th>717</th>\n",
       "      <td>717</td>\n",
       "      <td>-1.444294</td>\n",
       "      <td>5.476217</td>\n",
       "    </tr>\n",
       "  </tbody>\n",
       "</table>\n",
       "<p>718 rows × 3 columns</p>\n",
       "</div>"
      ],
      "text/plain": [
       "      ID         X1        X2\n",
       "0      0  -1.457274  1.093038\n",
       "1      1  -1.763838  2.321210\n",
       "2      2   0.530845  3.012410\n",
       "3      3  -4.537149 -0.601087\n",
       "4      4   1.070596  5.140156\n",
       "..   ...        ...       ...\n",
       "713  713  -7.215398  4.609216\n",
       "714  714 -10.067797  5.528433\n",
       "715  715  -7.298928  6.124493\n",
       "716  716  -2.452068  1.910159\n",
       "717  717  -1.444294  5.476217\n",
       "\n",
       "[718 rows x 3 columns]"
      ]
     },
     "execution_count": 218,
     "metadata": {},
     "output_type": "execute_result"
    }
   ],
   "source": [
    "ar = ar.rename(columns={\"x1\": \"X1\"})\n",
    "ar = ar.rename(columns={\"x2\": \"X2\"})\n",
    "ar "
   ]
  },
  {
   "cell_type": "markdown",
   "metadata": {},
   "source": [
    "Rename the columns to their original names"
   ]
  },
  {
   "cell_type": "code",
   "execution_count": 219,
   "metadata": {},
   "outputs": [
    {
     "data": {
      "text/html": [
       "<div>\n",
       "<style scoped>\n",
       "    .dataframe tbody tr th:only-of-type {\n",
       "        vertical-align: middle;\n",
       "    }\n",
       "\n",
       "    .dataframe tbody tr th {\n",
       "        vertical-align: top;\n",
       "    }\n",
       "\n",
       "    .dataframe thead th {\n",
       "        text-align: right;\n",
       "    }\n",
       "</style>\n",
       "<table border=\"1\" class=\"dataframe\">\n",
       "  <thead>\n",
       "    <tr style=\"text-align: right;\">\n",
       "      <th></th>\n",
       "      <th>ID</th>\n",
       "      <th>x1</th>\n",
       "      <th>x2</th>\n",
       "    </tr>\n",
       "  </thead>\n",
       "  <tbody>\n",
       "    <tr>\n",
       "      <th>0</th>\n",
       "      <td>0</td>\n",
       "      <td>-1.457274</td>\n",
       "      <td>1.093038</td>\n",
       "    </tr>\n",
       "    <tr>\n",
       "      <th>1</th>\n",
       "      <td>1</td>\n",
       "      <td>-1.763838</td>\n",
       "      <td>2.321210</td>\n",
       "    </tr>\n",
       "    <tr>\n",
       "      <th>2</th>\n",
       "      <td>2</td>\n",
       "      <td>0.530845</td>\n",
       "      <td>3.012410</td>\n",
       "    </tr>\n",
       "    <tr>\n",
       "      <th>3</th>\n",
       "      <td>3</td>\n",
       "      <td>-4.537149</td>\n",
       "      <td>-0.601087</td>\n",
       "    </tr>\n",
       "    <tr>\n",
       "      <th>4</th>\n",
       "      <td>4</td>\n",
       "      <td>1.070596</td>\n",
       "      <td>5.140156</td>\n",
       "    </tr>\n",
       "    <tr>\n",
       "      <th>...</th>\n",
       "      <td>...</td>\n",
       "      <td>...</td>\n",
       "      <td>...</td>\n",
       "    </tr>\n",
       "    <tr>\n",
       "      <th>713</th>\n",
       "      <td>713</td>\n",
       "      <td>-7.215398</td>\n",
       "      <td>4.609216</td>\n",
       "    </tr>\n",
       "    <tr>\n",
       "      <th>714</th>\n",
       "      <td>714</td>\n",
       "      <td>-10.067797</td>\n",
       "      <td>5.528433</td>\n",
       "    </tr>\n",
       "    <tr>\n",
       "      <th>715</th>\n",
       "      <td>715</td>\n",
       "      <td>-7.298928</td>\n",
       "      <td>6.124493</td>\n",
       "    </tr>\n",
       "    <tr>\n",
       "      <th>716</th>\n",
       "      <td>716</td>\n",
       "      <td>-2.452068</td>\n",
       "      <td>1.910159</td>\n",
       "    </tr>\n",
       "    <tr>\n",
       "      <th>717</th>\n",
       "      <td>717</td>\n",
       "      <td>-1.444294</td>\n",
       "      <td>5.476217</td>\n",
       "    </tr>\n",
       "  </tbody>\n",
       "</table>\n",
       "<p>718 rows × 3 columns</p>\n",
       "</div>"
      ],
      "text/plain": [
       "      ID         x1        x2\n",
       "0      0  -1.457274  1.093038\n",
       "1      1  -1.763838  2.321210\n",
       "2      2   0.530845  3.012410\n",
       "3      3  -4.537149 -0.601087\n",
       "4      4   1.070596  5.140156\n",
       "..   ...        ...       ...\n",
       "713  713  -7.215398  4.609216\n",
       "714  714 -10.067797  5.528433\n",
       "715  715  -7.298928  6.124493\n",
       "716  716  -2.452068  1.910159\n",
       "717  717  -1.444294  5.476217\n",
       "\n",
       "[718 rows x 3 columns]"
      ]
     },
     "execution_count": 219,
     "metadata": {},
     "output_type": "execute_result"
    }
   ],
   "source": [
    "ar = ar.rename(columns={\"X1\": \"x1\"})\n",
    "ar = ar.rename(columns={\"X2\": \"x2\"})\n",
    "ar"
   ]
  },
  {
   "cell_type": "markdown",
   "metadata": {},
   "source": [
    "Use two different alternatives to get one of the columns"
   ]
  },
  {
   "cell_type": "code",
   "execution_count": 220,
   "metadata": {},
   "outputs": [
    {
     "name": "stdout",
     "output_type": "stream",
     "text": [
      "0      -1.457274\n",
      "1      -1.763838\n",
      "2       0.530845\n",
      "3      -4.537149\n",
      "4       1.070596\n",
      "         ...    \n",
      "713    -7.215398\n",
      "714   -10.067797\n",
      "715    -7.298928\n",
      "716    -2.452068\n",
      "717    -1.444294\n",
      "Name: x1, Length: 718, dtype: float64\n"
     ]
    },
    {
     "data": {
      "text/plain": [
       "0      -1.457274\n",
       "1      -1.763838\n",
       "2       0.530845\n",
       "3      -4.537149\n",
       "4       1.070596\n",
       "         ...    \n",
       "713    -7.215398\n",
       "714   -10.067797\n",
       "715    -7.298928\n",
       "716    -2.452068\n",
       "717    -1.444294\n",
       "Name: x1, Length: 718, dtype: float64"
      ]
     },
     "execution_count": 220,
     "metadata": {},
     "output_type": "execute_result"
    }
   ],
   "source": [
    "print(ar.x1)\n",
    "ar.iloc[:, 1]"
   ]
  },
  {
   "cell_type": "markdown",
   "metadata": {},
   "source": [
    "Get a slice of your data set: second and thrid columns and rows from 62 to 72"
   ]
  },
  {
   "cell_type": "code",
   "execution_count": 221,
   "metadata": {},
   "outputs": [
    {
     "data": {
      "text/html": [
       "<div>\n",
       "<style scoped>\n",
       "    .dataframe tbody tr th:only-of-type {\n",
       "        vertical-align: middle;\n",
       "    }\n",
       "\n",
       "    .dataframe tbody tr th {\n",
       "        vertical-align: top;\n",
       "    }\n",
       "\n",
       "    .dataframe thead th {\n",
       "        text-align: right;\n",
       "    }\n",
       "</style>\n",
       "<table border=\"1\" class=\"dataframe\">\n",
       "  <thead>\n",
       "    <tr style=\"text-align: right;\">\n",
       "      <th></th>\n",
       "      <th>x1</th>\n",
       "      <th>x2</th>\n",
       "    </tr>\n",
       "  </thead>\n",
       "  <tbody>\n",
       "    <tr>\n",
       "      <th>62</th>\n",
       "      <td>-5.737001</td>\n",
       "      <td>2.871568</td>\n",
       "    </tr>\n",
       "    <tr>\n",
       "      <th>63</th>\n",
       "      <td>-4.493066</td>\n",
       "      <td>4.377170</td>\n",
       "    </tr>\n",
       "    <tr>\n",
       "      <th>64</th>\n",
       "      <td>-8.023777</td>\n",
       "      <td>4.545280</td>\n",
       "    </tr>\n",
       "    <tr>\n",
       "      <th>65</th>\n",
       "      <td>8.517601</td>\n",
       "      <td>10.757652</td>\n",
       "    </tr>\n",
       "    <tr>\n",
       "      <th>66</th>\n",
       "      <td>0.157683</td>\n",
       "      <td>5.974554</td>\n",
       "    </tr>\n",
       "    <tr>\n",
       "      <th>67</th>\n",
       "      <td>-5.360908</td>\n",
       "      <td>2.404113</td>\n",
       "    </tr>\n",
       "    <tr>\n",
       "      <th>68</th>\n",
       "      <td>-7.982976</td>\n",
       "      <td>3.290350</td>\n",
       "    </tr>\n",
       "    <tr>\n",
       "      <th>69</th>\n",
       "      <td>0.407252</td>\n",
       "      <td>3.716231</td>\n",
       "    </tr>\n",
       "    <tr>\n",
       "      <th>70</th>\n",
       "      <td>-9.534644</td>\n",
       "      <td>5.191058</td>\n",
       "    </tr>\n",
       "    <tr>\n",
       "      <th>71</th>\n",
       "      <td>5.751111</td>\n",
       "      <td>7.159134</td>\n",
       "    </tr>\n",
       "    <tr>\n",
       "      <th>72</th>\n",
       "      <td>11.073222</td>\n",
       "      <td>8.824567</td>\n",
       "    </tr>\n",
       "  </tbody>\n",
       "</table>\n",
       "</div>"
      ],
      "text/plain": [
       "           x1         x2\n",
       "62  -5.737001   2.871568\n",
       "63  -4.493066   4.377170\n",
       "64  -8.023777   4.545280\n",
       "65   8.517601  10.757652\n",
       "66   0.157683   5.974554\n",
       "67  -5.360908   2.404113\n",
       "68  -7.982976   3.290350\n",
       "69   0.407252   3.716231\n",
       "70  -9.534644   5.191058\n",
       "71   5.751111   7.159134\n",
       "72  11.073222   8.824567"
      ]
     },
     "execution_count": 221,
     "metadata": {},
     "output_type": "execute_result"
    }
   ],
   "source": [
    "ar.loc[62:72,\"x1\":\"x2\"]"
   ]
  },
  {
   "cell_type": "markdown",
   "metadata": {},
   "source": [
    "For the second and thrid columns, calculate the number of null and not null values and verify that their sum equals the total number of rows"
   ]
  },
  {
   "cell_type": "code",
   "execution_count": 222,
   "metadata": {},
   "outputs": [
    {
     "data": {
      "text/plain": [
       "ID    0\n",
       "x1    0\n",
       "x2    0\n",
       "dtype: int64"
      ]
     },
     "execution_count": 222,
     "metadata": {},
     "output_type": "execute_result"
    }
   ],
   "source": [
    "ar.isnull().sum()"
   ]
  },
  {
   "cell_type": "code",
   "execution_count": 223,
   "metadata": {},
   "outputs": [
    {
     "data": {
      "text/plain": [
       "ID    718\n",
       "x1    718\n",
       "x2    718\n",
       "dtype: int64"
      ]
     },
     "execution_count": 223,
     "metadata": {},
     "output_type": "execute_result"
    }
   ],
   "source": [
    "ar.notnull().sum()"
   ]
  },
  {
   "cell_type": "markdown",
   "metadata": {},
   "source": [
    "Discard the first column\n"
   ]
  },
  {
   "cell_type": "code",
   "execution_count": 224,
   "metadata": {},
   "outputs": [
    {
     "data": {
      "text/html": [
       "<div>\n",
       "<style scoped>\n",
       "    .dataframe tbody tr th:only-of-type {\n",
       "        vertical-align: middle;\n",
       "    }\n",
       "\n",
       "    .dataframe tbody tr th {\n",
       "        vertical-align: top;\n",
       "    }\n",
       "\n",
       "    .dataframe thead th {\n",
       "        text-align: right;\n",
       "    }\n",
       "</style>\n",
       "<table border=\"1\" class=\"dataframe\">\n",
       "  <thead>\n",
       "    <tr style=\"text-align: right;\">\n",
       "      <th></th>\n",
       "      <th>x1</th>\n",
       "      <th>x2</th>\n",
       "    </tr>\n",
       "  </thead>\n",
       "  <tbody>\n",
       "    <tr>\n",
       "      <th>0</th>\n",
       "      <td>-1.457274</td>\n",
       "      <td>1.093038</td>\n",
       "    </tr>\n",
       "    <tr>\n",
       "      <th>1</th>\n",
       "      <td>-1.763838</td>\n",
       "      <td>2.321210</td>\n",
       "    </tr>\n",
       "    <tr>\n",
       "      <th>2</th>\n",
       "      <td>0.530845</td>\n",
       "      <td>3.012410</td>\n",
       "    </tr>\n",
       "    <tr>\n",
       "      <th>3</th>\n",
       "      <td>-4.537149</td>\n",
       "      <td>-0.601087</td>\n",
       "    </tr>\n",
       "    <tr>\n",
       "      <th>4</th>\n",
       "      <td>1.070596</td>\n",
       "      <td>5.140156</td>\n",
       "    </tr>\n",
       "    <tr>\n",
       "      <th>...</th>\n",
       "      <td>...</td>\n",
       "      <td>...</td>\n",
       "    </tr>\n",
       "    <tr>\n",
       "      <th>713</th>\n",
       "      <td>-7.215398</td>\n",
       "      <td>4.609216</td>\n",
       "    </tr>\n",
       "    <tr>\n",
       "      <th>714</th>\n",
       "      <td>-10.067797</td>\n",
       "      <td>5.528433</td>\n",
       "    </tr>\n",
       "    <tr>\n",
       "      <th>715</th>\n",
       "      <td>-7.298928</td>\n",
       "      <td>6.124493</td>\n",
       "    </tr>\n",
       "    <tr>\n",
       "      <th>716</th>\n",
       "      <td>-2.452068</td>\n",
       "      <td>1.910159</td>\n",
       "    </tr>\n",
       "    <tr>\n",
       "      <th>717</th>\n",
       "      <td>-1.444294</td>\n",
       "      <td>5.476217</td>\n",
       "    </tr>\n",
       "  </tbody>\n",
       "</table>\n",
       "<p>718 rows × 2 columns</p>\n",
       "</div>"
      ],
      "text/plain": [
       "            x1        x2\n",
       "0    -1.457274  1.093038\n",
       "1    -1.763838  2.321210\n",
       "2     0.530845  3.012410\n",
       "3    -4.537149 -0.601087\n",
       "4     1.070596  5.140156\n",
       "..         ...       ...\n",
       "713  -7.215398  4.609216\n",
       "714 -10.067797  5.528433\n",
       "715  -7.298928  6.124493\n",
       "716  -2.452068  1.910159\n",
       "717  -1.444294  5.476217\n",
       "\n",
       "[718 rows x 2 columns]"
      ]
     },
     "execution_count": 224,
     "metadata": {},
     "output_type": "execute_result"
    }
   ],
   "source": [
    "ar.drop(['ID'], axis=1, inplace=True)\n",
    "ar"
   ]
  },
  {
   "cell_type": "markdown",
   "metadata": {},
   "source": [
    "### Questions \n",
    "\n",
    "Based on the previos reults, provide a description of yout dataset\n",
    "\n",
    "Your response:\n",
    "El DataSet es una lista con coordenadas, se hicieron ciertos procesos y llegamos a que la primera linea es innecesaria, por lo cual se descarto\n",
    "\n"
   ]
  },
  {
   "cell_type": "markdown",
   "metadata": {},
   "source": [
    "# A3 Data visualization"
   ]
  },
  {
   "cell_type": "markdown",
   "metadata": {},
   "source": [
    "Plot in the same figure the histogram of the two first two variables"
   ]
  },
  {
   "cell_type": "code",
   "execution_count": 225,
   "metadata": {},
   "outputs": [
    {
     "data": {
      "image/png": "[encoded data removed]",
      "text/plain": [
       "<Figure size 432x288 with 1 Axes>"
      ]
     },
     "metadata": {
      "needs_background": "light"
     },
     "output_type": "display_data"
    }
   ],
   "source": [
    "sns.histplot(ar[\"x1\"], kde = False)\n",
    "dfhist = sns.histplot(ar[\"x2\"], kde = False)\n",
    "dfhist.set_ylabel(\"Frecuencia\")\n",
    "dfhist.set_xlabel(\"x1 and x2\")\n",
    "dfhist.set_title(\"Histogram of both x1 and x2\")\n",
    "\n",
    "plt.show()\n",
    "\n"
   ]
  },
  {
   "cell_type": "markdown",
   "metadata": {},
   "source": [
    "Based on this two plots, provide a description of your data:\n",
    "\n",
    "Your response here: Esta muestra la frecuencia de los datos, tanto de x1 como de x2"
   ]
  },
  {
   "cell_type": "markdown",
   "metadata": {},
   "source": [
    "Plot in the same figure the boxplot of the two first two variables "
   ]
  },
  {
   "cell_type": "code",
   "execution_count": 226,
   "metadata": {},
   "outputs": [
    {
     "data": {
      "image/png": "[encoded data removed]",
      "text/plain": [
       "<Figure size 432x288 with 1 Axes>"
      ]
     },
     "metadata": {
      "needs_background": "light"
     },
     "output_type": "display_data"
    }
   ],
   "source": [
    "Box = ar.loc[:, [\"x1\", \"x2\"]]\n",
    "\n",
    "box = sns.boxplot(data=Box, orient=\"h\")\n",
    "box.set_xlabel(\"Valores\")\n",
    "box.set_title(\"Box plot of the x1 and x2\")\n",
    "\n",
    "plt.show()"
   ]
  },
  {
   "cell_type": "markdown",
   "metadata": {},
   "source": [
    "Scatter plot of the two first variables"
   ]
  },
  {
   "cell_type": "code",
   "execution_count": 227,
   "metadata": {},
   "outputs": [
    {
     "data": {
      "image/png": "[encoded data removed]",
      "text/plain": [
       "<Figure size 432x288 with 1 Axes>"
      ]
     },
     "metadata": {
      "needs_background": "light"
     },
     "output_type": "display_data"
    }
   ],
   "source": [
    "plt.scatter(ar.x1,ar.x2)\n",
    "plt.xlabel('x1')\n",
    "plt.ylabel('x2')\n",
    "plt.title('x1 vs x2')\n",
    "plt.show()"
   ]
  },
  {
   "cell_type": "markdown",
   "metadata": {},
   "source": [
    "### Questions \n",
    "\n",
    "Based on the previos plots, provide a description of yout dataset\n",
    "\n",
    "Your response: Mi dataset por lo que veo se suele incinar a estar en ciertos puntos, pudiendo notar algunos clusters\n",
    "\n",
    "\n"
   ]
  },
  {
   "cell_type": "markdown",
   "metadata": {},
   "source": [
    "# A4 Kmeans"
   ]
  },
  {
   "cell_type": "markdown",
   "metadata": {},
   "source": [
    "Do Kmeans clustering assuming a number of clusters accorgind to your scatter plot"
   ]
  },
  {
   "cell_type": "code",
   "execution_count": 228,
   "metadata": {},
   "outputs": [
    {
     "data": {
      "text/plain": [
       "array([2, 2, 2, 2, 2, 2, 2, 2, 2, 1, 2, 1, 2, 2, 0, 1, 0, 1, 2, 2, 0, 2,\n",
       "       0, 2, 2, 0, 2, 2, 2, 1, 2, 2, 2, 0, 1, 2, 0, 2, 2, 2, 0, 2, 0, 2,\n",
       "       0, 0, 0, 2, 1, 1, 0, 2, 2, 1, 1, 1, 2, 0, 0, 1, 0, 2, 0, 2, 0, 1,\n",
       "       2, 0, 0, 2, 0, 1, 1, 0, 0, 2, 2, 2, 0, 2, 2, 2, 2, 2, 2, 1, 2, 2,\n",
       "       1, 2, 1, 0, 1, 0, 0, 2, 1, 1, 1, 2, 2, 2, 0, 2, 2, 2, 0, 2, 2, 1,\n",
       "       2, 1, 1, 0, 1, 1, 0, 0, 0, 2, 0, 0, 1, 2, 2, 0, 2, 0, 1, 0, 1, 2,\n",
       "       1, 1, 1, 0, 0, 0, 2, 2, 2, 1, 2, 2, 0, 2, 0, 1, 0, 0, 0, 0, 0, 0,\n",
       "       2, 0, 0, 2, 2, 1, 1, 2, 2, 2, 2, 1, 2, 2, 1, 2, 0, 1, 2, 0, 2, 2,\n",
       "       2, 2, 0, 2, 2, 0, 2, 2, 2, 0, 2, 1, 0, 2, 1, 0, 2, 2, 2, 1, 2, 1,\n",
       "       2, 1, 2, 0, 2, 2, 2, 2, 2, 0, 0, 2, 2, 2, 0, 2, 2, 2, 2, 2, 2, 2,\n",
       "       1, 0, 2, 0, 1, 0, 2, 1, 1, 1, 2, 2, 2, 2, 1, 0, 2, 0, 1, 1, 2, 2,\n",
       "       1, 1, 1, 0, 2, 0, 2, 1, 2, 2, 2, 2, 2, 2, 1, 2, 2, 0, 0, 2, 1, 0,\n",
       "       2, 1, 2, 2, 2, 1, 0, 0, 1, 1, 1, 2, 2, 1, 0, 2, 2, 1, 1, 1, 2, 0,\n",
       "       2, 0, 1, 2, 0, 1, 0, 2, 1, 0, 0, 2, 0, 2, 2, 2, 2, 1, 1, 2, 1, 0,\n",
       "       2, 2, 0, 0, 1, 0, 0, 1, 0, 2, 2, 2, 1, 2, 1, 0, 0, 1, 2, 0, 1, 1,\n",
       "       1, 0, 1, 1, 2, 0, 1, 1, 1, 2, 2, 2, 2, 2, 2, 2, 0, 0, 1, 0, 2, 2,\n",
       "       0, 0, 2, 2, 0, 2, 0, 0, 2, 2, 1, 2, 2, 0, 2, 2, 2, 0, 2, 2, 2, 2,\n",
       "       2, 2, 0, 0, 0, 1, 1, 2, 1, 0, 1, 2, 2, 2, 2, 2, 2, 0, 1, 2, 2, 2,\n",
       "       2, 1, 1, 2, 1, 0, 2, 1, 2, 1, 2, 2, 1, 0, 2, 1, 0, 2, 2, 0, 2, 2,\n",
       "       0, 2, 0, 0, 2, 2, 0, 1, 1, 2, 1, 1, 2, 1, 0, 2, 2, 2, 1, 1, 2, 2,\n",
       "       2, 1, 2, 2, 1, 0, 0, 2, 2, 0, 2, 1, 2, 2, 2, 1, 2, 2, 2, 2, 1, 2,\n",
       "       2, 0, 2, 2, 0, 1, 1, 2, 2, 0, 2, 1, 1, 2, 0, 1, 1, 1, 0, 2, 1, 2,\n",
       "       2, 1, 2, 2, 1, 2, 2, 1, 0, 0, 2, 2, 2, 2, 2, 0, 0, 0, 0, 1, 0, 2,\n",
       "       2, 0, 2, 0, 0, 2, 2, 0, 2, 1, 2, 2, 0, 0, 1, 2, 2, 2, 2, 2, 1, 2,\n",
       "       1, 2, 2, 0, 1, 2, 1, 2, 2, 2, 2, 2, 2, 0, 1, 2, 2, 0, 2, 0, 1, 2,\n",
       "       1, 2, 0, 2, 1, 2, 0, 2, 0, 1, 0, 2, 2, 1, 0, 2, 1, 2, 0, 1, 0, 2,\n",
       "       2, 1, 2, 1, 0, 2, 1, 2, 2, 1, 2, 0, 1, 2, 2, 2, 2, 2, 2, 2, 2, 2,\n",
       "       1, 1, 0, 1, 0, 0, 0, 1, 2, 0, 0, 1, 0, 1, 0, 1, 2, 2, 2, 2, 2, 2,\n",
       "       2, 0, 0, 2, 2, 2, 1, 2, 2, 1, 1, 1, 0, 0, 0, 2, 1, 0, 1, 2, 1, 0,\n",
       "       2, 0, 2, 2, 2, 1, 1, 1, 1, 2, 2, 2, 2, 2, 2, 2, 0, 0, 1, 2, 0, 1,\n",
       "       1, 1, 2, 0, 2, 1, 2, 0, 2, 2, 0, 1, 0, 2, 2, 0, 1, 2, 2, 0, 0, 2,\n",
       "       1, 2, 2, 2, 1, 2, 1, 2, 2, 2, 2, 1, 0, 2, 1, 1, 1, 2, 1, 1, 2, 1,\n",
       "       0, 2, 2, 1, 2, 2, 2, 0, 2, 0, 0, 0, 2, 2])"
      ]
     },
     "execution_count": 228,
     "metadata": {},
     "output_type": "execute_result"
    }
   ],
   "source": [
    "#crear objeto para hacer kmeans y definir el numero de clusters\n",
    "km = KMeans(n_clusters = 3)\n",
    "\n",
    "#Do kmeans\n",
    "clusters = km.fit_predict(ar[[\"x1\",\"x2\"]])\n",
    "\n",
    "clusters"
   ]
  },
  {
   "cell_type": "markdown",
   "metadata": {},
   "source": [
    "Add to your dataset a column with the assihned cluster to each data point"
   ]
  },
  {
   "cell_type": "code",
   "execution_count": 229,
   "metadata": {},
   "outputs": [
    {
     "data": {
      "text/html": [
       "<div>\n",
       "<style scoped>\n",
       "    .dataframe tbody tr th:only-of-type {\n",
       "        vertical-align: middle;\n",
       "    }\n",
       "\n",
       "    .dataframe tbody tr th {\n",
       "        vertical-align: top;\n",
       "    }\n",
       "\n",
       "    .dataframe thead th {\n",
       "        text-align: right;\n",
       "    }\n",
       "</style>\n",
       "<table border=\"1\" class=\"dataframe\">\n",
       "  <thead>\n",
       "    <tr style=\"text-align: right;\">\n",
       "      <th></th>\n",
       "      <th>x1</th>\n",
       "      <th>x2</th>\n",
       "      <th>cluster1</th>\n",
       "    </tr>\n",
       "  </thead>\n",
       "  <tbody>\n",
       "    <tr>\n",
       "      <th>0</th>\n",
       "      <td>-1.457274</td>\n",
       "      <td>1.093038</td>\n",
       "      <td>2</td>\n",
       "    </tr>\n",
       "    <tr>\n",
       "      <th>1</th>\n",
       "      <td>-1.763838</td>\n",
       "      <td>2.321210</td>\n",
       "      <td>2</td>\n",
       "    </tr>\n",
       "    <tr>\n",
       "      <th>2</th>\n",
       "      <td>0.530845</td>\n",
       "      <td>3.012410</td>\n",
       "      <td>2</td>\n",
       "    </tr>\n",
       "    <tr>\n",
       "      <th>3</th>\n",
       "      <td>-4.537149</td>\n",
       "      <td>-0.601087</td>\n",
       "      <td>2</td>\n",
       "    </tr>\n",
       "    <tr>\n",
       "      <th>4</th>\n",
       "      <td>1.070596</td>\n",
       "      <td>5.140156</td>\n",
       "      <td>2</td>\n",
       "    </tr>\n",
       "    <tr>\n",
       "      <th>...</th>\n",
       "      <td>...</td>\n",
       "      <td>...</td>\n",
       "      <td>...</td>\n",
       "    </tr>\n",
       "    <tr>\n",
       "      <th>713</th>\n",
       "      <td>-7.215398</td>\n",
       "      <td>4.609216</td>\n",
       "      <td>0</td>\n",
       "    </tr>\n",
       "    <tr>\n",
       "      <th>714</th>\n",
       "      <td>-10.067797</td>\n",
       "      <td>5.528433</td>\n",
       "      <td>0</td>\n",
       "    </tr>\n",
       "    <tr>\n",
       "      <th>715</th>\n",
       "      <td>-7.298928</td>\n",
       "      <td>6.124493</td>\n",
       "      <td>0</td>\n",
       "    </tr>\n",
       "    <tr>\n",
       "      <th>716</th>\n",
       "      <td>-2.452068</td>\n",
       "      <td>1.910159</td>\n",
       "      <td>2</td>\n",
       "    </tr>\n",
       "    <tr>\n",
       "      <th>717</th>\n",
       "      <td>-1.444294</td>\n",
       "      <td>5.476217</td>\n",
       "      <td>2</td>\n",
       "    </tr>\n",
       "  </tbody>\n",
       "</table>\n",
       "<p>718 rows × 3 columns</p>\n",
       "</div>"
      ],
      "text/plain": [
       "            x1        x2  cluster1\n",
       "0    -1.457274  1.093038         2\n",
       "1    -1.763838  2.321210         2\n",
       "2     0.530845  3.012410         2\n",
       "3    -4.537149 -0.601087         2\n",
       "4     1.070596  5.140156         2\n",
       "..         ...       ...       ...\n",
       "713  -7.215398  4.609216         0\n",
       "714 -10.067797  5.528433         0\n",
       "715  -7.298928  6.124493         0\n",
       "716  -2.452068  1.910159         2\n",
       "717  -1.444294  5.476217         2\n",
       "\n",
       "[718 rows x 3 columns]"
      ]
     },
     "execution_count": 229,
     "metadata": {},
     "output_type": "execute_result"
    }
   ],
   "source": [
    "ar[\"cluster1\"] = clusters\n",
    "\n",
    "ar"
   ]
  },
  {
   "cell_type": "markdown",
   "metadata": {},
   "source": [
    "Print the number associated to each cluster"
   ]
  },
  {
   "cell_type": "code",
   "execution_count": 230,
   "metadata": {},
   "outputs": [
    {
     "data": {
      "text/plain": [
       "array([2, 1, 0])"
      ]
     },
     "execution_count": 230,
     "metadata": {},
     "output_type": "execute_result"
    }
   ],
   "source": [
    "ar.cluster1.unique()"
   ]
  },
  {
   "cell_type": "markdown",
   "metadata": {},
   "source": [
    "Print the centroids"
   ]
  },
  {
   "cell_type": "code",
   "execution_count": 231,
   "metadata": {},
   "outputs": [
    {
     "data": {
      "text/plain": [
       "array([[-8.12717446,  4.94948863],\n",
       "       [ 6.97764807,  9.71900397],\n",
       "       [-1.5844676 ,  2.88069599]])"
      ]
     },
     "execution_count": 231,
     "metadata": {},
     "output_type": "execute_result"
    }
   ],
   "source": [
    "km.cluster_centers_"
   ]
  },
  {
   "cell_type": "markdown",
   "metadata": {},
   "source": [
    "Print the intertia metric"
   ]
  },
  {
   "cell_type": "code",
   "execution_count": 232,
   "metadata": {},
   "outputs": [
    {
     "data": {
      "text/plain": [
       "4552.791737216003"
      ]
     },
     "execution_count": 232,
     "metadata": {},
     "output_type": "execute_result"
    }
   ],
   "source": [
    "km.inertia_"
   ]
  },
  {
   "cell_type": "markdown",
   "metadata": {},
   "source": [
    "Plot a scatter plot of your data assigned to each cluster. Also plot the centroids"
   ]
  },
  {
   "cell_type": "code",
   "execution_count": 233,
   "metadata": {},
   "outputs": [
    {
     "data": {
      "image/png": "[encoded data removed]",
      "text/plain": [
       "<Figure size 432x288 with 1 Axes>"
      ]
     },
     "metadata": {
      "needs_background": "light"
     },
     "output_type": "display_data"
    }
   ],
   "source": [
    "ar1 = ar[ar.cluster1==0]\n",
    "ar2 = ar[ar.cluster1==1]\n",
    "ar3 = ar[ar.cluster1==2]\n",
    "\n",
    "\n",
    "plt.scatter(ar1.x1, ar1.x2)\n",
    "plt.scatter(ar2.x1, ar2.x2)\n",
    "plt.scatter(ar3.x1, ar3.x2)\n",
    "plt.scatter(km.cluster_centers_[:,0], km.cluster_centers_[:,1], color='r', marker='o', s=100)\n",
    "\n",
    "plt.title('x1 vs x2 cluster plot')\n",
    "plt.xlabel('x1')\n",
    "plt.ylabel('x2')\n",
    "\n",
    "plt.show()"
   ]
  },
  {
   "cell_type": "markdown",
   "metadata": {},
   "source": [
    "### Questions \n",
    "\n",
    "Provides a detailed description of your results\n",
    "\n",
    "Your response: Como podemos ver de manera analitica, es muy buena idea tener 3 clusters por la reparticion de los datos"
   ]
  },
  {
   "cell_type": "markdown",
   "metadata": {},
   "source": [
    "# A4 Elbow plot\n",
    "\n",
    "Compute the Elbow plot"
   ]
  },
  {
   "cell_type": "code",
   "execution_count": 234,
   "metadata": {},
   "outputs": [
    {
     "name": "stderr",
     "output_type": "stream",
     "text": [
      "C:\\Users\\manue\\anaconda3\\lib\\site-packages\\sklearn\\cluster\\_kmeans.py:881: UserWarning: KMeans is known to have a memory leak on Windows with MKL, when there are less chunks than available threads. You can avoid it by setting the environment variable OMP_NUM_THREADS=3.\n",
      "  warnings.warn(\n"
     ]
    }
   ],
   "source": [
    "sse = []\n",
    "k_rng = range(1, 10)\n",
    "\n",
    "for k in k_rng:\n",
    "    km = KMeans(n_clusters = k)\n",
    "    km.fit_predict(ar[['x1', 'x2']])\n",
    "    sse.append(km.inertia_)"
   ]
  },
  {
   "cell_type": "code",
   "execution_count": 235,
   "metadata": {},
   "outputs": [
    {
     "data": {
      "text/plain": [
       "Text(0, 0.5, 'SSE')"
      ]
     },
     "execution_count": 235,
     "metadata": {},
     "output_type": "execute_result"
    },
    {
     "data": {
      "image/png": "[encoded data removed]",
      "text/plain": [
       "<Figure size 432x288 with 1 Axes>"
      ]
     },
     "metadata": {
      "needs_background": "light"
     },
     "output_type": "display_data"
    }
   ],
   "source": [
    "plt.plot(k_rng, sse)\n",
    "\n",
    "plt.title('Elbow plot')\n",
    "plt.xlabel('K')\n",
    "plt.ylabel('SSE')\n"
   ]
  },
  {
   "cell_type": "markdown",
   "metadata": {},
   "source": [
    "### Questions \n",
    "\n",
    "What is the best number of clusters K? (argue your response)\n",
    "\n",
    "Your response: Por la manera de analizar para un humano, puede notar que hay claramente 3 clusters, con el metodo de elbow podemos notas que los puntos criticos estan entre 3 y 4, siendo estos dos la cantidad mas indicada de clusters\n",
    "\n",
    "\n",
    "Does this number of clusters agree with your inital guess? (argue your response)\n",
    "\n",
    "Your response: Tal vez desconcuerda en uno pero siento que igual es muy inidicado\n",
    "\n"
   ]
  },
  {
   "cell_type": "markdown",
   "metadata": {},
   "source": [
    "# A4 Normalizing the data: preprocessing using min max scaler\n"
   ]
  },
  {
   "cell_type": "markdown",
   "metadata": {},
   "source": [
    "Normalize the data using min max scaler"
   ]
  },
  {
   "cell_type": "code",
   "execution_count": 236,
   "metadata": {},
   "outputs": [],
   "source": [
    "scaler = MinMaxScaler()\n",
    "\n",
    "scaler.fit(ar[['x1']])\n",
    "ar['x1'] = scaler.transform(ar[['x1']])\n",
    "\n",
    "scaler.fit(ar[['x2']])\n",
    "ar['x2'] = scaler.transform(ar[['x2']])"
   ]
  },
  {
   "cell_type": "markdown",
   "metadata": {},
   "source": [
    "Print a statistical summary of your columns (normalized data)"
   ]
  },
  {
   "cell_type": "code",
   "execution_count": 237,
   "metadata": {},
   "outputs": [
    {
     "data": {
      "text/html": [
       "<div>\n",
       "<style scoped>\n",
       "    .dataframe tbody tr th:only-of-type {\n",
       "        vertical-align: middle;\n",
       "    }\n",
       "\n",
       "    .dataframe tbody tr th {\n",
       "        vertical-align: top;\n",
       "    }\n",
       "\n",
       "    .dataframe thead th {\n",
       "        text-align: right;\n",
       "    }\n",
       "</style>\n",
       "<table border=\"1\" class=\"dataframe\">\n",
       "  <thead>\n",
       "    <tr style=\"text-align: right;\">\n",
       "      <th></th>\n",
       "      <th>x1</th>\n",
       "      <th>x2</th>\n",
       "      <th>cluster1</th>\n",
       "    </tr>\n",
       "  </thead>\n",
       "  <tbody>\n",
       "    <tr>\n",
       "      <th>count</th>\n",
       "      <td>718.000000</td>\n",
       "      <td>718.000000</td>\n",
       "      <td>718.000000</td>\n",
       "    </tr>\n",
       "    <tr>\n",
       "      <th>mean</th>\n",
       "      <td>0.469550</td>\n",
       "      <td>0.435903</td>\n",
       "      <td>1.239554</td>\n",
       "    </tr>\n",
       "    <tr>\n",
       "      <th>std</th>\n",
       "      <td>0.241682</td>\n",
       "      <td>0.196450</td>\n",
       "      <td>0.832396</td>\n",
       "    </tr>\n",
       "    <tr>\n",
       "      <th>min</th>\n",
       "      <td>0.000000</td>\n",
       "      <td>0.000000</td>\n",
       "      <td>0.000000</td>\n",
       "    </tr>\n",
       "    <tr>\n",
       "      <th>25%</th>\n",
       "      <td>0.286566</td>\n",
       "      <td>0.285431</td>\n",
       "      <td>0.000000</td>\n",
       "    </tr>\n",
       "    <tr>\n",
       "      <th>50%</th>\n",
       "      <td>0.451458</td>\n",
       "      <td>0.413265</td>\n",
       "      <td>1.000000</td>\n",
       "    </tr>\n",
       "    <tr>\n",
       "      <th>75%</th>\n",
       "      <td>0.638346</td>\n",
       "      <td>0.573759</td>\n",
       "      <td>2.000000</td>\n",
       "    </tr>\n",
       "    <tr>\n",
       "      <th>max</th>\n",
       "      <td>1.000000</td>\n",
       "      <td>1.000000</td>\n",
       "      <td>2.000000</td>\n",
       "    </tr>\n",
       "  </tbody>\n",
       "</table>\n",
       "</div>"
      ],
      "text/plain": [
       "               x1          x2    cluster1\n",
       "count  718.000000  718.000000  718.000000\n",
       "mean     0.469550    0.435903    1.239554\n",
       "std      0.241682    0.196450    0.832396\n",
       "min      0.000000    0.000000    0.000000\n",
       "25%      0.286566    0.285431    0.000000\n",
       "50%      0.451458    0.413265    1.000000\n",
       "75%      0.638346    0.573759    2.000000\n",
       "max      1.000000    1.000000    2.000000"
      ]
     },
     "execution_count": 237,
     "metadata": {},
     "output_type": "execute_result"
    }
   ],
   "source": [
    "ar.describe()"
   ]
  },
  {
   "cell_type": "code",
   "execution_count": 238,
   "metadata": {},
   "outputs": [
    {
     "data": {
      "text/plain": [
       "x1          0.241682\n",
       "x2          0.196450\n",
       "cluster1    0.832396\n",
       "dtype: float64"
      ]
     },
     "execution_count": 238,
     "metadata": {},
     "output_type": "execute_result"
    }
   ],
   "source": [
    "# 1) What is the minumum and maximum values of each variable\n",
    "\n",
    "ar.min()\n",
    "ar.max()\n",
    "\n",
    "# 2) What is the mean and standar deviation of each variable\n",
    "\n",
    "ar.mean()\n",
    "ar.std()\n",
    "\n",
    "# 3) What the 25%, 50% and 75% represent?\n",
    "\n",
    "    #los datos en los puntos de interseccion si dividieramos los datos en 4 partes iguales\n",
    "\n",
    "# 4) Are the minimum and maximum values equal to your original data?\n",
    "\n",
    "    #No, porque aqui esta escalado\n",
    "\n"
   ]
  },
  {
   "cell_type": "markdown",
   "metadata": {},
   "source": [
    "Plot the scatter plot of your normalizaed data"
   ]
  },
  {
   "cell_type": "code",
   "execution_count": 239,
   "metadata": {},
   "outputs": [
    {
     "data": {
      "image/png": "[encoded data removed]",
      "text/plain": [
       "<Figure size 432x288 with 1 Axes>"
      ]
     },
     "metadata": {
      "needs_background": "light"
     },
     "output_type": "display_data"
    }
   ],
   "source": [
    "plt.scatter(ar.x1, ar.x2)\n",
    "plt.title('Normalized scatter plot of x1 vs x2')\n",
    "plt.xlabel('x1')\n",
    "plt.ylabel('x2')\n",
    "plt.show()"
   ]
  },
  {
   "cell_type": "markdown",
   "metadata": {},
   "source": [
    "Do Kmeans clustering assuming a number of clusters accorgind to your scatter plot"
   ]
  },
  {
   "cell_type": "code",
   "execution_count": 240,
   "metadata": {},
   "outputs": [
    {
     "data": {
      "text/plain": [
       "array([0, 0, 0, 0, 0, 0, 0, 0, 0, 1, 0, 1, 0, 0, 2, 1, 2, 1, 0, 0, 2, 0,\n",
       "       2, 0, 0, 2, 0, 0, 0, 1, 0, 0, 0, 2, 1, 0, 2, 0, 0, 0, 2, 0, 2, 0,\n",
       "       2, 2, 2, 0, 1, 1, 2, 0, 0, 1, 1, 1, 0, 2, 2, 1, 2, 0, 2, 0, 2, 1,\n",
       "       0, 0, 2, 0, 2, 1, 1, 2, 2, 0, 0, 0, 2, 0, 0, 0, 0, 0, 0, 1, 0, 0,\n",
       "       1, 0, 1, 2, 1, 2, 2, 0, 1, 1, 1, 0, 0, 0, 2, 0, 0, 0, 2, 0, 0, 1,\n",
       "       0, 1, 1, 2, 1, 1, 2, 2, 2, 0, 2, 2, 1, 0, 0, 2, 0, 2, 1, 2, 1, 0,\n",
       "       1, 1, 1, 2, 2, 2, 0, 0, 0, 1, 0, 0, 2, 0, 2, 1, 2, 2, 2, 2, 2, 2,\n",
       "       0, 2, 2, 0, 0, 1, 1, 0, 0, 0, 0, 1, 0, 0, 1, 0, 2, 1, 0, 2, 0, 0,\n",
       "       0, 0, 2, 0, 0, 2, 0, 0, 0, 2, 0, 1, 2, 0, 1, 2, 0, 0, 0, 1, 0, 1,\n",
       "       0, 1, 0, 2, 0, 0, 0, 0, 0, 2, 2, 0, 0, 0, 2, 0, 0, 0, 0, 0, 0, 0,\n",
       "       1, 2, 0, 2, 1, 2, 0, 1, 1, 1, 0, 0, 0, 0, 1, 2, 0, 2, 1, 1, 0, 0,\n",
       "       1, 1, 1, 2, 0, 2, 0, 1, 0, 0, 0, 0, 0, 0, 1, 0, 0, 2, 2, 0, 1, 2,\n",
       "       0, 1, 0, 0, 0, 1, 2, 2, 1, 1, 1, 0, 0, 1, 2, 0, 0, 1, 1, 1, 0, 2,\n",
       "       0, 2, 1, 0, 2, 1, 2, 0, 1, 2, 2, 0, 2, 0, 0, 0, 0, 1, 1, 0, 1, 2,\n",
       "       0, 0, 2, 2, 1, 2, 2, 1, 2, 0, 0, 0, 1, 0, 1, 2, 2, 1, 0, 2, 1, 1,\n",
       "       1, 2, 1, 1, 0, 2, 1, 1, 1, 0, 0, 0, 0, 0, 0, 0, 2, 2, 1, 2, 0, 0,\n",
       "       2, 2, 0, 0, 2, 0, 2, 2, 0, 0, 1, 0, 0, 2, 0, 0, 0, 2, 0, 0, 0, 0,\n",
       "       0, 0, 2, 2, 2, 1, 1, 0, 1, 2, 1, 0, 0, 0, 0, 0, 0, 2, 1, 0, 0, 0,\n",
       "       0, 1, 1, 0, 1, 2, 0, 1, 0, 1, 0, 0, 1, 2, 0, 1, 2, 0, 0, 2, 0, 0,\n",
       "       2, 0, 2, 2, 0, 0, 2, 1, 1, 0, 1, 1, 0, 1, 2, 0, 0, 0, 1, 1, 0, 0,\n",
       "       0, 1, 0, 0, 1, 2, 2, 0, 0, 2, 0, 1, 0, 0, 0, 1, 0, 0, 0, 0, 1, 0,\n",
       "       0, 2, 0, 0, 2, 1, 1, 0, 0, 2, 0, 1, 1, 0, 2, 1, 1, 1, 2, 0, 1, 0,\n",
       "       0, 1, 0, 0, 1, 0, 0, 1, 2, 2, 0, 0, 0, 0, 0, 2, 2, 2, 2, 1, 2, 0,\n",
       "       0, 2, 0, 2, 2, 0, 0, 2, 0, 1, 0, 0, 2, 2, 1, 0, 0, 0, 0, 0, 1, 0,\n",
       "       1, 0, 0, 2, 1, 0, 1, 0, 0, 0, 0, 0, 0, 2, 1, 0, 0, 2, 0, 2, 1, 0,\n",
       "       1, 0, 2, 1, 1, 0, 2, 0, 2, 1, 2, 0, 0, 1, 2, 0, 1, 0, 2, 1, 2, 0,\n",
       "       0, 1, 0, 1, 2, 0, 1, 0, 0, 1, 0, 2, 1, 0, 0, 0, 0, 0, 0, 2, 0, 0,\n",
       "       1, 1, 2, 1, 2, 2, 2, 1, 0, 2, 2, 1, 2, 1, 2, 1, 0, 0, 0, 0, 0, 0,\n",
       "       0, 2, 2, 0, 0, 0, 1, 0, 0, 1, 1, 1, 2, 2, 2, 0, 1, 2, 1, 0, 1, 2,\n",
       "       0, 2, 0, 0, 0, 1, 1, 1, 1, 0, 0, 0, 0, 0, 0, 0, 2, 2, 1, 0, 2, 1,\n",
       "       1, 1, 0, 2, 0, 1, 0, 2, 0, 0, 2, 1, 2, 0, 0, 2, 1, 0, 0, 2, 2, 0,\n",
       "       1, 0, 0, 0, 1, 0, 1, 0, 0, 0, 0, 1, 2, 0, 1, 1, 1, 0, 1, 1, 0, 1,\n",
       "       2, 0, 0, 1, 0, 0, 0, 2, 0, 2, 2, 2, 0, 0])"
      ]
     },
     "execution_count": 240,
     "metadata": {},
     "output_type": "execute_result"
    }
   ],
   "source": [
    "km = KMeans(n_clusters=3)\n",
    "\n",
    "clusters = km.fit_predict(ar[['x1', 'x2']])\n",
    "clusters"
   ]
  },
  {
   "cell_type": "markdown",
   "metadata": {},
   "source": [
    "Add to your dataset a column with the assihned cluster to each data point"
   ]
  },
  {
   "cell_type": "code",
   "execution_count": 241,
   "metadata": {},
   "outputs": [
    {
     "data": {
      "text/html": [
       "<div>\n",
       "<style scoped>\n",
       "    .dataframe tbody tr th:only-of-type {\n",
       "        vertical-align: middle;\n",
       "    }\n",
       "\n",
       "    .dataframe tbody tr th {\n",
       "        vertical-align: top;\n",
       "    }\n",
       "\n",
       "    .dataframe thead th {\n",
       "        text-align: right;\n",
       "    }\n",
       "</style>\n",
       "<table border=\"1\" class=\"dataframe\">\n",
       "  <thead>\n",
       "    <tr style=\"text-align: right;\">\n",
       "      <th></th>\n",
       "      <th>x1</th>\n",
       "      <th>x2</th>\n",
       "      <th>cluster1</th>\n",
       "      <th>cluster2</th>\n",
       "    </tr>\n",
       "  </thead>\n",
       "  <tbody>\n",
       "    <tr>\n",
       "      <th>0</th>\n",
       "      <td>0.454492</td>\n",
       "      <td>0.201269</td>\n",
       "      <td>2</td>\n",
       "      <td>0</td>\n",
       "    </tr>\n",
       "    <tr>\n",
       "      <th>1</th>\n",
       "      <td>0.441367</td>\n",
       "      <td>0.272788</td>\n",
       "      <td>2</td>\n",
       "      <td>0</td>\n",
       "    </tr>\n",
       "    <tr>\n",
       "      <th>2</th>\n",
       "      <td>0.539606</td>\n",
       "      <td>0.313038</td>\n",
       "      <td>2</td>\n",
       "      <td>0</td>\n",
       "    </tr>\n",
       "    <tr>\n",
       "      <th>3</th>\n",
       "      <td>0.322638</td>\n",
       "      <td>0.102616</td>\n",
       "      <td>2</td>\n",
       "      <td>0</td>\n",
       "    </tr>\n",
       "    <tr>\n",
       "      <th>4</th>\n",
       "      <td>0.562714</td>\n",
       "      <td>0.436942</td>\n",
       "      <td>2</td>\n",
       "      <td>0</td>\n",
       "    </tr>\n",
       "    <tr>\n",
       "      <th>...</th>\n",
       "      <td>...</td>\n",
       "      <td>...</td>\n",
       "      <td>...</td>\n",
       "      <td>...</td>\n",
       "    </tr>\n",
       "    <tr>\n",
       "      <th>713</th>\n",
       "      <td>0.207978</td>\n",
       "      <td>0.406024</td>\n",
       "      <td>0</td>\n",
       "      <td>2</td>\n",
       "    </tr>\n",
       "    <tr>\n",
       "      <th>714</th>\n",
       "      <td>0.085863</td>\n",
       "      <td>0.459552</td>\n",
       "      <td>0</td>\n",
       "      <td>2</td>\n",
       "    </tr>\n",
       "    <tr>\n",
       "      <th>715</th>\n",
       "      <td>0.204402</td>\n",
       "      <td>0.494262</td>\n",
       "      <td>0</td>\n",
       "      <td>2</td>\n",
       "    </tr>\n",
       "    <tr>\n",
       "      <th>716</th>\n",
       "      <td>0.411903</td>\n",
       "      <td>0.248852</td>\n",
       "      <td>2</td>\n",
       "      <td>0</td>\n",
       "    </tr>\n",
       "    <tr>\n",
       "      <th>717</th>\n",
       "      <td>0.455048</td>\n",
       "      <td>0.456512</td>\n",
       "      <td>2</td>\n",
       "      <td>0</td>\n",
       "    </tr>\n",
       "  </tbody>\n",
       "</table>\n",
       "<p>718 rows × 4 columns</p>\n",
       "</div>"
      ],
      "text/plain": [
       "           x1        x2  cluster1  cluster2\n",
       "0    0.454492  0.201269         2         0\n",
       "1    0.441367  0.272788         2         0\n",
       "2    0.539606  0.313038         2         0\n",
       "3    0.322638  0.102616         2         0\n",
       "4    0.562714  0.436942         2         0\n",
       "..        ...       ...       ...       ...\n",
       "713  0.207978  0.406024         0         2\n",
       "714  0.085863  0.459552         0         2\n",
       "715  0.204402  0.494262         0         2\n",
       "716  0.411903  0.248852         2         0\n",
       "717  0.455048  0.456512         2         0\n",
       "\n",
       "[718 rows x 4 columns]"
      ]
     },
     "execution_count": 241,
     "metadata": {},
     "output_type": "execute_result"
    }
   ],
   "source": [
    "ar[\"cluster2\"] = clusters\n",
    "\n",
    "ar"
   ]
  },
  {
   "cell_type": "markdown",
   "metadata": {},
   "source": [
    "Print the centroids"
   ]
  },
  {
   "cell_type": "code",
   "execution_count": 242,
   "metadata": {},
   "outputs": [
    {
     "data": {
      "text/plain": [
       "array([[0.44845109, 0.30395536],\n",
       "       [0.81435237, 0.70273095],\n",
       "       [0.16932994, 0.42723564]])"
      ]
     },
     "execution_count": 242,
     "metadata": {},
     "output_type": "execute_result"
    }
   ],
   "source": [
    "km.cluster_centers_"
   ]
  },
  {
   "cell_type": "markdown",
   "metadata": {},
   "source": [
    "Print the intetia metric"
   ]
  },
  {
   "cell_type": "code",
   "execution_count": 243,
   "metadata": {},
   "outputs": [
    {
     "data": {
      "text/plain": [
       "12.316928789216941"
      ]
     },
     "execution_count": 243,
     "metadata": {},
     "output_type": "execute_result"
    }
   ],
   "source": [
    "km.inertia_"
   ]
  },
  {
   "cell_type": "markdown",
   "metadata": {},
   "source": [
    "Plot a scatter plot of your data assigned to each cluster. Also plot the centroids"
   ]
  },
  {
   "cell_type": "code",
   "execution_count": 244,
   "metadata": {},
   "outputs": [
    {
     "data": {
      "image/png": "[encoded data removed]",
      "text/plain": [
       "<Figure size 432x288 with 1 Axes>"
      ]
     },
     "metadata": {
      "needs_background": "light"
     },
     "output_type": "display_data"
    }
   ],
   "source": [
    "ar1 = ar[ar.cluster2==0]\n",
    "ar2 = ar[ar.cluster2==1]\n",
    "ar3 = ar[ar.cluster2==2]\n",
    "\n",
    "plt.scatter(ar1.x1, ar1.x2)\n",
    "plt.scatter(ar2.x1, ar2.x2)\n",
    "plt.scatter(ar3.x1, ar3.x2)\n",
    "\n",
    "plt.scatter(km.cluster_centers_[:,0], km.cluster_centers_[:,1], color='r', marker='o', s=100)\n",
    "\n",
    "plt.title('x1 vs x2 cluster plot')\n",
    "plt.xlabel('x1')\n",
    "plt.ylabel('x2')\n",
    "\n",
    "plt.show()"
   ]
  },
  {
   "cell_type": "markdown",
   "metadata": {},
   "source": [
    "### Questions \n",
    "\n",
    "Provides a detailed description of your results. Does the normalization improves the clustering?\n",
    "\n",
    "Your response: Como tal no es una diferencia muy grande por la cantidad de datos, pero en otros casos seria mu y util y mas para analizar estos datos de una manera estadistica"
   ]
  },
  {
   "cell_type": "markdown",
   "metadata": {},
   "source": [
    "# Descipcion de tu percepcion del nivel de desarrollo de la subcompetencia \n",
    "\n",
    "### SING0202A Interpretación de variables\n"
   ]
  },
  {
   "cell_type": "markdown",
   "metadata": {},
   "source": [
    "Escribe tu description del nivel de logro del siguiente criterio de la subcompetencia\n",
    "\n",
    "**Interpreta interacciones**. Interpreta interacciones entre variables relevantes en un problema, como base para la construcción de modelos bivariados basados en datos de un fenómeno investigado que le permita reproducir la respuesta del mismo."
   ]
  },
  {
   "cell_type": "markdown",
   "metadata": {},
   "source": [
    "Tu respuesta: Creo que puedo comprender de una mejor panera estas cosas, por lo que siento que si me llevo algo bueno de sto"
   ]
  },
  {
   "cell_type": "markdown",
   "metadata": {},
   "source": [
    "Escribe tu description del nivel de logro del siguiente criterio de la subcompetencia\n",
    "\n",
    "**Construcción de modelos**. Es capaz de construir modelos bivariados que expliquen el comportamiento de un fenómeno."
   ]
  },
  {
   "cell_type": "markdown",
   "metadata": {},
   "source": [
    "Tu respuesta: de una forma basica podria, pero nada muy diferente a la distribucion de datos que me han dado"
   ]
  },
  {
   "cell_type": "code",
   "execution_count": null,
   "metadata": {},
   "outputs": [],
   "source": []
  }
 ],
 "metadata": {
  "kernelspec": {
   "display_name": "Python 3",
   "language": "python",
   "name": "python3"
  },
  "language_info": {
   "codemirror_mode": {
    "name": "ipython",
    "version": 3
   },
   "file_extension": ".py",
   "mimetype": "text/x-python",
   "name": "python",
   "nbconvert_exporter": "python",
   "pygments_lexer": "ipython3",
   "version": "3.8.8"
  }
 },
 "nbformat": 4,
 "nbformat_minor": 2
}
