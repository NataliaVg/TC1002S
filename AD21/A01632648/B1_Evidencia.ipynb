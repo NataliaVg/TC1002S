{
 "cells": [
  {
   "cell_type": "markdown",
   "source": [
    "# TC1002S Herramientas computacionales: el arte de la analítica\r\n",
    "\r\n",
    "This is a notebook with all your work for the final evidence of this course\r\n",
    "\r\n",
    "\r\n",
    "# Niveles de dominio a demostrar con la evidencia\r\n",
    "\r\n",
    "### SING0202A\r\n",
    "\r\n",
    "Interpreta interacciones entre variables relevantes en un problema, como base para la construcción de modelos bivariados basados en datos de un fenómeno investigado que le permita reproducir la respuesta del mismo. Es capaz de construir modelos bivariados que expliquen el comportamiento de un fenómeno.\r\n",
    "\r\n",
    "\r\n",
    "# Student information\r\n",
    "\r\n",
    "- Name: David Alejandro Velázquez Valdéz\r\n",
    "\r\n",
    "- ID: A01632648\r\n",
    "\r\n",
    "- My career: ITC\r\n"
   ],
   "metadata": {}
  },
  {
   "cell_type": "markdown",
   "source": [
    "# Importing libraries"
   ],
   "metadata": {}
  },
  {
   "cell_type": "code",
   "execution_count": 167,
   "source": [
    "import pandas as pd\r\n",
    "import seaborn as sns\r\n",
    "import matplotlib.pyplot as plt\r\n"
   ],
   "outputs": [],
   "metadata": {}
  },
  {
   "cell_type": "markdown",
   "source": [
    "# A1 Loa your dataset"
   ],
   "metadata": {}
  },
  {
   "cell_type": "code",
   "execution_count": 168,
   "source": [
    "url = \"A01632648.csv\"\r\n",
    "\r\n",
    "dataset = pd.read_csv(url, names = ['x1', 'x2'])"
   ],
   "outputs": [],
   "metadata": {}
  },
  {
   "cell_type": "markdown",
   "source": [
    "# A2 DataManagment\n"
   ],
   "metadata": {}
  },
  {
   "cell_type": "markdown",
   "source": [
    "Print the first 7 rows"
   ],
   "metadata": {}
  },
  {
   "cell_type": "code",
   "execution_count": 169,
   "source": [
    "dataset.head(7)"
   ],
   "outputs": [
    {
     "output_type": "execute_result",
     "data": {
      "text/html": [
       "<div>\n",
       "<style scoped>\n",
       "    .dataframe tbody tr th:only-of-type {\n",
       "        vertical-align: middle;\n",
       "    }\n",
       "\n",
       "    .dataframe tbody tr th {\n",
       "        vertical-align: top;\n",
       "    }\n",
       "\n",
       "    .dataframe thead th {\n",
       "        text-align: right;\n",
       "    }\n",
       "</style>\n",
       "<table border=\"1\" class=\"dataframe\">\n",
       "  <thead>\n",
       "    <tr style=\"text-align: right;\">\n",
       "      <th></th>\n",
       "      <th>x1</th>\n",
       "      <th>x2</th>\n",
       "    </tr>\n",
       "  </thead>\n",
       "  <tbody>\n",
       "    <tr>\n",
       "      <th>0</th>\n",
       "      <td>-5.099891</td>\n",
       "      <td>3.755917</td>\n",
       "    </tr>\n",
       "    <tr>\n",
       "      <th>1</th>\n",
       "      <td>-9.268323</td>\n",
       "      <td>-6.721304</td>\n",
       "    </tr>\n",
       "    <tr>\n",
       "      <th>2</th>\n",
       "      <td>-0.709315</td>\n",
       "      <td>7.467320</td>\n",
       "    </tr>\n",
       "    <tr>\n",
       "      <th>3</th>\n",
       "      <td>-10.851750</td>\n",
       "      <td>-9.188426</td>\n",
       "    </tr>\n",
       "    <tr>\n",
       "      <th>4</th>\n",
       "      <td>-2.387773</td>\n",
       "      <td>7.318766</td>\n",
       "    </tr>\n",
       "    <tr>\n",
       "      <th>5</th>\n",
       "      <td>-11.240833</td>\n",
       "      <td>-6.135312</td>\n",
       "    </tr>\n",
       "    <tr>\n",
       "      <th>6</th>\n",
       "      <td>-5.446805</td>\n",
       "      <td>11.179646</td>\n",
       "    </tr>\n",
       "  </tbody>\n",
       "</table>\n",
       "</div>"
      ],
      "text/plain": [
       "          x1         x2\n",
       "0  -5.099891   3.755917\n",
       "1  -9.268323  -6.721304\n",
       "2  -0.709315   7.467320\n",
       "3 -10.851750  -9.188426\n",
       "4  -2.387773   7.318766\n",
       "5 -11.240833  -6.135312\n",
       "6  -5.446805  11.179646"
      ]
     },
     "metadata": {},
     "execution_count": 169
    }
   ],
   "metadata": {}
  },
  {
   "cell_type": "markdown",
   "source": [
    "Print the first 4 last rows"
   ],
   "metadata": {}
  },
  {
   "cell_type": "code",
   "execution_count": 170,
   "source": [
    "dataset.tail(4)"
   ],
   "outputs": [
    {
     "output_type": "execute_result",
     "data": {
      "text/html": [
       "<div>\n",
       "<style scoped>\n",
       "    .dataframe tbody tr th:only-of-type {\n",
       "        vertical-align: middle;\n",
       "    }\n",
       "\n",
       "    .dataframe tbody tr th {\n",
       "        vertical-align: top;\n",
       "    }\n",
       "\n",
       "    .dataframe thead th {\n",
       "        text-align: right;\n",
       "    }\n",
       "</style>\n",
       "<table border=\"1\" class=\"dataframe\">\n",
       "  <thead>\n",
       "    <tr style=\"text-align: right;\">\n",
       "      <th></th>\n",
       "      <th>x1</th>\n",
       "      <th>x2</th>\n",
       "    </tr>\n",
       "  </thead>\n",
       "  <tbody>\n",
       "    <tr>\n",
       "      <th>644</th>\n",
       "      <td>-3.281589</td>\n",
       "      <td>3.387894</td>\n",
       "    </tr>\n",
       "    <tr>\n",
       "      <th>645</th>\n",
       "      <td>-9.176575</td>\n",
       "      <td>-7.836303</td>\n",
       "    </tr>\n",
       "    <tr>\n",
       "      <th>646</th>\n",
       "      <td>-9.260892</td>\n",
       "      <td>-10.210893</td>\n",
       "    </tr>\n",
       "    <tr>\n",
       "      <th>647</th>\n",
       "      <td>-7.551202</td>\n",
       "      <td>6.767406</td>\n",
       "    </tr>\n",
       "  </tbody>\n",
       "</table>\n",
       "</div>"
      ],
      "text/plain": [
       "           x1         x2\n",
       "644 -3.281589   3.387894\n",
       "645 -9.176575  -7.836303\n",
       "646 -9.260892 -10.210893\n",
       "647 -7.551202   6.767406"
      ]
     },
     "metadata": {},
     "execution_count": 170
    }
   ],
   "metadata": {}
  },
  {
   "cell_type": "markdown",
   "source": [
    "How many rows and columns are in your data?\n",
    "\n",
    "Use the `shape` method\n"
   ],
   "metadata": {}
  },
  {
   "cell_type": "code",
   "execution_count": 171,
   "source": [
    "dataset.shape"
   ],
   "outputs": [
    {
     "output_type": "execute_result",
     "data": {
      "text/plain": [
       "(648, 2)"
      ]
     },
     "metadata": {},
     "execution_count": 171
    }
   ],
   "metadata": {}
  },
  {
   "cell_type": "markdown",
   "source": [
    "Print the name of all columns \n",
    "\n",
    "Use the `columns` method"
   ],
   "metadata": {}
  },
  {
   "cell_type": "code",
   "execution_count": 172,
   "source": [
    "dataset.columns"
   ],
   "outputs": [
    {
     "output_type": "execute_result",
     "data": {
      "text/plain": [
       "Index(['x1', 'x2'], dtype='object')"
      ]
     },
     "metadata": {},
     "execution_count": 172
    }
   ],
   "metadata": {}
  },
  {
   "cell_type": "markdown",
   "source": [
    "What is the data type in each column\n",
    "\n",
    "Use the `dtypes` method "
   ],
   "metadata": {}
  },
  {
   "cell_type": "code",
   "execution_count": 173,
   "source": [
    "dataset.dtypes"
   ],
   "outputs": [
    {
     "output_type": "execute_result",
     "data": {
      "text/plain": [
       "x1    float64\n",
       "x2    float64\n",
       "dtype: object"
      ]
     },
     "metadata": {},
     "execution_count": 173
    }
   ],
   "metadata": {}
  },
  {
   "cell_type": "markdown",
   "source": [
    "What is the meaning of rows and columns?"
   ],
   "metadata": {}
  },
  {
   "cell_type": "code",
   "execution_count": 174,
   "source": [
    "# Your responses here\r\n",
    "\r\n",
    "# 1) Las filas son todos aquellas observaciones registradas, las cuales tienen informacion de las variables (columnas o variables que estan contenidas para llenar las observaciones)\r\n",
    "\r\n",
    "# 2) Las columnas son todas aquellas variables en las cuales estarán asignados los datos de cada una de las observaciones\r\n",
    "\r\n",
    "# 3) \r\n",
    "\r\n",
    "#..."
   ],
   "outputs": [],
   "metadata": {}
  },
  {
   "cell_type": "markdown",
   "source": [
    "Print a statistical summary of your columns\n"
   ],
   "metadata": {}
  },
  {
   "cell_type": "code",
   "execution_count": 175,
   "source": [
    "dataset.describe()"
   ],
   "outputs": [
    {
     "output_type": "execute_result",
     "data": {
      "text/html": [
       "<div>\n",
       "<style scoped>\n",
       "    .dataframe tbody tr th:only-of-type {\n",
       "        vertical-align: middle;\n",
       "    }\n",
       "\n",
       "    .dataframe tbody tr th {\n",
       "        vertical-align: top;\n",
       "    }\n",
       "\n",
       "    .dataframe thead th {\n",
       "        text-align: right;\n",
       "    }\n",
       "</style>\n",
       "<table border=\"1\" class=\"dataframe\">\n",
       "  <thead>\n",
       "    <tr style=\"text-align: right;\">\n",
       "      <th></th>\n",
       "      <th>x1</th>\n",
       "      <th>x2</th>\n",
       "    </tr>\n",
       "  </thead>\n",
       "  <tbody>\n",
       "    <tr>\n",
       "      <th>count</th>\n",
       "      <td>648.000000</td>\n",
       "      <td>648.000000</td>\n",
       "    </tr>\n",
       "    <tr>\n",
       "      <th>mean</th>\n",
       "      <td>-5.870998</td>\n",
       "      <td>2.542088</td>\n",
       "    </tr>\n",
       "    <tr>\n",
       "      <th>std</th>\n",
       "      <td>2.975661</td>\n",
       "      <td>6.270967</td>\n",
       "    </tr>\n",
       "    <tr>\n",
       "      <th>min</th>\n",
       "      <td>-12.058728</td>\n",
       "      <td>-11.724205</td>\n",
       "    </tr>\n",
       "    <tr>\n",
       "      <th>25%</th>\n",
       "      <td>-8.438387</td>\n",
       "      <td>-2.037340</td>\n",
       "    </tr>\n",
       "    <tr>\n",
       "      <th>50%</th>\n",
       "      <td>-6.004738</td>\n",
       "      <td>4.769570</td>\n",
       "    </tr>\n",
       "    <tr>\n",
       "      <th>75%</th>\n",
       "      <td>-3.352779</td>\n",
       "      <td>7.329963</td>\n",
       "    </tr>\n",
       "    <tr>\n",
       "      <th>max</th>\n",
       "      <td>1.865100</td>\n",
       "      <td>12.156145</td>\n",
       "    </tr>\n",
       "  </tbody>\n",
       "</table>\n",
       "</div>"
      ],
      "text/plain": [
       "               x1          x2\n",
       "count  648.000000  648.000000\n",
       "mean    -5.870998    2.542088\n",
       "std      2.975661    6.270967\n",
       "min    -12.058728  -11.724205\n",
       "25%     -8.438387   -2.037340\n",
       "50%     -6.004738    4.769570\n",
       "75%     -3.352779    7.329963\n",
       "max      1.865100   12.156145"
      ]
     },
     "metadata": {},
     "execution_count": 175
    }
   ],
   "metadata": {}
  },
  {
   "cell_type": "code",
   "execution_count": 176,
   "source": [
    "# 1) What is the minumum and maximum values of each variable\r\n",
    "\r\n",
    "# En la variable (columna) x1 el valor minimo es de -12.058728\r\n",
    "# En la variable (columna) x2 el valor minimo es de -11.724205\r\n",
    "\r\n",
    "# 2) What is the mean and standar deviation of each variable\r\n",
    "\r\n",
    "# En la variable (columna) x1 la media es de -5.870998 y la desviación estandar de 2.975661\r\n",
    "# En la variable (columna) x2 la media es de -2.542088 y la desviación estandar de 6.270967\r\n",
    "\r\n",
    "\r\n",
    "# 3) What the 25%, 50% and 75% represent?\r\n",
    "# Describen la distribución de los datos: 25% y 75% es el borde del cuarto superior / inferior de los datos\r\n",
    "# 50% es el valor que describe el medio de los datos, el cual es la mediana\r\n",
    "# en 25% x1 es -8.438387 y x2 es -2.037340\r\n",
    "# en 50% x1 es -6.004738 y x2 es 4.769570\r\n",
    "# en 75% x1 es -3.352779 y x2 es 7.329963\r\n"
   ],
   "outputs": [],
   "metadata": {}
  },
  {
   "cell_type": "markdown",
   "source": [
    "Rename the columns using the same name with capital letters"
   ],
   "metadata": {}
  },
  {
   "cell_type": "code",
   "execution_count": 177,
   "source": [
    "dataset.rename(columns={'x1': 'X1', 'x2': 'X2'}, inplace=True)\r\n",
    "dataset"
   ],
   "outputs": [
    {
     "output_type": "execute_result",
     "data": {
      "text/html": [
       "<div>\n",
       "<style scoped>\n",
       "    .dataframe tbody tr th:only-of-type {\n",
       "        vertical-align: middle;\n",
       "    }\n",
       "\n",
       "    .dataframe tbody tr th {\n",
       "        vertical-align: top;\n",
       "    }\n",
       "\n",
       "    .dataframe thead th {\n",
       "        text-align: right;\n",
       "    }\n",
       "</style>\n",
       "<table border=\"1\" class=\"dataframe\">\n",
       "  <thead>\n",
       "    <tr style=\"text-align: right;\">\n",
       "      <th></th>\n",
       "      <th>X1</th>\n",
       "      <th>X2</th>\n",
       "    </tr>\n",
       "  </thead>\n",
       "  <tbody>\n",
       "    <tr>\n",
       "      <th>0</th>\n",
       "      <td>-5.099891</td>\n",
       "      <td>3.755917</td>\n",
       "    </tr>\n",
       "    <tr>\n",
       "      <th>1</th>\n",
       "      <td>-9.268323</td>\n",
       "      <td>-6.721304</td>\n",
       "    </tr>\n",
       "    <tr>\n",
       "      <th>2</th>\n",
       "      <td>-0.709315</td>\n",
       "      <td>7.467320</td>\n",
       "    </tr>\n",
       "    <tr>\n",
       "      <th>3</th>\n",
       "      <td>-10.851750</td>\n",
       "      <td>-9.188426</td>\n",
       "    </tr>\n",
       "    <tr>\n",
       "      <th>4</th>\n",
       "      <td>-2.387773</td>\n",
       "      <td>7.318766</td>\n",
       "    </tr>\n",
       "    <tr>\n",
       "      <th>...</th>\n",
       "      <td>...</td>\n",
       "      <td>...</td>\n",
       "    </tr>\n",
       "    <tr>\n",
       "      <th>643</th>\n",
       "      <td>-3.106427</td>\n",
       "      <td>4.578136</td>\n",
       "    </tr>\n",
       "    <tr>\n",
       "      <th>644</th>\n",
       "      <td>-3.281589</td>\n",
       "      <td>3.387894</td>\n",
       "    </tr>\n",
       "    <tr>\n",
       "      <th>645</th>\n",
       "      <td>-9.176575</td>\n",
       "      <td>-7.836303</td>\n",
       "    </tr>\n",
       "    <tr>\n",
       "      <th>646</th>\n",
       "      <td>-9.260892</td>\n",
       "      <td>-10.210893</td>\n",
       "    </tr>\n",
       "    <tr>\n",
       "      <th>647</th>\n",
       "      <td>-7.551202</td>\n",
       "      <td>6.767406</td>\n",
       "    </tr>\n",
       "  </tbody>\n",
       "</table>\n",
       "<p>648 rows × 2 columns</p>\n",
       "</div>"
      ],
      "text/plain": [
       "            X1         X2\n",
       "0    -5.099891   3.755917\n",
       "1    -9.268323  -6.721304\n",
       "2    -0.709315   7.467320\n",
       "3   -10.851750  -9.188426\n",
       "4    -2.387773   7.318766\n",
       "..         ...        ...\n",
       "643  -3.106427   4.578136\n",
       "644  -3.281589   3.387894\n",
       "645  -9.176575  -7.836303\n",
       "646  -9.260892 -10.210893\n",
       "647  -7.551202   6.767406\n",
       "\n",
       "[648 rows x 2 columns]"
      ]
     },
     "metadata": {},
     "execution_count": 177
    }
   ],
   "metadata": {}
  },
  {
   "cell_type": "markdown",
   "source": [
    "Rename the columns to their original names"
   ],
   "metadata": {}
  },
  {
   "cell_type": "code",
   "execution_count": 178,
   "source": [
    "dataset.rename(columns={'X1': 'x1', 'X2': 'x2'}, inplace=True)\r\n",
    "dataset"
   ],
   "outputs": [
    {
     "output_type": "execute_result",
     "data": {
      "text/html": [
       "<div>\n",
       "<style scoped>\n",
       "    .dataframe tbody tr th:only-of-type {\n",
       "        vertical-align: middle;\n",
       "    }\n",
       "\n",
       "    .dataframe tbody tr th {\n",
       "        vertical-align: top;\n",
       "    }\n",
       "\n",
       "    .dataframe thead th {\n",
       "        text-align: right;\n",
       "    }\n",
       "</style>\n",
       "<table border=\"1\" class=\"dataframe\">\n",
       "  <thead>\n",
       "    <tr style=\"text-align: right;\">\n",
       "      <th></th>\n",
       "      <th>x1</th>\n",
       "      <th>x2</th>\n",
       "    </tr>\n",
       "  </thead>\n",
       "  <tbody>\n",
       "    <tr>\n",
       "      <th>0</th>\n",
       "      <td>-5.099891</td>\n",
       "      <td>3.755917</td>\n",
       "    </tr>\n",
       "    <tr>\n",
       "      <th>1</th>\n",
       "      <td>-9.268323</td>\n",
       "      <td>-6.721304</td>\n",
       "    </tr>\n",
       "    <tr>\n",
       "      <th>2</th>\n",
       "      <td>-0.709315</td>\n",
       "      <td>7.467320</td>\n",
       "    </tr>\n",
       "    <tr>\n",
       "      <th>3</th>\n",
       "      <td>-10.851750</td>\n",
       "      <td>-9.188426</td>\n",
       "    </tr>\n",
       "    <tr>\n",
       "      <th>4</th>\n",
       "      <td>-2.387773</td>\n",
       "      <td>7.318766</td>\n",
       "    </tr>\n",
       "    <tr>\n",
       "      <th>...</th>\n",
       "      <td>...</td>\n",
       "      <td>...</td>\n",
       "    </tr>\n",
       "    <tr>\n",
       "      <th>643</th>\n",
       "      <td>-3.106427</td>\n",
       "      <td>4.578136</td>\n",
       "    </tr>\n",
       "    <tr>\n",
       "      <th>644</th>\n",
       "      <td>-3.281589</td>\n",
       "      <td>3.387894</td>\n",
       "    </tr>\n",
       "    <tr>\n",
       "      <th>645</th>\n",
       "      <td>-9.176575</td>\n",
       "      <td>-7.836303</td>\n",
       "    </tr>\n",
       "    <tr>\n",
       "      <th>646</th>\n",
       "      <td>-9.260892</td>\n",
       "      <td>-10.210893</td>\n",
       "    </tr>\n",
       "    <tr>\n",
       "      <th>647</th>\n",
       "      <td>-7.551202</td>\n",
       "      <td>6.767406</td>\n",
       "    </tr>\n",
       "  </tbody>\n",
       "</table>\n",
       "<p>648 rows × 2 columns</p>\n",
       "</div>"
      ],
      "text/plain": [
       "            x1         x2\n",
       "0    -5.099891   3.755917\n",
       "1    -9.268323  -6.721304\n",
       "2    -0.709315   7.467320\n",
       "3   -10.851750  -9.188426\n",
       "4    -2.387773   7.318766\n",
       "..         ...        ...\n",
       "643  -3.106427   4.578136\n",
       "644  -3.281589   3.387894\n",
       "645  -9.176575  -7.836303\n",
       "646  -9.260892 -10.210893\n",
       "647  -7.551202   6.767406\n",
       "\n",
       "[648 rows x 2 columns]"
      ]
     },
     "metadata": {},
     "execution_count": 178
    }
   ],
   "metadata": {}
  },
  {
   "cell_type": "markdown",
   "source": [
    "Use two different alternatives to get one of the columns"
   ],
   "metadata": {}
  },
  {
   "cell_type": "code",
   "execution_count": 179,
   "source": [
    "dataset[\"x1\"]"
   ],
   "outputs": [
    {
     "output_type": "execute_result",
     "data": {
      "text/plain": [
       "0      -5.099891\n",
       "1      -9.268323\n",
       "2      -0.709315\n",
       "3     -10.851750\n",
       "4      -2.387773\n",
       "         ...    \n",
       "643    -3.106427\n",
       "644    -3.281589\n",
       "645    -9.176575\n",
       "646    -9.260892\n",
       "647    -7.551202\n",
       "Name: x1, Length: 648, dtype: float64"
      ]
     },
     "metadata": {},
     "execution_count": 179
    }
   ],
   "metadata": {}
  },
  {
   "cell_type": "code",
   "execution_count": 180,
   "source": [
    "dataset.loc[:, \"x2\"]"
   ],
   "outputs": [
    {
     "output_type": "execute_result",
     "data": {
      "text/plain": [
       "0       3.755917\n",
       "1      -6.721304\n",
       "2       7.467320\n",
       "3      -9.188426\n",
       "4       7.318766\n",
       "         ...    \n",
       "643     4.578136\n",
       "644     3.387894\n",
       "645    -7.836303\n",
       "646   -10.210893\n",
       "647     6.767406\n",
       "Name: x2, Length: 648, dtype: float64"
      ]
     },
     "metadata": {},
     "execution_count": 180
    }
   ],
   "metadata": {}
  },
  {
   "cell_type": "markdown",
   "source": [
    "Get a slice of your data set: second and thrid columns and rows from 62 to 72"
   ],
   "metadata": {}
  },
  {
   "cell_type": "code",
   "execution_count": 181,
   "source": [
    "dataset.iloc[62: 73]"
   ],
   "outputs": [
    {
     "output_type": "execute_result",
     "data": {
      "text/html": [
       "<div>\n",
       "<style scoped>\n",
       "    .dataframe tbody tr th:only-of-type {\n",
       "        vertical-align: middle;\n",
       "    }\n",
       "\n",
       "    .dataframe tbody tr th {\n",
       "        vertical-align: top;\n",
       "    }\n",
       "\n",
       "    .dataframe thead th {\n",
       "        text-align: right;\n",
       "    }\n",
       "</style>\n",
       "<table border=\"1\" class=\"dataframe\">\n",
       "  <thead>\n",
       "    <tr style=\"text-align: right;\">\n",
       "      <th></th>\n",
       "      <th>x1</th>\n",
       "      <th>x2</th>\n",
       "    </tr>\n",
       "  </thead>\n",
       "  <tbody>\n",
       "    <tr>\n",
       "      <th>62</th>\n",
       "      <td>-5.532129</td>\n",
       "      <td>5.782383</td>\n",
       "    </tr>\n",
       "    <tr>\n",
       "      <th>63</th>\n",
       "      <td>-2.979022</td>\n",
       "      <td>6.875714</td>\n",
       "    </tr>\n",
       "    <tr>\n",
       "      <th>64</th>\n",
       "      <td>-6.836199</td>\n",
       "      <td>9.304145</td>\n",
       "    </tr>\n",
       "    <tr>\n",
       "      <th>65</th>\n",
       "      <td>0.129243</td>\n",
       "      <td>7.055964</td>\n",
       "    </tr>\n",
       "    <tr>\n",
       "      <th>66</th>\n",
       "      <td>-4.760800</td>\n",
       "      <td>2.571723</td>\n",
       "    </tr>\n",
       "    <tr>\n",
       "      <th>67</th>\n",
       "      <td>-9.228801</td>\n",
       "      <td>-5.916831</td>\n",
       "    </tr>\n",
       "    <tr>\n",
       "      <th>68</th>\n",
       "      <td>-7.064893</td>\n",
       "      <td>2.440304</td>\n",
       "    </tr>\n",
       "    <tr>\n",
       "      <th>69</th>\n",
       "      <td>-4.727849</td>\n",
       "      <td>6.594380</td>\n",
       "    </tr>\n",
       "    <tr>\n",
       "      <th>70</th>\n",
       "      <td>-9.859026</td>\n",
       "      <td>-8.906460</td>\n",
       "    </tr>\n",
       "    <tr>\n",
       "      <th>71</th>\n",
       "      <td>-6.144640</td>\n",
       "      <td>1.308271</td>\n",
       "    </tr>\n",
       "    <tr>\n",
       "      <th>72</th>\n",
       "      <td>-7.895458</td>\n",
       "      <td>-7.010852</td>\n",
       "    </tr>\n",
       "  </tbody>\n",
       "</table>\n",
       "</div>"
      ],
      "text/plain": [
       "          x1        x2\n",
       "62 -5.532129  5.782383\n",
       "63 -2.979022  6.875714\n",
       "64 -6.836199  9.304145\n",
       "65  0.129243  7.055964\n",
       "66 -4.760800  2.571723\n",
       "67 -9.228801 -5.916831\n",
       "68 -7.064893  2.440304\n",
       "69 -4.727849  6.594380\n",
       "70 -9.859026 -8.906460\n",
       "71 -6.144640  1.308271\n",
       "72 -7.895458 -7.010852"
      ]
     },
     "metadata": {},
     "execution_count": 181
    }
   ],
   "metadata": {}
  },
  {
   "cell_type": "markdown",
   "source": [
    "For the second and thrid columns, calculate the number of null and not null values and verify that their sum equals the total number of rows"
   ],
   "metadata": {}
  },
  {
   "cell_type": "code",
   "execution_count": 182,
   "source": [
    "dataset.isnull().sum()"
   ],
   "outputs": [
    {
     "output_type": "execute_result",
     "data": {
      "text/plain": [
       "x1    0\n",
       "x2    0\n",
       "dtype: int64"
      ]
     },
     "metadata": {},
     "execution_count": 182
    }
   ],
   "metadata": {}
  },
  {
   "cell_type": "code",
   "execution_count": 183,
   "source": [
    "dataset.notnull().sum()"
   ],
   "outputs": [
    {
     "output_type": "execute_result",
     "data": {
      "text/plain": [
       "x1    648\n",
       "x2    648\n",
       "dtype: int64"
      ]
     },
     "metadata": {},
     "execution_count": 183
    }
   ],
   "metadata": {}
  },
  {
   "cell_type": "markdown",
   "source": [
    "Discard the first column\n"
   ],
   "metadata": {}
  },
  {
   "cell_type": "code",
   "execution_count": 184,
   "source": [
    "# No lo borro porque a mi ya me aparecen las x1 y x2, la otra columna adicional no la detecta\r\n",
    "# dataset.iloc[: , 1:]\r\n",
    "# dataset = dataset.iloc[: , 1:]\r\n",
    "\r\n",
    "dataset"
   ],
   "outputs": [
    {
     "output_type": "execute_result",
     "data": {
      "text/html": [
       "<div>\n",
       "<style scoped>\n",
       "    .dataframe tbody tr th:only-of-type {\n",
       "        vertical-align: middle;\n",
       "    }\n",
       "\n",
       "    .dataframe tbody tr th {\n",
       "        vertical-align: top;\n",
       "    }\n",
       "\n",
       "    .dataframe thead th {\n",
       "        text-align: right;\n",
       "    }\n",
       "</style>\n",
       "<table border=\"1\" class=\"dataframe\">\n",
       "  <thead>\n",
       "    <tr style=\"text-align: right;\">\n",
       "      <th></th>\n",
       "      <th>x1</th>\n",
       "      <th>x2</th>\n",
       "    </tr>\n",
       "  </thead>\n",
       "  <tbody>\n",
       "    <tr>\n",
       "      <th>0</th>\n",
       "      <td>-5.099891</td>\n",
       "      <td>3.755917</td>\n",
       "    </tr>\n",
       "    <tr>\n",
       "      <th>1</th>\n",
       "      <td>-9.268323</td>\n",
       "      <td>-6.721304</td>\n",
       "    </tr>\n",
       "    <tr>\n",
       "      <th>2</th>\n",
       "      <td>-0.709315</td>\n",
       "      <td>7.467320</td>\n",
       "    </tr>\n",
       "    <tr>\n",
       "      <th>3</th>\n",
       "      <td>-10.851750</td>\n",
       "      <td>-9.188426</td>\n",
       "    </tr>\n",
       "    <tr>\n",
       "      <th>4</th>\n",
       "      <td>-2.387773</td>\n",
       "      <td>7.318766</td>\n",
       "    </tr>\n",
       "    <tr>\n",
       "      <th>...</th>\n",
       "      <td>...</td>\n",
       "      <td>...</td>\n",
       "    </tr>\n",
       "    <tr>\n",
       "      <th>643</th>\n",
       "      <td>-3.106427</td>\n",
       "      <td>4.578136</td>\n",
       "    </tr>\n",
       "    <tr>\n",
       "      <th>644</th>\n",
       "      <td>-3.281589</td>\n",
       "      <td>3.387894</td>\n",
       "    </tr>\n",
       "    <tr>\n",
       "      <th>645</th>\n",
       "      <td>-9.176575</td>\n",
       "      <td>-7.836303</td>\n",
       "    </tr>\n",
       "    <tr>\n",
       "      <th>646</th>\n",
       "      <td>-9.260892</td>\n",
       "      <td>-10.210893</td>\n",
       "    </tr>\n",
       "    <tr>\n",
       "      <th>647</th>\n",
       "      <td>-7.551202</td>\n",
       "      <td>6.767406</td>\n",
       "    </tr>\n",
       "  </tbody>\n",
       "</table>\n",
       "<p>648 rows × 2 columns</p>\n",
       "</div>"
      ],
      "text/plain": [
       "            x1         x2\n",
       "0    -5.099891   3.755917\n",
       "1    -9.268323  -6.721304\n",
       "2    -0.709315   7.467320\n",
       "3   -10.851750  -9.188426\n",
       "4    -2.387773   7.318766\n",
       "..         ...        ...\n",
       "643  -3.106427   4.578136\n",
       "644  -3.281589   3.387894\n",
       "645  -9.176575  -7.836303\n",
       "646  -9.260892 -10.210893\n",
       "647  -7.551202   6.767406\n",
       "\n",
       "[648 rows x 2 columns]"
      ]
     },
     "metadata": {},
     "execution_count": 184
    }
   ],
   "metadata": {}
  },
  {
   "cell_type": "markdown",
   "source": [
    "### Questions \r\n",
    "\r\n",
    "Based on the previos reults, provide a description of yout dataset\r\n",
    "\r\n",
    "Your response:\r\n",
    "\r\n",
    "Todas las filas o observaciones contienen información ya que con la funcion de \r\n",
    "dataset.notnull().sum() todas las filas aparecen como no nulas, por lo tanto todas las \r\n",
    "filas con sus columnas tienen datos, habiendo 1296 datos registrados, de igual manera\r\n",
    "se puede manejar la tabla con todas las funciones utilizadas arriba y muchas otras más que nos permitan analizar la información.\r\n",
    "\r\n"
   ],
   "metadata": {}
  },
  {
   "cell_type": "markdown",
   "source": [
    "# A3 Data visualization"
   ],
   "metadata": {}
  },
  {
   "cell_type": "markdown",
   "source": [
    "Plot in the same figure the histogram of the two first two variables"
   ],
   "metadata": {}
  },
  {
   "cell_type": "code",
   "execution_count": 185,
   "source": [
    "dfhist = sns.distplot(dataset['x1'], kde = False)\r\n",
    "dfhist = sns.distplot(dataset['x2'], kde = False)\r\n",
    "dfhist.set_ylabel(\"data\")\r\n",
    "dfhist.set_xlabel(\"x1 - blue/ x2 - orange\")\r\n",
    "dfhist.set_title(\"x1 / x2\")\r\n",
    "plt.show()\r\n"
   ],
   "outputs": [
    {
     "output_type": "stream",
     "name": "stderr",
     "text": [
      "C:\\Users\\david\\AppData\\Local\\Programs\\Python\\Python38-32\\lib\\site-packages\\seaborn\\distributions.py:2619: FutureWarning: `distplot` is a deprecated function and will be removed in a future version. Please adapt your code to use either `displot` (a figure-level function with similar flexibility) or `histplot` (an axes-level function for histograms).\n",
      "  warnings.warn(msg, FutureWarning)\n"
     ]
    },
    {
     "output_type": "display_data",
     "data": {
      "image/png": "[encoded data removed]",
      "text/plain": [
       "<Figure size 432x288 with 1 Axes>"
      ]
     },
     "metadata": {
      "needs_background": "light"
     }
    }
   ],
   "metadata": {}
  },
  {
   "cell_type": "markdown",
   "source": [
    "Based on this two plots, provide a description of your data:\r\n",
    "\r\n",
    "Your response here:\r\n",
    "\r\n",
    "Se grafican las variables de x1 y x2 con sus valores registrados de manera graficada"
   ],
   "metadata": {}
  },
  {
   "cell_type": "markdown",
   "source": [
    "Plot in the same figure the boxplot of the two first two variables "
   ],
   "metadata": {}
  },
  {
   "cell_type": "code",
   "execution_count": 186,
   "source": [
    "flowersQuantitive = dataset.loc[:, ['x1', 'x2']]\r\n",
    "\r\n",
    "x2bp = sns.boxplot(data=flowersQuantitive, orient=\"h\")\r\n",
    "x2bp.set_xlabel(\"data\")\r\n",
    "x2bp.set_title(\"x1 / x2\")\r\n",
    "\r\n",
    "plt.show()"
   ],
   "outputs": [
    {
     "output_type": "display_data",
     "data": {
      "image/png": "[encoded data removed]",
      "text/plain": [
       "<Figure size 432x288 with 1 Axes>"
      ]
     },
     "metadata": {
      "needs_background": "light"
     }
    }
   ],
   "metadata": {}
  },
  {
   "cell_type": "markdown",
   "source": [
    "Scatter plot of the two first variables"
   ],
   "metadata": {}
  },
  {
   "cell_type": "code",
   "execution_count": 187,
   "source": [
    "plt.scatter(dataset.x1,dataset.x2, s=10)\r\n",
    "plt.title('x1 / x2', fontsize = 18)\r\n",
    "plt.xlabel('x1', fontsize=18)\r\n",
    "plt.ylabel('x2', fontsize=18)\r\n",
    "plt.show()"
   ],
   "outputs": [
    {
     "output_type": "display_data",
     "data": {
      "image/png": "[encoded data removed]",
      "text/plain": [
       "<Figure size 432x288 with 1 Axes>"
      ]
     },
     "metadata": {
      "needs_background": "light"
     }
    }
   ],
   "metadata": {}
  },
  {
   "cell_type": "markdown",
   "source": [
    "### Questions \r\n",
    "\r\n",
    "Based on the previos plots, provide a description of yout dataset\r\n",
    "\r\n",
    "Your response:\r\n",
    "\r\n",
    "En base a los datos o observaciones de las variables x1 y x2 se grafican todos los datos\r\n",
    "para poderlos tener de manera visual y facil en su manejo y clasificación de datos\r\n",
    "\r\n"
   ],
   "metadata": {}
  },
  {
   "cell_type": "markdown",
   "source": [
    "# A4 Kmeans"
   ],
   "metadata": {}
  },
  {
   "cell_type": "markdown",
   "source": [
    "Do Kmeans clustering assuming a number of clusters accorgind to your scatter plot"
   ],
   "metadata": {}
  },
  {
   "cell_type": "code",
   "execution_count": 188,
   "source": [
    "from sklearn.cluster import KMeans\r\n",
    "\r\n",
    "K = 2\r\n",
    "\r\n",
    "km = KMeans(n_clusters = K)\r\n",
    "\r\n",
    "clusters = km.fit_predict(dataset[['x1', 'x2']])\r\n",
    "\r\n",
    "clusters"
   ],
   "outputs": [
    {
     "output_type": "execute_result",
     "data": {
      "text/plain": [
       "array([0, 1, 0, 1, 0, 1, 0, 1, 0, 1, 1, 1, 0, 0, 0, 0, 0, 1, 0, 0, 0, 1,\n",
       "       1, 0, 0, 1, 0, 0, 0, 1, 1, 0, 0, 0, 1, 0, 0, 0, 0, 1, 1, 1, 0, 0,\n",
       "       0, 0, 0, 0, 0, 0, 0, 0, 0, 0, 0, 0, 0, 0, 0, 0, 0, 0, 0, 0, 0, 0,\n",
       "       0, 1, 0, 0, 1, 0, 1, 0, 1, 1, 0, 0, 1, 0, 0, 0, 0, 0, 0, 0, 0, 0,\n",
       "       0, 1, 0, 0, 0, 0, 1, 0, 0, 0, 0, 0, 0, 1, 0, 0, 0, 1, 1, 0, 1, 0,\n",
       "       0, 0, 0, 0, 0, 0, 0, 0, 0, 0, 0, 0, 0, 1, 0, 0, 0, 1, 0, 0, 0, 0,\n",
       "       1, 0, 0, 1, 0, 0, 0, 0, 1, 0, 0, 1, 0, 0, 0, 1, 0, 1, 0, 0, 0, 0,\n",
       "       0, 0, 0, 1, 0, 0, 0, 0, 1, 0, 1, 1, 1, 0, 1, 0, 0, 0, 0, 0, 1, 1,\n",
       "       0, 0, 1, 0, 0, 0, 0, 0, 0, 1, 0, 1, 1, 1, 0, 0, 0, 0, 0, 1, 0, 0,\n",
       "       1, 0, 0, 0, 0, 0, 1, 0, 0, 0, 0, 0, 0, 1, 0, 0, 1, 0, 1, 1, 1, 0,\n",
       "       0, 0, 0, 0, 1, 0, 1, 1, 0, 0, 0, 1, 0, 0, 0, 1, 0, 0, 1, 0, 0, 0,\n",
       "       0, 1, 0, 0, 0, 0, 0, 1, 0, 0, 0, 0, 0, 1, 0, 0, 0, 0, 1, 0, 0, 0,\n",
       "       0, 0, 0, 0, 0, 1, 0, 0, 1, 1, 0, 0, 0, 0, 0, 1, 1, 0, 0, 0, 1, 0,\n",
       "       0, 0, 1, 0, 0, 0, 1, 0, 1, 0, 0, 0, 0, 1, 0, 0, 0, 0, 0, 0, 1, 0,\n",
       "       0, 1, 0, 1, 1, 0, 0, 0, 0, 1, 0, 0, 0, 0, 0, 0, 0, 1, 1, 1, 0, 1,\n",
       "       0, 0, 0, 0, 0, 0, 0, 0, 0, 1, 0, 0, 0, 0, 0, 0, 1, 1, 0, 0, 0, 0,\n",
       "       1, 1, 0, 0, 0, 1, 0, 0, 0, 1, 1, 0, 1, 0, 1, 0, 0, 0, 0, 0, 0, 0,\n",
       "       0, 1, 0, 1, 0, 0, 0, 0, 0, 1, 1, 0, 0, 0, 1, 0, 0, 0, 0, 1, 0, 0,\n",
       "       0, 0, 0, 0, 1, 0, 0, 0, 0, 0, 0, 1, 0, 1, 0, 0, 0, 1, 0, 0, 0, 1,\n",
       "       0, 0, 1, 0, 0, 0, 1, 1, 1, 0, 0, 0, 0, 0, 0, 0, 0, 0, 0, 0, 0, 0,\n",
       "       0, 0, 0, 0, 0, 0, 0, 0, 1, 1, 0, 1, 0, 0, 1, 0, 1, 0, 0, 0, 0, 0,\n",
       "       0, 0, 0, 0, 0, 1, 0, 1, 0, 1, 0, 0, 1, 0, 0, 0, 1, 1, 0, 1, 0, 1,\n",
       "       0, 1, 0, 1, 1, 0, 0, 0, 1, 0, 0, 1, 1, 0, 0, 1, 0, 0, 0, 0, 0, 0,\n",
       "       0, 0, 0, 0, 0, 0, 0, 0, 0, 0, 1, 1, 1, 0, 0, 0, 0, 0, 0, 1, 1, 1,\n",
       "       0, 0, 0, 0, 0, 0, 1, 0, 1, 1, 0, 0, 1, 0, 1, 0, 0, 0, 0, 0, 0, 0,\n",
       "       0, 0, 0, 1, 1, 0, 1, 0, 0, 0, 0, 0, 0, 0, 0, 0, 0, 0, 0, 1, 0, 0,\n",
       "       0, 0, 0, 0, 0, 0, 0, 0, 1, 0, 0, 0, 0, 0, 1, 0, 0, 0, 0, 0, 1, 1,\n",
       "       0, 0, 0, 0, 0, 1, 0, 0, 0, 1, 0, 0, 1, 0, 0, 0, 0, 0, 0, 0, 0, 1,\n",
       "       0, 1, 1, 0, 0, 0, 1, 0, 0, 0, 0, 0, 0, 0, 0, 0, 0, 0, 0, 0, 0, 0,\n",
       "       0, 1, 0, 1, 0, 0, 0, 1, 1, 0])"
      ]
     },
     "metadata": {},
     "execution_count": 188
    }
   ],
   "metadata": {}
  },
  {
   "cell_type": "markdown",
   "source": [
    "Add to your dataset a column with the assihned cluster to each data point"
   ],
   "metadata": {}
  },
  {
   "cell_type": "code",
   "execution_count": 189,
   "source": [
    "dataset['cluster1'] = clusters\r\n",
    "\r\n",
    "dataset"
   ],
   "outputs": [
    {
     "output_type": "execute_result",
     "data": {
      "text/html": [
       "<div>\n",
       "<style scoped>\n",
       "    .dataframe tbody tr th:only-of-type {\n",
       "        vertical-align: middle;\n",
       "    }\n",
       "\n",
       "    .dataframe tbody tr th {\n",
       "        vertical-align: top;\n",
       "    }\n",
       "\n",
       "    .dataframe thead th {\n",
       "        text-align: right;\n",
       "    }\n",
       "</style>\n",
       "<table border=\"1\" class=\"dataframe\">\n",
       "  <thead>\n",
       "    <tr style=\"text-align: right;\">\n",
       "      <th></th>\n",
       "      <th>x1</th>\n",
       "      <th>x2</th>\n",
       "      <th>cluster1</th>\n",
       "    </tr>\n",
       "  </thead>\n",
       "  <tbody>\n",
       "    <tr>\n",
       "      <th>0</th>\n",
       "      <td>-5.099891</td>\n",
       "      <td>3.755917</td>\n",
       "      <td>0</td>\n",
       "    </tr>\n",
       "    <tr>\n",
       "      <th>1</th>\n",
       "      <td>-9.268323</td>\n",
       "      <td>-6.721304</td>\n",
       "      <td>1</td>\n",
       "    </tr>\n",
       "    <tr>\n",
       "      <th>2</th>\n",
       "      <td>-0.709315</td>\n",
       "      <td>7.467320</td>\n",
       "      <td>0</td>\n",
       "    </tr>\n",
       "    <tr>\n",
       "      <th>3</th>\n",
       "      <td>-10.851750</td>\n",
       "      <td>-9.188426</td>\n",
       "      <td>1</td>\n",
       "    </tr>\n",
       "    <tr>\n",
       "      <th>4</th>\n",
       "      <td>-2.387773</td>\n",
       "      <td>7.318766</td>\n",
       "      <td>0</td>\n",
       "    </tr>\n",
       "    <tr>\n",
       "      <th>...</th>\n",
       "      <td>...</td>\n",
       "      <td>...</td>\n",
       "      <td>...</td>\n",
       "    </tr>\n",
       "    <tr>\n",
       "      <th>643</th>\n",
       "      <td>-3.106427</td>\n",
       "      <td>4.578136</td>\n",
       "      <td>0</td>\n",
       "    </tr>\n",
       "    <tr>\n",
       "      <th>644</th>\n",
       "      <td>-3.281589</td>\n",
       "      <td>3.387894</td>\n",
       "      <td>0</td>\n",
       "    </tr>\n",
       "    <tr>\n",
       "      <th>645</th>\n",
       "      <td>-9.176575</td>\n",
       "      <td>-7.836303</td>\n",
       "      <td>1</td>\n",
       "    </tr>\n",
       "    <tr>\n",
       "      <th>646</th>\n",
       "      <td>-9.260892</td>\n",
       "      <td>-10.210893</td>\n",
       "      <td>1</td>\n",
       "    </tr>\n",
       "    <tr>\n",
       "      <th>647</th>\n",
       "      <td>-7.551202</td>\n",
       "      <td>6.767406</td>\n",
       "      <td>0</td>\n",
       "    </tr>\n",
       "  </tbody>\n",
       "</table>\n",
       "<p>648 rows × 3 columns</p>\n",
       "</div>"
      ],
      "text/plain": [
       "            x1         x2  cluster1\n",
       "0    -5.099891   3.755917         0\n",
       "1    -9.268323  -6.721304         1\n",
       "2    -0.709315   7.467320         0\n",
       "3   -10.851750  -9.188426         1\n",
       "4    -2.387773   7.318766         0\n",
       "..         ...        ...       ...\n",
       "643  -3.106427   4.578136         0\n",
       "644  -3.281589   3.387894         0\n",
       "645  -9.176575  -7.836303         1\n",
       "646  -9.260892 -10.210893         1\n",
       "647  -7.551202   6.767406         0\n",
       "\n",
       "[648 rows x 3 columns]"
      ]
     },
     "metadata": {},
     "execution_count": 189
    }
   ],
   "metadata": {}
  },
  {
   "cell_type": "markdown",
   "source": [
    "Print the number associated to each cluster"
   ],
   "metadata": {}
  },
  {
   "cell_type": "code",
   "execution_count": 190,
   "source": [
    "dataset.cluster1.unique()"
   ],
   "outputs": [
    {
     "output_type": "execute_result",
     "data": {
      "text/plain": [
       "array([0, 1])"
      ]
     },
     "metadata": {},
     "execution_count": 190
    }
   ],
   "metadata": {}
  },
  {
   "cell_type": "markdown",
   "source": [
    "Print the centroids"
   ],
   "metadata": {}
  },
  {
   "cell_type": "code",
   "execution_count": 191,
   "source": [
    "km.cluster_centers_"
   ],
   "outputs": [
    {
     "output_type": "execute_result",
     "data": {
      "text/plain": [
       "array([[-4.84663451,  5.86390318],\n",
       "       [-8.94408741, -7.42335932]])"
      ]
     },
     "metadata": {},
     "execution_count": 191
    }
   ],
   "metadata": {}
  },
  {
   "cell_type": "markdown",
   "source": [
    "Print the intertia metric"
   ],
   "metadata": {}
  },
  {
   "cell_type": "code",
   "execution_count": 192,
   "source": [
    "km.inertia_"
   ],
   "outputs": [
    {
     "output_type": "execute_result",
     "data": {
      "text/plain": [
       "7681.321676299445"
      ]
     },
     "metadata": {},
     "execution_count": 192
    }
   ],
   "metadata": {}
  },
  {
   "cell_type": "markdown",
   "source": [
    "Plot a scatter plot of your data assigned to each cluster. Also plot the centroids"
   ],
   "metadata": {}
  },
  {
   "cell_type": "code",
   "execution_count": 193,
   "source": [
    "df1 = dataset[dataset.cluster1==0]\r\n",
    "df2 = dataset[dataset.cluster1==1]\r\n",
    "\r\n",
    "plt.scatter(df1.x1, df1.x2, Label='x1')\r\n",
    "plt.scatter(df2.x1, df2.x2, Label='x2')\r\n",
    "\r\n",
    "plt.scatter(km.cluster_centers_[:,0], km.cluster_centers_[:,1], color='magenta', marker='*', label='Centroides', s=300)\r\n",
    "\r\n",
    "plt.title('x1 / x2')\r\n",
    "plt.xlabel('x1')\r\n",
    "plt.ylabel('x2')\r\n",
    "plt.legend()\r\n",
    "plt.show()"
   ],
   "outputs": [
    {
     "output_type": "stream",
     "name": "stderr",
     "text": [
      "C:\\Users\\david\\AppData\\Local\\Temp/ipykernel_32132/1378479215.py:4: MatplotlibDeprecationWarning: Case-insensitive properties were deprecated in 3.3 and support will be removed two minor releases later\n",
      "  plt.scatter(df1.x1, df1.x2, Label='x1')\n",
      "C:\\Users\\david\\AppData\\Local\\Temp/ipykernel_32132/1378479215.py:5: MatplotlibDeprecationWarning: Case-insensitive properties were deprecated in 3.3 and support will be removed two minor releases later\n",
      "  plt.scatter(df2.x1, df2.x2, Label='x2')\n"
     ]
    },
    {
     "output_type": "display_data",
     "data": {
      "image/png": "[encoded data removed]",
      "text/plain": [
       "<Figure size 432x288 with 1 Axes>"
      ]
     },
     "metadata": {
      "needs_background": "light"
     }
    }
   ],
   "metadata": {}
  },
  {
   "cell_type": "markdown",
   "source": [
    "### Questions \r\n",
    "\r\n",
    "Provides a detailed description of your results\r\n",
    "\r\n",
    "Your response:\r\n",
    "\r\n",
    "Al sacar los centroides, se imprimen todos los datos, clasificando los datos de x1 por un color y de x2 por otro color, junto con los centroides de los cuales se clasifican con cada uno de los datos"
   ],
   "metadata": {}
  },
  {
   "cell_type": "markdown",
   "source": [
    "# A4 Elbow plot\n",
    "\n",
    "Compute the Elbow plot"
   ],
   "metadata": {}
  },
  {
   "cell_type": "code",
   "execution_count": 194,
   "source": [
    "sse = []\r\n",
    "k_rng = range(1,10)\r\n",
    "for k in k_rng:\r\n",
    "    km = KMeans(n_clusters=k)\r\n",
    "    km.fit_predict(dataset[['x1','x2']])\r\n",
    "    sse.append(km.inertia_)"
   ],
   "outputs": [],
   "metadata": {}
  },
  {
   "cell_type": "code",
   "execution_count": 195,
   "source": [
    "plt.plot(k_rng,sse)\r\n",
    "\r\n",
    "plt.title('Elbow plot')\r\n",
    "plt.xlabel('K')\r\n",
    "plt.ylabel('Sum of squared error')\r\n",
    "plt.show()"
   ],
   "outputs": [
    {
     "output_type": "display_data",
     "data": {
      "image/png": "[encoded data removed]",
      "text/plain": [
       "<Figure size 432x288 with 1 Axes>"
      ]
     },
     "metadata": {
      "needs_background": "light"
     }
    }
   ],
   "metadata": {}
  },
  {
   "cell_type": "markdown",
   "source": [
    "### Questions \r\n",
    "\r\n",
    "What is the best number of clusters K? (argue your response)\r\n",
    "\r\n",
    "Your response:\r\n",
    "\r\n",
    "El numero de cluster recomendados es de 3, ya que es donde la pendiente cambia de manera radical, siendo que de 3 a 4 ya no es tan fuerte el cambio, por lo tanto 3 clusters es el ideal para graficar y asignar\r\n",
    "\r\n",
    "\r\n",
    "Does this number of clusters agree with your inital guess? (argue your response)\r\n",
    "\r\n",
    "Your response:\r\n",
    "\r\n",
    "No, al principio pense que eran 2 clusters, ya que como se tienen 2 variables asignadas para el manejo de los datos, para mi lo lógico eran 2 clusters para detectar por separado esas 2 variables y donde los datos pertenecen a cada variable, pero al parecer según el elbow plot, son 3 clusters para la clasificacion de los datos\r\n"
   ],
   "metadata": {}
  },
  {
   "cell_type": "markdown",
   "source": [
    "# A4 Normalizing the data: preprocessing using min max scaler\n"
   ],
   "metadata": {}
  },
  {
   "cell_type": "markdown",
   "source": [
    "Normalize the data using min max scaler"
   ],
   "metadata": {}
  },
  {
   "cell_type": "code",
   "execution_count": 196,
   "source": [
    "from sklearn.preprocessing import MinMaxScaler\r\n",
    "\r\n",
    "scaler = MinMaxScaler()\r\n",
    "\r\n",
    "scaler.fit(dataset[['x1']])\r\n",
    "dataset['x1'] = scaler.transform(dataset[['x1']])\r\n",
    "\r\n",
    "scaler.fit(dataset[['x2']])\r\n",
    "dataset['x2'] = scaler.transform(dataset[['x2']])\r\n",
    "\r\n",
    "dataset"
   ],
   "outputs": [
    {
     "output_type": "execute_result",
     "data": {
      "text/html": [
       "<div>\n",
       "<style scoped>\n",
       "    .dataframe tbody tr th:only-of-type {\n",
       "        vertical-align: middle;\n",
       "    }\n",
       "\n",
       "    .dataframe tbody tr th {\n",
       "        vertical-align: top;\n",
       "    }\n",
       "\n",
       "    .dataframe thead th {\n",
       "        text-align: right;\n",
       "    }\n",
       "</style>\n",
       "<table border=\"1\" class=\"dataframe\">\n",
       "  <thead>\n",
       "    <tr style=\"text-align: right;\">\n",
       "      <th></th>\n",
       "      <th>x1</th>\n",
       "      <th>x2</th>\n",
       "      <th>cluster1</th>\n",
       "    </tr>\n",
       "  </thead>\n",
       "  <tbody>\n",
       "    <tr>\n",
       "      <th>0</th>\n",
       "      <td>0.499779</td>\n",
       "      <td>0.648237</td>\n",
       "      <td>0</td>\n",
       "    </tr>\n",
       "    <tr>\n",
       "      <th>1</th>\n",
       "      <td>0.200405</td>\n",
       "      <td>0.209499</td>\n",
       "      <td>1</td>\n",
       "    </tr>\n",
       "    <tr>\n",
       "      <th>2</th>\n",
       "      <td>0.815107</td>\n",
       "      <td>0.803653</td>\n",
       "      <td>0</td>\n",
       "    </tr>\n",
       "    <tr>\n",
       "      <th>3</th>\n",
       "      <td>0.086684</td>\n",
       "      <td>0.106187</td>\n",
       "      <td>1</td>\n",
       "    </tr>\n",
       "    <tr>\n",
       "      <th>4</th>\n",
       "      <td>0.694562</td>\n",
       "      <td>0.797433</td>\n",
       "      <td>0</td>\n",
       "    </tr>\n",
       "    <tr>\n",
       "      <th>...</th>\n",
       "      <td>...</td>\n",
       "      <td>...</td>\n",
       "      <td>...</td>\n",
       "    </tr>\n",
       "    <tr>\n",
       "      <th>643</th>\n",
       "      <td>0.642948</td>\n",
       "      <td>0.682668</td>\n",
       "      <td>0</td>\n",
       "    </tr>\n",
       "    <tr>\n",
       "      <th>644</th>\n",
       "      <td>0.630368</td>\n",
       "      <td>0.632826</td>\n",
       "      <td>0</td>\n",
       "    </tr>\n",
       "    <tr>\n",
       "      <th>645</th>\n",
       "      <td>0.206994</td>\n",
       "      <td>0.162808</td>\n",
       "      <td>1</td>\n",
       "    </tr>\n",
       "    <tr>\n",
       "      <th>646</th>\n",
       "      <td>0.200939</td>\n",
       "      <td>0.063371</td>\n",
       "      <td>1</td>\n",
       "    </tr>\n",
       "    <tr>\n",
       "      <th>647</th>\n",
       "      <td>0.323728</td>\n",
       "      <td>0.774344</td>\n",
       "      <td>0</td>\n",
       "    </tr>\n",
       "  </tbody>\n",
       "</table>\n",
       "<p>648 rows × 3 columns</p>\n",
       "</div>"
      ],
      "text/plain": [
       "           x1        x2  cluster1\n",
       "0    0.499779  0.648237         0\n",
       "1    0.200405  0.209499         1\n",
       "2    0.815107  0.803653         0\n",
       "3    0.086684  0.106187         1\n",
       "4    0.694562  0.797433         0\n",
       "..        ...       ...       ...\n",
       "643  0.642948  0.682668         0\n",
       "644  0.630368  0.632826         0\n",
       "645  0.206994  0.162808         1\n",
       "646  0.200939  0.063371         1\n",
       "647  0.323728  0.774344         0\n",
       "\n",
       "[648 rows x 3 columns]"
      ]
     },
     "metadata": {},
     "execution_count": 196
    }
   ],
   "metadata": {}
  },
  {
   "cell_type": "markdown",
   "source": [
    "Print a statistical summary of your columns (normalized data)"
   ],
   "metadata": {}
  },
  {
   "cell_type": "code",
   "execution_count": 197,
   "source": [
    "dataset.describe()"
   ],
   "outputs": [
    {
     "output_type": "execute_result",
     "data": {
      "text/html": [
       "<div>\n",
       "<style scoped>\n",
       "    .dataframe tbody tr th:only-of-type {\n",
       "        vertical-align: middle;\n",
       "    }\n",
       "\n",
       "    .dataframe tbody tr th {\n",
       "        vertical-align: top;\n",
       "    }\n",
       "\n",
       "    .dataframe thead th {\n",
       "        text-align: right;\n",
       "    }\n",
       "</style>\n",
       "<table border=\"1\" class=\"dataframe\">\n",
       "  <thead>\n",
       "    <tr style=\"text-align: right;\">\n",
       "      <th></th>\n",
       "      <th>x1</th>\n",
       "      <th>x2</th>\n",
       "      <th>cluster1</th>\n",
       "    </tr>\n",
       "  </thead>\n",
       "  <tbody>\n",
       "    <tr>\n",
       "      <th>count</th>\n",
       "      <td>648.000000</td>\n",
       "      <td>648.000000</td>\n",
       "      <td>648.000000</td>\n",
       "    </tr>\n",
       "    <tr>\n",
       "      <th>mean</th>\n",
       "      <td>0.444399</td>\n",
       "      <td>0.597407</td>\n",
       "      <td>0.250000</td>\n",
       "    </tr>\n",
       "    <tr>\n",
       "      <th>std</th>\n",
       "      <td>0.213710</td>\n",
       "      <td>0.262599</td>\n",
       "      <td>0.433347</td>\n",
       "    </tr>\n",
       "    <tr>\n",
       "      <th>min</th>\n",
       "      <td>0.000000</td>\n",
       "      <td>0.000000</td>\n",
       "      <td>0.000000</td>\n",
       "    </tr>\n",
       "    <tr>\n",
       "      <th>25%</th>\n",
       "      <td>0.260010</td>\n",
       "      <td>0.405642</td>\n",
       "      <td>0.000000</td>\n",
       "    </tr>\n",
       "    <tr>\n",
       "      <th>50%</th>\n",
       "      <td>0.434793</td>\n",
       "      <td>0.690684</td>\n",
       "      <td>0.000000</td>\n",
       "    </tr>\n",
       "    <tr>\n",
       "      <th>75%</th>\n",
       "      <td>0.625255</td>\n",
       "      <td>0.797902</td>\n",
       "      <td>0.250000</td>\n",
       "    </tr>\n",
       "    <tr>\n",
       "      <th>max</th>\n",
       "      <td>1.000000</td>\n",
       "      <td>1.000000</td>\n",
       "      <td>1.000000</td>\n",
       "    </tr>\n",
       "  </tbody>\n",
       "</table>\n",
       "</div>"
      ],
      "text/plain": [
       "               x1          x2    cluster1\n",
       "count  648.000000  648.000000  648.000000\n",
       "mean     0.444399    0.597407    0.250000\n",
       "std      0.213710    0.262599    0.433347\n",
       "min      0.000000    0.000000    0.000000\n",
       "25%      0.260010    0.405642    0.000000\n",
       "50%      0.434793    0.690684    0.000000\n",
       "75%      0.625255    0.797902    0.250000\n",
       "max      1.000000    1.000000    1.000000"
      ]
     },
     "metadata": {},
     "execution_count": 197
    }
   ],
   "metadata": {}
  },
  {
   "cell_type": "code",
   "execution_count": 198,
   "source": [
    "# 1) What is the minumum and maximum values of each variable\r\n",
    "# para lo minimo x1 es 0, x2 es 0 y cluster1 es 0\r\n",
    "# para lo maximo x1 es 1, x2 es 1 y cluster1 es 1\r\n",
    "\r\n",
    "# 2) What is the mean and standar deviation of each variable\r\n",
    "# para mean x1 es 0.444399, x2 es 0.597407 y cluster1 es 0.250000\r\n",
    "# para standar deviation x1 es 0.213710, x2 es 0.262599 y cluster1 es 0.433347\r\n",
    "\r\n",
    "# 3) What the 25%, 50% and 75% represent?\r\n",
    "# Describen la distribución de los datos: 25% y 75% es el borde del cuarto superior / inferior de los datos\r\n",
    "# 50% es el valor que describe el medio de los datos, el cual es la mediana\r\n",
    "# en 25% x1 es 0.260010, x2 es 0.405642 y cluster1 es 0\r\n",
    "# en 50% x1 es 0.434793, x2 es 0.690684 y cluster1 es 0\r\n",
    "# en 75% x1 es 0.625255, x2 es 0.797902 y cluster1 es 0.250000\r\n",
    "\r\n",
    "# 4) Are the minimum and maximum values equal to your original data?\r\n",
    "# No, son diferentes, aqui aparece minimo con 0 y maximo con 1\r\n"
   ],
   "outputs": [],
   "metadata": {}
  },
  {
   "cell_type": "markdown",
   "source": [
    "Plot the scatter plot of your normalizaed data"
   ],
   "metadata": {}
  },
  {
   "cell_type": "code",
   "execution_count": 199,
   "source": [
    "plt.scatter(dataset.x1,dataset.x2)\r\n",
    "plt.title('x1 / x2')\r\n",
    "plt.xlabel('x1')\r\n",
    "plt.ylabel('x2')\r\n",
    "plt.show()"
   ],
   "outputs": [
    {
     "output_type": "display_data",
     "data": {
      "image/png": "[encoded data removed]",
      "text/plain": [
       "<Figure size 432x288 with 1 Axes>"
      ]
     },
     "metadata": {
      "needs_background": "light"
     }
    }
   ],
   "metadata": {}
  },
  {
   "cell_type": "markdown",
   "source": [
    "Do Kmeans clustering assuming a number of clusters accorgind to your scatter plot"
   ],
   "metadata": {}
  },
  {
   "cell_type": "code",
   "execution_count": 200,
   "source": [
    "# Initialize model and define number of clusters\r\n",
    "km = KMeans(n_clusters=3)\r\n",
    "\r\n",
    "# Do K-means clustering (assing each point in the dataset to a cluster)\r\n",
    "#yp = km.fit_predict(dataset)\r\n",
    "yp = km.fit_predict(dataset[['x1','x2']])\r\n",
    "\r\n",
    "# Print estimated cluster of each point in the dataser\r\n",
    "yp"
   ],
   "outputs": [
    {
     "output_type": "execute_result",
     "data": {
      "text/plain": [
       "array([2, 1, 2, 1, 2, 1, 0, 1, 2, 1, 1, 1, 2, 2, 2, 2, 0, 1, 0, 2, 2, 1,\n",
       "       1, 0, 0, 1, 0, 0, 0, 1, 1, 2, 2, 0, 1, 2, 0, 2, 2, 1, 1, 1, 0, 0,\n",
       "       0, 0, 0, 0, 2, 0, 2, 2, 2, 2, 0, 2, 2, 2, 2, 2, 2, 0, 0, 2, 0, 2,\n",
       "       2, 1, 0, 2, 1, 2, 1, 2, 1, 1, 2, 0, 1, 2, 2, 0, 2, 0, 2, 0, 2, 2,\n",
       "       0, 1, 2, 0, 0, 2, 1, 2, 2, 2, 2, 0, 0, 1, 0, 2, 2, 1, 1, 0, 1, 2,\n",
       "       2, 0, 2, 2, 2, 0, 2, 2, 2, 0, 2, 2, 0, 1, 0, 2, 0, 1, 2, 2, 2, 2,\n",
       "       1, 2, 0, 1, 2, 2, 2, 2, 1, 0, 2, 1, 2, 0, 0, 1, 2, 1, 0, 2, 2, 0,\n",
       "       0, 2, 2, 1, 0, 0, 2, 0, 1, 0, 1, 1, 1, 2, 1, 2, 2, 2, 2, 2, 1, 1,\n",
       "       0, 2, 1, 0, 2, 2, 2, 2, 2, 1, 2, 1, 1, 1, 0, 2, 2, 0, 0, 1, 0, 2,\n",
       "       1, 0, 2, 2, 2, 2, 1, 2, 2, 2, 2, 2, 2, 1, 0, 2, 1, 0, 1, 1, 1, 2,\n",
       "       0, 0, 0, 2, 1, 0, 1, 1, 2, 2, 2, 1, 2, 2, 2, 1, 0, 0, 1, 0, 0, 2,\n",
       "       2, 1, 0, 2, 2, 0, 0, 1, 2, 2, 2, 2, 2, 1, 2, 2, 2, 0, 1, 0, 0, 2,\n",
       "       0, 0, 2, 2, 0, 1, 2, 2, 1, 1, 2, 0, 2, 0, 2, 1, 1, 0, 0, 2, 1, 2,\n",
       "       0, 2, 1, 2, 2, 2, 1, 0, 1, 0, 2, 2, 0, 1, 2, 2, 2, 0, 2, 0, 1, 2,\n",
       "       2, 1, 0, 1, 1, 2, 0, 2, 2, 1, 0, 2, 2, 0, 2, 2, 2, 1, 1, 1, 2, 1,\n",
       "       0, 0, 2, 0, 2, 0, 2, 2, 0, 1, 2, 2, 2, 2, 2, 2, 1, 1, 2, 0, 0, 0,\n",
       "       1, 1, 2, 0, 0, 1, 2, 2, 2, 1, 1, 2, 1, 2, 1, 0, 2, 2, 2, 2, 0, 0,\n",
       "       2, 1, 0, 1, 2, 2, 2, 0, 2, 1, 1, 2, 0, 2, 1, 2, 2, 0, 2, 1, 0, 2,\n",
       "       2, 0, 2, 0, 1, 2, 2, 2, 0, 0, 2, 1, 2, 1, 2, 2, 2, 1, 0, 2, 2, 1,\n",
       "       2, 0, 1, 0, 2, 0, 1, 1, 1, 2, 0, 2, 2, 2, 2, 2, 0, 2, 2, 0, 0, 2,\n",
       "       2, 2, 0, 2, 2, 0, 0, 0, 1, 1, 2, 1, 2, 2, 1, 2, 1, 0, 2, 2, 2, 2,\n",
       "       2, 0, 2, 0, 2, 1, 2, 1, 0, 1, 0, 0, 1, 2, 0, 0, 1, 1, 0, 1, 2, 1,\n",
       "       2, 1, 0, 1, 1, 0, 2, 0, 1, 2, 2, 1, 1, 0, 0, 1, 2, 2, 0, 0, 2, 2,\n",
       "       0, 0, 0, 0, 2, 2, 0, 2, 2, 2, 1, 1, 1, 2, 2, 2, 2, 2, 2, 1, 1, 1,\n",
       "       2, 2, 0, 2, 2, 0, 1, 2, 1, 1, 0, 0, 1, 0, 1, 2, 0, 0, 0, 2, 2, 2,\n",
       "       2, 0, 2, 1, 1, 0, 1, 0, 0, 2, 0, 0, 0, 2, 0, 0, 2, 0, 0, 1, 2, 2,\n",
       "       0, 2, 0, 2, 2, 2, 2, 2, 1, 2, 0, 2, 0, 2, 1, 0, 2, 2, 0, 0, 1, 1,\n",
       "       2, 0, 0, 2, 2, 1, 2, 0, 2, 1, 2, 2, 1, 2, 2, 2, 0, 2, 2, 0, 0, 1,\n",
       "       0, 1, 1, 2, 2, 2, 1, 0, 2, 2, 0, 2, 2, 2, 2, 2, 2, 2, 2, 2, 2, 2,\n",
       "       2, 1, 2, 1, 0, 2, 2, 1, 1, 0])"
      ]
     },
     "metadata": {},
     "execution_count": 200
    }
   ],
   "metadata": {}
  },
  {
   "cell_type": "markdown",
   "source": [
    "Add to your dataset a column with the assihned cluster to each data point"
   ],
   "metadata": {}
  },
  {
   "cell_type": "code",
   "execution_count": 201,
   "source": [
    "dataset['cluster2'] = yp\r\n",
    "\r\n",
    "dataset"
   ],
   "outputs": [
    {
     "output_type": "execute_result",
     "data": {
      "text/html": [
       "<div>\n",
       "<style scoped>\n",
       "    .dataframe tbody tr th:only-of-type {\n",
       "        vertical-align: middle;\n",
       "    }\n",
       "\n",
       "    .dataframe tbody tr th {\n",
       "        vertical-align: top;\n",
       "    }\n",
       "\n",
       "    .dataframe thead th {\n",
       "        text-align: right;\n",
       "    }\n",
       "</style>\n",
       "<table border=\"1\" class=\"dataframe\">\n",
       "  <thead>\n",
       "    <tr style=\"text-align: right;\">\n",
       "      <th></th>\n",
       "      <th>x1</th>\n",
       "      <th>x2</th>\n",
       "      <th>cluster1</th>\n",
       "      <th>cluster2</th>\n",
       "    </tr>\n",
       "  </thead>\n",
       "  <tbody>\n",
       "    <tr>\n",
       "      <th>0</th>\n",
       "      <td>0.499779</td>\n",
       "      <td>0.648237</td>\n",
       "      <td>0</td>\n",
       "      <td>2</td>\n",
       "    </tr>\n",
       "    <tr>\n",
       "      <th>1</th>\n",
       "      <td>0.200405</td>\n",
       "      <td>0.209499</td>\n",
       "      <td>1</td>\n",
       "      <td>1</td>\n",
       "    </tr>\n",
       "    <tr>\n",
       "      <th>2</th>\n",
       "      <td>0.815107</td>\n",
       "      <td>0.803653</td>\n",
       "      <td>0</td>\n",
       "      <td>2</td>\n",
       "    </tr>\n",
       "    <tr>\n",
       "      <th>3</th>\n",
       "      <td>0.086684</td>\n",
       "      <td>0.106187</td>\n",
       "      <td>1</td>\n",
       "      <td>1</td>\n",
       "    </tr>\n",
       "    <tr>\n",
       "      <th>4</th>\n",
       "      <td>0.694562</td>\n",
       "      <td>0.797433</td>\n",
       "      <td>0</td>\n",
       "      <td>2</td>\n",
       "    </tr>\n",
       "    <tr>\n",
       "      <th>...</th>\n",
       "      <td>...</td>\n",
       "      <td>...</td>\n",
       "      <td>...</td>\n",
       "      <td>...</td>\n",
       "    </tr>\n",
       "    <tr>\n",
       "      <th>643</th>\n",
       "      <td>0.642948</td>\n",
       "      <td>0.682668</td>\n",
       "      <td>0</td>\n",
       "      <td>2</td>\n",
       "    </tr>\n",
       "    <tr>\n",
       "      <th>644</th>\n",
       "      <td>0.630368</td>\n",
       "      <td>0.632826</td>\n",
       "      <td>0</td>\n",
       "      <td>2</td>\n",
       "    </tr>\n",
       "    <tr>\n",
       "      <th>645</th>\n",
       "      <td>0.206994</td>\n",
       "      <td>0.162808</td>\n",
       "      <td>1</td>\n",
       "      <td>1</td>\n",
       "    </tr>\n",
       "    <tr>\n",
       "      <th>646</th>\n",
       "      <td>0.200939</td>\n",
       "      <td>0.063371</td>\n",
       "      <td>1</td>\n",
       "      <td>1</td>\n",
       "    </tr>\n",
       "    <tr>\n",
       "      <th>647</th>\n",
       "      <td>0.323728</td>\n",
       "      <td>0.774344</td>\n",
       "      <td>0</td>\n",
       "      <td>0</td>\n",
       "    </tr>\n",
       "  </tbody>\n",
       "</table>\n",
       "<p>648 rows × 4 columns</p>\n",
       "</div>"
      ],
      "text/plain": [
       "           x1        x2  cluster1  cluster2\n",
       "0    0.499779  0.648237         0         2\n",
       "1    0.200405  0.209499         1         1\n",
       "2    0.815107  0.803653         0         2\n",
       "3    0.086684  0.106187         1         1\n",
       "4    0.694562  0.797433         0         2\n",
       "..        ...       ...       ...       ...\n",
       "643  0.642948  0.682668         0         2\n",
       "644  0.630368  0.632826         0         2\n",
       "645  0.206994  0.162808         1         1\n",
       "646  0.200939  0.063371         1         1\n",
       "647  0.323728  0.774344         0         0\n",
       "\n",
       "[648 rows x 4 columns]"
      ]
     },
     "metadata": {},
     "execution_count": 201
    }
   ],
   "metadata": {}
  },
  {
   "cell_type": "markdown",
   "source": [
    "Print the centroids"
   ],
   "metadata": {}
  },
  {
   "cell_type": "code",
   "execution_count": 211,
   "source": [
    "km.cluster_centers_"
   ],
   "outputs": [
    {
     "output_type": "execute_result",
     "data": {
      "text/plain": [
       "array([[0.31924274, 0.81437043],\n",
       "       [0.2236914 , 0.18009978],\n",
       "       [0.63694122, 0.68989565]])"
      ]
     },
     "metadata": {},
     "execution_count": 211
    }
   ],
   "metadata": {}
  },
  {
   "cell_type": "markdown",
   "source": [
    "Print the intetia metric"
   ],
   "metadata": {}
  },
  {
   "cell_type": "code",
   "execution_count": 212,
   "source": [
    "km.inertia_"
   ],
   "outputs": [
    {
     "output_type": "execute_result",
     "data": {
      "text/plain": [
       "12.774340022744797"
      ]
     },
     "metadata": {},
     "execution_count": 212
    }
   ],
   "metadata": {}
  },
  {
   "cell_type": "markdown",
   "source": [
    "Plot a scatter plot of your data assigned to each cluster. Also plot the centroids"
   ],
   "metadata": {}
  },
  {
   "cell_type": "code",
   "execution_count": 214,
   "source": [
    "df1 = dataset[dataset.cluster2==0]\r\n",
    "df2 = dataset[dataset.cluster2==1]\r\n",
    "df3 = dataset[dataset.cluster2==2]\r\n",
    "\r\n",
    "plt.scatter(df1.x1, df1.x2, Label='group1')\r\n",
    "plt.scatter(df2.x1, df2.x2, Label='group2')\r\n",
    "plt.scatter(df3.x1, df3.x2, Label='group3')\r\n",
    "\r\n",
    "plt.scatter(km.cluster_centers_[:,0], km.cluster_centers_[:,1], color='magenta', marker='*', label='Centroides', s=300)\r\n",
    "\r\n",
    "plt.title('x1 / x2')\r\n",
    "plt.xlabel('x1')\r\n",
    "plt.ylabel('x2')\r\n",
    "plt.legend()\r\n",
    "plt.show()"
   ],
   "outputs": [
    {
     "output_type": "stream",
     "name": "stderr",
     "text": [
      "C:\\Users\\david\\AppData\\Local\\Temp/ipykernel_32132/3891661095.py:5: MatplotlibDeprecationWarning: Case-insensitive properties were deprecated in 3.3 and support will be removed two minor releases later\n",
      "  plt.scatter(df1.x1, df1.x2, Label='group1')\n",
      "C:\\Users\\david\\AppData\\Local\\Temp/ipykernel_32132/3891661095.py:6: MatplotlibDeprecationWarning: Case-insensitive properties were deprecated in 3.3 and support will be removed two minor releases later\n",
      "  plt.scatter(df2.x1, df2.x2, Label='group2')\n",
      "C:\\Users\\david\\AppData\\Local\\Temp/ipykernel_32132/3891661095.py:7: MatplotlibDeprecationWarning: Case-insensitive properties were deprecated in 3.3 and support will be removed two minor releases later\n",
      "  plt.scatter(df3.x1, df3.x2, Label='group3')\n"
     ]
    },
    {
     "output_type": "display_data",
     "data": {
      "image/png": "[encoded data removed]",
      "text/plain": [
       "<Figure size 432x288 with 1 Axes>"
      ]
     },
     "metadata": {
      "needs_background": "light"
     }
    }
   ],
   "metadata": {}
  },
  {
   "cell_type": "markdown",
   "source": [
    "### Questions \r\n",
    "\r\n",
    "Provides a detailed description of your results. Does the normalization improves the clustering?\r\n",
    "\r\n",
    "Your response:\r\n",
    "\r\n",
    "Si, ya que se clasifican en grupos los datos de las variables, lo cual se acomoda mediante los más comunes y se hace una clasificación mejor"
   ],
   "metadata": {}
  },
  {
   "cell_type": "markdown",
   "source": [
    "# BONUS"
   ],
   "metadata": {}
  },
  {
   "cell_type": "markdown",
   "source": [
    "1) Generate some data using the \"make_blobs\" function from \"sklearn.datasets\"\n",
    "\n",
    "- The number of observations is equal to the three last digits in your ID\n",
    "\n",
    "- 2 variables\n",
    "\n",
    "- 4 clusters\n",
    "\n",
    "- Standar deviation of each cluster of 1.5\n",
    "\n"
   ],
   "metadata": {}
  },
  {
   "cell_type": "code",
   "execution_count": null,
   "source": [],
   "outputs": [],
   "metadata": {}
  },
  {
   "cell_type": "markdown",
   "source": [
    "2) Plot the scatter plot of your data using the real cluster labels"
   ],
   "metadata": {}
  },
  {
   "cell_type": "code",
   "execution_count": null,
   "source": [],
   "outputs": [],
   "metadata": {}
  },
  {
   "cell_type": "markdown",
   "source": [
    "3) Do K means clustering "
   ],
   "metadata": {}
  },
  {
   "cell_type": "code",
   "execution_count": null,
   "source": [],
   "outputs": [],
   "metadata": {}
  },
  {
   "cell_type": "markdown",
   "source": [
    "4) Plot the scatter plot of your data using the estimated cluster labels"
   ],
   "metadata": {}
  },
  {
   "cell_type": "code",
   "execution_count": null,
   "source": [],
   "outputs": [],
   "metadata": {}
  },
  {
   "cell_type": "markdown",
   "source": [
    "### Questions \n",
    "\n",
    "Provides a detailed description of your results.\n",
    "\n",
    "Your response:"
   ],
   "metadata": {}
  },
  {
   "cell_type": "markdown",
   "source": [
    "# Descipcion de tu percepcion del nivel de desarrollo de la subcompetencia \n",
    "\n",
    "### SING0202A Interpretación de variables\n"
   ],
   "metadata": {}
  },
  {
   "cell_type": "markdown",
   "source": [
    "Escribe tu description del nivel de logro del siguiente criterio de la subcompetencia\n",
    "\n",
    "**Interpreta interacciones**. Interpreta interacciones entre variables relevantes en un problema, como base para la construcción de modelos bivariados basados en datos de un fenómeno investigado que le permita reproducir la respuesta del mismo."
   ],
   "metadata": {}
  },
  {
   "cell_type": "markdown",
   "source": [
    "Tu respuesta:\r\n",
    "\r\n",
    "Se logró ya que aprendimos a hacer el manejo de todos los datos de las variables existentes, se interpretan las interacciones que hay entre las variables de el problema y se construyeron gráficas y elementos visuales para poder visualizar los datos de una manera mejor y clasificar todos los datos en conjunto"
   ],
   "metadata": {}
  },
  {
   "cell_type": "markdown",
   "source": [
    "Escribe tu description del nivel de logro del siguiente criterio de la subcompetencia\n",
    "\n",
    "**Construcción de modelos**. Es capaz de construir modelos bivariados que expliquen el comportamiento de un fenómeno."
   ],
   "metadata": {}
  },
  {
   "cell_type": "markdown",
   "source": [
    "Tu respuesta:\r\n",
    "\r\n",
    "Si, ya que en base a todos los datos y variables que tenemos en cuenta, pude analizarlos de una manera en la cual mediante el manejo de graficas y machine learning, pude hacer clasificación de todos los datos en su mejor manera, pudiendo hacer todos los algoritmos que nos permitan manejar todos los datos existentes de una base de datos y representarlos y clasificarlos de una manera más eficiente y adecuada"
   ],
   "metadata": {}
  }
 ],
 "metadata": {
  "kernelspec": {
   "name": "python3",
   "display_name": "Python 3.8.5 32-bit"
  },
  "language_info": {
   "codemirror_mode": {
    "name": "ipython",
    "version": 3
   },
   "file_extension": ".py",
   "mimetype": "text/x-python",
   "name": "python",
   "nbconvert_exporter": "python",
   "pygments_lexer": "ipython3",
   "version": "3.8.5"
  },
  "interpreter": {
   "hash": "b74379f84d7abf481b8ca701507731bd42b1feea4fa8cfcb1a28eec2267c6830"
  }
 },
 "nbformat": 4,
 "nbformat_minor": 2
}