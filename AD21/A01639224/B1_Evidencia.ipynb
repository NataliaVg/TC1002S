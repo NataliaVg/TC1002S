{
 "cells": [
  {
   "cell_type": "markdown",
   "metadata": {},
   "source": [
    "# TC1002S Herramientas computacionales: el arte de la analítica\n",
    "\n",
    "This is a notebook for all your work for the final evidence of this course.\n",
    "\n",
    "# Niveles de dominio a demostrar con la evidencia\n",
    "\n",
    "### SING0202A\n",
    "\n",
    "Interpreta interacciones entre variables relevantes en un problema, como base para la construcción de modelos bivariados basados en datos de un fenómeno investigado que le permita reproducir la respuesta del mismo. Es capaz de construir modelos bivariados que expliquen el comportamiento de un fenómeno.\n",
    "\n",
    "# Student information\n",
    "\n",
    "- Name: Fausto Alejandro Palma Cervantes\n",
    "- ID: A01639224\n",
    "- My career: ITC"
   ]
  },
  {
   "cell_type": "markdown",
   "metadata": {},
   "source": [
    "# Importing libraries"
   ]
  },
  {
   "cell_type": "code",
   "execution_count": 900,
   "metadata": {},
   "outputs": [],
   "source": [
    "# Import the packages that we will be using\n",
    "import pandas as pd\n",
    "import matplotlib.pyplot as plt\n",
    "import numpy as np\n",
    "import seaborn as sns\n",
    "from sklearn.cluster import KMeans"
   ]
  },
  {
   "cell_type": "markdown",
   "metadata": {},
   "source": [
    "# A1 Load your dataset"
   ]
  },
  {
   "cell_type": "code",
   "execution_count": 901,
   "metadata": {},
   "outputs": [],
   "source": [
    "# url string that hosts our .csv file\n",
    "url = \"A01639224.csv\"\n",
    "\n",
    "# Read the .csv file, store it as a pandas Data Frame and set column names\n",
    "dataset = pd.read_csv(url)\n",
    "\n",
    "# Rename first column\n",
    "dataset = dataset.rename(columns={\"Unnamed: 0\": \"Index\"})"
   ]
  },
  {
   "cell_type": "markdown",
   "metadata": {},
   "source": [
    "# A2 Data Managment"
   ]
  },
  {
   "cell_type": "markdown",
   "metadata": {},
   "source": [
    "Print the first 7 rows"
   ]
  },
  {
   "cell_type": "code",
   "execution_count": 902,
   "metadata": {},
   "outputs": [
    {
     "data": {
      "text/html": [
       "<div>\n",
       "<style scoped>\n",
       "    .dataframe tbody tr th:only-of-type {\n",
       "        vertical-align: middle;\n",
       "    }\n",
       "\n",
       "    .dataframe tbody tr th {\n",
       "        vertical-align: top;\n",
       "    }\n",
       "\n",
       "    .dataframe thead th {\n",
       "        text-align: right;\n",
       "    }\n",
       "</style>\n",
       "<table border=\"1\" class=\"dataframe\">\n",
       "  <thead>\n",
       "    <tr style=\"text-align: right;\">\n",
       "      <th></th>\n",
       "      <th>Index</th>\n",
       "      <th>x1</th>\n",
       "      <th>x2</th>\n",
       "    </tr>\n",
       "  </thead>\n",
       "  <tbody>\n",
       "    <tr>\n",
       "      <th>0</th>\n",
       "      <td>0</td>\n",
       "      <td>-0.500283</td>\n",
       "      <td>-7.308327</td>\n",
       "    </tr>\n",
       "    <tr>\n",
       "      <th>1</th>\n",
       "      <td>1</td>\n",
       "      <td>-7.252604</td>\n",
       "      <td>3.049801</td>\n",
       "    </tr>\n",
       "    <tr>\n",
       "      <th>2</th>\n",
       "      <td>2</td>\n",
       "      <td>-4.121700</td>\n",
       "      <td>-8.795906</td>\n",
       "    </tr>\n",
       "    <tr>\n",
       "      <th>3</th>\n",
       "      <td>3</td>\n",
       "      <td>-2.962343</td>\n",
       "      <td>3.550907</td>\n",
       "    </tr>\n",
       "    <tr>\n",
       "      <th>4</th>\n",
       "      <td>4</td>\n",
       "      <td>-2.837079</td>\n",
       "      <td>-8.055468</td>\n",
       "    </tr>\n",
       "    <tr>\n",
       "      <th>5</th>\n",
       "      <td>5</td>\n",
       "      <td>-2.605676</td>\n",
       "      <td>2.422588</td>\n",
       "    </tr>\n",
       "    <tr>\n",
       "      <th>6</th>\n",
       "      <td>6</td>\n",
       "      <td>-7.602795</td>\n",
       "      <td>-0.600449</td>\n",
       "    </tr>\n",
       "  </tbody>\n",
       "</table>\n",
       "</div>"
      ],
      "text/plain": [
       "   Index        x1        x2\n",
       "0      0 -0.500283 -7.308327\n",
       "1      1 -7.252604  3.049801\n",
       "2      2 -4.121700 -8.795906\n",
       "3      3 -2.962343  3.550907\n",
       "4      4 -2.837079 -8.055468\n",
       "5      5 -2.605676  2.422588\n",
       "6      6 -7.602795 -0.600449"
      ]
     },
     "execution_count": 902,
     "metadata": {},
     "output_type": "execute_result"
    }
   ],
   "source": [
    "dataset.head(7)"
   ]
  },
  {
   "cell_type": "markdown",
   "metadata": {},
   "source": [
    "Print the first 4 last rows"
   ]
  },
  {
   "cell_type": "code",
   "execution_count": 903,
   "metadata": {},
   "outputs": [
    {
     "data": {
      "text/html": [
       "<div>\n",
       "<style scoped>\n",
       "    .dataframe tbody tr th:only-of-type {\n",
       "        vertical-align: middle;\n",
       "    }\n",
       "\n",
       "    .dataframe tbody tr th {\n",
       "        vertical-align: top;\n",
       "    }\n",
       "\n",
       "    .dataframe thead th {\n",
       "        text-align: right;\n",
       "    }\n",
       "</style>\n",
       "<table border=\"1\" class=\"dataframe\">\n",
       "  <thead>\n",
       "    <tr style=\"text-align: right;\">\n",
       "      <th></th>\n",
       "      <th>Index</th>\n",
       "      <th>x1</th>\n",
       "      <th>x2</th>\n",
       "    </tr>\n",
       "  </thead>\n",
       "  <tbody>\n",
       "    <tr>\n",
       "      <th>220</th>\n",
       "      <td>220</td>\n",
       "      <td>-6.142662</td>\n",
       "      <td>0.830078</td>\n",
       "    </tr>\n",
       "    <tr>\n",
       "      <th>221</th>\n",
       "      <td>221</td>\n",
       "      <td>-6.225056</td>\n",
       "      <td>1.072266</td>\n",
       "    </tr>\n",
       "    <tr>\n",
       "      <th>222</th>\n",
       "      <td>222</td>\n",
       "      <td>-2.350790</td>\n",
       "      <td>-8.653408</td>\n",
       "    </tr>\n",
       "    <tr>\n",
       "      <th>223</th>\n",
       "      <td>223</td>\n",
       "      <td>-1.414436</td>\n",
       "      <td>0.121872</td>\n",
       "    </tr>\n",
       "  </tbody>\n",
       "</table>\n",
       "</div>"
      ],
      "text/plain": [
       "     Index        x1        x2\n",
       "220    220 -6.142662  0.830078\n",
       "221    221 -6.225056  1.072266\n",
       "222    222 -2.350790 -8.653408\n",
       "223    223 -1.414436  0.121872"
      ]
     },
     "execution_count": 903,
     "metadata": {},
     "output_type": "execute_result"
    }
   ],
   "source": [
    "dataset.tail(4)"
   ]
  },
  {
   "cell_type": "markdown",
   "metadata": {},
   "source": [
    "How many rows and columns are in your data?\n",
    "\n",
    "Use the `shape` method"
   ]
  },
  {
   "cell_type": "code",
   "execution_count": 904,
   "metadata": {},
   "outputs": [
    {
     "data": {
      "text/plain": [
       "(224, 3)"
      ]
     },
     "execution_count": 904,
     "metadata": {},
     "output_type": "execute_result"
    }
   ],
   "source": [
    "dataset.shape"
   ]
  },
  {
   "cell_type": "markdown",
   "metadata": {},
   "source": [
    "Print the name of all columns \n",
    "\n",
    "Use the `columns` method"
   ]
  },
  {
   "cell_type": "code",
   "execution_count": 905,
   "metadata": {},
   "outputs": [
    {
     "data": {
      "text/plain": [
       "Index(['Index', 'x1', 'x2'], dtype='object')"
      ]
     },
     "execution_count": 905,
     "metadata": {},
     "output_type": "execute_result"
    }
   ],
   "source": [
    "dataset.columns"
   ]
  },
  {
   "cell_type": "markdown",
   "metadata": {},
   "source": [
    "What is the data type in each column\n",
    "\n",
    "Use the `dtypes` method "
   ]
  },
  {
   "cell_type": "code",
   "execution_count": 906,
   "metadata": {},
   "outputs": [
    {
     "data": {
      "text/plain": [
       "Index      int64\n",
       "x1       float64\n",
       "x2       float64\n",
       "dtype: object"
      ]
     },
     "execution_count": 906,
     "metadata": {},
     "output_type": "execute_result"
    }
   ],
   "source": [
    "dataset.dtypes"
   ]
  },
  {
   "cell_type": "markdown",
   "metadata": {},
   "source": [
    "## Questions\n",
    "\n",
    "### What is the meaning of rows and columns?\n",
    "\n",
    "1) Rows, also known in this case as indexes, are the horizontal lines of data in the Data Frame, meanwhile the columns are the vertical lines of the Data Frame.\n",
    "\n",
    "2) For this data in particular the columns represent the x1, x2 and index variables: out of which only x1 and x2 are quantiative. The rows on the other hand, represent the attributes of each of the individual data points."
   ]
  },
  {
   "cell_type": "markdown",
   "metadata": {},
   "source": [
    "Print a statistical summary of your columns"
   ]
  },
  {
   "cell_type": "code",
   "execution_count": 907,
   "metadata": {},
   "outputs": [
    {
     "data": {
      "text/html": [
       "<div>\n",
       "<style scoped>\n",
       "    .dataframe tbody tr th:only-of-type {\n",
       "        vertical-align: middle;\n",
       "    }\n",
       "\n",
       "    .dataframe tbody tr th {\n",
       "        vertical-align: top;\n",
       "    }\n",
       "\n",
       "    .dataframe thead th {\n",
       "        text-align: right;\n",
       "    }\n",
       "</style>\n",
       "<table border=\"1\" class=\"dataframe\">\n",
       "  <thead>\n",
       "    <tr style=\"text-align: right;\">\n",
       "      <th></th>\n",
       "      <th>Index</th>\n",
       "      <th>x1</th>\n",
       "      <th>x2</th>\n",
       "    </tr>\n",
       "  </thead>\n",
       "  <tbody>\n",
       "    <tr>\n",
       "      <th>count</th>\n",
       "      <td>224.000000</td>\n",
       "      <td>224.000000</td>\n",
       "      <td>224.000000</td>\n",
       "    </tr>\n",
       "    <tr>\n",
       "      <th>mean</th>\n",
       "      <td>111.500000</td>\n",
       "      <td>-1.035504</td>\n",
       "      <td>-3.537513</td>\n",
       "    </tr>\n",
       "    <tr>\n",
       "      <th>std</th>\n",
       "      <td>64.807407</td>\n",
       "      <td>6.208938</td>\n",
       "      <td>4.503862</td>\n",
       "    </tr>\n",
       "    <tr>\n",
       "      <th>min</th>\n",
       "      <td>0.000000</td>\n",
       "      <td>-10.691624</td>\n",
       "      <td>-13.467997</td>\n",
       "    </tr>\n",
       "    <tr>\n",
       "      <th>25%</th>\n",
       "      <td>55.750000</td>\n",
       "      <td>-5.274069</td>\n",
       "      <td>-7.714047</td>\n",
       "    </tr>\n",
       "    <tr>\n",
       "      <th>50%</th>\n",
       "      <td>111.500000</td>\n",
       "      <td>-3.069764</td>\n",
       "      <td>-3.482262</td>\n",
       "    </tr>\n",
       "    <tr>\n",
       "      <th>75%</th>\n",
       "      <td>167.250000</td>\n",
       "      <td>2.276204</td>\n",
       "      <td>0.483285</td>\n",
       "    </tr>\n",
       "    <tr>\n",
       "      <th>max</th>\n",
       "      <td>223.000000</td>\n",
       "      <td>13.182518</td>\n",
       "      <td>4.931413</td>\n",
       "    </tr>\n",
       "  </tbody>\n",
       "</table>\n",
       "</div>"
      ],
      "text/plain": [
       "            Index          x1          x2\n",
       "count  224.000000  224.000000  224.000000\n",
       "mean   111.500000   -1.035504   -3.537513\n",
       "std     64.807407    6.208938    4.503862\n",
       "min      0.000000  -10.691624  -13.467997\n",
       "25%     55.750000   -5.274069   -7.714047\n",
       "50%    111.500000   -3.069764   -3.482262\n",
       "75%    167.250000    2.276204    0.483285\n",
       "max    223.000000   13.182518    4.931413"
      ]
     },
     "execution_count": 907,
     "metadata": {},
     "output_type": "execute_result"
    }
   ],
   "source": [
    "dataset.describe()"
   ]
  },
  {
   "cell_type": "markdown",
   "metadata": {},
   "source": [
    "## Questions\n",
    "\n",
    "### 1) What is the minumum and maximum values of each variable\n",
    "    The minimum value of the x1 variable is -10.69, while the maximum value is 13.18. On the other hand, the minimum value of the x2 variable is -13.46, whereas the maximum value is 4.93.\n",
    "    \n",
    "### 2) What is the mean and standar deviation of each variable\n",
    "    The mean value of the x1 variable is -1.03 and the mean value of the x2 variable is -3.53. At the same time, the standard deviation of x1 is 6.20, whereas for x2 the standard deviation is 4.50.\n",
    "\n",
    "### 3) What do the 25%, 50% and 75% represent?\n",
    "    The percentages in the statistical summary represent the different percentiles of the data. This means that in each of those rows the value of the variable is greater than said percentage of values."
   ]
  },
  {
   "cell_type": "markdown",
   "metadata": {},
   "source": [
    "Rename the columns using the same names with capital letters"
   ]
  },
  {
   "cell_type": "code",
   "execution_count": 908,
   "metadata": {},
   "outputs": [
    {
     "data": {
      "text/html": [
       "<div>\n",
       "<style scoped>\n",
       "    .dataframe tbody tr th:only-of-type {\n",
       "        vertical-align: middle;\n",
       "    }\n",
       "\n",
       "    .dataframe tbody tr th {\n",
       "        vertical-align: top;\n",
       "    }\n",
       "\n",
       "    .dataframe thead th {\n",
       "        text-align: right;\n",
       "    }\n",
       "</style>\n",
       "<table border=\"1\" class=\"dataframe\">\n",
       "  <thead>\n",
       "    <tr style=\"text-align: right;\">\n",
       "      <th></th>\n",
       "      <th>INDEX</th>\n",
       "      <th>X1</th>\n",
       "      <th>X2</th>\n",
       "    </tr>\n",
       "  </thead>\n",
       "  <tbody>\n",
       "    <tr>\n",
       "      <th>0</th>\n",
       "      <td>0</td>\n",
       "      <td>-0.500283</td>\n",
       "      <td>-7.308327</td>\n",
       "    </tr>\n",
       "    <tr>\n",
       "      <th>1</th>\n",
       "      <td>1</td>\n",
       "      <td>-7.252604</td>\n",
       "      <td>3.049801</td>\n",
       "    </tr>\n",
       "    <tr>\n",
       "      <th>2</th>\n",
       "      <td>2</td>\n",
       "      <td>-4.121700</td>\n",
       "      <td>-8.795906</td>\n",
       "    </tr>\n",
       "    <tr>\n",
       "      <th>3</th>\n",
       "      <td>3</td>\n",
       "      <td>-2.962343</td>\n",
       "      <td>3.550907</td>\n",
       "    </tr>\n",
       "    <tr>\n",
       "      <th>4</th>\n",
       "      <td>4</td>\n",
       "      <td>-2.837079</td>\n",
       "      <td>-8.055468</td>\n",
       "    </tr>\n",
       "  </tbody>\n",
       "</table>\n",
       "</div>"
      ],
      "text/plain": [
       "   INDEX        X1        X2\n",
       "0      0 -0.500283 -7.308327\n",
       "1      1 -7.252604  3.049801\n",
       "2      2 -4.121700 -8.795906\n",
       "3      3 -2.962343  3.550907\n",
       "4      4 -2.837079 -8.055468"
      ]
     },
     "execution_count": 908,
     "metadata": {},
     "output_type": "execute_result"
    }
   ],
   "source": [
    "dataset = dataset.rename(columns={\"Index\": \"INDEX\", \"x1\": \"X1\", \"x2\": \"X2\"})\n",
    "\n",
    "dataset.head()"
   ]
  },
  {
   "cell_type": "markdown",
   "metadata": {},
   "source": [
    "Rename the columns to their original names"
   ]
  },
  {
   "cell_type": "code",
   "execution_count": 909,
   "metadata": {},
   "outputs": [
    {
     "data": {
      "text/html": [
       "<div>\n",
       "<style scoped>\n",
       "    .dataframe tbody tr th:only-of-type {\n",
       "        vertical-align: middle;\n",
       "    }\n",
       "\n",
       "    .dataframe tbody tr th {\n",
       "        vertical-align: top;\n",
       "    }\n",
       "\n",
       "    .dataframe thead th {\n",
       "        text-align: right;\n",
       "    }\n",
       "</style>\n",
       "<table border=\"1\" class=\"dataframe\">\n",
       "  <thead>\n",
       "    <tr style=\"text-align: right;\">\n",
       "      <th></th>\n",
       "      <th>Index</th>\n",
       "      <th>x1</th>\n",
       "      <th>x2</th>\n",
       "    </tr>\n",
       "  </thead>\n",
       "  <tbody>\n",
       "    <tr>\n",
       "      <th>0</th>\n",
       "      <td>0</td>\n",
       "      <td>-0.500283</td>\n",
       "      <td>-7.308327</td>\n",
       "    </tr>\n",
       "    <tr>\n",
       "      <th>1</th>\n",
       "      <td>1</td>\n",
       "      <td>-7.252604</td>\n",
       "      <td>3.049801</td>\n",
       "    </tr>\n",
       "    <tr>\n",
       "      <th>2</th>\n",
       "      <td>2</td>\n",
       "      <td>-4.121700</td>\n",
       "      <td>-8.795906</td>\n",
       "    </tr>\n",
       "    <tr>\n",
       "      <th>3</th>\n",
       "      <td>3</td>\n",
       "      <td>-2.962343</td>\n",
       "      <td>3.550907</td>\n",
       "    </tr>\n",
       "    <tr>\n",
       "      <th>4</th>\n",
       "      <td>4</td>\n",
       "      <td>-2.837079</td>\n",
       "      <td>-8.055468</td>\n",
       "    </tr>\n",
       "  </tbody>\n",
       "</table>\n",
       "</div>"
      ],
      "text/plain": [
       "   Index        x1        x2\n",
       "0      0 -0.500283 -7.308327\n",
       "1      1 -7.252604  3.049801\n",
       "2      2 -4.121700 -8.795906\n",
       "3      3 -2.962343  3.550907\n",
       "4      4 -2.837079 -8.055468"
      ]
     },
     "execution_count": 909,
     "metadata": {},
     "output_type": "execute_result"
    }
   ],
   "source": [
    "dataset = dataset.rename(columns={\"INDEX\": \"Index\", \"X1\": \"x1\", \"X2\": \"x2\"})\n",
    "\n",
    "dataset.head()"
   ]
  },
  {
   "cell_type": "markdown",
   "metadata": {},
   "source": [
    "Use two different alternatives to get one of the columns"
   ]
  },
  {
   "cell_type": "code",
   "execution_count": 910,
   "metadata": {},
   "outputs": [
    {
     "name": "stdout",
     "output_type": "stream",
     "text": [
      "0     -0.500283\n",
      "1     -7.252604\n",
      "2     -4.121700\n",
      "3     -2.962343\n",
      "4     -2.837079\n",
      "         ...   \n",
      "219   -2.587571\n",
      "220   -6.142662\n",
      "221   -6.225056\n",
      "222   -2.350790\n",
      "223   -1.414436\n",
      "Name: x1, Length: 224, dtype: float64\n",
      "\n",
      "0     -7.308327\n",
      "1      3.049801\n",
      "2     -8.795906\n",
      "3      3.550907\n",
      "4     -8.055468\n",
      "         ...   \n",
      "219   -3.083335\n",
      "220    0.830078\n",
      "221    1.072266\n",
      "222   -8.653408\n",
      "223    0.121872\n",
      "Name: x2, Length: 224, dtype: float64\n"
     ]
    }
   ],
   "source": [
    "a = dataset.x1\n",
    "b = dataset[\"x2\"]\n",
    "\n",
    "print(a, end='\\n\\n')\n",
    "print(b)"
   ]
  },
  {
   "cell_type": "markdown",
   "metadata": {},
   "source": [
    "Get the second and third columns in rows 62 to 72 (slice of the data set)"
   ]
  },
  {
   "cell_type": "code",
   "execution_count": 911,
   "metadata": {},
   "outputs": [
    {
     "data": {
      "text/html": [
       "<div>\n",
       "<style scoped>\n",
       "    .dataframe tbody tr th:only-of-type {\n",
       "        vertical-align: middle;\n",
       "    }\n",
       "\n",
       "    .dataframe tbody tr th {\n",
       "        vertical-align: top;\n",
       "    }\n",
       "\n",
       "    .dataframe thead th {\n",
       "        text-align: right;\n",
       "    }\n",
       "</style>\n",
       "<table border=\"1\" class=\"dataframe\">\n",
       "  <thead>\n",
       "    <tr style=\"text-align: right;\">\n",
       "      <th></th>\n",
       "      <th>x1</th>\n",
       "      <th>x2</th>\n",
       "    </tr>\n",
       "  </thead>\n",
       "  <tbody>\n",
       "    <tr>\n",
       "      <th>62</th>\n",
       "      <td>-5.659232</td>\n",
       "      <td>0.164379</td>\n",
       "    </tr>\n",
       "    <tr>\n",
       "      <th>63</th>\n",
       "      <td>-6.942446</td>\n",
       "      <td>-0.632737</td>\n",
       "    </tr>\n",
       "    <tr>\n",
       "      <th>64</th>\n",
       "      <td>9.120266</td>\n",
       "      <td>-5.668132</td>\n",
       "    </tr>\n",
       "    <tr>\n",
       "      <th>65</th>\n",
       "      <td>-2.921856</td>\n",
       "      <td>0.543256</td>\n",
       "    </tr>\n",
       "    <tr>\n",
       "      <th>66</th>\n",
       "      <td>-3.736895</td>\n",
       "      <td>-2.273532</td>\n",
       "    </tr>\n",
       "    <tr>\n",
       "      <th>67</th>\n",
       "      <td>-3.146570</td>\n",
       "      <td>-8.792103</td>\n",
       "    </tr>\n",
       "    <tr>\n",
       "      <th>68</th>\n",
       "      <td>-7.698726</td>\n",
       "      <td>2.318641</td>\n",
       "    </tr>\n",
       "    <tr>\n",
       "      <th>69</th>\n",
       "      <td>-2.190783</td>\n",
       "      <td>-6.884594</td>\n",
       "    </tr>\n",
       "    <tr>\n",
       "      <th>70</th>\n",
       "      <td>-9.103135</td>\n",
       "      <td>0.316579</td>\n",
       "    </tr>\n",
       "    <tr>\n",
       "      <th>71</th>\n",
       "      <td>-1.119237</td>\n",
       "      <td>-9.244213</td>\n",
       "    </tr>\n",
       "    <tr>\n",
       "      <th>72</th>\n",
       "      <td>9.106054</td>\n",
       "      <td>-5.592746</td>\n",
       "    </tr>\n",
       "  </tbody>\n",
       "</table>\n",
       "</div>"
      ],
      "text/plain": [
       "          x1        x2\n",
       "62 -5.659232  0.164379\n",
       "63 -6.942446 -0.632737\n",
       "64  9.120266 -5.668132\n",
       "65 -2.921856  0.543256\n",
       "66 -3.736895 -2.273532\n",
       "67 -3.146570 -8.792103\n",
       "68 -7.698726  2.318641\n",
       "69 -2.190783 -6.884594\n",
       "70 -9.103135  0.316579\n",
       "71 -1.119237 -9.244213\n",
       "72  9.106054 -5.592746"
      ]
     },
     "execution_count": 911,
     "metadata": {},
     "output_type": "execute_result"
    }
   ],
   "source": [
    "dataset.loc[62:72, [\"x1\", \"x2\"]]"
   ]
  },
  {
   "cell_type": "markdown",
   "metadata": {},
   "source": [
    "For the second and third columns, calculate the number of null and not null values and verify that their sums equal the total number of rows"
   ]
  },
  {
   "cell_type": "code",
   "execution_count": 912,
   "metadata": {},
   "outputs": [
    {
     "name": "stdout",
     "output_type": "stream",
     "text": [
      "Null x1 values: 0\n",
      "Not null x1 values: 224\n",
      "Total x1 values: 224\n"
     ]
    }
   ],
   "source": [
    "print(\"Null x1 values:\", pd.isnull(dataset.x1).sum())\n",
    "print(\"Not null x1 values:\", dataset.x1.notnull().sum())\n",
    "print(\"Total x1 values:\", (pd.isnull(dataset.x1).sum() + dataset.x1.notnull().sum()))"
   ]
  },
  {
   "cell_type": "code",
   "execution_count": 913,
   "metadata": {},
   "outputs": [
    {
     "name": "stdout",
     "output_type": "stream",
     "text": [
      "\n",
      "Null x2 values: 0\n",
      "Not null x2 values: 224\n",
      "Total x2 values: 224\n"
     ]
    }
   ],
   "source": [
    "print(\"\\nNull x2 values:\", pd.isnull(dataset.x2).sum())\n",
    "print(\"Not null x2 values:\", dataset.x2.notnull().sum())\n",
    "print(\"Total x2 values:\", (pd.isnull(dataset.x2).sum() + dataset.x2.notnull().sum()))"
   ]
  },
  {
   "cell_type": "markdown",
   "metadata": {},
   "source": [
    "Discard the first column"
   ]
  },
  {
   "cell_type": "code",
   "execution_count": 914,
   "metadata": {},
   "outputs": [
    {
     "data": {
      "text/html": [
       "<div>\n",
       "<style scoped>\n",
       "    .dataframe tbody tr th:only-of-type {\n",
       "        vertical-align: middle;\n",
       "    }\n",
       "\n",
       "    .dataframe tbody tr th {\n",
       "        vertical-align: top;\n",
       "    }\n",
       "\n",
       "    .dataframe thead th {\n",
       "        text-align: right;\n",
       "    }\n",
       "</style>\n",
       "<table border=\"1\" class=\"dataframe\">\n",
       "  <thead>\n",
       "    <tr style=\"text-align: right;\">\n",
       "      <th></th>\n",
       "      <th>x1</th>\n",
       "      <th>x2</th>\n",
       "    </tr>\n",
       "  </thead>\n",
       "  <tbody>\n",
       "    <tr>\n",
       "      <th>0</th>\n",
       "      <td>-0.500283</td>\n",
       "      <td>-7.308327</td>\n",
       "    </tr>\n",
       "    <tr>\n",
       "      <th>1</th>\n",
       "      <td>-7.252604</td>\n",
       "      <td>3.049801</td>\n",
       "    </tr>\n",
       "    <tr>\n",
       "      <th>2</th>\n",
       "      <td>-4.121700</td>\n",
       "      <td>-8.795906</td>\n",
       "    </tr>\n",
       "    <tr>\n",
       "      <th>3</th>\n",
       "      <td>-2.962343</td>\n",
       "      <td>3.550907</td>\n",
       "    </tr>\n",
       "    <tr>\n",
       "      <th>4</th>\n",
       "      <td>-2.837079</td>\n",
       "      <td>-8.055468</td>\n",
       "    </tr>\n",
       "    <tr>\n",
       "      <th>...</th>\n",
       "      <td>...</td>\n",
       "      <td>...</td>\n",
       "    </tr>\n",
       "    <tr>\n",
       "      <th>219</th>\n",
       "      <td>-2.587571</td>\n",
       "      <td>-3.083335</td>\n",
       "    </tr>\n",
       "    <tr>\n",
       "      <th>220</th>\n",
       "      <td>-6.142662</td>\n",
       "      <td>0.830078</td>\n",
       "    </tr>\n",
       "    <tr>\n",
       "      <th>221</th>\n",
       "      <td>-6.225056</td>\n",
       "      <td>1.072266</td>\n",
       "    </tr>\n",
       "    <tr>\n",
       "      <th>222</th>\n",
       "      <td>-2.350790</td>\n",
       "      <td>-8.653408</td>\n",
       "    </tr>\n",
       "    <tr>\n",
       "      <th>223</th>\n",
       "      <td>-1.414436</td>\n",
       "      <td>0.121872</td>\n",
       "    </tr>\n",
       "  </tbody>\n",
       "</table>\n",
       "<p>224 rows × 2 columns</p>\n",
       "</div>"
      ],
      "text/plain": [
       "           x1        x2\n",
       "0   -0.500283 -7.308327\n",
       "1   -7.252604  3.049801\n",
       "2   -4.121700 -8.795906\n",
       "3   -2.962343  3.550907\n",
       "4   -2.837079 -8.055468\n",
       "..        ...       ...\n",
       "219 -2.587571 -3.083335\n",
       "220 -6.142662  0.830078\n",
       "221 -6.225056  1.072266\n",
       "222 -2.350790 -8.653408\n",
       "223 -1.414436  0.121872\n",
       "\n",
       "[224 rows x 2 columns]"
      ]
     },
     "execution_count": 914,
     "metadata": {},
     "output_type": "execute_result"
    }
   ],
   "source": [
    "dataset.drop(\"Index\", axis=1, inplace = True)\n",
    "dataset"
   ]
  },
  {
   "cell_type": "markdown",
   "metadata": {},
   "source": [
    "## Questions \n",
    "\n",
    "### Based on the previous results, provide a description of your dataset\n",
    "\n",
    "    The dataset, consisting of 224 data points, represents some type of measurable natural phenomena. The dataset has no null values and the values for both variables range from negative to positive."
   ]
  },
  {
   "cell_type": "markdown",
   "metadata": {},
   "source": [
    "# A3 Data visualization"
   ]
  },
  {
   "cell_type": "markdown",
   "metadata": {},
   "source": [
    "In the same figure plot the histogram of the first two variables"
   ]
  },
  {
   "cell_type": "code",
   "execution_count": 915,
   "metadata": {},
   "outputs": [
    {
     "data": {
      "image/png": "[encoded data removed]",
      "text/plain": [
       "<Figure size 432x288 with 1 Axes>"
      ]
     },
     "metadata": {
      "needs_background": "light"
     },
     "output_type": "display_data"
    }
   ],
   "source": [
    "sns.distplot(dataset[\"x1\"], kde=False)\n",
    "dfhist = sns.distplot(dataset[\"x2\"], kde=False)\n",
    "dfhist.set_title(\"x1 and x2 Histogram\")\n",
    "dfhist.set_xlabel(\"Value\")\n",
    "dfhist.set_ylabel(\"Frequency\")\n",
    "\n",
    "plt.show()"
   ]
  },
  {
   "cell_type": "markdown",
   "metadata": {},
   "source": [
    "## Questions\n",
    "\n",
    "### Based on these two plots, provide a description of your data:\n",
    "\n",
    "    The figure above shows the frequency of values in the dataset for both variables. The blue histogram represents the frequency of values in the x1 variable whereas the orange histogram demonstrates the frequency of values in the x2 variable."
   ]
  },
  {
   "cell_type": "markdown",
   "metadata": {},
   "source": [
    "In the same figure plot the boxplot of the first two variables"
   ]
  },
  {
   "cell_type": "code",
   "execution_count": 916,
   "metadata": {},
   "outputs": [
    {
     "data": {
      "image/png": "[encoded data removed]",
      "text/plain": [
       "<Figure size 432x288 with 1 Axes>"
      ]
     },
     "metadata": {
      "needs_background": "light"
     },
     "output_type": "display_data"
    }
   ],
   "source": [
    "x1andx2 = dataset.loc[:, [\"x1\", \"x2\"]]\n",
    "x2bp = sns.boxplot(data=x1andx2, orient=\"h\")\n",
    "x2bp.set_title(\"x1 and x2 Boxplot\")\n",
    "x2bp.set_xlabel(\"Value\")\n",
    "\n",
    "plt.show()"
   ]
  },
  {
   "cell_type": "markdown",
   "metadata": {},
   "source": [
    "Create a scatter plot for the first two variables"
   ]
  },
  {
   "cell_type": "code",
   "execution_count": 917,
   "metadata": {},
   "outputs": [
    {
     "data": {
      "image/png": "[encoded data removed]",
      "text/plain": [
       "<Figure size 432x288 with 1 Axes>"
      ]
     },
     "metadata": {
      "needs_background": "light"
     },
     "output_type": "display_data"
    }
   ],
   "source": [
    "plt.scatter(dataset.x1,dataset.x2)\n",
    "plt.title(\"x1 and x2 Scatter plot\")\n",
    "plt.xlabel('x1')\n",
    "plt.ylabel('x2')\n",
    "\n",
    "plt.show()"
   ]
  },
  {
   "cell_type": "markdown",
   "metadata": {},
   "source": [
    "## Questions \n",
    "\n",
    "### Based on the previous results, provide a description of your dataset\n",
    "\n",
    "    The two figures above show different properties of the selected dataset. The boxplot shows both the range of values and mean of the two variables in the dataset. The scatter plot however, shows the distribution of the dataset values by using the x1 variable as the x-axis and the x2 variable as the y-axis."
   ]
  },
  {
   "cell_type": "markdown",
   "metadata": {},
   "source": [
    "# A4 K-means"
   ]
  },
  {
   "cell_type": "markdown",
   "metadata": {},
   "source": [
    "Do K-means clustering defining a number of clusters appropiate for your scatter plot"
   ]
  },
  {
   "cell_type": "code",
   "execution_count": 918,
   "metadata": {},
   "outputs": [],
   "source": [
    "# Define number of clusters\n",
    "K = 3\n",
    "km = KMeans(n_clusters=K)\n",
    "\n",
    "# Do K-means clustering (assing each point in the dataset to a cluster)\n",
    "yp = km.fit_predict(dataset[['x1','x2']])"
   ]
  },
  {
   "cell_type": "markdown",
   "metadata": {},
   "source": [
    "Add a column with the assigned clusters of each data point to your dataset"
   ]
  },
  {
   "cell_type": "code",
   "execution_count": 919,
   "metadata": {},
   "outputs": [
    {
     "data": {
      "text/html": [
       "<div>\n",
       "<style scoped>\n",
       "    .dataframe tbody tr th:only-of-type {\n",
       "        vertical-align: middle;\n",
       "    }\n",
       "\n",
       "    .dataframe tbody tr th {\n",
       "        vertical-align: top;\n",
       "    }\n",
       "\n",
       "    .dataframe thead th {\n",
       "        text-align: right;\n",
       "    }\n",
       "</style>\n",
       "<table border=\"1\" class=\"dataframe\">\n",
       "  <thead>\n",
       "    <tr style=\"text-align: right;\">\n",
       "      <th></th>\n",
       "      <th>x1</th>\n",
       "      <th>x2</th>\n",
       "      <th>ClusterInfo</th>\n",
       "    </tr>\n",
       "  </thead>\n",
       "  <tbody>\n",
       "    <tr>\n",
       "      <th>0</th>\n",
       "      <td>-0.500283</td>\n",
       "      <td>-7.308327</td>\n",
       "      <td>2</td>\n",
       "    </tr>\n",
       "    <tr>\n",
       "      <th>1</th>\n",
       "      <td>-7.252604</td>\n",
       "      <td>3.049801</td>\n",
       "      <td>0</td>\n",
       "    </tr>\n",
       "    <tr>\n",
       "      <th>2</th>\n",
       "      <td>-4.121700</td>\n",
       "      <td>-8.795906</td>\n",
       "      <td>2</td>\n",
       "    </tr>\n",
       "    <tr>\n",
       "      <th>3</th>\n",
       "      <td>-2.962343</td>\n",
       "      <td>3.550907</td>\n",
       "      <td>0</td>\n",
       "    </tr>\n",
       "    <tr>\n",
       "      <th>4</th>\n",
       "      <td>-2.837079</td>\n",
       "      <td>-8.055468</td>\n",
       "      <td>2</td>\n",
       "    </tr>\n",
       "    <tr>\n",
       "      <th>...</th>\n",
       "      <td>...</td>\n",
       "      <td>...</td>\n",
       "      <td>...</td>\n",
       "    </tr>\n",
       "    <tr>\n",
       "      <th>219</th>\n",
       "      <td>-2.587571</td>\n",
       "      <td>-3.083335</td>\n",
       "      <td>0</td>\n",
       "    </tr>\n",
       "    <tr>\n",
       "      <th>220</th>\n",
       "      <td>-6.142662</td>\n",
       "      <td>0.830078</td>\n",
       "      <td>0</td>\n",
       "    </tr>\n",
       "    <tr>\n",
       "      <th>221</th>\n",
       "      <td>-6.225056</td>\n",
       "      <td>1.072266</td>\n",
       "      <td>0</td>\n",
       "    </tr>\n",
       "    <tr>\n",
       "      <th>222</th>\n",
       "      <td>-2.350790</td>\n",
       "      <td>-8.653408</td>\n",
       "      <td>2</td>\n",
       "    </tr>\n",
       "    <tr>\n",
       "      <th>223</th>\n",
       "      <td>-1.414436</td>\n",
       "      <td>0.121872</td>\n",
       "      <td>0</td>\n",
       "    </tr>\n",
       "  </tbody>\n",
       "</table>\n",
       "<p>224 rows × 3 columns</p>\n",
       "</div>"
      ],
      "text/plain": [
       "           x1        x2  ClusterInfo\n",
       "0   -0.500283 -7.308327            2\n",
       "1   -7.252604  3.049801            0\n",
       "2   -4.121700 -8.795906            2\n",
       "3   -2.962343  3.550907            0\n",
       "4   -2.837079 -8.055468            2\n",
       "..        ...       ...          ...\n",
       "219 -2.587571 -3.083335            0\n",
       "220 -6.142662  0.830078            0\n",
       "221 -6.225056  1.072266            0\n",
       "222 -2.350790 -8.653408            2\n",
       "223 -1.414436  0.121872            0\n",
       "\n",
       "[224 rows x 3 columns]"
      ]
     },
     "execution_count": 919,
     "metadata": {},
     "output_type": "execute_result"
    }
   ],
   "source": [
    "# Add a new column to the dataset with the cluster information\n",
    "dataset['ClusterInfo'] = yp\n",
    "dataset"
   ]
  },
  {
   "cell_type": "markdown",
   "metadata": {},
   "source": [
    "Print the number associated to each cluster"
   ]
  },
  {
   "cell_type": "code",
   "execution_count": 920,
   "metadata": {},
   "outputs": [
    {
     "data": {
      "text/plain": [
       "array([2, 0, 1], dtype=int32)"
      ]
     },
     "execution_count": 920,
     "metadata": {},
     "output_type": "execute_result"
    }
   ],
   "source": [
    "dataset.ClusterInfo.unique()"
   ]
  },
  {
   "cell_type": "markdown",
   "metadata": {},
   "source": [
    "Print the centroids"
   ]
  },
  {
   "cell_type": "code",
   "execution_count": 921,
   "metadata": {},
   "outputs": [
    {
     "data": {
      "text/plain": [
       "array([[-5.02331542,  0.6094776 ],\n",
       "       [ 9.01513599, -6.40319255],\n",
       "       [-3.14408035, -8.79782527]])"
      ]
     },
     "execution_count": 921,
     "metadata": {},
     "output_type": "execute_result"
    }
   ],
   "source": [
    "km.cluster_centers_"
   ]
  },
  {
   "cell_type": "markdown",
   "metadata": {},
   "source": [
    "Print the intertia metric"
   ]
  },
  {
   "cell_type": "code",
   "execution_count": 922,
   "metadata": {},
   "outputs": [
    {
     "data": {
      "text/plain": [
       "1498.831633762387"
      ]
     },
     "execution_count": 922,
     "metadata": {},
     "output_type": "execute_result"
    }
   ],
   "source": [
    "km.inertia_"
   ]
  },
  {
   "cell_type": "markdown",
   "metadata": {},
   "source": [
    "Create a scatter plot of your data assigned to its corresponding cluster and centroid"
   ]
  },
  {
   "cell_type": "code",
   "execution_count": 923,
   "metadata": {},
   "outputs": [
    {
     "data": {
      "image/png": "[encoded data removed]",
      "text/plain": [
       "<Figure size 432x288 with 1 Axes>"
      ]
     },
     "metadata": {
      "needs_background": "light"
     },
     "output_type": "display_data"
    }
   ],
   "source": [
    "df0 = dataset[dataset.ClusterInfo==0]\n",
    "df1 = dataset[dataset.ClusterInfo==1]\n",
    "df2 = dataset[dataset.ClusterInfo==2]\n",
    "\n",
    "plt.scatter(df0.x1, df0.x2, Label='Cluster 1')\n",
    "plt.scatter(df1.x1, df1.x2, Label='Cluster 2')\n",
    "plt.scatter(df2.x1, df2.x2, Label='Cluster 3')\n",
    "\n",
    "plt.scatter(km.cluster_centers_[:,0], km.cluster_centers_[:,1], color='k', marker='o', label='Centroids', s=200, alpha=0.5)\n",
    "\n",
    "plt.title(\"x1 and x2 Scatter plot\")\n",
    "plt.xlabel('x1')\n",
    "plt.ylabel('x2')\n",
    "plt.legend()\n",
    "\n",
    "plt.show()"
   ]
  },
  {
   "cell_type": "markdown",
   "metadata": {},
   "source": [
    "## Questions \n",
    "\n",
    "### Provide a detailed description of your results\n",
    "\n",
    "        Having already created a scatter plot that shows the distribution of the dataset values, the scatter plot above also respresents the same dataset graphically. The difference in this dataset is the use of the K-means clustering algorithm to divide the data points into clusters based on their attributes (variables) and also the visual representation of the centroids in said clusters."
   ]
  },
  {
   "cell_type": "markdown",
   "metadata": {},
   "source": [
    "# A4 Elbow plot\n",
    "\n",
    "Create the corresponding Elbow plot"
   ]
  },
  {
   "cell_type": "code",
   "execution_count": 924,
   "metadata": {},
   "outputs": [],
   "source": [
    "sse = []\n",
    "k_rng = range(1,10)\n",
    "for k in k_rng:\n",
    "    km = KMeans(n_clusters=k)\n",
    "    km.fit_predict(dataset[['x1','x2']])\n",
    "    sse.append(km.inertia_)"
   ]
  },
  {
   "cell_type": "code",
   "execution_count": 925,
   "metadata": {},
   "outputs": [
    {
     "data": {
      "image/png": "[encoded data removed]",
      "text/plain": [
       "<Figure size 432x288 with 1 Axes>"
      ]
     },
     "metadata": {
      "needs_background": "light"
     },
     "output_type": "display_data"
    }
   ],
   "source": [
    "plt.plot(k_rng,sse)\n",
    "\n",
    "plt.title('Elbow Plot')\n",
    "plt.xlabel('K')\n",
    "plt.ylabel('SSE')\n",
    "plt.show()"
   ]
  },
  {
   "cell_type": "markdown",
   "metadata": {},
   "source": [
    "## Questions \n",
    "\n",
    "### What is the best number of clusters K? (argue your response)\n",
    "    Elbow plots are used to help determine the best k-value to use when doing K-means clustering. The k-value represents the number of clusters to consider when dividing the data through the algorithm. An elbow plot shows the ideal number of clusters through its inflection point, which is where the graph would appear to have an \"elbow\".\n",
    "\n",
    "### Does this number of clusters agree with your inital guess? (argue your response)\n",
    "    Yes, the number of cluster does agree with my initial guess, since I used the scatter plot do guess the amount of clusters, my initial guess was an educated guess. When looking at the scatter plot you can tell that there are three clearly defined separate areas with a high density of data points, this observation was what led me to my initial guess of 3 clusters."
   ]
  },
  {
   "cell_type": "markdown",
   "metadata": {},
   "source": [
    "# A4 Normalizing the data: preprocessing using the min max scaler"
   ]
  },
  {
   "cell_type": "markdown",
   "metadata": {},
   "source": [
    "Normalize the data using the min max scaler"
   ]
  },
  {
   "cell_type": "code",
   "execution_count": 926,
   "metadata": {},
   "outputs": [
    {
     "data": {
      "text/html": [
       "<div>\n",
       "<style scoped>\n",
       "    .dataframe tbody tr th:only-of-type {\n",
       "        vertical-align: middle;\n",
       "    }\n",
       "\n",
       "    .dataframe tbody tr th {\n",
       "        vertical-align: top;\n",
       "    }\n",
       "\n",
       "    .dataframe thead th {\n",
       "        text-align: right;\n",
       "    }\n",
       "</style>\n",
       "<table border=\"1\" class=\"dataframe\">\n",
       "  <thead>\n",
       "    <tr style=\"text-align: right;\">\n",
       "      <th></th>\n",
       "      <th>x1</th>\n",
       "      <th>x2</th>\n",
       "      <th>ClusterInfo</th>\n",
       "    </tr>\n",
       "  </thead>\n",
       "  <tbody>\n",
       "    <tr>\n",
       "      <th>0</th>\n",
       "      <td>0.426878</td>\n",
       "      <td>0.334775</td>\n",
       "      <td>2</td>\n",
       "    </tr>\n",
       "    <tr>\n",
       "      <th>1</th>\n",
       "      <td>0.144048</td>\n",
       "      <td>0.897735</td>\n",
       "      <td>0</td>\n",
       "    </tr>\n",
       "    <tr>\n",
       "      <th>2</th>\n",
       "      <td>0.275190</td>\n",
       "      <td>0.253926</td>\n",
       "      <td>2</td>\n",
       "    </tr>\n",
       "    <tr>\n",
       "      <th>3</th>\n",
       "      <td>0.323751</td>\n",
       "      <td>0.924970</td>\n",
       "      <td>0</td>\n",
       "    </tr>\n",
       "    <tr>\n",
       "      <th>4</th>\n",
       "      <td>0.328998</td>\n",
       "      <td>0.294169</td>\n",
       "      <td>2</td>\n",
       "    </tr>\n",
       "    <tr>\n",
       "      <th>...</th>\n",
       "      <td>...</td>\n",
       "      <td>...</td>\n",
       "      <td>...</td>\n",
       "    </tr>\n",
       "    <tr>\n",
       "      <th>219</th>\n",
       "      <td>0.339449</td>\n",
       "      <td>0.564402</td>\n",
       "      <td>0</td>\n",
       "    </tr>\n",
       "    <tr>\n",
       "      <th>220</th>\n",
       "      <td>0.190539</td>\n",
       "      <td>0.777094</td>\n",
       "      <td>0</td>\n",
       "    </tr>\n",
       "    <tr>\n",
       "      <th>221</th>\n",
       "      <td>0.187088</td>\n",
       "      <td>0.790257</td>\n",
       "      <td>0</td>\n",
       "    </tr>\n",
       "    <tr>\n",
       "      <th>222</th>\n",
       "      <td>0.349367</td>\n",
       "      <td>0.261671</td>\n",
       "      <td>2</td>\n",
       "    </tr>\n",
       "    <tr>\n",
       "      <th>223</th>\n",
       "      <td>0.388587</td>\n",
       "      <td>0.738604</td>\n",
       "      <td>0</td>\n",
       "    </tr>\n",
       "  </tbody>\n",
       "</table>\n",
       "<p>224 rows × 3 columns</p>\n",
       "</div>"
      ],
      "text/plain": [
       "           x1        x2  ClusterInfo\n",
       "0    0.426878  0.334775            2\n",
       "1    0.144048  0.897735            0\n",
       "2    0.275190  0.253926            2\n",
       "3    0.323751  0.924970            0\n",
       "4    0.328998  0.294169            2\n",
       "..        ...       ...          ...\n",
       "219  0.339449  0.564402            0\n",
       "220  0.190539  0.777094            0\n",
       "221  0.187088  0.790257            0\n",
       "222  0.349367  0.261671            2\n",
       "223  0.388587  0.738604            0\n",
       "\n",
       "[224 rows x 3 columns]"
      ]
     },
     "execution_count": 926,
     "metadata": {},
     "output_type": "execute_result"
    }
   ],
   "source": [
    "from sklearn.preprocessing import MinMaxScaler\n",
    "\n",
    "scaler = MinMaxScaler()\n",
    "\n",
    "scaler.fit(dataset[['x1']])\n",
    "dataset['x1'] = scaler.transform(dataset[['x1']])\n",
    "\n",
    "scaler.fit(dataset[['x2']])\n",
    "dataset['x2'] = scaler.transform(dataset[['x2']])\n",
    "\n",
    "dataset"
   ]
  },
  {
   "cell_type": "markdown",
   "metadata": {},
   "source": [
    "Print a statistical summary of the normalized data in your columns"
   ]
  },
  {
   "cell_type": "code",
   "execution_count": 927,
   "metadata": {},
   "outputs": [
    {
     "data": {
      "text/html": [
       "<div>\n",
       "<style scoped>\n",
       "    .dataframe tbody tr th:only-of-type {\n",
       "        vertical-align: middle;\n",
       "    }\n",
       "\n",
       "    .dataframe tbody tr th {\n",
       "        vertical-align: top;\n",
       "    }\n",
       "\n",
       "    .dataframe thead th {\n",
       "        text-align: right;\n",
       "    }\n",
       "</style>\n",
       "<table border=\"1\" class=\"dataframe\">\n",
       "  <thead>\n",
       "    <tr style=\"text-align: right;\">\n",
       "      <th></th>\n",
       "      <th>x1</th>\n",
       "      <th>x2</th>\n",
       "      <th>ClusterInfo</th>\n",
       "    </tr>\n",
       "  </thead>\n",
       "  <tbody>\n",
       "    <tr>\n",
       "      <th>count</th>\n",
       "      <td>224.000000</td>\n",
       "      <td>224.000000</td>\n",
       "      <td>224.000000</td>\n",
       "    </tr>\n",
       "    <tr>\n",
       "      <th>mean</th>\n",
       "      <td>0.404459</td>\n",
       "      <td>0.539718</td>\n",
       "      <td>0.758929</td>\n",
       "    </tr>\n",
       "    <tr>\n",
       "      <th>std</th>\n",
       "      <td>0.260070</td>\n",
       "      <td>0.244783</td>\n",
       "      <td>0.833659</td>\n",
       "    </tr>\n",
       "    <tr>\n",
       "      <th>min</th>\n",
       "      <td>0.000000</td>\n",
       "      <td>0.000000</td>\n",
       "      <td>0.000000</td>\n",
       "    </tr>\n",
       "    <tr>\n",
       "      <th>25%</th>\n",
       "      <td>0.226921</td>\n",
       "      <td>0.312725</td>\n",
       "      <td>0.000000</td>\n",
       "    </tr>\n",
       "    <tr>\n",
       "      <th>50%</th>\n",
       "      <td>0.319252</td>\n",
       "      <td>0.542720</td>\n",
       "      <td>1.000000</td>\n",
       "    </tr>\n",
       "    <tr>\n",
       "      <th>75%</th>\n",
       "      <td>0.543175</td>\n",
       "      <td>0.758246</td>\n",
       "      <td>2.000000</td>\n",
       "    </tr>\n",
       "    <tr>\n",
       "      <th>max</th>\n",
       "      <td>1.000000</td>\n",
       "      <td>1.000000</td>\n",
       "      <td>2.000000</td>\n",
       "    </tr>\n",
       "  </tbody>\n",
       "</table>\n",
       "</div>"
      ],
      "text/plain": [
       "               x1          x2  ClusterInfo\n",
       "count  224.000000  224.000000   224.000000\n",
       "mean     0.404459    0.539718     0.758929\n",
       "std      0.260070    0.244783     0.833659\n",
       "min      0.000000    0.000000     0.000000\n",
       "25%      0.226921    0.312725     0.000000\n",
       "50%      0.319252    0.542720     1.000000\n",
       "75%      0.543175    0.758246     2.000000\n",
       "max      1.000000    1.000000     2.000000"
      ]
     },
     "execution_count": 927,
     "metadata": {},
     "output_type": "execute_result"
    }
   ],
   "source": [
    "dataset.describe()"
   ]
  },
  {
   "cell_type": "markdown",
   "metadata": {},
   "source": [
    "## Questions\n",
    "\n",
    "### 1) What is the minumum and maximum values of each variable\n",
    "    Normalizing the data helps scale the points so that they all lie in the interval between 0 and 1. That being said, the minimum value of both variables is 0, while the maximum is 1.\n",
    "    \n",
    "### 2) What is the mean and standar deviation of each variable\n",
    "    The mean value of the x1 variable is 0.40, while the mean value of the x2 variable is 0.53. At the same time, the standard deviation of x1 is 0.26, whereas for x2 the standard deviation is 0.24.\n",
    "\n",
    "### 3) What do the 25%, 50% and 75% represent?\n",
    "    The percentages in the statistical summary represent the different percentiles of the data. This means that in each of those rows the value of the variable is greater than said percentage of values.\n",
    "    \n",
    "### 4) Are the minimum and maximum values equal to your original data?\n",
    "    As already mentioned, normalizing the data scales the point so that they all lie in the interval between 0 and 1. Because of this, the minimum and maximum values of the scaled data are not equal to those of the original data. This is because the minimum and maximum values of scaled data will always be 0 and 1 respectively."
   ]
  },
  {
   "cell_type": "markdown",
   "metadata": {},
   "source": [
    "Create a scatter plot of your normalized data"
   ]
  },
  {
   "cell_type": "code",
   "execution_count": 928,
   "metadata": {},
   "outputs": [
    {
     "data": {
      "image/png": "[encoded data removed]",
      "text/plain": [
       "<Figure size 432x288 with 1 Axes>"
      ]
     },
     "metadata": {
      "needs_background": "light"
     },
     "output_type": "display_data"
    }
   ],
   "source": [
    "plt.scatter(dataset.x1,dataset.x2)\n",
    "plt.title(\"x1 and x2 Scatter plot\")\n",
    "plt.xlabel('x1')\n",
    "plt.ylabel('x2')\n",
    "\n",
    "plt.show()"
   ]
  },
  {
   "cell_type": "markdown",
   "metadata": {},
   "source": [
    "Do K-means clustering basing the number of clusters on your scatter plot"
   ]
  },
  {
   "cell_type": "code",
   "execution_count": 929,
   "metadata": {},
   "outputs": [],
   "source": [
    "# Define number of clusters\n",
    "K = 3\n",
    "km = KMeans(n_clusters=K)\n",
    "\n",
    "# Do K-means clustering (assing each point in the dataset to a cluster)\n",
    "yp = km.fit_predict(dataset[['x1','x2']])"
   ]
  },
  {
   "cell_type": "markdown",
   "metadata": {},
   "source": [
    "Add to your dataset a column with the assigned cluster to each data point"
   ]
  },
  {
   "cell_type": "code",
   "execution_count": 930,
   "metadata": {},
   "outputs": [
    {
     "data": {
      "text/html": [
       "<div>\n",
       "<style scoped>\n",
       "    .dataframe tbody tr th:only-of-type {\n",
       "        vertical-align: middle;\n",
       "    }\n",
       "\n",
       "    .dataframe tbody tr th {\n",
       "        vertical-align: top;\n",
       "    }\n",
       "\n",
       "    .dataframe thead th {\n",
       "        text-align: right;\n",
       "    }\n",
       "</style>\n",
       "<table border=\"1\" class=\"dataframe\">\n",
       "  <thead>\n",
       "    <tr style=\"text-align: right;\">\n",
       "      <th></th>\n",
       "      <th>x1</th>\n",
       "      <th>x2</th>\n",
       "      <th>ClusterInfo</th>\n",
       "    </tr>\n",
       "  </thead>\n",
       "  <tbody>\n",
       "    <tr>\n",
       "      <th>0</th>\n",
       "      <td>0.426878</td>\n",
       "      <td>0.334775</td>\n",
       "      <td>2</td>\n",
       "    </tr>\n",
       "    <tr>\n",
       "      <th>1</th>\n",
       "      <td>0.144048</td>\n",
       "      <td>0.897735</td>\n",
       "      <td>0</td>\n",
       "    </tr>\n",
       "    <tr>\n",
       "      <th>2</th>\n",
       "      <td>0.275190</td>\n",
       "      <td>0.253926</td>\n",
       "      <td>2</td>\n",
       "    </tr>\n",
       "    <tr>\n",
       "      <th>3</th>\n",
       "      <td>0.323751</td>\n",
       "      <td>0.924970</td>\n",
       "      <td>0</td>\n",
       "    </tr>\n",
       "    <tr>\n",
       "      <th>4</th>\n",
       "      <td>0.328998</td>\n",
       "      <td>0.294169</td>\n",
       "      <td>2</td>\n",
       "    </tr>\n",
       "    <tr>\n",
       "      <th>...</th>\n",
       "      <td>...</td>\n",
       "      <td>...</td>\n",
       "      <td>...</td>\n",
       "    </tr>\n",
       "    <tr>\n",
       "      <th>219</th>\n",
       "      <td>0.339449</td>\n",
       "      <td>0.564402</td>\n",
       "      <td>0</td>\n",
       "    </tr>\n",
       "    <tr>\n",
       "      <th>220</th>\n",
       "      <td>0.190539</td>\n",
       "      <td>0.777094</td>\n",
       "      <td>0</td>\n",
       "    </tr>\n",
       "    <tr>\n",
       "      <th>221</th>\n",
       "      <td>0.187088</td>\n",
       "      <td>0.790257</td>\n",
       "      <td>0</td>\n",
       "    </tr>\n",
       "    <tr>\n",
       "      <th>222</th>\n",
       "      <td>0.349367</td>\n",
       "      <td>0.261671</td>\n",
       "      <td>2</td>\n",
       "    </tr>\n",
       "    <tr>\n",
       "      <th>223</th>\n",
       "      <td>0.388587</td>\n",
       "      <td>0.738604</td>\n",
       "      <td>0</td>\n",
       "    </tr>\n",
       "  </tbody>\n",
       "</table>\n",
       "<p>224 rows × 3 columns</p>\n",
       "</div>"
      ],
      "text/plain": [
       "           x1        x2  ClusterInfo\n",
       "0    0.426878  0.334775            2\n",
       "1    0.144048  0.897735            0\n",
       "2    0.275190  0.253926            2\n",
       "3    0.323751  0.924970            0\n",
       "4    0.328998  0.294169            2\n",
       "..        ...       ...          ...\n",
       "219  0.339449  0.564402            0\n",
       "220  0.190539  0.777094            0\n",
       "221  0.187088  0.790257            0\n",
       "222  0.349367  0.261671            2\n",
       "223  0.388587  0.738604            0\n",
       "\n",
       "[224 rows x 3 columns]"
      ]
     },
     "execution_count": 930,
     "metadata": {},
     "output_type": "execute_result"
    }
   ],
   "source": [
    "# Add a new column to the dataset with the cluster information\n",
    "dataset['ClusterInfo'] = yp\n",
    "dataset"
   ]
  },
  {
   "cell_type": "markdown",
   "metadata": {},
   "source": [
    "Print the centroids"
   ]
  },
  {
   "cell_type": "code",
   "execution_count": 931,
   "metadata": {},
   "outputs": [
    {
     "data": {
      "text/plain": [
       "array([[0.23813364, 0.76286469],\n",
       "       [0.8254437 , 0.38396909],\n",
       "       [0.31612637, 0.24917178]])"
      ]
     },
     "execution_count": 931,
     "metadata": {},
     "output_type": "execute_result"
    }
   ],
   "source": [
    "km.cluster_centers_"
   ]
  },
  {
   "cell_type": "markdown",
   "metadata": {},
   "source": [
    "Print the intetia metric"
   ]
  },
  {
   "cell_type": "code",
   "execution_count": 932,
   "metadata": {},
   "outputs": [
    {
     "data": {
      "text/plain": [
       "3.3218649870210313"
      ]
     },
     "execution_count": 932,
     "metadata": {},
     "output_type": "execute_result"
    }
   ],
   "source": [
    "km.inertia_"
   ]
  },
  {
   "cell_type": "markdown",
   "metadata": {},
   "source": [
    "Create a scatter plot of your data assigned to its corresponding cluster and centroid"
   ]
  },
  {
   "cell_type": "code",
   "execution_count": 933,
   "metadata": {},
   "outputs": [
    {
     "data": {
      "image/png": "[encoded data removed]",
      "text/plain": [
       "<Figure size 432x288 with 1 Axes>"
      ]
     },
     "metadata": {
      "needs_background": "light"
     },
     "output_type": "display_data"
    }
   ],
   "source": [
    "df0 = dataset[dataset.ClusterInfo==0]\n",
    "df1 = dataset[dataset.ClusterInfo==1]\n",
    "df2 = dataset[dataset.ClusterInfo==2]\n",
    "\n",
    "plt.scatter(df0.x1, df0.x2, Label='Cluster 1')\n",
    "plt.scatter(df1.x1, df1.x2, Label='Cluster 2')\n",
    "plt.scatter(df2.x1, df2.x2, Label='Cluster 3')\n",
    "\n",
    "plt.scatter(km.cluster_centers_[:,0], km.cluster_centers_[:,1], color='k', marker='o', label='Centroids', s=200, alpha=0.5)\n",
    "\n",
    "plt.title(\"x1 and x2 Scatter plot\")\n",
    "plt.xlabel('x1')\n",
    "plt.ylabel('x2')\n",
    "plt.legend()\n",
    "\n",
    "plt.show()"
   ]
  },
  {
   "cell_type": "markdown",
   "metadata": {},
   "source": [
    "## Questions \n",
    "\n",
    "### Provide a detailed description of your results. Does the normalization improve the clustering?\n",
    "    Normalization does not significantly improve clustering, it doesn't really make much of a difference in the resulting scatter plots. There is erroneous clusterization in the areas of overlaping data with both types of data. My prediction would be that with there being more points normalization would make a more significant difference."
   ]
  },
  {
   "cell_type": "markdown",
   "metadata": {},
   "source": [
    "# BONUS"
   ]
  },
  {
   "cell_type": "markdown",
   "metadata": {},
   "source": [
    "1) Generate some data using the \"make_blobs\" function from \"sklearn.datasets\"\n",
    "\n",
    "- The number of observations is equal to the three last digits in your ID\n",
    "- 2 variables\n",
    "- 4 clusters\n",
    "- Standar deviation of each cluster of 1.5"
   ]
  },
  {
   "cell_type": "code",
   "execution_count": 934,
   "metadata": {},
   "outputs": [
    {
     "data": {
      "text/html": [
       "<div>\n",
       "<style scoped>\n",
       "    .dataframe tbody tr th:only-of-type {\n",
       "        vertical-align: middle;\n",
       "    }\n",
       "\n",
       "    .dataframe tbody tr th {\n",
       "        vertical-align: top;\n",
       "    }\n",
       "\n",
       "    .dataframe thead th {\n",
       "        text-align: right;\n",
       "    }\n",
       "</style>\n",
       "<table border=\"1\" class=\"dataframe\">\n",
       "  <thead>\n",
       "    <tr style=\"text-align: right;\">\n",
       "      <th></th>\n",
       "      <th>x1</th>\n",
       "      <th>x2</th>\n",
       "      <th>ClusterInfo</th>\n",
       "    </tr>\n",
       "  </thead>\n",
       "  <tbody>\n",
       "    <tr>\n",
       "      <th>0</th>\n",
       "      <td>0.521833</td>\n",
       "      <td>7.010533</td>\n",
       "      <td>0</td>\n",
       "    </tr>\n",
       "    <tr>\n",
       "      <th>1</th>\n",
       "      <td>-0.835581</td>\n",
       "      <td>6.868563</td>\n",
       "      <td>0</td>\n",
       "    </tr>\n",
       "    <tr>\n",
       "      <th>2</th>\n",
       "      <td>0.659766</td>\n",
       "      <td>8.399078</td>\n",
       "      <td>0</td>\n",
       "    </tr>\n",
       "    <tr>\n",
       "      <th>3</th>\n",
       "      <td>1.479244</td>\n",
       "      <td>7.532168</td>\n",
       "      <td>0</td>\n",
       "    </tr>\n",
       "    <tr>\n",
       "      <th>4</th>\n",
       "      <td>-7.677171</td>\n",
       "      <td>8.161590</td>\n",
       "      <td>1</td>\n",
       "    </tr>\n",
       "    <tr>\n",
       "      <th>...</th>\n",
       "      <td>...</td>\n",
       "      <td>...</td>\n",
       "      <td>...</td>\n",
       "    </tr>\n",
       "    <tr>\n",
       "      <th>219</th>\n",
       "      <td>7.920921</td>\n",
       "      <td>8.223795</td>\n",
       "      <td>3</td>\n",
       "    </tr>\n",
       "    <tr>\n",
       "      <th>220</th>\n",
       "      <td>-7.871642</td>\n",
       "      <td>6.662361</td>\n",
       "      <td>1</td>\n",
       "    </tr>\n",
       "    <tr>\n",
       "      <th>221</th>\n",
       "      <td>2.263946</td>\n",
       "      <td>2.123133</td>\n",
       "      <td>2</td>\n",
       "    </tr>\n",
       "    <tr>\n",
       "      <th>222</th>\n",
       "      <td>-1.069554</td>\n",
       "      <td>1.120733</td>\n",
       "      <td>2</td>\n",
       "    </tr>\n",
       "    <tr>\n",
       "      <th>223</th>\n",
       "      <td>-6.637345</td>\n",
       "      <td>10.754413</td>\n",
       "      <td>1</td>\n",
       "    </tr>\n",
       "  </tbody>\n",
       "</table>\n",
       "<p>224 rows × 3 columns</p>\n",
       "</div>"
      ],
      "text/plain": [
       "           x1         x2  ClusterInfo\n",
       "0    0.521833   7.010533            0\n",
       "1   -0.835581   6.868563            0\n",
       "2    0.659766   8.399078            0\n",
       "3    1.479244   7.532168            0\n",
       "4   -7.677171   8.161590            1\n",
       "..        ...        ...          ...\n",
       "219  7.920921   8.223795            3\n",
       "220 -7.871642   6.662361            1\n",
       "221  2.263946   2.123133            2\n",
       "222 -1.069554   1.120733            2\n",
       "223 -6.637345  10.754413            1\n",
       "\n",
       "[224 rows x 3 columns]"
      ]
     },
     "execution_count": 934,
     "metadata": {},
     "output_type": "execute_result"
    }
   ],
   "source": [
    "from sklearn.datasets import make_blobs\n",
    "coords, clusters = make_blobs(n_samples=224, n_features=2, centers=4, cluster_std=1.5) \n",
    "dataset_bonus = pd.DataFrame(data=coords, columns=[\"x1\", \"x2\"])\n",
    "dataset_bonus['ClusterInfo'] = clusters\n",
    "\n",
    "dataset_bonus"
   ]
  },
  {
   "cell_type": "markdown",
   "metadata": {},
   "source": [
    "2) Create a scatter plot of your data using the real cluster labels"
   ]
  },
  {
   "cell_type": "code",
   "execution_count": 935,
   "metadata": {},
   "outputs": [
    {
     "data": {
      "image/png": "[encoded data removed]",
      "text/plain": [
       "<Figure size 432x288 with 1 Axes>"
      ]
     },
     "metadata": {
      "needs_background": "light"
     },
     "output_type": "display_data"
    }
   ],
   "source": [
    "df0 = dataset_bonus[dataset_bonus.ClusterInfo==0]\n",
    "df1 = dataset_bonus[dataset_bonus.ClusterInfo==1]\n",
    "df2 = dataset_bonus[dataset_bonus.ClusterInfo==2]\n",
    "df3 = dataset_bonus[dataset_bonus.ClusterInfo==3]\n",
    "\n",
    "plt.scatter(df0.x1, df0.x2, Label='Real Cluster 1')\n",
    "plt.scatter(df1.x1, df1.x2, Label='Real Cluster 2')\n",
    "plt.scatter(df2.x1, df2.x2, Label='Real Cluster 3')\n",
    "plt.scatter(df3.x1, df3.x2, Label='Real Cluster 4')\n",
    "\n",
    "plt.title(\"x1 and x2 Scatter plot\")\n",
    "plt.xlabel('x1')\n",
    "plt.ylabel('x2')\n",
    "plt.legend()\n",
    "plt.show()"
   ]
  },
  {
   "cell_type": "markdown",
   "metadata": {},
   "source": [
    "3) Do K-means clustering "
   ]
  },
  {
   "cell_type": "code",
   "execution_count": 936,
   "metadata": {},
   "outputs": [
    {
     "data": {
      "text/html": [
       "<div>\n",
       "<style scoped>\n",
       "    .dataframe tbody tr th:only-of-type {\n",
       "        vertical-align: middle;\n",
       "    }\n",
       "\n",
       "    .dataframe tbody tr th {\n",
       "        vertical-align: top;\n",
       "    }\n",
       "\n",
       "    .dataframe thead th {\n",
       "        text-align: right;\n",
       "    }\n",
       "</style>\n",
       "<table border=\"1\" class=\"dataframe\">\n",
       "  <thead>\n",
       "    <tr style=\"text-align: right;\">\n",
       "      <th></th>\n",
       "      <th>x1</th>\n",
       "      <th>x2</th>\n",
       "      <th>ClusterInfo</th>\n",
       "      <th>KClusterInfo</th>\n",
       "    </tr>\n",
       "  </thead>\n",
       "  <tbody>\n",
       "    <tr>\n",
       "      <th>0</th>\n",
       "      <td>0.521833</td>\n",
       "      <td>7.010533</td>\n",
       "      <td>0</td>\n",
       "      <td>3</td>\n",
       "    </tr>\n",
       "    <tr>\n",
       "      <th>1</th>\n",
       "      <td>-0.835581</td>\n",
       "      <td>6.868563</td>\n",
       "      <td>0</td>\n",
       "      <td>3</td>\n",
       "    </tr>\n",
       "    <tr>\n",
       "      <th>2</th>\n",
       "      <td>0.659766</td>\n",
       "      <td>8.399078</td>\n",
       "      <td>0</td>\n",
       "      <td>3</td>\n",
       "    </tr>\n",
       "    <tr>\n",
       "      <th>3</th>\n",
       "      <td>1.479244</td>\n",
       "      <td>7.532168</td>\n",
       "      <td>0</td>\n",
       "      <td>3</td>\n",
       "    </tr>\n",
       "    <tr>\n",
       "      <th>4</th>\n",
       "      <td>-7.677171</td>\n",
       "      <td>8.161590</td>\n",
       "      <td>1</td>\n",
       "      <td>1</td>\n",
       "    </tr>\n",
       "    <tr>\n",
       "      <th>...</th>\n",
       "      <td>...</td>\n",
       "      <td>...</td>\n",
       "      <td>...</td>\n",
       "      <td>...</td>\n",
       "    </tr>\n",
       "    <tr>\n",
       "      <th>219</th>\n",
       "      <td>7.920921</td>\n",
       "      <td>8.223795</td>\n",
       "      <td>3</td>\n",
       "      <td>0</td>\n",
       "    </tr>\n",
       "    <tr>\n",
       "      <th>220</th>\n",
       "      <td>-7.871642</td>\n",
       "      <td>6.662361</td>\n",
       "      <td>1</td>\n",
       "      <td>1</td>\n",
       "    </tr>\n",
       "    <tr>\n",
       "      <th>221</th>\n",
       "      <td>2.263946</td>\n",
       "      <td>2.123133</td>\n",
       "      <td>2</td>\n",
       "      <td>2</td>\n",
       "    </tr>\n",
       "    <tr>\n",
       "      <th>222</th>\n",
       "      <td>-1.069554</td>\n",
       "      <td>1.120733</td>\n",
       "      <td>2</td>\n",
       "      <td>2</td>\n",
       "    </tr>\n",
       "    <tr>\n",
       "      <th>223</th>\n",
       "      <td>-6.637345</td>\n",
       "      <td>10.754413</td>\n",
       "      <td>1</td>\n",
       "      <td>1</td>\n",
       "    </tr>\n",
       "  </tbody>\n",
       "</table>\n",
       "<p>224 rows × 4 columns</p>\n",
       "</div>"
      ],
      "text/plain": [
       "           x1         x2  ClusterInfo  KClusterInfo\n",
       "0    0.521833   7.010533            0             3\n",
       "1   -0.835581   6.868563            0             3\n",
       "2    0.659766   8.399078            0             3\n",
       "3    1.479244   7.532168            0             3\n",
       "4   -7.677171   8.161590            1             1\n",
       "..        ...        ...          ...           ...\n",
       "219  7.920921   8.223795            3             0\n",
       "220 -7.871642   6.662361            1             1\n",
       "221  2.263946   2.123133            2             2\n",
       "222 -1.069554   1.120733            2             2\n",
       "223 -6.637345  10.754413            1             1\n",
       "\n",
       "[224 rows x 4 columns]"
      ]
     },
     "execution_count": 936,
     "metadata": {},
     "output_type": "execute_result"
    }
   ],
   "source": [
    "# Define number of clusters\n",
    "K = 4\n",
    "km = KMeans(n_clusters=K)\n",
    "\n",
    "# Do K-means clustering (assing each point in the dataset to a cluster)\n",
    "yp = km.fit_predict(dataset_bonus[['x1','x2']])\n",
    "\n",
    "# Add a new column to the dataset with the cluster information\n",
    "dataset_bonus['KClusterInfo'] = yp\n",
    "\n",
    "dataset_bonus"
   ]
  },
  {
   "cell_type": "markdown",
   "metadata": {},
   "source": [
    "4) Create a scatter plot of your data using the estimated cluster labels"
   ]
  },
  {
   "cell_type": "code",
   "execution_count": 937,
   "metadata": {},
   "outputs": [
    {
     "data": {
      "image/png": "[encoded data removed]",
      "text/plain": [
       "<Figure size 432x288 with 1 Axes>"
      ]
     },
     "metadata": {
      "needs_background": "light"
     },
     "output_type": "display_data"
    }
   ],
   "source": [
    "df0 = dataset_bonus[dataset_bonus.KClusterInfo==0]\n",
    "df1 = dataset_bonus[dataset_bonus.KClusterInfo==1]\n",
    "df2 = dataset_bonus[dataset_bonus.KClusterInfo==2]\n",
    "df3 = dataset_bonus[dataset_bonus.KClusterInfo==3]\n",
    "\n",
    "plt.scatter(df0.x1, df0.x2, Label='Estimated Cluster 1')\n",
    "plt.scatter(df1.x1, df1.x2, Label='Estimated Cluster 2')\n",
    "plt.scatter(df2.x1, df2.x2, Label='Estimated Cluster 3')\n",
    "plt.scatter(df3.x1, df3.x2, Label='Estimated Cluster 4')\n",
    "\n",
    "plt.scatter(km.cluster_centers_[:,0], km.cluster_centers_[:,1], color='k', marker='o', label='Centroids', s=200, alpha=0.5)\n",
    "\n",
    "plt.title(\"x1 and x2 Scatter plot\")\n",
    "plt.xlabel('x1')\n",
    "plt.ylabel('x2')\n",
    "plt.legend()\n",
    "\n",
    "plt.show()"
   ]
  },
  {
   "cell_type": "markdown",
   "metadata": {},
   "source": [
    "### Questions \n",
    "\n",
    "### Provide a detailed description of your results.\n",
    "    The scatter plot above shows the estimated clusters created using the k-means clustering algorithmn on a randomly generated dataset. Each time the file is run the randomly generated dataset creates different results, but in general the algorithms groups the data points into estimated clusters that are pretty accurate to the real clusters. The only problems the algorithm runs into are caused by cases in which the generated dataset creates overlapping clusters. In these cases the results are pretty accurate except for the areas in which clusters overlap."
   ]
  },
  {
   "cell_type": "markdown",
   "metadata": {},
   "source": [
    "# Descipción de tu percepción del nivel de desarrollo de la subcompetencia \n",
    "\n",
    "### SING0202A Interpretación de variables"
   ]
  },
  {
   "cell_type": "markdown",
   "metadata": {},
   "source": [
    "Escribe tu descripción del nivel de logro del siguiente criterio de la subcompetencia\n",
    "\n",
    "**Interpreta interacciones**. Interpreta interacciones entre variables relevantes en un problema, como base para la construcción de modelos bivariados basados en datos de un fenómeno investigado que le permita reproducir la respuesta del mismo."
   ]
  },
  {
   "cell_type": "markdown",
   "metadata": {},
   "source": [
    "    Aprendí a identificar variables cuantitativas y categóricas para posteriormente utilizarlas para crear modelos con los que se puedan agrupar datos de características similares utilizando el método de K-medias. Además de aprender a graficar el conjunto de datos mediante un gráfico de dispersión y algunas de sus propiedades como su su rango y frecuencia de valores utilizando diagramas de caja e histogramas, aprendí a utilizar \"diagramas de codo\" con los cuales se puede determinar el número de grupos más apropiado para considerar al momento de utilizar el método de K-medias."
   ]
  },
  {
   "cell_type": "markdown",
   "metadata": {},
   "source": [
    "Escribe tu descripción del nivel de logro del siguiente criterio de la subcompetencia\n",
    "\n",
    "**Construcción de modelos**. Es capaz de construir modelos bivariados que expliquen el comportamiento de un fenómeno."
   ]
  },
  {
   "cell_type": "markdown",
   "metadata": {},
   "source": [
    "    Sé utilizar funciones de las librerias de Python pandas, matplotlib, numpy, seaborn y sklearn para construir modelos que puedan representar diferentes atributos del conjunto de datos y con los que se pueden explicar diferentes comportamientos del fenómeno natural del cual se tienen los datos. También sé utilizar los métodos de de las librerias para ejecutar el algoritmo de K-means de una manera no supervisada. Por último, para leer datos externo sé importar un archivo .csv y convertir su información en una estructura de datos tipo DataFrame, así como accesar a datos en GitHub desde la terminal local de mi computadora. "
   ]
  }
 ],
 "metadata": {
  "kernelspec": {
   "display_name": "Python 3",
   "language": "python",
   "name": "python3"
  },
  "language_info": {
   "codemirror_mode": {
    "name": "ipython",
    "version": 3
   },
   "file_extension": ".py",
   "mimetype": "text/x-python",
   "name": "python",
   "nbconvert_exporter": "python",
   "pygments_lexer": "ipython3",
   "version": "3.8.8"
  }
 },
 "nbformat": 4,
 "nbformat_minor": 4
}
