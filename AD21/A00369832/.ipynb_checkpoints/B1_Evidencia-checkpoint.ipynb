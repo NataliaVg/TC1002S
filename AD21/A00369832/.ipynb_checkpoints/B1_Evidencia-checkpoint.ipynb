{
 "cells": [
  {
   "cell_type": "markdown",
   "metadata": {},
   "source": [
    "# TC1002S Herramientas computacionales: el arte de la analítica\n",
    "\n",
    "This is a notebook with all your work for the final evidence of this course\n",
    "\n",
    "\n",
    "# Niveles de dominio a demostrar con la evidencia\n",
    "\n",
    "### SING0202A\n",
    "\n",
    "Interpreta interacciones entre variables relevantes en un problema, como base para la construcción de modelos bivariados basados en datos de un fenómeno investigado que le permita reproducir la respuesta del mismo. Es capaz de construir modelos bivariados que expliquen el comportamiento de un fenómeno.\n",
    "\n",
    "\n",
    "# Student information\n",
    "\n",
    "- Name: José Abraham González Navarro\n",
    "\n",
    "- ID: A00369832\n",
    "\n",
    "- My career: Ingeniería en Tecnologías Computacionales (ITC)\n"
   ]
  },
  {
   "cell_type": "markdown",
   "metadata": {},
   "source": [
    "# Importing libraries"
   ]
  },
  {
   "cell_type": "code",
   "execution_count": 1,
   "metadata": {},
   "outputs": [],
   "source": [
    "# Import the packages that we will be using\n",
    "import pandas as pd                 # For data handling\n",
    "import seaborn as sns               # For advanced plotting\n",
    "import matplotlib.pyplot as plt     # For showing plots\n",
    "from sklearn.preprocessing import MinMaxScaler\n",
    "from sklearn.cluster import KMeans"
   ]
  },
  {
   "cell_type": "markdown",
   "metadata": {},
   "source": [
    "# A1 Loa your dataset"
   ]
  },
  {
   "cell_type": "code",
   "execution_count": 2,
   "metadata": {},
   "outputs": [],
   "source": [
    "# url string that hosts our .csv file\n",
    "url = \"datasets/A00369832.csv\"\n",
    "\n",
    "# Read the .csv file and store it as a pandas Data Frame\n",
    "df = pd.read_csv(url)\n"
   ]
  },
  {
   "cell_type": "markdown",
   "metadata": {},
   "source": [
    "# A2 DataManagment\n"
   ]
  },
  {
   "cell_type": "markdown",
   "metadata": {},
   "source": [
    "Print the first 7 rows"
   ]
  },
  {
   "cell_type": "code",
   "execution_count": 3,
   "metadata": {},
   "outputs": [
    {
     "data": {
      "text/html": [
       "<div>\n",
       "<style scoped>\n",
       "    .dataframe tbody tr th:only-of-type {\n",
       "        vertical-align: middle;\n",
       "    }\n",
       "\n",
       "    .dataframe tbody tr th {\n",
       "        vertical-align: top;\n",
       "    }\n",
       "\n",
       "    .dataframe thead th {\n",
       "        text-align: right;\n",
       "    }\n",
       "</style>\n",
       "<table border=\"1\" class=\"dataframe\">\n",
       "  <thead>\n",
       "    <tr style=\"text-align: right;\">\n",
       "      <th></th>\n",
       "      <th>ID</th>\n",
       "      <th>x1</th>\n",
       "      <th>x2</th>\n",
       "    </tr>\n",
       "  </thead>\n",
       "  <tbody>\n",
       "    <tr>\n",
       "      <th>0</th>\n",
       "      <td>0</td>\n",
       "      <td>5.077749</td>\n",
       "      <td>-7.456755</td>\n",
       "    </tr>\n",
       "    <tr>\n",
       "      <th>1</th>\n",
       "      <td>1</td>\n",
       "      <td>-1.615164</td>\n",
       "      <td>2.462501</td>\n",
       "    </tr>\n",
       "    <tr>\n",
       "      <th>2</th>\n",
       "      <td>2</td>\n",
       "      <td>7.546860</td>\n",
       "      <td>-8.411728</td>\n",
       "    </tr>\n",
       "    <tr>\n",
       "      <th>3</th>\n",
       "      <td>3</td>\n",
       "      <td>3.189358</td>\n",
       "      <td>-3.003050</td>\n",
       "    </tr>\n",
       "    <tr>\n",
       "      <th>4</th>\n",
       "      <td>4</td>\n",
       "      <td>-8.058273</td>\n",
       "      <td>-5.373929</td>\n",
       "    </tr>\n",
       "    <tr>\n",
       "      <th>5</th>\n",
       "      <td>5</td>\n",
       "      <td>-0.861741</td>\n",
       "      <td>2.958436</td>\n",
       "    </tr>\n",
       "    <tr>\n",
       "      <th>6</th>\n",
       "      <td>6</td>\n",
       "      <td>4.894054</td>\n",
       "      <td>-1.857911</td>\n",
       "    </tr>\n",
       "  </tbody>\n",
       "</table>\n",
       "</div>"
      ],
      "text/plain": [
       "   ID        x1        x2\n",
       "0   0  5.077749 -7.456755\n",
       "1   1 -1.615164  2.462501\n",
       "2   2  7.546860 -8.411728\n",
       "3   3  3.189358 -3.003050\n",
       "4   4 -8.058273 -5.373929\n",
       "5   5 -0.861741  2.958436\n",
       "6   6  4.894054 -1.857911"
      ]
     },
     "execution_count": 3,
     "metadata": {},
     "output_type": "execute_result"
    }
   ],
   "source": [
    "df.head(7)"
   ]
  },
  {
   "cell_type": "markdown",
   "metadata": {},
   "source": [
    "Print the first 4 last rows"
   ]
  },
  {
   "cell_type": "code",
   "execution_count": 4,
   "metadata": {},
   "outputs": [
    {
     "data": {
      "text/html": [
       "<div>\n",
       "<style scoped>\n",
       "    .dataframe tbody tr th:only-of-type {\n",
       "        vertical-align: middle;\n",
       "    }\n",
       "\n",
       "    .dataframe tbody tr th {\n",
       "        vertical-align: top;\n",
       "    }\n",
       "\n",
       "    .dataframe thead th {\n",
       "        text-align: right;\n",
       "    }\n",
       "</style>\n",
       "<table border=\"1\" class=\"dataframe\">\n",
       "  <thead>\n",
       "    <tr style=\"text-align: right;\">\n",
       "      <th></th>\n",
       "      <th>ID</th>\n",
       "      <th>x1</th>\n",
       "      <th>x2</th>\n",
       "    </tr>\n",
       "  </thead>\n",
       "  <tbody>\n",
       "    <tr>\n",
       "      <th>828</th>\n",
       "      <td>828</td>\n",
       "      <td>4.914338</td>\n",
       "      <td>-9.085483</td>\n",
       "    </tr>\n",
       "    <tr>\n",
       "      <th>829</th>\n",
       "      <td>829</td>\n",
       "      <td>3.990898</td>\n",
       "      <td>-3.923054</td>\n",
       "    </tr>\n",
       "    <tr>\n",
       "      <th>830</th>\n",
       "      <td>830</td>\n",
       "      <td>7.436669</td>\n",
       "      <td>-8.904405</td>\n",
       "    </tr>\n",
       "    <tr>\n",
       "      <th>831</th>\n",
       "      <td>831</td>\n",
       "      <td>-1.894283</td>\n",
       "      <td>3.940896</td>\n",
       "    </tr>\n",
       "  </tbody>\n",
       "</table>\n",
       "</div>"
      ],
      "text/plain": [
       "      ID        x1        x2\n",
       "828  828  4.914338 -9.085483\n",
       "829  829  3.990898 -3.923054\n",
       "830  830  7.436669 -8.904405\n",
       "831  831 -1.894283  3.940896"
      ]
     },
     "execution_count": 4,
     "metadata": {},
     "output_type": "execute_result"
    }
   ],
   "source": [
    "df.tail(4)"
   ]
  },
  {
   "cell_type": "markdown",
   "metadata": {},
   "source": [
    "How many rows and columns are in your data?\n",
    "\n",
    "Use the `shape` method\n"
   ]
  },
  {
   "cell_type": "code",
   "execution_count": 5,
   "metadata": {},
   "outputs": [
    {
     "data": {
      "text/plain": [
       "(832, 3)"
      ]
     },
     "execution_count": 5,
     "metadata": {},
     "output_type": "execute_result"
    }
   ],
   "source": [
    "df.shape"
   ]
  },
  {
   "cell_type": "markdown",
   "metadata": {},
   "source": [
    "Print the name of all columns \n",
    "\n",
    "Use the `columns` method"
   ]
  },
  {
   "cell_type": "code",
   "execution_count": 6,
   "metadata": {},
   "outputs": [
    {
     "data": {
      "text/plain": [
       "Index(['ID', 'x1', 'x2'], dtype='object')"
      ]
     },
     "execution_count": 6,
     "metadata": {},
     "output_type": "execute_result"
    }
   ],
   "source": [
    "df.columns"
   ]
  },
  {
   "cell_type": "markdown",
   "metadata": {},
   "source": [
    "What is the data type in each column\n",
    "\n",
    "Use the `dtypes` method "
   ]
  },
  {
   "cell_type": "code",
   "execution_count": 7,
   "metadata": {},
   "outputs": [
    {
     "data": {
      "text/plain": [
       "ID      int64\n",
       "x1    float64\n",
       "x2    float64\n",
       "dtype: object"
      ]
     },
     "execution_count": 7,
     "metadata": {},
     "output_type": "execute_result"
    }
   ],
   "source": [
    "df.dtypes"
   ]
  },
  {
   "cell_type": "markdown",
   "metadata": {},
   "source": [
    "What is the meaning of rows and columns?"
   ]
  },
  {
   "cell_type": "code",
   "execution_count": 8,
   "metadata": {},
   "outputs": [],
   "source": [
    "# Your responses here\n",
    "\n",
    "# 1) ID: el número de la fila correspondiente\n",
    "\n",
    "# 2) X1: la variable independiente\n",
    "\n",
    "# 3) X2: la variable dependiente\n",
    "\n",
    "#..."
   ]
  },
  {
   "cell_type": "markdown",
   "metadata": {},
   "source": [
    "Print a statistical summary of your columns\n"
   ]
  },
  {
   "cell_type": "code",
   "execution_count": 9,
   "metadata": {
    "scrolled": true
   },
   "outputs": [
    {
     "data": {
      "text/html": [
       "<div>\n",
       "<style scoped>\n",
       "    .dataframe tbody tr th:only-of-type {\n",
       "        vertical-align: middle;\n",
       "    }\n",
       "\n",
       "    .dataframe tbody tr th {\n",
       "        vertical-align: top;\n",
       "    }\n",
       "\n",
       "    .dataframe thead th {\n",
       "        text-align: right;\n",
       "    }\n",
       "</style>\n",
       "<table border=\"1\" class=\"dataframe\">\n",
       "  <thead>\n",
       "    <tr style=\"text-align: right;\">\n",
       "      <th></th>\n",
       "      <th>ID</th>\n",
       "      <th>x1</th>\n",
       "      <th>x2</th>\n",
       "    </tr>\n",
       "  </thead>\n",
       "  <tbody>\n",
       "    <tr>\n",
       "      <th>count</th>\n",
       "      <td>832.000000</td>\n",
       "      <td>832.000000</td>\n",
       "      <td>832.000000</td>\n",
       "    </tr>\n",
       "    <tr>\n",
       "      <th>mean</th>\n",
       "      <td>415.500000</td>\n",
       "      <td>1.031846</td>\n",
       "      <td>-3.193600</td>\n",
       "    </tr>\n",
       "    <tr>\n",
       "      <th>std</th>\n",
       "      <td>240.322006</td>\n",
       "      <td>5.373093</td>\n",
       "      <td>4.587347</td>\n",
       "    </tr>\n",
       "    <tr>\n",
       "      <th>min</th>\n",
       "      <td>0.000000</td>\n",
       "      <td>-10.256424</td>\n",
       "      <td>-14.667000</td>\n",
       "    </tr>\n",
       "    <tr>\n",
       "      <th>25%</th>\n",
       "      <td>207.750000</td>\n",
       "      <td>-4.126864</td>\n",
       "      <td>-6.983113</td>\n",
       "    </tr>\n",
       "    <tr>\n",
       "      <th>50%</th>\n",
       "      <td>415.500000</td>\n",
       "      <td>1.737094</td>\n",
       "      <td>-3.467381</td>\n",
       "    </tr>\n",
       "    <tr>\n",
       "      <th>75%</th>\n",
       "      <td>623.250000</td>\n",
       "      <td>5.996116</td>\n",
       "      <td>0.799510</td>\n",
       "    </tr>\n",
       "    <tr>\n",
       "      <th>max</th>\n",
       "      <td>831.000000</td>\n",
       "      <td>11.003706</td>\n",
       "      <td>6.641423</td>\n",
       "    </tr>\n",
       "  </tbody>\n",
       "</table>\n",
       "</div>"
      ],
      "text/plain": [
       "               ID          x1          x2\n",
       "count  832.000000  832.000000  832.000000\n",
       "mean   415.500000    1.031846   -3.193600\n",
       "std    240.322006    5.373093    4.587347\n",
       "min      0.000000  -10.256424  -14.667000\n",
       "25%    207.750000   -4.126864   -6.983113\n",
       "50%    415.500000    1.737094   -3.467381\n",
       "75%    623.250000    5.996116    0.799510\n",
       "max    831.000000   11.003706    6.641423"
      ]
     },
     "execution_count": 9,
     "metadata": {},
     "output_type": "execute_result"
    }
   ],
   "source": [
    "df.describe()"
   ]
  },
  {
   "cell_type": "code",
   "execution_count": 10,
   "metadata": {},
   "outputs": [
    {
     "name": "stdout",
     "output_type": "stream",
     "text": [
      "Min: \n",
      " ID     0.000000\n",
      "x1   -10.256424\n",
      "x2   -14.667000\n",
      "dtype: float64\n",
      "Max: \n",
      " ID    831.000000\n",
      "x1     11.003706\n",
      "x2      6.641423\n",
      "dtype: float64\n",
      "Mean: \n",
      " ID    415.500000\n",
      "x1      1.031846\n",
      "x2     -3.193600\n",
      "dtype: float64\n",
      "Std: \n",
      " ID    240.322006\n",
      "x1      5.373093\n",
      "x2      4.587347\n",
      "dtype: float64\n"
     ]
    }
   ],
   "source": [
    "# 1) What is the minumum and maximum values of each variable\n",
    "\n",
    "print(\"Min: \\n\", df.min())\n",
    "print(\"Max: \\n\", df.max())\n",
    "\n",
    "# 2) What is the mean and standar deviation of each variable\n",
    "\n",
    "print(\"Mean: \\n\", df.mean())\n",
    "print(\"Std: \\n\", df.std())\n",
    "\n",
    "# 3) What the 25%, 50% and 75% represent?\n",
    "\n",
    "#los cuartiles, es decir, en dónde se concentra el 25%, 50% y 75% del total de los datos. "
   ]
  },
  {
   "cell_type": "markdown",
   "metadata": {},
   "source": [
    "Rename the columns using the same name with capital letters"
   ]
  },
  {
   "cell_type": "code",
   "execution_count": 11,
   "metadata": {},
   "outputs": [
    {
     "data": {
      "text/html": [
       "<div>\n",
       "<style scoped>\n",
       "    .dataframe tbody tr th:only-of-type {\n",
       "        vertical-align: middle;\n",
       "    }\n",
       "\n",
       "    .dataframe tbody tr th {\n",
       "        vertical-align: top;\n",
       "    }\n",
       "\n",
       "    .dataframe thead th {\n",
       "        text-align: right;\n",
       "    }\n",
       "</style>\n",
       "<table border=\"1\" class=\"dataframe\">\n",
       "  <thead>\n",
       "    <tr style=\"text-align: right;\">\n",
       "      <th></th>\n",
       "      <th>ID</th>\n",
       "      <th>X1</th>\n",
       "      <th>X2</th>\n",
       "    </tr>\n",
       "  </thead>\n",
       "  <tbody>\n",
       "    <tr>\n",
       "      <th>0</th>\n",
       "      <td>0</td>\n",
       "      <td>5.077749</td>\n",
       "      <td>-7.456755</td>\n",
       "    </tr>\n",
       "    <tr>\n",
       "      <th>1</th>\n",
       "      <td>1</td>\n",
       "      <td>-1.615164</td>\n",
       "      <td>2.462501</td>\n",
       "    </tr>\n",
       "    <tr>\n",
       "      <th>2</th>\n",
       "      <td>2</td>\n",
       "      <td>7.546860</td>\n",
       "      <td>-8.411728</td>\n",
       "    </tr>\n",
       "    <tr>\n",
       "      <th>3</th>\n",
       "      <td>3</td>\n",
       "      <td>3.189358</td>\n",
       "      <td>-3.003050</td>\n",
       "    </tr>\n",
       "    <tr>\n",
       "      <th>4</th>\n",
       "      <td>4</td>\n",
       "      <td>-8.058273</td>\n",
       "      <td>-5.373929</td>\n",
       "    </tr>\n",
       "  </tbody>\n",
       "</table>\n",
       "</div>"
      ],
      "text/plain": [
       "   ID        X1        X2\n",
       "0   0  5.077749 -7.456755\n",
       "1   1 -1.615164  2.462501\n",
       "2   2  7.546860 -8.411728\n",
       "3   3  3.189358 -3.003050\n",
       "4   4 -8.058273 -5.373929"
      ]
     },
     "execution_count": 11,
     "metadata": {},
     "output_type": "execute_result"
    }
   ],
   "source": [
    "df=df.rename(columns= {\"ID\":'ID', 'x1':'X1', 'x2':'X2'})\n",
    "df.head()"
   ]
  },
  {
   "cell_type": "markdown",
   "metadata": {},
   "source": [
    "Rename the columns to their original names"
   ]
  },
  {
   "cell_type": "code",
   "execution_count": 12,
   "metadata": {},
   "outputs": [
    {
     "data": {
      "text/html": [
       "<div>\n",
       "<style scoped>\n",
       "    .dataframe tbody tr th:only-of-type {\n",
       "        vertical-align: middle;\n",
       "    }\n",
       "\n",
       "    .dataframe tbody tr th {\n",
       "        vertical-align: top;\n",
       "    }\n",
       "\n",
       "    .dataframe thead th {\n",
       "        text-align: right;\n",
       "    }\n",
       "</style>\n",
       "<table border=\"1\" class=\"dataframe\">\n",
       "  <thead>\n",
       "    <tr style=\"text-align: right;\">\n",
       "      <th></th>\n",
       "      <th>id</th>\n",
       "      <th>x1</th>\n",
       "      <th>x2</th>\n",
       "    </tr>\n",
       "  </thead>\n",
       "  <tbody>\n",
       "    <tr>\n",
       "      <th>0</th>\n",
       "      <td>0</td>\n",
       "      <td>5.077749</td>\n",
       "      <td>-7.456755</td>\n",
       "    </tr>\n",
       "    <tr>\n",
       "      <th>1</th>\n",
       "      <td>1</td>\n",
       "      <td>-1.615164</td>\n",
       "      <td>2.462501</td>\n",
       "    </tr>\n",
       "    <tr>\n",
       "      <th>2</th>\n",
       "      <td>2</td>\n",
       "      <td>7.546860</td>\n",
       "      <td>-8.411728</td>\n",
       "    </tr>\n",
       "    <tr>\n",
       "      <th>3</th>\n",
       "      <td>3</td>\n",
       "      <td>3.189358</td>\n",
       "      <td>-3.003050</td>\n",
       "    </tr>\n",
       "    <tr>\n",
       "      <th>4</th>\n",
       "      <td>4</td>\n",
       "      <td>-8.058273</td>\n",
       "      <td>-5.373929</td>\n",
       "    </tr>\n",
       "  </tbody>\n",
       "</table>\n",
       "</div>"
      ],
      "text/plain": [
       "   id        x1        x2\n",
       "0   0  5.077749 -7.456755\n",
       "1   1 -1.615164  2.462501\n",
       "2   2  7.546860 -8.411728\n",
       "3   3  3.189358 -3.003050\n",
       "4   4 -8.058273 -5.373929"
      ]
     },
     "execution_count": 12,
     "metadata": {},
     "output_type": "execute_result"
    }
   ],
   "source": [
    "df=df.rename(columns= {\"ID\":'id', 'X1':'x1', 'X2':'x2'})\n",
    "df.head()"
   ]
  },
  {
   "cell_type": "markdown",
   "metadata": {},
   "source": [
    "Use two different alternatives to get one of the columns"
   ]
  },
  {
   "cell_type": "code",
   "execution_count": 13,
   "metadata": {},
   "outputs": [
    {
     "name": "stdout",
     "output_type": "stream",
     "text": [
      "           x1\n",
      "0    5.077749\n",
      "1   -1.615164\n",
      "2    7.546860\n",
      "3    3.189358\n",
      "4   -8.058273\n",
      "..        ...\n",
      "827 -0.492921\n",
      "828  4.914338\n",
      "829  3.990898\n",
      "830  7.436669\n",
      "831 -1.894283\n",
      "\n",
      "[832 rows x 1 columns]\n"
     ]
    }
   ],
   "source": [
    "print(df[['x1']])"
   ]
  },
  {
   "cell_type": "code",
   "execution_count": 14,
   "metadata": {},
   "outputs": [
    {
     "name": "stdout",
     "output_type": "stream",
     "text": [
      "0     -7.456755\n",
      "1      2.462501\n",
      "2     -8.411728\n",
      "3     -3.003050\n",
      "4     -5.373929\n",
      "         ...   \n",
      "827    2.675977\n",
      "828   -9.085483\n",
      "829   -3.923054\n",
      "830   -8.904405\n",
      "831    3.940896\n",
      "Name: x2, Length: 832, dtype: float64\n"
     ]
    }
   ],
   "source": [
    "print(df.x2)"
   ]
  },
  {
   "cell_type": "markdown",
   "metadata": {},
   "source": [
    "Get a slice of your data set: second and thrid columns and rows from 62 to 72"
   ]
  },
  {
   "cell_type": "code",
   "execution_count": 15,
   "metadata": {},
   "outputs": [
    {
     "data": {
      "text/html": [
       "<div>\n",
       "<style scoped>\n",
       "    .dataframe tbody tr th:only-of-type {\n",
       "        vertical-align: middle;\n",
       "    }\n",
       "\n",
       "    .dataframe tbody tr th {\n",
       "        vertical-align: top;\n",
       "    }\n",
       "\n",
       "    .dataframe thead th {\n",
       "        text-align: right;\n",
       "    }\n",
       "</style>\n",
       "<table border=\"1\" class=\"dataframe\">\n",
       "  <thead>\n",
       "    <tr style=\"text-align: right;\">\n",
       "      <th></th>\n",
       "      <th>x1</th>\n",
       "      <th>x2</th>\n",
       "    </tr>\n",
       "  </thead>\n",
       "  <tbody>\n",
       "    <tr>\n",
       "      <th>62</th>\n",
       "      <td>-3.468602</td>\n",
       "      <td>-5.776157</td>\n",
       "    </tr>\n",
       "    <tr>\n",
       "      <th>63</th>\n",
       "      <td>-1.835998</td>\n",
       "      <td>2.660965</td>\n",
       "    </tr>\n",
       "    <tr>\n",
       "      <th>64</th>\n",
       "      <td>-0.331878</td>\n",
       "      <td>1.173623</td>\n",
       "    </tr>\n",
       "    <tr>\n",
       "      <th>65</th>\n",
       "      <td>3.726557</td>\n",
       "      <td>-1.759892</td>\n",
       "    </tr>\n",
       "    <tr>\n",
       "      <th>66</th>\n",
       "      <td>4.669638</td>\n",
       "      <td>-9.956337</td>\n",
       "    </tr>\n",
       "    <tr>\n",
       "      <th>67</th>\n",
       "      <td>-7.910270</td>\n",
       "      <td>-7.611348</td>\n",
       "    </tr>\n",
       "    <tr>\n",
       "      <th>68</th>\n",
       "      <td>-7.769522</td>\n",
       "      <td>-4.776954</td>\n",
       "    </tr>\n",
       "    <tr>\n",
       "      <th>69</th>\n",
       "      <td>-5.431159</td>\n",
       "      <td>-2.942193</td>\n",
       "    </tr>\n",
       "    <tr>\n",
       "      <th>70</th>\n",
       "      <td>-3.139164</td>\n",
       "      <td>3.157842</td>\n",
       "    </tr>\n",
       "    <tr>\n",
       "      <th>71</th>\n",
       "      <td>5.081167</td>\n",
       "      <td>-2.550890</td>\n",
       "    </tr>\n",
       "    <tr>\n",
       "      <th>72</th>\n",
       "      <td>1.768879</td>\n",
       "      <td>-3.438822</td>\n",
       "    </tr>\n",
       "  </tbody>\n",
       "</table>\n",
       "</div>"
      ],
      "text/plain": [
       "          x1        x2\n",
       "62 -3.468602 -5.776157\n",
       "63 -1.835998  2.660965\n",
       "64 -0.331878  1.173623\n",
       "65  3.726557 -1.759892\n",
       "66  4.669638 -9.956337\n",
       "67 -7.910270 -7.611348\n",
       "68 -7.769522 -4.776954\n",
       "69 -5.431159 -2.942193\n",
       "70 -3.139164  3.157842\n",
       "71  5.081167 -2.550890\n",
       "72  1.768879 -3.438822"
      ]
     },
     "execution_count": 15,
     "metadata": {},
     "output_type": "execute_result"
    }
   ],
   "source": [
    "df.iloc[62:73, [1,2]]"
   ]
  },
  {
   "cell_type": "markdown",
   "metadata": {},
   "source": [
    "For the second and thrid columns, calculate the number of null and not null values and verify that their sum equals the total number of rows"
   ]
  },
  {
   "cell_type": "code",
   "execution_count": 16,
   "metadata": {},
   "outputs": [
    {
     "name": "stdout",
     "output_type": "stream",
     "text": [
      "0\n",
      "0\n",
      "832\n",
      "832\n"
     ]
    }
   ],
   "source": [
    "#numero de valores que son y no son na de cada columna\n",
    "print(sum(df.x1.isna()))\n",
    "print(sum(df.x2.isna()))\n",
    "print(sum(df.x1.notna()))\n",
    "print(sum(df.x2.notna()))"
   ]
  },
  {
   "cell_type": "code",
   "execution_count": 17,
   "metadata": {},
   "outputs": [
    {
     "name": "stdout",
     "output_type": "stream",
     "text": [
      "832\n",
      "832\n"
     ]
    }
   ],
   "source": [
    "#comprobamos que no hay datos perdidos\n",
    "print(df.x1.count())\n",
    "print(df.x2.count())"
   ]
  },
  {
   "cell_type": "markdown",
   "metadata": {},
   "source": [
    "Discard the first column\n"
   ]
  },
  {
   "cell_type": "code",
   "execution_count": 18,
   "metadata": {},
   "outputs": [
    {
     "data": {
      "text/html": [
       "<div>\n",
       "<style scoped>\n",
       "    .dataframe tbody tr th:only-of-type {\n",
       "        vertical-align: middle;\n",
       "    }\n",
       "\n",
       "    .dataframe tbody tr th {\n",
       "        vertical-align: top;\n",
       "    }\n",
       "\n",
       "    .dataframe thead th {\n",
       "        text-align: right;\n",
       "    }\n",
       "</style>\n",
       "<table border=\"1\" class=\"dataframe\">\n",
       "  <thead>\n",
       "    <tr style=\"text-align: right;\">\n",
       "      <th></th>\n",
       "      <th>x1</th>\n",
       "      <th>x2</th>\n",
       "    </tr>\n",
       "  </thead>\n",
       "  <tbody>\n",
       "    <tr>\n",
       "      <th>0</th>\n",
       "      <td>5.077749</td>\n",
       "      <td>-7.456755</td>\n",
       "    </tr>\n",
       "    <tr>\n",
       "      <th>1</th>\n",
       "      <td>-1.615164</td>\n",
       "      <td>2.462501</td>\n",
       "    </tr>\n",
       "    <tr>\n",
       "      <th>2</th>\n",
       "      <td>7.546860</td>\n",
       "      <td>-8.411728</td>\n",
       "    </tr>\n",
       "    <tr>\n",
       "      <th>3</th>\n",
       "      <td>3.189358</td>\n",
       "      <td>-3.003050</td>\n",
       "    </tr>\n",
       "    <tr>\n",
       "      <th>4</th>\n",
       "      <td>-8.058273</td>\n",
       "      <td>-5.373929</td>\n",
       "    </tr>\n",
       "  </tbody>\n",
       "</table>\n",
       "</div>"
      ],
      "text/plain": [
       "         x1        x2\n",
       "0  5.077749 -7.456755\n",
       "1 -1.615164  2.462501\n",
       "2  7.546860 -8.411728\n",
       "3  3.189358 -3.003050\n",
       "4 -8.058273 -5.373929"
      ]
     },
     "execution_count": 18,
     "metadata": {},
     "output_type": "execute_result"
    }
   ],
   "source": [
    "df.drop([\"id\"], axis=1, inplace=True)\n",
    "df.head()"
   ]
  },
  {
   "cell_type": "markdown",
   "metadata": {},
   "source": [
    "### Questions \n",
    "\n",
    "**Based on the previos reults, provide a description of yout dataset**\n",
    "\n",
    "Your response: Tenemos dos variables, x1 y x2. hay 832 filas y dos columnas. Antes había una columna como id pero no servía para propositos del trabajo.\n",
    "\n",
    "\n"
   ]
  },
  {
   "cell_type": "markdown",
   "metadata": {},
   "source": [
    "# A3 Data visualization"
   ]
  },
  {
   "cell_type": "markdown",
   "metadata": {},
   "source": [
    "Plot in the same figure the histogram of the two first two variables"
   ]
  },
  {
   "cell_type": "code",
   "execution_count": 19,
   "metadata": {},
   "outputs": [
    {
     "data": {
      "image/png": "[encoded data removed]",
      "text/plain": [
       "<Figure size 432x288 with 1 Axes>"
      ]
     },
     "metadata": {
      "needs_background": "light"
     },
     "output_type": "display_data"
    }
   ],
   "source": [
    "dfhist = sns.histplot(df, kde = False, element=\"step\")\n",
    "\n",
    "dfhist.set_title(\"Histogram of both x1 and x2\")\n",
    "\n",
    "plt.show()"
   ]
  },
  {
   "cell_type": "markdown",
   "metadata": {},
   "source": [
    "**Based on this two plots, provide a description of your data:**\n",
    "\n",
    "Podemos ver que x1 en general tiene más ocurrencias en el eje positivo a comparación de x2. Asimismo, x1 tiene más valores con mayor magnitud. Por otro lado podemos ver que tienen muchos valores que se repiten en el área gris de en medio de la gráfica. particularmente vemos que del rango de -10 a 0 se superponen uno con el otro."
   ]
  },
  {
   "cell_type": "markdown",
   "metadata": {},
   "source": [
    "Plot in the same figure the boxplot of the two first two variables "
   ]
  },
  {
   "cell_type": "code",
   "execution_count": 20,
   "metadata": {},
   "outputs": [
    {
     "data": {
      "image/png": "[encoded data removed]",
      "text/plain": [
       "<Figure size 432x288 with 1 Axes>"
      ]
     },
     "metadata": {
      "needs_background": "light"
     },
     "output_type": "display_data"
    }
   ],
   "source": [
    "# Create the boxplots of the \"x1\" and of the \"x2\" amounts\n",
    "x1andx2 = df.loc[:, [\"x1\", \"x2\"]]\n",
    "\n",
    "x2bp = sns.boxplot(data=x1andx2, orient=\"h\")\n",
    "x2bp.set_title(\"Box plot of x1 and x2\")\n",
    "\n",
    "plt.show()"
   ]
  },
  {
   "cell_type": "markdown",
   "metadata": {},
   "source": [
    "Scatter plot of the two first variables"
   ]
  },
  {
   "cell_type": "code",
   "execution_count": 21,
   "metadata": {},
   "outputs": [
    {
     "data": {
      "image/png": "[encoded data removed]",
      "text/plain": [
       "<Figure size 432x288 with 1 Axes>"
      ]
     },
     "metadata": {
      "needs_background": "light"
     },
     "output_type": "display_data"
    }
   ],
   "source": [
    "#hacemos un scatter plot asumiendo que x1 es la variable independiente y x2 la variable dependiente\n",
    "plt.scatter(df.x1, df.x2)\n",
    "plt.title('Scatter plot of x1 vs x2')\n",
    "plt.xlabel('x1')\n",
    "plt.ylabel('x2')\n",
    "plt.show()"
   ]
  },
  {
   "cell_type": "markdown",
   "metadata": {},
   "source": [
    "### Questions \n",
    "\n",
    "**Based on the previous plots, provide a description of yout dataset**\n",
    "\n",
    "En terminos generales, podemos ver que hay cuatro concentraciones importantes de datos. También podemos observar que si tomamos a x1 como variable independiente la mayoría de datos tienen valores negativos en el eje x2. \n",
    "\n",
    "\n"
   ]
  },
  {
   "cell_type": "markdown",
   "metadata": {},
   "source": [
    "# A4 Kmeans"
   ]
  },
  {
   "cell_type": "markdown",
   "metadata": {},
   "source": [
    "Do Kmeans clustering assuming a number of clusters accorgind to your scatter plot"
   ]
  },
  {
   "cell_type": "code",
   "execution_count": 22,
   "metadata": {},
   "outputs": [
    {
     "data": {
      "text/plain": [
       "array([3, 0, 3, 1, 2, 0, 1, 1, 0, 3, 2, 1, 0, 3, 1, 0, 1, 2, 3, 3, 2, 0,\n",
       "       1, 2, 1, 3, 1, 1, 3, 2, 2, 0, 1, 1, 0, 0, 2, 1, 3, 1, 3, 3, 2, 1,\n",
       "       3, 1, 2, 1, 3, 3, 2, 1, 2, 2, 3, 0, 1, 2, 0, 0, 1, 1, 2, 0, 0, 1,\n",
       "       3, 2, 2, 2, 0, 1, 1, 0, 0, 0, 3, 0, 1, 3, 3, 1, 2, 2, 3, 1, 0, 2,\n",
       "       0, 1, 2, 1, 1, 2, 2, 3, 3, 3, 2, 3, 2, 3, 3, 1, 3, 0, 2, 2, 0, 1,\n",
       "       1, 0, 0, 1, 3, 1, 3, 2, 0, 2, 2, 2, 2, 0, 2, 3, 2, 0, 0, 1, 1, 1,\n",
       "       3, 3, 2, 1, 0, 0, 3, 2, 2, 1, 2, 0, 1, 3, 1, 2, 0, 0, 0, 0, 3, 0,\n",
       "       0, 3, 1, 1, 1, 0, 3, 3, 3, 2, 0, 2, 2, 2, 3, 0, 0, 3, 2, 0, 1, 0,\n",
       "       3, 0, 3, 0, 2, 1, 3, 1, 1, 2, 1, 2, 3, 0, 0, 3, 2, 3, 2, 0, 1, 3,\n",
       "       1, 3, 2, 1, 1, 0, 1, 0, 0, 1, 2, 0, 0, 0, 2, 1, 2, 3, 2, 3, 2, 0,\n",
       "       3, 3, 0, 1, 1, 2, 0, 3, 1, 2, 2, 3, 2, 1, 2, 2, 3, 3, 3, 2, 0, 3,\n",
       "       0, 1, 2, 0, 0, 3, 1, 3, 1, 1, 2, 1, 0, 1, 0, 3, 3, 2, 3, 0, 3, 0,\n",
       "       3, 2, 0, 3, 2, 0, 3, 3, 2, 1, 3, 0, 0, 1, 0, 1, 2, 2, 2, 0, 0, 3,\n",
       "       3, 3, 1, 1, 1, 1, 1, 3, 2, 0, 3, 2, 0, 3, 0, 3, 1, 2, 2, 1, 2, 2,\n",
       "       2, 1, 2, 2, 0, 3, 1, 3, 2, 1, 2, 2, 3, 1, 3, 2, 0, 3, 3, 2, 2, 1,\n",
       "       3, 1, 0, 3, 3, 2, 3, 2, 0, 2, 3, 1, 0, 3, 2, 2, 1, 1, 1, 3, 1, 2,\n",
       "       0, 0, 3, 1, 2, 2, 0, 3, 3, 0, 3, 2, 1, 2, 3, 2, 3, 0, 0, 3, 2, 1,\n",
       "       0, 3, 2, 2, 1, 0, 1, 1, 2, 3, 2, 3, 2, 1, 2, 3, 0, 1, 2, 1, 1, 3,\n",
       "       0, 2, 3, 1, 0, 2, 0, 3, 3, 0, 0, 1, 0, 1, 2, 3, 1, 3, 2, 3, 0, 3,\n",
       "       3, 3, 2, 0, 2, 0, 3, 1, 2, 0, 0, 1, 1, 0, 0, 1, 1, 1, 2, 1, 2, 2,\n",
       "       2, 1, 2, 1, 0, 0, 0, 3, 0, 2, 2, 3, 3, 0, 0, 1, 1, 2, 3, 3, 3, 2,\n",
       "       3, 0, 2, 3, 0, 0, 0, 2, 0, 2, 2, 0, 3, 2, 0, 0, 3, 0, 2, 2, 1, 1,\n",
       "       3, 3, 2, 3, 3, 1, 3, 1, 0, 3, 2, 0, 3, 3, 3, 0, 2, 3, 2, 2, 1, 3,\n",
       "       1, 2, 1, 0, 0, 2, 1, 0, 1, 3, 2, 0, 2, 1, 1, 1, 1, 0, 3, 1, 3, 3,\n",
       "       1, 0, 3, 2, 1, 1, 0, 1, 0, 2, 3, 2, 0, 0, 0, 3, 0, 2, 2, 1, 1, 0,\n",
       "       1, 1, 0, 0, 1, 2, 0, 3, 0, 2, 3, 2, 1, 3, 2, 3, 2, 3, 3, 0, 2, 1,\n",
       "       1, 1, 1, 3, 1, 3, 0, 3, 3, 2, 1, 0, 3, 2, 0, 2, 2, 3, 0, 0, 2, 1,\n",
       "       3, 1, 1, 3, 1, 0, 2, 2, 3, 2, 2, 3, 3, 0, 3, 1, 3, 2, 3, 0, 1, 1,\n",
       "       3, 1, 1, 3, 2, 1, 3, 1, 1, 2, 1, 1, 1, 1, 0, 2, 0, 0, 1, 2, 0, 0,\n",
       "       2, 3, 0, 3, 1, 2, 2, 1, 2, 2, 0, 3, 1, 3, 3, 2, 3, 0, 2, 1, 2, 2,\n",
       "       2, 1, 1, 3, 2, 1, 3, 3, 2, 0, 2, 3, 3, 0, 1, 3, 2, 0, 3, 2, 3, 2,\n",
       "       0, 0, 2, 2, 1, 0, 2, 0, 1, 1, 3, 1, 3, 2, 0, 1, 2, 3, 0, 2, 0, 3,\n",
       "       3, 0, 1, 3, 1, 2, 3, 2, 1, 2, 2, 1, 1, 3, 3, 0, 0, 0, 0, 2, 3, 3,\n",
       "       1, 1, 1, 0, 0, 2, 1, 0, 0, 2, 0, 2, 1, 0, 1, 1, 2, 0, 3, 0, 1, 1,\n",
       "       1, 1, 0, 3, 2, 3, 0, 0, 1, 1, 1, 1, 1, 2, 0, 2, 3, 3, 1, 0, 0, 0,\n",
       "       2, 2, 1, 0, 1, 0, 3, 3, 3, 0, 2, 2, 1, 2, 2, 3, 1, 0, 3, 0, 3, 1,\n",
       "       1, 0, 1, 1, 2, 0, 2, 1, 0, 0, 0, 2, 2, 0, 0, 3, 1, 3, 3, 2, 2, 1,\n",
       "       1, 3, 0, 3, 0, 1, 3, 0, 0, 3, 3, 2, 0, 0, 3, 1, 3, 0])"
      ]
     },
     "execution_count": 22,
     "metadata": {},
     "output_type": "execute_result"
    }
   ],
   "source": [
    "k = 4\n",
    "km = KMeans(n_clusters=k)\n",
    "\n",
    "clusters = km.fit_predict(df[['x1', 'x2']])\n",
    "clusters"
   ]
  },
  {
   "cell_type": "markdown",
   "metadata": {},
   "source": [
    "Add to your dataset a column with the assihned cluster to each data point"
   ]
  },
  {
   "cell_type": "code",
   "execution_count": 23,
   "metadata": {},
   "outputs": [
    {
     "data": {
      "text/html": [
       "<div>\n",
       "<style scoped>\n",
       "    .dataframe tbody tr th:only-of-type {\n",
       "        vertical-align: middle;\n",
       "    }\n",
       "\n",
       "    .dataframe tbody tr th {\n",
       "        vertical-align: top;\n",
       "    }\n",
       "\n",
       "    .dataframe thead th {\n",
       "        text-align: right;\n",
       "    }\n",
       "</style>\n",
       "<table border=\"1\" class=\"dataframe\">\n",
       "  <thead>\n",
       "    <tr style=\"text-align: right;\">\n",
       "      <th></th>\n",
       "      <th>x1</th>\n",
       "      <th>x2</th>\n",
       "      <th>cluster1</th>\n",
       "    </tr>\n",
       "  </thead>\n",
       "  <tbody>\n",
       "    <tr>\n",
       "      <th>0</th>\n",
       "      <td>5.077749</td>\n",
       "      <td>-7.456755</td>\n",
       "      <td>3</td>\n",
       "    </tr>\n",
       "    <tr>\n",
       "      <th>1</th>\n",
       "      <td>-1.615164</td>\n",
       "      <td>2.462501</td>\n",
       "      <td>0</td>\n",
       "    </tr>\n",
       "    <tr>\n",
       "      <th>2</th>\n",
       "      <td>7.546860</td>\n",
       "      <td>-8.411728</td>\n",
       "      <td>3</td>\n",
       "    </tr>\n",
       "    <tr>\n",
       "      <th>3</th>\n",
       "      <td>3.189358</td>\n",
       "      <td>-3.003050</td>\n",
       "      <td>1</td>\n",
       "    </tr>\n",
       "    <tr>\n",
       "      <th>4</th>\n",
       "      <td>-8.058273</td>\n",
       "      <td>-5.373929</td>\n",
       "      <td>2</td>\n",
       "    </tr>\n",
       "    <tr>\n",
       "      <th>...</th>\n",
       "      <td>...</td>\n",
       "      <td>...</td>\n",
       "      <td>...</td>\n",
       "    </tr>\n",
       "    <tr>\n",
       "      <th>827</th>\n",
       "      <td>-0.492921</td>\n",
       "      <td>2.675977</td>\n",
       "      <td>0</td>\n",
       "    </tr>\n",
       "    <tr>\n",
       "      <th>828</th>\n",
       "      <td>4.914338</td>\n",
       "      <td>-9.085483</td>\n",
       "      <td>3</td>\n",
       "    </tr>\n",
       "    <tr>\n",
       "      <th>829</th>\n",
       "      <td>3.990898</td>\n",
       "      <td>-3.923054</td>\n",
       "      <td>1</td>\n",
       "    </tr>\n",
       "    <tr>\n",
       "      <th>830</th>\n",
       "      <td>7.436669</td>\n",
       "      <td>-8.904405</td>\n",
       "      <td>3</td>\n",
       "    </tr>\n",
       "    <tr>\n",
       "      <th>831</th>\n",
       "      <td>-1.894283</td>\n",
       "      <td>3.940896</td>\n",
       "      <td>0</td>\n",
       "    </tr>\n",
       "  </tbody>\n",
       "</table>\n",
       "<p>832 rows × 3 columns</p>\n",
       "</div>"
      ],
      "text/plain": [
       "           x1        x2  cluster1\n",
       "0    5.077749 -7.456755         3\n",
       "1   -1.615164  2.462501         0\n",
       "2    7.546860 -8.411728         3\n",
       "3    3.189358 -3.003050         1\n",
       "4   -8.058273 -5.373929         2\n",
       "..        ...       ...       ...\n",
       "827 -0.492921  2.675977         0\n",
       "828  4.914338 -9.085483         3\n",
       "829  3.990898 -3.923054         1\n",
       "830  7.436669 -8.904405         3\n",
       "831 -1.894283  3.940896         0\n",
       "\n",
       "[832 rows x 3 columns]"
      ]
     },
     "execution_count": 23,
     "metadata": {},
     "output_type": "execute_result"
    }
   ],
   "source": [
    "df[\"cluster1\"] = clusters\n",
    "\n",
    "df"
   ]
  },
  {
   "cell_type": "markdown",
   "metadata": {},
   "source": [
    "Print the number associated to each cluster"
   ]
  },
  {
   "cell_type": "code",
   "execution_count": 24,
   "metadata": {},
   "outputs": [
    {
     "data": {
      "text/plain": [
       "array([3, 0, 1, 2])"
      ]
     },
     "execution_count": 24,
     "metadata": {},
     "output_type": "execute_result"
    }
   ],
   "source": [
    "df.cluster1.unique()"
   ]
  },
  {
   "cell_type": "markdown",
   "metadata": {},
   "source": [
    "Print the centroids"
   ]
  },
  {
   "cell_type": "code",
   "execution_count": 25,
   "metadata": {},
   "outputs": [
    {
     "data": {
      "text/plain": [
       "array([[-1.77002291,  2.70269671],\n",
       "       [ 4.84319775, -1.10619569],\n",
       "       [-5.89773008, -5.4237069 ],\n",
       "       [ 6.91806514, -8.79546289]])"
      ]
     },
     "execution_count": 25,
     "metadata": {},
     "output_type": "execute_result"
    }
   ],
   "source": [
    "km.cluster_centers_"
   ]
  },
  {
   "cell_type": "markdown",
   "metadata": {},
   "source": [
    "Print the intertia metric"
   ]
  },
  {
   "cell_type": "code",
   "execution_count": 26,
   "metadata": {},
   "outputs": [
    {
     "data": {
      "text/plain": [
       "3909.578003709632"
      ]
     },
     "execution_count": 26,
     "metadata": {},
     "output_type": "execute_result"
    }
   ],
   "source": [
    "km.inertia_"
   ]
  },
  {
   "cell_type": "markdown",
   "metadata": {},
   "source": [
    "Plot a scatter plot of your data assigned to each cluster. Also plot the centroids"
   ]
  },
  {
   "cell_type": "code",
   "execution_count": 27,
   "metadata": {},
   "outputs": [
    {
     "name": "stderr",
     "output_type": "stream",
     "text": [
      "C:\\Users\\ABRAHA~1\\AppData\\Local\\Temp/ipykernel_3144/2065924096.py:6: MatplotlibDeprecationWarning: Case-insensitive properties were deprecated in 3.3 and support will be removed two minor releases later\n",
      "  plt.scatter(df1.x1, df1.x2, Label='Estimated cluster 1')\n",
      "C:\\Users\\ABRAHA~1\\AppData\\Local\\Temp/ipykernel_3144/2065924096.py:7: MatplotlibDeprecationWarning: Case-insensitive properties were deprecated in 3.3 and support will be removed two minor releases later\n",
      "  plt.scatter(df2.x1, df2.x2, Label='Estimated cluster 2')\n",
      "C:\\Users\\ABRAHA~1\\AppData\\Local\\Temp/ipykernel_3144/2065924096.py:8: MatplotlibDeprecationWarning: Case-insensitive properties were deprecated in 3.3 and support will be removed two minor releases later\n",
      "  plt.scatter(df3.x1, df3.x2, Label='Estimated cluster 3')\n",
      "C:\\Users\\ABRAHA~1\\AppData\\Local\\Temp/ipykernel_3144/2065924096.py:9: MatplotlibDeprecationWarning: Case-insensitive properties were deprecated in 3.3 and support will be removed two minor releases later\n",
      "  plt.scatter(df4.x1, df4.x2, Label='Estimated cluster 4')\n"
     ]
    },
    {
     "data": {
      "image/png": "[encoded data removed]",
      "text/plain": [
       "<Figure size 432x288 with 1 Axes>"
      ]
     },
     "metadata": {
      "needs_background": "light"
     },
     "output_type": "display_data"
    }
   ],
   "source": [
    "df1 = df[df.cluster1==0]\n",
    "df2 = df[df.cluster1==1]\n",
    "df3 = df[df.cluster1==2]\n",
    "df4 = df[df.cluster1==3]\n",
    "\n",
    "plt.scatter(df1.x1, df1.x2, Label='Estimated cluster 1')\n",
    "plt.scatter(df2.x1, df2.x2, Label='Estimated cluster 2')\n",
    "plt.scatter(df3.x1, df3.x2, Label='Estimated cluster 3')\n",
    "plt.scatter(df4.x1, df4.x2, Label='Estimated cluster 4')\n",
    "\n",
    "plt.scatter(km.cluster_centers_[:,0], km.cluster_centers_[:,1], color='magenta', marker='*', label='Centroides', s=256)\n",
    "\n",
    "plt.title('x1 vs x2 cluster plot')\n",
    "plt.xlabel('x1')\n",
    "plt.ylabel('x2')\n",
    "plt.legend()\n",
    "plt.show()"
   ]
  },
  {
   "cell_type": "markdown",
   "metadata": {},
   "source": [
    "### Questions \n",
    "\n",
    "**Provides a detailed description of your results**\n",
    "\n",
    "Como pudimos comprobar con este plot, efectivamente 4 clusters fue el número adecuado ya que podemos ver las cuatro concentraciones de datos con sus respectivos centroides."
   ]
  },
  {
   "cell_type": "markdown",
   "metadata": {},
   "source": [
    "# A4 Elbow plot\n",
    "\n",
    "Compute the Elbow plot"
   ]
  },
  {
   "cell_type": "code",
   "execution_count": 28,
   "metadata": {},
   "outputs": [],
   "source": [
    "sse = []\n",
    "k_rng = range(1, 10)\n",
    "\n",
    "for k in k_rng:\n",
    "    km = KMeans(n_clusters = k)\n",
    "    km.fit_predict(df[['x1', 'x2']])\n",
    "    sse.append(km.inertia_)"
   ]
  },
  {
   "cell_type": "code",
   "execution_count": 29,
   "metadata": {},
   "outputs": [
    {
     "data": {
      "text/plain": [
       "Text(0, 0.5, 'SSE')"
      ]
     },
     "execution_count": 29,
     "metadata": {},
     "output_type": "execute_result"
    },
    {
     "data": {
      "image/png": "[encoded data removed]",
      "text/plain": [
       "<Figure size 432x288 with 1 Axes>"
      ]
     },
     "metadata": {
      "needs_background": "light"
     },
     "output_type": "display_data"
    }
   ],
   "source": [
    "plt.plot(k_rng, sse)\n",
    "\n",
    "plt.title('Elbow plot')\n",
    "plt.xlabel('K')\n",
    "plt.ylabel('SSE')\n"
   ]
  },
  {
   "cell_type": "markdown",
   "metadata": {},
   "source": [
    "### Questions \n",
    "\n",
    "**What is the best number of clusters K? (argue your response)**\n",
    "\n",
    "Your response: 4 es el mejor número de clusters, puesto que si ponemos menos cada cluster ocuparía más datos y las fronteras entre un cluster y otro serían menos precisas y menos claras visualmente. En cambio, como podemos ver en el elbow plot, podemos ver que la tabla a partir de cuatro tiene su punto crítico, por lo tanto, 4 es el número de clusters adecuado.\n",
    "\n",
    "\n",
    "**Does this number of clusters agree with your inital guess? (argue your response)**\n",
    "\n",
    "Your response: Sí, desde el primer plot se veía una tendencia de cuatro agrupaciones de datos. \n",
    "\n"
   ]
  },
  {
   "cell_type": "markdown",
   "metadata": {},
   "source": [
    "# A4 Normalizing the data: preprocessing using min max scaler\n"
   ]
  },
  {
   "cell_type": "markdown",
   "metadata": {},
   "source": [
    "Normalize the data using min max scaler"
   ]
  },
  {
   "cell_type": "code",
   "execution_count": 30,
   "metadata": {},
   "outputs": [],
   "source": [
    "scaler = MinMaxScaler()\n",
    "\n",
    "scaler.fit(df[['x1']])\n",
    "df['x1'] = scaler.transform(df[['x1']])\n",
    "\n",
    "scaler.fit(df[['x2']])\n",
    "df['x2'] = scaler.transform(df[['x2']])"
   ]
  },
  {
   "cell_type": "markdown",
   "metadata": {},
   "source": [
    "Print a statistical summary of your columns (normalized data)"
   ]
  },
  {
   "cell_type": "code",
   "execution_count": 31,
   "metadata": {},
   "outputs": [
    {
     "data": {
      "text/html": [
       "<div>\n",
       "<style scoped>\n",
       "    .dataframe tbody tr th:only-of-type {\n",
       "        vertical-align: middle;\n",
       "    }\n",
       "\n",
       "    .dataframe tbody tr th {\n",
       "        vertical-align: top;\n",
       "    }\n",
       "\n",
       "    .dataframe thead th {\n",
       "        text-align: right;\n",
       "    }\n",
       "</style>\n",
       "<table border=\"1\" class=\"dataframe\">\n",
       "  <thead>\n",
       "    <tr style=\"text-align: right;\">\n",
       "      <th></th>\n",
       "      <th>x1</th>\n",
       "      <th>x2</th>\n",
       "      <th>cluster1</th>\n",
       "    </tr>\n",
       "  </thead>\n",
       "  <tbody>\n",
       "    <tr>\n",
       "      <th>count</th>\n",
       "      <td>832.000000</td>\n",
       "      <td>832.000000</td>\n",
       "      <td>832.000000</td>\n",
       "    </tr>\n",
       "    <tr>\n",
       "      <th>mean</th>\n",
       "      <td>0.530960</td>\n",
       "      <td>0.538444</td>\n",
       "      <td>1.509615</td>\n",
       "    </tr>\n",
       "    <tr>\n",
       "      <th>std</th>\n",
       "      <td>0.252731</td>\n",
       "      <td>0.215283</td>\n",
       "      <td>1.115433</td>\n",
       "    </tr>\n",
       "    <tr>\n",
       "      <th>min</th>\n",
       "      <td>0.000000</td>\n",
       "      <td>0.000000</td>\n",
       "      <td>0.000000</td>\n",
       "    </tr>\n",
       "    <tr>\n",
       "      <th>25%</th>\n",
       "      <td>0.288312</td>\n",
       "      <td>0.360603</td>\n",
       "      <td>1.000000</td>\n",
       "    </tr>\n",
       "    <tr>\n",
       "      <th>50%</th>\n",
       "      <td>0.564132</td>\n",
       "      <td>0.525596</td>\n",
       "      <td>2.000000</td>\n",
       "    </tr>\n",
       "    <tr>\n",
       "      <th>75%</th>\n",
       "      <td>0.764461</td>\n",
       "      <td>0.725840</td>\n",
       "      <td>3.000000</td>\n",
       "    </tr>\n",
       "    <tr>\n",
       "      <th>max</th>\n",
       "      <td>1.000000</td>\n",
       "      <td>1.000000</td>\n",
       "      <td>3.000000</td>\n",
       "    </tr>\n",
       "  </tbody>\n",
       "</table>\n",
       "</div>"
      ],
      "text/plain": [
       "               x1          x2    cluster1\n",
       "count  832.000000  832.000000  832.000000\n",
       "mean     0.530960    0.538444    1.509615\n",
       "std      0.252731    0.215283    1.115433\n",
       "min      0.000000    0.000000    0.000000\n",
       "25%      0.288312    0.360603    1.000000\n",
       "50%      0.564132    0.525596    2.000000\n",
       "75%      0.764461    0.725840    3.000000\n",
       "max      1.000000    1.000000    3.000000"
      ]
     },
     "execution_count": 31,
     "metadata": {},
     "output_type": "execute_result"
    }
   ],
   "source": [
    "df.describe()"
   ]
  },
  {
   "cell_type": "code",
   "execution_count": 32,
   "metadata": {},
   "outputs": [
    {
     "name": "stdout",
     "output_type": "stream",
     "text": [
      "Min: \n",
      " x1          0.0\n",
      "x2          0.0\n",
      "cluster1    0.0\n",
      "dtype: float64\n",
      "Max: \n",
      " x1          1.0\n",
      "x2          1.0\n",
      "cluster1    3.0\n",
      "dtype: float64\n",
      "Mean: \n",
      " x1          0.530960\n",
      "x2          0.538444\n",
      "cluster1    1.509615\n",
      "dtype: float64\n",
      "Std: \n",
      " x1          0.252731\n",
      "x2          0.215283\n",
      "cluster1    1.115433\n",
      "dtype: float64\n"
     ]
    }
   ],
   "source": [
    "# 1) What is the minumum and maximum values of each variable\n",
    "\n",
    "print(\"Min: \\n\", df.min())\n",
    "print(\"Max: \\n\", df.max())\n",
    "\n",
    "# 2) What is the mean and standar deviation of each variable\n",
    "\n",
    "print(\"Mean: \\n\", df.mean())\n",
    "print(\"Std: \\n\", df.std())\n",
    "\n",
    "# 3) What the 25%, 50% and 75% represent?\n",
    "\n",
    "#los cuartiles, es decir, en dónde se concentra el 25%, 50% y 75% del total de los datos. \n",
    "\n",
    "# 4) Are the minimum and maximum values equal to your original data?\n",
    "\n",
    "#No, porque ya usamos el escalamiento\n"
   ]
  },
  {
   "cell_type": "markdown",
   "metadata": {},
   "source": [
    "Plot the scatter plot of your normalizaed data"
   ]
  },
  {
   "cell_type": "code",
   "execution_count": 33,
   "metadata": {},
   "outputs": [
    {
     "data": {
      "image/png": "[encoded data removed]",
      "text/plain": [
       "<Figure size 432x288 with 1 Axes>"
      ]
     },
     "metadata": {
      "needs_background": "light"
     },
     "output_type": "display_data"
    }
   ],
   "source": [
    "plt.scatter(df.x1, df.x2)\n",
    "plt.title('Normalized scatter plot of x1 vs x2')\n",
    "plt.xlabel('x1')\n",
    "plt.ylabel('x2')\n",
    "plt.show()"
   ]
  },
  {
   "cell_type": "markdown",
   "metadata": {},
   "source": [
    "Do Kmeans clustering assuming a number of clusters accorgind to your scatter plot"
   ]
  },
  {
   "cell_type": "code",
   "execution_count": 34,
   "metadata": {},
   "outputs": [
    {
     "data": {
      "text/plain": [
       "array([3, 1, 3, 0, 2, 1, 0, 0, 1, 3, 2, 0, 1, 3, 0, 1, 0, 2, 3, 3, 2, 1,\n",
       "       0, 2, 0, 3, 0, 0, 3, 2, 2, 1, 0, 0, 1, 1, 2, 0, 3, 0, 3, 3, 2, 0,\n",
       "       3, 0, 2, 0, 3, 3, 2, 0, 2, 2, 3, 1, 0, 2, 1, 1, 0, 0, 2, 1, 1, 0,\n",
       "       3, 2, 2, 2, 1, 0, 0, 1, 1, 1, 3, 1, 0, 3, 3, 0, 2, 2, 3, 0, 1, 2,\n",
       "       1, 0, 2, 0, 0, 2, 2, 3, 3, 3, 2, 3, 2, 3, 3, 0, 3, 1, 2, 2, 1, 0,\n",
       "       0, 1, 1, 0, 3, 0, 3, 2, 1, 2, 2, 2, 2, 1, 2, 3, 2, 1, 1, 0, 0, 0,\n",
       "       3, 3, 2, 0, 1, 1, 3, 2, 2, 0, 2, 1, 0, 3, 0, 2, 1, 1, 1, 1, 3, 1,\n",
       "       1, 3, 0, 0, 0, 1, 3, 3, 3, 2, 1, 2, 2, 2, 3, 1, 1, 3, 2, 1, 0, 1,\n",
       "       3, 1, 3, 1, 2, 0, 3, 0, 0, 2, 0, 2, 3, 1, 1, 3, 2, 3, 2, 1, 0, 3,\n",
       "       0, 3, 2, 0, 0, 1, 0, 1, 1, 0, 2, 1, 1, 1, 2, 0, 2, 3, 2, 3, 2, 1,\n",
       "       3, 3, 1, 0, 0, 2, 1, 3, 0, 2, 2, 3, 2, 0, 2, 2, 3, 3, 3, 2, 1, 3,\n",
       "       1, 0, 2, 1, 1, 3, 0, 3, 0, 0, 2, 0, 1, 0, 1, 3, 3, 2, 3, 1, 3, 1,\n",
       "       3, 2, 1, 3, 2, 1, 3, 3, 2, 0, 3, 1, 1, 0, 1, 0, 2, 2, 2, 1, 1, 3,\n",
       "       3, 3, 0, 0, 0, 0, 0, 3, 2, 1, 3, 2, 1, 3, 1, 3, 0, 2, 2, 0, 2, 2,\n",
       "       2, 0, 2, 2, 1, 3, 0, 3, 2, 0, 2, 2, 3, 0, 3, 2, 1, 3, 3, 2, 2, 0,\n",
       "       3, 0, 1, 3, 3, 2, 3, 2, 1, 2, 3, 0, 1, 3, 2, 2, 0, 0, 0, 3, 0, 2,\n",
       "       1, 1, 3, 0, 2, 2, 1, 3, 3, 1, 3, 2, 0, 2, 3, 2, 3, 1, 1, 3, 2, 0,\n",
       "       1, 3, 2, 2, 0, 1, 0, 0, 2, 3, 2, 3, 2, 0, 2, 3, 1, 0, 2, 0, 0, 3,\n",
       "       1, 2, 3, 0, 1, 2, 1, 3, 3, 1, 1, 0, 1, 0, 2, 3, 0, 3, 2, 3, 1, 3,\n",
       "       3, 3, 2, 1, 2, 1, 3, 0, 2, 1, 1, 0, 0, 1, 1, 0, 0, 0, 2, 0, 2, 2,\n",
       "       2, 0, 2, 0, 1, 1, 1, 3, 1, 2, 2, 3, 3, 1, 1, 0, 0, 2, 3, 3, 3, 2,\n",
       "       3, 1, 2, 3, 1, 1, 1, 2, 1, 2, 2, 1, 3, 2, 1, 1, 3, 1, 2, 2, 0, 0,\n",
       "       3, 3, 2, 3, 3, 0, 3, 0, 1, 3, 2, 1, 3, 3, 3, 1, 2, 3, 2, 2, 0, 3,\n",
       "       0, 2, 0, 1, 1, 2, 0, 1, 0, 3, 2, 1, 2, 0, 0, 0, 0, 1, 3, 0, 3, 3,\n",
       "       0, 1, 3, 2, 0, 0, 1, 0, 1, 2, 3, 2, 1, 1, 1, 3, 1, 2, 2, 0, 0, 1,\n",
       "       0, 0, 1, 1, 0, 2, 1, 3, 1, 2, 3, 2, 0, 3, 2, 3, 2, 3, 3, 1, 2, 0,\n",
       "       0, 0, 0, 3, 0, 3, 1, 3, 3, 2, 0, 1, 3, 2, 1, 2, 2, 3, 1, 1, 2, 0,\n",
       "       3, 0, 0, 3, 0, 1, 2, 2, 3, 2, 2, 3, 3, 1, 3, 0, 3, 2, 3, 1, 0, 0,\n",
       "       3, 0, 0, 3, 2, 0, 3, 0, 0, 2, 0, 0, 0, 0, 1, 2, 1, 1, 0, 2, 1, 1,\n",
       "       2, 3, 1, 3, 0, 2, 2, 0, 2, 2, 1, 3, 0, 3, 3, 2, 3, 1, 2, 0, 2, 2,\n",
       "       2, 0, 0, 3, 2, 0, 3, 3, 2, 1, 2, 3, 3, 1, 0, 3, 2, 1, 3, 2, 3, 2,\n",
       "       1, 1, 2, 2, 0, 1, 2, 1, 0, 0, 3, 0, 3, 2, 1, 0, 2, 3, 1, 2, 1, 3,\n",
       "       3, 1, 0, 3, 0, 2, 3, 2, 0, 2, 2, 0, 0, 3, 3, 1, 1, 1, 1, 2, 3, 3,\n",
       "       0, 0, 0, 1, 1, 2, 0, 1, 1, 2, 1, 2, 0, 1, 0, 0, 2, 1, 3, 1, 0, 0,\n",
       "       0, 0, 1, 3, 2, 3, 1, 1, 0, 0, 0, 0, 0, 2, 1, 2, 3, 3, 0, 1, 1, 1,\n",
       "       2, 2, 0, 1, 0, 1, 3, 3, 3, 1, 2, 2, 0, 2, 2, 3, 0, 1, 3, 1, 3, 0,\n",
       "       0, 1, 0, 0, 2, 1, 2, 0, 1, 1, 1, 2, 2, 1, 1, 3, 0, 3, 3, 2, 2, 0,\n",
       "       0, 3, 1, 3, 1, 0, 3, 1, 1, 3, 3, 2, 1, 1, 3, 0, 3, 1])"
      ]
     },
     "execution_count": 34,
     "metadata": {},
     "output_type": "execute_result"
    }
   ],
   "source": [
    "k = 4\n",
    "km = KMeans(n_clusters=k)\n",
    "\n",
    "clusters = km.fit_predict(df[['x1', 'x2']])\n",
    "clusters"
   ]
  },
  {
   "cell_type": "markdown",
   "metadata": {},
   "source": [
    "Add to your dataset a column with the assihned cluster to each data point"
   ]
  },
  {
   "cell_type": "code",
   "execution_count": 35,
   "metadata": {},
   "outputs": [
    {
     "data": {
      "text/html": [
       "<div>\n",
       "<style scoped>\n",
       "    .dataframe tbody tr th:only-of-type {\n",
       "        vertical-align: middle;\n",
       "    }\n",
       "\n",
       "    .dataframe tbody tr th {\n",
       "        vertical-align: top;\n",
       "    }\n",
       "\n",
       "    .dataframe thead th {\n",
       "        text-align: right;\n",
       "    }\n",
       "</style>\n",
       "<table border=\"1\" class=\"dataframe\">\n",
       "  <thead>\n",
       "    <tr style=\"text-align: right;\">\n",
       "      <th></th>\n",
       "      <th>x1</th>\n",
       "      <th>x2</th>\n",
       "      <th>cluster1</th>\n",
       "      <th>cluster2</th>\n",
       "    </tr>\n",
       "  </thead>\n",
       "  <tbody>\n",
       "    <tr>\n",
       "      <th>0</th>\n",
       "      <td>0.721264</td>\n",
       "      <td>0.338375</td>\n",
       "      <td>3</td>\n",
       "      <td>3</td>\n",
       "    </tr>\n",
       "    <tr>\n",
       "      <th>1</th>\n",
       "      <td>0.406454</td>\n",
       "      <td>0.803884</td>\n",
       "      <td>0</td>\n",
       "      <td>1</td>\n",
       "    </tr>\n",
       "    <tr>\n",
       "      <th>2</th>\n",
       "      <td>0.837402</td>\n",
       "      <td>0.293559</td>\n",
       "      <td>3</td>\n",
       "      <td>3</td>\n",
       "    </tr>\n",
       "    <tr>\n",
       "      <th>3</th>\n",
       "      <td>0.632441</td>\n",
       "      <td>0.547387</td>\n",
       "      <td>1</td>\n",
       "      <td>0</td>\n",
       "    </tr>\n",
       "    <tr>\n",
       "      <th>4</th>\n",
       "      <td>0.103393</td>\n",
       "      <td>0.436122</td>\n",
       "      <td>2</td>\n",
       "      <td>2</td>\n",
       "    </tr>\n",
       "    <tr>\n",
       "      <th>...</th>\n",
       "      <td>...</td>\n",
       "      <td>...</td>\n",
       "      <td>...</td>\n",
       "      <td>...</td>\n",
       "    </tr>\n",
       "    <tr>\n",
       "      <th>827</th>\n",
       "      <td>0.459240</td>\n",
       "      <td>0.813902</td>\n",
       "      <td>0</td>\n",
       "      <td>1</td>\n",
       "    </tr>\n",
       "    <tr>\n",
       "      <th>828</th>\n",
       "      <td>0.713578</td>\n",
       "      <td>0.261939</td>\n",
       "      <td>3</td>\n",
       "      <td>3</td>\n",
       "    </tr>\n",
       "    <tr>\n",
       "      <th>829</th>\n",
       "      <td>0.670143</td>\n",
       "      <td>0.504211</td>\n",
       "      <td>1</td>\n",
       "      <td>0</td>\n",
       "    </tr>\n",
       "    <tr>\n",
       "      <th>830</th>\n",
       "      <td>0.832219</td>\n",
       "      <td>0.270437</td>\n",
       "      <td>3</td>\n",
       "      <td>3</td>\n",
       "    </tr>\n",
       "    <tr>\n",
       "      <th>831</th>\n",
       "      <td>0.393325</td>\n",
       "      <td>0.873265</td>\n",
       "      <td>0</td>\n",
       "      <td>1</td>\n",
       "    </tr>\n",
       "  </tbody>\n",
       "</table>\n",
       "<p>832 rows × 4 columns</p>\n",
       "</div>"
      ],
      "text/plain": [
       "           x1        x2  cluster1  cluster2\n",
       "0    0.721264  0.338375         3         3\n",
       "1    0.406454  0.803884         0         1\n",
       "2    0.837402  0.293559         3         3\n",
       "3    0.632441  0.547387         1         0\n",
       "4    0.103393  0.436122         2         2\n",
       "..        ...       ...       ...       ...\n",
       "827  0.459240  0.813902         0         1\n",
       "828  0.713578  0.261939         3         3\n",
       "829  0.670143  0.504211         1         0\n",
       "830  0.832219  0.270437         3         3\n",
       "831  0.393325  0.873265         0         1\n",
       "\n",
       "[832 rows x 4 columns]"
      ]
     },
     "execution_count": 35,
     "metadata": {},
     "output_type": "execute_result"
    }
   ],
   "source": [
    "df[\"cluster2\"] = clusters\n",
    "\n",
    "df"
   ]
  },
  {
   "cell_type": "markdown",
   "metadata": {},
   "source": [
    "Print the centroids"
   ]
  },
  {
   "cell_type": "code",
   "execution_count": 36,
   "metadata": {},
   "outputs": [
    {
     "data": {
      "text/plain": [
       "array([[0.71023187, 0.63640582],\n",
       "       [0.39916977, 0.81515638],\n",
       "       [0.20501729, 0.43378588],\n",
       "       [0.80782616, 0.27555005]])"
      ]
     },
     "execution_count": 36,
     "metadata": {},
     "output_type": "execute_result"
    }
   ],
   "source": [
    "km.cluster_centers_"
   ]
  },
  {
   "cell_type": "markdown",
   "metadata": {},
   "source": [
    "Print the intetia metric"
   ]
  },
  {
   "cell_type": "code",
   "execution_count": 37,
   "metadata": {},
   "outputs": [
    {
     "data": {
      "text/plain": [
       "8.630794955626053"
      ]
     },
     "execution_count": 37,
     "metadata": {},
     "output_type": "execute_result"
    }
   ],
   "source": [
    "km.inertia_"
   ]
  },
  {
   "cell_type": "markdown",
   "metadata": {},
   "source": [
    "Plot a scatter plot of your data assigned to each cluster. Also plot the centroids"
   ]
  },
  {
   "cell_type": "code",
   "execution_count": 38,
   "metadata": {},
   "outputs": [
    {
     "name": "stderr",
     "output_type": "stream",
     "text": [
      "C:\\Users\\ABRAHA~1\\AppData\\Local\\Temp/ipykernel_3144/4102893723.py:6: MatplotlibDeprecationWarning: Case-insensitive properties were deprecated in 3.3 and support will be removed two minor releases later\n",
      "  plt.scatter(df1.x1, df1.x2, Label='Estimated cluster 1')\n",
      "C:\\Users\\ABRAHA~1\\AppData\\Local\\Temp/ipykernel_3144/4102893723.py:7: MatplotlibDeprecationWarning: Case-insensitive properties were deprecated in 3.3 and support will be removed two minor releases later\n",
      "  plt.scatter(df2.x1, df2.x2, Label='Estimated cluster 2')\n",
      "C:\\Users\\ABRAHA~1\\AppData\\Local\\Temp/ipykernel_3144/4102893723.py:8: MatplotlibDeprecationWarning: Case-insensitive properties were deprecated in 3.3 and support will be removed two minor releases later\n",
      "  plt.scatter(df3.x1, df3.x2, Label='Estimated cluster 3')\n",
      "C:\\Users\\ABRAHA~1\\AppData\\Local\\Temp/ipykernel_3144/4102893723.py:9: MatplotlibDeprecationWarning: Case-insensitive properties were deprecated in 3.3 and support will be removed two minor releases later\n",
      "  plt.scatter(df4.x1, df4.x2, Label='Estimated cluster 4')\n"
     ]
    },
    {
     "data": {
      "image/png": "[encoded data removed]",
      "text/plain": [
       "<Figure size 432x288 with 1 Axes>"
      ]
     },
     "metadata": {
      "needs_background": "light"
     },
     "output_type": "display_data"
    }
   ],
   "source": [
    "df1 = df[df.cluster2==0]\n",
    "df2 = df[df.cluster2==1]\n",
    "df3 = df[df.cluster2==2]\n",
    "df4 = df[df.cluster2==3]\n",
    "\n",
    "plt.scatter(df1.x1, df1.x2, Label='Estimated cluster 1')\n",
    "plt.scatter(df2.x1, df2.x2, Label='Estimated cluster 2')\n",
    "plt.scatter(df3.x1, df3.x2, Label='Estimated cluster 3')\n",
    "plt.scatter(df4.x1, df4.x2, Label='Estimated cluster 4')\n",
    "\n",
    "plt.scatter(km.cluster_centers_[:,0], km.cluster_centers_[:,1], color='magenta', marker='*', label='Centroides', s=256)\n",
    "\n",
    "plt.title('x1 vs x2 cluster plot')\n",
    "plt.xlabel('x1')\n",
    "plt.ylabel('x2')\n",
    "plt.legend()\n",
    "plt.show()"
   ]
  },
  {
   "cell_type": "markdown",
   "metadata": {},
   "source": [
    "### Questions \n",
    "\n",
    "**Provides a detailed description of your results. Does the normalization improves the clustering?**\n",
    "\n",
    "Your response: En general no mejora mucho, puesto que los resultados son muy parecidos. Pero es muy util puesto que al estar normalizados podemos hacer más análisis estadísticos a partir de ello."
   ]
  },
  {
   "cell_type": "markdown",
   "metadata": {},
   "source": [
    "# Descipcion de tu percepcion del nivel de desarrollo de la subcompetencia \n",
    "\n",
    "### SING0202A Interpretación de variables\n"
   ]
  },
  {
   "cell_type": "markdown",
   "metadata": {},
   "source": [
    "Escribe tu description del nivel de logro del siguiente criterio de la subcompetencia\n",
    "\n",
    "**Interpreta interacciones**. Interpreta interacciones entre variables relevantes en un problema, como base para la construcción de modelos bivariados basados en datos de un fenómeno investigado que le permita reproducir la respuesta del mismo."
   ]
  },
  {
   "cell_type": "markdown",
   "metadata": {},
   "source": [
    "Tu respuesta: Creo que desarrolle una comprensión satisfactoria de la interpretación de interacciones. Gracias a la visualización de los datos pude hacer análisis y tomar la acción adecuada."
   ]
  },
  {
   "cell_type": "markdown",
   "metadata": {},
   "source": [
    "Escribe tu description del nivel de logro del siguiente criterio de la subcompetencia\n",
    "\n",
    "**Construcción de modelos**. Es capaz de construir modelos bivariados que expliquen el comportamiento de un fenómeno."
   ]
  },
  {
   "cell_type": "markdown",
   "metadata": {},
   "source": [
    "Tu respuesta: Gracias a la visualización y el aprendizaje del uso de las librearias pude realizar el análisis del modelo bivariado."
   ]
  }
 ],
 "metadata": {
  "kernelspec": {
   "display_name": "Python 3 (ipykernel)",
   "language": "python",
   "name": "python3"
  },
  "language_info": {
   "codemirror_mode": {
    "name": "ipython",
    "version": 3
   },
   "file_extension": ".py",
   "mimetype": "text/x-python",
   "name": "python",
   "nbconvert_exporter": "python",
   "pygments_lexer": "ipython3",
   "version": "3.9.5"
  }
 },
 "nbformat": 4,
 "nbformat_minor": 2
}
