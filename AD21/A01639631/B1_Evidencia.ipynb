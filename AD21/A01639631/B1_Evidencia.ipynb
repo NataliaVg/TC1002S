{
 "cells": [
  {
   "cell_type": "markdown",
   "metadata": {},
   "source": [
    "# TC1002S Herramientas computacionales: el arte de la analítica\n",
    "\n",
    "This is a notebook with all your work for the final evidence of this course\n",
    "\n",
    "\n",
    "# Niveles de dominio a demostrar con la evidencia\n",
    "\n",
    "### SING0202A\n",
    "\n",
    "Interpreta interacciones entre variables relevantes en un problema, como base para la construcción de modelos bivariados basados en datos de un fenómeno investigado que le permita reproducir la respuesta del mismo. Es capaz de construir modelos bivariados que expliquen el comportamiento de un fenómeno.\n",
    "\n",
    "\n",
    "# Student information\n",
    "\n",
    "- Name: Alan Paul García Rosales\n",
    "\n",
    "- ID: A01639631\n",
    "\n",
    "- My career: Ingeniería en Tecnologías Computacionales\n"
   ]
  },
  {
   "cell_type": "markdown",
   "metadata": {},
   "source": [
    "# Importing libraries"
   ]
  },
  {
   "cell_type": "code",
   "execution_count": 1,
   "metadata": {},
   "outputs": [],
   "source": [
    "# Import the packages that we will be using\n",
    "import pandas as pd\n",
    "import seaborn as sns\n",
    "import matplotlib.pyplot as plt\n",
    "import numpy as np\n",
    "from sklearn.cluster import KMeans\n"
   ]
  },
  {
   "cell_type": "markdown",
   "metadata": {},
   "source": [
    "# A1 Load your dataset"
   ]
  },
  {
   "cell_type": "code",
   "execution_count": 2,
   "metadata": {},
   "outputs": [],
   "source": [
    "url = \"A01639631.csv\"\n",
    "\n",
    "#Read de .csv file snf dtore it as a pandas dataframe\n",
    "dataset = pd.read_csv(url)\n"
   ]
  },
  {
   "cell_type": "markdown",
   "metadata": {},
   "source": [
    "# A2 DataManagment\n"
   ]
  },
  {
   "cell_type": "markdown",
   "metadata": {},
   "source": [
    "Print the first 7 rows"
   ]
  },
  {
   "cell_type": "code",
   "execution_count": 3,
   "metadata": {},
   "outputs": [
    {
     "data": {
      "text/html": [
       "<div>\n",
       "<style scoped>\n",
       "    .dataframe tbody tr th:only-of-type {\n",
       "        vertical-align: middle;\n",
       "    }\n",
       "\n",
       "    .dataframe tbody tr th {\n",
       "        vertical-align: top;\n",
       "    }\n",
       "\n",
       "    .dataframe thead th {\n",
       "        text-align: right;\n",
       "    }\n",
       "</style>\n",
       "<table border=\"1\" class=\"dataframe\">\n",
       "  <thead>\n",
       "    <tr style=\"text-align: right;\">\n",
       "      <th></th>\n",
       "      <th>ID</th>\n",
       "      <th>x1</th>\n",
       "      <th>x2</th>\n",
       "    </tr>\n",
       "  </thead>\n",
       "  <tbody>\n",
       "    <tr>\n",
       "      <th>0</th>\n",
       "      <td>0</td>\n",
       "      <td>-9.214419</td>\n",
       "      <td>7.177861</td>\n",
       "    </tr>\n",
       "    <tr>\n",
       "      <th>1</th>\n",
       "      <td>1</td>\n",
       "      <td>2.193402</td>\n",
       "      <td>-9.358009</td>\n",
       "    </tr>\n",
       "    <tr>\n",
       "      <th>2</th>\n",
       "      <td>2</td>\n",
       "      <td>4.917426</td>\n",
       "      <td>-8.772537</td>\n",
       "    </tr>\n",
       "    <tr>\n",
       "      <th>3</th>\n",
       "      <td>3</td>\n",
       "      <td>-0.777367</td>\n",
       "      <td>-10.054131</td>\n",
       "    </tr>\n",
       "    <tr>\n",
       "      <th>4</th>\n",
       "      <td>4</td>\n",
       "      <td>1.298164</td>\n",
       "      <td>-9.979186</td>\n",
       "    </tr>\n",
       "    <tr>\n",
       "      <th>5</th>\n",
       "      <td>5</td>\n",
       "      <td>3.131421</td>\n",
       "      <td>1.670491</td>\n",
       "    </tr>\n",
       "    <tr>\n",
       "      <th>6</th>\n",
       "      <td>6</td>\n",
       "      <td>2.636127</td>\n",
       "      <td>-11.883866</td>\n",
       "    </tr>\n",
       "  </tbody>\n",
       "</table>\n",
       "</div>"
      ],
      "text/plain": [
       "   ID        x1         x2\n",
       "0   0 -9.214419   7.177861\n",
       "1   1  2.193402  -9.358009\n",
       "2   2  4.917426  -8.772537\n",
       "3   3 -0.777367 -10.054131\n",
       "4   4  1.298164  -9.979186\n",
       "5   5  3.131421   1.670491\n",
       "6   6  2.636127 -11.883866"
      ]
     },
     "execution_count": 3,
     "metadata": {},
     "output_type": "execute_result"
    }
   ],
   "source": [
    "dataset.head(7)\n"
   ]
  },
  {
   "cell_type": "markdown",
   "metadata": {},
   "source": [
    "Print the first 4 last rows"
   ]
  },
  {
   "cell_type": "code",
   "execution_count": 4,
   "metadata": {},
   "outputs": [
    {
     "data": {
      "text/html": [
       "<div>\n",
       "<style scoped>\n",
       "    .dataframe tbody tr th:only-of-type {\n",
       "        vertical-align: middle;\n",
       "    }\n",
       "\n",
       "    .dataframe tbody tr th {\n",
       "        vertical-align: top;\n",
       "    }\n",
       "\n",
       "    .dataframe thead th {\n",
       "        text-align: right;\n",
       "    }\n",
       "</style>\n",
       "<table border=\"1\" class=\"dataframe\">\n",
       "  <thead>\n",
       "    <tr style=\"text-align: right;\">\n",
       "      <th></th>\n",
       "      <th>ID</th>\n",
       "      <th>x1</th>\n",
       "      <th>x2</th>\n",
       "    </tr>\n",
       "  </thead>\n",
       "  <tbody>\n",
       "    <tr>\n",
       "      <th>627</th>\n",
       "      <td>627</td>\n",
       "      <td>-11.114813</td>\n",
       "      <td>9.839311</td>\n",
       "    </tr>\n",
       "    <tr>\n",
       "      <th>628</th>\n",
       "      <td>628</td>\n",
       "      <td>4.028000</td>\n",
       "      <td>-0.113844</td>\n",
       "    </tr>\n",
       "    <tr>\n",
       "      <th>629</th>\n",
       "      <td>629</td>\n",
       "      <td>-1.241921</td>\n",
       "      <td>-10.479683</td>\n",
       "    </tr>\n",
       "    <tr>\n",
       "      <th>630</th>\n",
       "      <td>630</td>\n",
       "      <td>4.048131</td>\n",
       "      <td>-7.605697</td>\n",
       "    </tr>\n",
       "  </tbody>\n",
       "</table>\n",
       "</div>"
      ],
      "text/plain": [
       "      ID         x1         x2\n",
       "627  627 -11.114813   9.839311\n",
       "628  628   4.028000  -0.113844\n",
       "629  629  -1.241921 -10.479683\n",
       "630  630   4.048131  -7.605697"
      ]
     },
     "execution_count": 4,
     "metadata": {},
     "output_type": "execute_result"
    }
   ],
   "source": [
    "dataset.tail(4)\n"
   ]
  },
  {
   "cell_type": "markdown",
   "metadata": {},
   "source": [
    "How many rows and columns are in your data?\n",
    "\n",
    "Use the `shape` method\n"
   ]
  },
  {
   "cell_type": "code",
   "execution_count": 5,
   "metadata": {},
   "outputs": [
    {
     "name": "stdout",
     "output_type": "stream",
     "text": [
      "(631, 3)\n"
     ]
    }
   ],
   "source": [
    "print(dataset.shape)"
   ]
  },
  {
   "cell_type": "markdown",
   "metadata": {},
   "source": [
    "Print the name of all columns \n",
    "\n",
    "Use the `columns` method"
   ]
  },
  {
   "cell_type": "code",
   "execution_count": 6,
   "metadata": {},
   "outputs": [
    {
     "name": "stdout",
     "output_type": "stream",
     "text": [
      "Index(['ID', 'x1', 'x2'], dtype='object')\n"
     ]
    }
   ],
   "source": [
    "print(dataset.columns)"
   ]
  },
  {
   "cell_type": "markdown",
   "metadata": {},
   "source": [
    "What is the data type in each column\n",
    "\n",
    "Use the `dtypes` method "
   ]
  },
  {
   "cell_type": "code",
   "execution_count": 7,
   "metadata": {},
   "outputs": [
    {
     "name": "stdout",
     "output_type": "stream",
     "text": [
      "ID      int64\n",
      "x1    float64\n",
      "x2    float64\n",
      "dtype: object\n"
     ]
    }
   ],
   "source": [
    "print(dataset.dtypes)"
   ]
  },
  {
   "cell_type": "markdown",
   "metadata": {},
   "source": [
    "What is the meaning of rows and columns?"
   ]
  },
  {
   "cell_type": "code",
   "execution_count": 8,
   "metadata": {},
   "outputs": [],
   "source": [
    "# Your responses here\n",
    "\n",
    "# 1) La primera columna solo son ID's para identificar el número de dato en el que estamos trabajando.\n",
    "\n",
    "# 2) La segunda columna, supongo es una posición 'x1' de un plano.\n",
    "\n",
    "# 3) Siguiendo la lógica de la segunda columna, puedo decir que la tercera columna \n",
    "#    es la posición 'x2' del mismo plano."
   ]
  },
  {
   "cell_type": "markdown",
   "metadata": {},
   "source": [
    "Print a statistical summary of your columns\n"
   ]
  },
  {
   "cell_type": "code",
   "execution_count": 9,
   "metadata": {},
   "outputs": [
    {
     "data": {
      "text/html": [
       "<div>\n",
       "<style scoped>\n",
       "    .dataframe tbody tr th:only-of-type {\n",
       "        vertical-align: middle;\n",
       "    }\n",
       "\n",
       "    .dataframe tbody tr th {\n",
       "        vertical-align: top;\n",
       "    }\n",
       "\n",
       "    .dataframe thead th {\n",
       "        text-align: right;\n",
       "    }\n",
       "</style>\n",
       "<table border=\"1\" class=\"dataframe\">\n",
       "  <thead>\n",
       "    <tr style=\"text-align: right;\">\n",
       "      <th></th>\n",
       "      <th>ID</th>\n",
       "      <th>x1</th>\n",
       "      <th>x2</th>\n",
       "    </tr>\n",
       "  </thead>\n",
       "  <tbody>\n",
       "    <tr>\n",
       "      <th>count</th>\n",
       "      <td>631.00000</td>\n",
       "      <td>631.000000</td>\n",
       "      <td>631.000000</td>\n",
       "    </tr>\n",
       "    <tr>\n",
       "      <th>mean</th>\n",
       "      <td>315.00000</td>\n",
       "      <td>-0.650699</td>\n",
       "      <td>-2.229706</td>\n",
       "    </tr>\n",
       "    <tr>\n",
       "      <th>std</th>\n",
       "      <td>182.29829</td>\n",
       "      <td>5.939449</td>\n",
       "      <td>7.805425</td>\n",
       "    </tr>\n",
       "    <tr>\n",
       "      <th>min</th>\n",
       "      <td>0.00000</td>\n",
       "      <td>-13.710642</td>\n",
       "      <td>-12.719525</td>\n",
       "    </tr>\n",
       "    <tr>\n",
       "      <th>25%</th>\n",
       "      <td>157.50000</td>\n",
       "      <td>-4.852768</td>\n",
       "      <td>-9.337492</td>\n",
       "    </tr>\n",
       "    <tr>\n",
       "      <th>50%</th>\n",
       "      <td>315.00000</td>\n",
       "      <td>1.386670</td>\n",
       "      <td>-5.284323</td>\n",
       "    </tr>\n",
       "    <tr>\n",
       "      <th>75%</th>\n",
       "      <td>472.50000</td>\n",
       "      <td>4.073813</td>\n",
       "      <td>5.041169</td>\n",
       "    </tr>\n",
       "    <tr>\n",
       "      <th>max</th>\n",
       "      <td>630.00000</td>\n",
       "      <td>8.037764</td>\n",
       "      <td>13.101330</td>\n",
       "    </tr>\n",
       "  </tbody>\n",
       "</table>\n",
       "</div>"
      ],
      "text/plain": [
       "              ID          x1          x2\n",
       "count  631.00000  631.000000  631.000000\n",
       "mean   315.00000   -0.650699   -2.229706\n",
       "std    182.29829    5.939449    7.805425\n",
       "min      0.00000  -13.710642  -12.719525\n",
       "25%    157.50000   -4.852768   -9.337492\n",
       "50%    315.00000    1.386670   -5.284323\n",
       "75%    472.50000    4.073813    5.041169\n",
       "max    630.00000    8.037764   13.101330"
      ]
     },
     "execution_count": 9,
     "metadata": {},
     "output_type": "execute_result"
    }
   ],
   "source": [
    "dataset.describe()"
   ]
  },
  {
   "cell_type": "code",
   "execution_count": 10,
   "metadata": {},
   "outputs": [],
   "source": [
    "#Para las siguientes preguntas no tomaré en cuenta la variable 1, porque \n",
    "#solamente nos dice la fila en la que nos encontramos\n",
    "\n",
    "# 1) What is the minumum and maximum values of each variable\n",
    "#Para x1: mínimo: -13.710642;  máximo: 8.037764\n",
    "#Para x2: mínimo: -12.719525;  máximo: 13.101330\n",
    "\n",
    "# 2) What is the mean and standar deviation of each variable\n",
    "#Para x1: mean: -0.650699; std: 5.939449\n",
    "#Para x2: mean: -2.229706; std: 7.805425\n",
    "\n",
    "# 3) What the 25%, 50% and 75% represent?\n",
    "#Estos porcentajes representan los cuartiles, el primer cuartil (25%) indica que el 25% de los datos\n",
    "#son menor que o iguales al número mostrado.\n",
    "\n",
    "#El segundo cuartil se refiere a la mediana, y nos indica que la mitad de los datos son menores a esta.\n",
    "\n",
    "#El tercer cuartil (75%) nos indica que el 75% de los datos son menores al número mostrado en esta fila.\n"
   ]
  },
  {
   "cell_type": "markdown",
   "metadata": {},
   "source": [
    "Rename the columns using the same name with capital letters"
   ]
  },
  {
   "cell_type": "code",
   "execution_count": 11,
   "metadata": {},
   "outputs": [
    {
     "data": {
      "text/plain": [
       "Index(['ID', 'X1', 'X2'], dtype='object')"
      ]
     },
     "execution_count": 11,
     "metadata": {},
     "output_type": "execute_result"
    }
   ],
   "source": [
    "dataset = dataset.rename(columns={'ID':'ID', 'x1':'X1', 'x2':'X2'})\n",
    "dataset.columns"
   ]
  },
  {
   "cell_type": "markdown",
   "metadata": {},
   "source": [
    "Rename the columns to their original names"
   ]
  },
  {
   "cell_type": "code",
   "execution_count": 12,
   "metadata": {},
   "outputs": [
    {
     "data": {
      "text/plain": [
       "Index(['ID', 'x1', 'x2'], dtype='object')"
      ]
     },
     "execution_count": 12,
     "metadata": {},
     "output_type": "execute_result"
    }
   ],
   "source": [
    "dataset = dataset.rename(columns={'ID':'ID', 'X1':'x1', 'X2':'x2'})\n",
    "dataset.columns"
   ]
  },
  {
   "cell_type": "markdown",
   "metadata": {},
   "source": [
    "Use two different alternatives to get one of the columns"
   ]
  },
  {
   "cell_type": "code",
   "execution_count": 13,
   "metadata": {},
   "outputs": [
    {
     "name": "stdout",
     "output_type": "stream",
     "text": [
      "0      -9.214419\n",
      "1       2.193402\n",
      "2       4.917426\n",
      "3      -0.777367\n",
      "4       1.298164\n",
      "         ...    \n",
      "626     3.206689\n",
      "627   -11.114813\n",
      "628     4.028000\n",
      "629    -1.241921\n",
      "630     4.048131\n",
      "Name: x1, Length: 631, dtype: float64\n",
      "0      -9.214419\n",
      "1       2.193402\n",
      "2       4.917426\n",
      "3      -0.777367\n",
      "4       1.298164\n",
      "         ...    \n",
      "626     3.206689\n",
      "627   -11.114813\n",
      "628     4.028000\n",
      "629    -1.241921\n",
      "630     4.048131\n",
      "Name: x1, Length: 631, dtype: float64\n"
     ]
    }
   ],
   "source": [
    "print(dataset.x1)\n",
    "print(dataset[\"x1\"])"
   ]
  },
  {
   "cell_type": "markdown",
   "metadata": {},
   "source": [
    "Get a slice of your data set: second and thrid columns and rows from 62 to 72"
   ]
  },
  {
   "cell_type": "code",
   "execution_count": 14,
   "metadata": {},
   "outputs": [
    {
     "data": {
      "text/html": [
       "<div>\n",
       "<style scoped>\n",
       "    .dataframe tbody tr th:only-of-type {\n",
       "        vertical-align: middle;\n",
       "    }\n",
       "\n",
       "    .dataframe tbody tr th {\n",
       "        vertical-align: top;\n",
       "    }\n",
       "\n",
       "    .dataframe thead th {\n",
       "        text-align: right;\n",
       "    }\n",
       "</style>\n",
       "<table border=\"1\" class=\"dataframe\">\n",
       "  <thead>\n",
       "    <tr style=\"text-align: right;\">\n",
       "      <th></th>\n",
       "      <th>x1</th>\n",
       "      <th>x2</th>\n",
       "    </tr>\n",
       "  </thead>\n",
       "  <tbody>\n",
       "    <tr>\n",
       "      <th>62</th>\n",
       "      <td>5.879186</td>\n",
       "      <td>-7.341220</td>\n",
       "    </tr>\n",
       "    <tr>\n",
       "      <th>63</th>\n",
       "      <td>-2.503993</td>\n",
       "      <td>-11.365830</td>\n",
       "    </tr>\n",
       "    <tr>\n",
       "      <th>64</th>\n",
       "      <td>-9.457026</td>\n",
       "      <td>5.675969</td>\n",
       "    </tr>\n",
       "    <tr>\n",
       "      <th>65</th>\n",
       "      <td>-10.890063</td>\n",
       "      <td>9.211370</td>\n",
       "    </tr>\n",
       "    <tr>\n",
       "      <th>66</th>\n",
       "      <td>5.014920</td>\n",
       "      <td>-9.880179</td>\n",
       "    </tr>\n",
       "    <tr>\n",
       "      <th>67</th>\n",
       "      <td>-1.224498</td>\n",
       "      <td>-9.376056</td>\n",
       "    </tr>\n",
       "    <tr>\n",
       "      <th>68</th>\n",
       "      <td>6.335585</td>\n",
       "      <td>0.201818</td>\n",
       "    </tr>\n",
       "    <tr>\n",
       "      <th>69</th>\n",
       "      <td>-1.128286</td>\n",
       "      <td>-7.394939</td>\n",
       "    </tr>\n",
       "    <tr>\n",
       "      <th>70</th>\n",
       "      <td>-10.981309</td>\n",
       "      <td>6.016379</td>\n",
       "    </tr>\n",
       "    <tr>\n",
       "      <th>71</th>\n",
       "      <td>4.502561</td>\n",
       "      <td>2.701342</td>\n",
       "    </tr>\n",
       "    <tr>\n",
       "      <th>72</th>\n",
       "      <td>4.219084</td>\n",
       "      <td>-0.125907</td>\n",
       "    </tr>\n",
       "  </tbody>\n",
       "</table>\n",
       "</div>"
      ],
      "text/plain": [
       "           x1         x2\n",
       "62   5.879186  -7.341220\n",
       "63  -2.503993 -11.365830\n",
       "64  -9.457026   5.675969\n",
       "65 -10.890063   9.211370\n",
       "66   5.014920  -9.880179\n",
       "67  -1.224498  -9.376056\n",
       "68   6.335585   0.201818\n",
       "69  -1.128286  -7.394939\n",
       "70 -10.981309   6.016379\n",
       "71   4.502561   2.701342\n",
       "72   4.219084  -0.125907"
      ]
     },
     "execution_count": 14,
     "metadata": {},
     "output_type": "execute_result"
    }
   ],
   "source": [
    "dataset.loc[62:72, [\"x1\",\"x2\"]]"
   ]
  },
  {
   "cell_type": "markdown",
   "metadata": {},
   "source": [
    "For the second and thrid columns, calculate the number of null and not null values and verify that their sum equals the total number of rows"
   ]
  },
  {
   "cell_type": "code",
   "execution_count": 15,
   "metadata": {},
   "outputs": [
    {
     "name": "stdout",
     "output_type": "stream",
     "text": [
      "ID    0\n",
      "x1    0\n",
      "x2    0\n",
      "dtype: int64\n"
     ]
    }
   ],
   "source": [
    "print(dataset.isnull().sum())"
   ]
  },
  {
   "cell_type": "code",
   "execution_count": 16,
   "metadata": {},
   "outputs": [
    {
     "name": "stdout",
     "output_type": "stream",
     "text": [
      "ID    631\n",
      "x1    631\n",
      "x2    631\n",
      "dtype: int64\n"
     ]
    }
   ],
   "source": [
    "print(dataset.notnull().sum())"
   ]
  },
  {
   "cell_type": "markdown",
   "metadata": {},
   "source": [
    "Discard the first column\n"
   ]
  },
  {
   "cell_type": "code",
   "execution_count": 17,
   "metadata": {},
   "outputs": [
    {
     "data": {
      "text/plain": [
       "Index(['x1', 'x2'], dtype='object')"
      ]
     },
     "execution_count": 17,
     "metadata": {},
     "output_type": "execute_result"
    }
   ],
   "source": [
    "dataset.drop(['ID'], axis='columns',inplace=True)\n",
    "dataset.columns"
   ]
  },
  {
   "cell_type": "markdown",
   "metadata": {},
   "source": [
    "### Questions \n",
    "\n",
    "Based on the previos reults, provide a description of yout dataset\n",
    "\n",
    "Your response:\n",
    "- En el presente dataset, podemos ver que hay tres variables, de las cuales, solo 2 nos son útiles porque la otra variable se refiere solo al ID, por otro lado tenemos 631 observaciones.\n",
    "- Volviendo al tema de las variables, podemos notar que una depende de la otra para poder graficarse.\n",
    "\n"
   ]
  },
  {
   "cell_type": "markdown",
   "metadata": {},
   "source": [
    "# A3 Data visualization"
   ]
  },
  {
   "cell_type": "markdown",
   "metadata": {},
   "source": [
    "Plot in the same figure the histogram of the two first two variables"
   ]
  },
  {
   "cell_type": "code",
   "execution_count": 18,
   "metadata": {},
   "outputs": [
    {
     "data": {
      "image/png": "[encoded data removed]",
      "text/plain": [
       "<Figure size 432x288 with 1 Axes>"
      ]
     },
     "metadata": {
      "needs_background": "light"
     },
     "output_type": "display_data"
    }
   ],
   "source": [
    "h1 = sns.histplot(dataset[\"x1\"], kde = False, color = '#316B83')\n",
    "h1.set_title(\"Histogram of the first variable\")\n",
    "h1.set_xlabel(\"Variable x1\")\n",
    "plt.show()"
   ]
  },
  {
   "cell_type": "code",
   "execution_count": 19,
   "metadata": {},
   "outputs": [
    {
     "data": {
      "image/png": "[encoded data removed]",
      "text/plain": [
       "<Figure size 432x288 with 1 Axes>"
      ]
     },
     "metadata": {
      "needs_background": "light"
     },
     "output_type": "display_data"
    }
   ],
   "source": [
    "h1 = sns.histplot(dataset[\"x2\"], kde = False, color ='#D5BFBF')\n",
    "h1.set_title(\"Histogram of the second variable\")\n",
    "h1.set_xlabel(\"Variable x2\")\n",
    "plt.show()"
   ]
  },
  {
   "cell_type": "markdown",
   "metadata": {},
   "source": [
    "Based on this two plots, provide a description of your data:\n",
    "\n",
    "Your response here:\n",
    "- Una vez viendo los histogramas, podríamos decir que las observaciones de x1 son casi las opuestas a las de x2, porque en el histograma de x1 vemos que comienza con baras pequeñas-medianas y termina en medianas-grandes, mientras que en el histograma de x2 sucede al revés."
   ]
  },
  {
   "cell_type": "markdown",
   "metadata": {},
   "source": [
    "Plot in the same figure the boxplot of the two first two variables "
   ]
  },
  {
   "cell_type": "code",
   "execution_count": 20,
   "metadata": {},
   "outputs": [
    {
     "data": {
      "image/png": "[encoded data removed]",
      "text/plain": [
       "<Figure size 432x288 with 1 Axes>"
      ]
     },
     "metadata": {
      "needs_background": "light"
     },
     "output_type": "display_data"
    }
   ],
   "source": [
    "bplots = dataset.loc[:, [\"x1\",\"x2\"]]\n",
    "b = sns.boxplot(data = bplots, orient = \"h\")\n",
    "b.set_title(\"Histogram of the first two variables\")\n",
    "b.set_xlabel(\"Count\")\n",
    "b.set_title(\"Boxplot of quantitative variables\")\n",
    "plt.show()\n"
   ]
  },
  {
   "cell_type": "markdown",
   "metadata": {},
   "source": [
    "Scatter plot of the two first variables"
   ]
  },
  {
   "cell_type": "code",
   "execution_count": 21,
   "metadata": {},
   "outputs": [
    {
     "data": {
      "image/png": "[encoded data removed]",
      "text/plain": [
       "<Figure size 432x288 with 1 Axes>"
      ]
     },
     "metadata": {
      "needs_background": "light"
     },
     "output_type": "display_data"
    }
   ],
   "source": [
    "plt.scatter(dataset.x1, dataset.x2, color = '#316B83', marker = 'o', s=100, alpha=1)\n",
    "plt.title('Scatter plot of the first two variables', fontsize=18)\n",
    "plt.xlabel('x1', fontsize=18)\n",
    "plt.ylabel('x2', fontsize=18)\n",
    "plt.show()\n"
   ]
  },
  {
   "cell_type": "markdown",
   "metadata": {},
   "source": [
    "### Questions \n",
    "\n",
    "Based on the previous plots, provide a description of yout dataset\n",
    "\n",
    "Your response:\n",
    "- Observando gráficamente la distribución de los puntos, podríamos decir que a simple vista tenemos tres clusters.\n",
    "\n"
   ]
  },
  {
   "cell_type": "markdown",
   "metadata": {},
   "source": [
    "# A4 Kmeans"
   ]
  },
  {
   "cell_type": "markdown",
   "metadata": {},
   "source": [
    "Do Kmeans clustering assuming a number of clusters according to your scatter plot"
   ]
  },
  {
   "cell_type": "code",
   "execution_count": 22,
   "metadata": {},
   "outputs": [],
   "source": [
    "K = 3\n",
    "\n",
    "#Crear objeto para hacer el kmeans y definir el número de clusters\n",
    "km = KMeans(n_clusters=K)\n",
    "\n",
    "#Do kmeans\n",
    "clusters = km.fit_predict(dataset[['x1', 'x2']])\n",
    "\n"
   ]
  },
  {
   "cell_type": "markdown",
   "metadata": {},
   "source": [
    "Add to your dataset a column with the assigned cluster to each data point"
   ]
  },
  {
   "cell_type": "code",
   "execution_count": 23,
   "metadata": {},
   "outputs": [
    {
     "data": {
      "text/html": [
       "<div>\n",
       "<style scoped>\n",
       "    .dataframe tbody tr th:only-of-type {\n",
       "        vertical-align: middle;\n",
       "    }\n",
       "\n",
       "    .dataframe tbody tr th {\n",
       "        vertical-align: top;\n",
       "    }\n",
       "\n",
       "    .dataframe thead th {\n",
       "        text-align: right;\n",
       "    }\n",
       "</style>\n",
       "<table border=\"1\" class=\"dataframe\">\n",
       "  <thead>\n",
       "    <tr style=\"text-align: right;\">\n",
       "      <th></th>\n",
       "      <th>x1</th>\n",
       "      <th>x2</th>\n",
       "      <th>cluster1</th>\n",
       "    </tr>\n",
       "  </thead>\n",
       "  <tbody>\n",
       "    <tr>\n",
       "      <th>0</th>\n",
       "      <td>-9.214419</td>\n",
       "      <td>7.177861</td>\n",
       "      <td>1</td>\n",
       "    </tr>\n",
       "    <tr>\n",
       "      <th>1</th>\n",
       "      <td>2.193402</td>\n",
       "      <td>-9.358009</td>\n",
       "      <td>0</td>\n",
       "    </tr>\n",
       "    <tr>\n",
       "      <th>2</th>\n",
       "      <td>4.917426</td>\n",
       "      <td>-8.772537</td>\n",
       "      <td>0</td>\n",
       "    </tr>\n",
       "    <tr>\n",
       "      <th>3</th>\n",
       "      <td>-0.777367</td>\n",
       "      <td>-10.054131</td>\n",
       "      <td>0</td>\n",
       "    </tr>\n",
       "    <tr>\n",
       "      <th>4</th>\n",
       "      <td>1.298164</td>\n",
       "      <td>-9.979186</td>\n",
       "      <td>0</td>\n",
       "    </tr>\n",
       "    <tr>\n",
       "      <th>...</th>\n",
       "      <td>...</td>\n",
       "      <td>...</td>\n",
       "      <td>...</td>\n",
       "    </tr>\n",
       "    <tr>\n",
       "      <th>626</th>\n",
       "      <td>3.206689</td>\n",
       "      <td>-8.292491</td>\n",
       "      <td>0</td>\n",
       "    </tr>\n",
       "    <tr>\n",
       "      <th>627</th>\n",
       "      <td>-11.114813</td>\n",
       "      <td>9.839311</td>\n",
       "      <td>1</td>\n",
       "    </tr>\n",
       "    <tr>\n",
       "      <th>628</th>\n",
       "      <td>4.028000</td>\n",
       "      <td>-0.113844</td>\n",
       "      <td>2</td>\n",
       "    </tr>\n",
       "    <tr>\n",
       "      <th>629</th>\n",
       "      <td>-1.241921</td>\n",
       "      <td>-10.479683</td>\n",
       "      <td>0</td>\n",
       "    </tr>\n",
       "    <tr>\n",
       "      <th>630</th>\n",
       "      <td>4.048131</td>\n",
       "      <td>-7.605697</td>\n",
       "      <td>0</td>\n",
       "    </tr>\n",
       "  </tbody>\n",
       "</table>\n",
       "<p>631 rows × 3 columns</p>\n",
       "</div>"
      ],
      "text/plain": [
       "            x1         x2  cluster1\n",
       "0    -9.214419   7.177861         1\n",
       "1     2.193402  -9.358009         0\n",
       "2     4.917426  -8.772537         0\n",
       "3    -0.777367 -10.054131         0\n",
       "4     1.298164  -9.979186         0\n",
       "..         ...        ...       ...\n",
       "626   3.206689  -8.292491         0\n",
       "627 -11.114813   9.839311         1\n",
       "628   4.028000  -0.113844         2\n",
       "629  -1.241921 -10.479683         0\n",
       "630   4.048131  -7.605697         0\n",
       "\n",
       "[631 rows x 3 columns]"
      ]
     },
     "execution_count": 23,
     "metadata": {},
     "output_type": "execute_result"
    }
   ],
   "source": [
    "dataset['cluster1'] = clusters\n",
    "dataset"
   ]
  },
  {
   "cell_type": "markdown",
   "metadata": {},
   "source": [
    "Print the number associated to each cluster"
   ]
  },
  {
   "cell_type": "code",
   "execution_count": 24,
   "metadata": {},
   "outputs": [
    {
     "name": "stdout",
     "output_type": "stream",
     "text": [
      "[1 0 0 0 0 2 0 1 2 1 2 1 2 0 2 1 0 1 1 0 0 1 2 1 0 0 1 1 2 0 0 0 2 1 0 0 0\n",
      " 0 0 0 1 2 0 0 0 1 0 1 2 2 0 1 2 1 0 0 1 2 2 1 0 0 0 0 1 1 0 0 2 0 1 2 2 2\n",
      " 1 0 0 1 0 0 2 0 0 0 0 1 1 0 2 2 1 0 2 0 2 1 0 0 2 2 0 0 0 1 1 0 0 0 0 0 0\n",
      " 0 2 1 0 1 2 0 0 0 1 0 2 1 0 0 1 2 2 2 0 2 0 2 0 0 0 0 1 1 0 0 0 1 1 2 0 2\n",
      " 1 2 0 0 0 0 0 0 2 0 1 0 0 2 1 0 0 0 1 1 1 0 2 1 2 0 0 0 2 0 1 1 1 0 0 1 2\n",
      " 0 0 0 1 1 0 1 2 1 0 2 2 0 1 0 2 2 0 1 0 0 0 0 2 0 0 0 1 2 2 0 0 1 1 0 0 0\n",
      " 0 2 0 2 0 2 0 0 1 0 0 0 2 0 2 2 0 2 1 2 1 0 0 0 0 1 0 1 2 0 0 1 1 2 0 1 1\n",
      " 0 1 1 1 0 1 0 0 0 1 0 0 1 0 2 0 1 0 2 0 0 2 0 0 0 0 1 2 2 1 2 2 1 0 2 2 0\n",
      " 0 2 2 2 0 2 0 1 2 0 0 0 0 0 1 0 2 0 2 1 1 0 1 2 0 0 2 0 0 0 1 0 0 0 0 0 0\n",
      " 1 0 1 2 0 0 1 1 0 1 1 0 1 2 0 1 0 0 2 2 0 1 2 0 1 2 1 2 1 1 1 2 0 1 2 0 1\n",
      " 2 0 1 1 2 0 0 0 0 2 0 1 0 1 0 0 0 0 0 0 0 2 0 0 0 2 1 2 1 2 2 2 0 0 2 0 0\n",
      " 2 0 1 2 1 1 0 0 0 2 1 1 1 1 2 0 2 1 0 0 1 0 2 2 1 2 0 1 0 0 2 2 1 2 0 0 0\n",
      " 1 1 1 2 2 2 0 0 1 0 1 2 0 1 0 0 0 0 1 1 1 0 0 2 1 2 0 0 2 0 0 0 0 1 2 2 1\n",
      " 0 0 1 2 0 0 0 0 0 2 0 1 0 2 0 1 0 0 0 0 1 2 2 0 2 2 2 0 0 1 1 1 0 0 1 0 0\n",
      " 0 2 0 1 2 0 2 1 2 2 0 2 0 0 0 1 0 0 1 0 0 0 2 0 0 0 2 0 0 1 0 0 2 0 2 2 0\n",
      " 0 0 0 0 2 2 0 1 1 0 0 0 0 0 2 0 0 0 0 2 2 2 2 0 1 2 0 2 2 0 2 0 1 1 1 0 0\n",
      " 1 0 0 0 0 0 0 1 2 0 0 2 2 0 0 0 2 1 1 0 0 1 1 0 1 2 2 0 2 2 1 0 2 0 0 1 2\n",
      " 0 0]\n"
     ]
    }
   ],
   "source": [
    "print(clusters)"
   ]
  },
  {
   "cell_type": "markdown",
   "metadata": {},
   "source": [
    "Print the centroids"
   ]
  },
  {
   "cell_type": "code",
   "execution_count": 25,
   "metadata": {},
   "outputs": [
    {
     "name": "stdout",
     "output_type": "stream",
     "text": [
      "[[ 1.45167506 -9.26521441]\n",
      " [-9.86944223  9.02663284]\n",
      " [ 4.39523179  0.60290039]]\n"
     ]
    }
   ],
   "source": [
    "print(km.cluster_centers_)"
   ]
  },
  {
   "cell_type": "markdown",
   "metadata": {},
   "source": [
    "Print the intertia metric"
   ]
  },
  {
   "cell_type": "code",
   "execution_count": 26,
   "metadata": {},
   "outputs": [
    {
     "name": "stdout",
     "output_type": "stream",
     "text": [
      "4864.645547017257\n"
     ]
    }
   ],
   "source": [
    "print(km.inertia_)"
   ]
  },
  {
   "cell_type": "markdown",
   "metadata": {},
   "source": [
    "Plot a scatter plot of your data assigned to each cluster. Also plot the centroids"
   ]
  },
  {
   "cell_type": "code",
   "execution_count": 27,
   "metadata": {},
   "outputs": [
    {
     "data": {
      "image/png": "[encoded data removed]",
      "text/plain": [
       "<Figure size 432x288 with 1 Axes>"
      ]
     },
     "metadata": {
      "needs_background": "light"
     },
     "output_type": "display_data"
    }
   ],
   "source": [
    "df1 = dataset[dataset.cluster1 == 0]\n",
    "df2 = dataset[dataset.cluster1 == 1]\n",
    "df3 = dataset[dataset.cluster1 == 2]\n",
    "\n",
    "plt.scatter(df1.x1, df1.x2, color='#22577A', marker = 'o', s=100, alpha=1)\n",
    "plt.scatter(df2.x1, df2.x2, color='#7EB5A6', marker = 'o', s=100, alpha=1)\n",
    "plt.scatter(df3.x1, df3.x2, color='#FFE194', marker = 'o', s=100, alpha=1)\n",
    "\n",
    "centers = km.cluster_centers_\n",
    "plt.scatter(centers[:, 0], centers[:, 1], c='black', s=200, alpha=0.5);\n",
    "\n",
    "plt.title('Clusters', fontsize=18)\n",
    "plt.xlabel('x1', fontsize=18)\n",
    "plt.ylabel('x2', fontsize=18)\n",
    " \n",
    "plt.show()"
   ]
  },
  {
   "cell_type": "markdown",
   "metadata": {},
   "source": [
    "### Questions \n",
    "\n",
    "Provides a detailed description of your results\n",
    "\n",
    "Your response:\n",
    "- Desde mi punto de vista la clusterización ha resultado bastante bien y los centroides están en excelente lugar, por lo que no consideraría necesario hacer normalización de los datos y casi podría decir que no es necesario el elbow plot, pero para asegurarnos que el número de clusters es el adecuado, lo haremos a continuación."
   ]
  },
  {
   "cell_type": "markdown",
   "metadata": {},
   "source": [
    "# A4 Elbow plot\n",
    "\n",
    "Compute the Elbow plot"
   ]
  },
  {
   "cell_type": "code",
   "execution_count": 28,
   "metadata": {},
   "outputs": [],
   "source": [
    "sse=[]\n",
    "k_rng = range(1,10)\n",
    "\n",
    "for k in k_rng:\n",
    "    km = KMeans(n_clusters=k)\n",
    "    km.fit_predict(dataset[['x1', 'x2']])\n",
    "    sse.append(km.inertia_)"
   ]
  },
  {
   "cell_type": "code",
   "execution_count": 29,
   "metadata": {},
   "outputs": [
    {
     "data": {
      "image/png": "[encoded data removed]",
      "text/plain": [
       "<Figure size 432x288 with 1 Axes>"
      ]
     },
     "metadata": {
      "needs_background": "light"
     },
     "output_type": "display_data"
    }
   ],
   "source": [
    "plt.plot(k_rng, sse, color = '#93B5C6')\n",
    "plt.title('Elbow plot')\n",
    "plt.xlabel('K')\n",
    "plt.ylabel('SSE')\n",
    "plt.show()"
   ]
  },
  {
   "cell_type": "markdown",
   "metadata": {},
   "source": [
    "### Questions \n",
    "\n",
    "What is the best number of clusters K? (argue your response)\n",
    "\n",
    "Your response:\n",
    "- A mi parecer el mejor número de clusters sería 3, porque en el elbow plot vemos que ahí hay un punto de inflexión y a partir de ahí no se observan cambios importantes en la gráfica.\n",
    "\n",
    "Does this number of clusters agree with your inital guess? (argue your response)\n",
    "\n",
    "Your response:\n",
    "- Si, el número de clusters ideal de la elbow plot coincide con mi estimación inicial, en un principio por la scatter plot yo pensaba que eran 3 clusters y una vez haciendo la gráfica de codo, efectivamente eran 3 clusters.\n"
   ]
  },
  {
   "cell_type": "markdown",
   "metadata": {},
   "source": [
    "# A4 Normalizing the data: preprocessing using min max scaler\n"
   ]
  },
  {
   "cell_type": "markdown",
   "metadata": {},
   "source": [
    "Normalize the data using min max scaler"
   ]
  },
  {
   "cell_type": "code",
   "execution_count": 30,
   "metadata": {},
   "outputs": [
    {
     "name": "stdout",
     "output_type": "stream",
     "text": [
      "          x1        x2  cluster1\n",
      "0   0.206738  0.770594         1\n",
      "1   0.731274  0.130186         0\n",
      "2   0.856526  0.152860         0\n",
      "3   0.594677  0.103226         0\n",
      "4   0.690111  0.106129         0\n",
      "5   0.774404  0.557302         2\n",
      "6   0.751631  0.032364         0\n",
      "7   0.333684  0.850428         1\n",
      "8   0.702161  0.453855         2\n",
      "9   0.057093  0.772390         1\n",
      "10  0.787116  0.440715         2\n",
      "11  0.057877  0.888364         1\n",
      "12  0.852781  0.465457         2\n",
      "13  0.668682  0.287953         0\n",
      "14  0.901957  0.504824         2\n",
      "15  0.192436  0.862564         1\n",
      "16  0.796516  0.157715         0\n",
      "17  0.317416  0.895840         1\n",
      "18  0.195131  0.952731         1\n",
      "19  0.775568  0.080747         0\n"
     ]
    }
   ],
   "source": [
    "from sklearn.preprocessing import MinMaxScaler\n",
    "\n",
    "scaler = MinMaxScaler()\n",
    "\n",
    "scaler.fit(dataset[['x1']])\n",
    "dataset['x1'] = scaler.transform(dataset[['x1']])\n",
    "\n",
    "scaler.fit(dataset[['x2']])\n",
    "dataset['x2'] = scaler.transform(dataset[['x2']])\n",
    "\n",
    "print(dataset.head(20))\n"
   ]
  },
  {
   "cell_type": "markdown",
   "metadata": {},
   "source": [
    "Print a statistical summary of your columns (normalized data)"
   ]
  },
  {
   "cell_type": "code",
   "execution_count": 31,
   "metadata": {},
   "outputs": [
    {
     "name": "stdout",
     "output_type": "stream",
     "text": [
      "               x1          x2    cluster1\n",
      "count  631.000000  631.000000  631.000000\n",
      "mean     0.600501    0.406254    0.748019\n",
      "std      0.273098    0.302292    0.828974\n",
      "min      0.000000    0.000000    0.000000\n",
      "25%      0.407288    0.130981    0.000000\n",
      "50%      0.694180    0.287953    0.000000\n",
      "75%      0.817736    0.687843    1.000000\n",
      "max      1.000000    1.000000    2.000000\n"
     ]
    }
   ],
   "source": [
    "print(dataset.describe())"
   ]
  },
  {
   "cell_type": "code",
   "execution_count": 41,
   "metadata": {},
   "outputs": [],
   "source": [
    "# 1) What is the minumum and maximum values of each variable\n",
    "# Para x1: mínimo: 0;  máximo: 1\n",
    "# Para x2: mínimo: 0;  máximo: 1\n",
    "\n",
    "# 2) What is the mean and standar deviation of each variable\n",
    "# Para x1: mean: 0.600501; std: 0.273098\n",
    "# Para x2: mean: 0.406254; std: 0.302292\n",
    "\n",
    "# 3) What the 25%, 50% and 75% represent?\n",
    "# Estos porcentajes representan los cuartiles, el primer cuartil (25%) indica que el 25% de los datos\n",
    "# son menor que o iguales al número mostrado.\n",
    "\n",
    "# El segundo cuartil se refiere a la mediana, y nos indica que la mitad de los datos son menores a esta.\n",
    "\n",
    "# El tercer cuartil (75%) nos indica que el 75% de los datos son menores al número mostrado en esta fila.\n",
    "\n",
    "# 4) Are the minimum and maximum values equal to your original data?\n",
    "# No, en este caso la normalización los ha dejado entre cero y uno.\n",
    "# Mientras que originalmente estaban de la siguiente manera:\n",
    "# Para x1: mínimo: -13.710642;  máximo: 8.037764\n",
    "# Para x2: mínimo: -12.719525;  máximo: 13.101330\n",
    "\n"
   ]
  },
  {
   "cell_type": "markdown",
   "metadata": {},
   "source": [
    "Plot the scatter plot of your normalizaed data"
   ]
  },
  {
   "cell_type": "code",
   "execution_count": 33,
   "metadata": {},
   "outputs": [
    {
     "data": {
      "image/png": "[encoded data removed]",
      "text/plain": [
       "<Figure size 432x288 with 1 Axes>"
      ]
     },
     "metadata": {
      "needs_background": "light"
     },
     "output_type": "display_data"
    }
   ],
   "source": [
    "plt.scatter(dataset.x1, dataset.x2, color = '#316B83', marker = 'o', s=100, alpha=1)\n",
    "plt.title('Scatter plot of the first two variables', fontsize=18)\n",
    "plt.xlabel('x1', fontsize=18)\n",
    "plt.ylabel('x2', fontsize=18)\n",
    "plt.show()"
   ]
  },
  {
   "cell_type": "markdown",
   "metadata": {},
   "source": [
    "Do Kmeans clustering assuming a number of clusters accorgind to your scatter plot"
   ]
  },
  {
   "cell_type": "code",
   "execution_count": 34,
   "metadata": {},
   "outputs": [
    {
     "name": "stdout",
     "output_type": "stream",
     "text": [
      "[1 2 2 2 2 0 2 1 0 1 0 1 0 2 0 1 2 1 1 2 2 1 0 1 2 2 1 1 0 2 2 2 0 1 2 2 2\n",
      " 2 2 2 1 0 2 2 2 1 2 1 0 0 2 1 0 1 2 2 1 0 0 1 2 2 2 2 1 1 2 2 0 2 1 0 0 0\n",
      " 1 2 2 1 2 2 0 2 2 2 2 1 1 2 0 0 1 2 0 2 0 1 2 2 0 0 2 2 2 1 1 2 2 2 2 2 2\n",
      " 2 0 1 2 1 0 2 2 2 1 2 0 1 2 2 1 0 0 0 2 0 2 0 2 2 2 2 1 1 2 2 2 1 1 0 2 0\n",
      " 1 0 2 2 2 2 2 2 0 2 1 2 2 0 1 2 2 2 1 1 1 2 0 1 0 2 2 2 0 2 1 1 1 2 2 1 0\n",
      " 2 2 2 1 1 2 1 0 1 2 0 0 2 1 2 0 0 2 1 2 2 2 2 0 2 2 2 1 0 0 2 2 1 1 2 2 2\n",
      " 2 0 2 0 2 0 2 2 1 2 2 2 0 2 0 0 2 0 1 0 1 2 2 2 2 1 2 1 0 2 2 1 1 0 2 1 1\n",
      " 2 1 1 1 2 1 2 2 2 1 2 2 1 2 0 2 1 2 0 2 2 0 2 2 2 2 1 0 0 1 0 0 1 2 0 0 2\n",
      " 2 0 0 0 2 0 2 1 0 2 2 2 2 2 1 2 0 2 0 1 1 2 1 0 2 2 0 2 2 2 1 2 2 2 2 2 2\n",
      " 1 2 1 0 2 2 1 1 2 1 1 2 1 0 2 1 2 2 0 0 2 1 0 2 1 0 1 0 1 1 1 0 2 1 0 2 1\n",
      " 0 2 1 1 0 2 2 2 2 0 2 1 2 1 2 2 2 2 2 2 2 0 2 2 0 0 1 0 1 0 0 0 2 2 0 2 2\n",
      " 0 2 1 0 1 1 2 2 2 0 1 1 1 1 0 2 0 1 2 2 1 2 0 0 1 0 2 1 2 2 0 0 1 0 2 2 2\n",
      " 1 1 1 0 0 0 2 2 1 2 1 0 2 1 2 2 2 2 1 1 1 2 2 0 1 0 2 2 0 2 2 2 2 1 0 0 1\n",
      " 2 2 1 0 2 2 2 2 2 0 2 1 2 0 2 1 2 2 2 2 1 0 0 2 0 0 0 2 2 1 1 1 2 2 1 2 2\n",
      " 2 0 2 1 0 2 0 1 0 0 2 0 2 2 2 1 2 2 1 2 2 2 0 2 2 2 0 2 2 1 2 2 0 2 0 0 2\n",
      " 2 2 2 2 0 0 2 1 1 2 2 2 2 2 0 2 2 2 2 0 0 0 0 2 1 0 2 0 0 2 0 2 1 1 1 2 2\n",
      " 1 2 2 2 2 2 2 1 0 2 2 0 0 2 2 2 0 1 1 2 2 1 1 2 1 0 0 2 0 0 1 2 0 2 2 1 0\n",
      " 2 2]\n"
     ]
    }
   ],
   "source": [
    "K = 3\n",
    "\n",
    "#Crear objeto para hacer el kmeans y definir el número de clusters\n",
    "km = KMeans(n_clusters=K)\n",
    "\n",
    "#Do kmeans\n",
    "clusters = km.fit_predict(dataset[['x1', 'x2']])\n",
    "print(clusters)"
   ]
  },
  {
   "cell_type": "markdown",
   "metadata": {},
   "source": [
    "Add to your dataset a column with the assihned cluster to each data point"
   ]
  },
  {
   "cell_type": "code",
   "execution_count": 35,
   "metadata": {},
   "outputs": [
    {
     "name": "stdout",
     "output_type": "stream",
     "text": [
      "          x1        x2  cluster1  cluster2\n",
      "0   0.206738  0.770594         1         1\n",
      "1   0.731274  0.130186         0         2\n",
      "2   0.856526  0.152860         0         2\n",
      "3   0.594677  0.103226         0         2\n",
      "4   0.690111  0.106129         0         2\n",
      "5   0.774404  0.557302         2         0\n",
      "6   0.751631  0.032364         0         2\n",
      "7   0.333684  0.850428         1         1\n",
      "8   0.702161  0.453855         2         0\n",
      "9   0.057093  0.772390         1         1\n",
      "10  0.787116  0.440715         2         0\n",
      "11  0.057877  0.888364         1         1\n",
      "12  0.852781  0.465457         2         0\n",
      "13  0.668682  0.287953         0         2\n",
      "14  0.901957  0.504824         2         0\n",
      "15  0.192436  0.862564         1         1\n",
      "16  0.796516  0.157715         0         2\n",
      "17  0.317416  0.895840         1         1\n",
      "18  0.195131  0.952731         1         1\n",
      "19  0.775568  0.080747         0         2\n"
     ]
    }
   ],
   "source": [
    "dataset['cluster2'] = clusters\n",
    "print(dataset.head(20))"
   ]
  },
  {
   "cell_type": "markdown",
   "metadata": {},
   "source": [
    "Print the centroids"
   ]
  },
  {
   "cell_type": "code",
   "execution_count": 36,
   "metadata": {},
   "outputs": [
    {
     "name": "stdout",
     "output_type": "stream",
     "text": [
      "[[0.83319967 0.51435855]\n",
      " [0.17661983 0.84219356]\n",
      " [0.69639603 0.13336789]]\n"
     ]
    }
   ],
   "source": [
    "print(km.cluster_centers_)"
   ]
  },
  {
   "cell_type": "markdown",
   "metadata": {},
   "source": [
    "Print the intetia metric"
   ]
  },
  {
   "cell_type": "code",
   "execution_count": 37,
   "metadata": {},
   "outputs": [
    {
     "name": "stdout",
     "output_type": "stream",
     "text": [
      "9.385284895641437\n"
     ]
    }
   ],
   "source": [
    "print(km.inertia_)"
   ]
  },
  {
   "cell_type": "markdown",
   "metadata": {},
   "source": [
    "Plot a scatter plot of your data assigned to each cluster. Also plot the centroids"
   ]
  },
  {
   "cell_type": "code",
   "execution_count": 39,
   "metadata": {},
   "outputs": [
    {
     "data": {
      "image/png": "[encoded data removed]",
      "text/plain": [
       "<Figure size 432x288 with 1 Axes>"
      ]
     },
     "metadata": {
      "needs_background": "light"
     },
     "output_type": "display_data"
    }
   ],
   "source": [
    "#Clusters calculados\n",
    "df1 = dataset[dataset.cluster2 == 0]\n",
    "df2 = dataset[dataset.cluster2 == 1]\n",
    "df3 = dataset[dataset.cluster2 == 2]\n",
    "\n",
    "plt.scatter(df1.x1, df1.x2, color='#22577A', marker = 'o', s=100, alpha=1)\n",
    "plt.scatter(df2.x1, df2.x2, color='#7EB5A6', marker = 'o', s=100, alpha=1)\n",
    "plt.scatter(df3.x1, df3.x2, color='#FFE194', marker = 'o', s=100, alpha=1)\n",
    "\n",
    "centers = km.cluster_centers_\n",
    "plt.scatter(centers[:, 0], centers[:, 1], c='black', s=200, alpha=0.5);\n",
    "\n",
    "plt.title('Clusters', fontsize=18)\n",
    "plt.xlabel('x1', fontsize=18)\n",
    "plt.ylabel('x2', fontsize=18)\n",
    " \n",
    "plt.show()"
   ]
  },
  {
   "cell_type": "markdown",
   "metadata": {},
   "source": [
    "### Questions \n",
    "\n",
    "Provides a detailed description of your results. Does the normalization improves the clustering?\n",
    "\n",
    "Your response:\n",
    "\n",
    "- Una vez haciendo la normalización y el clustering correspondiente a esta, llegamos a un clustering un poco diferente, sin embargo, considero que la normalización en este caso no ha ayudado a mejorar el clustering, por que, por ejemplo, el cluster azul toma un punto del cluster amarillo a mi parecer, en este caso no es necesario hacer la normalización."
   ]
  },
  {
   "cell_type": "markdown",
   "metadata": {},
   "source": [
    "# Descripción de tu percepcion del nivel de desarrollo de la subcompetencia \n",
    "\n",
    "### SING0202A Interpretación de variables\n"
   ]
  },
  {
   "cell_type": "markdown",
   "metadata": {},
   "source": [
    "Escribe tu description del nivel de logro del siguiente criterio de la subcompetencia\n",
    "\n",
    "**Interpreta interacciones**. Interpreta interacciones entre variables relevantes en un problema, como base para la construcción de modelos bivariados basados en datos de un fenómeno investigado que le permita reproducir la respuesta del mismo."
   ]
  },
  {
   "cell_type": "markdown",
   "metadata": {},
   "source": [
    "Tu respuesta:\n",
    "- Desde mi punto de vista considero que esta subcompetencua se ha logrado conseguir en su totalidad gracias a que a lo largo de la semana Tec el profesor explicó de manera idónea todos los aspectos necesarios para poder analizar diferentes modelos y dar un análisis completo a los mismos, como se pudo apreciar en la presente evidencia."
   ]
  },
  {
   "cell_type": "markdown",
   "metadata": {},
   "source": [
    "Escribe tu description del nivel de logro del siguiente criterio de la subcompetencia\n",
    "\n",
    "**Construcción de modelos**. Es capaz de construir modelos bivariados que expliquen el comportamiento de un fenómeno."
   ]
  },
  {
   "cell_type": "markdown",
   "metadata": {},
   "source": [
    "Tu respuesta:\n",
    "- Considero que he logrado en su totalidad esta subcompetencia, porque como podemos ver en el presente documento, logré hacer el análisis necesario para llegar a explicar un fenómeno de dos variables. Esto fue posible gracias a que el profesor se ha mostrado siempre receptivo ante las dudas de nosotros los estudiantes y ha explicado todo lo necesario para poder lograr el respectivo análisis del modelo."
   ]
  }
 ],
 "metadata": {
  "kernelspec": {
   "display_name": "Python 3",
   "language": "python",
   "name": "python3"
  },
  "language_info": {
   "codemirror_mode": {
    "name": "ipython",
    "version": 3
   },
   "file_extension": ".py",
   "mimetype": "text/x-python",
   "name": "python",
   "nbconvert_exporter": "python",
   "pygments_lexer": "ipython3",
   "version": "3.8.8"
  }
 },
 "nbformat": 4,
 "nbformat_minor": 2
}
