{
 "cells": [
  {
   "cell_type": "markdown",
   "source": [
    "# Andrés Refugio Contreras Gutiérrez A01632990\r\n",
    "# TC1002S Herramientas computacionales: el arte de la analítica\r\n",
    "\r\n",
    "This is a notebook with all your work for the final evidence of this course\r\n",
    "\r\n",
    "\r\n",
    "# Niveles de dominio a demostrar con la evidencia\r\n",
    "\r\n",
    "### SING0202A\r\n",
    "\r\n",
    "Interpreta interacciones entre variables relevantes en un problema, como base para la construcción de modelos bivariados basados en datos de un fenómeno investigado que le permita reproducir la respuesta del mismo. Es capaz de construir modelos bivariados que expliquen el comportamiento de un fenómeno.\r\n",
    "\r\n",
    "\r\n",
    "# Student information\r\n",
    "\r\n",
    "- Name: Andrés Refugio Contreras Gutiérrez\r\n",
    "\r\n",
    "- ID: A01632990\r\n",
    "\r\n",
    "- My career: ITC\r\n"
   ],
   "metadata": {}
  },
  {
   "cell_type": "markdown",
   "source": [
    "# Importing libraries"
   ],
   "metadata": {}
  },
  {
   "cell_type": "code",
   "execution_count": 1,
   "source": [
    "import pandas as pd\r\n",
    "import seaborn as sns               \r\n",
    "import matplotlib.pyplot as plt \r\n"
   ],
   "outputs": [],
   "metadata": {}
  },
  {
   "cell_type": "markdown",
   "source": [
    "# A1 Loa your dataset"
   ],
   "metadata": {}
  },
  {
   "cell_type": "code",
   "execution_count": 2,
   "source": [
    "url = \"datasets/A01632990.csv\"\r\n",
    "\r\n",
    "\r\n",
    "dataset = pd.read_csv(url)"
   ],
   "outputs": [],
   "metadata": {}
  },
  {
   "cell_type": "markdown",
   "source": [
    "# A2 DataManagment\n"
   ],
   "metadata": {}
  },
  {
   "cell_type": "markdown",
   "source": [
    "Print the first 7 rows"
   ],
   "metadata": {}
  },
  {
   "cell_type": "code",
   "execution_count": 3,
   "source": [
    "dataset.head(7)"
   ],
   "outputs": [
    {
     "output_type": "execute_result",
     "data": {
      "text/html": [
       "<div>\n",
       "<style scoped>\n",
       "    .dataframe tbody tr th:only-of-type {\n",
       "        vertical-align: middle;\n",
       "    }\n",
       "\n",
       "    .dataframe tbody tr th {\n",
       "        vertical-align: top;\n",
       "    }\n",
       "\n",
       "    .dataframe thead th {\n",
       "        text-align: right;\n",
       "    }\n",
       "</style>\n",
       "<table border=\"1\" class=\"dataframe\">\n",
       "  <thead>\n",
       "    <tr style=\"text-align: right;\">\n",
       "      <th></th>\n",
       "      <th>Unnamed: 0</th>\n",
       "      <th>x1</th>\n",
       "      <th>x2</th>\n",
       "    </tr>\n",
       "  </thead>\n",
       "  <tbody>\n",
       "    <tr>\n",
       "      <th>0</th>\n",
       "      <td>0</td>\n",
       "      <td>-0.416794</td>\n",
       "      <td>0.931040</td>\n",
       "    </tr>\n",
       "    <tr>\n",
       "      <th>1</th>\n",
       "      <td>1</td>\n",
       "      <td>-0.301968</td>\n",
       "      <td>1.013067</td>\n",
       "    </tr>\n",
       "    <tr>\n",
       "      <th>2</th>\n",
       "      <td>2</td>\n",
       "      <td>1.357776</td>\n",
       "      <td>-0.434741</td>\n",
       "    </tr>\n",
       "    <tr>\n",
       "      <th>3</th>\n",
       "      <td>3</td>\n",
       "      <td>1.925603</td>\n",
       "      <td>0.253668</td>\n",
       "    </tr>\n",
       "    <tr>\n",
       "      <th>4</th>\n",
       "      <td>4</td>\n",
       "      <td>0.954162</td>\n",
       "      <td>0.221102</td>\n",
       "    </tr>\n",
       "    <tr>\n",
       "      <th>5</th>\n",
       "      <td>5</td>\n",
       "      <td>-0.933603</td>\n",
       "      <td>0.736594</td>\n",
       "    </tr>\n",
       "    <tr>\n",
       "      <th>6</th>\n",
       "      <td>6</td>\n",
       "      <td>0.380931</td>\n",
       "      <td>0.822491</td>\n",
       "    </tr>\n",
       "  </tbody>\n",
       "</table>\n",
       "</div>"
      ],
      "text/plain": [
       "   Unnamed: 0        x1        x2\n",
       "0           0 -0.416794  0.931040\n",
       "1           1 -0.301968  1.013067\n",
       "2           2  1.357776 -0.434741\n",
       "3           3  1.925603  0.253668\n",
       "4           4  0.954162  0.221102\n",
       "5           5 -0.933603  0.736594\n",
       "6           6  0.380931  0.822491"
      ]
     },
     "metadata": {},
     "execution_count": 3
    }
   ],
   "metadata": {}
  },
  {
   "cell_type": "markdown",
   "source": [
    "Print the first 4 last rows"
   ],
   "metadata": {}
  },
  {
   "cell_type": "code",
   "execution_count": 4,
   "source": [
    "dataset.tail(4)"
   ],
   "outputs": [
    {
     "output_type": "execute_result",
     "data": {
      "text/html": [
       "<div>\n",
       "<style scoped>\n",
       "    .dataframe tbody tr th:only-of-type {\n",
       "        vertical-align: middle;\n",
       "    }\n",
       "\n",
       "    .dataframe tbody tr th {\n",
       "        vertical-align: top;\n",
       "    }\n",
       "\n",
       "    .dataframe thead th {\n",
       "        text-align: right;\n",
       "    }\n",
       "</style>\n",
       "<table border=\"1\" class=\"dataframe\">\n",
       "  <thead>\n",
       "    <tr style=\"text-align: right;\">\n",
       "      <th></th>\n",
       "      <th>Unnamed: 0</th>\n",
       "      <th>x1</th>\n",
       "      <th>x2</th>\n",
       "    </tr>\n",
       "  </thead>\n",
       "  <tbody>\n",
       "    <tr>\n",
       "      <th>986</th>\n",
       "      <td>986</td>\n",
       "      <td>0.264378</td>\n",
       "      <td>-0.347391</td>\n",
       "    </tr>\n",
       "    <tr>\n",
       "      <th>987</th>\n",
       "      <td>987</td>\n",
       "      <td>-0.906709</td>\n",
       "      <td>0.546053</td>\n",
       "    </tr>\n",
       "    <tr>\n",
       "      <th>988</th>\n",
       "      <td>988</td>\n",
       "      <td>0.493649</td>\n",
       "      <td>-0.683074</td>\n",
       "    </tr>\n",
       "    <tr>\n",
       "      <th>989</th>\n",
       "      <td>989</td>\n",
       "      <td>-0.830978</td>\n",
       "      <td>0.761296</td>\n",
       "    </tr>\n",
       "  </tbody>\n",
       "</table>\n",
       "</div>"
      ],
      "text/plain": [
       "     Unnamed: 0        x1        x2\n",
       "986         986  0.264378 -0.347391\n",
       "987         987 -0.906709  0.546053\n",
       "988         988  0.493649 -0.683074\n",
       "989         989 -0.830978  0.761296"
      ]
     },
     "metadata": {},
     "execution_count": 4
    }
   ],
   "metadata": {}
  },
  {
   "cell_type": "markdown",
   "source": [
    "How many rows and columns are in your data?\n",
    "\n",
    "Use the `shape` method\n"
   ],
   "metadata": {}
  },
  {
   "cell_type": "code",
   "execution_count": 5,
   "source": [
    "dataset.shape"
   ],
   "outputs": [
    {
     "output_type": "execute_result",
     "data": {
      "text/plain": [
       "(990, 3)"
      ]
     },
     "metadata": {},
     "execution_count": 5
    }
   ],
   "metadata": {}
  },
  {
   "cell_type": "markdown",
   "source": [
    "Print the name of all columns \n",
    "\n",
    "Use the `columns` method"
   ],
   "metadata": {}
  },
  {
   "cell_type": "code",
   "execution_count": 6,
   "source": [
    "dataset.columns"
   ],
   "outputs": [
    {
     "output_type": "execute_result",
     "data": {
      "text/plain": [
       "Index(['Unnamed: 0', 'x1', 'x2'], dtype='object')"
      ]
     },
     "metadata": {},
     "execution_count": 6
    }
   ],
   "metadata": {}
  },
  {
   "cell_type": "markdown",
   "source": [
    "What is the data type in each column\n",
    "\n",
    "Use the `dtypes` method "
   ],
   "metadata": {}
  },
  {
   "cell_type": "code",
   "execution_count": 7,
   "source": [
    "dataset.dtypes"
   ],
   "outputs": [
    {
     "output_type": "execute_result",
     "data": {
      "text/plain": [
       "Unnamed: 0      int64\n",
       "x1            float64\n",
       "x2            float64\n",
       "dtype: object"
      ]
     },
     "metadata": {},
     "execution_count": 7
    }
   ],
   "metadata": {}
  },
  {
   "cell_type": "markdown",
   "source": [
    "What is the meaning of rows and columns?"
   ],
   "metadata": {}
  },
  {
   "cell_type": "code",
   "execution_count": 1,
   "source": [
    "# Your responses here\r\n",
    "\r\n",
    "# 1) rows son las filas del excel\r\n",
    "\r\n",
    "# 2) columns son las columnas del excel\r\n",
    "\r\n"
   ],
   "outputs": [],
   "metadata": {}
  },
  {
   "cell_type": "markdown",
   "source": [
    "Print a statistical summary of your columns\n"
   ],
   "metadata": {}
  },
  {
   "cell_type": "code",
   "execution_count": 8,
   "source": [
    "dataset.describe()"
   ],
   "outputs": [
    {
     "output_type": "execute_result",
     "data": {
      "text/html": [
       "<div>\n",
       "<style scoped>\n",
       "    .dataframe tbody tr th:only-of-type {\n",
       "        vertical-align: middle;\n",
       "    }\n",
       "\n",
       "    .dataframe tbody tr th {\n",
       "        vertical-align: top;\n",
       "    }\n",
       "\n",
       "    .dataframe thead th {\n",
       "        text-align: right;\n",
       "    }\n",
       "</style>\n",
       "<table border=\"1\" class=\"dataframe\">\n",
       "  <thead>\n",
       "    <tr style=\"text-align: right;\">\n",
       "      <th></th>\n",
       "      <th>Unnamed: 0</th>\n",
       "      <th>x1</th>\n",
       "      <th>x2</th>\n",
       "    </tr>\n",
       "  </thead>\n",
       "  <tbody>\n",
       "    <tr>\n",
       "      <th>count</th>\n",
       "      <td>990.000000</td>\n",
       "      <td>990.000000</td>\n",
       "      <td>990.000000</td>\n",
       "    </tr>\n",
       "    <tr>\n",
       "      <th>mean</th>\n",
       "      <td>494.500000</td>\n",
       "      <td>0.497670</td>\n",
       "      <td>0.245001</td>\n",
       "    </tr>\n",
       "    <tr>\n",
       "      <th>std</th>\n",
       "      <td>285.932684</td>\n",
       "      <td>0.870014</td>\n",
       "      <td>0.503346</td>\n",
       "    </tr>\n",
       "    <tr>\n",
       "      <th>min</th>\n",
       "      <td>0.000000</td>\n",
       "      <td>-1.160703</td>\n",
       "      <td>-0.758278</td>\n",
       "    </tr>\n",
       "    <tr>\n",
       "      <th>25%</th>\n",
       "      <td>247.250000</td>\n",
       "      <td>-0.096058</td>\n",
       "      <td>-0.239007</td>\n",
       "    </tr>\n",
       "    <tr>\n",
       "      <th>50%</th>\n",
       "      <td>494.500000</td>\n",
       "      <td>0.488123</td>\n",
       "      <td>0.248611</td>\n",
       "    </tr>\n",
       "    <tr>\n",
       "      <th>75%</th>\n",
       "      <td>741.750000</td>\n",
       "      <td>1.052896</td>\n",
       "      <td>0.678518</td>\n",
       "    </tr>\n",
       "    <tr>\n",
       "      <th>max</th>\n",
       "      <td>989.000000</td>\n",
       "      <td>2.194163</td>\n",
       "      <td>1.213264</td>\n",
       "    </tr>\n",
       "  </tbody>\n",
       "</table>\n",
       "</div>"
      ],
      "text/plain": [
       "       Unnamed: 0          x1          x2\n",
       "count  990.000000  990.000000  990.000000\n",
       "mean   494.500000    0.497670    0.245001\n",
       "std    285.932684    0.870014    0.503346\n",
       "min      0.000000   -1.160703   -0.758278\n",
       "25%    247.250000   -0.096058   -0.239007\n",
       "50%    494.500000    0.488123    0.248611\n",
       "75%    741.750000    1.052896    0.678518\n",
       "max    989.000000    2.194163    1.213264"
      ]
     },
     "metadata": {},
     "execution_count": 8
    }
   ],
   "metadata": {}
  },
  {
   "cell_type": "code",
   "execution_count": 11,
   "source": [
    "# 1) What is the minumum and maximum values of each variable\r\n",
    "# x1 min = -1.60703      x2 min = -0.758278 \r\n",
    "\r\n",
    "# 2) What is the mean and standar deviation of each variable\r\n",
    "# x1 mean = 0.497670     x2 mean = 0.245001\r\n",
    "\r\n",
    "# 3) What the 25%, 50% and 75% represent?\r\n",
    "# Representan los 3 cuadrantes \r\n"
   ],
   "outputs": [
    {
     "output_type": "execute_result",
     "data": {
      "text/plain": [
       "Unnamed: 0    494.500000\n",
       "x1              0.497670\n",
       "x2              0.245001\n",
       "dtype: float64"
      ]
     },
     "metadata": {},
     "execution_count": 11
    }
   ],
   "metadata": {}
  },
  {
   "cell_type": "markdown",
   "source": [
    "Rename the columns using the same name with capital letters"
   ],
   "metadata": {}
  },
  {
   "cell_type": "code",
   "execution_count": 20,
   "source": [
    "dataset.rename(columns={'x1': 'X1', 'x2': 'X2'}, inplace=True)\r\n",
    "dataset.head()"
   ],
   "outputs": [
    {
     "output_type": "execute_result",
     "data": {
      "text/html": [
       "<div>\n",
       "<style scoped>\n",
       "    .dataframe tbody tr th:only-of-type {\n",
       "        vertical-align: middle;\n",
       "    }\n",
       "\n",
       "    .dataframe tbody tr th {\n",
       "        vertical-align: top;\n",
       "    }\n",
       "\n",
       "    .dataframe thead th {\n",
       "        text-align: right;\n",
       "    }\n",
       "</style>\n",
       "<table border=\"1\" class=\"dataframe\">\n",
       "  <thead>\n",
       "    <tr style=\"text-align: right;\">\n",
       "      <th></th>\n",
       "      <th>Unnamed: 0</th>\n",
       "      <th>X1</th>\n",
       "      <th>X2</th>\n",
       "    </tr>\n",
       "  </thead>\n",
       "  <tbody>\n",
       "    <tr>\n",
       "      <th>0</th>\n",
       "      <td>0</td>\n",
       "      <td>-0.416794</td>\n",
       "      <td>0.931040</td>\n",
       "    </tr>\n",
       "    <tr>\n",
       "      <th>1</th>\n",
       "      <td>1</td>\n",
       "      <td>-0.301968</td>\n",
       "      <td>1.013067</td>\n",
       "    </tr>\n",
       "    <tr>\n",
       "      <th>2</th>\n",
       "      <td>2</td>\n",
       "      <td>1.357776</td>\n",
       "      <td>-0.434741</td>\n",
       "    </tr>\n",
       "    <tr>\n",
       "      <th>3</th>\n",
       "      <td>3</td>\n",
       "      <td>1.925603</td>\n",
       "      <td>0.253668</td>\n",
       "    </tr>\n",
       "    <tr>\n",
       "      <th>4</th>\n",
       "      <td>4</td>\n",
       "      <td>0.954162</td>\n",
       "      <td>0.221102</td>\n",
       "    </tr>\n",
       "  </tbody>\n",
       "</table>\n",
       "</div>"
      ],
      "text/plain": [
       "   Unnamed: 0        X1        X2\n",
       "0           0 -0.416794  0.931040\n",
       "1           1 -0.301968  1.013067\n",
       "2           2  1.357776 -0.434741\n",
       "3           3  1.925603  0.253668\n",
       "4           4  0.954162  0.221102"
      ]
     },
     "metadata": {},
     "execution_count": 20
    }
   ],
   "metadata": {}
  },
  {
   "cell_type": "markdown",
   "source": [
    "Rename the columns to their original names"
   ],
   "metadata": {}
  },
  {
   "cell_type": "code",
   "execution_count": 21,
   "source": [
    "dataset.rename(columns={'X1': 'x1', 'X2': 'x2'}, inplace=True)\r\n",
    "dataset.head()"
   ],
   "outputs": [
    {
     "output_type": "execute_result",
     "data": {
      "text/html": [
       "<div>\n",
       "<style scoped>\n",
       "    .dataframe tbody tr th:only-of-type {\n",
       "        vertical-align: middle;\n",
       "    }\n",
       "\n",
       "    .dataframe tbody tr th {\n",
       "        vertical-align: top;\n",
       "    }\n",
       "\n",
       "    .dataframe thead th {\n",
       "        text-align: right;\n",
       "    }\n",
       "</style>\n",
       "<table border=\"1\" class=\"dataframe\">\n",
       "  <thead>\n",
       "    <tr style=\"text-align: right;\">\n",
       "      <th></th>\n",
       "      <th>Unnamed: 0</th>\n",
       "      <th>x1</th>\n",
       "      <th>x2</th>\n",
       "    </tr>\n",
       "  </thead>\n",
       "  <tbody>\n",
       "    <tr>\n",
       "      <th>0</th>\n",
       "      <td>0</td>\n",
       "      <td>-0.416794</td>\n",
       "      <td>0.931040</td>\n",
       "    </tr>\n",
       "    <tr>\n",
       "      <th>1</th>\n",
       "      <td>1</td>\n",
       "      <td>-0.301968</td>\n",
       "      <td>1.013067</td>\n",
       "    </tr>\n",
       "    <tr>\n",
       "      <th>2</th>\n",
       "      <td>2</td>\n",
       "      <td>1.357776</td>\n",
       "      <td>-0.434741</td>\n",
       "    </tr>\n",
       "    <tr>\n",
       "      <th>3</th>\n",
       "      <td>3</td>\n",
       "      <td>1.925603</td>\n",
       "      <td>0.253668</td>\n",
       "    </tr>\n",
       "    <tr>\n",
       "      <th>4</th>\n",
       "      <td>4</td>\n",
       "      <td>0.954162</td>\n",
       "      <td>0.221102</td>\n",
       "    </tr>\n",
       "  </tbody>\n",
       "</table>\n",
       "</div>"
      ],
      "text/plain": [
       "   Unnamed: 0        x1        x2\n",
       "0           0 -0.416794  0.931040\n",
       "1           1 -0.301968  1.013067\n",
       "2           2  1.357776 -0.434741\n",
       "3           3  1.925603  0.253668\n",
       "4           4  0.954162  0.221102"
      ]
     },
     "metadata": {},
     "execution_count": 21
    }
   ],
   "metadata": {}
  },
  {
   "cell_type": "markdown",
   "source": [
    "Use two different alternatives to get one of the columns"
   ],
   "metadata": {}
  },
  {
   "cell_type": "code",
   "execution_count": 23,
   "source": [
    "\r\n",
    "dataset.loc[:, \"x1\"]"
   ],
   "outputs": [
    {
     "output_type": "execute_result",
     "data": {
      "text/plain": [
       "0     -0.416794\n",
       "1     -0.301968\n",
       "2      1.357776\n",
       "3      1.925603\n",
       "4      0.954162\n",
       "         ...   \n",
       "985    0.640782\n",
       "986    0.264378\n",
       "987   -0.906709\n",
       "988    0.493649\n",
       "989   -0.830978\n",
       "Name: x1, Length: 990, dtype: float64"
      ]
     },
     "metadata": {},
     "execution_count": 23
    }
   ],
   "metadata": {}
  },
  {
   "cell_type": "code",
   "execution_count": 24,
   "source": [
    "dataset[\"x2\"]"
   ],
   "outputs": [
    {
     "output_type": "execute_result",
     "data": {
      "text/plain": [
       "0      0.931040\n",
       "1      1.013067\n",
       "2     -0.434741\n",
       "3      0.253668\n",
       "4      0.221102\n",
       "         ...   \n",
       "985    0.637639\n",
       "986   -0.347391\n",
       "987    0.546053\n",
       "988   -0.683074\n",
       "989    0.761296\n",
       "Name: x2, Length: 990, dtype: float64"
      ]
     },
     "metadata": {},
     "execution_count": 24
    }
   ],
   "metadata": {}
  },
  {
   "cell_type": "markdown",
   "source": [
    "Get a slice of your data set: second and thrid columns and rows from 62 to 72"
   ],
   "metadata": {}
  },
  {
   "cell_type": "code",
   "execution_count": 14,
   "source": [
    "dataset.iloc[62: 73]"
   ],
   "outputs": [
    {
     "output_type": "execute_result",
     "data": {
      "text/html": [
       "<div>\n",
       "<style scoped>\n",
       "    .dataframe tbody tr th:only-of-type {\n",
       "        vertical-align: middle;\n",
       "    }\n",
       "\n",
       "    .dataframe tbody tr th {\n",
       "        vertical-align: top;\n",
       "    }\n",
       "\n",
       "    .dataframe thead th {\n",
       "        text-align: right;\n",
       "    }\n",
       "</style>\n",
       "<table border=\"1\" class=\"dataframe\">\n",
       "  <thead>\n",
       "    <tr style=\"text-align: right;\">\n",
       "      <th></th>\n",
       "      <th>Unnamed: 0</th>\n",
       "      <th>x1</th>\n",
       "      <th>x2</th>\n",
       "    </tr>\n",
       "  </thead>\n",
       "  <tbody>\n",
       "    <tr>\n",
       "      <th>62</th>\n",
       "      <td>62</td>\n",
       "      <td>0.383082</td>\n",
       "      <td>-0.266688</td>\n",
       "    </tr>\n",
       "    <tr>\n",
       "      <th>63</th>\n",
       "      <td>63</td>\n",
       "      <td>0.444663</td>\n",
       "      <td>0.978227</td>\n",
       "    </tr>\n",
       "    <tr>\n",
       "      <th>64</th>\n",
       "      <td>64</td>\n",
       "      <td>2.033638</td>\n",
       "      <td>0.497930</td>\n",
       "    </tr>\n",
       "    <tr>\n",
       "      <th>65</th>\n",
       "      <td>65</td>\n",
       "      <td>1.922027</td>\n",
       "      <td>0.036968</td>\n",
       "    </tr>\n",
       "    <tr>\n",
       "      <th>66</th>\n",
       "      <td>66</td>\n",
       "      <td>1.511825</td>\n",
       "      <td>-0.293268</td>\n",
       "    </tr>\n",
       "    <tr>\n",
       "      <th>67</th>\n",
       "      <td>67</td>\n",
       "      <td>1.713163</td>\n",
       "      <td>-0.027815</td>\n",
       "    </tr>\n",
       "    <tr>\n",
       "      <th>68</th>\n",
       "      <td>68</td>\n",
       "      <td>0.004500</td>\n",
       "      <td>0.946409</td>\n",
       "    </tr>\n",
       "    <tr>\n",
       "      <th>69</th>\n",
       "      <td>69</td>\n",
       "      <td>0.653881</td>\n",
       "      <td>-0.432238</td>\n",
       "    </tr>\n",
       "    <tr>\n",
       "      <th>70</th>\n",
       "      <td>70</td>\n",
       "      <td>0.365091</td>\n",
       "      <td>0.902008</td>\n",
       "    </tr>\n",
       "    <tr>\n",
       "      <th>71</th>\n",
       "      <td>71</td>\n",
       "      <td>0.808674</td>\n",
       "      <td>-0.441995</td>\n",
       "    </tr>\n",
       "    <tr>\n",
       "      <th>72</th>\n",
       "      <td>72</td>\n",
       "      <td>0.111582</td>\n",
       "      <td>0.149723</td>\n",
       "    </tr>\n",
       "  </tbody>\n",
       "</table>\n",
       "</div>"
      ],
      "text/plain": [
       "    Unnamed: 0        x1        x2\n",
       "62          62  0.383082 -0.266688\n",
       "63          63  0.444663  0.978227\n",
       "64          64  2.033638  0.497930\n",
       "65          65  1.922027  0.036968\n",
       "66          66  1.511825 -0.293268\n",
       "67          67  1.713163 -0.027815\n",
       "68          68  0.004500  0.946409\n",
       "69          69  0.653881 -0.432238\n",
       "70          70  0.365091  0.902008\n",
       "71          71  0.808674 -0.441995\n",
       "72          72  0.111582  0.149723"
      ]
     },
     "metadata": {},
     "execution_count": 14
    }
   ],
   "metadata": {}
  },
  {
   "cell_type": "markdown",
   "source": [
    "For the second and thrid columns, calculate the number of null and not null values and verify that their sum equals the total number of rows"
   ],
   "metadata": {}
  },
  {
   "cell_type": "code",
   "execution_count": 25,
   "source": [
    "dataset.isnull().sum()\r\n"
   ],
   "outputs": [
    {
     "output_type": "execute_result",
     "data": {
      "text/plain": [
       "Unnamed: 0    0\n",
       "x1            0\n",
       "x2            0\n",
       "dtype: int64"
      ]
     },
     "metadata": {},
     "execution_count": 25
    }
   ],
   "metadata": {}
  },
  {
   "cell_type": "code",
   "execution_count": 26,
   "source": [
    "dataset.notnull().sum()"
   ],
   "outputs": [
    {
     "output_type": "execute_result",
     "data": {
      "text/plain": [
       "Unnamed: 0    990\n",
       "x1            990\n",
       "x2            990\n",
       "dtype: int64"
      ]
     },
     "metadata": {},
     "execution_count": 26
    }
   ],
   "metadata": {}
  },
  {
   "cell_type": "markdown",
   "source": [
    "Discard the first column\n"
   ],
   "metadata": {}
  },
  {
   "cell_type": "code",
   "execution_count": 27,
   "source": [
    "dataset.iloc[: , 1:]\r\n",
    "dataset = dataset.iloc[: , 1:]\r\n",
    "dataset "
   ],
   "outputs": [
    {
     "output_type": "execute_result",
     "data": {
      "text/html": [
       "<div>\n",
       "<style scoped>\n",
       "    .dataframe tbody tr th:only-of-type {\n",
       "        vertical-align: middle;\n",
       "    }\n",
       "\n",
       "    .dataframe tbody tr th {\n",
       "        vertical-align: top;\n",
       "    }\n",
       "\n",
       "    .dataframe thead th {\n",
       "        text-align: right;\n",
       "    }\n",
       "</style>\n",
       "<table border=\"1\" class=\"dataframe\">\n",
       "  <thead>\n",
       "    <tr style=\"text-align: right;\">\n",
       "      <th></th>\n",
       "      <th>x1</th>\n",
       "      <th>x2</th>\n",
       "    </tr>\n",
       "  </thead>\n",
       "  <tbody>\n",
       "    <tr>\n",
       "      <th>0</th>\n",
       "      <td>-0.416794</td>\n",
       "      <td>0.931040</td>\n",
       "    </tr>\n",
       "    <tr>\n",
       "      <th>1</th>\n",
       "      <td>-0.301968</td>\n",
       "      <td>1.013067</td>\n",
       "    </tr>\n",
       "    <tr>\n",
       "      <th>2</th>\n",
       "      <td>1.357776</td>\n",
       "      <td>-0.434741</td>\n",
       "    </tr>\n",
       "    <tr>\n",
       "      <th>3</th>\n",
       "      <td>1.925603</td>\n",
       "      <td>0.253668</td>\n",
       "    </tr>\n",
       "    <tr>\n",
       "      <th>4</th>\n",
       "      <td>0.954162</td>\n",
       "      <td>0.221102</td>\n",
       "    </tr>\n",
       "    <tr>\n",
       "      <th>...</th>\n",
       "      <td>...</td>\n",
       "      <td>...</td>\n",
       "    </tr>\n",
       "    <tr>\n",
       "      <th>985</th>\n",
       "      <td>0.640782</td>\n",
       "      <td>0.637639</td>\n",
       "    </tr>\n",
       "    <tr>\n",
       "      <th>986</th>\n",
       "      <td>0.264378</td>\n",
       "      <td>-0.347391</td>\n",
       "    </tr>\n",
       "    <tr>\n",
       "      <th>987</th>\n",
       "      <td>-0.906709</td>\n",
       "      <td>0.546053</td>\n",
       "    </tr>\n",
       "    <tr>\n",
       "      <th>988</th>\n",
       "      <td>0.493649</td>\n",
       "      <td>-0.683074</td>\n",
       "    </tr>\n",
       "    <tr>\n",
       "      <th>989</th>\n",
       "      <td>-0.830978</td>\n",
       "      <td>0.761296</td>\n",
       "    </tr>\n",
       "  </tbody>\n",
       "</table>\n",
       "<p>990 rows × 2 columns</p>\n",
       "</div>"
      ],
      "text/plain": [
       "           x1        x2\n",
       "0   -0.416794  0.931040\n",
       "1   -0.301968  1.013067\n",
       "2    1.357776 -0.434741\n",
       "3    1.925603  0.253668\n",
       "4    0.954162  0.221102\n",
       "..        ...       ...\n",
       "985  0.640782  0.637639\n",
       "986  0.264378 -0.347391\n",
       "987 -0.906709  0.546053\n",
       "988  0.493649 -0.683074\n",
       "989 -0.830978  0.761296\n",
       "\n",
       "[990 rows x 2 columns]"
      ]
     },
     "metadata": {},
     "execution_count": 27
    }
   ],
   "metadata": {}
  },
  {
   "cell_type": "markdown",
   "source": [
    "### Questions \r\n",
    "\r\n",
    "Based on the previos reults, provide a description of yout dataset\r\n",
    "\r\n",
    "Your response:\r\n",
    "\r\n",
    "Mi dataset cuenta con 990 rows y 3 columns, donde tenemos la primera columna como indice, y la segunda como valores de x1 y la tercera como valores de x3, lo que se llena en 990 filas de datos. No hay row o column que no contenga información ya que con la funcion de dataset.notnull().sum() todas las filas aparecen como no nulas, por lo tanto todas las filas con sus columnas tienen datos, habiendo 990 datos registrados. Tambien a lo largo de las funciones previamente utilizadas podemos observar analisis pequeños pero útiles para cada tipo de operación, ejemplo de estas son el shape, describe, etc. \r\n",
    "\r\n"
   ],
   "metadata": {}
  },
  {
   "cell_type": "markdown",
   "source": [
    "# A3 Data visualization"
   ],
   "metadata": {}
  },
  {
   "cell_type": "markdown",
   "source": [
    "Plot in the same figure the histogram of the two first two variables"
   ],
   "metadata": {}
  },
  {
   "cell_type": "code",
   "execution_count": 29,
   "source": [
    "sns.distplot(dataset[\"x1\"], kde = False)\r\n",
    "dfhist = sns.distplot(dataset[\"x2\"], kde = False)#.set_title(\"Histogram of both Age and Wingspan\")\r\n",
    "dfhist.set_ylabel(\"Frequency\")\r\n",
    "dfhist.set_xlabel(\"Variables\")\r\n",
    "dfhist.set_title(\"Histogram\")\r\n",
    "plt.show()\r\n"
   ],
   "outputs": [
    {
     "output_type": "display_data",
     "data": {
      "image/png": "[encoded data removed]",
      "text/plain": [
       "<Figure size 432x288 with 1 Axes>"
      ]
     },
     "metadata": {
      "needs_background": "light"
     }
    }
   ],
   "metadata": {}
  },
  {
   "cell_type": "markdown",
   "source": [
    "Based on this two plots, provide a description of your data:\n",
    "\n",
    "Your response here:"
   ],
   "metadata": {}
  },
  {
   "cell_type": "markdown",
   "source": [
    "Plot in the same figure the boxplot of the two first two variables "
   ],
   "metadata": {}
  },
  {
   "cell_type": "code",
   "execution_count": 30,
   "source": [
    "Tips = dataset.loc[:, [\"x1\", \"x2\"]]\r\n",
    "\r\n",
    "x2bp = sns.boxplot(data=Tips, orient=\"h\")\r\n",
    "x2bp.set_xlabel(\"cm\")\r\n",
    "x2bp.set_title(\"Boxplot\")\r\n",
    "\r\n",
    "plt.show()"
   ],
   "outputs": [
    {
     "output_type": "display_data",
     "data": {
      "image/png": "[encoded data removed]",
      "text/plain": [
       "<Figure size 432x288 with 1 Axes>"
      ]
     },
     "metadata": {
      "needs_background": "light"
     }
    }
   ],
   "metadata": {}
  },
  {
   "cell_type": "markdown",
   "source": [
    "Scatter plot of the two first variables"
   ],
   "metadata": {}
  },
  {
   "cell_type": "code",
   "execution_count": 31,
   "source": [
    "plt.scatter(dataset['x1'],dataset['x2'])\r\n",
    "plt.title('x1    x2')\r\n",
    "plt.xlabel('x1')\r\n",
    "plt.ylabel('x2')\r\n",
    "plt.show()"
   ],
   "outputs": [
    {
     "output_type": "display_data",
     "data": {
      "image/png": "[encoded data removed]",
      "text/plain": [
       "<Figure size 432x288 with 1 Axes>"
      ]
     },
     "metadata": {
      "needs_background": "light"
     }
    }
   ],
   "metadata": {}
  },
  {
   "cell_type": "markdown",
   "source": [
    "### Questions \r\n",
    "\r\n",
    "Based on the previos plots, provide a description of yout dataset\r\n",
    "\r\n",
    "Your response:\r\n",
    "\r\n",
    "Hay 2 tipos de datos debido a la gran separación que se hace entre los puntos y cajas. Por eso es que tenemos dos variables que son x1 y x2\r\n",
    "\r\n",
    "\r\n"
   ],
   "metadata": {}
  },
  {
   "cell_type": "markdown",
   "source": [
    "# A4 Kmeans"
   ],
   "metadata": {}
  },
  {
   "cell_type": "markdown",
   "source": [
    "Do Kmeans clustering assuming a number of clusters accorgind to your scatter plot"
   ],
   "metadata": {}
  },
  {
   "cell_type": "code",
   "execution_count": null,
   "source": [
    "from sklearn.cluster import KMeans\r\n",
    "\r\n",
    "# Define number of clusters\r\n",
    "km = KMeans(n_clusters=2)\r\n",
    "\r\n",
    "# Do K-means clustering (assing each point in the dataset to a cluster)\r\n",
    "#yp = km.fit_predict(dataset)\r\n",
    "yp = km.fit_predict(dataset[['x1','x2']])\r\n",
    "\r\n",
    "# Print estimated cluster of each point in the dataset\r\n",
    "yp"
   ],
   "outputs": [],
   "metadata": {}
  },
  {
   "cell_type": "markdown",
   "source": [
    "Add to your dataset a column with the assihned cluster to each data point"
   ],
   "metadata": {}
  },
  {
   "cell_type": "code",
   "execution_count": null,
   "source": [
    "dataset['Cluster1'] = yp\r\n",
    "\r\n",
    "dataset"
   ],
   "outputs": [],
   "metadata": {}
  },
  {
   "cell_type": "markdown",
   "source": [
    "Print the number associated to each cluster"
   ],
   "metadata": {}
  },
  {
   "cell_type": "code",
   "execution_count": null,
   "source": [
    "dataset.Cluster1.unique()"
   ],
   "outputs": [],
   "metadata": {}
  },
  {
   "cell_type": "markdown",
   "source": [
    "Print the centroids"
   ],
   "metadata": {}
  },
  {
   "cell_type": "code",
   "execution_count": null,
   "source": [
    "km.cluster_centers_"
   ],
   "outputs": [],
   "metadata": {}
  },
  {
   "cell_type": "markdown",
   "source": [
    "Print the intertia metric"
   ],
   "metadata": {}
  },
  {
   "cell_type": "code",
   "execution_count": null,
   "source": [
    "km.inertia_"
   ],
   "outputs": [],
   "metadata": {}
  },
  {
   "cell_type": "markdown",
   "source": [
    "Plot a scatter plot of your data assigned to each cluster. Also plot the centroids"
   ],
   "metadata": {}
  },
  {
   "cell_type": "code",
   "execution_count": null,
   "source": [
    "df1 = dataset[dataset.Cluster1==0]\r\n",
    "df2 = dataset[dataset.Cluster1==1]\r\n",
    "\r\n",
    "plt.scatter(df1['x1'], df1['x2'], Label='Group 1')\r\n",
    "plt.scatter(df2['x1'], df2['x2'], Label='Group 2')\r\n",
    "\r\n",
    "plt.scatter(km.cluster_centers_[:,0], km.cluster_centers_[:,1], color='magenta', marker='*', label='centroides', s=256)\r\n",
    "\r\n",
    "plt.title('x1   x2')\r\n",
    "plt.xlabel('x1')\r\n",
    "plt.ylabel('x2')\r\n",
    "plt.legend()\r\n",
    "plt.show()"
   ],
   "outputs": [],
   "metadata": {}
  },
  {
   "cell_type": "markdown",
   "source": [
    "### Questions \r\n",
    "\r\n",
    "Provides a detailed description of your results\r\n",
    "\r\n",
    "Your response:\r\n",
    "\r\n",
    "Desde las graficas puedo ver los dos tipos de data y sus diferentes comportamientos, el como se juntan y a la par de como se dividen el x1 y x2"
   ],
   "metadata": {}
  },
  {
   "cell_type": "markdown",
   "source": [
    "# A4 Elbow plot\n",
    "\n",
    "Compute the Elbow plot"
   ],
   "metadata": {}
  },
  {
   "cell_type": "code",
   "execution_count": null,
   "source": [
    "\r\n",
    "sse = []\r\n",
    "k_rng = range(1,10)\r\n",
    "for k in k_rng:\r\n",
    "    km = KMeans(n_clusters=k)\r\n",
    "    km.fit_predict(dataset[['x1','x2']])\r\n",
    "    sse.append(km.inertia_)"
   ],
   "outputs": [],
   "metadata": {}
  },
  {
   "cell_type": "code",
   "execution_count": null,
   "source": [
    "plt.plot(k_rng,sse)\r\n",
    "\r\n",
    "plt.title('elbow plot')\r\n",
    "plt.xlabel('k')\r\n",
    "plt.ylabel('sum of squared error')\r\n",
    "plt.show()"
   ],
   "outputs": [],
   "metadata": {}
  },
  {
   "cell_type": "markdown",
   "source": [
    "### Questions \r\n",
    "\r\n",
    "What is the best number of clusters K? (argue your response)\r\n",
    "\r\n",
    "Your response:\r\n",
    "\r\n",
    "En este caso el mejor es el número 3, ya que hay una diferencia significativa entre 2 y 3.\r\n",
    "\r\n",
    "\r\n",
    "Does this number of clusters agree with your inital guess? (argue your response)\r\n",
    "\r\n",
    "Your response:\r\n",
    "\r\n",
    "Sí, viendo los datos predije que podría ser el 3"
   ],
   "metadata": {}
  },
  {
   "cell_type": "markdown",
   "source": [
    "# A4 Normalizing the data: preprocessing using min max scaler\n"
   ],
   "metadata": {}
  },
  {
   "cell_type": "markdown",
   "source": [
    "Normalize the data using min max scaler"
   ],
   "metadata": {}
  },
  {
   "cell_type": "code",
   "execution_count": null,
   "source": [
    "\r\n",
    "from sklearn.preprocessing import MinMaxScaler\r\n",
    "\r\n",
    "scaler = MinMaxScaler()\r\n",
    "scaler.fit(dataset[['x1']])\r\n",
    "dataset['x1'] = scaler.transform(dataset[['x1']])\r\n",
    "\r\n",
    "scaler.fit(dataset[['x2']])\r\n",
    "dataset['x2'] = scaler.transform(dataset[['x2']])\r\n",
    "\r\n",
    "dataset"
   ],
   "outputs": [],
   "metadata": {}
  },
  {
   "cell_type": "markdown",
   "source": [
    "Print a statistical summary of your columns (normalized data)"
   ],
   "metadata": {}
  },
  {
   "cell_type": "code",
   "execution_count": null,
   "source": [
    "dataset.describe()"
   ],
   "outputs": [],
   "metadata": {}
  },
  {
   "cell_type": "markdown",
   "source": [
    "Plot the scatter plot of your normalizaed data"
   ],
   "metadata": {}
  },
  {
   "cell_type": "code",
   "execution_count": null,
   "source": [
    "plt.scatter(dataset['x1'],dataset['x2'])\r\n",
    "plt.title('x1   x2')\r\n",
    "plt.xlabel('x1')\r\n",
    "plt.ylabel('x2')\r\n",
    "plt.show()"
   ],
   "outputs": [],
   "metadata": {}
  },
  {
   "cell_type": "markdown",
   "source": [
    "Do Kmeans clustering assuming a number of clusters accorgind to your scatter plot"
   ],
   "metadata": {}
  },
  {
   "cell_type": "code",
   "execution_count": null,
   "source": [
    "\r\n",
    "km = KMeans(n_clusters=3)\r\n",
    "yp = km.fit_predict(dataset[['x1','x2']])\r\n",
    "yp"
   ],
   "outputs": [],
   "metadata": {}
  },
  {
   "cell_type": "markdown",
   "source": [
    "Add to your dataset a column with the assihned cluster to each data point"
   ],
   "metadata": {}
  },
  {
   "cell_type": "code",
   "execution_count": null,
   "source": [
    "dataset['Cluster2'] = yp\r\n",
    "dataset"
   ],
   "outputs": [],
   "metadata": {}
  },
  {
   "cell_type": "markdown",
   "source": [
    "Print the centroids"
   ],
   "metadata": {}
  },
  {
   "cell_type": "code",
   "execution_count": null,
   "source": [
    "km.cluster_centers_"
   ],
   "outputs": [],
   "metadata": {}
  },
  {
   "cell_type": "markdown",
   "source": [
    "Print the intetia metric"
   ],
   "metadata": {}
  },
  {
   "cell_type": "code",
   "execution_count": null,
   "source": [
    "km.inertia_"
   ],
   "outputs": [],
   "metadata": {}
  },
  {
   "cell_type": "markdown",
   "source": [
    "Plot a scatter plot of your data assigned to each cluster. Also plot the centroids"
   ],
   "metadata": {}
  },
  {
   "cell_type": "code",
   "execution_count": null,
   "source": [
    "df1 = dataset[dataset.Cluster2==0]\r\n",
    "df2 = dataset[dataset.Cluster2==1]\r\n",
    "df3 = dataset[dataset.Cluster2==2]\r\n",
    "\r\n",
    "\r\n",
    "plt.scatter(df1['x1'], df1['x2'], Label='Estimated Gender Group 1')\r\n",
    "plt.scatter(df2['x1'], df2['x2'], Label='Estimated Gender Group 2')\r\n",
    "plt.scatter(df3['x1'], df3['x2'], Label='Estimated Gender Group 3')\r\n",
    "\r\n",
    "\r\n",
    "\r\n",
    "plt.scatter(km.cluster_centers_[:,0], km.cluster_centers_[:,1], color='magenta', marker='*', label='Centroides', s=256)\r\n",
    "\r\n",
    "plt.title('x1  x2')\r\n",
    "plt.xlabel('x1')\r\n",
    "plt.ylabel('x2')\r\n",
    "plt.legend()\r\n",
    "plt.show()"
   ],
   "outputs": [],
   "metadata": {}
  },
  {
   "cell_type": "markdown",
   "source": [
    "### Questions \r\n",
    "\r\n",
    "Provides a detailed description of your results. Does the normalization improves the clustering?\r\n",
    "\r\n",
    "Your response:\r\n",
    "\r\n",
    "Sí, normalizar los datos ayuda mucho a mejorar el clustering ya que el normalizarlo hacer que se haga un sort de la data lo cual hace el procesos de clustering mucho más fácil"
   ],
   "metadata": {}
  },
  {
   "cell_type": "markdown",
   "source": [
    "# BONUS"
   ],
   "metadata": {}
  },
  {
   "cell_type": "markdown",
   "source": [
    "1) Generate some data using the \"make_blobs\" function from \"sklearn.datasets\"\n",
    "\n",
    "- The number of observations is equal to the three last digits in your ID\n",
    "\n",
    "- 2 variables\n",
    "\n",
    "- 4 clusters\n",
    "\n",
    "- Standar deviation of each cluster of 1.5\n",
    "\n"
   ],
   "metadata": {}
  },
  {
   "cell_type": "code",
   "execution_count": null,
   "source": [
    "from sklearn.datasets import make_blobs\r\n",
    "from matplotlib import pyplot\r\n",
    "from pandas import DataFrame\r\n",
    "\r\n",
    "\r\n",
    "X, y = make_blobs(n_samples = 460, n_features=2, centers=4, cluster_std=1.5)\r\n",
    "datasetBonus = DataFrame(dict(x=X[:,0], y=X[:,1]))"
   ],
   "outputs": [],
   "metadata": {}
  },
  {
   "cell_type": "markdown",
   "source": [
    "2) Plot the scatter plot of your data using the real cluster labels"
   ],
   "metadata": {}
  },
  {
   "cell_type": "code",
   "execution_count": null,
   "source": [
    "pyplot.scatter(X[:, 0], X[:, 1], c=y)\r\n",
    "pyplot.show()"
   ],
   "outputs": [],
   "metadata": {}
  },
  {
   "cell_type": "markdown",
   "source": [
    "3) Do K means clustering "
   ],
   "metadata": {}
  },
  {
   "cell_type": "code",
   "execution_count": null,
   "source": [
    "from sklearn.cluster import KMeans\r\n",
    "km = KMeans(n_clusters=4)\r\n",
    "yp = km.fit_predict(X)\r\n",
    "yp"
   ],
   "outputs": [],
   "metadata": {}
  },
  {
   "cell_type": "code",
   "execution_count": null,
   "source": [
    "datasetBonus['Cluster1'] = yp\r\n",
    "datasetBonus"
   ],
   "outputs": [],
   "metadata": {}
  },
  {
   "cell_type": "markdown",
   "source": [
    "4) Plot the scatter plot of your data using the estimated cluster labels"
   ],
   "metadata": {}
  },
  {
   "cell_type": "code",
   "execution_count": null,
   "source": [],
   "outputs": [],
   "metadata": {}
  },
  {
   "cell_type": "markdown",
   "source": [
    "### Questions \r\n",
    "\r\n",
    "Provides a detailed description of your results.\r\n",
    "\r\n",
    "Your response:\r\n",
    "Los resultados de la libreria make_blobs son muy increíbles ya que de alguna manera logran hacer el clustering mucho más fácil y rápido. Se puede ver que incluso se ven similares debido a la semejanza que tienen "
   ],
   "metadata": {}
  },
  {
   "cell_type": "markdown",
   "source": [
    "# Descipcion de tu percepcion del nivel de desarrollo de la subcompetencia \n",
    "\n",
    "### SING0202A Interpretación de variables\n"
   ],
   "metadata": {}
  },
  {
   "cell_type": "markdown",
   "source": [
    "Escribe tu description del nivel de logro del siguiente criterio de la subcompetencia\n",
    "\n",
    "**Interpreta interacciones**. Interpreta interacciones entre variables relevantes en un problema, como base para la construcción de modelos bivariados basados en datos de un fenómeno investigado que le permita reproducir la respuesta del mismo."
   ],
   "metadata": {}
  },
  {
   "cell_type": "markdown",
   "source": [
    "Tu respuesta:\r\n",
    "A lo largo de esta semana pude aprender a interpretas diversas interacciones entre avriables gracias a herramientas como Jupiter en python, ya que pude poner en practica modelos bivariados basados en varios documentos .csv, lo que me permitió poder analizar estos archivos y mostrarlos de manera optima en un documento de trabajo como lo es Jupiter"
   ],
   "metadata": {}
  },
  {
   "cell_type": "markdown",
   "source": [
    "Escribe tu description del nivel de logro del siguiente criterio de la subcompetencia\n",
    "\n",
    "**Construcción de modelos**. Es capaz de construir modelos bivariados que expliquen el comportamiento de un fenómeno."
   ],
   "metadata": {}
  },
  {
   "cell_type": "markdown",
   "source": [
    "Tu respuesta:\r\n",
    "\r\n",
    "Pude aprender a construir estos modelos bivariados por mi cuenta, y como pureba de esto estan las primeras 4 actividades y esta evidencia donde fui capaz de poner en practica todo lo aprendido durante esta semana"
   ],
   "metadata": {}
  }
 ],
 "metadata": {
  "kernelspec": {
   "name": "python3",
   "display_name": "Python 3.9.7 64-bit (windows store)"
  },
  "language_info": {
   "codemirror_mode": {
    "name": "ipython",
    "version": 3
   },
   "file_extension": ".py",
   "mimetype": "text/x-python",
   "name": "python",
   "nbconvert_exporter": "python",
   "pygments_lexer": "ipython3",
   "version": "3.9.7"
  },
  "interpreter": {
   "hash": "9dac42273d3bacf76448d0463623541a7bf2a5feec4c39ff1a25e01985bf83b7"
  }
 },
 "nbformat": 4,
 "nbformat_minor": 2
}