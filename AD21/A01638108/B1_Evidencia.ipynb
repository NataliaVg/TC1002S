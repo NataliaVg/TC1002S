{
 "cells": [
  {
   "cell_type": "markdown",
   "metadata": {},
   "source": [
    "# TC1002S Herramientas computacionales: el arte de la analítica\n",
    "\n",
    "This is a notebook with all your work for the final evidence of this course\n",
    "\n",
    "\n",
    "# Niveles de dominio a demostrar con la evidencia\n",
    "\n",
    "### SING0202A\n",
    "\n",
    "Interpreta interacciones entre variables relevantes en un problema, como base para la construcción de modelos bivariados basados en datos de un fenómeno investigado que le permita reproducir la respuesta del mismo. Es capaz de construir modelos bivariados que expliquen el comportamiento de un fenómeno.\n",
    "\n",
    "\n",
    "# Student information\n",
    "\n",
    "- Name: Giancarlo Franco Carrillo\n",
    "\n",
    "- ID: A01638108\n",
    "\n",
    "- My career: IRS\n"
   ]
  },
  {
   "cell_type": "markdown",
   "metadata": {},
   "source": [
    "# Importing libraries"
   ]
  },
  {
   "cell_type": "code",
   "execution_count": 3,
   "metadata": {},
   "outputs": [],
   "source": [
    "# Import the packages that we will be using\n",
    "import pandas as pd #for data handling\n",
    "import seaborn as sns #for advanced plots\n",
    "import matplotlib.pyplot as plt #for showing plots\n"
   ]
  },
  {
   "cell_type": "markdown",
   "metadata": {},
   "source": [
    "# A1 Load your dataset"
   ]
  },
  {
   "cell_type": "code",
   "execution_count": 4,
   "metadata": {},
   "outputs": [
    {
     "data": {
      "text/html": [
       "<div>\n",
       "<style scoped>\n",
       "    .dataframe tbody tr th:only-of-type {\n",
       "        vertical-align: middle;\n",
       "    }\n",
       "\n",
       "    .dataframe tbody tr th {\n",
       "        vertical-align: top;\n",
       "    }\n",
       "\n",
       "    .dataframe thead th {\n",
       "        text-align: right;\n",
       "    }\n",
       "</style>\n",
       "<table border=\"1\" class=\"dataframe\">\n",
       "  <thead>\n",
       "    <tr style=\"text-align: right;\">\n",
       "      <th></th>\n",
       "      <th>Id</th>\n",
       "      <th>x1</th>\n",
       "      <th>x2</th>\n",
       "    </tr>\n",
       "  </thead>\n",
       "  <tbody>\n",
       "    <tr>\n",
       "      <th>0</th>\n",
       "      <td>0</td>\n",
       "      <td>2.181124</td>\n",
       "      <td>5.580962</td>\n",
       "    </tr>\n",
       "    <tr>\n",
       "      <th>1</th>\n",
       "      <td>1</td>\n",
       "      <td>3.498059</td>\n",
       "      <td>2.053020</td>\n",
       "    </tr>\n",
       "    <tr>\n",
       "      <th>2</th>\n",
       "      <td>2</td>\n",
       "      <td>-2.735871</td>\n",
       "      <td>7.685682</td>\n",
       "    </tr>\n",
       "    <tr>\n",
       "      <th>3</th>\n",
       "      <td>3</td>\n",
       "      <td>-5.637355</td>\n",
       "      <td>11.155301</td>\n",
       "    </tr>\n",
       "    <tr>\n",
       "      <th>4</th>\n",
       "      <td>4</td>\n",
       "      <td>1.683385</td>\n",
       "      <td>6.546471</td>\n",
       "    </tr>\n",
       "    <tr>\n",
       "      <th>...</th>\n",
       "      <td>...</td>\n",
       "      <td>...</td>\n",
       "      <td>...</td>\n",
       "    </tr>\n",
       "    <tr>\n",
       "      <th>103</th>\n",
       "      <td>103</td>\n",
       "      <td>-3.028757</td>\n",
       "      <td>7.128788</td>\n",
       "    </tr>\n",
       "    <tr>\n",
       "      <th>104</th>\n",
       "      <td>104</td>\n",
       "      <td>0.740062</td>\n",
       "      <td>6.130575</td>\n",
       "    </tr>\n",
       "    <tr>\n",
       "      <th>105</th>\n",
       "      <td>105</td>\n",
       "      <td>2.170669</td>\n",
       "      <td>6.144841</td>\n",
       "    </tr>\n",
       "    <tr>\n",
       "      <th>106</th>\n",
       "      <td>106</td>\n",
       "      <td>1.120502</td>\n",
       "      <td>4.389327</td>\n",
       "    </tr>\n",
       "    <tr>\n",
       "      <th>107</th>\n",
       "      <td>107</td>\n",
       "      <td>-4.800850</td>\n",
       "      <td>8.165080</td>\n",
       "    </tr>\n",
       "  </tbody>\n",
       "</table>\n",
       "<p>108 rows × 3 columns</p>\n",
       "</div>"
      ],
      "text/plain": [
       "      Id        x1         x2\n",
       "0      0  2.181124   5.580962\n",
       "1      1  3.498059   2.053020\n",
       "2      2 -2.735871   7.685682\n",
       "3      3 -5.637355  11.155301\n",
       "4      4  1.683385   6.546471\n",
       "..   ...       ...        ...\n",
       "103  103 -3.028757   7.128788\n",
       "104  104  0.740062   6.130575\n",
       "105  105  2.170669   6.144841\n",
       "106  106  1.120502   4.389327\n",
       "107  107 -4.800850   8.165080\n",
       "\n",
       "[108 rows x 3 columns]"
      ]
     },
     "execution_count": 4,
     "metadata": {},
     "output_type": "execute_result"
    }
   ],
   "source": [
    "# url string that hosts our .csv file\n",
    "url = \"A01638108.csv\"\n",
    "\n",
    "# Read the .csv file and store it as a pandas Data Frame\n",
    "myData = pd.read_csv(url, names=['Id','x1','x2'],header=0)\n",
    "#we did the previous command in order to avoid a dupllicated row\n",
    "myData"
   ]
  },
  {
   "cell_type": "markdown",
   "metadata": {},
   "source": [
    "# A2 DataManagment\n"
   ]
  },
  {
   "cell_type": "markdown",
   "metadata": {},
   "source": [
    "Print the first 7 rows"
   ]
  },
  {
   "cell_type": "code",
   "execution_count": 5,
   "metadata": {},
   "outputs": [
    {
     "data": {
      "text/html": [
       "<div>\n",
       "<style scoped>\n",
       "    .dataframe tbody tr th:only-of-type {\n",
       "        vertical-align: middle;\n",
       "    }\n",
       "\n",
       "    .dataframe tbody tr th {\n",
       "        vertical-align: top;\n",
       "    }\n",
       "\n",
       "    .dataframe thead th {\n",
       "        text-align: right;\n",
       "    }\n",
       "</style>\n",
       "<table border=\"1\" class=\"dataframe\">\n",
       "  <thead>\n",
       "    <tr style=\"text-align: right;\">\n",
       "      <th></th>\n",
       "      <th>Id</th>\n",
       "      <th>x1</th>\n",
       "      <th>x2</th>\n",
       "    </tr>\n",
       "  </thead>\n",
       "  <tbody>\n",
       "    <tr>\n",
       "      <th>0</th>\n",
       "      <td>0</td>\n",
       "      <td>2.181124</td>\n",
       "      <td>5.580962</td>\n",
       "    </tr>\n",
       "    <tr>\n",
       "      <th>1</th>\n",
       "      <td>1</td>\n",
       "      <td>3.498059</td>\n",
       "      <td>2.053020</td>\n",
       "    </tr>\n",
       "    <tr>\n",
       "      <th>2</th>\n",
       "      <td>2</td>\n",
       "      <td>-2.735871</td>\n",
       "      <td>7.685682</td>\n",
       "    </tr>\n",
       "    <tr>\n",
       "      <th>3</th>\n",
       "      <td>3</td>\n",
       "      <td>-5.637355</td>\n",
       "      <td>11.155301</td>\n",
       "    </tr>\n",
       "    <tr>\n",
       "      <th>4</th>\n",
       "      <td>4</td>\n",
       "      <td>1.683385</td>\n",
       "      <td>6.546471</td>\n",
       "    </tr>\n",
       "    <tr>\n",
       "      <th>5</th>\n",
       "      <td>5</td>\n",
       "      <td>1.496962</td>\n",
       "      <td>1.919646</td>\n",
       "    </tr>\n",
       "    <tr>\n",
       "      <th>6</th>\n",
       "      <td>6</td>\n",
       "      <td>1.832774</td>\n",
       "      <td>2.060469</td>\n",
       "    </tr>\n",
       "  </tbody>\n",
       "</table>\n",
       "</div>"
      ],
      "text/plain": [
       "   Id        x1         x2\n",
       "0   0  2.181124   5.580962\n",
       "1   1  3.498059   2.053020\n",
       "2   2 -2.735871   7.685682\n",
       "3   3 -5.637355  11.155301\n",
       "4   4  1.683385   6.546471\n",
       "5   5  1.496962   1.919646\n",
       "6   6  1.832774   2.060469"
      ]
     },
     "execution_count": 5,
     "metadata": {},
     "output_type": "execute_result"
    }
   ],
   "source": [
    "myData.head(7)"
   ]
  },
  {
   "cell_type": "markdown",
   "metadata": {},
   "source": [
    "Print the first 4 last rows"
   ]
  },
  {
   "cell_type": "code",
   "execution_count": 6,
   "metadata": {},
   "outputs": [
    {
     "data": {
      "text/html": [
       "<div>\n",
       "<style scoped>\n",
       "    .dataframe tbody tr th:only-of-type {\n",
       "        vertical-align: middle;\n",
       "    }\n",
       "\n",
       "    .dataframe tbody tr th {\n",
       "        vertical-align: top;\n",
       "    }\n",
       "\n",
       "    .dataframe thead th {\n",
       "        text-align: right;\n",
       "    }\n",
       "</style>\n",
       "<table border=\"1\" class=\"dataframe\">\n",
       "  <thead>\n",
       "    <tr style=\"text-align: right;\">\n",
       "      <th></th>\n",
       "      <th>Id</th>\n",
       "      <th>x1</th>\n",
       "      <th>x2</th>\n",
       "    </tr>\n",
       "  </thead>\n",
       "  <tbody>\n",
       "    <tr>\n",
       "      <th>104</th>\n",
       "      <td>104</td>\n",
       "      <td>0.740062</td>\n",
       "      <td>6.130575</td>\n",
       "    </tr>\n",
       "    <tr>\n",
       "      <th>105</th>\n",
       "      <td>105</td>\n",
       "      <td>2.170669</td>\n",
       "      <td>6.144841</td>\n",
       "    </tr>\n",
       "    <tr>\n",
       "      <th>106</th>\n",
       "      <td>106</td>\n",
       "      <td>1.120502</td>\n",
       "      <td>4.389327</td>\n",
       "    </tr>\n",
       "    <tr>\n",
       "      <th>107</th>\n",
       "      <td>107</td>\n",
       "      <td>-4.800850</td>\n",
       "      <td>8.165080</td>\n",
       "    </tr>\n",
       "  </tbody>\n",
       "</table>\n",
       "</div>"
      ],
      "text/plain": [
       "      Id        x1        x2\n",
       "104  104  0.740062  6.130575\n",
       "105  105  2.170669  6.144841\n",
       "106  106  1.120502  4.389327\n",
       "107  107 -4.800850  8.165080"
      ]
     },
     "execution_count": 6,
     "metadata": {},
     "output_type": "execute_result"
    }
   ],
   "source": [
    "myData.tail(4)"
   ]
  },
  {
   "cell_type": "markdown",
   "metadata": {},
   "source": [
    "How many rows and columns are in your data?\n",
    "\n",
    "Use the `shape` method\n"
   ]
  },
  {
   "cell_type": "code",
   "execution_count": 7,
   "metadata": {},
   "outputs": [
    {
     "data": {
      "text/plain": [
       "(108, 3)"
      ]
     },
     "execution_count": 7,
     "metadata": {},
     "output_type": "execute_result"
    }
   ],
   "source": [
    "myData.shape"
   ]
  },
  {
   "cell_type": "markdown",
   "metadata": {},
   "source": [
    "Print the name of all columns \n",
    "\n",
    "Use the `columns` method"
   ]
  },
  {
   "cell_type": "code",
   "execution_count": 8,
   "metadata": {},
   "outputs": [
    {
     "data": {
      "text/plain": [
       "Index(['Id', 'x1', 'x2'], dtype='object')"
      ]
     },
     "execution_count": 8,
     "metadata": {},
     "output_type": "execute_result"
    }
   ],
   "source": [
    "myData.columns"
   ]
  },
  {
   "cell_type": "markdown",
   "metadata": {},
   "source": [
    "What is the data type in each column\n",
    "\n",
    "Use the `dtypes` method "
   ]
  },
  {
   "cell_type": "code",
   "execution_count": 9,
   "metadata": {},
   "outputs": [
    {
     "data": {
      "text/plain": [
       "Id      int64\n",
       "x1    float64\n",
       "x2    float64\n",
       "dtype: object"
      ]
     },
     "execution_count": 9,
     "metadata": {},
     "output_type": "execute_result"
    }
   ],
   "source": [
    "myData.dtypes"
   ]
  },
  {
   "cell_type": "markdown",
   "metadata": {},
   "source": [
    "What is the meaning of rows and columns?"
   ]
  },
  {
   "cell_type": "code",
   "execution_count": 10,
   "metadata": {},
   "outputs": [],
   "source": [
    "# Your responses here\n",
    "\n",
    "# 1) Para la primer columna, \"Id\" podemos asumir que es un identificador para cada muestreo de datos\n",
    "#ya que en el archivo csv no tenia un nombre para identificar esa variable, como si se tratase mas a la iteracion.\n",
    "\n",
    "# 2) x1 y x2 podemos tomarlas como simples variables de entrada del sistema o condiciones del experimento que se registraron \n",
    "# segun una salida en especifico en este caso pudiera ser el \"Id\"\n",
    "\n",
    "# 3) finalmente, cada fila es una muestra de datos que puede ser graficada en un eje coordenado (x1,x2).\n",
    "\n",
    "#..."
   ]
  },
  {
   "cell_type": "markdown",
   "metadata": {},
   "source": [
    "Print a statistical summary of your columns\n"
   ]
  },
  {
   "cell_type": "code",
   "execution_count": 11,
   "metadata": {},
   "outputs": [
    {
     "data": {
      "text/html": [
       "<div>\n",
       "<style scoped>\n",
       "    .dataframe tbody tr th:only-of-type {\n",
       "        vertical-align: middle;\n",
       "    }\n",
       "\n",
       "    .dataframe tbody tr th {\n",
       "        vertical-align: top;\n",
       "    }\n",
       "\n",
       "    .dataframe thead th {\n",
       "        text-align: right;\n",
       "    }\n",
       "</style>\n",
       "<table border=\"1\" class=\"dataframe\">\n",
       "  <thead>\n",
       "    <tr style=\"text-align: right;\">\n",
       "      <th></th>\n",
       "      <th>Id</th>\n",
       "      <th>x1</th>\n",
       "      <th>x2</th>\n",
       "    </tr>\n",
       "  </thead>\n",
       "  <tbody>\n",
       "    <tr>\n",
       "      <th>count</th>\n",
       "      <td>108.00000</td>\n",
       "      <td>108.000000</td>\n",
       "      <td>108.000000</td>\n",
       "    </tr>\n",
       "    <tr>\n",
       "      <th>mean</th>\n",
       "      <td>53.50000</td>\n",
       "      <td>-0.384918</td>\n",
       "      <td>3.792062</td>\n",
       "    </tr>\n",
       "    <tr>\n",
       "      <th>std</th>\n",
       "      <td>31.32092</td>\n",
       "      <td>2.915233</td>\n",
       "      <td>3.559343</td>\n",
       "    </tr>\n",
       "    <tr>\n",
       "      <th>min</th>\n",
       "      <td>0.00000</td>\n",
       "      <td>-6.546559</td>\n",
       "      <td>-2.327528</td>\n",
       "    </tr>\n",
       "    <tr>\n",
       "      <th>25%</th>\n",
       "      <td>26.75000</td>\n",
       "      <td>-2.512804</td>\n",
       "      <td>1.063443</td>\n",
       "    </tr>\n",
       "    <tr>\n",
       "      <th>50%</th>\n",
       "      <td>53.50000</td>\n",
       "      <td>0.309445</td>\n",
       "      <td>2.986410</td>\n",
       "    </tr>\n",
       "    <tr>\n",
       "      <th>75%</th>\n",
       "      <td>80.25000</td>\n",
       "      <td>1.823481</td>\n",
       "      <td>6.679144</td>\n",
       "    </tr>\n",
       "    <tr>\n",
       "      <th>max</th>\n",
       "      <td>107.00000</td>\n",
       "      <td>5.538768</td>\n",
       "      <td>12.036189</td>\n",
       "    </tr>\n",
       "  </tbody>\n",
       "</table>\n",
       "</div>"
      ],
      "text/plain": [
       "              Id          x1          x2\n",
       "count  108.00000  108.000000  108.000000\n",
       "mean    53.50000   -0.384918    3.792062\n",
       "std     31.32092    2.915233    3.559343\n",
       "min      0.00000   -6.546559   -2.327528\n",
       "25%     26.75000   -2.512804    1.063443\n",
       "50%     53.50000    0.309445    2.986410\n",
       "75%     80.25000    1.823481    6.679144\n",
       "max    107.00000    5.538768   12.036189"
      ]
     },
     "execution_count": 11,
     "metadata": {},
     "output_type": "execute_result"
    }
   ],
   "source": [
    "myData.describe()"
   ]
  },
  {
   "cell_type": "code",
   "execution_count": 12,
   "metadata": {},
   "outputs": [],
   "source": [
    "# 1) What is the minumum and maximum values of each variable\n",
    "# para la variable de x1 tenemos un valor minimo de -6.546559 unidades y para la variable de x2 es -2.327528, \n",
    "# analizar el minimo o cualquier otro dato de Id no tiene mucho sentido ya que es un identificador para cada muestreo.\n",
    "\n",
    "# 2) What is the mean and standar deviation of each variable\n",
    "# el promedio para x1 es -0.384918, pudieramos intuir que hay mas valores negativos, para x2 es 3.792062 \n",
    "# por lo que esta variable tiene mas valores positivos.\n",
    "# 3) What the 25%, 50% and 75% represent?\n",
    "# 25 y 75 % son los primer y tercer cuartil, el 50% es tambien la mediana, estos 3 datos generan el rango intercuartil, \n",
    "# que no es otra cosa mas que una forma de distribuir los datos mas cercanos a la mediana para poder tomarlos como datos\n",
    "# experimentales o bien para generar el diagrama de caja.\n",
    "\n"
   ]
  },
  {
   "cell_type": "markdown",
   "metadata": {},
   "source": [
    "Rename the columns using the same name with capital letters"
   ]
  },
  {
   "cell_type": "code",
   "execution_count": 13,
   "metadata": {},
   "outputs": [
    {
     "data": {
      "text/html": [
       "<div>\n",
       "<style scoped>\n",
       "    .dataframe tbody tr th:only-of-type {\n",
       "        vertical-align: middle;\n",
       "    }\n",
       "\n",
       "    .dataframe tbody tr th {\n",
       "        vertical-align: top;\n",
       "    }\n",
       "\n",
       "    .dataframe thead th {\n",
       "        text-align: right;\n",
       "    }\n",
       "</style>\n",
       "<table border=\"1\" class=\"dataframe\">\n",
       "  <thead>\n",
       "    <tr style=\"text-align: right;\">\n",
       "      <th></th>\n",
       "      <th>ID</th>\n",
       "      <th>X1</th>\n",
       "      <th>X2</th>\n",
       "    </tr>\n",
       "  </thead>\n",
       "  <tbody>\n",
       "    <tr>\n",
       "      <th>0</th>\n",
       "      <td>0</td>\n",
       "      <td>2.181124</td>\n",
       "      <td>5.580962</td>\n",
       "    </tr>\n",
       "    <tr>\n",
       "      <th>1</th>\n",
       "      <td>1</td>\n",
       "      <td>3.498059</td>\n",
       "      <td>2.053020</td>\n",
       "    </tr>\n",
       "    <tr>\n",
       "      <th>2</th>\n",
       "      <td>2</td>\n",
       "      <td>-2.735871</td>\n",
       "      <td>7.685682</td>\n",
       "    </tr>\n",
       "    <tr>\n",
       "      <th>3</th>\n",
       "      <td>3</td>\n",
       "      <td>-5.637355</td>\n",
       "      <td>11.155301</td>\n",
       "    </tr>\n",
       "    <tr>\n",
       "      <th>4</th>\n",
       "      <td>4</td>\n",
       "      <td>1.683385</td>\n",
       "      <td>6.546471</td>\n",
       "    </tr>\n",
       "    <tr>\n",
       "      <th>...</th>\n",
       "      <td>...</td>\n",
       "      <td>...</td>\n",
       "      <td>...</td>\n",
       "    </tr>\n",
       "    <tr>\n",
       "      <th>103</th>\n",
       "      <td>103</td>\n",
       "      <td>-3.028757</td>\n",
       "      <td>7.128788</td>\n",
       "    </tr>\n",
       "    <tr>\n",
       "      <th>104</th>\n",
       "      <td>104</td>\n",
       "      <td>0.740062</td>\n",
       "      <td>6.130575</td>\n",
       "    </tr>\n",
       "    <tr>\n",
       "      <th>105</th>\n",
       "      <td>105</td>\n",
       "      <td>2.170669</td>\n",
       "      <td>6.144841</td>\n",
       "    </tr>\n",
       "    <tr>\n",
       "      <th>106</th>\n",
       "      <td>106</td>\n",
       "      <td>1.120502</td>\n",
       "      <td>4.389327</td>\n",
       "    </tr>\n",
       "    <tr>\n",
       "      <th>107</th>\n",
       "      <td>107</td>\n",
       "      <td>-4.800850</td>\n",
       "      <td>8.165080</td>\n",
       "    </tr>\n",
       "  </tbody>\n",
       "</table>\n",
       "<p>108 rows × 3 columns</p>\n",
       "</div>"
      ],
      "text/plain": [
       "      ID        X1         X2\n",
       "0      0  2.181124   5.580962\n",
       "1      1  3.498059   2.053020\n",
       "2      2 -2.735871   7.685682\n",
       "3      3 -5.637355  11.155301\n",
       "4      4  1.683385   6.546471\n",
       "..   ...       ...        ...\n",
       "103  103 -3.028757   7.128788\n",
       "104  104  0.740062   6.130575\n",
       "105  105  2.170669   6.144841\n",
       "106  106  1.120502   4.389327\n",
       "107  107 -4.800850   8.165080\n",
       "\n",
       "[108 rows x 3 columns]"
      ]
     },
     "execution_count": 13,
     "metadata": {},
     "output_type": "execute_result"
    }
   ],
   "source": [
    "myData = myData.rename(columns={'Id': 'ID','x1': 'X1','x2':'X2'})\n",
    "myData"
   ]
  },
  {
   "cell_type": "markdown",
   "metadata": {},
   "source": [
    "Rename the columns to their original names"
   ]
  },
  {
   "cell_type": "code",
   "execution_count": 14,
   "metadata": {},
   "outputs": [
    {
     "data": {
      "text/html": [
       "<div>\n",
       "<style scoped>\n",
       "    .dataframe tbody tr th:only-of-type {\n",
       "        vertical-align: middle;\n",
       "    }\n",
       "\n",
       "    .dataframe tbody tr th {\n",
       "        vertical-align: top;\n",
       "    }\n",
       "\n",
       "    .dataframe thead th {\n",
       "        text-align: right;\n",
       "    }\n",
       "</style>\n",
       "<table border=\"1\" class=\"dataframe\">\n",
       "  <thead>\n",
       "    <tr style=\"text-align: right;\">\n",
       "      <th></th>\n",
       "      <th>Id</th>\n",
       "      <th>x1</th>\n",
       "      <th>x2</th>\n",
       "    </tr>\n",
       "  </thead>\n",
       "  <tbody>\n",
       "    <tr>\n",
       "      <th>0</th>\n",
       "      <td>0</td>\n",
       "      <td>2.181124</td>\n",
       "      <td>5.580962</td>\n",
       "    </tr>\n",
       "    <tr>\n",
       "      <th>1</th>\n",
       "      <td>1</td>\n",
       "      <td>3.498059</td>\n",
       "      <td>2.053020</td>\n",
       "    </tr>\n",
       "    <tr>\n",
       "      <th>2</th>\n",
       "      <td>2</td>\n",
       "      <td>-2.735871</td>\n",
       "      <td>7.685682</td>\n",
       "    </tr>\n",
       "    <tr>\n",
       "      <th>3</th>\n",
       "      <td>3</td>\n",
       "      <td>-5.637355</td>\n",
       "      <td>11.155301</td>\n",
       "    </tr>\n",
       "    <tr>\n",
       "      <th>4</th>\n",
       "      <td>4</td>\n",
       "      <td>1.683385</td>\n",
       "      <td>6.546471</td>\n",
       "    </tr>\n",
       "    <tr>\n",
       "      <th>...</th>\n",
       "      <td>...</td>\n",
       "      <td>...</td>\n",
       "      <td>...</td>\n",
       "    </tr>\n",
       "    <tr>\n",
       "      <th>103</th>\n",
       "      <td>103</td>\n",
       "      <td>-3.028757</td>\n",
       "      <td>7.128788</td>\n",
       "    </tr>\n",
       "    <tr>\n",
       "      <th>104</th>\n",
       "      <td>104</td>\n",
       "      <td>0.740062</td>\n",
       "      <td>6.130575</td>\n",
       "    </tr>\n",
       "    <tr>\n",
       "      <th>105</th>\n",
       "      <td>105</td>\n",
       "      <td>2.170669</td>\n",
       "      <td>6.144841</td>\n",
       "    </tr>\n",
       "    <tr>\n",
       "      <th>106</th>\n",
       "      <td>106</td>\n",
       "      <td>1.120502</td>\n",
       "      <td>4.389327</td>\n",
       "    </tr>\n",
       "    <tr>\n",
       "      <th>107</th>\n",
       "      <td>107</td>\n",
       "      <td>-4.800850</td>\n",
       "      <td>8.165080</td>\n",
       "    </tr>\n",
       "  </tbody>\n",
       "</table>\n",
       "<p>108 rows × 3 columns</p>\n",
       "</div>"
      ],
      "text/plain": [
       "      Id        x1         x2\n",
       "0      0  2.181124   5.580962\n",
       "1      1  3.498059   2.053020\n",
       "2      2 -2.735871   7.685682\n",
       "3      3 -5.637355  11.155301\n",
       "4      4  1.683385   6.546471\n",
       "..   ...       ...        ...\n",
       "103  103 -3.028757   7.128788\n",
       "104  104  0.740062   6.130575\n",
       "105  105  2.170669   6.144841\n",
       "106  106  1.120502   4.389327\n",
       "107  107 -4.800850   8.165080\n",
       "\n",
       "[108 rows x 3 columns]"
      ]
     },
     "execution_count": 14,
     "metadata": {},
     "output_type": "execute_result"
    }
   ],
   "source": [
    "myData = myData.rename(columns={'ID': 'Id','X1': 'x1','X2':'x2'})\n",
    "myData"
   ]
  },
  {
   "cell_type": "markdown",
   "metadata": {},
   "source": [
    "Use two different alternatives to get one of the columns"
   ]
  },
  {
   "cell_type": "code",
   "execution_count": 15,
   "metadata": {},
   "outputs": [
    {
     "name": "stdout",
     "output_type": "stream",
     "text": [
      "0      2.181124\n",
      "1      3.498059\n",
      "2     -2.735871\n",
      "3     -5.637355\n",
      "4      1.683385\n",
      "         ...   \n",
      "103   -3.028757\n",
      "104    0.740062\n",
      "105    2.170669\n",
      "106    1.120502\n",
      "107   -4.800850\n",
      "Name: x1, Length: 108, dtype: float64\n",
      "0      2.181124\n",
      "1      3.498059\n",
      "2     -2.735871\n",
      "3     -5.637355\n",
      "4      1.683385\n",
      "         ...   \n",
      "103   -3.028757\n",
      "104    0.740062\n",
      "105    2.170669\n",
      "106    1.120502\n",
      "107   -4.800850\n",
      "Name: x1, Length: 108, dtype: float64\n"
     ]
    }
   ],
   "source": [
    "#using .loc or .iloc deppending on knowing the colummns names or positions\n",
    "way1 = myData.loc[:, \"x1\"]\n",
    "way2 = myData.iloc[:, 1]\n",
    "\n",
    "print(way1)\n",
    "print(way2)"
   ]
  },
  {
   "cell_type": "markdown",
   "metadata": {},
   "source": [
    "Get a slice of your data set: second and thrid columns and rows from 62 to 72"
   ]
  },
  {
   "cell_type": "code",
   "execution_count": 16,
   "metadata": {},
   "outputs": [
    {
     "data": {
      "text/html": [
       "<div>\n",
       "<style scoped>\n",
       "    .dataframe tbody tr th:only-of-type {\n",
       "        vertical-align: middle;\n",
       "    }\n",
       "\n",
       "    .dataframe tbody tr th {\n",
       "        vertical-align: top;\n",
       "    }\n",
       "\n",
       "    .dataframe thead th {\n",
       "        text-align: right;\n",
       "    }\n",
       "</style>\n",
       "<table border=\"1\" class=\"dataframe\">\n",
       "  <thead>\n",
       "    <tr style=\"text-align: right;\">\n",
       "      <th></th>\n",
       "      <th>x1</th>\n",
       "      <th>x2</th>\n",
       "    </tr>\n",
       "  </thead>\n",
       "  <tbody>\n",
       "    <tr>\n",
       "      <th>62</th>\n",
       "      <td>-1.390090</td>\n",
       "      <td>1.081780</td>\n",
       "    </tr>\n",
       "    <tr>\n",
       "      <th>63</th>\n",
       "      <td>-3.611646</td>\n",
       "      <td>7.486657</td>\n",
       "    </tr>\n",
       "    <tr>\n",
       "      <th>64</th>\n",
       "      <td>-3.755231</td>\n",
       "      <td>8.677969</td>\n",
       "    </tr>\n",
       "    <tr>\n",
       "      <th>65</th>\n",
       "      <td>3.364412</td>\n",
       "      <td>0.711078</td>\n",
       "    </tr>\n",
       "    <tr>\n",
       "      <th>66</th>\n",
       "      <td>-2.773474</td>\n",
       "      <td>2.819860</td>\n",
       "    </tr>\n",
       "    <tr>\n",
       "      <th>67</th>\n",
       "      <td>-0.410111</td>\n",
       "      <td>1.895590</td>\n",
       "    </tr>\n",
       "    <tr>\n",
       "      <th>68</th>\n",
       "      <td>-4.120152</td>\n",
       "      <td>9.283681</td>\n",
       "    </tr>\n",
       "    <tr>\n",
       "      <th>69</th>\n",
       "      <td>2.013380</td>\n",
       "      <td>5.178630</td>\n",
       "    </tr>\n",
       "    <tr>\n",
       "      <th>70</th>\n",
       "      <td>0.379851</td>\n",
       "      <td>-0.428586</td>\n",
       "    </tr>\n",
       "    <tr>\n",
       "      <th>71</th>\n",
       "      <td>3.393033</td>\n",
       "      <td>6.201069</td>\n",
       "    </tr>\n",
       "    <tr>\n",
       "      <th>72</th>\n",
       "      <td>0.482091</td>\n",
       "      <td>0.089363</td>\n",
       "    </tr>\n",
       "  </tbody>\n",
       "</table>\n",
       "</div>"
      ],
      "text/plain": [
       "          x1        x2\n",
       "62 -1.390090  1.081780\n",
       "63 -3.611646  7.486657\n",
       "64 -3.755231  8.677969\n",
       "65  3.364412  0.711078\n",
       "66 -2.773474  2.819860\n",
       "67 -0.410111  1.895590\n",
       "68 -4.120152  9.283681\n",
       "69  2.013380  5.178630\n",
       "70  0.379851 -0.428586\n",
       "71  3.393033  6.201069\n",
       "72  0.482091  0.089363"
      ]
     },
     "execution_count": 16,
     "metadata": {},
     "output_type": "execute_result"
    }
   ],
   "source": [
    "#using iloc due to the instruction\n",
    "slice1 = myData.iloc[62:73,1:3]\n",
    "slice1"
   ]
  },
  {
   "cell_type": "markdown",
   "metadata": {},
   "source": [
    "For the second and thrid columns, calculate the number of null and not null values and verify that their sum equals the total number of rows"
   ]
  },
  {
   "cell_type": "code",
   "execution_count": 17,
   "metadata": {},
   "outputs": [
    {
     "data": {
      "text/plain": [
       "0"
      ]
     },
     "execution_count": 17,
     "metadata": {},
     "output_type": "execute_result"
    }
   ],
   "source": [
    "#using this command we can calculate how many values are null\n",
    "myData.x1.isnull().sum()"
   ]
  },
  {
   "cell_type": "code",
   "execution_count": 18,
   "metadata": {},
   "outputs": [
    {
     "data": {
      "text/plain": [
       "0"
      ]
     },
     "execution_count": 18,
     "metadata": {},
     "output_type": "execute_result"
    }
   ],
   "source": [
    "myData.x2.isnull().sum()"
   ]
  },
  {
   "cell_type": "markdown",
   "metadata": {},
   "source": [
    "Discard the first column\n"
   ]
  },
  {
   "cell_type": "code",
   "execution_count": 19,
   "metadata": {},
   "outputs": [
    {
     "data": {
      "text/html": [
       "<div>\n",
       "<style scoped>\n",
       "    .dataframe tbody tr th:only-of-type {\n",
       "        vertical-align: middle;\n",
       "    }\n",
       "\n",
       "    .dataframe tbody tr th {\n",
       "        vertical-align: top;\n",
       "    }\n",
       "\n",
       "    .dataframe thead th {\n",
       "        text-align: right;\n",
       "    }\n",
       "</style>\n",
       "<table border=\"1\" class=\"dataframe\">\n",
       "  <thead>\n",
       "    <tr style=\"text-align: right;\">\n",
       "      <th></th>\n",
       "      <th>x1</th>\n",
       "      <th>x2</th>\n",
       "    </tr>\n",
       "  </thead>\n",
       "  <tbody>\n",
       "    <tr>\n",
       "      <th>0</th>\n",
       "      <td>2.181124</td>\n",
       "      <td>5.580962</td>\n",
       "    </tr>\n",
       "    <tr>\n",
       "      <th>1</th>\n",
       "      <td>3.498059</td>\n",
       "      <td>2.053020</td>\n",
       "    </tr>\n",
       "    <tr>\n",
       "      <th>2</th>\n",
       "      <td>-2.735871</td>\n",
       "      <td>7.685682</td>\n",
       "    </tr>\n",
       "    <tr>\n",
       "      <th>3</th>\n",
       "      <td>-5.637355</td>\n",
       "      <td>11.155301</td>\n",
       "    </tr>\n",
       "    <tr>\n",
       "      <th>4</th>\n",
       "      <td>1.683385</td>\n",
       "      <td>6.546471</td>\n",
       "    </tr>\n",
       "    <tr>\n",
       "      <th>...</th>\n",
       "      <td>...</td>\n",
       "      <td>...</td>\n",
       "    </tr>\n",
       "    <tr>\n",
       "      <th>103</th>\n",
       "      <td>-3.028757</td>\n",
       "      <td>7.128788</td>\n",
       "    </tr>\n",
       "    <tr>\n",
       "      <th>104</th>\n",
       "      <td>0.740062</td>\n",
       "      <td>6.130575</td>\n",
       "    </tr>\n",
       "    <tr>\n",
       "      <th>105</th>\n",
       "      <td>2.170669</td>\n",
       "      <td>6.144841</td>\n",
       "    </tr>\n",
       "    <tr>\n",
       "      <th>106</th>\n",
       "      <td>1.120502</td>\n",
       "      <td>4.389327</td>\n",
       "    </tr>\n",
       "    <tr>\n",
       "      <th>107</th>\n",
       "      <td>-4.800850</td>\n",
       "      <td>8.165080</td>\n",
       "    </tr>\n",
       "  </tbody>\n",
       "</table>\n",
       "<p>108 rows × 2 columns</p>\n",
       "</div>"
      ],
      "text/plain": [
       "           x1         x2\n",
       "0    2.181124   5.580962\n",
       "1    3.498059   2.053020\n",
       "2   -2.735871   7.685682\n",
       "3   -5.637355  11.155301\n",
       "4    1.683385   6.546471\n",
       "..        ...        ...\n",
       "103 -3.028757   7.128788\n",
       "104  0.740062   6.130575\n",
       "105  2.170669   6.144841\n",
       "106  1.120502   4.389327\n",
       "107 -4.800850   8.165080\n",
       "\n",
       "[108 rows x 2 columns]"
      ]
     },
     "execution_count": 19,
     "metadata": {},
     "output_type": "execute_result"
    }
   ],
   "source": [
    "myData = myData[['x1','x2']]\n",
    "myData"
   ]
  },
  {
   "cell_type": "markdown",
   "metadata": {},
   "source": [
    "### Questions \n",
    "\n",
    "Based on the previos reults, provide a description of yout dataset\n",
    "\n",
    "Your response: Id no es otra cosa mas que el numero de iteracion del registro de cada muestra del experimento o quizas el tiempo de muestreo, podriamos eliminar esa columna y hacer analisis con x1 y x2 sin problema alguno, x1 y x2 son variables de entrada del sistema que toman valores tanto positivos como negativos y son valores chicos por lo que podria tratarse de una lectura de una distancia corta.\n",
    "\n",
    "\n"
   ]
  },
  {
   "cell_type": "markdown",
   "metadata": {},
   "source": [
    "# A3 Data visualization"
   ]
  },
  {
   "cell_type": "markdown",
   "metadata": {},
   "source": [
    "Plot in the same figure the histogram of the two first two variables"
   ]
  },
  {
   "cell_type": "code",
   "execution_count": 20,
   "metadata": {},
   "outputs": [
    {
     "data": {
      "image/png": "[encoded data removed]",
      "text/plain": [
       "<Figure size 432x288 with 1 Axes>"
      ]
     },
     "metadata": {
      "needs_background": "light"
     },
     "output_type": "display_data"
    }
   ],
   "source": [
    "# Plot histogram of both variables\n",
    "sns.histplot(myData[\"x1\"],color='r', kde = False)\n",
    "dfhist = sns.histplot(myData[\"x2\"], kde = False)\n",
    "dfhist.set_xlabel(\"x1 vs x2\")\n",
    "dfhist.set_ylabel(\"Frequency\")\n",
    "dfhist.set_title(\"Histogram of both x1 and x2\")\n",
    "\n",
    "plt.show()"
   ]
  },
  {
   "cell_type": "markdown",
   "metadata": {},
   "source": [
    "Based on this two plots, provide a description of your data:\n",
    "\n",
    "Your response here: podemos observar que existe una correlacion entre x1 y x2, pareciera que son casi simetricas en cuanto a la frecuencia de los datos, partiendo de un eje de simetria entre 0.0 y 2.5, sin embargo, no es del todo simetrico, aunque encontramos que efectivamente los valores mas concurridos se encuentran entre 0 y 3 aproximadamente."
   ]
  },
  {
   "cell_type": "markdown",
   "metadata": {},
   "source": [
    "Plot in the same figure the boxplot of the two first two variables "
   ]
  },
  {
   "cell_type": "code",
   "execution_count": 21,
   "metadata": {},
   "outputs": [
    {
     "data": {
      "image/png": "[encoded data removed]",
      "text/plain": [
       "<Figure size 432x288 with 1 Axes>"
      ]
     },
     "metadata": {
      "needs_background": "light"
     },
     "output_type": "display_data"
    }
   ],
   "source": [
    "# Create the boxplots of x1 and x2\n",
    "\n",
    "x2bp = sns.boxplot(data=myData, orient=\"h\")\n",
    "x2bp.set_xlabel(\"frequency\")\n",
    "x2bp.set_title(\"Box plot of x1 and x2\")\n",
    "\n",
    "plt.show()"
   ]
  },
  {
   "cell_type": "markdown",
   "metadata": {},
   "source": [
    "Scatter plot of the two first variables"
   ]
  },
  {
   "cell_type": "code",
   "execution_count": 22,
   "metadata": {},
   "outputs": [
    {
     "data": {
      "image/png": "[encoded data removed]",
      "text/plain": [
       "<Figure size 432x288 with 1 Axes>"
      ]
     },
     "metadata": {
      "needs_background": "light"
     },
     "output_type": "display_data"
    }
   ],
   "source": [
    "plt.scatter(myData.x1,myData.x2, s=20) #s=size of scatters\n",
    "plt.title('Scater plot of myData',fontsize=18)\n",
    "plt.xlabel('x1',fontsize=18)\n",
    "plt.ylabel('x2',fontsize=18)\n",
    "\n",
    "plt.show()"
   ]
  },
  {
   "cell_type": "markdown",
   "metadata": {},
   "source": [
    "### Questions \n",
    "\n",
    "Based on the previos plots, provide a description of yout dataset\n",
    "\n",
    "Your response: Gracias al boxplot podemos confirmar la respuesta al punto anterior donde dije que los valores mas frecuentes o la mediana de x1 y x2 se encuentran entre 0 y 3, sin embargo, analizando la grafica de puntos, nos damos cuenta que pudiera haber dos grupos de datos.\n",
    "\n"
   ]
  },
  {
   "cell_type": "code",
   "execution_count": null,
   "metadata": {},
   "outputs": [],
   "source": []
  },
  {
   "cell_type": "markdown",
   "metadata": {},
   "source": [
    "# A4 Kmeans"
   ]
  },
  {
   "cell_type": "markdown",
   "metadata": {},
   "source": [
    "Do Kmeans clustering assuming a number of clusters accorgind to your scatter plot"
   ]
  },
  {
   "cell_type": "code",
   "execution_count": 23,
   "metadata": {},
   "outputs": [
    {
     "data": {
      "text/plain": [
       "array([1, 1, 0, 0, 1, 1, 1, 1, 1, 1, 1, 0, 1, 1, 1, 0, 1, 0, 0, 1, 1, 1,\n",
       "       1, 1, 0, 1, 1, 0, 1, 1, 1, 1, 0, 1, 1, 1, 1, 1, 0, 1, 0, 1, 1, 1,\n",
       "       0, 0, 1, 1, 1, 1, 1, 1, 1, 0, 0, 0, 0, 0, 1, 1, 1, 1, 1, 0, 0, 1,\n",
       "       1, 1, 0, 1, 1, 1, 1, 1, 1, 1, 1, 0, 1, 1, 1, 0, 1, 1, 1, 1, 1, 1,\n",
       "       1, 0, 1, 1, 1, 0, 1, 1, 1, 1, 1, 0, 0, 1, 1, 0, 1, 1, 1, 0])"
      ]
     },
     "execution_count": 23,
     "metadata": {},
     "output_type": "execute_result"
    }
   ],
   "source": [
    "#import machine learning library\n",
    "from sklearn.cluster import KMeans\n",
    "\n",
    "k = 2 #always define this k\n",
    "#create object to do kmeans and distribute clusters\n",
    "Km = KMeans(n_clusters=k)\n",
    "\n",
    "#do kmeans\n",
    "clusters = Km.fit_predict(myData[['x1','x2']]) #this is formula\n",
    "#!note distance between points is always the same ecuation = sqrt(dx1^2 + dx2^2 + dx3^2 + ... dxn^2)\n",
    "\n",
    "clusters"
   ]
  },
  {
   "cell_type": "markdown",
   "metadata": {},
   "source": [
    "Add to your dataset a column with the assihned cluster to each data point"
   ]
  },
  {
   "cell_type": "code",
   "execution_count": 24,
   "metadata": {},
   "outputs": [
    {
     "data": {
      "text/html": [
       "<div>\n",
       "<style scoped>\n",
       "    .dataframe tbody tr th:only-of-type {\n",
       "        vertical-align: middle;\n",
       "    }\n",
       "\n",
       "    .dataframe tbody tr th {\n",
       "        vertical-align: top;\n",
       "    }\n",
       "\n",
       "    .dataframe thead th {\n",
       "        text-align: right;\n",
       "    }\n",
       "</style>\n",
       "<table border=\"1\" class=\"dataframe\">\n",
       "  <thead>\n",
       "    <tr style=\"text-align: right;\">\n",
       "      <th></th>\n",
       "      <th>x1</th>\n",
       "      <th>x2</th>\n",
       "      <th>cluster1</th>\n",
       "    </tr>\n",
       "  </thead>\n",
       "  <tbody>\n",
       "    <tr>\n",
       "      <th>0</th>\n",
       "      <td>2.181124</td>\n",
       "      <td>5.580962</td>\n",
       "      <td>1</td>\n",
       "    </tr>\n",
       "    <tr>\n",
       "      <th>1</th>\n",
       "      <td>3.498059</td>\n",
       "      <td>2.053020</td>\n",
       "      <td>1</td>\n",
       "    </tr>\n",
       "    <tr>\n",
       "      <th>2</th>\n",
       "      <td>-2.735871</td>\n",
       "      <td>7.685682</td>\n",
       "      <td>0</td>\n",
       "    </tr>\n",
       "    <tr>\n",
       "      <th>3</th>\n",
       "      <td>-5.637355</td>\n",
       "      <td>11.155301</td>\n",
       "      <td>0</td>\n",
       "    </tr>\n",
       "    <tr>\n",
       "      <th>4</th>\n",
       "      <td>1.683385</td>\n",
       "      <td>6.546471</td>\n",
       "      <td>1</td>\n",
       "    </tr>\n",
       "    <tr>\n",
       "      <th>...</th>\n",
       "      <td>...</td>\n",
       "      <td>...</td>\n",
       "      <td>...</td>\n",
       "    </tr>\n",
       "    <tr>\n",
       "      <th>103</th>\n",
       "      <td>-3.028757</td>\n",
       "      <td>7.128788</td>\n",
       "      <td>0</td>\n",
       "    </tr>\n",
       "    <tr>\n",
       "      <th>104</th>\n",
       "      <td>0.740062</td>\n",
       "      <td>6.130575</td>\n",
       "      <td>1</td>\n",
       "    </tr>\n",
       "    <tr>\n",
       "      <th>105</th>\n",
       "      <td>2.170669</td>\n",
       "      <td>6.144841</td>\n",
       "      <td>1</td>\n",
       "    </tr>\n",
       "    <tr>\n",
       "      <th>106</th>\n",
       "      <td>1.120502</td>\n",
       "      <td>4.389327</td>\n",
       "      <td>1</td>\n",
       "    </tr>\n",
       "    <tr>\n",
       "      <th>107</th>\n",
       "      <td>-4.800850</td>\n",
       "      <td>8.165080</td>\n",
       "      <td>0</td>\n",
       "    </tr>\n",
       "  </tbody>\n",
       "</table>\n",
       "<p>108 rows × 3 columns</p>\n",
       "</div>"
      ],
      "text/plain": [
       "           x1         x2  cluster1\n",
       "0    2.181124   5.580962         1\n",
       "1    3.498059   2.053020         1\n",
       "2   -2.735871   7.685682         0\n",
       "3   -5.637355  11.155301         0\n",
       "4    1.683385   6.546471         1\n",
       "..        ...        ...       ...\n",
       "103 -3.028757   7.128788         0\n",
       "104  0.740062   6.130575         1\n",
       "105  2.170669   6.144841         1\n",
       "106  1.120502   4.389327         1\n",
       "107 -4.800850   8.165080         0\n",
       "\n",
       "[108 rows x 3 columns]"
      ]
     },
     "execution_count": 24,
     "metadata": {},
     "output_type": "execute_result"
    }
   ],
   "source": [
    "#insert one new column to compare both variables\n",
    "myData['cluster1'] = clusters\n",
    "myData"
   ]
  },
  {
   "cell_type": "markdown",
   "metadata": {},
   "source": [
    "Print the number associated to each cluster"
   ]
  },
  {
   "cell_type": "code",
   "execution_count": 25,
   "metadata": {},
   "outputs": [
    {
     "data": {
      "text/plain": [
       "array([1, 0])"
      ]
     },
     "execution_count": 25,
     "metadata": {},
     "output_type": "execute_result"
    }
   ],
   "source": [
    "myData.cluster1.unique()"
   ]
  },
  {
   "cell_type": "markdown",
   "metadata": {},
   "source": [
    "Print the centroids"
   ]
  },
  {
   "cell_type": "code",
   "execution_count": 26,
   "metadata": {},
   "outputs": [
    {
     "data": {
      "text/plain": [
       "array([[-4.13470542,  8.4791361 ],\n",
       "       [ 0.99158603,  2.07149062]])"
      ]
     },
     "execution_count": 26,
     "metadata": {},
     "output_type": "execute_result"
    }
   ],
   "source": [
    "Km.cluster_centers_"
   ]
  },
  {
   "cell_type": "markdown",
   "metadata": {},
   "source": [
    "Print the intertia metric"
   ]
  },
  {
   "cell_type": "code",
   "execution_count": 27,
   "metadata": {},
   "outputs": [
    {
     "data": {
      "text/plain": [
       "836.5099947124621"
      ]
     },
     "execution_count": 27,
     "metadata": {},
     "output_type": "execute_result"
    }
   ],
   "source": [
    "Km.inertia_"
   ]
  },
  {
   "cell_type": "markdown",
   "metadata": {},
   "source": [
    "Plot a scatter plot of your data assigned to each cluster. Also plot the centroids"
   ]
  },
  {
   "cell_type": "code",
   "execution_count": 28,
   "metadata": {},
   "outputs": [
    {
     "data": {
      "image/png": "[encoded data removed]",
      "text/plain": [
       "<Figure size 432x288 with 1 Axes>"
      ]
     },
     "metadata": {
      "needs_background": "light"
     },
     "output_type": "display_data"
    }
   ],
   "source": [
    "# Scatter plot of the data asigning each point to the cluster it belongs to ¡¡\n",
    "df1 = myData[myData.cluster1==0]\n",
    "df2 = myData[myData.cluster1==1]\n",
    "#plot points to each cluster\n",
    "plt.scatter(df1.x1,df1.x2,s=20)\n",
    "plt.scatter(df2.x1,df2.x2,s=20)\n",
    "#plot centroids\n",
    "plt.scatter(Km.cluster_centers_[:,0], Km.cluster_centers_[:,1], color='magenta', marker='*', s=200)\n",
    "#display plot\n",
    "plt.title('Scater plot of myData',fontsize=18)\n",
    "plt.xlabel('x1',fontsize=18)\n",
    "plt.ylabel('x2',fontsize=18)\n",
    "\n",
    "plt.show()"
   ]
  },
  {
   "cell_type": "markdown",
   "metadata": {},
   "source": [
    "### Questions \n",
    "\n",
    "Provides a detailed description of your results\n",
    "\n",
    "Your response: Podemos visualizar como la distribucion de los datos no estan aislados del todo, sino que hay datos del grupo 1 que comparte similitudes o entra en el conjunto de lo que hubiesemos creido era un grupo 2, no obstante, se mantiene la postura de dos grupos o clasificaciones."
   ]
  },
  {
   "cell_type": "markdown",
   "metadata": {},
   "source": [
    "# A4 Elbow plot\n",
    "\n",
    "Compute the Elbow plot"
   ]
  },
  {
   "cell_type": "code",
   "execution_count": 29,
   "metadata": {},
   "outputs": [
    {
     "name": "stderr",
     "output_type": "stream",
     "text": [
      "C:\\Users\\Giancarlo\\anaconda3\\lib\\site-packages\\sklearn\\cluster\\_kmeans.py:881: UserWarning: KMeans is known to have a memory leak on Windows with MKL, when there are less chunks than available threads. You can avoid it by setting the environment variable OMP_NUM_THREADS=1.\n",
      "  warnings.warn(\n"
     ]
    }
   ],
   "source": [
    "#sum of squared distances\n",
    "sse = []\n",
    "#k ranges\n",
    "k_rng = range(1,10)\n",
    "\n",
    "for k in k_rng:\n",
    "    km = KMeans(n_clusters=k)\n",
    "    km.fit_predict(myData[['x1','x2']])\n",
    "    sse.append(km.inertia_)\n"
   ]
  },
  {
   "cell_type": "code",
   "execution_count": 30,
   "metadata": {},
   "outputs": [
    {
     "data": {
      "text/plain": [
       "<function matplotlib.pyplot.show(close=None, block=None)>"
      ]
     },
     "execution_count": 30,
     "metadata": {},
     "output_type": "execute_result"
    },
    {
     "data": {
      "image/png": "[encoded data removed]",
      "text/plain": [
       "<Figure size 432x288 with 1 Axes>"
      ]
     },
     "metadata": {
      "needs_background": "light"
     },
     "output_type": "display_data"
    }
   ],
   "source": [
    "plt.plot(k_rng,sse)\n",
    "\n",
    "plt.title('Elbow plot')\n",
    "plt.xlabel('K')\n",
    "plt.ylabel('SSE')\n",
    "\n",
    "plt.show"
   ]
  },
  {
   "cell_type": "markdown",
   "metadata": {},
   "source": [
    "### Questions \n",
    "\n",
    "What is the best number of clusters K? (argue your response)\n",
    "\n",
    "Your response: Analizando la grafica de Elbow nos damos cuenta que en realidad deberian de haber tres grupos o conjuntos de datos y no dos como lo habiamos pensado, inlcuso podrian ser cuatro pero la verdad es que el codo o el punto de inflexion se nota mas en la tercer iteracion de k.\n",
    "\n",
    "\n",
    "Does this number of clusters agree with your inital guess? (argue your response)\n",
    "\n",
    "Your response: No concuerda con mi estimacion inicial y honestamente no logro separar los datos en tres grupos.\n",
    "asi que realizare el experimento con tres clusters para poder comparar.\n"
   ]
  },
  {
   "cell_type": "code",
   "execution_count": 37,
   "metadata": {},
   "outputs": [
    {
     "data": {
      "text/plain": [
       "array([3, 2, 1, 1, 3, 2, 2, 0, 0, 2, 3, 3, 0, 0, 2, 1, 2, 1, 1, 0, 0, 2,\n",
       "       3, 0, 1, 2, 0, 1, 2, 3, 2, 2, 1, 2, 2, 3, 0, 0, 1, 0, 1, 3, 2, 2,\n",
       "       3, 1, 2, 2, 2, 0, 0, 3, 2, 1, 1, 1, 1, 3, 3, 2, 0, 2, 0, 1, 1, 2,\n",
       "       0, 0, 1, 3, 2, 3, 2, 0, 0, 3, 2, 1, 3, 0, 2, 1, 3, 2, 0, 2, 0, 2,\n",
       "       2, 1, 3, 3, 0, 1, 0, 3, 0, 0, 3, 1, 1, 2, 0, 1, 3, 3, 3, 1])"
      ]
     },
     "execution_count": 37,
     "metadata": {},
     "output_type": "execute_result"
    }
   ],
   "source": [
    "#import machine learning library\n",
    "from sklearn.cluster import KMeans\n",
    "\n",
    "k = 4 #always define this k\n",
    "#create object to do kmeans and distribute clusters\n",
    "Km = KMeans(n_clusters=k)\n",
    "\n",
    "#do kmeans\n",
    "clusters = Km.fit_predict(myData[['x1','x2']]) #this is formula\n",
    "#!note distance between points is always the same ecuation = sqrt(dx1^2 + dx2^2 + dx3^2 + ... dxn^2)\n",
    "\n",
    "clusters"
   ]
  },
  {
   "cell_type": "code",
   "execution_count": 38,
   "metadata": {},
   "outputs": [
    {
     "data": {
      "text/html": [
       "<div>\n",
       "<style scoped>\n",
       "    .dataframe tbody tr th:only-of-type {\n",
       "        vertical-align: middle;\n",
       "    }\n",
       "\n",
       "    .dataframe tbody tr th {\n",
       "        vertical-align: top;\n",
       "    }\n",
       "\n",
       "    .dataframe thead th {\n",
       "        text-align: right;\n",
       "    }\n",
       "</style>\n",
       "<table border=\"1\" class=\"dataframe\">\n",
       "  <thead>\n",
       "    <tr style=\"text-align: right;\">\n",
       "      <th></th>\n",
       "      <th>x1</th>\n",
       "      <th>x2</th>\n",
       "      <th>cluster1</th>\n",
       "      <th>cluster2</th>\n",
       "    </tr>\n",
       "  </thead>\n",
       "  <tbody>\n",
       "    <tr>\n",
       "      <th>0</th>\n",
       "      <td>2.181124</td>\n",
       "      <td>5.580962</td>\n",
       "      <td>1</td>\n",
       "      <td>3</td>\n",
       "    </tr>\n",
       "    <tr>\n",
       "      <th>1</th>\n",
       "      <td>3.498059</td>\n",
       "      <td>2.053020</td>\n",
       "      <td>1</td>\n",
       "      <td>2</td>\n",
       "    </tr>\n",
       "    <tr>\n",
       "      <th>2</th>\n",
       "      <td>-2.735871</td>\n",
       "      <td>7.685682</td>\n",
       "      <td>0</td>\n",
       "      <td>1</td>\n",
       "    </tr>\n",
       "    <tr>\n",
       "      <th>3</th>\n",
       "      <td>-5.637355</td>\n",
       "      <td>11.155301</td>\n",
       "      <td>0</td>\n",
       "      <td>1</td>\n",
       "    </tr>\n",
       "    <tr>\n",
       "      <th>4</th>\n",
       "      <td>1.683385</td>\n",
       "      <td>6.546471</td>\n",
       "      <td>1</td>\n",
       "      <td>3</td>\n",
       "    </tr>\n",
       "    <tr>\n",
       "      <th>...</th>\n",
       "      <td>...</td>\n",
       "      <td>...</td>\n",
       "      <td>...</td>\n",
       "      <td>...</td>\n",
       "    </tr>\n",
       "    <tr>\n",
       "      <th>103</th>\n",
       "      <td>-3.028757</td>\n",
       "      <td>7.128788</td>\n",
       "      <td>0</td>\n",
       "      <td>1</td>\n",
       "    </tr>\n",
       "    <tr>\n",
       "      <th>104</th>\n",
       "      <td>0.740062</td>\n",
       "      <td>6.130575</td>\n",
       "      <td>1</td>\n",
       "      <td>3</td>\n",
       "    </tr>\n",
       "    <tr>\n",
       "      <th>105</th>\n",
       "      <td>2.170669</td>\n",
       "      <td>6.144841</td>\n",
       "      <td>1</td>\n",
       "      <td>3</td>\n",
       "    </tr>\n",
       "    <tr>\n",
       "      <th>106</th>\n",
       "      <td>1.120502</td>\n",
       "      <td>4.389327</td>\n",
       "      <td>1</td>\n",
       "      <td>3</td>\n",
       "    </tr>\n",
       "    <tr>\n",
       "      <th>107</th>\n",
       "      <td>-4.800850</td>\n",
       "      <td>8.165080</td>\n",
       "      <td>0</td>\n",
       "      <td>1</td>\n",
       "    </tr>\n",
       "  </tbody>\n",
       "</table>\n",
       "<p>108 rows × 4 columns</p>\n",
       "</div>"
      ],
      "text/plain": [
       "           x1         x2  cluster1  cluster2\n",
       "0    2.181124   5.580962         1         3\n",
       "1    3.498059   2.053020         1         2\n",
       "2   -2.735871   7.685682         0         1\n",
       "3   -5.637355  11.155301         0         1\n",
       "4    1.683385   6.546471         1         3\n",
       "..        ...        ...       ...       ...\n",
       "103 -3.028757   7.128788         0         1\n",
       "104  0.740062   6.130575         1         3\n",
       "105  2.170669   6.144841         1         3\n",
       "106  1.120502   4.389327         1         3\n",
       "107 -4.800850   8.165080         0         1\n",
       "\n",
       "[108 rows x 4 columns]"
      ]
     },
     "execution_count": 38,
     "metadata": {},
     "output_type": "execute_result"
    }
   ],
   "source": [
    "#insert one new column to compare both clusters\n",
    "myData['cluster2'] = clusters\n",
    "myData"
   ]
  },
  {
   "cell_type": "code",
   "execution_count": 39,
   "metadata": {},
   "outputs": [
    {
     "name": "stdout",
     "output_type": "stream",
     "text": [
      "345.9475783322807\n",
      "[[-0.86196061  2.02308287]\n",
      " [-4.6248865   8.55846316]\n",
      " [ 1.60537634  0.07994651]\n",
      " [ 2.17425659  5.41337849]]\n"
     ]
    }
   ],
   "source": [
    "#compare new inertia\n",
    "print(Km.inertia_)\n",
    "print(Km.cluster_centers_)"
   ]
  },
  {
   "cell_type": "code",
   "execution_count": 43,
   "metadata": {},
   "outputs": [
    {
     "data": {
      "image/png": "[encoded data removed]",
      "text/plain": [
       "<Figure size 432x288 with 1 Axes>"
      ]
     },
     "metadata": {
      "needs_background": "light"
     },
     "output_type": "display_data"
    }
   ],
   "source": [
    "# Scatter plot of the data asigning each point to the cluster it belongs to ¡¡\n",
    "df1 = myData[myData.cluster2==0]\n",
    "df2 = myData[myData.cluster2==1]\n",
    "df3 = myData[myData.cluster2==2]\n",
    "df4 = myData[myData.cluster2==3]\n",
    "#plot points to each cluster\n",
    "plt.scatter(df1.x1,df1.x2,color='b',s=20)\n",
    "plt.scatter(df2.x1,df2.x2,color='r',s=20)\n",
    "plt.scatter(df3.x1,df3.x2,color='g',s=20)\n",
    "plt.scatter(df4.x1,df4.x2,color='y',s=20)\n",
    "#plot centroids\n",
    "plt.scatter(Km.cluster_centers_[:,0], Km.cluster_centers_[:,1], color='magenta', marker='*', s=150)\n",
    "#display plot\n",
    "plt.title('Scater plot of myData',fontsize=18)\n",
    "plt.xlabel('x1',fontsize=18)\n",
    "plt.ylabel('x2',fontsize=18)\n",
    "\n",
    "plt.show()"
   ]
  },
  {
   "cell_type": "markdown",
   "metadata": {},
   "source": [
    "## New Conclutions\n",
    "Despues de hacerlo para 3 y 4 k, finalmente la mejor clasificacion es con 4 clusters y no con 2 como deciamos en un inicio, esto incluso lo podemos comprobar con la aproximacion de k con elbow plot, donde si bien a primera instancia pudiera parecer que la mejor aproximacion es con 3, sin embargo, el sse es aun significante si nos fijamos en la escala, por lo que la mejor aproximacion es con 4 clusterizaciones."
   ]
  },
  {
   "cell_type": "markdown",
   "metadata": {},
   "source": [
    "# A4 Normalizing the data: preprocessing using min max scaler\n"
   ]
  },
  {
   "cell_type": "markdown",
   "metadata": {},
   "source": [
    "Normalize the data using min max scaler"
   ]
  },
  {
   "cell_type": "code",
   "execution_count": 44,
   "metadata": {},
   "outputs": [
    {
     "data": {
      "text/html": [
       "<div>\n",
       "<style scoped>\n",
       "    .dataframe tbody tr th:only-of-type {\n",
       "        vertical-align: middle;\n",
       "    }\n",
       "\n",
       "    .dataframe tbody tr th {\n",
       "        vertical-align: top;\n",
       "    }\n",
       "\n",
       "    .dataframe thead th {\n",
       "        text-align: right;\n",
       "    }\n",
       "</style>\n",
       "<table border=\"1\" class=\"dataframe\">\n",
       "  <thead>\n",
       "    <tr style=\"text-align: right;\">\n",
       "      <th></th>\n",
       "      <th>x1</th>\n",
       "      <th>x2</th>\n",
       "      <th>cluster1</th>\n",
       "      <th>cluster2</th>\n",
       "    </tr>\n",
       "  </thead>\n",
       "  <tbody>\n",
       "    <tr>\n",
       "      <th>0</th>\n",
       "      <td>0.722172</td>\n",
       "      <td>0.550588</td>\n",
       "      <td>1</td>\n",
       "      <td>3</td>\n",
       "    </tr>\n",
       "    <tr>\n",
       "      <th>1</th>\n",
       "      <td>0.831142</td>\n",
       "      <td>0.304973</td>\n",
       "      <td>1</td>\n",
       "      <td>2</td>\n",
       "    </tr>\n",
       "    <tr>\n",
       "      <th>2</th>\n",
       "      <td>0.315315</td>\n",
       "      <td>0.697118</td>\n",
       "      <td>0</td>\n",
       "      <td>1</td>\n",
       "    </tr>\n",
       "    <tr>\n",
       "      <th>3</th>\n",
       "      <td>0.075232</td>\n",
       "      <td>0.938673</td>\n",
       "      <td>0</td>\n",
       "      <td>1</td>\n",
       "    </tr>\n",
       "    <tr>\n",
       "      <th>4</th>\n",
       "      <td>0.680986</td>\n",
       "      <td>0.617807</td>\n",
       "      <td>1</td>\n",
       "      <td>3</td>\n",
       "    </tr>\n",
       "    <tr>\n",
       "      <th>...</th>\n",
       "      <td>...</td>\n",
       "      <td>...</td>\n",
       "      <td>...</td>\n",
       "      <td>...</td>\n",
       "    </tr>\n",
       "    <tr>\n",
       "      <th>103</th>\n",
       "      <td>0.291080</td>\n",
       "      <td>0.658347</td>\n",
       "      <td>0</td>\n",
       "      <td>1</td>\n",
       "    </tr>\n",
       "    <tr>\n",
       "      <th>104</th>\n",
       "      <td>0.602931</td>\n",
       "      <td>0.588852</td>\n",
       "      <td>1</td>\n",
       "      <td>3</td>\n",
       "    </tr>\n",
       "    <tr>\n",
       "      <th>105</th>\n",
       "      <td>0.721307</td>\n",
       "      <td>0.589845</td>\n",
       "      <td>1</td>\n",
       "      <td>3</td>\n",
       "    </tr>\n",
       "    <tr>\n",
       "      <th>106</th>\n",
       "      <td>0.634411</td>\n",
       "      <td>0.467627</td>\n",
       "      <td>1</td>\n",
       "      <td>3</td>\n",
       "    </tr>\n",
       "    <tr>\n",
       "      <th>107</th>\n",
       "      <td>0.144449</td>\n",
       "      <td>0.730494</td>\n",
       "      <td>0</td>\n",
       "      <td>1</td>\n",
       "    </tr>\n",
       "  </tbody>\n",
       "</table>\n",
       "<p>108 rows × 4 columns</p>\n",
       "</div>"
      ],
      "text/plain": [
       "           x1        x2  cluster1  cluster2\n",
       "0    0.722172  0.550588         1         3\n",
       "1    0.831142  0.304973         1         2\n",
       "2    0.315315  0.697118         0         1\n",
       "3    0.075232  0.938673         0         1\n",
       "4    0.680986  0.617807         1         3\n",
       "..        ...       ...       ...       ...\n",
       "103  0.291080  0.658347         0         1\n",
       "104  0.602931  0.588852         1         3\n",
       "105  0.721307  0.589845         1         3\n",
       "106  0.634411  0.467627         1         3\n",
       "107  0.144449  0.730494         0         1\n",
       "\n",
       "[108 rows x 4 columns]"
      ]
     },
     "execution_count": 44,
     "metadata": {},
     "output_type": "execute_result"
    }
   ],
   "source": [
    "from sklearn.preprocessing import MinMaxScaler\n",
    "#create object\n",
    "scaler = MinMaxScaler()\n",
    "\n",
    "scaler.fit(myData[['x1']])\n",
    "myData['x1'] = scaler.transform(myData[['x1']])\n",
    "\n",
    "scaler.fit(myData[['x2']])\n",
    "myData['x2'] = scaler.transform(myData[['x2']])\n",
    "\n",
    "myData"
   ]
  },
  {
   "cell_type": "markdown",
   "metadata": {},
   "source": [
    "Print a statistical summary of your columns (normalized data)"
   ]
  },
  {
   "cell_type": "code",
   "execution_count": 45,
   "metadata": {},
   "outputs": [
    {
     "data": {
      "text/html": [
       "<div>\n",
       "<style scoped>\n",
       "    .dataframe tbody tr th:only-of-type {\n",
       "        vertical-align: middle;\n",
       "    }\n",
       "\n",
       "    .dataframe tbody tr th {\n",
       "        vertical-align: top;\n",
       "    }\n",
       "\n",
       "    .dataframe thead th {\n",
       "        text-align: right;\n",
       "    }\n",
       "</style>\n",
       "<table border=\"1\" class=\"dataframe\">\n",
       "  <thead>\n",
       "    <tr style=\"text-align: right;\">\n",
       "      <th></th>\n",
       "      <th>x1</th>\n",
       "      <th>x2</th>\n",
       "      <th>cluster1</th>\n",
       "      <th>cluster2</th>\n",
       "    </tr>\n",
       "  </thead>\n",
       "  <tbody>\n",
       "    <tr>\n",
       "      <th>count</th>\n",
       "      <td>108.000000</td>\n",
       "      <td>108.000000</td>\n",
       "      <td>108.000000</td>\n",
       "      <td>108.000000</td>\n",
       "    </tr>\n",
       "    <tr>\n",
       "      <th>mean</th>\n",
       "      <td>0.509845</td>\n",
       "      <td>0.426045</td>\n",
       "      <td>0.731481</td>\n",
       "      <td>1.481481</td>\n",
       "    </tr>\n",
       "    <tr>\n",
       "      <th>std</th>\n",
       "      <td>0.241221</td>\n",
       "      <td>0.247801</td>\n",
       "      <td>0.445255</td>\n",
       "      <td>1.097844</td>\n",
       "    </tr>\n",
       "    <tr>\n",
       "      <th>min</th>\n",
       "      <td>0.000000</td>\n",
       "      <td>0.000000</td>\n",
       "      <td>0.000000</td>\n",
       "      <td>0.000000</td>\n",
       "    </tr>\n",
       "    <tr>\n",
       "      <th>25%</th>\n",
       "      <td>0.333773</td>\n",
       "      <td>0.236079</td>\n",
       "      <td>0.000000</td>\n",
       "      <td>0.750000</td>\n",
       "    </tr>\n",
       "    <tr>\n",
       "      <th>50%</th>\n",
       "      <td>0.567300</td>\n",
       "      <td>0.369956</td>\n",
       "      <td>1.000000</td>\n",
       "      <td>2.000000</td>\n",
       "    </tr>\n",
       "    <tr>\n",
       "      <th>75%</th>\n",
       "      <td>0.692579</td>\n",
       "      <td>0.627043</td>\n",
       "      <td>1.000000</td>\n",
       "      <td>2.000000</td>\n",
       "    </tr>\n",
       "    <tr>\n",
       "      <th>max</th>\n",
       "      <td>1.000000</td>\n",
       "      <td>1.000000</td>\n",
       "      <td>1.000000</td>\n",
       "      <td>3.000000</td>\n",
       "    </tr>\n",
       "  </tbody>\n",
       "</table>\n",
       "</div>"
      ],
      "text/plain": [
       "               x1          x2    cluster1    cluster2\n",
       "count  108.000000  108.000000  108.000000  108.000000\n",
       "mean     0.509845    0.426045    0.731481    1.481481\n",
       "std      0.241221    0.247801    0.445255    1.097844\n",
       "min      0.000000    0.000000    0.000000    0.000000\n",
       "25%      0.333773    0.236079    0.000000    0.750000\n",
       "50%      0.567300    0.369956    1.000000    2.000000\n",
       "75%      0.692579    0.627043    1.000000    2.000000\n",
       "max      1.000000    1.000000    1.000000    3.000000"
      ]
     },
     "execution_count": 45,
     "metadata": {},
     "output_type": "execute_result"
    }
   ],
   "source": [
    "myData.describe()"
   ]
  },
  {
   "cell_type": "code",
   "execution_count": 46,
   "metadata": {},
   "outputs": [],
   "source": [
    "# 1) What is the minumum and maximum values of each variable\n",
    "#Ahora notamos que los valores minimos y maximos cambian para ambas variables x1 y x2, siendo ahora:\n",
    "# 0 para el minimo en ambas variables y 1 el maximo\n",
    "# 2) What is the mean and standar deviation of each variable\n",
    "# La media o promedio tambien se ve afectada siendo ahora 0.509845 para x1 y 0.426045 para x2 donde ahora pareciera que x1 \n",
    "# es mayor o tienne mayores datos por arriba de 0.5\n",
    "# 3) What the 25%, 50% and 75% represent?\n",
    "# al igual que con los datos \"crudos\" el 25,50 y 75 % son los rangos intercuartiles, estos representan \n",
    "# en donde se concentran mas los datos y son los datos que se usan para hacer analisis experimentales\n",
    "# 4) Are the minimum and maximum values equal to your original data?\n",
    "# Como ya se menciono anteriormente, los valores cambiaron, esto debido a que ahora ya han sido normalizados,\n",
    "# a pesar de esto, se espera una respuesta parecida en las graficas, solo con diferente escala."
   ]
  },
  {
   "cell_type": "markdown",
   "metadata": {},
   "source": [
    "Plot the scatter plot of your normalizaed data"
   ]
  },
  {
   "cell_type": "code",
   "execution_count": 48,
   "metadata": {},
   "outputs": [
    {
     "data": {
      "image/png": "[encoded data removed]",
      "text/plain": [
       "<Figure size 432x288 with 1 Axes>"
      ]
     },
     "metadata": {
      "needs_background": "light"
     },
     "output_type": "display_data"
    }
   ],
   "source": [
    "#show scatter plot with the normalized data\n",
    "plt.scatter(myData.x1,myData.x2,s=20)\n",
    "plt.title('myData normalized')\n",
    "plt.xlabel('x1')\n",
    "plt.ylabel('x2')\n",
    "plt.show()"
   ]
  },
  {
   "cell_type": "markdown",
   "metadata": {},
   "source": [
    "Do Kmeans clustering assuming a number of clusters accorgind to your scatter plot"
   ]
  },
  {
   "cell_type": "code",
   "execution_count": 49,
   "metadata": {},
   "outputs": [
    {
     "data": {
      "text/plain": [
       "array([2, 0, 1, 1, 2, 0, 0, 3, 3, 3, 2, 2, 3, 3, 0, 1, 0, 1, 1, 3, 3, 0,\n",
       "       2, 3, 1, 0, 3, 1, 0, 2, 0, 0, 1, 0, 0, 2, 3, 3, 1, 3, 1, 2, 0, 0,\n",
       "       2, 1, 0, 0, 3, 3, 3, 2, 0, 1, 1, 1, 1, 2, 2, 0, 3, 0, 3, 1, 1, 0,\n",
       "       3, 3, 1, 2, 0, 2, 0, 3, 3, 2, 0, 1, 2, 3, 0, 1, 2, 0, 3, 0, 3, 0,\n",
       "       0, 1, 2, 2, 3, 1, 3, 2, 3, 3, 2, 1, 1, 0, 3, 1, 2, 2, 2, 1])"
      ]
     },
     "execution_count": 49,
     "metadata": {},
     "output_type": "execute_result"
    }
   ],
   "source": [
    "# Initialize model and define number of clusters\n",
    "km = KMeans(n_clusters=4)\n",
    "\n",
    "# Do K-means clustering (assing each point in the dataset to a cluster)\n",
    "yp = km.fit_predict(myData[['x1','x2']])\n",
    "\n",
    "# Print estimated cluster of each point in the dataser\n",
    "yp"
   ]
  },
  {
   "cell_type": "markdown",
   "metadata": {},
   "source": [
    "Add to your dataset a column with the assihned cluster to each data point"
   ]
  },
  {
   "cell_type": "code",
   "execution_count": 51,
   "metadata": {},
   "outputs": [
    {
     "name": "stdout",
     "output_type": "stream",
     "text": [
      "[2 0 1 3]\n"
     ]
    },
    {
     "data": {
      "text/html": [
       "<div>\n",
       "<style scoped>\n",
       "    .dataframe tbody tr th:only-of-type {\n",
       "        vertical-align: middle;\n",
       "    }\n",
       "\n",
       "    .dataframe tbody tr th {\n",
       "        vertical-align: top;\n",
       "    }\n",
       "\n",
       "    .dataframe thead th {\n",
       "        text-align: right;\n",
       "    }\n",
       "</style>\n",
       "<table border=\"1\" class=\"dataframe\">\n",
       "  <thead>\n",
       "    <tr style=\"text-align: right;\">\n",
       "      <th></th>\n",
       "      <th>x1</th>\n",
       "      <th>x2</th>\n",
       "      <th>cluster1</th>\n",
       "      <th>cluster2</th>\n",
       "      <th>cluster3</th>\n",
       "    </tr>\n",
       "  </thead>\n",
       "  <tbody>\n",
       "    <tr>\n",
       "      <th>0</th>\n",
       "      <td>0.722172</td>\n",
       "      <td>0.550588</td>\n",
       "      <td>1</td>\n",
       "      <td>3</td>\n",
       "      <td>2</td>\n",
       "    </tr>\n",
       "    <tr>\n",
       "      <th>1</th>\n",
       "      <td>0.831142</td>\n",
       "      <td>0.304973</td>\n",
       "      <td>1</td>\n",
       "      <td>2</td>\n",
       "      <td>0</td>\n",
       "    </tr>\n",
       "    <tr>\n",
       "      <th>2</th>\n",
       "      <td>0.315315</td>\n",
       "      <td>0.697118</td>\n",
       "      <td>0</td>\n",
       "      <td>1</td>\n",
       "      <td>1</td>\n",
       "    </tr>\n",
       "    <tr>\n",
       "      <th>3</th>\n",
       "      <td>0.075232</td>\n",
       "      <td>0.938673</td>\n",
       "      <td>0</td>\n",
       "      <td>1</td>\n",
       "      <td>1</td>\n",
       "    </tr>\n",
       "    <tr>\n",
       "      <th>4</th>\n",
       "      <td>0.680986</td>\n",
       "      <td>0.617807</td>\n",
       "      <td>1</td>\n",
       "      <td>3</td>\n",
       "      <td>2</td>\n",
       "    </tr>\n",
       "    <tr>\n",
       "      <th>...</th>\n",
       "      <td>...</td>\n",
       "      <td>...</td>\n",
       "      <td>...</td>\n",
       "      <td>...</td>\n",
       "      <td>...</td>\n",
       "    </tr>\n",
       "    <tr>\n",
       "      <th>103</th>\n",
       "      <td>0.291080</td>\n",
       "      <td>0.658347</td>\n",
       "      <td>0</td>\n",
       "      <td>1</td>\n",
       "      <td>1</td>\n",
       "    </tr>\n",
       "    <tr>\n",
       "      <th>104</th>\n",
       "      <td>0.602931</td>\n",
       "      <td>0.588852</td>\n",
       "      <td>1</td>\n",
       "      <td>3</td>\n",
       "      <td>2</td>\n",
       "    </tr>\n",
       "    <tr>\n",
       "      <th>105</th>\n",
       "      <td>0.721307</td>\n",
       "      <td>0.589845</td>\n",
       "      <td>1</td>\n",
       "      <td>3</td>\n",
       "      <td>2</td>\n",
       "    </tr>\n",
       "    <tr>\n",
       "      <th>106</th>\n",
       "      <td>0.634411</td>\n",
       "      <td>0.467627</td>\n",
       "      <td>1</td>\n",
       "      <td>3</td>\n",
       "      <td>2</td>\n",
       "    </tr>\n",
       "    <tr>\n",
       "      <th>107</th>\n",
       "      <td>0.144449</td>\n",
       "      <td>0.730494</td>\n",
       "      <td>0</td>\n",
       "      <td>1</td>\n",
       "      <td>1</td>\n",
       "    </tr>\n",
       "  </tbody>\n",
       "</table>\n",
       "<p>108 rows × 5 columns</p>\n",
       "</div>"
      ],
      "text/plain": [
       "           x1        x2  cluster1  cluster2  cluster3\n",
       "0    0.722172  0.550588         1         3         2\n",
       "1    0.831142  0.304973         1         2         0\n",
       "2    0.315315  0.697118         0         1         1\n",
       "3    0.075232  0.938673         0         1         1\n",
       "4    0.680986  0.617807         1         3         2\n",
       "..        ...       ...       ...       ...       ...\n",
       "103  0.291080  0.658347         0         1         1\n",
       "104  0.602931  0.588852         1         3         2\n",
       "105  0.721307  0.589845         1         3         2\n",
       "106  0.634411  0.467627         1         3         2\n",
       "107  0.144449  0.730494         0         1         1\n",
       "\n",
       "[108 rows x 5 columns]"
      ]
     },
     "execution_count": 51,
     "metadata": {},
     "output_type": "execute_result"
    }
   ],
   "source": [
    "# Add a new column to the dataset with the cluster information\n",
    "myData['cluster3'] = yp\n",
    "print(myData.cluster3.unique())\n",
    "myData"
   ]
  },
  {
   "cell_type": "markdown",
   "metadata": {},
   "source": [
    "Print the centroids"
   ]
  },
  {
   "cell_type": "code",
   "execution_count": 52,
   "metadata": {},
   "outputs": [
    {
     "data": {
      "text/plain": [
       "array([[0.68806435, 0.17398156],\n",
       "       [0.1590087 , 0.75788122],\n",
       "       [0.7216036 , 0.53892085],\n",
       "       [0.47091914, 0.28718568]])"
      ]
     },
     "execution_count": 52,
     "metadata": {},
     "output_type": "execute_result"
    }
   ],
   "source": [
    "km.cluster_centers_"
   ]
  },
  {
   "cell_type": "markdown",
   "metadata": {},
   "source": [
    "Print the intetia metric"
   ]
  },
  {
   "cell_type": "code",
   "execution_count": 53,
   "metadata": {},
   "outputs": [
    {
     "data": {
      "text/plain": [
       "1.9844487714631456"
      ]
     },
     "execution_count": 53,
     "metadata": {},
     "output_type": "execute_result"
    }
   ],
   "source": [
    "km.inertia_"
   ]
  },
  {
   "cell_type": "markdown",
   "metadata": {},
   "source": [
    "Plot a scatter plot of your data assigned to each cluster. Also plot the centroids"
   ]
  },
  {
   "cell_type": "code",
   "execution_count": 54,
   "metadata": {},
   "outputs": [
    {
     "data": {
      "image/png": "[encoded data removed]",
      "text/plain": [
       "<Figure size 432x288 with 1 Axes>"
      ]
     },
     "metadata": {
      "needs_background": "light"
     },
     "output_type": "display_data"
    }
   ],
   "source": [
    "# Scatter plot of the data asigning each point to the cluster it belongs to ¡¡\n",
    "dft1 = myData[myData.cluster3==0]\n",
    "dft2 = myData[myData.cluster3==1]\n",
    "dft3 = myData[myData.cluster3==2]\n",
    "dft4 = myData[myData.cluster3==3]\n",
    "#plot points to each cluster\n",
    "plt.scatter(dft1.x1,dft1.x2,color='b',s=20)\n",
    "plt.scatter(dft2.x1,dft2.x2,color='r',s=20)\n",
    "plt.scatter(dft3.x1,dft3.x2,color='g',s=20)\n",
    "plt.scatter(dft4.x1,dft4.x2,color='y',s=20)\n",
    "#plot centroids\n",
    "plt.scatter(km.cluster_centers_[:,0], km.cluster_centers_[:,1], color='magenta', marker='*', s=150)\n",
    "#display plot\n",
    "plt.title('Scater plot of myData normalized',fontsize=18)\n",
    "plt.xlabel('x1',fontsize=18)\n",
    "plt.ylabel('x2',fontsize=18)\n",
    "\n",
    "plt.show()"
   ]
  },
  {
   "cell_type": "markdown",
   "metadata": {},
   "source": [
    "### Questions \n",
    "\n",
    "Provides a detailed description of your results. Does the normalization improves the clustering?\n",
    "\n",
    "Your response: Notamos como nuestra teoria era correcta, tenemos el mismo comportamiento en las graficas, simplemente la escala cambia, tambien notamos que la inercia es ahora muy chica por lo que esta aproximacion es mejor, ademas que nos ayuda a comprender y visualizar de mejor manera los datos pues ahora todo se encuentra en coordenadas positivas."
   ]
  },
  {
   "cell_type": "markdown",
   "metadata": {},
   "source": [
    "# BONUS"
   ]
  },
  {
   "cell_type": "markdown",
   "metadata": {},
   "source": [
    "1) Generate some data using the \"make_blobs\" function from \"sklearn.datasets\"\n",
    "\n",
    "- The number of observations is equal to the three last digits in your ID\n",
    "\n",
    "- 2 variables\n",
    "\n",
    "- 4 clusters\n",
    "\n",
    "- Standar deviation of each cluster of 1.5\n",
    "\n"
   ]
  },
  {
   "cell_type": "code",
   "execution_count": null,
   "metadata": {},
   "outputs": [],
   "source": []
  },
  {
   "cell_type": "markdown",
   "metadata": {},
   "source": [
    "2) Plot the scatter plot of your data using the real cluster labels"
   ]
  },
  {
   "cell_type": "code",
   "execution_count": null,
   "metadata": {},
   "outputs": [],
   "source": []
  },
  {
   "cell_type": "markdown",
   "metadata": {},
   "source": [
    "3) Do K means clustering "
   ]
  },
  {
   "cell_type": "code",
   "execution_count": null,
   "metadata": {},
   "outputs": [],
   "source": []
  },
  {
   "cell_type": "markdown",
   "metadata": {},
   "source": [
    "4) Plot the scatter plot of your data using the estimated cluster labels"
   ]
  },
  {
   "cell_type": "code",
   "execution_count": null,
   "metadata": {},
   "outputs": [],
   "source": []
  },
  {
   "cell_type": "markdown",
   "metadata": {},
   "source": [
    "### Questions \n",
    "\n",
    "Provides a detailed description of your results.\n",
    "\n",
    "Your response:"
   ]
  },
  {
   "cell_type": "markdown",
   "metadata": {},
   "source": [
    "# Descipcion de tu percepcion del nivel de desarrollo de la subcompetencia \n",
    "\n",
    "### SING0202A Interpretación de variables\n"
   ]
  },
  {
   "cell_type": "markdown",
   "metadata": {},
   "source": [
    "Escribe tu description del nivel de logro del siguiente criterio de la subcompetencia\n",
    "\n",
    "**Interpreta interacciones**. Interpreta interacciones entre variables relevantes en un problema, como base para la construcción de modelos bivariados basados en datos de un fenómeno investigado que le permita reproducir la respuesta del mismo."
   ]
  },
  {
   "cell_type": "markdown",
   "metadata": {},
   "source": [
    "Tu respuesta: Considero que a traves de las graficas se pueden identificar patrones, a lo largo de la semana con las distintas hojas de datos, tuve que analizar e interpretar los datos presentados en las graficas y hacer unas primeras hipotesis para despues comprobarlas o agregar interpretaciones segun los resultados de los calculos."
   ]
  },
  {
   "cell_type": "markdown",
   "metadata": {},
   "source": [
    "Escribe tu description del nivel de logro del siguiente criterio de la subcompetencia\n",
    "\n",
    "**Construcción de modelos**. Es capaz de construir modelos bivariados que expliquen el comportamiento de un fenómeno."
   ]
  },
  {
   "cell_type": "markdown",
   "metadata": {},
   "source": [
    "Tu respuesta:"
   ]
  },
  {
   "cell_type": "markdown",
   "metadata": {},
   "source": [
    "Creo que a lo largo de la semana fui capaz de generar diversas hipotesis a partir de una vista rapida a los datos presentados, incluso al no poder visualizar los datos para el caso del dataset de iris, fui capaz de \"normalizar\" la salida de los clusters para poder hacer una comparacion y poder argumentar con datos mis teorias e hipotesis."
   ]
  }
 ],
 "metadata": {
  "kernelspec": {
   "display_name": "Python 3",
   "language": "python",
   "name": "python3"
  },
  "language_info": {
   "codemirror_mode": {
    "name": "ipython",
    "version": 3
   },
   "file_extension": ".py",
   "mimetype": "text/x-python",
   "name": "python",
   "nbconvert_exporter": "python",
   "pygments_lexer": "ipython3",
   "version": "3.8.8"
  }
 },
 "nbformat": 4,
 "nbformat_minor": 2
}
