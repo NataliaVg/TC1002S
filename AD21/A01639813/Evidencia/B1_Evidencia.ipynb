{
 "cells": [
  {
   "cell_type": "markdown",
   "metadata": {},
   "source": [
    "# TC1002S Herramientas computacionales: el arte de la analítica\n",
    "\n",
    "This is a notebook with all your work for the final evidence of this course\n",
    "\n",
    "\n",
    "# Niveles de dominio a demostrar con la evidencia\n",
    "\n",
    "### SING0202A\n",
    "\n",
    "Interpreta interacciones entre variables relevantes en un problema, como base para la construcción de modelos bivariados basados en datos de un fenómeno investigado que le permita reproducir la respuesta del mismo. Es capaz de construir modelos bivariados que expliquen el comportamiento de un fenómeno.\n",
    "\n",
    "\n",
    "# Student information\n",
    "\n",
    "- Name: Adrian Becerra Meza\n",
    "\n",
    "- ID: A01639813\n",
    "\n",
    "- My career: Ingeniería en Tecnologías Computacionales\n"
   ]
  },
  {
   "cell_type": "markdown",
   "metadata": {},
   "source": [
    "# Importing libraries"
   ]
  },
  {
   "cell_type": "code",
   "execution_count": 255,
   "metadata": {},
   "outputs": [],
   "source": [
    "# Import the packages that we will be using\n",
    "import matplotlib.pyplot as plt\n",
    "import seaborn as sns               # For advanced plotting\n",
    "import pandas as pd                 # For data handling\n",
    "\n",
    "# Dataset url\n",
    "url = \"datasets/evidencia/A01639813.csv\"\n",
    "\n",
    "# Load the dataset\n",
    "dataset = pd.read_csv(url)\n"
   ]
  },
  {
   "cell_type": "markdown",
   "metadata": {},
   "source": [
    "# A1 Load your dataset"
   ]
  },
  {
   "cell_type": "code",
   "execution_count": 256,
   "metadata": {},
   "outputs": [],
   "source": [
    "# Load the dataset\n",
    "dataset = pd.read_csv(url )"
   ]
  },
  {
   "cell_type": "markdown",
   "metadata": {},
   "source": [
    "# A2 DataManagment\n"
   ]
  },
  {
   "cell_type": "markdown",
   "metadata": {},
   "source": [
    "Print the first 7 rows"
   ]
  },
  {
   "cell_type": "code",
   "execution_count": 257,
   "metadata": {},
   "outputs": [
    {
     "data": {
      "text/html": [
       "<div>\n",
       "<style scoped>\n",
       "    .dataframe tbody tr th:only-of-type {\n",
       "        vertical-align: middle;\n",
       "    }\n",
       "\n",
       "    .dataframe tbody tr th {\n",
       "        vertical-align: top;\n",
       "    }\n",
       "\n",
       "    .dataframe thead th {\n",
       "        text-align: right;\n",
       "    }\n",
       "</style>\n",
       "<table border=\"1\" class=\"dataframe\">\n",
       "  <thead>\n",
       "    <tr style=\"text-align: right;\">\n",
       "      <th></th>\n",
       "      <th>ID</th>\n",
       "      <th>x1</th>\n",
       "      <th>x2</th>\n",
       "    </tr>\n",
       "  </thead>\n",
       "  <tbody>\n",
       "    <tr>\n",
       "      <th>0</th>\n",
       "      <td>0</td>\n",
       "      <td>0.318738</td>\n",
       "      <td>-0.466663</td>\n",
       "    </tr>\n",
       "    <tr>\n",
       "      <th>1</th>\n",
       "      <td>1</td>\n",
       "      <td>-0.870369</td>\n",
       "      <td>0.309007</td>\n",
       "    </tr>\n",
       "    <tr>\n",
       "      <th>2</th>\n",
       "      <td>2</td>\n",
       "      <td>0.337106</td>\n",
       "      <td>0.925504</td>\n",
       "    </tr>\n",
       "    <tr>\n",
       "      <th>3</th>\n",
       "      <td>3</td>\n",
       "      <td>0.801848</td>\n",
       "      <td>0.666790</td>\n",
       "    </tr>\n",
       "    <tr>\n",
       "      <th>4</th>\n",
       "      <td>4</td>\n",
       "      <td>0.131386</td>\n",
       "      <td>-0.103651</td>\n",
       "    </tr>\n",
       "    <tr>\n",
       "      <th>5</th>\n",
       "      <td>5</td>\n",
       "      <td>2.048646</td>\n",
       "      <td>0.038749</td>\n",
       "    </tr>\n",
       "    <tr>\n",
       "      <th>6</th>\n",
       "      <td>6</td>\n",
       "      <td>0.312637</td>\n",
       "      <td>1.213257</td>\n",
       "    </tr>\n",
       "  </tbody>\n",
       "</table>\n",
       "</div>"
      ],
      "text/plain": [
       "   ID        x1        x2\n",
       "0   0  0.318738 -0.466663\n",
       "1   1 -0.870369  0.309007\n",
       "2   2  0.337106  0.925504\n",
       "3   3  0.801848  0.666790\n",
       "4   4  0.131386 -0.103651\n",
       "5   5  2.048646  0.038749\n",
       "6   6  0.312637  1.213257"
      ]
     },
     "execution_count": 257,
     "metadata": {},
     "output_type": "execute_result"
    }
   ],
   "source": [
    "dataset.head(7)"
   ]
  },
  {
   "cell_type": "markdown",
   "metadata": {},
   "source": [
    "Print the first 4 last rows"
   ]
  },
  {
   "cell_type": "code",
   "execution_count": 258,
   "metadata": {},
   "outputs": [
    {
     "data": {
      "text/html": [
       "<div>\n",
       "<style scoped>\n",
       "    .dataframe tbody tr th:only-of-type {\n",
       "        vertical-align: middle;\n",
       "    }\n",
       "\n",
       "    .dataframe tbody tr th {\n",
       "        vertical-align: top;\n",
       "    }\n",
       "\n",
       "    .dataframe thead th {\n",
       "        text-align: right;\n",
       "    }\n",
       "</style>\n",
       "<table border=\"1\" class=\"dataframe\">\n",
       "  <thead>\n",
       "    <tr style=\"text-align: right;\">\n",
       "      <th></th>\n",
       "      <th>ID</th>\n",
       "      <th>x1</th>\n",
       "      <th>x2</th>\n",
       "    </tr>\n",
       "  </thead>\n",
       "  <tbody>\n",
       "    <tr>\n",
       "      <th>809</th>\n",
       "      <td>809</td>\n",
       "      <td>2.011653</td>\n",
       "      <td>0.507479</td>\n",
       "    </tr>\n",
       "    <tr>\n",
       "      <th>810</th>\n",
       "      <td>810</td>\n",
       "      <td>-0.718449</td>\n",
       "      <td>0.583669</td>\n",
       "    </tr>\n",
       "    <tr>\n",
       "      <th>811</th>\n",
       "      <td>811</td>\n",
       "      <td>-0.859384</td>\n",
       "      <td>0.440414</td>\n",
       "    </tr>\n",
       "    <tr>\n",
       "      <th>812</th>\n",
       "      <td>812</td>\n",
       "      <td>0.482622</td>\n",
       "      <td>0.861301</td>\n",
       "    </tr>\n",
       "  </tbody>\n",
       "</table>\n",
       "</div>"
      ],
      "text/plain": [
       "      ID        x1        x2\n",
       "809  809  2.011653  0.507479\n",
       "810  810 -0.718449  0.583669\n",
       "811  811 -0.859384  0.440414\n",
       "812  812  0.482622  0.861301"
      ]
     },
     "execution_count": 258,
     "metadata": {},
     "output_type": "execute_result"
    }
   ],
   "source": [
    "dataset.tail(4)"
   ]
  },
  {
   "cell_type": "markdown",
   "metadata": {},
   "source": [
    "How many rows and columns are in your data?\n",
    "\n",
    "Use the `shape` method\n"
   ]
  },
  {
   "cell_type": "code",
   "execution_count": 259,
   "metadata": {},
   "outputs": [
    {
     "data": {
      "text/plain": [
       "(813, 3)"
      ]
     },
     "execution_count": 259,
     "metadata": {},
     "output_type": "execute_result"
    }
   ],
   "source": [
    "dataset.shape"
   ]
  },
  {
   "cell_type": "markdown",
   "metadata": {},
   "source": [
    "Print the name of all columns \n",
    "\n",
    "Use the `columns` method"
   ]
  },
  {
   "cell_type": "code",
   "execution_count": 260,
   "metadata": {},
   "outputs": [
    {
     "data": {
      "text/plain": [
       "Index(['ID', 'x1', 'x2'], dtype='object')"
      ]
     },
     "execution_count": 260,
     "metadata": {},
     "output_type": "execute_result"
    }
   ],
   "source": [
    "dataset.columns"
   ]
  },
  {
   "cell_type": "markdown",
   "metadata": {},
   "source": [
    "What is the data type in each column\n",
    "\n",
    "Use the `dtypes` method "
   ]
  },
  {
   "cell_type": "code",
   "execution_count": 261,
   "metadata": {},
   "outputs": [
    {
     "data": {
      "text/plain": [
       "ID      int64\n",
       "x1    float64\n",
       "x2    float64\n",
       "dtype: object"
      ]
     },
     "execution_count": 261,
     "metadata": {},
     "output_type": "execute_result"
    }
   ],
   "source": [
    "dataset.dtypes"
   ]
  },
  {
   "cell_type": "markdown",
   "metadata": {},
   "source": [
    "What is the meaning of rows and columns?"
   ]
  },
  {
   "cell_type": "code",
   "execution_count": 262,
   "metadata": {},
   "outputs": [],
   "source": [
    "# Your responses here\n",
    "\n",
    "# 1) La primera Columna es el ID de la información que tenemos en la fila.\n",
    "\n",
    "# 2) La segunda Columna es la primera variable de la fila en la que nos encontramos.\n",
    "\n",
    "# 3) La tercera Columna es la segunda variable de la fila en la que nos encontramos.\n",
    "\n",
    "#..."
   ]
  },
  {
   "cell_type": "markdown",
   "metadata": {},
   "source": [
    "Print a statistical summary of your columns\n"
   ]
  },
  {
   "cell_type": "code",
   "execution_count": 263,
   "metadata": {},
   "outputs": [
    {
     "data": {
      "text/html": [
       "<div>\n",
       "<style scoped>\n",
       "    .dataframe tbody tr th:only-of-type {\n",
       "        vertical-align: middle;\n",
       "    }\n",
       "\n",
       "    .dataframe tbody tr th {\n",
       "        vertical-align: top;\n",
       "    }\n",
       "\n",
       "    .dataframe thead th {\n",
       "        text-align: right;\n",
       "    }\n",
       "</style>\n",
       "<table border=\"1\" class=\"dataframe\">\n",
       "  <thead>\n",
       "    <tr style=\"text-align: right;\">\n",
       "      <th></th>\n",
       "      <th>ID</th>\n",
       "      <th>x1</th>\n",
       "      <th>x2</th>\n",
       "    </tr>\n",
       "  </thead>\n",
       "  <tbody>\n",
       "    <tr>\n",
       "      <th>count</th>\n",
       "      <td>813.000000</td>\n",
       "      <td>813.000000</td>\n",
       "      <td>813.000000</td>\n",
       "    </tr>\n",
       "    <tr>\n",
       "      <th>mean</th>\n",
       "      <td>406.000000</td>\n",
       "      <td>0.503519</td>\n",
       "      <td>0.245872</td>\n",
       "    </tr>\n",
       "    <tr>\n",
       "      <th>std</th>\n",
       "      <td>234.837178</td>\n",
       "      <td>0.874761</td>\n",
       "      <td>0.508117</td>\n",
       "    </tr>\n",
       "    <tr>\n",
       "      <th>min</th>\n",
       "      <td>0.000000</td>\n",
       "      <td>-1.148805</td>\n",
       "      <td>-0.692185</td>\n",
       "    </tr>\n",
       "    <tr>\n",
       "      <th>25%</th>\n",
       "      <td>203.000000</td>\n",
       "      <td>-0.085979</td>\n",
       "      <td>-0.219497</td>\n",
       "    </tr>\n",
       "    <tr>\n",
       "      <th>50%</th>\n",
       "      <td>406.000000</td>\n",
       "      <td>0.509431</td>\n",
       "      <td>0.233706</td>\n",
       "    </tr>\n",
       "    <tr>\n",
       "      <th>75%</th>\n",
       "      <td>609.000000</td>\n",
       "      <td>1.093946</td>\n",
       "      <td>0.693636</td>\n",
       "    </tr>\n",
       "    <tr>\n",
       "      <th>max</th>\n",
       "      <td>812.000000</td>\n",
       "      <td>2.186580</td>\n",
       "      <td>1.213257</td>\n",
       "    </tr>\n",
       "  </tbody>\n",
       "</table>\n",
       "</div>"
      ],
      "text/plain": [
       "               ID          x1          x2\n",
       "count  813.000000  813.000000  813.000000\n",
       "mean   406.000000    0.503519    0.245872\n",
       "std    234.837178    0.874761    0.508117\n",
       "min      0.000000   -1.148805   -0.692185\n",
       "25%    203.000000   -0.085979   -0.219497\n",
       "50%    406.000000    0.509431    0.233706\n",
       "75%    609.000000    1.093946    0.693636\n",
       "max    812.000000    2.186580    1.213257"
      ]
     },
     "execution_count": 263,
     "metadata": {},
     "output_type": "execute_result"
    }
   ],
   "source": [
    "dataset.describe()"
   ]
  },
  {
   "cell_type": "code",
   "execution_count": 264,
   "metadata": {},
   "outputs": [],
   "source": [
    "# 1) What is the minumum and maximum values of each variable\n",
    "\n",
    "# El minimo de la primera variable es -1.148805 y el minimo de la segunda variable es -0.692185\n",
    "# El maximo de la primera variable es 2.186580 y el maximo de la segunda variable es 1.213257\n",
    "\n",
    "# 2) What is the mean and standar deviation of each variable\n",
    "\n",
    "# La media de la primera variable es 0.503519 y la media de la segunda variable es 0.245872\n",
    "# La desviación estandar de la primera variable es 0.874761 y la desviación estandar de la segunda variable es 0.508117\n",
    "\n",
    "# 3) What the 25%, 50% and 75% represent?\n",
    "\n",
    "# En la primera variable el 25% representa -0.085979 y en la segunda variable -0.21949\n",
    "# En la primera variable el 50% representa 0.509431 y en la segunda variable 0.233706\n",
    "# En la primera variable el 75% representa 1.093946 y en la segunda variable 0.693636\n",
    "\n",
    "# En general representan el porcentaje asociado con el minimo y el maximo de los datos obtenidos o otra forma de verlo\n",
    "# representan tambíen los cuartiles de los datos que tenemos\n",
    "# Los cuartiles son valores que dividen una muestra de datos en cuatro partes iguales. \n",
    "# Utilizando cuartiles puede evaluar rápidamente la dispersión y la tendencia central de un conjunto de datos,"
   ]
  },
  {
   "cell_type": "markdown",
   "metadata": {},
   "source": [
    "Rename the columns using the same name with capital letters"
   ]
  },
  {
   "cell_type": "code",
   "execution_count": 265,
   "metadata": {},
   "outputs": [
    {
     "data": {
      "text/html": [
       "<div>\n",
       "<style scoped>\n",
       "    .dataframe tbody tr th:only-of-type {\n",
       "        vertical-align: middle;\n",
       "    }\n",
       "\n",
       "    .dataframe tbody tr th {\n",
       "        vertical-align: top;\n",
       "    }\n",
       "\n",
       "    .dataframe thead th {\n",
       "        text-align: right;\n",
       "    }\n",
       "</style>\n",
       "<table border=\"1\" class=\"dataframe\">\n",
       "  <thead>\n",
       "    <tr style=\"text-align: right;\">\n",
       "      <th></th>\n",
       "      <th>ID</th>\n",
       "      <th>X1</th>\n",
       "      <th>X2</th>\n",
       "    </tr>\n",
       "  </thead>\n",
       "  <tbody>\n",
       "    <tr>\n",
       "      <th>0</th>\n",
       "      <td>0</td>\n",
       "      <td>0.318738</td>\n",
       "      <td>-0.466663</td>\n",
       "    </tr>\n",
       "    <tr>\n",
       "      <th>1</th>\n",
       "      <td>1</td>\n",
       "      <td>-0.870369</td>\n",
       "      <td>0.309007</td>\n",
       "    </tr>\n",
       "    <tr>\n",
       "      <th>2</th>\n",
       "      <td>2</td>\n",
       "      <td>0.337106</td>\n",
       "      <td>0.925504</td>\n",
       "    </tr>\n",
       "    <tr>\n",
       "      <th>3</th>\n",
       "      <td>3</td>\n",
       "      <td>0.801848</td>\n",
       "      <td>0.666790</td>\n",
       "    </tr>\n",
       "    <tr>\n",
       "      <th>4</th>\n",
       "      <td>4</td>\n",
       "      <td>0.131386</td>\n",
       "      <td>-0.103651</td>\n",
       "    </tr>\n",
       "  </tbody>\n",
       "</table>\n",
       "</div>"
      ],
      "text/plain": [
       "   ID        X1        X2\n",
       "0   0  0.318738 -0.466663\n",
       "1   1 -0.870369  0.309007\n",
       "2   2  0.337106  0.925504\n",
       "3   3  0.801848  0.666790\n",
       "4   4  0.131386 -0.103651"
      ]
     },
     "execution_count": 265,
     "metadata": {},
     "output_type": "execute_result"
    }
   ],
   "source": [
    "dataset = dataset.rename(columns={\"x1\": \"X1\"})\n",
    "dataset = dataset.rename(columns={\"x2\": \"X2\"})\n",
    "\n",
    "dataset.head()"
   ]
  },
  {
   "cell_type": "markdown",
   "metadata": {},
   "source": [
    "Rename the columns to their original names"
   ]
  },
  {
   "cell_type": "code",
   "execution_count": 266,
   "metadata": {},
   "outputs": [
    {
     "data": {
      "text/html": [
       "<div>\n",
       "<style scoped>\n",
       "    .dataframe tbody tr th:only-of-type {\n",
       "        vertical-align: middle;\n",
       "    }\n",
       "\n",
       "    .dataframe tbody tr th {\n",
       "        vertical-align: top;\n",
       "    }\n",
       "\n",
       "    .dataframe thead th {\n",
       "        text-align: right;\n",
       "    }\n",
       "</style>\n",
       "<table border=\"1\" class=\"dataframe\">\n",
       "  <thead>\n",
       "    <tr style=\"text-align: right;\">\n",
       "      <th></th>\n",
       "      <th>ID</th>\n",
       "      <th>x1</th>\n",
       "      <th>x2</th>\n",
       "    </tr>\n",
       "  </thead>\n",
       "  <tbody>\n",
       "    <tr>\n",
       "      <th>0</th>\n",
       "      <td>0</td>\n",
       "      <td>0.318738</td>\n",
       "      <td>-0.466663</td>\n",
       "    </tr>\n",
       "    <tr>\n",
       "      <th>1</th>\n",
       "      <td>1</td>\n",
       "      <td>-0.870369</td>\n",
       "      <td>0.309007</td>\n",
       "    </tr>\n",
       "    <tr>\n",
       "      <th>2</th>\n",
       "      <td>2</td>\n",
       "      <td>0.337106</td>\n",
       "      <td>0.925504</td>\n",
       "    </tr>\n",
       "    <tr>\n",
       "      <th>3</th>\n",
       "      <td>3</td>\n",
       "      <td>0.801848</td>\n",
       "      <td>0.666790</td>\n",
       "    </tr>\n",
       "    <tr>\n",
       "      <th>4</th>\n",
       "      <td>4</td>\n",
       "      <td>0.131386</td>\n",
       "      <td>-0.103651</td>\n",
       "    </tr>\n",
       "  </tbody>\n",
       "</table>\n",
       "</div>"
      ],
      "text/plain": [
       "   ID        x1        x2\n",
       "0   0  0.318738 -0.466663\n",
       "1   1 -0.870369  0.309007\n",
       "2   2  0.337106  0.925504\n",
       "3   3  0.801848  0.666790\n",
       "4   4  0.131386 -0.103651"
      ]
     },
     "execution_count": 266,
     "metadata": {},
     "output_type": "execute_result"
    }
   ],
   "source": [
    "dataset = dataset.rename(columns={\"X1\": \"x1\"})\n",
    "dataset = dataset.rename(columns={\"X2\": \"x2\"})\n",
    "\n",
    "dataset.head()"
   ]
  },
  {
   "cell_type": "markdown",
   "metadata": {},
   "source": [
    "Use two different alternatives to get one of the columns"
   ]
  },
  {
   "cell_type": "code",
   "execution_count": 267,
   "metadata": {},
   "outputs": [
    {
     "name": "stdout",
     "output_type": "stream",
     "text": [
      "0      0.318738\n",
      "1     -0.870369\n",
      "2      0.337106\n",
      "3      0.801848\n",
      "4      0.131386\n",
      "         ...   \n",
      "808    0.007461\n",
      "809    2.011653\n",
      "810   -0.718449\n",
      "811   -0.859384\n",
      "812    0.482622\n",
      "Name: x1, Length: 813, dtype: float64\n",
      "0      0.318738\n",
      "1     -0.870369\n",
      "2      0.337106\n",
      "3      0.801848\n",
      "4      0.131386\n",
      "         ...   \n",
      "808    0.007461\n",
      "809    2.011653\n",
      "810   -0.718449\n",
      "811   -0.859384\n",
      "812    0.482622\n",
      "Name: x1, Length: 813, dtype: float64\n"
     ]
    }
   ],
   "source": [
    "a = dataset.x1\n",
    "b = dataset[\"x1\"]\n",
    "\n",
    "print(a)\n",
    "print(b)"
   ]
  },
  {
   "cell_type": "markdown",
   "metadata": {},
   "source": [
    "Get a slice of your data set: second and thrid columns and rows from 62 to 72"
   ]
  },
  {
   "cell_type": "code",
   "execution_count": 268,
   "metadata": {},
   "outputs": [
    {
     "data": {
      "text/html": [
       "<div>\n",
       "<style scoped>\n",
       "    .dataframe tbody tr th:only-of-type {\n",
       "        vertical-align: middle;\n",
       "    }\n",
       "\n",
       "    .dataframe tbody tr th {\n",
       "        vertical-align: top;\n",
       "    }\n",
       "\n",
       "    .dataframe thead th {\n",
       "        text-align: right;\n",
       "    }\n",
       "</style>\n",
       "<table border=\"1\" class=\"dataframe\">\n",
       "  <thead>\n",
       "    <tr style=\"text-align: right;\">\n",
       "      <th></th>\n",
       "      <th>x1</th>\n",
       "      <th>x2</th>\n",
       "    </tr>\n",
       "  </thead>\n",
       "  <tbody>\n",
       "    <tr>\n",
       "      <th>62</th>\n",
       "      <td>1.688265</td>\n",
       "      <td>-0.219497</td>\n",
       "    </tr>\n",
       "    <tr>\n",
       "      <th>63</th>\n",
       "      <td>0.894777</td>\n",
       "      <td>0.699199</td>\n",
       "    </tr>\n",
       "    <tr>\n",
       "      <th>64</th>\n",
       "      <td>-0.100069</td>\n",
       "      <td>0.089764</td>\n",
       "    </tr>\n",
       "    <tr>\n",
       "      <th>65</th>\n",
       "      <td>0.536500</td>\n",
       "      <td>-0.010877</td>\n",
       "    </tr>\n",
       "    <tr>\n",
       "      <th>66</th>\n",
       "      <td>-0.876127</td>\n",
       "      <td>0.420741</td>\n",
       "    </tr>\n",
       "    <tr>\n",
       "      <th>67</th>\n",
       "      <td>1.387388</td>\n",
       "      <td>-0.351135</td>\n",
       "    </tr>\n",
       "    <tr>\n",
       "      <th>68</th>\n",
       "      <td>-0.817621</td>\n",
       "      <td>0.172217</td>\n",
       "    </tr>\n",
       "    <tr>\n",
       "      <th>69</th>\n",
       "      <td>-0.608147</td>\n",
       "      <td>0.785139</td>\n",
       "    </tr>\n",
       "    <tr>\n",
       "      <th>70</th>\n",
       "      <td>0.228998</td>\n",
       "      <td>1.004896</td>\n",
       "    </tr>\n",
       "    <tr>\n",
       "      <th>71</th>\n",
       "      <td>1.690479</td>\n",
       "      <td>-0.201174</td>\n",
       "    </tr>\n",
       "    <tr>\n",
       "      <th>72</th>\n",
       "      <td>1.877085</td>\n",
       "      <td>-0.232279</td>\n",
       "    </tr>\n",
       "  </tbody>\n",
       "</table>\n",
       "</div>"
      ],
      "text/plain": [
       "          x1        x2\n",
       "62  1.688265 -0.219497\n",
       "63  0.894777  0.699199\n",
       "64 -0.100069  0.089764\n",
       "65  0.536500 -0.010877\n",
       "66 -0.876127  0.420741\n",
       "67  1.387388 -0.351135\n",
       "68 -0.817621  0.172217\n",
       "69 -0.608147  0.785139\n",
       "70  0.228998  1.004896\n",
       "71  1.690479 -0.201174\n",
       "72  1.877085 -0.232279"
      ]
     },
     "execution_count": 268,
     "metadata": {},
     "output_type": "execute_result"
    }
   ],
   "source": [
    "dataset.loc[62:72, [\"x1\",\"x2\"]]"
   ]
  },
  {
   "cell_type": "markdown",
   "metadata": {},
   "source": [
    "For the second and thrid columns, calculate the number of null and not null values and verify that their sum equals the total number of rows"
   ]
  },
  {
   "cell_type": "code",
   "execution_count": 269,
   "metadata": {},
   "outputs": [
    {
     "data": {
      "text/plain": [
       "(813, 3)"
      ]
     },
     "execution_count": 269,
     "metadata": {},
     "output_type": "execute_result"
    }
   ],
   "source": [
    "dataset.shape"
   ]
  },
  {
   "cell_type": "code",
   "execution_count": 270,
   "metadata": {},
   "outputs": [
    {
     "data": {
      "text/plain": [
       "ID    0\n",
       "x1    0\n",
       "x2    0\n",
       "dtype: int64"
      ]
     },
     "execution_count": 270,
     "metadata": {},
     "output_type": "execute_result"
    }
   ],
   "source": [
    "dataset.isnull().sum()\n"
   ]
  },
  {
   "cell_type": "code",
   "execution_count": 271,
   "metadata": {},
   "outputs": [
    {
     "data": {
      "text/plain": [
       "ID    813\n",
       "x1    813\n",
       "x2    813\n",
       "dtype: int64"
      ]
     },
     "execution_count": 271,
     "metadata": {},
     "output_type": "execute_result"
    }
   ],
   "source": [
    "dataset.notnull().sum()"
   ]
  },
  {
   "cell_type": "markdown",
   "metadata": {},
   "source": [
    "Discard the first column\n"
   ]
  },
  {
   "cell_type": "code",
   "execution_count": 272,
   "metadata": {},
   "outputs": [
    {
     "data": {
      "text/html": [
       "<div>\n",
       "<style scoped>\n",
       "    .dataframe tbody tr th:only-of-type {\n",
       "        vertical-align: middle;\n",
       "    }\n",
       "\n",
       "    .dataframe tbody tr th {\n",
       "        vertical-align: top;\n",
       "    }\n",
       "\n",
       "    .dataframe thead th {\n",
       "        text-align: right;\n",
       "    }\n",
       "</style>\n",
       "<table border=\"1\" class=\"dataframe\">\n",
       "  <thead>\n",
       "    <tr style=\"text-align: right;\">\n",
       "      <th></th>\n",
       "      <th>x1</th>\n",
       "      <th>x2</th>\n",
       "    </tr>\n",
       "  </thead>\n",
       "  <tbody>\n",
       "    <tr>\n",
       "      <th>0</th>\n",
       "      <td>0.318738</td>\n",
       "      <td>-0.466663</td>\n",
       "    </tr>\n",
       "    <tr>\n",
       "      <th>1</th>\n",
       "      <td>-0.870369</td>\n",
       "      <td>0.309007</td>\n",
       "    </tr>\n",
       "    <tr>\n",
       "      <th>2</th>\n",
       "      <td>0.337106</td>\n",
       "      <td>0.925504</td>\n",
       "    </tr>\n",
       "    <tr>\n",
       "      <th>3</th>\n",
       "      <td>0.801848</td>\n",
       "      <td>0.666790</td>\n",
       "    </tr>\n",
       "    <tr>\n",
       "      <th>4</th>\n",
       "      <td>0.131386</td>\n",
       "      <td>-0.103651</td>\n",
       "    </tr>\n",
       "    <tr>\n",
       "      <th>...</th>\n",
       "      <td>...</td>\n",
       "      <td>...</td>\n",
       "    </tr>\n",
       "    <tr>\n",
       "      <th>808</th>\n",
       "      <td>0.007461</td>\n",
       "      <td>0.655699</td>\n",
       "    </tr>\n",
       "    <tr>\n",
       "      <th>809</th>\n",
       "      <td>2.011653</td>\n",
       "      <td>0.507479</td>\n",
       "    </tr>\n",
       "    <tr>\n",
       "      <th>810</th>\n",
       "      <td>-0.718449</td>\n",
       "      <td>0.583669</td>\n",
       "    </tr>\n",
       "    <tr>\n",
       "      <th>811</th>\n",
       "      <td>-0.859384</td>\n",
       "      <td>0.440414</td>\n",
       "    </tr>\n",
       "    <tr>\n",
       "      <th>812</th>\n",
       "      <td>0.482622</td>\n",
       "      <td>0.861301</td>\n",
       "    </tr>\n",
       "  </tbody>\n",
       "</table>\n",
       "<p>813 rows × 2 columns</p>\n",
       "</div>"
      ],
      "text/plain": [
       "           x1        x2\n",
       "0    0.318738 -0.466663\n",
       "1   -0.870369  0.309007\n",
       "2    0.337106  0.925504\n",
       "3    0.801848  0.666790\n",
       "4    0.131386 -0.103651\n",
       "..        ...       ...\n",
       "808  0.007461  0.655699\n",
       "809  2.011653  0.507479\n",
       "810 -0.718449  0.583669\n",
       "811 -0.859384  0.440414\n",
       "812  0.482622  0.861301\n",
       "\n",
       "[813 rows x 2 columns]"
      ]
     },
     "execution_count": 272,
     "metadata": {},
     "output_type": "execute_result"
    }
   ],
   "source": [
    "# Drop out non necesary columns\n",
    "dataset.drop(['ID'],axis='columns',inplace=True)\n",
    "\n",
    "#Visualize the dataset\n",
    "dataset\n"
   ]
  },
  {
   "cell_type": "markdown",
   "metadata": {},
   "source": [
    "### Questions \n",
    "\n",
    "Based on the previos reults, provide a description of yout dataset\n",
    "\n",
    "Your response:\n",
    "\n",
    "En nuestros resultados podemos notar principalmente que no tenemos uso para la primera columna ya que es un ID y Jupyter Notebook ya nos otorga ese ID, otra cosa que podemos notar es que este dataset no contiene datos nulos, por lo que no tenemos que descartar dichos datos.\n",
    "\n",
    "De ahi en más contamos con 813 datos y 3 columnas de las cuales nos quedan dos despues de descartar el ID, sus valores minimos y maximos se encuentran entre -1.148805 y 2.186580.\n",
    "\n",
    "La media de la primera variable es 0.503519 y la media de la segunda variable es 0.245872\n",
    "La desviación estandar de la primera variable es 0.874761 y la desviación estandar de la segunda variable es 0.508117\n",
    "\n",
    "y por último trabajamos con unidades flotantes en nuestras variables\n"
   ]
  },
  {
   "cell_type": "markdown",
   "metadata": {},
   "source": [
    "# A3 Data visualization"
   ]
  },
  {
   "cell_type": "markdown",
   "metadata": {},
   "source": [
    "Plot in the same figure the histogram of the two first two variables"
   ]
  },
  {
   "cell_type": "code",
   "execution_count": 273,
   "metadata": {},
   "outputs": [
    {
     "name": "stderr",
     "output_type": "stream",
     "text": [
      "C:\\Users\\windw\\anaconda3\\lib\\site-packages\\seaborn\\distributions.py:2557: FutureWarning: `distplot` is a deprecated function and will be removed in a future version. Please adapt your code to use either `displot` (a figure-level function with similar flexibility) or `histplot` (an axes-level function for histograms).\n",
      "  warnings.warn(msg, FutureWarning)\n"
     ]
    },
    {
     "data": {
      "image/png": "[encoded data removed]",
      "text/plain": [
       "<Figure size 432x288 with 1 Axes>"
      ]
     },
     "metadata": {
      "needs_background": "light"
     },
     "output_type": "display_data"
    }
   ],
   "source": [
    "# Plot histogram of both x1 and x2\n",
    "sns.distplot(dataset[\"x1\"], kde = False)\n",
    "dfhist = sns.distplot(dataset[\"x2\"], kde = False)\n",
    "dfhist.set_ylabel(\"Frequency\")\n",
    "dfhist.set_title(\"Histogram of both X1 and X2\")\n",
    "\n",
    "plt.show()\n"
   ]
  },
  {
   "cell_type": "markdown",
   "metadata": {},
   "source": [
    "Based on this two plots, provide a description of your data:\n",
    "\n",
    "Your response here: el x1 tiene valores más esparcidos yendo desde -1.2 hasta 2.2 sin embargo la frecuencia con la que estos valores se repiten es menor que en x2.\n",
    "\n",
    "En x2 sin embargo sus valores estan más concentrados yendo desde -0.6 hasta 1.2, sus valores son menores que x1 sin embargo, la frecuencia con la que se repiten es mayor que en la x1."
   ]
  },
  {
   "cell_type": "markdown",
   "metadata": {},
   "source": [
    "Plot in the same figure the boxplot of the two first two variables "
   ]
  },
  {
   "cell_type": "code",
   "execution_count": 274,
   "metadata": {},
   "outputs": [
    {
     "data": {
      "image/png": "[encoded data removed]",
      "text/plain": [
       "<Figure size 432x288 with 1 Axes>"
      ]
     },
     "metadata": {
      "needs_background": "light"
     },
     "output_type": "display_data"
    }
   ],
   "source": [
    "# Create the boxplots of the \"Wingspan\" and of the \"tips\" amounts\n",
    "BillAndTip = dataset.loc[:, [\"x1\", \"x2\"]]\n",
    "\n",
    "x2bp = sns.boxplot(data=BillAndTip, orient=\"h\")\n",
    "x2bp.set_xlabel(\"Valor\")\n",
    "x2bp.set_title(\"Box plot of the X1 and X2\")\n",
    "\n",
    "plt.show()"
   ]
  },
  {
   "cell_type": "markdown",
   "metadata": {},
   "source": [
    "Scatter plot of the two first variables"
   ]
  },
  {
   "cell_type": "code",
   "execution_count": 275,
   "metadata": {},
   "outputs": [
    {
     "data": {
      "image/png": "[encoded data removed]",
      "text/plain": [
       "<Figure size 432x288 with 1 Axes>"
      ]
     },
     "metadata": {
      "needs_background": "light"
     },
     "output_type": "display_data"
    }
   ],
   "source": [
    "plt.scatter(dataset.x1,dataset.x2)\n",
    "plt.title('X1 vs X2')\n",
    "plt.xlabel('X1')\n",
    "plt.ylabel('X2')\n",
    "plt.show()"
   ]
  },
  {
   "cell_type": "markdown",
   "metadata": {},
   "source": [
    "### Questions \n",
    "\n",
    "Based on the previos plots, provide a description of yout dataset\n",
    "\n",
    "Your response: Los valores en el boxplot se encuentran parecidos en el centro, sin embargo, los valores de X1 alcanzan maximos y minimos mayores que x2.\n",
    "\n",
    "En el boxplot podemos observar una vez más los valores maxímos y minímos así como los intercuartiles desde el 25% hasta el 75% de los valores\n",
    "\n",
    "Por último el scatterplot nos muestra como estan esparcidos los datos que tenemos, lo cual nos servira más adelante para obtener los centroides y los clusters\n",
    "\n"
   ]
  },
  {
   "cell_type": "markdown",
   "metadata": {},
   "source": [
    "# A4 Kmeans"
   ]
  },
  {
   "cell_type": "markdown",
   "metadata": {},
   "source": [
    "Do Kmeans clustering assuming a number of clusters accorgind to your scatter plot"
   ]
  },
  {
   "cell_type": "code",
   "execution_count": 317,
   "metadata": {},
   "outputs": [
    {
     "data": {
      "text/plain": [
       "array([3, 1, 2, 2, 3, 0, 2, 0, 0, 0, 0, 0, 0, 2, 2, 2, 3, 1, 0, 3, 0, 2,\n",
       "       2, 0, 0, 0, 2, 0, 2, 0, 1, 3, 1, 2, 3, 3, 1, 2, 2, 2, 1, 1, 2, 2,\n",
       "       2, 2, 3, 1, 2, 0, 3, 2, 3, 2, 3, 2, 3, 2, 3, 1, 3, 3, 0, 2, 1, 3,\n",
       "       1, 3, 1, 2, 2, 0, 0, 2, 1, 0, 2, 2, 3, 0, 1, 0, 3, 3, 0, 1, 1, 0,\n",
       "       0, 1, 3, 3, 2, 1, 1, 0, 2, 1, 3, 2, 3, 3, 2, 2, 3, 3, 2, 2, 1, 1,\n",
       "       1, 1, 2, 2, 1, 3, 2, 0, 2, 1, 3, 1, 0, 2, 0, 2, 2, 1, 3, 3, 3, 0,\n",
       "       0, 3, 1, 3, 0, 2, 0, 1, 0, 2, 0, 3, 3, 0, 2, 2, 3, 1, 3, 2, 2, 3,\n",
       "       2, 2, 2, 3, 1, 3, 3, 2, 1, 3, 2, 0, 3, 2, 1, 2, 1, 3, 2, 0, 1, 3,\n",
       "       3, 3, 1, 3, 2, 2, 1, 0, 0, 3, 2, 3, 1, 3, 2, 1, 0, 2, 1, 1, 3, 2,\n",
       "       3, 1, 1, 3, 1, 2, 0, 0, 3, 1, 0, 1, 2, 2, 0, 1, 1, 2, 3, 3, 2, 3,\n",
       "       1, 2, 1, 0, 2, 0, 1, 3, 2, 2, 1, 3, 0, 1, 3, 3, 3, 1, 3, 3, 3, 0,\n",
       "       1, 3, 1, 2, 3, 2, 1, 3, 2, 3, 3, 0, 2, 0, 2, 1, 0, 0, 1, 3, 2, 0,\n",
       "       0, 3, 2, 2, 3, 0, 3, 1, 0, 0, 2, 2, 1, 2, 0, 3, 3, 0, 3, 3, 1, 0,\n",
       "       3, 1, 2, 3, 0, 3, 1, 3, 3, 3, 2, 1, 1, 2, 2, 1, 2, 0, 0, 2, 0, 1,\n",
       "       3, 2, 3, 1, 3, 3, 2, 0, 1, 0, 3, 0, 0, 2, 3, 0, 3, 0, 2, 2, 3, 3,\n",
       "       2, 2, 1, 2, 3, 0, 1, 2, 3, 1, 2, 0, 2, 0, 0, 1, 3, 2, 2, 2, 0, 0,\n",
       "       1, 2, 3, 2, 0, 3, 2, 0, 3, 1, 3, 1, 1, 1, 3, 0, 3, 2, 2, 1, 1, 3,\n",
       "       0, 0, 0, 0, 2, 2, 1, 3, 3, 2, 3, 1, 2, 2, 3, 2, 1, 1, 2, 1, 1, 3,\n",
       "       0, 0, 2, 0, 0, 1, 1, 2, 1, 2, 3, 3, 1, 0, 0, 1, 0, 3, 2, 2, 3, 2,\n",
       "       1, 0, 1, 1, 2, 2, 2, 2, 0, 2, 3, 0, 3, 0, 1, 0, 2, 2, 1, 1, 3, 1,\n",
       "       0, 0, 2, 1, 0, 3, 0, 3, 0, 0, 0, 1, 0, 3, 2, 2, 1, 1, 1, 2, 1, 3,\n",
       "       3, 3, 3, 0, 1, 3, 0, 0, 0, 2, 3, 2, 3, 2, 3, 1, 2, 1, 3, 0, 0, 1,\n",
       "       1, 2, 0, 1, 1, 3, 2, 0, 2, 2, 2, 0, 3, 1, 2, 0, 0, 2, 3, 1, 2, 3,\n",
       "       1, 0, 3, 0, 0, 3, 2, 3, 3, 3, 2, 3, 2, 2, 2, 2, 2, 3, 1, 0, 2, 0,\n",
       "       2, 0, 3, 1, 1, 2, 3, 0, 0, 2, 0, 3, 3, 3, 1, 1, 0, 2, 3, 2, 0, 0,\n",
       "       1, 3, 2, 0, 3, 1, 0, 0, 2, 1, 2, 0, 2, 0, 3, 2, 0, 3, 1, 2, 2, 0,\n",
       "       3, 3, 2, 0, 0, 3, 2, 1, 1, 3, 3, 1, 1, 2, 1, 2, 3, 3, 3, 1, 2, 2,\n",
       "       3, 1, 3, 2, 0, 0, 2, 0, 3, 3, 3, 1, 1, 1, 3, 0, 0, 2, 0, 3, 2, 3,\n",
       "       1, 2, 2, 3, 2, 3, 1, 1, 3, 1, 3, 2, 1, 0, 2, 0, 2, 0, 3, 2, 0, 3,\n",
       "       1, 1, 3, 0, 3, 1, 2, 0, 3, 2, 2, 3, 0, 2, 1, 1, 0, 1, 3, 0, 0, 3,\n",
       "       2, 2, 3, 0, 3, 0, 0, 3, 2, 2, 1, 0, 3, 3, 1, 0, 2, 3, 0, 0, 3, 0,\n",
       "       3, 1, 3, 3, 0, 0, 3, 1, 2, 3, 3, 0, 0, 3, 1, 1, 3, 1, 0, 2, 3, 2,\n",
       "       2, 2, 0, 1, 0, 2, 3, 1, 1, 3, 2, 3, 0, 1, 1, 2, 3, 1, 0, 3, 2, 3,\n",
       "       0, 3, 3, 1, 0, 0, 1, 1, 2, 3, 1, 3, 1, 2, 2, 3, 3, 2, 1, 3, 0, 2,\n",
       "       1, 0, 2, 1, 3, 2, 2, 3, 1, 0, 1, 2, 1, 2, 0, 3, 2, 3, 0, 1, 1, 1,\n",
       "       0, 3, 1, 0, 2, 0, 2, 2, 2, 0, 0, 3, 0, 2, 1, 3, 2, 3, 3, 3, 0, 2,\n",
       "       3, 1, 2, 2, 1, 0, 0, 1, 2, 1, 2, 0, 2, 1, 0, 0, 2, 0, 1, 1, 2])"
      ]
     },
     "execution_count": 317,
     "metadata": {},
     "output_type": "execute_result"
    }
   ],
   "source": [
    "# Import sklearn KMeans\n",
    "from sklearn.cluster import KMeans\n",
    "\n",
    "# Define number of clusters\n",
    "km = KMeans(n_clusters=4)\n",
    "\n",
    "# Do K-means clustering (assing each point in the dataset to a cluster)\n",
    "#yp = km.fit_predict(dataset)\n",
    "yp = km.fit_predict(dataset[['x1','x2']])\n",
    "\n",
    "# Print estimated cluster of each point in the dataser\n",
    "yp"
   ]
  },
  {
   "cell_type": "markdown",
   "metadata": {},
   "source": [
    "Add to your dataset a column with the assihned cluster to each data point"
   ]
  },
  {
   "cell_type": "code",
   "execution_count": 318,
   "metadata": {},
   "outputs": [
    {
     "data": {
      "text/html": [
       "<div>\n",
       "<style scoped>\n",
       "    .dataframe tbody tr th:only-of-type {\n",
       "        vertical-align: middle;\n",
       "    }\n",
       "\n",
       "    .dataframe tbody tr th {\n",
       "        vertical-align: top;\n",
       "    }\n",
       "\n",
       "    .dataframe thead th {\n",
       "        text-align: right;\n",
       "    }\n",
       "</style>\n",
       "<table border=\"1\" class=\"dataframe\">\n",
       "  <thead>\n",
       "    <tr style=\"text-align: right;\">\n",
       "      <th></th>\n",
       "      <th>x1</th>\n",
       "      <th>x2</th>\n",
       "      <th>Cluster1</th>\n",
       "      <th>Cluster2</th>\n",
       "    </tr>\n",
       "  </thead>\n",
       "  <tbody>\n",
       "    <tr>\n",
       "      <th>0</th>\n",
       "      <td>0.439992</td>\n",
       "      <td>0.118357</td>\n",
       "      <td>3</td>\n",
       "      <td>2</td>\n",
       "    </tr>\n",
       "    <tr>\n",
       "      <th>1</th>\n",
       "      <td>0.083479</td>\n",
       "      <td>0.525438</td>\n",
       "      <td>1</td>\n",
       "      <td>3</td>\n",
       "    </tr>\n",
       "    <tr>\n",
       "      <th>2</th>\n",
       "      <td>0.445499</td>\n",
       "      <td>0.848983</td>\n",
       "      <td>2</td>\n",
       "      <td>1</td>\n",
       "    </tr>\n",
       "    <tr>\n",
       "      <th>3</th>\n",
       "      <td>0.584836</td>\n",
       "      <td>0.713207</td>\n",
       "      <td>2</td>\n",
       "      <td>1</td>\n",
       "    </tr>\n",
       "    <tr>\n",
       "      <th>4</th>\n",
       "      <td>0.383821</td>\n",
       "      <td>0.308870</td>\n",
       "      <td>3</td>\n",
       "      <td>2</td>\n",
       "    </tr>\n",
       "    <tr>\n",
       "      <th>...</th>\n",
       "      <td>...</td>\n",
       "      <td>...</td>\n",
       "      <td>...</td>\n",
       "      <td>...</td>\n",
       "    </tr>\n",
       "    <tr>\n",
       "      <th>808</th>\n",
       "      <td>0.346667</td>\n",
       "      <td>0.707386</td>\n",
       "      <td>2</td>\n",
       "      <td>1</td>\n",
       "    </tr>\n",
       "    <tr>\n",
       "      <th>809</th>\n",
       "      <td>0.947554</td>\n",
       "      <td>0.629599</td>\n",
       "      <td>0</td>\n",
       "      <td>0</td>\n",
       "    </tr>\n",
       "    <tr>\n",
       "      <th>810</th>\n",
       "      <td>0.129027</td>\n",
       "      <td>0.669584</td>\n",
       "      <td>1</td>\n",
       "      <td>3</td>\n",
       "    </tr>\n",
       "    <tr>\n",
       "      <th>811</th>\n",
       "      <td>0.086773</td>\n",
       "      <td>0.594402</td>\n",
       "      <td>1</td>\n",
       "      <td>3</td>\n",
       "    </tr>\n",
       "    <tr>\n",
       "      <th>812</th>\n",
       "      <td>0.489127</td>\n",
       "      <td>0.815289</td>\n",
       "      <td>2</td>\n",
       "      <td>1</td>\n",
       "    </tr>\n",
       "  </tbody>\n",
       "</table>\n",
       "<p>813 rows × 4 columns</p>\n",
       "</div>"
      ],
      "text/plain": [
       "           x1        x2  Cluster1  Cluster2\n",
       "0    0.439992  0.118357         3         2\n",
       "1    0.083479  0.525438         1         3\n",
       "2    0.445499  0.848983         2         1\n",
       "3    0.584836  0.713207         2         1\n",
       "4    0.383821  0.308870         3         2\n",
       "..        ...       ...       ...       ...\n",
       "808  0.346667  0.707386         2         1\n",
       "809  0.947554  0.629599         0         0\n",
       "810  0.129027  0.669584         1         3\n",
       "811  0.086773  0.594402         1         3\n",
       "812  0.489127  0.815289         2         1\n",
       "\n",
       "[813 rows x 4 columns]"
      ]
     },
     "execution_count": 318,
     "metadata": {},
     "output_type": "execute_result"
    }
   ],
   "source": [
    "# Add a new column to the dataset with the cluster information\n",
    "dataset['Cluster1'] = yp\n",
    "\n",
    "dataset"
   ]
  },
  {
   "cell_type": "markdown",
   "metadata": {},
   "source": [
    "Print the number associated to each cluster"
   ]
  },
  {
   "cell_type": "code",
   "execution_count": 319,
   "metadata": {},
   "outputs": [
    {
     "data": {
      "text/plain": [
       "array([3, 1, 2, 0])"
      ]
     },
     "execution_count": 319,
     "metadata": {},
     "output_type": "execute_result"
    }
   ],
   "source": [
    "dataset.Cluster1.unique()"
   ]
  },
  {
   "cell_type": "markdown",
   "metadata": {},
   "source": [
    "Print the centroids"
   ]
  },
  {
   "cell_type": "code",
   "execution_count": 320,
   "metadata": {},
   "outputs": [
    {
     "data": {
      "text/plain": [
       "array([[0.80169846, 0.44568978],\n",
       "       [0.19298847, 0.53029674],\n",
       "       [0.37599826, 0.82440361],\n",
       "       [0.60407214, 0.15844096]])"
      ]
     },
     "execution_count": 320,
     "metadata": {},
     "output_type": "execute_result"
    }
   ],
   "source": [
    "# ...\n",
    "km.cluster_centers_"
   ]
  },
  {
   "cell_type": "markdown",
   "metadata": {},
   "source": [
    "Print the intertia metric"
   ]
  },
  {
   "cell_type": "code",
   "execution_count": 321,
   "metadata": {},
   "outputs": [
    {
     "data": {
      "text/plain": [
       "23.79986843627871"
      ]
     },
     "execution_count": 321,
     "metadata": {},
     "output_type": "execute_result"
    }
   ],
   "source": [
    "# ...\n",
    "km.inertia_"
   ]
  },
  {
   "cell_type": "markdown",
   "metadata": {},
   "source": [
    "Plot a scatter plot of your data assigned to each cluster. Also plot the centroids"
   ]
  },
  {
   "cell_type": "code",
   "execution_count": 323,
   "metadata": {},
   "outputs": [
    {
     "name": "stderr",
     "output_type": "stream",
     "text": [
      "<ipython-input-323-b8b741ac4480>:6: MatplotlibDeprecationWarning: Case-insensitive properties were deprecated in 3.3 and support will be removed two minor releases later\n",
      "  plt.scatter(df1.x1, df1.x2, Label='Estimated Group 1')\n",
      "<ipython-input-323-b8b741ac4480>:7: MatplotlibDeprecationWarning: Case-insensitive properties were deprecated in 3.3 and support will be removed two minor releases later\n",
      "  plt.scatter(df2.x1, df2.x2, Label='Estimated Group 2')\n",
      "<ipython-input-323-b8b741ac4480>:8: MatplotlibDeprecationWarning: Case-insensitive properties were deprecated in 3.3 and support will be removed two minor releases later\n",
      "  plt.scatter(df3.x1, df3.x2, Label='Estimated Group 2')\n",
      "<ipython-input-323-b8b741ac4480>:9: MatplotlibDeprecationWarning: Case-insensitive properties were deprecated in 3.3 and support will be removed two minor releases later\n",
      "  plt.scatter(df4.x1, df4.x2, Label='Estimated Group 2')\n"
     ]
    },
    {
     "data": {
      "image/png": "[encoded data removed]",
      "text/plain": [
       "<Figure size 432x288 with 1 Axes>"
      ]
     },
     "metadata": {
      "needs_background": "light"
     },
     "output_type": "display_data"
    }
   ],
   "source": [
    "df1 = dataset[dataset.Cluster1==0]\n",
    "df2 = dataset[dataset.Cluster1==1]\n",
    "df3 = dataset[dataset.Cluster1==2]\n",
    "df4 = dataset[dataset.Cluster1==3]\n",
    "\n",
    "plt.scatter(df1.x1, df1.x2, Label='Estimated Group 1')\n",
    "plt.scatter(df2.x1, df2.x2, Label='Estimated Group 2')\n",
    "plt.scatter(df3.x1, df3.x2, Label='Estimated Group 2')\n",
    "plt.scatter(df4.x1, df4.x2, Label='Estimated Group 2')\n",
    "\n",
    "plt.scatter(km.cluster_centers_[:,0], km.cluster_centers_[:,1], color='magenta', marker='*', label='Centroides', s=256)\n",
    "\n",
    "plt.title('X1 vs X2')\n",
    "plt.xlabel('X1')\n",
    "plt.ylabel('X2')\n",
    "plt.legend()\n",
    "plt.show()"
   ]
  },
  {
   "cell_type": "markdown",
   "metadata": {},
   "source": [
    "### Questions \n",
    "\n",
    "Provides a detailed description of your results\n",
    "\n",
    "Your response: Trabaje con 2 clusters, dividiendo mis datos en dos grupos colocando las estrellas en un centro cualquiera donde se empezaran a verificar las distancias de los puntos que trabajemos.\n",
    "\n",
    "Como podemos ver se dividio a la mitad poniendo los centroides en el centro de cada mitad, tambien la inercia que tenemos aquí es muy alta por lo que sabemos que podemos reducir esta inercia con más clusters, por lo que podemos utilizar hasta 4 clusters y reducir la inercia a la mitad, sin embargo, el elbow plot nos marca que el punto de inflexión más importante es de 2 clusters que fue mi analisis inicial"
   ]
  },
  {
   "cell_type": "markdown",
   "metadata": {},
   "source": [
    "# A4 Elbow plot\n",
    "\n",
    "Compute the Elbow plot"
   ]
  },
  {
   "cell_type": "code",
   "execution_count": 324,
   "metadata": {},
   "outputs": [
    {
     "name": "stderr",
     "output_type": "stream",
     "text": [
      "C:\\Users\\windw\\anaconda3\\lib\\site-packages\\sklearn\\cluster\\_kmeans.py:881: UserWarning: KMeans is known to have a memory leak on Windows with MKL, when there are less chunks than available threads. You can avoid it by setting the environment variable OMP_NUM_THREADS=4.\n",
      "  warnings.warn(\n"
     ]
    }
   ],
   "source": [
    "sse = []\n",
    "k_rng = range(1,10)\n",
    "for k in k_rng:\n",
    "    km = KMeans(n_clusters=k)\n",
    "    km.fit_predict(dataset[['x1','x2']])\n",
    "    sse.append(km.inertia_)"
   ]
  },
  {
   "cell_type": "code",
   "execution_count": 325,
   "metadata": {},
   "outputs": [
    {
     "data": {
      "image/png": "[encoded data removed]",
      "text/plain": [
       "<Figure size 432x288 with 1 Axes>"
      ]
     },
     "metadata": {
      "needs_background": "light"
     },
     "output_type": "display_data"
    }
   ],
   "source": [
    "plt.plot(k_rng,sse)\n",
    "\n",
    "plt.title('Elbow plot')\n",
    "plt.xlabel('K')\n",
    "plt.ylabel('Sum of squared error')\n",
    "plt.show()"
   ]
  },
  {
   "cell_type": "markdown",
   "metadata": {},
   "source": [
    "### Questions \n",
    "\n",
    "What is the best number of clusters K? (argue your response)\n",
    "\n",
    "Your response: 2, porque el punto de inflexión más grande se encuentra en 2 K, comprobando que el número de clusters que utilicé era el correcto\n",
    "\n",
    "\n",
    "Does this number of clusters agree with your inital guess? (argue your response)\n",
    "\n",
    "Your response: Si esta acorde a mi número inicial, ya que el punto de inflexión es mayor en 2 como lo predije anteriormente.\n",
    "\n"
   ]
  },
  {
   "cell_type": "markdown",
   "metadata": {},
   "source": [
    "# A4 Normalizing the data: preprocessing using min max scaler\n"
   ]
  },
  {
   "cell_type": "markdown",
   "metadata": {},
   "source": [
    "Normalize the data using min max scaler"
   ]
  },
  {
   "cell_type": "code",
   "execution_count": 326,
   "metadata": {},
   "outputs": [
    {
     "data": {
      "text/html": [
       "<div>\n",
       "<style scoped>\n",
       "    .dataframe tbody tr th:only-of-type {\n",
       "        vertical-align: middle;\n",
       "    }\n",
       "\n",
       "    .dataframe tbody tr th {\n",
       "        vertical-align: top;\n",
       "    }\n",
       "\n",
       "    .dataframe thead th {\n",
       "        text-align: right;\n",
       "    }\n",
       "</style>\n",
       "<table border=\"1\" class=\"dataframe\">\n",
       "  <thead>\n",
       "    <tr style=\"text-align: right;\">\n",
       "      <th></th>\n",
       "      <th>x1</th>\n",
       "      <th>x2</th>\n",
       "      <th>Cluster1</th>\n",
       "      <th>Cluster2</th>\n",
       "    </tr>\n",
       "  </thead>\n",
       "  <tbody>\n",
       "    <tr>\n",
       "      <th>0</th>\n",
       "      <td>0.439992</td>\n",
       "      <td>0.118357</td>\n",
       "      <td>3</td>\n",
       "      <td>2</td>\n",
       "    </tr>\n",
       "    <tr>\n",
       "      <th>1</th>\n",
       "      <td>0.083479</td>\n",
       "      <td>0.525438</td>\n",
       "      <td>1</td>\n",
       "      <td>3</td>\n",
       "    </tr>\n",
       "    <tr>\n",
       "      <th>2</th>\n",
       "      <td>0.445499</td>\n",
       "      <td>0.848983</td>\n",
       "      <td>2</td>\n",
       "      <td>1</td>\n",
       "    </tr>\n",
       "    <tr>\n",
       "      <th>3</th>\n",
       "      <td>0.584836</td>\n",
       "      <td>0.713207</td>\n",
       "      <td>2</td>\n",
       "      <td>1</td>\n",
       "    </tr>\n",
       "    <tr>\n",
       "      <th>4</th>\n",
       "      <td>0.383821</td>\n",
       "      <td>0.308870</td>\n",
       "      <td>3</td>\n",
       "      <td>2</td>\n",
       "    </tr>\n",
       "    <tr>\n",
       "      <th>...</th>\n",
       "      <td>...</td>\n",
       "      <td>...</td>\n",
       "      <td>...</td>\n",
       "      <td>...</td>\n",
       "    </tr>\n",
       "    <tr>\n",
       "      <th>808</th>\n",
       "      <td>0.346667</td>\n",
       "      <td>0.707386</td>\n",
       "      <td>2</td>\n",
       "      <td>1</td>\n",
       "    </tr>\n",
       "    <tr>\n",
       "      <th>809</th>\n",
       "      <td>0.947554</td>\n",
       "      <td>0.629599</td>\n",
       "      <td>0</td>\n",
       "      <td>0</td>\n",
       "    </tr>\n",
       "    <tr>\n",
       "      <th>810</th>\n",
       "      <td>0.129027</td>\n",
       "      <td>0.669584</td>\n",
       "      <td>1</td>\n",
       "      <td>3</td>\n",
       "    </tr>\n",
       "    <tr>\n",
       "      <th>811</th>\n",
       "      <td>0.086773</td>\n",
       "      <td>0.594402</td>\n",
       "      <td>1</td>\n",
       "      <td>3</td>\n",
       "    </tr>\n",
       "    <tr>\n",
       "      <th>812</th>\n",
       "      <td>0.489127</td>\n",
       "      <td>0.815289</td>\n",
       "      <td>2</td>\n",
       "      <td>1</td>\n",
       "    </tr>\n",
       "  </tbody>\n",
       "</table>\n",
       "<p>813 rows × 4 columns</p>\n",
       "</div>"
      ],
      "text/plain": [
       "           x1        x2  Cluster1  Cluster2\n",
       "0    0.439992  0.118357         3         2\n",
       "1    0.083479  0.525438         1         3\n",
       "2    0.445499  0.848983         2         1\n",
       "3    0.584836  0.713207         2         1\n",
       "4    0.383821  0.308870         3         2\n",
       "..        ...       ...       ...       ...\n",
       "808  0.346667  0.707386         2         1\n",
       "809  0.947554  0.629599         0         0\n",
       "810  0.129027  0.669584         1         3\n",
       "811  0.086773  0.594402         1         3\n",
       "812  0.489127  0.815289         2         1\n",
       "\n",
       "[813 rows x 4 columns]"
      ]
     },
     "execution_count": 326,
     "metadata": {},
     "output_type": "execute_result"
    }
   ],
   "source": [
    "from sklearn.preprocessing import MinMaxScaler\n",
    "\n",
    "scaler = MinMaxScaler()\n",
    "\n",
    "scaler.fit(dataset[['x1']])\n",
    "dataset['x1'] = scaler.transform(dataset[['x1']])\n",
    "\n",
    "scaler.fit(dataset[['x2']])\n",
    "dataset['x2'] = scaler.transform(dataset[['x2']])\n",
    "\n",
    "dataset"
   ]
  },
  {
   "cell_type": "markdown",
   "metadata": {},
   "source": [
    "Print a statistical summary of your columns (normalized data)"
   ]
  },
  {
   "cell_type": "code",
   "execution_count": 327,
   "metadata": {},
   "outputs": [
    {
     "data": {
      "text/html": [
       "<div>\n",
       "<style scoped>\n",
       "    .dataframe tbody tr th:only-of-type {\n",
       "        vertical-align: middle;\n",
       "    }\n",
       "\n",
       "    .dataframe tbody tr th {\n",
       "        vertical-align: top;\n",
       "    }\n",
       "\n",
       "    .dataframe thead th {\n",
       "        text-align: right;\n",
       "    }\n",
       "</style>\n",
       "<table border=\"1\" class=\"dataframe\">\n",
       "  <thead>\n",
       "    <tr style=\"text-align: right;\">\n",
       "      <th></th>\n",
       "      <th>x1</th>\n",
       "      <th>x2</th>\n",
       "      <th>Cluster1</th>\n",
       "      <th>Cluster2</th>\n",
       "    </tr>\n",
       "  </thead>\n",
       "  <tbody>\n",
       "    <tr>\n",
       "      <th>count</th>\n",
       "      <td>813.000000</td>\n",
       "      <td>813.000000</td>\n",
       "      <td>813.000000</td>\n",
       "      <td>813.000000</td>\n",
       "    </tr>\n",
       "    <tr>\n",
       "      <th>mean</th>\n",
       "      <td>0.495392</td>\n",
       "      <td>0.492304</td>\n",
       "      <td>1.579336</td>\n",
       "      <td>1.483395</td>\n",
       "    </tr>\n",
       "    <tr>\n",
       "      <th>std</th>\n",
       "      <td>0.262267</td>\n",
       "      <td>0.266666</td>\n",
       "      <td>1.116454</td>\n",
       "      <td>1.078807</td>\n",
       "    </tr>\n",
       "    <tr>\n",
       "      <th>min</th>\n",
       "      <td>0.000000</td>\n",
       "      <td>0.000000</td>\n",
       "      <td>0.000000</td>\n",
       "      <td>0.000000</td>\n",
       "    </tr>\n",
       "    <tr>\n",
       "      <th>25%</th>\n",
       "      <td>0.318652</td>\n",
       "      <td>0.248072</td>\n",
       "      <td>1.000000</td>\n",
       "      <td>1.000000</td>\n",
       "    </tr>\n",
       "    <tr>\n",
       "      <th>50%</th>\n",
       "      <td>0.497165</td>\n",
       "      <td>0.485919</td>\n",
       "      <td>2.000000</td>\n",
       "      <td>1.000000</td>\n",
       "    </tr>\n",
       "    <tr>\n",
       "      <th>75%</th>\n",
       "      <td>0.672411</td>\n",
       "      <td>0.727296</td>\n",
       "      <td>3.000000</td>\n",
       "      <td>2.000000</td>\n",
       "    </tr>\n",
       "    <tr>\n",
       "      <th>max</th>\n",
       "      <td>1.000000</td>\n",
       "      <td>1.000000</td>\n",
       "      <td>3.000000</td>\n",
       "      <td>3.000000</td>\n",
       "    </tr>\n",
       "  </tbody>\n",
       "</table>\n",
       "</div>"
      ],
      "text/plain": [
       "               x1          x2    Cluster1    Cluster2\n",
       "count  813.000000  813.000000  813.000000  813.000000\n",
       "mean     0.495392    0.492304    1.579336    1.483395\n",
       "std      0.262267    0.266666    1.116454    1.078807\n",
       "min      0.000000    0.000000    0.000000    0.000000\n",
       "25%      0.318652    0.248072    1.000000    1.000000\n",
       "50%      0.497165    0.485919    2.000000    1.000000\n",
       "75%      0.672411    0.727296    3.000000    2.000000\n",
       "max      1.000000    1.000000    3.000000    3.000000"
      ]
     },
     "execution_count": 327,
     "metadata": {},
     "output_type": "execute_result"
    }
   ],
   "source": [
    "dataset.describe()"
   ]
  },
  {
   "cell_type": "code",
   "execution_count": 328,
   "metadata": {},
   "outputs": [],
   "source": [
    "# 1) What is the minumum and maximum values of each variable\n",
    "\n",
    "# El minimo de la primera variable es 0 y el minimo de la segunda variable es 0\n",
    "# El maximo de la primera variable es 1 y el maximo de la segunda variable es 1\n",
    "\n",
    "# 2) What is the mean and standar deviation of each variable\n",
    "\n",
    "# La media de la primera variable es 0.495392 y la media de la segunda variable es 0.492304\n",
    "# La desviación estandar de la primera variable es 0.262267 y la desviación estandar de la segunda variable es 0.266666\n",
    "\n",
    "# 3) What the 25%, 50% and 75% represent?\n",
    "\n",
    "# En la primera variable el 25% representa 0.318652 y en la segunda variable 0.248072\n",
    "# En la primera variable el 50% representa 0.497165 y en la segunda variable 0.485919\n",
    "# En la primera variable el 75% representa 0.672411 y en la segunda variable 0.727296\n",
    "\n",
    "# En general representan el porcentaje asociado con el minimo y el maximo de los datos obtenidos o otra forma de verlo\n",
    "# representan tambíen los cuartiles de los datos que tenemos\n",
    "#Los cuartiles son valores que dividen una muestra de datos en cuatro partes iguales. \n",
    "#Utilizando cuartiles puede evaluar rápidamente la dispersión y la tendencia central de un conjunto de datos,\n",
    "\n",
    "# 4) Are the minimum and maximum values equal to your original data?\n",
    "\n",
    "# No son iguales, porque al momento de escalar los datos estos se vuelven 0 y 1 respectivamente"
   ]
  },
  {
   "cell_type": "markdown",
   "metadata": {},
   "source": [
    "Plot the scatter plot of your normalizaed data"
   ]
  },
  {
   "cell_type": "code",
   "execution_count": 329,
   "metadata": {},
   "outputs": [
    {
     "data": {
      "image/png": "[encoded data removed]",
      "text/plain": [
       "<Figure size 432x288 with 1 Axes>"
      ]
     },
     "metadata": {
      "needs_background": "light"
     },
     "output_type": "display_data"
    }
   ],
   "source": [
    "plt.scatter(dataset.x1,dataset.x2)\n",
    "plt.title('X1 vs X2')\n",
    "plt.xlabel('X1')\n",
    "plt.ylabel('X2')\n",
    "plt.show()"
   ]
  },
  {
   "cell_type": "markdown",
   "metadata": {},
   "source": [
    "Do Kmeans clustering assuming a number of clusters accorgind to your scatter plot"
   ]
  },
  {
   "cell_type": "code",
   "execution_count": 330,
   "metadata": {},
   "outputs": [
    {
     "data": {
      "text/plain": [
       "array([1, 0, 2, 2, 1, 3, 2, 3, 3, 3, 3, 3, 3, 2, 2, 2, 1, 0, 3, 1, 3, 2,\n",
       "       2, 3, 3, 3, 2, 3, 2, 3, 0, 1, 0, 2, 1, 1, 0, 2, 2, 2, 0, 0, 2, 2,\n",
       "       2, 2, 1, 0, 2, 3, 1, 2, 1, 2, 1, 2, 1, 2, 1, 0, 1, 1, 3, 2, 0, 1,\n",
       "       0, 1, 0, 2, 2, 3, 3, 2, 0, 3, 2, 2, 1, 3, 0, 3, 1, 1, 3, 0, 0, 3,\n",
       "       3, 0, 1, 1, 2, 0, 0, 3, 2, 0, 1, 2, 1, 1, 2, 2, 1, 1, 2, 2, 0, 0,\n",
       "       0, 0, 2, 2, 0, 1, 2, 3, 2, 0, 1, 0, 3, 2, 3, 2, 2, 0, 1, 1, 1, 3,\n",
       "       3, 1, 0, 1, 3, 2, 3, 0, 3, 2, 3, 1, 1, 3, 2, 2, 1, 0, 1, 2, 2, 1,\n",
       "       2, 2, 2, 1, 0, 1, 1, 2, 0, 1, 2, 3, 1, 2, 0, 2, 0, 1, 2, 3, 0, 1,\n",
       "       1, 1, 0, 1, 2, 2, 0, 3, 3, 1, 2, 1, 0, 1, 2, 0, 3, 2, 0, 0, 1, 2,\n",
       "       1, 0, 0, 1, 0, 2, 3, 3, 1, 0, 3, 0, 2, 2, 3, 0, 0, 2, 1, 1, 2, 1,\n",
       "       0, 2, 0, 3, 2, 3, 0, 1, 2, 2, 0, 1, 3, 0, 1, 1, 1, 0, 1, 1, 1, 3,\n",
       "       0, 1, 0, 2, 1, 2, 0, 1, 2, 1, 1, 3, 2, 3, 2, 0, 3, 3, 0, 1, 2, 3,\n",
       "       3, 1, 2, 2, 1, 3, 1, 0, 3, 3, 2, 2, 0, 2, 3, 1, 1, 3, 1, 1, 0, 3,\n",
       "       1, 0, 2, 1, 3, 1, 0, 1, 1, 1, 2, 0, 0, 2, 2, 0, 2, 3, 3, 2, 3, 0,\n",
       "       1, 2, 1, 0, 1, 1, 2, 3, 0, 3, 1, 3, 3, 2, 1, 3, 1, 3, 2, 2, 1, 1,\n",
       "       2, 2, 0, 2, 1, 3, 0, 2, 1, 0, 2, 3, 2, 3, 3, 0, 1, 2, 2, 2, 3, 3,\n",
       "       0, 2, 1, 2, 3, 1, 2, 3, 1, 0, 1, 0, 0, 0, 1, 3, 1, 2, 2, 0, 0, 1,\n",
       "       3, 3, 3, 3, 2, 2, 0, 1, 1, 2, 1, 0, 2, 2, 1, 2, 0, 0, 2, 0, 0, 1,\n",
       "       3, 3, 2, 3, 3, 0, 0, 2, 0, 2, 1, 1, 0, 3, 3, 0, 3, 1, 2, 2, 1, 2,\n",
       "       0, 3, 0, 0, 2, 2, 2, 2, 3, 2, 1, 3, 1, 3, 0, 3, 2, 2, 0, 0, 1, 0,\n",
       "       3, 3, 2, 0, 3, 1, 3, 1, 3, 3, 3, 0, 3, 1, 2, 2, 0, 0, 0, 2, 0, 1,\n",
       "       1, 1, 1, 3, 0, 1, 3, 3, 3, 2, 1, 2, 1, 2, 1, 0, 2, 0, 1, 3, 3, 0,\n",
       "       0, 2, 3, 0, 0, 1, 2, 3, 2, 2, 2, 3, 1, 0, 2, 3, 3, 2, 1, 0, 2, 1,\n",
       "       0, 3, 1, 3, 3, 1, 2, 1, 1, 1, 2, 1, 2, 2, 2, 2, 2, 1, 0, 3, 2, 3,\n",
       "       2, 3, 1, 0, 0, 2, 1, 3, 3, 2, 3, 1, 1, 1, 0, 0, 3, 2, 1, 2, 3, 3,\n",
       "       0, 1, 2, 3, 1, 0, 3, 3, 2, 0, 2, 3, 2, 3, 1, 2, 3, 1, 0, 2, 2, 3,\n",
       "       1, 1, 2, 3, 3, 1, 2, 0, 0, 1, 1, 0, 0, 2, 0, 2, 1, 1, 1, 0, 2, 2,\n",
       "       1, 0, 1, 2, 3, 3, 2, 3, 1, 1, 1, 0, 0, 0, 1, 3, 3, 2, 3, 1, 2, 1,\n",
       "       0, 2, 2, 1, 2, 1, 0, 0, 1, 0, 1, 2, 0, 3, 2, 3, 2, 3, 1, 2, 3, 1,\n",
       "       0, 0, 1, 3, 1, 0, 2, 3, 1, 2, 2, 1, 3, 2, 0, 0, 3, 0, 1, 3, 3, 1,\n",
       "       2, 2, 1, 3, 1, 3, 3, 1, 2, 2, 0, 3, 1, 1, 0, 3, 2, 1, 3, 3, 1, 3,\n",
       "       1, 0, 1, 1, 3, 3, 1, 0, 2, 1, 1, 3, 3, 1, 0, 0, 1, 0, 3, 2, 1, 2,\n",
       "       2, 2, 3, 0, 3, 2, 1, 0, 0, 1, 2, 1, 3, 0, 0, 2, 1, 0, 3, 1, 2, 1,\n",
       "       3, 1, 1, 0, 3, 3, 0, 0, 2, 1, 0, 1, 0, 2, 2, 1, 1, 2, 0, 1, 3, 2,\n",
       "       0, 3, 2, 0, 1, 2, 2, 1, 0, 3, 0, 2, 0, 2, 3, 1, 2, 1, 3, 0, 0, 0,\n",
       "       3, 1, 0, 3, 2, 3, 2, 2, 2, 3, 3, 1, 3, 2, 0, 1, 2, 1, 1, 1, 3, 2,\n",
       "       1, 0, 2, 2, 0, 3, 3, 0, 2, 0, 2, 3, 2, 0, 3, 3, 2, 3, 0, 0, 2])"
      ]
     },
     "execution_count": 330,
     "metadata": {},
     "output_type": "execute_result"
    }
   ],
   "source": [
    "# Initialize model and define number of clusters\n",
    "km = KMeans(n_clusters=4)\n",
    "\n",
    "# Do K-means clustering (assing each point in the dataset to a cluster)\n",
    "#yp = km.fit_predict(dataset)\n",
    "yp = km.fit_predict(dataset[['x1','x2']])\n",
    "\n",
    "# Print estimated cluster of each point in the dataser\n",
    "yp"
   ]
  },
  {
   "cell_type": "markdown",
   "metadata": {},
   "source": [
    "Add to your dataset a column with the assihned cluster to each data point"
   ]
  },
  {
   "cell_type": "code",
   "execution_count": 331,
   "metadata": {},
   "outputs": [
    {
     "data": {
      "text/html": [
       "<div>\n",
       "<style scoped>\n",
       "    .dataframe tbody tr th:only-of-type {\n",
       "        vertical-align: middle;\n",
       "    }\n",
       "\n",
       "    .dataframe tbody tr th {\n",
       "        vertical-align: top;\n",
       "    }\n",
       "\n",
       "    .dataframe thead th {\n",
       "        text-align: right;\n",
       "    }\n",
       "</style>\n",
       "<table border=\"1\" class=\"dataframe\">\n",
       "  <thead>\n",
       "    <tr style=\"text-align: right;\">\n",
       "      <th></th>\n",
       "      <th>x1</th>\n",
       "      <th>x2</th>\n",
       "      <th>Cluster1</th>\n",
       "      <th>Cluster2</th>\n",
       "    </tr>\n",
       "  </thead>\n",
       "  <tbody>\n",
       "    <tr>\n",
       "      <th>0</th>\n",
       "      <td>0.439992</td>\n",
       "      <td>0.118357</td>\n",
       "      <td>3</td>\n",
       "      <td>1</td>\n",
       "    </tr>\n",
       "    <tr>\n",
       "      <th>1</th>\n",
       "      <td>0.083479</td>\n",
       "      <td>0.525438</td>\n",
       "      <td>1</td>\n",
       "      <td>0</td>\n",
       "    </tr>\n",
       "    <tr>\n",
       "      <th>2</th>\n",
       "      <td>0.445499</td>\n",
       "      <td>0.848983</td>\n",
       "      <td>2</td>\n",
       "      <td>2</td>\n",
       "    </tr>\n",
       "    <tr>\n",
       "      <th>3</th>\n",
       "      <td>0.584836</td>\n",
       "      <td>0.713207</td>\n",
       "      <td>2</td>\n",
       "      <td>2</td>\n",
       "    </tr>\n",
       "    <tr>\n",
       "      <th>4</th>\n",
       "      <td>0.383821</td>\n",
       "      <td>0.308870</td>\n",
       "      <td>3</td>\n",
       "      <td>1</td>\n",
       "    </tr>\n",
       "    <tr>\n",
       "      <th>...</th>\n",
       "      <td>...</td>\n",
       "      <td>...</td>\n",
       "      <td>...</td>\n",
       "      <td>...</td>\n",
       "    </tr>\n",
       "    <tr>\n",
       "      <th>808</th>\n",
       "      <td>0.346667</td>\n",
       "      <td>0.707386</td>\n",
       "      <td>2</td>\n",
       "      <td>2</td>\n",
       "    </tr>\n",
       "    <tr>\n",
       "      <th>809</th>\n",
       "      <td>0.947554</td>\n",
       "      <td>0.629599</td>\n",
       "      <td>0</td>\n",
       "      <td>3</td>\n",
       "    </tr>\n",
       "    <tr>\n",
       "      <th>810</th>\n",
       "      <td>0.129027</td>\n",
       "      <td>0.669584</td>\n",
       "      <td>1</td>\n",
       "      <td>0</td>\n",
       "    </tr>\n",
       "    <tr>\n",
       "      <th>811</th>\n",
       "      <td>0.086773</td>\n",
       "      <td>0.594402</td>\n",
       "      <td>1</td>\n",
       "      <td>0</td>\n",
       "    </tr>\n",
       "    <tr>\n",
       "      <th>812</th>\n",
       "      <td>0.489127</td>\n",
       "      <td>0.815289</td>\n",
       "      <td>2</td>\n",
       "      <td>2</td>\n",
       "    </tr>\n",
       "  </tbody>\n",
       "</table>\n",
       "<p>813 rows × 4 columns</p>\n",
       "</div>"
      ],
      "text/plain": [
       "           x1        x2  Cluster1  Cluster2\n",
       "0    0.439992  0.118357         3         1\n",
       "1    0.083479  0.525438         1         0\n",
       "2    0.445499  0.848983         2         2\n",
       "3    0.584836  0.713207         2         2\n",
       "4    0.383821  0.308870         3         1\n",
       "..        ...       ...       ...       ...\n",
       "808  0.346667  0.707386         2         2\n",
       "809  0.947554  0.629599         0         3\n",
       "810  0.129027  0.669584         1         0\n",
       "811  0.086773  0.594402         1         0\n",
       "812  0.489127  0.815289         2         2\n",
       "\n",
       "[813 rows x 4 columns]"
      ]
     },
     "execution_count": 331,
     "metadata": {},
     "output_type": "execute_result"
    }
   ],
   "source": [
    "# Add a new column to the dataset with the cluster information\n",
    "dataset['Cluster2'] = yp\n",
    "\n",
    "dataset"
   ]
  },
  {
   "cell_type": "markdown",
   "metadata": {},
   "source": [
    "Print the centroids"
   ]
  },
  {
   "cell_type": "code",
   "execution_count": 332,
   "metadata": {},
   "outputs": [
    {
     "data": {
      "text/plain": [
       "array([[0.19298847, 0.53029674],\n",
       "       [0.60513873, 0.15867584],\n",
       "       [0.37599826, 0.82440361],\n",
       "       [0.80151384, 0.4469387 ]])"
      ]
     },
     "execution_count": 332,
     "metadata": {},
     "output_type": "execute_result"
    }
   ],
   "source": [
    "# ...\n",
    "km.cluster_centers_"
   ]
  },
  {
   "cell_type": "markdown",
   "metadata": {},
   "source": [
    "Print the intetia metric"
   ]
  },
  {
   "cell_type": "code",
   "execution_count": 333,
   "metadata": {},
   "outputs": [
    {
     "data": {
      "text/plain": [
       "23.79930716496439"
      ]
     },
     "execution_count": 333,
     "metadata": {},
     "output_type": "execute_result"
    }
   ],
   "source": [
    "# ...\n",
    "km.inertia_"
   ]
  },
  {
   "cell_type": "markdown",
   "metadata": {},
   "source": [
    "Plot a scatter plot of your data assigned to each cluster. Also plot the centroids"
   ]
  },
  {
   "cell_type": "code",
   "execution_count": 334,
   "metadata": {},
   "outputs": [
    {
     "name": "stderr",
     "output_type": "stream",
     "text": [
      "<ipython-input-334-b8b741ac4480>:6: MatplotlibDeprecationWarning: Case-insensitive properties were deprecated in 3.3 and support will be removed two minor releases later\n",
      "  plt.scatter(df1.x1, df1.x2, Label='Estimated Group 1')\n",
      "<ipython-input-334-b8b741ac4480>:7: MatplotlibDeprecationWarning: Case-insensitive properties were deprecated in 3.3 and support will be removed two minor releases later\n",
      "  plt.scatter(df2.x1, df2.x2, Label='Estimated Group 2')\n",
      "<ipython-input-334-b8b741ac4480>:8: MatplotlibDeprecationWarning: Case-insensitive properties were deprecated in 3.3 and support will be removed two minor releases later\n",
      "  plt.scatter(df3.x1, df3.x2, Label='Estimated Group 2')\n",
      "<ipython-input-334-b8b741ac4480>:9: MatplotlibDeprecationWarning: Case-insensitive properties were deprecated in 3.3 and support will be removed two minor releases later\n",
      "  plt.scatter(df4.x1, df4.x2, Label='Estimated Group 2')\n"
     ]
    },
    {
     "data": {
      "image/png": "[encoded data removed]",
      "text/plain": [
       "<Figure size 432x288 with 1 Axes>"
      ]
     },
     "metadata": {
      "needs_background": "light"
     },
     "output_type": "display_data"
    }
   ],
   "source": [
    "df1 = dataset[dataset.Cluster1==0]\n",
    "df2 = dataset[dataset.Cluster1==1]\n",
    "df3 = dataset[dataset.Cluster1==2]\n",
    "df4 = dataset[dataset.Cluster1==3]\n",
    "\n",
    "plt.scatter(df1.x1, df1.x2, Label='Estimated Group 1')\n",
    "plt.scatter(df2.x1, df2.x2, Label='Estimated Group 2')\n",
    "plt.scatter(df3.x1, df3.x2, Label='Estimated Group 2')\n",
    "plt.scatter(df4.x1, df4.x2, Label='Estimated Group 2')\n",
    "\n",
    "plt.scatter(km.cluster_centers_[:,0], km.cluster_centers_[:,1], color='magenta', marker='*', label='Centroides', s=256)\n",
    "\n",
    "plt.title('X1 vs X2')\n",
    "plt.xlabel('X1')\n",
    "plt.ylabel('X2')\n",
    "plt.legend()\n",
    "plt.show()"
   ]
  },
  {
   "cell_type": "markdown",
   "metadata": {},
   "source": [
    "### Questions \n",
    "\n",
    "Provides a detailed description of your results. Does the normalization improves the clustering?\n",
    "\n",
    "Your response: La normalización si ayuda al clustering porque converge mejor con los algortimos, ya que trabajamos con valores minímos desde 0 hasta un maxímo de 1, lo cual no siempre ayuda pero al menos no lastima a los algoritmos."
   ]
  },
  {
   "cell_type": "markdown",
   "metadata": {},
   "source": [
    "# BONUS"
   ]
  },
  {
   "cell_type": "markdown",
   "metadata": {},
   "source": [
    "1) Generate some data using the \"make_blobs\" function from \"sklearn.datasets\"\n",
    "\n",
    "- The number of observations is equal to the three last digits in your ID\n",
    "\n",
    "- 2 variables\n",
    "\n",
    "- 4 clusters\n",
    "\n",
    "- Standar deviation of each cluster of 1.5\n",
    "\n"
   ]
  },
  {
   "cell_type": "code",
   "execution_count": null,
   "metadata": {},
   "outputs": [],
   "source": []
  },
  {
   "cell_type": "markdown",
   "metadata": {},
   "source": [
    "2) Plot the scatter plot of your data using the real cluster labels"
   ]
  },
  {
   "cell_type": "code",
   "execution_count": null,
   "metadata": {},
   "outputs": [],
   "source": []
  },
  {
   "cell_type": "markdown",
   "metadata": {},
   "source": [
    "3) Do K means clustering "
   ]
  },
  {
   "cell_type": "code",
   "execution_count": null,
   "metadata": {},
   "outputs": [],
   "source": []
  },
  {
   "cell_type": "markdown",
   "metadata": {},
   "source": [
    "4) Plot the scatter plot of your data using the estimated cluster labels"
   ]
  },
  {
   "cell_type": "code",
   "execution_count": null,
   "metadata": {},
   "outputs": [],
   "source": []
  },
  {
   "cell_type": "markdown",
   "metadata": {},
   "source": [
    "### Questions \n",
    "\n",
    "Provides a detailed description of your results.\n",
    "\n",
    "Your response:"
   ]
  },
  {
   "cell_type": "markdown",
   "metadata": {},
   "source": [
    "# Descipcion de tu percepcion del nivel de desarrollo de la subcompetencia \n",
    "\n",
    "### SING0202A Interpretación de variables\n"
   ]
  },
  {
   "cell_type": "markdown",
   "metadata": {},
   "source": [
    "Escribe tu description del nivel de logro del siguiente criterio de la subcompetencia\n",
    "\n",
    "**Interpreta interacciones**. Interpreta interacciones entre variables relevantes en un problema, como base para la construcción de modelos bivariados basados en datos de un fenómeno investigado que le permita reproducir la respuesta del mismo."
   ]
  },
  {
   "cell_type": "markdown",
   "metadata": {},
   "source": [
    "Tu respuesta: Yo creo que si pudé interpretar las interacciónes ya que trabajé con todas las opciones que vimos en clase, tengo la capacidad de explorar las bases de datos y despues trabajar con graficas y encontrar los centroides"
   ]
  },
  {
   "cell_type": "markdown",
   "metadata": {},
   "source": [
    "Escribe tu description del nivel de logro del siguiente criterio de la subcompetencia\n",
    "\n",
    "**Construcción de modelos**. Es capaz de construir modelos bivariados que expliquen el comportamiento de un fenómeno."
   ]
  },
  {
   "cell_type": "markdown",
   "metadata": {},
   "source": [
    "Tu respuesta: Fui capaz de construir estos modelos a la hora de trabajar con los histogramas, los boxplots, el scatterplot y todo lo referente al Kmeans."
   ]
  }
 ],
 "metadata": {
  "kernelspec": {
   "display_name": "Python 3",
   "language": "python",
   "name": "python3"
  },
  "language_info": {
   "codemirror_mode": {
    "name": "ipython",
    "version": 3
   },
   "file_extension": ".py",
   "mimetype": "text/x-python",
   "name": "python",
   "nbconvert_exporter": "python",
   "pygments_lexer": "ipython3",
   "version": "3.8.8"
  }
 },
 "nbformat": 4,
 "nbformat_minor": 2
}
