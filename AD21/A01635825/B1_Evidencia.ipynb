{
 "cells": [
  {
   "cell_type": "markdown",
   "metadata": {},
   "source": [
    "# TC1002S Herramientas computacionales: el arte de la analítica\n",
    "\n",
    "This is a notebook with all your work for the final evidence of this course\n",
    "\n",
    "\n",
    "# Niveles de dominio a demostrar con la evidencia\n",
    "\n",
    "### SING0202A\n",
    "\n",
    "Interpreta interacciones entre variables relevantes en un problema, como base para la construcción de modelos bivariados basados en datos de un fenómeno investigado que le permita reproducir la respuesta del mismo. Es capaz de construir modelos bivariados que expliquen el comportamiento de un fenómeno.\n",
    "\n",
    "\n",
    "# Student information\n",
    "\n",
    "- Name: Maximiliano Villegas Garcia\n",
    "\n",
    "- ID: A01635825\n",
    "\n",
    "- My career: ITC\n"
   ]
  },
  {
   "cell_type": "markdown",
   "metadata": {},
   "source": [
    "# Importing libraries"
   ]
  },
  {
   "cell_type": "code",
   "execution_count": 733,
   "metadata": {},
   "outputs": [],
   "source": [
    "# Import the packages that we will be using\n",
    "import matplotlib.pyplot as plt\n",
    "import pandas as pd\n",
    "import seaborn as sns              \n",
    "import matplotlib.pyplot as plt"
   ]
  },
  {
   "cell_type": "markdown",
   "metadata": {},
   "source": [
    "# A1 Load your dataset"
   ]
  },
  {
   "cell_type": "code",
   "execution_count": 734,
   "metadata": {},
   "outputs": [],
   "source": [
    "# url string that hosts our .csv file\n",
    "url = \"datasets/Proyecto/A01635825.csv\"\n",
    "\n",
    "# Read the .csv file and store it as a pandas Data Frame\n",
    "ds = pd.read_csv(url)"
   ]
  },
  {
   "cell_type": "markdown",
   "metadata": {},
   "source": [
    "# A2 DataManagment\n"
   ]
  },
  {
   "cell_type": "markdown",
   "metadata": {},
   "source": [
    "Print the first 7 rows"
   ]
  },
  {
   "cell_type": "code",
   "execution_count": 735,
   "metadata": {},
   "outputs": [
    {
     "data": {
      "text/html": [
       "<div>\n",
       "<style scoped>\n",
       "    .dataframe tbody tr th:only-of-type {\n",
       "        vertical-align: middle;\n",
       "    }\n",
       "\n",
       "    .dataframe tbody tr th {\n",
       "        vertical-align: top;\n",
       "    }\n",
       "\n",
       "    .dataframe thead th {\n",
       "        text-align: right;\n",
       "    }\n",
       "</style>\n",
       "<table border=\"1\" class=\"dataframe\">\n",
       "  <thead>\n",
       "    <tr style=\"text-align: right;\">\n",
       "      <th></th>\n",
       "      <th>Unnamed: 0</th>\n",
       "      <th>x1</th>\n",
       "      <th>x2</th>\n",
       "    </tr>\n",
       "  </thead>\n",
       "  <tbody>\n",
       "    <tr>\n",
       "      <th>0</th>\n",
       "      <td>0</td>\n",
       "      <td>-5.930678</td>\n",
       "      <td>3.535873</td>\n",
       "    </tr>\n",
       "    <tr>\n",
       "      <th>1</th>\n",
       "      <td>1</td>\n",
       "      <td>-6.223149</td>\n",
       "      <td>-7.393292</td>\n",
       "    </tr>\n",
       "    <tr>\n",
       "      <th>2</th>\n",
       "      <td>2</td>\n",
       "      <td>-5.916891</td>\n",
       "      <td>-6.581818</td>\n",
       "    </tr>\n",
       "    <tr>\n",
       "      <th>3</th>\n",
       "      <td>3</td>\n",
       "      <td>-5.469354</td>\n",
       "      <td>-8.950879</td>\n",
       "    </tr>\n",
       "    <tr>\n",
       "      <th>4</th>\n",
       "      <td>4</td>\n",
       "      <td>-0.438011</td>\n",
       "      <td>3.816020</td>\n",
       "    </tr>\n",
       "    <tr>\n",
       "      <th>5</th>\n",
       "      <td>5</td>\n",
       "      <td>-4.189379</td>\n",
       "      <td>1.058780</td>\n",
       "    </tr>\n",
       "    <tr>\n",
       "      <th>6</th>\n",
       "      <td>6</td>\n",
       "      <td>-6.899595</td>\n",
       "      <td>-9.012692</td>\n",
       "    </tr>\n",
       "  </tbody>\n",
       "</table>\n",
       "</div>"
      ],
      "text/plain": [
       "   Unnamed: 0        x1        x2\n",
       "0           0 -5.930678  3.535873\n",
       "1           1 -6.223149 -7.393292\n",
       "2           2 -5.916891 -6.581818\n",
       "3           3 -5.469354 -8.950879\n",
       "4           4 -0.438011  3.816020\n",
       "5           5 -4.189379  1.058780\n",
       "6           6 -6.899595 -9.012692"
      ]
     },
     "execution_count": 735,
     "metadata": {},
     "output_type": "execute_result"
    }
   ],
   "source": [
    "ds.head(7)"
   ]
  },
  {
   "cell_type": "markdown",
   "metadata": {},
   "source": [
    "Print the first 4 last rows"
   ]
  },
  {
   "cell_type": "code",
   "execution_count": 736,
   "metadata": {},
   "outputs": [
    {
     "data": {
      "text/html": [
       "<div>\n",
       "<style scoped>\n",
       "    .dataframe tbody tr th:only-of-type {\n",
       "        vertical-align: middle;\n",
       "    }\n",
       "\n",
       "    .dataframe tbody tr th {\n",
       "        vertical-align: top;\n",
       "    }\n",
       "\n",
       "    .dataframe thead th {\n",
       "        text-align: right;\n",
       "    }\n",
       "</style>\n",
       "<table border=\"1\" class=\"dataframe\">\n",
       "  <thead>\n",
       "    <tr style=\"text-align: right;\">\n",
       "      <th></th>\n",
       "      <th>Unnamed: 0</th>\n",
       "      <th>x1</th>\n",
       "      <th>x2</th>\n",
       "    </tr>\n",
       "  </thead>\n",
       "  <tbody>\n",
       "    <tr>\n",
       "      <th>821</th>\n",
       "      <td>821</td>\n",
       "      <td>-0.596979</td>\n",
       "      <td>3.435556</td>\n",
       "    </tr>\n",
       "    <tr>\n",
       "      <th>822</th>\n",
       "      <td>822</td>\n",
       "      <td>-2.793356</td>\n",
       "      <td>2.645738</td>\n",
       "    </tr>\n",
       "    <tr>\n",
       "      <th>823</th>\n",
       "      <td>823</td>\n",
       "      <td>-0.037287</td>\n",
       "      <td>-2.988152</td>\n",
       "    </tr>\n",
       "    <tr>\n",
       "      <th>824</th>\n",
       "      <td>824</td>\n",
       "      <td>-4.646785</td>\n",
       "      <td>-9.102346</td>\n",
       "    </tr>\n",
       "  </tbody>\n",
       "</table>\n",
       "</div>"
      ],
      "text/plain": [
       "     Unnamed: 0        x1        x2\n",
       "821         821 -0.596979  3.435556\n",
       "822         822 -2.793356  2.645738\n",
       "823         823 -0.037287 -2.988152\n",
       "824         824 -4.646785 -9.102346"
      ]
     },
     "execution_count": 736,
     "metadata": {},
     "output_type": "execute_result"
    }
   ],
   "source": [
    "ds.tail(4)"
   ]
  },
  {
   "cell_type": "markdown",
   "metadata": {},
   "source": [
    "How many rows and columns are in your data?\n",
    "\n",
    "Use the `shape` method\n"
   ]
  },
  {
   "cell_type": "code",
   "execution_count": 737,
   "metadata": {},
   "outputs": [
    {
     "data": {
      "text/plain": [
       "(825, 3)"
      ]
     },
     "execution_count": 737,
     "metadata": {},
     "output_type": "execute_result"
    }
   ],
   "source": [
    "ds.shape"
   ]
  },
  {
   "cell_type": "markdown",
   "metadata": {},
   "source": [
    "Print the name of all columns \n",
    "\n",
    "Use the `columns` method"
   ]
  },
  {
   "cell_type": "code",
   "execution_count": 738,
   "metadata": {},
   "outputs": [
    {
     "data": {
      "text/plain": [
       "Index(['Unnamed: 0', 'x1', 'x2'], dtype='object')"
      ]
     },
     "execution_count": 738,
     "metadata": {},
     "output_type": "execute_result"
    }
   ],
   "source": [
    "ds.columns"
   ]
  },
  {
   "cell_type": "markdown",
   "metadata": {},
   "source": [
    "What is the data type in each column\n",
    "\n",
    "Use the `dtypes` method "
   ]
  },
  {
   "cell_type": "code",
   "execution_count": 739,
   "metadata": {},
   "outputs": [
    {
     "data": {
      "text/plain": [
       "Unnamed: 0      int64\n",
       "x1            float64\n",
       "x2            float64\n",
       "dtype: object"
      ]
     },
     "execution_count": 739,
     "metadata": {},
     "output_type": "execute_result"
    }
   ],
   "source": [
    "ds.dtypes"
   ]
  },
  {
   "cell_type": "markdown",
   "metadata": {},
   "source": [
    "What is the meaning of rows and columns?"
   ]
  },
  {
   "cell_type": "code",
   "execution_count": 740,
   "metadata": {},
   "outputs": [],
   "source": [
    "# Your responses here\n",
    "\n",
    "# 1) Las filas son observaciones.\n",
    "\n",
    "# 2) Las columnas son varibales."
   ]
  },
  {
   "cell_type": "markdown",
   "metadata": {},
   "source": [
    "Print a statistical summary of your columns\n"
   ]
  },
  {
   "cell_type": "code",
   "execution_count": 741,
   "metadata": {},
   "outputs": [
    {
     "data": {
      "text/html": [
       "<div>\n",
       "<style scoped>\n",
       "    .dataframe tbody tr th:only-of-type {\n",
       "        vertical-align: middle;\n",
       "    }\n",
       "\n",
       "    .dataframe tbody tr th {\n",
       "        vertical-align: top;\n",
       "    }\n",
       "\n",
       "    .dataframe thead th {\n",
       "        text-align: right;\n",
       "    }\n",
       "</style>\n",
       "<table border=\"1\" class=\"dataframe\">\n",
       "  <thead>\n",
       "    <tr style=\"text-align: right;\">\n",
       "      <th></th>\n",
       "      <th>Unnamed: 0</th>\n",
       "      <th>x1</th>\n",
       "      <th>x2</th>\n",
       "    </tr>\n",
       "  </thead>\n",
       "  <tbody>\n",
       "    <tr>\n",
       "      <th>count</th>\n",
       "      <td>825.00000</td>\n",
       "      <td>825.000000</td>\n",
       "      <td>825.000000</td>\n",
       "    </tr>\n",
       "    <tr>\n",
       "      <th>mean</th>\n",
       "      <td>412.00000</td>\n",
       "      <td>-3.799546</td>\n",
       "      <td>-0.823797</td>\n",
       "    </tr>\n",
       "    <tr>\n",
       "      <th>std</th>\n",
       "      <td>238.30128</td>\n",
       "      <td>3.331719</td>\n",
       "      <td>5.527983</td>\n",
       "    </tr>\n",
       "    <tr>\n",
       "      <th>min</th>\n",
       "      <td>0.00000</td>\n",
       "      <td>-11.710874</td>\n",
       "      <td>-11.465616</td>\n",
       "    </tr>\n",
       "    <tr>\n",
       "      <th>25%</th>\n",
       "      <td>206.00000</td>\n",
       "      <td>-6.681077</td>\n",
       "      <td>-6.005862</td>\n",
       "    </tr>\n",
       "    <tr>\n",
       "      <th>50%</th>\n",
       "      <td>412.00000</td>\n",
       "      <td>-3.964555</td>\n",
       "      <td>-0.070055</td>\n",
       "    </tr>\n",
       "    <tr>\n",
       "      <th>75%</th>\n",
       "      <td>618.00000</td>\n",
       "      <td>-0.949778</td>\n",
       "      <td>4.260144</td>\n",
       "    </tr>\n",
       "    <tr>\n",
       "      <th>max</th>\n",
       "      <td>824.00000</td>\n",
       "      <td>3.866582</td>\n",
       "      <td>9.337412</td>\n",
       "    </tr>\n",
       "  </tbody>\n",
       "</table>\n",
       "</div>"
      ],
      "text/plain": [
       "       Unnamed: 0          x1          x2\n",
       "count   825.00000  825.000000  825.000000\n",
       "mean    412.00000   -3.799546   -0.823797\n",
       "std     238.30128    3.331719    5.527983\n",
       "min       0.00000  -11.710874  -11.465616\n",
       "25%     206.00000   -6.681077   -6.005862\n",
       "50%     412.00000   -3.964555   -0.070055\n",
       "75%     618.00000   -0.949778    4.260144\n",
       "max     824.00000    3.866582    9.337412"
      ]
     },
     "execution_count": 741,
     "metadata": {},
     "output_type": "execute_result"
    }
   ],
   "source": [
    "ds.describe()"
   ]
  },
  {
   "cell_type": "markdown",
   "metadata": {},
   "source": [
    "# 1) What is the minumum and maximum values of each variable:\n",
    "\n",
    "0, -11.710875, -11.4656616\n",
    "\n",
    "\n",
    "# 2) What is the mean and standar deviation of each variable:\n",
    "\n",
    "mean: 412, -3.799546, -0.823797 std: 238.30128, 3.331719, 5.527983\n",
    "\n",
    "# 3) What the 25%, 50% and 75% represent?\n",
    "\n",
    "\n",
    "El 25% representa el primer quartil de los datos.\n",
    "\n",
    "El 50% representa el segundo quartil de los datos, por lo general la mediana.\n",
    "\n",
    "El 75% representa el tercer quartil de los datos."
   ]
  },
  {
   "cell_type": "markdown",
   "metadata": {},
   "source": [
    "Rename the columns using the same name with capital letters"
   ]
  },
  {
   "cell_type": "code",
   "execution_count": 742,
   "metadata": {},
   "outputs": [
    {
     "data": {
      "text/plain": [
       "Index(['UNNAMED: 0', 'X1', 'X2'], dtype='object')"
      ]
     },
     "execution_count": 742,
     "metadata": {},
     "output_type": "execute_result"
    }
   ],
   "source": [
    "ds = ds.rename(columns={\"Unnamed: 0\": \"UNNAMED: 0\"})\n",
    "ds = ds.rename(columns={\"x1\": \"X1\"})\n",
    "ds = ds.rename(columns={\"x2\": \"X2\"})\n",
    "\n",
    "ds.columns"
   ]
  },
  {
   "cell_type": "markdown",
   "metadata": {},
   "source": [
    "Rename the columns to their original names"
   ]
  },
  {
   "cell_type": "code",
   "execution_count": 743,
   "metadata": {},
   "outputs": [
    {
     "data": {
      "text/plain": [
       "Index(['Unnamed: 0', 'x1', 'x2'], dtype='object')"
      ]
     },
     "execution_count": 743,
     "metadata": {},
     "output_type": "execute_result"
    }
   ],
   "source": [
    "ds = ds.rename(columns={\"UNNAMED: 0\": \"Unnamed: 0\"})\n",
    "ds = ds.rename(columns={\"X1\": \"x1\"})\n",
    "ds = ds.rename(columns={\"X2\": \"x2\"})\n",
    "\n",
    "ds.columns"
   ]
  },
  {
   "cell_type": "markdown",
   "metadata": {},
   "source": [
    "Use two different alternatives to get one of the columns"
   ]
  },
  {
   "cell_type": "code",
   "execution_count": 744,
   "metadata": {},
   "outputs": [
    {
     "name": "stdout",
     "output_type": "stream",
     "text": [
      "0     -5.930678\n",
      "1     -6.223149\n",
      "2     -5.916891\n",
      "3     -5.469354\n",
      "4     -0.438011\n",
      "         ...   \n",
      "820   -3.523602\n",
      "821   -0.596979\n",
      "822   -2.793356\n",
      "823   -0.037287\n",
      "824   -4.646785\n",
      "Name: x1, Length: 825, dtype: float64\n"
     ]
    },
    {
     "data": {
      "text/html": [
       "<div>\n",
       "<style scoped>\n",
       "    .dataframe tbody tr th:only-of-type {\n",
       "        vertical-align: middle;\n",
       "    }\n",
       "\n",
       "    .dataframe tbody tr th {\n",
       "        vertical-align: top;\n",
       "    }\n",
       "\n",
       "    .dataframe thead th {\n",
       "        text-align: right;\n",
       "    }\n",
       "</style>\n",
       "<table border=\"1\" class=\"dataframe\">\n",
       "  <thead>\n",
       "    <tr style=\"text-align: right;\">\n",
       "      <th></th>\n",
       "      <th>x2</th>\n",
       "    </tr>\n",
       "  </thead>\n",
       "  <tbody>\n",
       "    <tr>\n",
       "      <th>0</th>\n",
       "      <td>3.535873</td>\n",
       "    </tr>\n",
       "    <tr>\n",
       "      <th>1</th>\n",
       "      <td>-7.393292</td>\n",
       "    </tr>\n",
       "    <tr>\n",
       "      <th>2</th>\n",
       "      <td>-6.581818</td>\n",
       "    </tr>\n",
       "    <tr>\n",
       "      <th>3</th>\n",
       "      <td>-8.950879</td>\n",
       "    </tr>\n",
       "    <tr>\n",
       "      <th>4</th>\n",
       "      <td>3.816020</td>\n",
       "    </tr>\n",
       "    <tr>\n",
       "      <th>...</th>\n",
       "      <td>...</td>\n",
       "    </tr>\n",
       "    <tr>\n",
       "      <th>820</th>\n",
       "      <td>4.976368</td>\n",
       "    </tr>\n",
       "    <tr>\n",
       "      <th>821</th>\n",
       "      <td>3.435556</td>\n",
       "    </tr>\n",
       "    <tr>\n",
       "      <th>822</th>\n",
       "      <td>2.645738</td>\n",
       "    </tr>\n",
       "    <tr>\n",
       "      <th>823</th>\n",
       "      <td>-2.988152</td>\n",
       "    </tr>\n",
       "    <tr>\n",
       "      <th>824</th>\n",
       "      <td>-9.102346</td>\n",
       "    </tr>\n",
       "  </tbody>\n",
       "</table>\n",
       "<p>825 rows × 1 columns</p>\n",
       "</div>"
      ],
      "text/plain": [
       "           x2\n",
       "0    3.535873\n",
       "1   -7.393292\n",
       "2   -6.581818\n",
       "3   -8.950879\n",
       "4    3.816020\n",
       "..        ...\n",
       "820  4.976368\n",
       "821  3.435556\n",
       "822  2.645738\n",
       "823 -2.988152\n",
       "824 -9.102346\n",
       "\n",
       "[825 rows x 1 columns]"
      ]
     },
     "execution_count": 744,
     "metadata": {},
     "output_type": "execute_result"
    }
   ],
   "source": [
    "a = ds.x1\n",
    "b = ds[\"x1\"]\n",
    "c = ds.loc[:, \"x1\"]\n",
    "d = ds.iloc[:, 1]\n",
    "\n",
    "print(d)\n",
    "\n",
    "ds[[\"x2\"]]"
   ]
  },
  {
   "cell_type": "markdown",
   "metadata": {},
   "source": [
    "Get a slice of your data set: second and thrid columns and rows from 62 to 72"
   ]
  },
  {
   "cell_type": "code",
   "execution_count": 745,
   "metadata": {},
   "outputs": [
    {
     "data": {
      "text/html": [
       "<div>\n",
       "<style scoped>\n",
       "    .dataframe tbody tr th:only-of-type {\n",
       "        vertical-align: middle;\n",
       "    }\n",
       "\n",
       "    .dataframe tbody tr th {\n",
       "        vertical-align: top;\n",
       "    }\n",
       "\n",
       "    .dataframe thead th {\n",
       "        text-align: right;\n",
       "    }\n",
       "</style>\n",
       "<table border=\"1\" class=\"dataframe\">\n",
       "  <thead>\n",
       "    <tr style=\"text-align: right;\">\n",
       "      <th></th>\n",
       "      <th>x1</th>\n",
       "      <th>x2</th>\n",
       "    </tr>\n",
       "  </thead>\n",
       "  <tbody>\n",
       "    <tr>\n",
       "      <th>62</th>\n",
       "      <td>-3.546908</td>\n",
       "      <td>2.731515</td>\n",
       "    </tr>\n",
       "    <tr>\n",
       "      <th>63</th>\n",
       "      <td>-6.536994</td>\n",
       "      <td>-6.974426</td>\n",
       "    </tr>\n",
       "    <tr>\n",
       "      <th>64</th>\n",
       "      <td>0.140814</td>\n",
       "      <td>-3.939558</td>\n",
       "    </tr>\n",
       "    <tr>\n",
       "      <th>65</th>\n",
       "      <td>-6.252742</td>\n",
       "      <td>5.272605</td>\n",
       "    </tr>\n",
       "    <tr>\n",
       "      <th>66</th>\n",
       "      <td>-3.647643</td>\n",
       "      <td>-5.312514</td>\n",
       "    </tr>\n",
       "    <tr>\n",
       "      <th>67</th>\n",
       "      <td>0.940759</td>\n",
       "      <td>-4.617549</td>\n",
       "    </tr>\n",
       "    <tr>\n",
       "      <th>68</th>\n",
       "      <td>-5.633225</td>\n",
       "      <td>-8.210486</td>\n",
       "    </tr>\n",
       "    <tr>\n",
       "      <th>69</th>\n",
       "      <td>0.014430</td>\n",
       "      <td>-8.277700</td>\n",
       "    </tr>\n",
       "    <tr>\n",
       "      <th>70</th>\n",
       "      <td>-4.014736</td>\n",
       "      <td>-6.810997</td>\n",
       "    </tr>\n",
       "    <tr>\n",
       "      <th>71</th>\n",
       "      <td>-6.336768</td>\n",
       "      <td>-7.156302</td>\n",
       "    </tr>\n",
       "    <tr>\n",
       "      <th>72</th>\n",
       "      <td>-6.496388</td>\n",
       "      <td>-8.219977</td>\n",
       "    </tr>\n",
       "  </tbody>\n",
       "</table>\n",
       "</div>"
      ],
      "text/plain": [
       "          x1        x2\n",
       "62 -3.546908  2.731515\n",
       "63 -6.536994 -6.974426\n",
       "64  0.140814 -3.939558\n",
       "65 -6.252742  5.272605\n",
       "66 -3.647643 -5.312514\n",
       "67  0.940759 -4.617549\n",
       "68 -5.633225 -8.210486\n",
       "69  0.014430 -8.277700\n",
       "70 -4.014736 -6.810997\n",
       "71 -6.336768 -7.156302\n",
       "72 -6.496388 -8.219977"
      ]
     },
     "execution_count": 745,
     "metadata": {},
     "output_type": "execute_result"
    }
   ],
   "source": [
    "ds.loc[62:72, [\"x1\", \"x2\"]]"
   ]
  },
  {
   "cell_type": "markdown",
   "metadata": {},
   "source": [
    "For the second and thrid columns, calculate the number of null and not null values and verify that their sum equals the total number of rows"
   ]
  },
  {
   "cell_type": "code",
   "execution_count": 746,
   "metadata": {},
   "outputs": [
    {
     "name": "stdout",
     "output_type": "stream",
     "text": [
      "825\n",
      "0\n"
     ]
    }
   ],
   "source": [
    "print( ds.x1.notnull().sum())\n",
    "print( pd.isnull(ds.x1).sum())"
   ]
  },
  {
   "cell_type": "code",
   "execution_count": 747,
   "metadata": {},
   "outputs": [
    {
     "name": "stdout",
     "output_type": "stream",
     "text": [
      "825\n",
      "0\n"
     ]
    }
   ],
   "source": [
    "print( ds.x2.notnull().sum())\n",
    "print( pd.isnull(ds.x2).sum())"
   ]
  },
  {
   "cell_type": "markdown",
   "metadata": {},
   "source": [
    "Discard the first column\n"
   ]
  },
  {
   "cell_type": "code",
   "execution_count": 748,
   "metadata": {},
   "outputs": [
    {
     "data": {
      "text/html": [
       "<div>\n",
       "<style scoped>\n",
       "    .dataframe tbody tr th:only-of-type {\n",
       "        vertical-align: middle;\n",
       "    }\n",
       "\n",
       "    .dataframe tbody tr th {\n",
       "        vertical-align: top;\n",
       "    }\n",
       "\n",
       "    .dataframe thead th {\n",
       "        text-align: right;\n",
       "    }\n",
       "</style>\n",
       "<table border=\"1\" class=\"dataframe\">\n",
       "  <thead>\n",
       "    <tr style=\"text-align: right;\">\n",
       "      <th></th>\n",
       "      <th>x1</th>\n",
       "      <th>x2</th>\n",
       "    </tr>\n",
       "  </thead>\n",
       "  <tbody>\n",
       "    <tr>\n",
       "      <th>0</th>\n",
       "      <td>-5.930678</td>\n",
       "      <td>3.535873</td>\n",
       "    </tr>\n",
       "    <tr>\n",
       "      <th>1</th>\n",
       "      <td>-6.223149</td>\n",
       "      <td>-7.393292</td>\n",
       "    </tr>\n",
       "    <tr>\n",
       "      <th>2</th>\n",
       "      <td>-5.916891</td>\n",
       "      <td>-6.581818</td>\n",
       "    </tr>\n",
       "    <tr>\n",
       "      <th>3</th>\n",
       "      <td>-5.469354</td>\n",
       "      <td>-8.950879</td>\n",
       "    </tr>\n",
       "    <tr>\n",
       "      <th>4</th>\n",
       "      <td>-0.438011</td>\n",
       "      <td>3.816020</td>\n",
       "    </tr>\n",
       "    <tr>\n",
       "      <th>...</th>\n",
       "      <td>...</td>\n",
       "      <td>...</td>\n",
       "    </tr>\n",
       "    <tr>\n",
       "      <th>820</th>\n",
       "      <td>-3.523602</td>\n",
       "      <td>4.976368</td>\n",
       "    </tr>\n",
       "    <tr>\n",
       "      <th>821</th>\n",
       "      <td>-0.596979</td>\n",
       "      <td>3.435556</td>\n",
       "    </tr>\n",
       "    <tr>\n",
       "      <th>822</th>\n",
       "      <td>-2.793356</td>\n",
       "      <td>2.645738</td>\n",
       "    </tr>\n",
       "    <tr>\n",
       "      <th>823</th>\n",
       "      <td>-0.037287</td>\n",
       "      <td>-2.988152</td>\n",
       "    </tr>\n",
       "    <tr>\n",
       "      <th>824</th>\n",
       "      <td>-4.646785</td>\n",
       "      <td>-9.102346</td>\n",
       "    </tr>\n",
       "  </tbody>\n",
       "</table>\n",
       "<p>825 rows × 2 columns</p>\n",
       "</div>"
      ],
      "text/plain": [
       "           x1        x2\n",
       "0   -5.930678  3.535873\n",
       "1   -6.223149 -7.393292\n",
       "2   -5.916891 -6.581818\n",
       "3   -5.469354 -8.950879\n",
       "4   -0.438011  3.816020\n",
       "..        ...       ...\n",
       "820 -3.523602  4.976368\n",
       "821 -0.596979  3.435556\n",
       "822 -2.793356  2.645738\n",
       "823 -0.037287 -2.988152\n",
       "824 -4.646785 -9.102346\n",
       "\n",
       "[825 rows x 2 columns]"
      ]
     },
     "execution_count": 748,
     "metadata": {},
     "output_type": "execute_result"
    }
   ],
   "source": [
    "ds.drop(\"Unnamed: 0\", axis=1, inplace = True)\n",
    "ds"
   ]
  },
  {
   "cell_type": "markdown",
   "metadata": {},
   "source": [
    "### Questions \n",
    "\n",
    "Based on the previos reults, provide a description of yout dataset\n",
    "\n",
    "Your response: Nuestros datos estan compuestos por dos columnas numeros positivos y negativos sin valores nulos. La tercer columna contenia el numero de observaciones por lo que no fue necesaria y la removi.\n",
    "\n",
    "\n"
   ]
  },
  {
   "cell_type": "markdown",
   "metadata": {},
   "source": [
    "# A3 Data visualization"
   ]
  },
  {
   "cell_type": "markdown",
   "metadata": {},
   "source": [
    "Plot in the same figure the histogram of the two first two variables"
   ]
  },
  {
   "cell_type": "code",
   "execution_count": 749,
   "metadata": {},
   "outputs": [
    {
     "name": "stderr",
     "output_type": "stream",
     "text": [
      "/Users/maxvillegas/opt/anaconda3/lib/python3.8/site-packages/seaborn/distributions.py:2557: FutureWarning: `distplot` is a deprecated function and will be removed in a future version. Please adapt your code to use either `displot` (a figure-level function with similar flexibility) or `histplot` (an axes-level function for histograms).\n",
      "  warnings.warn(msg, FutureWarning)\n"
     ]
    },
    {
     "data": {
      "image/png": "[encoded data removed]",
      "text/plain": [
       "<Figure size 432x288 with 1 Axes>"
      ]
     },
     "metadata": {
      "needs_background": "light"
     },
     "output_type": "display_data"
    }
   ],
   "source": [
    "sns.distplot(ds[\"x1\"], kde = False)\n",
    "sns.distplot(ds[\"x2\"], kde = False).set_title(\"Histograma x1 y x2\")\n",
    "plt.show()"
   ]
  },
  {
   "cell_type": "markdown",
   "metadata": {},
   "source": [
    "Based on this two plots, provide a description of your data:\n",
    "\n",
    "Your response here: Ambas variables se encuentran en un rango similar de valores. Las graficas convergen en su mayoria."
   ]
  },
  {
   "cell_type": "markdown",
   "metadata": {},
   "source": [
    "Plot in the same figure the boxplot of the two first two variables "
   ]
  },
  {
   "cell_type": "code",
   "execution_count": 750,
   "metadata": {},
   "outputs": [
    {
     "name": "stderr",
     "output_type": "stream",
     "text": [
      "/Users/maxvillegas/opt/anaconda3/lib/python3.8/site-packages/seaborn/_decorators.py:36: FutureWarning: Pass the following variable as a keyword arg: x. From version 0.12, the only valid positional argument will be `data`, and passing other arguments without an explicit keyword will result in an error or misinterpretation.\n",
      "  warnings.warn(\n",
      "/Users/maxvillegas/opt/anaconda3/lib/python3.8/site-packages/seaborn/_decorators.py:36: FutureWarning: Pass the following variable as a keyword arg: x. From version 0.12, the only valid positional argument will be `data`, and passing other arguments without an explicit keyword will result in an error or misinterpretation.\n",
      "  warnings.warn(\n"
     ]
    },
    {
     "data": {
      "image/png": "[encoded data removed]",
      "text/plain": [
       "<Figure size 432x288 with 1 Axes>"
      ]
     },
     "metadata": {
      "needs_background": "light"
     },
     "output_type": "display_data"
    }
   ],
   "source": [
    "sns.boxplot(ds[\"x1\"])\n",
    "sns.boxplot(ds[\"x2\"]).set_title(\"Box plot x1 y x2\")\n",
    "plt.show()"
   ]
  },
  {
   "cell_type": "markdown",
   "metadata": {},
   "source": [
    "Scatter plot of the two first variables"
   ]
  },
  {
   "cell_type": "code",
   "execution_count": 751,
   "metadata": {},
   "outputs": [
    {
     "data": {
      "image/png": "[encoded data removed]",
      "text/plain": [
       "<Figure size 432x288 with 1 Axes>"
      ]
     },
     "metadata": {
      "needs_background": "light"
     },
     "output_type": "display_data"
    }
   ],
   "source": [
    "plt.scatter(ds.x1,ds.x2)\n",
    "plt.title('x1 vs x2')\n",
    "plt.xlabel('x1')\n",
    "plt.ylabel('x2')\n",
    "plt.show()"
   ]
  },
  {
   "cell_type": "markdown",
   "metadata": {},
   "source": [
    "### Questions \n",
    "\n",
    "Based on the previos plots, provide a description of yout dataset\n",
    "\n",
    "Your response: Podemos ver como los datos se separan en 2 grandes grupos y posiblemente en 3 grupos si queremos ser mas precisos. Los valores de ambas variables comparten similitudes.\n",
    "\n",
    "\n"
   ]
  },
  {
   "cell_type": "markdown",
   "metadata": {},
   "source": [
    "# A4 Kmeans"
   ]
  },
  {
   "cell_type": "markdown",
   "metadata": {},
   "source": [
    "Do Kmeans clustering assuming a number of clusters accorgind to your scatter plot"
   ]
  },
  {
   "cell_type": "code",
   "execution_count": 752,
   "metadata": {},
   "outputs": [
    {
     "data": {
      "text/plain": [
       "array([0, 2, 2, 2, 0, 0, 2, 0, 0, 0, 0, 1, 1, 0, 2, 0, 2, 2, 2, 0, 0, 2,\n",
       "       1, 2, 0, 0, 2, 0, 0, 2, 0, 2, 2, 0, 0, 0, 1, 2, 0, 0, 1, 2, 0, 0,\n",
       "       2, 1, 1, 0, 1, 0, 0, 0, 2, 0, 1, 0, 2, 0, 0, 1, 0, 2, 0, 2, 1, 0,\n",
       "       2, 1, 2, 1, 2, 2, 2, 1, 0, 0, 0, 0, 0, 0, 0, 2, 0, 1, 2, 1, 0, 1,\n",
       "       0, 0, 2, 1, 0, 0, 0, 0, 1, 0, 2, 2, 1, 1, 1, 1, 1, 0, 0, 2, 1, 1,\n",
       "       2, 0, 0, 2, 0, 0, 1, 0, 2, 0, 2, 0, 2, 2, 0, 0, 2, 0, 0, 0, 1, 0,\n",
       "       0, 0, 2, 2, 1, 0, 0, 1, 0, 2, 1, 0, 2, 0, 0, 1, 1, 2, 0, 1, 2, 0,\n",
       "       0, 0, 1, 2, 0, 2, 1, 0, 1, 1, 0, 1, 0, 1, 0, 2, 1, 0, 0, 1, 1, 2,\n",
       "       0, 1, 0, 0, 0, 0, 0, 0, 1, 2, 0, 1, 0, 0, 1, 0, 0, 2, 0, 0, 2, 1,\n",
       "       1, 2, 0, 1, 1, 2, 0, 1, 0, 2, 2, 0, 0, 0, 1, 0, 2, 0, 1, 1, 1, 0,\n",
       "       2, 0, 0, 0, 0, 1, 1, 0, 1, 0, 1, 1, 0, 0, 1, 0, 0, 0, 0, 0, 2, 0,\n",
       "       1, 1, 2, 2, 2, 1, 2, 0, 2, 1, 0, 0, 1, 1, 1, 0, 1, 2, 0, 0, 2, 0,\n",
       "       0, 0, 1, 2, 1, 2, 2, 0, 0, 2, 2, 0, 0, 2, 0, 1, 0, 0, 0, 2, 1, 1,\n",
       "       2, 2, 0, 0, 0, 2, 0, 0, 0, 0, 0, 0, 2, 2, 0, 0, 0, 2, 1, 2, 2, 1,\n",
       "       2, 2, 0, 2, 0, 0, 0, 2, 2, 2, 0, 2, 0, 0, 2, 1, 1, 1, 2, 2, 2, 2,\n",
       "       1, 0, 0, 0, 1, 0, 0, 0, 2, 0, 1, 1, 0, 0, 1, 0, 0, 1, 0, 0, 2, 0,\n",
       "       1, 1, 0, 0, 1, 0, 1, 0, 0, 2, 0, 2, 0, 0, 2, 0, 2, 0, 1, 2, 1, 0,\n",
       "       2, 0, 2, 0, 2, 0, 0, 1, 1, 0, 0, 0, 2, 1, 2, 0, 1, 1, 1, 0, 0, 0,\n",
       "       2, 1, 0, 0, 0, 2, 1, 2, 1, 0, 1, 0, 2, 0, 1, 0, 1, 2, 0, 0, 0, 0,\n",
       "       2, 2, 1, 0, 1, 1, 2, 0, 1, 0, 2, 2, 0, 0, 0, 2, 0, 2, 2, 1, 2, 0,\n",
       "       2, 2, 0, 2, 0, 1, 0, 2, 1, 2, 1, 0, 1, 0, 0, 1, 0, 0, 2, 0, 0, 1,\n",
       "       0, 1, 2, 2, 2, 0, 0, 0, 0, 2, 0, 2, 0, 0, 0, 2, 2, 1, 0, 1, 1, 0,\n",
       "       0, 2, 1, 0, 2, 2, 1, 0, 2, 0, 0, 0, 0, 2, 0, 2, 2, 1, 0, 0, 0, 0,\n",
       "       1, 1, 1, 1, 0, 0, 0, 0, 0, 1, 1, 0, 0, 0, 0, 0, 1, 0, 0, 0, 0, 1,\n",
       "       1, 1, 2, 0, 0, 1, 0, 0, 0, 0, 1, 1, 0, 0, 2, 0, 2, 1, 0, 0, 1, 0,\n",
       "       1, 0, 0, 1, 0, 0, 1, 0, 0, 0, 1, 0, 0, 1, 1, 0, 1, 1, 0, 0, 2, 0,\n",
       "       0, 2, 2, 1, 0, 0, 0, 0, 2, 2, 0, 0, 2, 0, 0, 1, 0, 0, 0, 1, 0, 0,\n",
       "       0, 0, 1, 1, 0, 2, 0, 1, 2, 0, 1, 1, 0, 0, 0, 2, 1, 2, 0, 0, 2, 0,\n",
       "       1, 2, 1, 1, 1, 1, 0, 0, 0, 1, 2, 2, 0, 2, 0, 1, 0, 0, 1, 2, 2, 1,\n",
       "       0, 2, 0, 2, 0, 1, 0, 1, 2, 0, 0, 2, 0, 2, 2, 0, 0, 0, 2, 0, 0, 0,\n",
       "       0, 0, 1, 1, 0, 2, 0, 2, 2, 0, 0, 2, 0, 0, 0, 1, 0, 0, 1, 0, 1, 0,\n",
       "       0, 0, 2, 0, 2, 2, 0, 1, 0, 2, 2, 0, 0, 0, 0, 1, 1, 2, 2, 0, 0, 0,\n",
       "       2, 1, 2, 1, 0, 1, 1, 1, 1, 1, 2, 0, 0, 0, 0, 1, 0, 2, 0, 2, 0, 0,\n",
       "       0, 1, 1, 0, 0, 0, 0, 0, 0, 0, 2, 0, 0, 0, 1, 1, 0, 0, 0, 1, 1, 1,\n",
       "       0, 2, 0, 0, 1, 1, 1, 1, 0, 1, 0, 1, 1, 1, 1, 2, 2, 0, 0, 2, 1, 1,\n",
       "       2, 2, 0, 1, 0, 0, 2, 0, 2, 0, 0, 2, 2, 0, 2, 0, 0, 2, 0, 0, 2, 2,\n",
       "       2, 2, 2, 0, 0, 1, 2, 2, 0, 1, 0, 2, 2, 0, 1, 2, 1, 0, 1, 2, 2, 0,\n",
       "       0, 1, 0, 1, 0, 2, 0, 0, 0, 1, 2], dtype=int32)"
      ]
     },
     "execution_count": 752,
     "metadata": {},
     "output_type": "execute_result"
    }
   ],
   "source": [
    "from sklearn.cluster import KMeans\n",
    "km = KMeans(n_clusters=3)\n",
    "\n",
    "yp = km.fit_predict(ds[['x1','x2']])\n",
    "\n",
    "yp"
   ]
  },
  {
   "cell_type": "markdown",
   "metadata": {},
   "source": [
    "Add to your dataset a column with the assigned cluster to each data point"
   ]
  },
  {
   "cell_type": "code",
   "execution_count": 753,
   "metadata": {},
   "outputs": [
    {
     "data": {
      "text/html": [
       "<div>\n",
       "<style scoped>\n",
       "    .dataframe tbody tr th:only-of-type {\n",
       "        vertical-align: middle;\n",
       "    }\n",
       "\n",
       "    .dataframe tbody tr th {\n",
       "        vertical-align: top;\n",
       "    }\n",
       "\n",
       "    .dataframe thead th {\n",
       "        text-align: right;\n",
       "    }\n",
       "</style>\n",
       "<table border=\"1\" class=\"dataframe\">\n",
       "  <thead>\n",
       "    <tr style=\"text-align: right;\">\n",
       "      <th></th>\n",
       "      <th>x1</th>\n",
       "      <th>x2</th>\n",
       "      <th>Cluster</th>\n",
       "    </tr>\n",
       "  </thead>\n",
       "  <tbody>\n",
       "    <tr>\n",
       "      <th>0</th>\n",
       "      <td>-5.930678</td>\n",
       "      <td>3.535873</td>\n",
       "      <td>0</td>\n",
       "    </tr>\n",
       "    <tr>\n",
       "      <th>1</th>\n",
       "      <td>-6.223149</td>\n",
       "      <td>-7.393292</td>\n",
       "      <td>2</td>\n",
       "    </tr>\n",
       "    <tr>\n",
       "      <th>2</th>\n",
       "      <td>-5.916891</td>\n",
       "      <td>-6.581818</td>\n",
       "      <td>2</td>\n",
       "    </tr>\n",
       "    <tr>\n",
       "      <th>3</th>\n",
       "      <td>-5.469354</td>\n",
       "      <td>-8.950879</td>\n",
       "      <td>2</td>\n",
       "    </tr>\n",
       "    <tr>\n",
       "      <th>4</th>\n",
       "      <td>-0.438011</td>\n",
       "      <td>3.816020</td>\n",
       "      <td>0</td>\n",
       "    </tr>\n",
       "    <tr>\n",
       "      <th>...</th>\n",
       "      <td>...</td>\n",
       "      <td>...</td>\n",
       "      <td>...</td>\n",
       "    </tr>\n",
       "    <tr>\n",
       "      <th>820</th>\n",
       "      <td>-3.523602</td>\n",
       "      <td>4.976368</td>\n",
       "      <td>0</td>\n",
       "    </tr>\n",
       "    <tr>\n",
       "      <th>821</th>\n",
       "      <td>-0.596979</td>\n",
       "      <td>3.435556</td>\n",
       "      <td>0</td>\n",
       "    </tr>\n",
       "    <tr>\n",
       "      <th>822</th>\n",
       "      <td>-2.793356</td>\n",
       "      <td>2.645738</td>\n",
       "      <td>0</td>\n",
       "    </tr>\n",
       "    <tr>\n",
       "      <th>823</th>\n",
       "      <td>-0.037287</td>\n",
       "      <td>-2.988152</td>\n",
       "      <td>1</td>\n",
       "    </tr>\n",
       "    <tr>\n",
       "      <th>824</th>\n",
       "      <td>-4.646785</td>\n",
       "      <td>-9.102346</td>\n",
       "      <td>2</td>\n",
       "    </tr>\n",
       "  </tbody>\n",
       "</table>\n",
       "<p>825 rows × 3 columns</p>\n",
       "</div>"
      ],
      "text/plain": [
       "           x1        x2  Cluster\n",
       "0   -5.930678  3.535873        0\n",
       "1   -6.223149 -7.393292        2\n",
       "2   -5.916891 -6.581818        2\n",
       "3   -5.469354 -8.950879        2\n",
       "4   -0.438011  3.816020        0\n",
       "..        ...       ...      ...\n",
       "820 -3.523602  4.976368        0\n",
       "821 -0.596979  3.435556        0\n",
       "822 -2.793356  2.645738        0\n",
       "823 -0.037287 -2.988152        1\n",
       "824 -4.646785 -9.102346        2\n",
       "\n",
       "[825 rows x 3 columns]"
      ]
     },
     "execution_count": 753,
     "metadata": {},
     "output_type": "execute_result"
    }
   ],
   "source": [
    "ds['Cluster'] = yp\n",
    "\n",
    "ds"
   ]
  },
  {
   "cell_type": "markdown",
   "metadata": {},
   "source": [
    "Print the number associated to each cluster"
   ]
  },
  {
   "cell_type": "code",
   "execution_count": 754,
   "metadata": {},
   "outputs": [
    {
     "data": {
      "text/plain": [
       "array([0, 2, 1], dtype=int32)"
      ]
     },
     "execution_count": 754,
     "metadata": {},
     "output_type": "execute_result"
    }
   ],
   "source": [
    "ds.Cluster.unique()"
   ]
  },
  {
   "cell_type": "markdown",
   "metadata": {},
   "source": [
    "Print the centroids"
   ]
  },
  {
   "cell_type": "code",
   "execution_count": 755,
   "metadata": {},
   "outputs": [
    {
     "data": {
      "text/plain": [
       "array([[-4.51852841,  4.36543826],\n",
       "       [ 0.22577758, -4.08259531],\n",
       "       [-6.40204599, -7.71077145]])"
      ]
     },
     "execution_count": 755,
     "metadata": {},
     "output_type": "execute_result"
    }
   ],
   "source": [
    "km.cluster_centers_"
   ]
  },
  {
   "cell_type": "markdown",
   "metadata": {},
   "source": [
    "Print the intertia metric"
   ]
  },
  {
   "cell_type": "code",
   "execution_count": 756,
   "metadata": {},
   "outputs": [
    {
     "data": {
      "text/plain": [
       "6221.677631291767"
      ]
     },
     "execution_count": 756,
     "metadata": {},
     "output_type": "execute_result"
    }
   ],
   "source": [
    "km.inertia_"
   ]
  },
  {
   "cell_type": "markdown",
   "metadata": {},
   "source": [
    "Plot a scatter plot of your data assigned to each cluster. Also plot the centroids"
   ]
  },
  {
   "cell_type": "code",
   "execution_count": 757,
   "metadata": {},
   "outputs": [
    {
     "name": "stderr",
     "output_type": "stream",
     "text": [
      "<ipython-input-757-4386a1a3cdee>:5: MatplotlibDeprecationWarning: Case-insensitive properties were deprecated in 3.3 and support will be removed two minor releases later\n",
      "  plt.scatter(df1.x1, df1.x2, Label='grupo1')\n",
      "<ipython-input-757-4386a1a3cdee>:6: MatplotlibDeprecationWarning: Case-insensitive properties were deprecated in 3.3 and support will be removed two minor releases later\n",
      "  plt.scatter(df2.x1, df2.x2, Label='grupo2')\n",
      "<ipython-input-757-4386a1a3cdee>:7: MatplotlibDeprecationWarning: Case-insensitive properties were deprecated in 3.3 and support will be removed two minor releases later\n",
      "  plt.scatter(df3.x1, df3.x2, Label='grupo3')\n"
     ]
    },
    {
     "data": {
      "image/png": "[encoded data removed]",
      "text/plain": [
       "<Figure size 432x288 with 1 Axes>"
      ]
     },
     "metadata": {
      "needs_background": "light"
     },
     "output_type": "display_data"
    }
   ],
   "source": [
    "df1 = ds[ds.Cluster==0]\n",
    "df2 = ds[ds.Cluster==1]\n",
    "df3 = ds[ds.Cluster==2]\n",
    "\n",
    "plt.scatter(df1.x1, df1.x2, Label='grupo1')\n",
    "plt.scatter(df2.x1, df2.x2, Label='grupo2')\n",
    "plt.scatter(df3.x1, df3.x2, Label='grupo3')\n",
    "\n",
    "plt.scatter(km.cluster_centers_[:,0], km.cluster_centers_[:,1], color='magenta', marker='*', label='Centroides', s=256)\n",
    "\n",
    "plt.title('x2 vs x1')\n",
    "plt.xlabel('x1')\n",
    "plt.ylabel('x2')\n",
    "plt.legend()\n",
    "plt.show()"
   ]
  },
  {
   "cell_type": "markdown",
   "metadata": {},
   "source": [
    "### Questions \n",
    "\n",
    "Provides a detailed description of your results\n",
    "\n",
    "Your response: Aqui observamos como la division en tres grupos mejoro nuestros datos. Lo unico que nos causa problemas es el valor de inercia tan alto con el que contamos."
   ]
  },
  {
   "cell_type": "markdown",
   "metadata": {},
   "source": [
    "# A4 Elbow plot\n",
    "\n",
    "Compute the Elbow plot"
   ]
  },
  {
   "cell_type": "code",
   "execution_count": 758,
   "metadata": {},
   "outputs": [],
   "source": [
    "sse = []\n",
    "k_rng = range(1,10)\n",
    "for k in k_rng:\n",
    "    km = KMeans(n_clusters=k)\n",
    "    km.fit_predict(ds[['x1','x2']])\n",
    "    sse.append(km.inertia_)"
   ]
  },
  {
   "cell_type": "code",
   "execution_count": 759,
   "metadata": {},
   "outputs": [
    {
     "data": {
      "image/png": "[encoded data removed]",
      "text/plain": [
       "<Figure size 432x288 with 1 Axes>"
      ]
     },
     "metadata": {
      "needs_background": "light"
     },
     "output_type": "display_data"
    }
   ],
   "source": [
    "plt.plot(k_rng,sse)\n",
    "plt.title('Elbow plot')\n",
    "plt.xlabel('K')\n",
    "plt.ylabel('Sum of squared error')\n",
    "plt.show()"
   ]
  },
  {
   "cell_type": "markdown",
   "metadata": {},
   "source": [
    "### Questions \n",
    "\n",
    "What is the best number of clusters K? (argue your response)\n",
    "\n",
    "Your response: Probablemente 4 clusters serian una opcion mas precisa para analizar estos datos debido a su comportamiento en la grafica.\n",
    "\n",
    "\n",
    "Does this number of clusters agree with your inital guess? (argue your response)\n",
    "\n",
    "Your response: Yo elegi 3 clusters porque al observar el grafico de dispersion se nota una separacion en tres partes en nuestros datos.\n",
    "\n"
   ]
  },
  {
   "cell_type": "markdown",
   "metadata": {},
   "source": [
    "# A4 Normalizing the data: preprocessing using min max scaler\n"
   ]
  },
  {
   "cell_type": "markdown",
   "metadata": {},
   "source": [
    "Normalize the data using min max scaler"
   ]
  },
  {
   "cell_type": "code",
   "execution_count": 760,
   "metadata": {},
   "outputs": [
    {
     "data": {
      "text/html": [
       "<div>\n",
       "<style scoped>\n",
       "    .dataframe tbody tr th:only-of-type {\n",
       "        vertical-align: middle;\n",
       "    }\n",
       "\n",
       "    .dataframe tbody tr th {\n",
       "        vertical-align: top;\n",
       "    }\n",
       "\n",
       "    .dataframe thead th {\n",
       "        text-align: right;\n",
       "    }\n",
       "</style>\n",
       "<table border=\"1\" class=\"dataframe\">\n",
       "  <thead>\n",
       "    <tr style=\"text-align: right;\">\n",
       "      <th></th>\n",
       "      <th>x1</th>\n",
       "      <th>x2</th>\n",
       "      <th>Cluster</th>\n",
       "    </tr>\n",
       "  </thead>\n",
       "  <tbody>\n",
       "    <tr>\n",
       "      <th>0</th>\n",
       "      <td>0.371062</td>\n",
       "      <td>0.721120</td>\n",
       "      <td>0</td>\n",
       "    </tr>\n",
       "    <tr>\n",
       "      <th>1</th>\n",
       "      <td>0.352286</td>\n",
       "      <td>0.195756</td>\n",
       "      <td>2</td>\n",
       "    </tr>\n",
       "    <tr>\n",
       "      <th>2</th>\n",
       "      <td>0.371947</td>\n",
       "      <td>0.234764</td>\n",
       "      <td>2</td>\n",
       "    </tr>\n",
       "    <tr>\n",
       "      <th>3</th>\n",
       "      <td>0.400676</td>\n",
       "      <td>0.120883</td>\n",
       "      <td>2</td>\n",
       "    </tr>\n",
       "    <tr>\n",
       "      <th>4</th>\n",
       "      <td>0.723665</td>\n",
       "      <td>0.734587</td>\n",
       "      <td>0</td>\n",
       "    </tr>\n",
       "    <tr>\n",
       "      <th>...</th>\n",
       "      <td>...</td>\n",
       "      <td>...</td>\n",
       "      <td>...</td>\n",
       "    </tr>\n",
       "    <tr>\n",
       "      <th>820</th>\n",
       "      <td>0.525585</td>\n",
       "      <td>0.790365</td>\n",
       "      <td>0</td>\n",
       "    </tr>\n",
       "    <tr>\n",
       "      <th>821</th>\n",
       "      <td>0.713460</td>\n",
       "      <td>0.716298</td>\n",
       "      <td>0</td>\n",
       "    </tr>\n",
       "    <tr>\n",
       "      <th>822</th>\n",
       "      <td>0.572463</td>\n",
       "      <td>0.678332</td>\n",
       "      <td>0</td>\n",
       "    </tr>\n",
       "    <tr>\n",
       "      <th>823</th>\n",
       "      <td>0.749390</td>\n",
       "      <td>0.407511</td>\n",
       "      <td>1</td>\n",
       "    </tr>\n",
       "    <tr>\n",
       "      <th>824</th>\n",
       "      <td>0.453482</td>\n",
       "      <td>0.113602</td>\n",
       "      <td>2</td>\n",
       "    </tr>\n",
       "  </tbody>\n",
       "</table>\n",
       "<p>825 rows × 3 columns</p>\n",
       "</div>"
      ],
      "text/plain": [
       "           x1        x2  Cluster\n",
       "0    0.371062  0.721120        0\n",
       "1    0.352286  0.195756        2\n",
       "2    0.371947  0.234764        2\n",
       "3    0.400676  0.120883        2\n",
       "4    0.723665  0.734587        0\n",
       "..        ...       ...      ...\n",
       "820  0.525585  0.790365        0\n",
       "821  0.713460  0.716298        0\n",
       "822  0.572463  0.678332        0\n",
       "823  0.749390  0.407511        1\n",
       "824  0.453482  0.113602        2\n",
       "\n",
       "[825 rows x 3 columns]"
      ]
     },
     "execution_count": 760,
     "metadata": {},
     "output_type": "execute_result"
    }
   ],
   "source": [
    "from sklearn.preprocessing import MinMaxScaler\n",
    "\n",
    "scaler = MinMaxScaler()\n",
    "\n",
    "scaler.fit(ds[['x1']])\n",
    "ds['x1'] = scaler.transform(ds[['x1']])\n",
    "\n",
    "scaler.fit(ds[['x2']])\n",
    "ds['x2'] = scaler.transform(ds[['x2']])\n",
    "\n",
    "ds"
   ]
  },
  {
   "cell_type": "markdown",
   "metadata": {},
   "source": [
    "Print a statistical summary of your columns (normalized data)"
   ]
  },
  {
   "cell_type": "code",
   "execution_count": 761,
   "metadata": {},
   "outputs": [
    {
     "data": {
      "text/html": [
       "<div>\n",
       "<style scoped>\n",
       "    .dataframe tbody tr th:only-of-type {\n",
       "        vertical-align: middle;\n",
       "    }\n",
       "\n",
       "    .dataframe tbody tr th {\n",
       "        vertical-align: top;\n",
       "    }\n",
       "\n",
       "    .dataframe thead th {\n",
       "        text-align: right;\n",
       "    }\n",
       "</style>\n",
       "<table border=\"1\" class=\"dataframe\">\n",
       "  <thead>\n",
       "    <tr style=\"text-align: right;\">\n",
       "      <th></th>\n",
       "      <th>x1</th>\n",
       "      <th>x2</th>\n",
       "      <th>Cluster</th>\n",
       "    </tr>\n",
       "  </thead>\n",
       "  <tbody>\n",
       "    <tr>\n",
       "      <th>count</th>\n",
       "      <td>825.000000</td>\n",
       "      <td>825.000000</td>\n",
       "      <td>825.000000</td>\n",
       "    </tr>\n",
       "    <tr>\n",
       "      <th>mean</th>\n",
       "      <td>0.507870</td>\n",
       "      <td>0.511551</td>\n",
       "      <td>0.758788</td>\n",
       "    </tr>\n",
       "    <tr>\n",
       "      <th>std</th>\n",
       "      <td>0.213881</td>\n",
       "      <td>0.265730</td>\n",
       "      <td>0.830983</td>\n",
       "    </tr>\n",
       "    <tr>\n",
       "      <th>min</th>\n",
       "      <td>0.000000</td>\n",
       "      <td>0.000000</td>\n",
       "      <td>0.000000</td>\n",
       "    </tr>\n",
       "    <tr>\n",
       "      <th>25%</th>\n",
       "      <td>0.322890</td>\n",
       "      <td>0.262450</td>\n",
       "      <td>0.000000</td>\n",
       "    </tr>\n",
       "    <tr>\n",
       "      <th>50%</th>\n",
       "      <td>0.497278</td>\n",
       "      <td>0.547784</td>\n",
       "      <td>1.000000</td>\n",
       "    </tr>\n",
       "    <tr>\n",
       "      <th>75%</th>\n",
       "      <td>0.690812</td>\n",
       "      <td>0.755936</td>\n",
       "      <td>2.000000</td>\n",
       "    </tr>\n",
       "    <tr>\n",
       "      <th>max</th>\n",
       "      <td>1.000000</td>\n",
       "      <td>1.000000</td>\n",
       "      <td>2.000000</td>\n",
       "    </tr>\n",
       "  </tbody>\n",
       "</table>\n",
       "</div>"
      ],
      "text/plain": [
       "               x1          x2     Cluster\n",
       "count  825.000000  825.000000  825.000000\n",
       "mean     0.507870    0.511551    0.758788\n",
       "std      0.213881    0.265730    0.830983\n",
       "min      0.000000    0.000000    0.000000\n",
       "25%      0.322890    0.262450    0.000000\n",
       "50%      0.497278    0.547784    1.000000\n",
       "75%      0.690812    0.755936    2.000000\n",
       "max      1.000000    1.000000    2.000000"
      ]
     },
     "execution_count": 761,
     "metadata": {},
     "output_type": "execute_result"
    }
   ],
   "source": [
    "ds.describe()"
   ]
  },
  {
   "cell_type": "markdown",
   "metadata": {},
   "source": [
    "# 1) What is the minumum and maximum values of each variable:\n",
    "\n",
    "min= 0,0. max= 1,1.\n",
    "\n",
    "\n",
    "# 2) What is the mean and standar deviation of each variable:\n",
    "\n",
    "mean= 0.507870, 0.511551. std= 0.213881, 0.265730.\n",
    "\n",
    "\n",
    "# 3) What the 25%, 50% and 75% represent?:\n",
    "\n",
    "El 25% representa el primer quartil de los datos. 0.322890, 0.262450\n",
    "\n",
    "El 50% representa el segundo quartil de los datos, por lo general la mediana. 0.497278, 0.547784\n",
    "\n",
    "El 75% representa el tercer quartil de los datos. 0.690812, 0.755936\n",
    "\n",
    "\n",
    "# 4) Are the minimum and maximum values equal to your original data?:\n",
    "\n",
    "No son iguales, el minimo aumento y el maximo disminuyo.\n"
   ]
  },
  {
   "cell_type": "markdown",
   "metadata": {},
   "source": [
    "Plot the scatter plot of your normalizaed data"
   ]
  },
  {
   "cell_type": "code",
   "execution_count": 762,
   "metadata": {},
   "outputs": [
    {
     "data": {
      "image/png": "[encoded data removed]",
      "text/plain": [
       "<Figure size 432x288 with 1 Axes>"
      ]
     },
     "metadata": {
      "needs_background": "light"
     },
     "output_type": "display_data"
    }
   ],
   "source": [
    "plt.scatter(ds.x1,ds.x2)\n",
    "plt.title('x2 vs x1')\n",
    "plt.xlabel('x1')\n",
    "plt.ylabel('x2')\n",
    "plt.show()"
   ]
  },
  {
   "cell_type": "markdown",
   "metadata": {},
   "source": [
    "Do Kmeans clustering assuming a number of clusters accorgind to your scatter plot"
   ]
  },
  {
   "cell_type": "code",
   "execution_count": 763,
   "metadata": {},
   "outputs": [
    {
     "data": {
      "text/plain": [
       "array([1, 2, 2, 2, 3, 3, 2, 3, 1, 3, 1, 0, 0, 1, 2, 3, 2, 2, 2, 1, 3, 2,\n",
       "       0, 2, 3, 1, 2, 3, 1, 2, 1, 2, 2, 1, 1, 3, 0, 2, 1, 3, 0, 2, 3, 1,\n",
       "       2, 0, 0, 3, 0, 1, 1, 3, 2, 3, 3, 3, 2, 3, 1, 0, 3, 2, 3, 2, 0, 1,\n",
       "       2, 0, 2, 0, 2, 2, 2, 0, 1, 1, 1, 3, 3, 3, 3, 2, 1, 0, 2, 0, 3, 0,\n",
       "       1, 3, 2, 0, 1, 3, 3, 3, 0, 3, 2, 2, 0, 0, 0, 0, 0, 3, 3, 2, 0, 0,\n",
       "       2, 3, 1, 2, 1, 3, 0, 3, 2, 3, 2, 3, 2, 2, 3, 3, 2, 3, 1, 1, 0, 1,\n",
       "       3, 3, 2, 2, 0, 1, 3, 0, 3, 2, 0, 1, 2, 1, 1, 0, 0, 2, 1, 0, 2, 1,\n",
       "       3, 3, 0, 2, 3, 2, 0, 3, 0, 0, 1, 0, 3, 0, 3, 2, 0, 3, 1, 2, 0, 2,\n",
       "       1, 0, 3, 3, 3, 1, 3, 1, 0, 2, 3, 0, 1, 1, 0, 3, 3, 2, 3, 3, 2, 0,\n",
       "       0, 2, 1, 0, 0, 2, 3, 0, 1, 2, 2, 1, 1, 1, 3, 1, 2, 1, 0, 0, 0, 1,\n",
       "       2, 1, 1, 3, 3, 0, 0, 1, 0, 3, 0, 0, 3, 3, 0, 1, 3, 3, 3, 3, 2, 1,\n",
       "       0, 0, 2, 2, 2, 0, 2, 1, 2, 0, 3, 1, 0, 0, 0, 3, 0, 2, 1, 3, 2, 3,\n",
       "       1, 3, 0, 2, 0, 2, 2, 3, 1, 2, 2, 1, 1, 2, 1, 0, 3, 3, 1, 2, 0, 0,\n",
       "       2, 2, 3, 1, 1, 2, 1, 1, 1, 1, 3, 1, 2, 2, 1, 1, 1, 2, 0, 2, 2, 0,\n",
       "       2, 2, 3, 2, 1, 1, 1, 2, 2, 2, 1, 2, 1, 3, 2, 0, 0, 0, 2, 2, 2, 2,\n",
       "       0, 3, 3, 3, 0, 3, 3, 3, 2, 3, 0, 0, 3, 1, 0, 3, 3, 0, 1, 3, 2, 3,\n",
       "       0, 3, 1, 3, 0, 1, 0, 1, 3, 2, 1, 2, 3, 1, 2, 3, 2, 3, 0, 2, 0, 1,\n",
       "       2, 3, 2, 3, 2, 3, 1, 0, 0, 1, 1, 1, 2, 0, 2, 3, 0, 0, 0, 3, 3, 1,\n",
       "       2, 0, 3, 1, 1, 2, 0, 2, 0, 3, 0, 3, 2, 1, 0, 1, 0, 2, 3, 3, 3, 3,\n",
       "       2, 2, 0, 1, 0, 0, 2, 3, 0, 1, 2, 2, 3, 1, 3, 2, 3, 2, 2, 0, 2, 1,\n",
       "       2, 2, 3, 2, 1, 0, 3, 2, 0, 2, 0, 1, 0, 3, 1, 0, 3, 1, 0, 1, 3, 0,\n",
       "       3, 0, 2, 2, 2, 3, 1, 3, 1, 2, 3, 2, 1, 1, 1, 2, 2, 0, 3, 0, 0, 3,\n",
       "       1, 2, 0, 3, 2, 2, 0, 3, 2, 1, 3, 3, 3, 2, 3, 2, 2, 0, 3, 1, 1, 1,\n",
       "       0, 0, 0, 3, 3, 1, 3, 3, 3, 0, 0, 3, 1, 1, 3, 1, 0, 3, 1, 1, 1, 0,\n",
       "       0, 0, 2, 1, 3, 0, 1, 1, 1, 3, 0, 0, 1, 1, 2, 1, 2, 0, 1, 3, 0, 3,\n",
       "       0, 3, 1, 0, 3, 1, 0, 3, 3, 1, 0, 3, 3, 0, 0, 3, 0, 0, 1, 1, 2, 3,\n",
       "       3, 2, 2, 0, 3, 3, 1, 1, 2, 2, 3, 1, 2, 1, 1, 0, 3, 1, 1, 0, 3, 3,\n",
       "       3, 1, 0, 0, 1, 2, 3, 0, 2, 3, 0, 0, 1, 1, 3, 2, 0, 2, 1, 1, 2, 3,\n",
       "       0, 2, 3, 0, 0, 0, 3, 3, 3, 0, 2, 2, 3, 2, 3, 0, 3, 3, 0, 2, 2, 0,\n",
       "       1, 2, 1, 2, 3, 0, 3, 0, 2, 1, 1, 2, 1, 2, 2, 1, 1, 3, 2, 3, 3, 1,\n",
       "       1, 3, 0, 0, 3, 2, 1, 2, 2, 3, 1, 2, 3, 3, 1, 0, 3, 1, 0, 3, 0, 3,\n",
       "       1, 3, 2, 3, 2, 2, 1, 0, 3, 2, 2, 1, 1, 1, 3, 0, 0, 0, 2, 1, 3, 3,\n",
       "       2, 0, 2, 0, 1, 0, 0, 0, 0, 0, 2, 3, 1, 1, 1, 0, 3, 2, 3, 2, 3, 3,\n",
       "       1, 0, 0, 1, 3, 1, 3, 3, 1, 1, 2, 3, 1, 1, 0, 0, 3, 3, 1, 0, 0, 0,\n",
       "       3, 2, 1, 1, 0, 0, 0, 0, 1, 0, 3, 0, 0, 0, 0, 2, 2, 3, 1, 2, 0, 0,\n",
       "       2, 2, 3, 0, 1, 1, 2, 3, 2, 3, 1, 2, 2, 3, 2, 1, 3, 2, 1, 3, 2, 2,\n",
       "       2, 2, 2, 3, 1, 0, 2, 2, 3, 0, 1, 2, 2, 3, 0, 2, 0, 1, 0, 2, 2, 3,\n",
       "       3, 0, 3, 0, 1, 2, 3, 3, 3, 0, 2], dtype=int32)"
      ]
     },
     "execution_count": 763,
     "metadata": {},
     "output_type": "execute_result"
    }
   ],
   "source": [
    "km = KMeans(n_clusters=4)\n",
    "yp = km.fit_predict(ds[['x1','x2']])\n",
    "yp"
   ]
  },
  {
   "cell_type": "markdown",
   "metadata": {},
   "source": [
    "Add to your dataset a column with the assihned cluster to each data point"
   ]
  },
  {
   "cell_type": "code",
   "execution_count": 764,
   "metadata": {},
   "outputs": [
    {
     "data": {
      "text/html": [
       "<div>\n",
       "<style scoped>\n",
       "    .dataframe tbody tr th:only-of-type {\n",
       "        vertical-align: middle;\n",
       "    }\n",
       "\n",
       "    .dataframe tbody tr th {\n",
       "        vertical-align: top;\n",
       "    }\n",
       "\n",
       "    .dataframe thead th {\n",
       "        text-align: right;\n",
       "    }\n",
       "</style>\n",
       "<table border=\"1\" class=\"dataframe\">\n",
       "  <thead>\n",
       "    <tr style=\"text-align: right;\">\n",
       "      <th></th>\n",
       "      <th>x1</th>\n",
       "      <th>x2</th>\n",
       "      <th>Cluster</th>\n",
       "      <th>Cluster2</th>\n",
       "    </tr>\n",
       "  </thead>\n",
       "  <tbody>\n",
       "    <tr>\n",
       "      <th>0</th>\n",
       "      <td>0.371062</td>\n",
       "      <td>0.721120</td>\n",
       "      <td>0</td>\n",
       "      <td>1</td>\n",
       "    </tr>\n",
       "    <tr>\n",
       "      <th>1</th>\n",
       "      <td>0.352286</td>\n",
       "      <td>0.195756</td>\n",
       "      <td>2</td>\n",
       "      <td>2</td>\n",
       "    </tr>\n",
       "    <tr>\n",
       "      <th>2</th>\n",
       "      <td>0.371947</td>\n",
       "      <td>0.234764</td>\n",
       "      <td>2</td>\n",
       "      <td>2</td>\n",
       "    </tr>\n",
       "    <tr>\n",
       "      <th>3</th>\n",
       "      <td>0.400676</td>\n",
       "      <td>0.120883</td>\n",
       "      <td>2</td>\n",
       "      <td>2</td>\n",
       "    </tr>\n",
       "    <tr>\n",
       "      <th>4</th>\n",
       "      <td>0.723665</td>\n",
       "      <td>0.734587</td>\n",
       "      <td>0</td>\n",
       "      <td>3</td>\n",
       "    </tr>\n",
       "    <tr>\n",
       "      <th>...</th>\n",
       "      <td>...</td>\n",
       "      <td>...</td>\n",
       "      <td>...</td>\n",
       "      <td>...</td>\n",
       "    </tr>\n",
       "    <tr>\n",
       "      <th>820</th>\n",
       "      <td>0.525585</td>\n",
       "      <td>0.790365</td>\n",
       "      <td>0</td>\n",
       "      <td>3</td>\n",
       "    </tr>\n",
       "    <tr>\n",
       "      <th>821</th>\n",
       "      <td>0.713460</td>\n",
       "      <td>0.716298</td>\n",
       "      <td>0</td>\n",
       "      <td>3</td>\n",
       "    </tr>\n",
       "    <tr>\n",
       "      <th>822</th>\n",
       "      <td>0.572463</td>\n",
       "      <td>0.678332</td>\n",
       "      <td>0</td>\n",
       "      <td>3</td>\n",
       "    </tr>\n",
       "    <tr>\n",
       "      <th>823</th>\n",
       "      <td>0.749390</td>\n",
       "      <td>0.407511</td>\n",
       "      <td>1</td>\n",
       "      <td>0</td>\n",
       "    </tr>\n",
       "    <tr>\n",
       "      <th>824</th>\n",
       "      <td>0.453482</td>\n",
       "      <td>0.113602</td>\n",
       "      <td>2</td>\n",
       "      <td>2</td>\n",
       "    </tr>\n",
       "  </tbody>\n",
       "</table>\n",
       "<p>825 rows × 4 columns</p>\n",
       "</div>"
      ],
      "text/plain": [
       "           x1        x2  Cluster  Cluster2\n",
       "0    0.371062  0.721120        0         1\n",
       "1    0.352286  0.195756        2         2\n",
       "2    0.371947  0.234764        2         2\n",
       "3    0.400676  0.120883        2         2\n",
       "4    0.723665  0.734587        0         3\n",
       "..        ...       ...      ...       ...\n",
       "820  0.525585  0.790365        0         3\n",
       "821  0.713460  0.716298        0         3\n",
       "822  0.572463  0.678332        0         3\n",
       "823  0.749390  0.407511        1         0\n",
       "824  0.453482  0.113602        2         2\n",
       "\n",
       "[825 rows x 4 columns]"
      ]
     },
     "execution_count": 764,
     "metadata": {},
     "output_type": "execute_result"
    }
   ],
   "source": [
    "ds['Cluster2'] = yp\n",
    "\n",
    "ds"
   ]
  },
  {
   "cell_type": "markdown",
   "metadata": {},
   "source": [
    "Print the centroids"
   ]
  },
  {
   "cell_type": "code",
   "execution_count": 765,
   "metadata": {},
   "outputs": [
    {
     "data": {
      "text/plain": [
       "array([[0.76654752, 0.34790975],\n",
       "       [0.29372136, 0.79133826],\n",
       "       [0.3392298 , 0.18115395],\n",
       "       [0.61098877, 0.73104067]])"
      ]
     },
     "execution_count": 765,
     "metadata": {},
     "output_type": "execute_result"
    }
   ],
   "source": [
    "km.cluster_centers_"
   ]
  },
  {
   "cell_type": "markdown",
   "metadata": {},
   "source": [
    "Print the intetia metric"
   ]
  },
  {
   "cell_type": "code",
   "execution_count": 766,
   "metadata": {},
   "outputs": [
    {
     "data": {
      "text/plain": [
       "11.442830500958705"
      ]
     },
     "execution_count": 766,
     "metadata": {},
     "output_type": "execute_result"
    }
   ],
   "source": [
    "km.inertia_"
   ]
  },
  {
   "cell_type": "markdown",
   "metadata": {},
   "source": [
    "Plot a scatter plot of your data assigned to each cluster. Also plot the centroids"
   ]
  },
  {
   "cell_type": "code",
   "execution_count": 767,
   "metadata": {},
   "outputs": [
    {
     "name": "stderr",
     "output_type": "stream",
     "text": [
      "<ipython-input-767-f86cb9fdc093>:6: MatplotlibDeprecationWarning: Case-insensitive properties were deprecated in 3.3 and support will be removed two minor releases later\n",
      "  plt.scatter(df1.x1, df1.x2, Label='grupo1')\n",
      "<ipython-input-767-f86cb9fdc093>:7: MatplotlibDeprecationWarning: Case-insensitive properties were deprecated in 3.3 and support will be removed two minor releases later\n",
      "  plt.scatter(df2.x1, df2.x2, Label='grupo2')\n",
      "<ipython-input-767-f86cb9fdc093>:8: MatplotlibDeprecationWarning: Case-insensitive properties were deprecated in 3.3 and support will be removed two minor releases later\n",
      "  plt.scatter(df3.x1, df3.x2, Label='grupo3')\n",
      "<ipython-input-767-f86cb9fdc093>:9: MatplotlibDeprecationWarning: Case-insensitive properties were deprecated in 3.3 and support will be removed two minor releases later\n",
      "  plt.scatter(df4.x1, df4.x2, Label='grupo4')\n"
     ]
    },
    {
     "data": {
      "image/png": "[encoded data removed]",
      "text/plain": [
       "<Figure size 432x288 with 1 Axes>"
      ]
     },
     "metadata": {
      "needs_background": "light"
     },
     "output_type": "display_data"
    }
   ],
   "source": [
    "df1 = ds[ds.Cluster2==0]\n",
    "df2 = ds[ds.Cluster2==1]\n",
    "df3 = ds[ds.Cluster2==2]\n",
    "df4 = ds[ds.Cluster2==3]\n",
    "\n",
    "plt.scatter(df1.x1, df1.x2, Label='grupo1')\n",
    "plt.scatter(df2.x1, df2.x2, Label='grupo2')\n",
    "plt.scatter(df3.x1, df3.x2, Label='grupo3')\n",
    "plt.scatter(df4.x1, df4.x2, Label='grupo4')\n",
    "\n",
    "plt.scatter(km.cluster_centers_[:,0], km.cluster_centers_[:,1], color='magenta', marker='*', label='Centroides', s=256)\n",
    "\n",
    "plt.title('x2 vs x1')\n",
    "plt.xlabel('x1')\n",
    "plt.ylabel('x2')\n",
    "plt.legend()\n",
    "plt.show()"
   ]
  },
  {
   "cell_type": "markdown",
   "metadata": {},
   "source": [
    "### Questions \n",
    "\n",
    "Provides a detailed description of your results. Does the normalization improve the clustering?\n",
    "\n",
    "Your response: En aspecto no mejoro mucho, pero inercia disminuyo sustancialmente lo que asegura mayor precision. Es evidente que la normalizacion utilizando 4 clusters fue de gran ayuda."
   ]
  },
  {
   "cell_type": "markdown",
   "metadata": {},
   "source": [
    "# Descipcion de tu percepcion del nivel de desarrollo de la subcompetencia \n",
    "\n",
    "### SING0202A Interpretación de variables\n"
   ]
  },
  {
   "cell_type": "markdown",
   "metadata": {},
   "source": [
    "Alcanzada\n",
    "**Interpreta interacciones**. Interpreta interacciones entre variables relevantes en un problema, como base para la construcción de modelos bivariados basados en datos de un fenómeno investigado que le permita reproducir la respuesta del mismo."
   ]
  },
  {
   "cell_type": "markdown",
   "metadata": {},
   "source": [
    "Tu respuesta: Aprendi a manejar modelos estadisticos para entender la relacion entre variables, mas especificamente entre dos variables. Ademas, logre interpretar el significado de los resultados obtenidos con mi analisis."
   ]
  },
  {
   "cell_type": "markdown",
   "metadata": {},
   "source": [
    "Alcanzada\n",
    "**Construcción de modelos**. Es capaz de construir modelos bivariados que expliquen el comportamiento de un fenómeno."
   ]
  },
  {
   "cell_type": "markdown",
   "metadata": {},
   "source": [
    "Tu respuesta: Puedo implementar modelos estadisticos, graficos, matematicos, etc. para la obtencion o manejo de datos. "
   ]
  }
 ],
 "metadata": {
  "kernelspec": {
   "display_name": "Python 3",
   "language": "python",
   "name": "python3"
  },
  "language_info": {
   "codemirror_mode": {
    "name": "ipython",
    "version": 3
   },
   "file_extension": ".py",
   "mimetype": "text/x-python",
   "name": "python",
   "nbconvert_exporter": "python",
   "pygments_lexer": "ipython3",
   "version": "3.8.8"
  }
 },
 "nbformat": 4,
 "nbformat_minor": 2
}
