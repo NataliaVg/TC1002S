{
 "cells": [
  {
   "cell_type": "markdown",
   "metadata": {
    "colab_type": "text",
    "id": "GPScbsDWhjjS"
   },
   "source": [
    "# Data management using Pandas\n",
    "\n",
    "**Data management** is a crucial component to statistical analysis and data science work. \n",
    "\n",
    "This notebook will show you how to import, view, undertand, and manage your data using the [Pandas](http://pandas.pydata.org) data processing library, i.e., the notebook will demonstrates how to read a dataset into Python, and obtain a basic understanding of its content.\n",
    "\n",
    "Note that **Python** by itself is a general-purpose programming language and does not provide high-level data processing capabilities.  The **Pandas** library was developed to meet this need. **Pandas** is the most popular Python library for data manipulation, and we will use it extensively in this course. **Pandas** provides high-performance, easy-to-use data structures and data analysis tools.\n",
    "\n",
    "The main data structure that **Pandas** works with is called a **Data Frame**. This is a two-dimensional table of data in which the rows typically\n",
    "represent cases and the columns represent variables (e.g. data used in this tutorial).  Pandas also has a one-dimensional data structure called a **Series** that we will encounter when accesing a single column of a Data Frame.\n",
    "\n",
    "Pandas has a variety of functions named `read_xxx` for reading data in different formats.  Right now we will focus on reading `csv` files, which stands for comma-separated values. However the other file formats include `excel`, `json`, and `sql`. \n",
    "\n",
    "There are many other options to `read_csv` that are very useful.  For example, you would use the option `sep='\\t'` instead of the default `sep=','` if the fields of your data file are delimited by tabs instead of commas.  See [here](https://pandas.pydata.org/pandas-docs/stable/generated/pandas.read_csv.html) for the full documentation for `read_csv`.\n",
    "\n",
    "\n",
    "## Acknowledgments\n",
    "\n",
    "- The dataset used in this tutorial is from https://www.coursera.org/ from the course \"Understanding and Visualizing Data with Python\" by University of Michigan\n"
   ]
  },
  {
   "cell_type": "markdown",
   "metadata": {
    "colab_type": "text",
    "id": "b9FN-daXhjjT"
   },
   "source": [
    "# Importing libraries\n"
   ]
  },
  {
   "cell_type": "code",
   "execution_count": 2,
   "metadata": {
    "colab": {},
    "colab_type": "code",
    "id": "uRwVhX-YhjjU"
   },
   "outputs": [],
   "source": [
    "# Import the packages that we will be using\n",
    "import pandas as pd                 # For data handling\n",
    "\n",
    "#pd.set_option('display.max_columns', 100) # Show all columns when looking at dataframe"
   ]
  },
  {
   "cell_type": "markdown",
   "metadata": {
    "colab_type": "text",
    "id": "MbGKgakihjjg"
   },
   "source": [
    "# Importing data"
   ]
  },
  {
   "cell_type": "code",
   "execution_count": 11,
   "metadata": {
    "colab": {},
    "colab_type": "code",
    "id": "DXHHhj2jhjjg",
    "outputId": "af99e411-9c09-44aa-d619-553b2d2a5aa8"
   },
   "outputs": [],
   "source": [
    "# url string that hosts our .csv file\r\n",
    "url = \"datasets/cartwheel/cartwheel.csv\"\r\n",
    "\r\n",
    "# Read the .csv file and store it as a pandas Data Frame\r\n",
    "df = pd.read_csv(url)\r\n",
    "\r\n"
   ]
  },
  {
   "cell_type": "markdown",
   "metadata": {},
   "source": [
    "If we want to print the information about th output object type we would simply type the following:"
   ]
  },
  {
   "cell_type": "code",
   "execution_count": 12,
   "metadata": {},
   "outputs": [
    {
     "data": {
      "text/plain": "pandas.core.frame.DataFrame"
     },
     "execution_count": 12,
     "metadata": {},
     "output_type": "execute_result"
    }
   ],
   "source": [
    "type(df)"
   ]
  },
  {
   "cell_type": "markdown",
   "metadata": {
    "colab_type": "text",
    "id": "-TrO3YWShjjl"
   },
   "source": [
    "# Exploring the content of the data set\n",
    "\n",
    "Use the `shape` method to determine the numbers of rows and columns in a data frame. This can be used to confirm that we have actually obtained the data the we are expecting.\n",
    "\n",
    "Based on what we see below, the data set being read here has $N_r$ rows, corresponding to $N_r$ observations, and $N_c$ columns, corresponding to $N_c$ variables in this particular data file."
   ]
  },
  {
   "cell_type": "code",
   "execution_count": 13,
   "metadata": {},
   "outputs": [
    {
     "data": {
      "text/plain": "(28, 12)"
     },
     "execution_count": 13,
     "metadata": {},
     "output_type": "execute_result"
    }
   ],
   "source": [
    "df.shape"
   ]
  },
  {
   "cell_type": "markdown",
   "metadata": {},
   "source": [
    "If we want to show the entire data frame we would simply write the following:"
   ]
  },
  {
   "cell_type": "code",
   "execution_count": 14,
   "metadata": {
    "colab": {},
    "colab_type": "code",
    "id": "clB7ZnfOhjjq",
    "outputId": "32b34b9e-c481-4c46-b443-488ac7097c55"
   },
   "outputs": [
    {
     "data": {
      "text/html": "<div>\n<style scoped>\n    .dataframe tbody tr th:only-of-type {\n        vertical-align: middle;\n    }\n\n    .dataframe tbody tr th {\n        vertical-align: top;\n    }\n\n    .dataframe thead th {\n        text-align: right;\n    }\n</style>\n<table border=\"1\" class=\"dataframe\">\n  <thead>\n    <tr style=\"text-align: right;\">\n      <th></th>\n      <th>ID</th>\n      <th>Age</th>\n      <th>Gender</th>\n      <th>GenderGroup</th>\n      <th>Glasses</th>\n      <th>GlassesGroup</th>\n      <th>Height</th>\n      <th>Wingspan</th>\n      <th>CWDistance</th>\n      <th>Complete</th>\n      <th>CompleteGroup</th>\n      <th>Score</th>\n    </tr>\n  </thead>\n  <tbody>\n    <tr>\n      <th>0</th>\n      <td>1</td>\n      <td>56.0</td>\n      <td>F</td>\n      <td>1</td>\n      <td>Y</td>\n      <td>1</td>\n      <td>62.00</td>\n      <td>61.0</td>\n      <td>79</td>\n      <td>Y</td>\n      <td>1.0</td>\n      <td>7</td>\n    </tr>\n    <tr>\n      <th>1</th>\n      <td>2</td>\n      <td>26.0</td>\n      <td>F</td>\n      <td>1</td>\n      <td>Y</td>\n      <td>1</td>\n      <td>62.00</td>\n      <td>60.0</td>\n      <td>70</td>\n      <td>Y</td>\n      <td>1.0</td>\n      <td>8</td>\n    </tr>\n    <tr>\n      <th>2</th>\n      <td>3</td>\n      <td>33.0</td>\n      <td>F</td>\n      <td>1</td>\n      <td>Y</td>\n      <td>1</td>\n      <td>66.00</td>\n      <td>64.0</td>\n      <td>85</td>\n      <td>Y</td>\n      <td>1.0</td>\n      <td>7</td>\n    </tr>\n    <tr>\n      <th>3</th>\n      <td>4</td>\n      <td>39.0</td>\n      <td>F</td>\n      <td>1</td>\n      <td>N</td>\n      <td>0</td>\n      <td>64.00</td>\n      <td>63.0</td>\n      <td>87</td>\n      <td>Y</td>\n      <td>1.0</td>\n      <td>10</td>\n    </tr>\n    <tr>\n      <th>4</th>\n      <td>5</td>\n      <td>27.0</td>\n      <td>M</td>\n      <td>2</td>\n      <td>N</td>\n      <td>0</td>\n      <td>73.00</td>\n      <td>75.0</td>\n      <td>72</td>\n      <td>N</td>\n      <td>0.0</td>\n      <td>4</td>\n    </tr>\n    <tr>\n      <th>5</th>\n      <td>6</td>\n      <td>24.0</td>\n      <td>M</td>\n      <td>2</td>\n      <td>N</td>\n      <td>0</td>\n      <td>75.00</td>\n      <td>71.0</td>\n      <td>81</td>\n      <td>N</td>\n      <td>0.0</td>\n      <td>3</td>\n    </tr>\n    <tr>\n      <th>6</th>\n      <td>7</td>\n      <td>28.0</td>\n      <td>M</td>\n      <td>2</td>\n      <td>N</td>\n      <td>0</td>\n      <td>75.00</td>\n      <td>76.0</td>\n      <td>107</td>\n      <td>Y</td>\n      <td>1.0</td>\n      <td>10</td>\n    </tr>\n    <tr>\n      <th>7</th>\n      <td>8</td>\n      <td>22.0</td>\n      <td>F</td>\n      <td>1</td>\n      <td>N</td>\n      <td>0</td>\n      <td>65.00</td>\n      <td>62.0</td>\n      <td>98</td>\n      <td>Y</td>\n      <td>1.0</td>\n      <td>9</td>\n    </tr>\n    <tr>\n      <th>8</th>\n      <td>9</td>\n      <td>29.0</td>\n      <td>M</td>\n      <td>2</td>\n      <td>Y</td>\n      <td>1</td>\n      <td>74.00</td>\n      <td>73.0</td>\n      <td>106</td>\n      <td>N</td>\n      <td>0.0</td>\n      <td>5</td>\n    </tr>\n    <tr>\n      <th>9</th>\n      <td>10</td>\n      <td>33.0</td>\n      <td>F</td>\n      <td>1</td>\n      <td>Y</td>\n      <td>1</td>\n      <td>63.00</td>\n      <td>60.0</td>\n      <td>65</td>\n      <td>Y</td>\n      <td>1.0</td>\n      <td>8</td>\n    </tr>\n    <tr>\n      <th>10</th>\n      <td>11</td>\n      <td>30.0</td>\n      <td>M</td>\n      <td>2</td>\n      <td>Y</td>\n      <td>1</td>\n      <td>69.50</td>\n      <td>66.0</td>\n      <td>96</td>\n      <td>Y</td>\n      <td>1.0</td>\n      <td>6</td>\n    </tr>\n    <tr>\n      <th>11</th>\n      <td>12</td>\n      <td>28.0</td>\n      <td>F</td>\n      <td>1</td>\n      <td>Y</td>\n      <td>1</td>\n      <td>62.75</td>\n      <td>58.0</td>\n      <td>79</td>\n      <td>Y</td>\n      <td>1.0</td>\n      <td>10</td>\n    </tr>\n    <tr>\n      <th>12</th>\n      <td>13</td>\n      <td>25.0</td>\n      <td>F</td>\n      <td>1</td>\n      <td>Y</td>\n      <td>1</td>\n      <td>65.00</td>\n      <td>64.5</td>\n      <td>92</td>\n      <td>Y</td>\n      <td>1.0</td>\n      <td>6</td>\n    </tr>\n    <tr>\n      <th>13</th>\n      <td>14</td>\n      <td>23.0</td>\n      <td>F</td>\n      <td>1</td>\n      <td>N</td>\n      <td>0</td>\n      <td>61.50</td>\n      <td>57.5</td>\n      <td>66</td>\n      <td>Y</td>\n      <td>1.0</td>\n      <td>4</td>\n    </tr>\n    <tr>\n      <th>14</th>\n      <td>15</td>\n      <td>31.0</td>\n      <td>M</td>\n      <td>2</td>\n      <td>Y</td>\n      <td>1</td>\n      <td>73.00</td>\n      <td>74.0</td>\n      <td>72</td>\n      <td>Y</td>\n      <td>1.0</td>\n      <td>9</td>\n    </tr>\n    <tr>\n      <th>15</th>\n      <td>16</td>\n      <td>26.0</td>\n      <td>M</td>\n      <td>2</td>\n      <td>Y</td>\n      <td>1</td>\n      <td>71.00</td>\n      <td>72.0</td>\n      <td>115</td>\n      <td>Y</td>\n      <td>1.0</td>\n      <td>6</td>\n    </tr>\n    <tr>\n      <th>16</th>\n      <td>17</td>\n      <td>26.0</td>\n      <td>F</td>\n      <td>1</td>\n      <td>N</td>\n      <td>0</td>\n      <td>61.50</td>\n      <td>59.5</td>\n      <td>90</td>\n      <td>N</td>\n      <td>0.0</td>\n      <td>10</td>\n    </tr>\n    <tr>\n      <th>17</th>\n      <td>18</td>\n      <td>27.0</td>\n      <td>M</td>\n      <td>2</td>\n      <td>N</td>\n      <td>0</td>\n      <td>66.00</td>\n      <td>66.0</td>\n      <td>74</td>\n      <td>Y</td>\n      <td>1.0</td>\n      <td>5</td>\n    </tr>\n    <tr>\n      <th>18</th>\n      <td>19</td>\n      <td>23.0</td>\n      <td>M</td>\n      <td>2</td>\n      <td>Y</td>\n      <td>1</td>\n      <td>70.00</td>\n      <td>69.0</td>\n      <td>64</td>\n      <td>Y</td>\n      <td>1.0</td>\n      <td>3</td>\n    </tr>\n    <tr>\n      <th>19</th>\n      <td>20</td>\n      <td>24.0</td>\n      <td>F</td>\n      <td>1</td>\n      <td>Y</td>\n      <td>1</td>\n      <td>68.00</td>\n      <td>66.0</td>\n      <td>85</td>\n      <td>Y</td>\n      <td>1.0</td>\n      <td>8</td>\n    </tr>\n    <tr>\n      <th>20</th>\n      <td>21</td>\n      <td>23.0</td>\n      <td>M</td>\n      <td>2</td>\n      <td>Y</td>\n      <td>1</td>\n      <td>69.00</td>\n      <td>67.0</td>\n      <td>66</td>\n      <td>N</td>\n      <td>0.0</td>\n      <td>2</td>\n    </tr>\n    <tr>\n      <th>21</th>\n      <td>22</td>\n      <td>29.0</td>\n      <td>M</td>\n      <td>2</td>\n      <td>N</td>\n      <td>0</td>\n      <td>71.00</td>\n      <td>70.0</td>\n      <td>101</td>\n      <td>Y</td>\n      <td>1.0</td>\n      <td>8</td>\n    </tr>\n    <tr>\n      <th>22</th>\n      <td>23</td>\n      <td>25.0</td>\n      <td>M</td>\n      <td>2</td>\n      <td>N</td>\n      <td>0</td>\n      <td>70.00</td>\n      <td>68.0</td>\n      <td>82</td>\n      <td>Y</td>\n      <td>1.0</td>\n      <td>4</td>\n    </tr>\n    <tr>\n      <th>23</th>\n      <td>24</td>\n      <td>26.0</td>\n      <td>M</td>\n      <td>2</td>\n      <td>N</td>\n      <td>0</td>\n      <td>69.00</td>\n      <td>71.0</td>\n      <td>63</td>\n      <td>Y</td>\n      <td>1.0</td>\n      <td>5</td>\n    </tr>\n    <tr>\n      <th>24</th>\n      <td>25</td>\n      <td>23.0</td>\n      <td>F</td>\n      <td>1</td>\n      <td>Y</td>\n      <td>1</td>\n      <td>65.00</td>\n      <td>63.0</td>\n      <td>67</td>\n      <td>N</td>\n      <td>0.0</td>\n      <td>3</td>\n    </tr>\n    <tr>\n      <th>25</th>\n      <td>26</td>\n      <td>30.0</td>\n      <td>F</td>\n      <td>1</td>\n      <td>N</td>\n      <td>0</td>\n      <td>74.60</td>\n      <td>NaN</td>\n      <td>71</td>\n      <td>Y</td>\n      <td>1.0</td>\n      <td>9</td>\n    </tr>\n    <tr>\n      <th>26</th>\n      <td>27</td>\n      <td>NaN</td>\n      <td>M</td>\n      <td>2</td>\n      <td>N</td>\n      <td>0</td>\n      <td>71.00</td>\n      <td>70.0</td>\n      <td>101</td>\n      <td>Y</td>\n      <td>NaN</td>\n      <td>8</td>\n    </tr>\n    <tr>\n      <th>27</th>\n      <td>28</td>\n      <td>27.0</td>\n      <td>M</td>\n      <td>2</td>\n      <td>N</td>\n      <td>0</td>\n      <td>NaN</td>\n      <td>71.5</td>\n      <td>103</td>\n      <td>Y</td>\n      <td>1.0</td>\n      <td>10</td>\n    </tr>\n  </tbody>\n</table>\n</div>",
      "text/plain": "    ID   Age Gender  GenderGroup Glasses  GlassesGroup  Height  Wingspan  \\\n0    1  56.0      F            1       Y             1   62.00      61.0   \n1    2  26.0      F            1       Y             1   62.00      60.0   \n2    3  33.0      F            1       Y             1   66.00      64.0   \n3    4  39.0      F            1       N             0   64.00      63.0   \n4    5  27.0      M            2       N             0   73.00      75.0   \n5    6  24.0      M            2       N             0   75.00      71.0   \n6    7  28.0      M            2       N             0   75.00      76.0   \n7    8  22.0      F            1       N             0   65.00      62.0   \n8    9  29.0      M            2       Y             1   74.00      73.0   \n9   10  33.0      F            1       Y             1   63.00      60.0   \n10  11  30.0      M            2       Y             1   69.50      66.0   \n11  12  28.0      F            1       Y             1   62.75      58.0   \n12  13  25.0      F            1       Y             1   65.00      64.5   \n13  14  23.0      F            1       N             0   61.50      57.5   \n14  15  31.0      M            2       Y             1   73.00      74.0   \n15  16  26.0      M            2       Y             1   71.00      72.0   \n16  17  26.0      F            1       N             0   61.50      59.5   \n17  18  27.0      M            2       N             0   66.00      66.0   \n18  19  23.0      M            2       Y             1   70.00      69.0   \n19  20  24.0      F            1       Y             1   68.00      66.0   \n20  21  23.0      M            2       Y             1   69.00      67.0   \n21  22  29.0      M            2       N             0   71.00      70.0   \n22  23  25.0      M            2       N             0   70.00      68.0   \n23  24  26.0      M            2       N             0   69.00      71.0   \n24  25  23.0      F            1       Y             1   65.00      63.0   \n25  26  30.0      F            1       N             0   74.60       NaN   \n26  27   NaN      M            2       N             0   71.00      70.0   \n27  28  27.0      M            2       N             0     NaN      71.5   \n\n    CWDistance Complete  CompleteGroup  Score  \n0           79        Y            1.0      7  \n1           70        Y            1.0      8  \n2           85        Y            1.0      7  \n3           87        Y            1.0     10  \n4           72        N            0.0      4  \n5           81        N            0.0      3  \n6          107        Y            1.0     10  \n7           98        Y            1.0      9  \n8          106        N            0.0      5  \n9           65        Y            1.0      8  \n10          96        Y            1.0      6  \n11          79        Y            1.0     10  \n12          92        Y            1.0      6  \n13          66        Y            1.0      4  \n14          72        Y            1.0      9  \n15         115        Y            1.0      6  \n16          90        N            0.0     10  \n17          74        Y            1.0      5  \n18          64        Y            1.0      3  \n19          85        Y            1.0      8  \n20          66        N            0.0      2  \n21         101        Y            1.0      8  \n22          82        Y            1.0      4  \n23          63        Y            1.0      5  \n24          67        N            0.0      3  \n25          71        Y            1.0      9  \n26         101        Y            NaN      8  \n27         103        Y            1.0     10  "
     },
     "execution_count": 14,
     "metadata": {},
     "output_type": "execute_result"
    }
   ],
   "source": [
    "df"
   ]
  },
  {
   "cell_type": "markdown",
   "metadata": {},
   "source": [
    "As you can see, we have a 2-Dimensional object where each row is an independent observation and each coloum is a variable.\n",
    "\n",
    "Now, use the the `head()` function to show the first 5 rows of our data frame"
   ]
  },
  {
   "cell_type": "code",
   "execution_count": 15,
   "metadata": {
    "colab": {},
    "colab_type": "code",
    "id": "IMgR30w4hjjl",
    "outputId": "9a269897-78a7-4380-9634-81d2d6165c2d"
   },
   "outputs": [
    {
     "data": {
      "text/html": "<div>\n<style scoped>\n    .dataframe tbody tr th:only-of-type {\n        vertical-align: middle;\n    }\n\n    .dataframe tbody tr th {\n        vertical-align: top;\n    }\n\n    .dataframe thead th {\n        text-align: right;\n    }\n</style>\n<table border=\"1\" class=\"dataframe\">\n  <thead>\n    <tr style=\"text-align: right;\">\n      <th></th>\n      <th>ID</th>\n      <th>Age</th>\n      <th>Gender</th>\n      <th>GenderGroup</th>\n      <th>Glasses</th>\n      <th>GlassesGroup</th>\n      <th>Height</th>\n      <th>Wingspan</th>\n      <th>CWDistance</th>\n      <th>Complete</th>\n      <th>CompleteGroup</th>\n      <th>Score</th>\n    </tr>\n  </thead>\n  <tbody>\n    <tr>\n      <th>0</th>\n      <td>1</td>\n      <td>56.0</td>\n      <td>F</td>\n      <td>1</td>\n      <td>Y</td>\n      <td>1</td>\n      <td>62.0</td>\n      <td>61.0</td>\n      <td>79</td>\n      <td>Y</td>\n      <td>1.0</td>\n      <td>7</td>\n    </tr>\n    <tr>\n      <th>1</th>\n      <td>2</td>\n      <td>26.0</td>\n      <td>F</td>\n      <td>1</td>\n      <td>Y</td>\n      <td>1</td>\n      <td>62.0</td>\n      <td>60.0</td>\n      <td>70</td>\n      <td>Y</td>\n      <td>1.0</td>\n      <td>8</td>\n    </tr>\n    <tr>\n      <th>2</th>\n      <td>3</td>\n      <td>33.0</td>\n      <td>F</td>\n      <td>1</td>\n      <td>Y</td>\n      <td>1</td>\n      <td>66.0</td>\n      <td>64.0</td>\n      <td>85</td>\n      <td>Y</td>\n      <td>1.0</td>\n      <td>7</td>\n    </tr>\n    <tr>\n      <th>3</th>\n      <td>4</td>\n      <td>39.0</td>\n      <td>F</td>\n      <td>1</td>\n      <td>N</td>\n      <td>0</td>\n      <td>64.0</td>\n      <td>63.0</td>\n      <td>87</td>\n      <td>Y</td>\n      <td>1.0</td>\n      <td>10</td>\n    </tr>\n    <tr>\n      <th>4</th>\n      <td>5</td>\n      <td>27.0</td>\n      <td>M</td>\n      <td>2</td>\n      <td>N</td>\n      <td>0</td>\n      <td>73.0</td>\n      <td>75.0</td>\n      <td>72</td>\n      <td>N</td>\n      <td>0.0</td>\n      <td>4</td>\n    </tr>\n  </tbody>\n</table>\n</div>",
      "text/plain": "   ID   Age Gender  GenderGroup Glasses  GlassesGroup  Height  Wingspan  \\\n0   1  56.0      F            1       Y             1    62.0      61.0   \n1   2  26.0      F            1       Y             1    62.0      60.0   \n2   3  33.0      F            1       Y             1    66.0      64.0   \n3   4  39.0      F            1       N             0    64.0      63.0   \n4   5  27.0      M            2       N             0    73.0      75.0   \n\n   CWDistance Complete  CompleteGroup  Score  \n0          79        Y            1.0      7  \n1          70        Y            1.0      8  \n2          85        Y            1.0      7  \n3          87        Y            1.0     10  \n4          72        N            0.0      4  "
     },
     "execution_count": 15,
     "metadata": {},
     "output_type": "execute_result"
    }
   ],
   "source": [
    "df.head()\n",
    "#df.head(10)"
   ]
  },
  {
   "cell_type": "markdown",
   "metadata": {},
   "source": [
    "Also, you can use the the `tail()` function to show the last 5 rows of our data frame"
   ]
  },
  {
   "cell_type": "code",
   "execution_count": 16,
   "metadata": {},
   "outputs": [
    {
     "data": {
      "text/html": "<div>\n<style scoped>\n    .dataframe tbody tr th:only-of-type {\n        vertical-align: middle;\n    }\n\n    .dataframe tbody tr th {\n        vertical-align: top;\n    }\n\n    .dataframe thead th {\n        text-align: right;\n    }\n</style>\n<table border=\"1\" class=\"dataframe\">\n  <thead>\n    <tr style=\"text-align: right;\">\n      <th></th>\n      <th>ID</th>\n      <th>Age</th>\n      <th>Gender</th>\n      <th>GenderGroup</th>\n      <th>Glasses</th>\n      <th>GlassesGroup</th>\n      <th>Height</th>\n      <th>Wingspan</th>\n      <th>CWDistance</th>\n      <th>Complete</th>\n      <th>CompleteGroup</th>\n      <th>Score</th>\n    </tr>\n  </thead>\n  <tbody>\n    <tr>\n      <th>23</th>\n      <td>24</td>\n      <td>26.0</td>\n      <td>M</td>\n      <td>2</td>\n      <td>N</td>\n      <td>0</td>\n      <td>69.0</td>\n      <td>71.0</td>\n      <td>63</td>\n      <td>Y</td>\n      <td>1.0</td>\n      <td>5</td>\n    </tr>\n    <tr>\n      <th>24</th>\n      <td>25</td>\n      <td>23.0</td>\n      <td>F</td>\n      <td>1</td>\n      <td>Y</td>\n      <td>1</td>\n      <td>65.0</td>\n      <td>63.0</td>\n      <td>67</td>\n      <td>N</td>\n      <td>0.0</td>\n      <td>3</td>\n    </tr>\n    <tr>\n      <th>25</th>\n      <td>26</td>\n      <td>30.0</td>\n      <td>F</td>\n      <td>1</td>\n      <td>N</td>\n      <td>0</td>\n      <td>74.6</td>\n      <td>NaN</td>\n      <td>71</td>\n      <td>Y</td>\n      <td>1.0</td>\n      <td>9</td>\n    </tr>\n    <tr>\n      <th>26</th>\n      <td>27</td>\n      <td>NaN</td>\n      <td>M</td>\n      <td>2</td>\n      <td>N</td>\n      <td>0</td>\n      <td>71.0</td>\n      <td>70.0</td>\n      <td>101</td>\n      <td>Y</td>\n      <td>NaN</td>\n      <td>8</td>\n    </tr>\n    <tr>\n      <th>27</th>\n      <td>28</td>\n      <td>27.0</td>\n      <td>M</td>\n      <td>2</td>\n      <td>N</td>\n      <td>0</td>\n      <td>NaN</td>\n      <td>71.5</td>\n      <td>103</td>\n      <td>Y</td>\n      <td>1.0</td>\n      <td>10</td>\n    </tr>\n  </tbody>\n</table>\n</div>",
      "text/plain": "    ID   Age Gender  GenderGroup Glasses  GlassesGroup  Height  Wingspan  \\\n23  24  26.0      M            2       N             0    69.0      71.0   \n24  25  23.0      F            1       Y             1    65.0      63.0   \n25  26  30.0      F            1       N             0    74.6       NaN   \n26  27   NaN      M            2       N             0    71.0      70.0   \n27  28  27.0      M            2       N             0     NaN      71.5   \n\n    CWDistance Complete  CompleteGroup  Score  \n23          63        Y            1.0      5  \n24          67        N            0.0      3  \n25          71        Y            1.0      9  \n26         101        Y            NaN      8  \n27         103        Y            1.0     10  "
     },
     "execution_count": 16,
     "metadata": {},
     "output_type": "execute_result"
    }
   ],
   "source": [
    "df.tail()\n",
    "#df.tail(3)"
   ]
  },
  {
   "cell_type": "markdown",
   "metadata": {
    "colab_type": "text",
    "id": "-F1DVbu4hjju"
   },
   "source": [
    "The columns in a Pandas data frame have names, to see the names, use the `columns` method:\n",
    "\n",
    "To gather more information regarding the data, we can view the column names with the following function:"
   ]
  },
  {
   "cell_type": "code",
   "execution_count": 17,
   "metadata": {
    "colab": {},
    "colab_type": "code",
    "id": "pEdgVYnDhjjv",
    "outputId": "3c4a5edc-e29d-4665-b58c-b2e9fa125442"
   },
   "outputs": [
    {
     "data": {
      "text/plain": "Index(['ID', 'Age', 'Gender', 'GenderGroup', 'Glasses', 'GlassesGroup',\n       'Height', 'Wingspan', 'CWDistance', 'Complete', 'CompleteGroup',\n       'Score'],\n      dtype='object')"
     },
     "execution_count": 17,
     "metadata": {},
     "output_type": "execute_result"
    }
   ],
   "source": [
    "df.columns"
   ]
  },
  {
   "cell_type": "markdown",
   "metadata": {},
   "source": [
    "Be aware that every variable in a Pandas data frame has a data type.  There are many different data types, but most commonly you will encounter floating point values (real numbers), integers, strings (text), and date/time values.  When Pandas reads a text/csv file, it guesses the data types based on what it sees in the first few rows of the data file.  Usually it selects an appropriate type, but occasionally it does not.  To confirm that the data types are consistent with what the variables represent, inspect the `dtypes` attribute of the data frame."
   ]
  },
  {
   "cell_type": "code",
   "execution_count": 18,
   "metadata": {},
   "outputs": [
    {
     "data": {
      "text/plain": "ID                 int64\nAge              float64\nGender            object\nGenderGroup        int64\nGlasses           object\nGlassesGroup       int64\nHeight           float64\nWingspan         float64\nCWDistance         int64\nComplete          object\nCompleteGroup    float64\nScore              int64\ndtype: object"
     },
     "execution_count": 18,
     "metadata": {},
     "output_type": "execute_result"
    }
   ],
   "source": [
    "df.dtypes"
   ]
  },
  {
   "cell_type": "markdown",
   "metadata": {},
   "source": [
    "Summary statistics, which include things like the mean, min, and max of the data, can be useful to get a feel for how large some of the variables are and what variables may be the most important. "
   ]
  },
  {
   "cell_type": "code",
   "execution_count": 19,
   "metadata": {},
   "outputs": [
    {
     "data": {
      "text/html": "<div>\n<style scoped>\n    .dataframe tbody tr th:only-of-type {\n        vertical-align: middle;\n    }\n\n    .dataframe tbody tr th {\n        vertical-align: top;\n    }\n\n    .dataframe thead th {\n        text-align: right;\n    }\n</style>\n<table border=\"1\" class=\"dataframe\">\n  <thead>\n    <tr style=\"text-align: right;\">\n      <th></th>\n      <th>ID</th>\n      <th>Age</th>\n      <th>GenderGroup</th>\n      <th>GlassesGroup</th>\n      <th>Height</th>\n      <th>Wingspan</th>\n      <th>CWDistance</th>\n      <th>CompleteGroup</th>\n      <th>Score</th>\n    </tr>\n  </thead>\n  <tbody>\n    <tr>\n      <th>count</th>\n      <td>28.000000</td>\n      <td>27.000000</td>\n      <td>28.000000</td>\n      <td>28.000000</td>\n      <td>27.000000</td>\n      <td>27.000000</td>\n      <td>28.000000</td>\n      <td>27.000000</td>\n      <td>28.000000</td>\n    </tr>\n    <tr>\n      <th>mean</th>\n      <td>14.500000</td>\n      <td>28.259259</td>\n      <td>1.535714</td>\n      <td>0.500000</td>\n      <td>68.031481</td>\n      <td>66.592593</td>\n      <td>83.464286</td>\n      <td>0.777778</td>\n      <td>6.678571</td>\n    </tr>\n    <tr>\n      <th>std</th>\n      <td>8.225975</td>\n      <td>6.728771</td>\n      <td>0.507875</td>\n      <td>0.509175</td>\n      <td>4.501477</td>\n      <td>5.415500</td>\n      <td>15.288539</td>\n      <td>0.423659</td>\n      <td>2.539373</td>\n    </tr>\n    <tr>\n      <th>min</th>\n      <td>1.000000</td>\n      <td>22.000000</td>\n      <td>1.000000</td>\n      <td>0.000000</td>\n      <td>61.500000</td>\n      <td>57.500000</td>\n      <td>63.000000</td>\n      <td>0.000000</td>\n      <td>2.000000</td>\n    </tr>\n    <tr>\n      <th>25%</th>\n      <td>7.750000</td>\n      <td>24.500000</td>\n      <td>1.000000</td>\n      <td>0.000000</td>\n      <td>64.500000</td>\n      <td>62.500000</td>\n      <td>70.750000</td>\n      <td>1.000000</td>\n      <td>4.750000</td>\n    </tr>\n    <tr>\n      <th>50%</th>\n      <td>14.500000</td>\n      <td>27.000000</td>\n      <td>2.000000</td>\n      <td>0.500000</td>\n      <td>69.000000</td>\n      <td>66.000000</td>\n      <td>81.500000</td>\n      <td>1.000000</td>\n      <td>7.000000</td>\n    </tr>\n    <tr>\n      <th>75%</th>\n      <td>21.250000</td>\n      <td>29.500000</td>\n      <td>2.000000</td>\n      <td>1.000000</td>\n      <td>71.000000</td>\n      <td>71.000000</td>\n      <td>96.500000</td>\n      <td>1.000000</td>\n      <td>9.000000</td>\n    </tr>\n    <tr>\n      <th>max</th>\n      <td>28.000000</td>\n      <td>56.000000</td>\n      <td>2.000000</td>\n      <td>1.000000</td>\n      <td>75.000000</td>\n      <td>76.000000</td>\n      <td>115.000000</td>\n      <td>1.000000</td>\n      <td>10.000000</td>\n    </tr>\n  </tbody>\n</table>\n</div>",
      "text/plain": "              ID        Age  GenderGroup  GlassesGroup     Height   Wingspan  \\\ncount  28.000000  27.000000    28.000000     28.000000  27.000000  27.000000   \nmean   14.500000  28.259259     1.535714      0.500000  68.031481  66.592593   \nstd     8.225975   6.728771     0.507875      0.509175   4.501477   5.415500   \nmin     1.000000  22.000000     1.000000      0.000000  61.500000  57.500000   \n25%     7.750000  24.500000     1.000000      0.000000  64.500000  62.500000   \n50%    14.500000  27.000000     2.000000      0.500000  69.000000  66.000000   \n75%    21.250000  29.500000     2.000000      1.000000  71.000000  71.000000   \nmax    28.000000  56.000000     2.000000      1.000000  75.000000  76.000000   \n\n       CWDistance  CompleteGroup      Score  \ncount   28.000000      27.000000  28.000000  \nmean    83.464286       0.777778   6.678571  \nstd     15.288539       0.423659   2.539373  \nmin     63.000000       0.000000   2.000000  \n25%     70.750000       1.000000   4.750000  \n50%     81.500000       1.000000   7.000000  \n75%     96.500000       1.000000   9.000000  \nmax    115.000000       1.000000  10.000000  "
     },
     "execution_count": 19,
     "metadata": {},
     "output_type": "execute_result"
    }
   ],
   "source": [
    "# Summary statistics for the quantitative variables\n",
    "df.describe()\n"
   ]
  },
  {
   "cell_type": "code",
   "execution_count": 20,
   "metadata": {},
   "outputs": [
    {
     "data": {
      "text/plain": "count    27.000000\nmean     28.259259\nstd       6.728771\nmin      22.000000\n25%      24.500000\n50%      27.000000\n75%      29.500000\nmax      56.000000\nName: Age, dtype: float64"
     },
     "execution_count": 20,
     "metadata": {},
     "output_type": "execute_result"
    }
   ],
   "source": [
    "# Drop observations with NaN values\n",
    "df.Age.dropna().describe()\n",
    "#df.Wingspan.dropna().describe()"
   ]
  },
  {
   "cell_type": "markdown",
   "metadata": {},
   "source": [
    "It is also possible to get statistics on the entire data frame or a column as follows\n",
    "\n",
    "- `df.mean()` Returns the mean of all columns\n",
    "- `df.corr()` Returns the correlation between columns in a data frame\n",
    "- `df.count()` Returns the number of non-null values in each data frame column\n",
    "- `df.max()` Returns the highest value in each column\n",
    "- `df.min()` Returns the lowest value in each column\n",
    "- `df.median()` Returns the median of each column\n",
    "- `df.std()` Returns the standard deviation of each column"
   ]
  },
  {
   "cell_type": "code",
   "execution_count": 21,
   "metadata": {},
   "outputs": [
    {
     "data": {
      "text/plain": "ID               14.500000\nAge              28.259259\nGenderGroup       1.535714\nGlassesGroup      0.500000\nHeight           68.031481\nWingspan         66.592593\nCWDistance       83.464286\nCompleteGroup     0.777778\nScore             6.678571\ndtype: float64"
     },
     "execution_count": 21,
     "metadata": {},
     "output_type": "execute_result"
    }
   ],
   "source": [
    "df.mean()"
   ]
  },
  {
   "cell_type": "markdown",
   "metadata": {},
   "source": [
    "# How to write a data frame to a File\n",
    "\n",
    "To save a file with your data simply use the `to_csv` attribute"
   ]
  },
  {
   "cell_type": "code",
   "execution_count": 22,
   "metadata": {},
   "outputs": [],
   "source": [
    "df.to_csv('myDataFrame.csv')\n",
    "#df.to_csv('myDataFrame.csv', sep='\\t')"
   ]
  },
  {
   "cell_type": "markdown",
   "metadata": {},
   "source": [
    "# Rename columns\n",
    "\n",
    "To change the name of a colum use the `rename` attribute"
   ]
  },
  {
   "cell_type": "code",
   "execution_count": 23,
   "metadata": {},
   "outputs": [
    {
     "data": {
      "text/html": "<div>\n<style scoped>\n    .dataframe tbody tr th:only-of-type {\n        vertical-align: middle;\n    }\n\n    .dataframe tbody tr th {\n        vertical-align: top;\n    }\n\n    .dataframe thead th {\n        text-align: right;\n    }\n</style>\n<table border=\"1\" class=\"dataframe\">\n  <thead>\n    <tr style=\"text-align: right;\">\n      <th></th>\n      <th>ID</th>\n      <th>Edad</th>\n      <th>Gender</th>\n      <th>GenderGroup</th>\n      <th>Glasses</th>\n      <th>GlassesGroup</th>\n      <th>Height</th>\n      <th>Wingspan</th>\n      <th>CWDistance</th>\n      <th>Complete</th>\n      <th>CompleteGroup</th>\n      <th>Score</th>\n    </tr>\n  </thead>\n  <tbody>\n    <tr>\n      <th>0</th>\n      <td>1</td>\n      <td>56.0</td>\n      <td>F</td>\n      <td>1</td>\n      <td>Y</td>\n      <td>1</td>\n      <td>62.0</td>\n      <td>61.0</td>\n      <td>79</td>\n      <td>Y</td>\n      <td>1.0</td>\n      <td>7</td>\n    </tr>\n    <tr>\n      <th>1</th>\n      <td>2</td>\n      <td>26.0</td>\n      <td>F</td>\n      <td>1</td>\n      <td>Y</td>\n      <td>1</td>\n      <td>62.0</td>\n      <td>60.0</td>\n      <td>70</td>\n      <td>Y</td>\n      <td>1.0</td>\n      <td>8</td>\n    </tr>\n    <tr>\n      <th>2</th>\n      <td>3</td>\n      <td>33.0</td>\n      <td>F</td>\n      <td>1</td>\n      <td>Y</td>\n      <td>1</td>\n      <td>66.0</td>\n      <td>64.0</td>\n      <td>85</td>\n      <td>Y</td>\n      <td>1.0</td>\n      <td>7</td>\n    </tr>\n    <tr>\n      <th>3</th>\n      <td>4</td>\n      <td>39.0</td>\n      <td>F</td>\n      <td>1</td>\n      <td>N</td>\n      <td>0</td>\n      <td>64.0</td>\n      <td>63.0</td>\n      <td>87</td>\n      <td>Y</td>\n      <td>1.0</td>\n      <td>10</td>\n    </tr>\n    <tr>\n      <th>4</th>\n      <td>5</td>\n      <td>27.0</td>\n      <td>M</td>\n      <td>2</td>\n      <td>N</td>\n      <td>0</td>\n      <td>73.0</td>\n      <td>75.0</td>\n      <td>72</td>\n      <td>N</td>\n      <td>0.0</td>\n      <td>4</td>\n    </tr>\n  </tbody>\n</table>\n</div>",
      "text/plain": "   ID  Edad Gender  GenderGroup Glasses  GlassesGroup  Height  Wingspan  \\\n0   1  56.0      F            1       Y             1    62.0      61.0   \n1   2  26.0      F            1       Y             1    62.0      60.0   \n2   3  33.0      F            1       Y             1    66.0      64.0   \n3   4  39.0      F            1       N             0    64.0      63.0   \n4   5  27.0      M            2       N             0    73.0      75.0   \n\n   CWDistance Complete  CompleteGroup  Score  \n0          79        Y            1.0      7  \n1          70        Y            1.0      8  \n2          85        Y            1.0      7  \n3          87        Y            1.0     10  \n4          72        N            0.0      4  "
     },
     "execution_count": 23,
     "metadata": {},
     "output_type": "execute_result"
    }
   ],
   "source": [
    "df = df.rename(columns={\"Age\": \"Edad\"})\n",
    "\n",
    "df.head()"
   ]
  },
  {
   "cell_type": "code",
   "execution_count": 24,
   "metadata": {},
   "outputs": [
    {
     "data": {
      "text/html": "<div>\n<style scoped>\n    .dataframe tbody tr th:only-of-type {\n        vertical-align: middle;\n    }\n\n    .dataframe tbody tr th {\n        vertical-align: top;\n    }\n\n    .dataframe thead th {\n        text-align: right;\n    }\n</style>\n<table border=\"1\" class=\"dataframe\">\n  <thead>\n    <tr style=\"text-align: right;\">\n      <th></th>\n      <th>ID</th>\n      <th>Age</th>\n      <th>Gender</th>\n      <th>GenderGroup</th>\n      <th>Glasses</th>\n      <th>GlassesGroup</th>\n      <th>Height</th>\n      <th>Wingspan</th>\n      <th>CWDistance</th>\n      <th>Complete</th>\n      <th>CompleteGroup</th>\n      <th>Score</th>\n    </tr>\n  </thead>\n  <tbody>\n    <tr>\n      <th>0</th>\n      <td>1</td>\n      <td>56.0</td>\n      <td>F</td>\n      <td>1</td>\n      <td>Y</td>\n      <td>1</td>\n      <td>62.0</td>\n      <td>61.0</td>\n      <td>79</td>\n      <td>Y</td>\n      <td>1.0</td>\n      <td>7</td>\n    </tr>\n    <tr>\n      <th>1</th>\n      <td>2</td>\n      <td>26.0</td>\n      <td>F</td>\n      <td>1</td>\n      <td>Y</td>\n      <td>1</td>\n      <td>62.0</td>\n      <td>60.0</td>\n      <td>70</td>\n      <td>Y</td>\n      <td>1.0</td>\n      <td>8</td>\n    </tr>\n    <tr>\n      <th>2</th>\n      <td>3</td>\n      <td>33.0</td>\n      <td>F</td>\n      <td>1</td>\n      <td>Y</td>\n      <td>1</td>\n      <td>66.0</td>\n      <td>64.0</td>\n      <td>85</td>\n      <td>Y</td>\n      <td>1.0</td>\n      <td>7</td>\n    </tr>\n    <tr>\n      <th>3</th>\n      <td>4</td>\n      <td>39.0</td>\n      <td>F</td>\n      <td>1</td>\n      <td>N</td>\n      <td>0</td>\n      <td>64.0</td>\n      <td>63.0</td>\n      <td>87</td>\n      <td>Y</td>\n      <td>1.0</td>\n      <td>10</td>\n    </tr>\n    <tr>\n      <th>4</th>\n      <td>5</td>\n      <td>27.0</td>\n      <td>M</td>\n      <td>2</td>\n      <td>N</td>\n      <td>0</td>\n      <td>73.0</td>\n      <td>75.0</td>\n      <td>72</td>\n      <td>N</td>\n      <td>0.0</td>\n      <td>4</td>\n    </tr>\n  </tbody>\n</table>\n</div>",
      "text/plain": "   ID   Age Gender  GenderGroup Glasses  GlassesGroup  Height  Wingspan  \\\n0   1  56.0      F            1       Y             1    62.0      61.0   \n1   2  26.0      F            1       Y             1    62.0      60.0   \n2   3  33.0      F            1       Y             1    66.0      64.0   \n3   4  39.0      F            1       N             0    64.0      63.0   \n4   5  27.0      M            2       N             0    73.0      75.0   \n\n   CWDistance Complete  CompleteGroup  Score  \n0          79        Y            1.0      7  \n1          70        Y            1.0      8  \n2          85        Y            1.0      7  \n3          87        Y            1.0     10  \n4          72        N            0.0      4  "
     },
     "execution_count": 24,
     "metadata": {},
     "output_type": "execute_result"
    }
   ],
   "source": [
    "df = df.rename(columns={\"Edad\": \"Age\"})\n",
    "\n",
    "df.head()"
   ]
  },
  {
   "cell_type": "markdown",
   "metadata": {},
   "source": [
    "# Selection of colums\n",
    "\n",
    "As discussed above, a Pandas data frame is a rectangular data table, in which the rows represent observations or samples and the columns represent variables.  One common manipulation of a data frame is to extract the data for one case or for one variable.  There are several ways to do this, as shown below.\n",
    "\n",
    "To extract all the values for one column (variable), use one of the following alternatives."
   ]
  },
  {
   "cell_type": "code",
   "execution_count": 25,
   "metadata": {},
   "outputs": [
    {
     "name": "stdout",
     "output_type": "stream",
     "text": [
      "0     56.0\n",
      "1     26.0\n",
      "2     33.0\n",
      "3     39.0\n",
      "4     27.0\n",
      "5     24.0\n",
      "6     28.0\n",
      "7     22.0\n",
      "8     29.0\n",
      "9     33.0\n",
      "10    30.0\n",
      "11    28.0\n",
      "12    25.0\n",
      "13    23.0\n",
      "14    31.0\n",
      "15    26.0\n",
      "16    26.0\n",
      "17    27.0\n",
      "18    23.0\n",
      "19    24.0\n",
      "20    23.0\n",
      "21    29.0\n",
      "22    25.0\n",
      "23    26.0\n",
      "24    23.0\n",
      "25    30.0\n",
      "26     NaN\n",
      "27    27.0\n",
      "Name: Age, dtype: float64\n"
     ]
    }
   ],
   "source": [
    "a = df.Age\n",
    "b = df[\"Age\"]\n",
    "c = df.loc[:, \"Age\"]\n",
    "d = df.iloc[:, 1]\n",
    "\n",
    "print(d)\n",
    "\n",
    "#df[[\"Gender\", \"GenderGroup\"]]"
   ]
  },
  {
   "cell_type": "markdown",
   "metadata": {},
   "source": [
    "# Slicing a data set\n",
    "\n",
    "As discussed above, a Pandas data frame is a rectangular data table, in which the rows represent cases and the columns represent variables.  One common manipulation of a data frame is to extract the data for one observation or for one variable.  There are several ways to do this, as shown below.\n",
    "\n",
    "Lets say we would like to splice our data frame and select only specific portions of our data.  There are three different ways of doing so.\n",
    "\n",
    "1. .loc()\n",
    "2. .iloc()\n",
    "3. .ix()\n",
    "\n",
    "We will cover the .loc() and .iloc() splicing functions.\n"
   ]
  },
  {
   "cell_type": "markdown",
   "metadata": {
    "colab_type": "text",
    "id": "oeR8lBkmhjjz"
   },
   "source": [
    "The attibute **.loc()** uses labels/column names, in specific, it takes two single/list/range operator separated by ',', the first one indicates the rows and the second one indicates columns."
   ]
  },
  {
   "cell_type": "code",
   "execution_count": 26,
   "metadata": {
    "colab": {},
    "colab_type": "code",
    "id": "HpUEXXovhjj0",
    "outputId": "d4f26af0-9769-4fc1-c7ae-679e3dbf7c69"
   },
   "outputs": [],
   "source": [
    "# Return all observations of CWDistance\n",
    "df.loc[:,\"CWDistance\"]\n",
    "\n",
    "# Return a subset of observations of CWDistance\n",
    "df.loc[:9, \"CWDistance\"]\n",
    "\n",
    "# Select all rows for multiple columns, [\"Gender\", \"GenderGroup\"]\n",
    "df.loc[:,[\"Gender\", \"GenderGroup\"]]\n",
    "\n",
    "# Select multiple columns, [\"Gender\", \"GenderGroup\"]me \n",
    "keep = ['Gender', 'GenderGroup']\n",
    "df_gender = df[keep]\n",
    "\n",
    "# Select few rows for multiple columns, [\"CWDistance\", \"Height\", \"Wingspan\"]\n",
    "#df.loc[4:9, [\"CWDistance\", \"Height\", \"Wingspan\"]]\n",
    "\n",
    "# Select range of rows for all columns\n",
    "#df.loc[10:15,:]\n",
    "\n"
   ]
  },
  {
   "cell_type": "markdown",
   "metadata": {
    "colab_type": "text",
    "id": "DhluNGL1hjkI"
   },
   "source": [
    "The attribute **iloc()** is an integer based slicing."
   ]
  },
  {
   "cell_type": "code",
   "execution_count": 27,
   "metadata": {
    "colab": {},
    "colab_type": "code",
    "id": "6u1A-2drhjkJ",
    "outputId": "1eaf5856-74d9-4b2e-d8a4-93e163973cae"
   },
   "outputs": [
    {
     "data": {
      "text/html": "<div>\n<style scoped>\n    .dataframe tbody tr th:only-of-type {\n        vertical-align: middle;\n    }\n\n    .dataframe tbody tr th {\n        vertical-align: top;\n    }\n\n    .dataframe thead th {\n        text-align: right;\n    }\n</style>\n<table border=\"1\" class=\"dataframe\">\n  <thead>\n    <tr style=\"text-align: right;\">\n      <th></th>\n      <th>Gender</th>\n      <th>GenderGroup</th>\n    </tr>\n  </thead>\n  <tbody>\n    <tr>\n      <th>4</th>\n      <td>M</td>\n      <td>2</td>\n    </tr>\n    <tr>\n      <th>5</th>\n      <td>M</td>\n      <td>2</td>\n    </tr>\n    <tr>\n      <th>6</th>\n      <td>M</td>\n      <td>2</td>\n    </tr>\n    <tr>\n      <th>7</th>\n      <td>F</td>\n      <td>1</td>\n    </tr>\n  </tbody>\n</table>\n</div>",
      "text/plain": "  Gender  GenderGroup\n4      M            2\n5      M            2\n6      M            2\n7      F            1"
     },
     "execution_count": 27,
     "metadata": {},
     "output_type": "execute_result"
    }
   ],
   "source": [
    "# .\n",
    "df.iloc[:, :4]\n",
    "\n",
    "# .\n",
    "df.iloc[:4, :]\n",
    "\n",
    "# .\n",
    "df.iloc[:, 3:7]\n",
    "\n",
    "# .\n",
    "df.iloc[4:8, 2:4]\n",
    "\n",
    "# This is incorrect:\n",
    "#df.iloc[1:5, [\"Gender\", \"GenderGroup\"]]"
   ]
  },
  {
   "cell_type": "markdown",
   "metadata": {},
   "source": [
    "# Get unique existing values\n",
    "\n",
    "List unique values in the one of the columns\n"
   ]
  },
  {
   "cell_type": "code",
   "execution_count": 28,
   "metadata": {
    "colab": {},
    "colab_type": "code",
    "id": "brIC2kbKhjkZ",
    "outputId": "b3c7b6f1-3c6b-4145-ff19-a3437e298212"
   },
   "outputs": [
    {
     "data": {
      "text/plain": "array(['F', 'M'], dtype=object)"
     },
     "execution_count": 28,
     "metadata": {},
     "output_type": "execute_result"
    }
   ],
   "source": [
    "# List unique values in the df['Gender'] column\n",
    "df.Gender.unique()"
   ]
  },
  {
   "cell_type": "code",
   "execution_count": 29,
   "metadata": {
    "colab": {},
    "colab_type": "code",
    "id": "Js4ikCVWhjkc",
    "outputId": "4cfbdf05-044e-4c56-9430-d392a589e9ee"
   },
   "outputs": [
    {
     "data": {
      "text/plain": "array([1, 2], dtype=int64)"
     },
     "execution_count": 29,
     "metadata": {},
     "output_type": "execute_result"
    }
   ],
   "source": [
    "# Lets explore df[\"GenderGroup] as well\n",
    "df.GenderGroup.unique()"
   ]
  },
  {
   "cell_type": "markdown",
   "metadata": {
    "colab_type": "text",
    "id": "n0S7vCwphjkj"
   },
   "source": [
    "# Filter, Sort and Groupby\n",
    "\n"
   ]
  },
  {
   "cell_type": "markdown",
   "metadata": {},
   "source": [
    "With **Filter** you can use different conditions to filter columns. For example, df[df[year] > 1984] would give you only the column year is greater than 1984. You can use & (and) or | (or) to add different conditions to your filtering. This is also called boolean filtering."
   ]
  },
  {
   "cell_type": "code",
   "execution_count": 30,
   "metadata": {},
   "outputs": [
    {
     "data": {
      "text/html": "<div>\n<style scoped>\n    .dataframe tbody tr th:only-of-type {\n        vertical-align: middle;\n    }\n\n    .dataframe tbody tr th {\n        vertical-align: top;\n    }\n\n    .dataframe thead th {\n        text-align: right;\n    }\n</style>\n<table border=\"1\" class=\"dataframe\">\n  <thead>\n    <tr style=\"text-align: right;\">\n      <th></th>\n      <th>ID</th>\n      <th>Age</th>\n      <th>Gender</th>\n      <th>GenderGroup</th>\n      <th>Glasses</th>\n      <th>GlassesGroup</th>\n      <th>Height</th>\n      <th>Wingspan</th>\n      <th>CWDistance</th>\n      <th>Complete</th>\n      <th>CompleteGroup</th>\n      <th>Score</th>\n    </tr>\n  </thead>\n  <tbody>\n    <tr>\n      <th>4</th>\n      <td>5</td>\n      <td>27.0</td>\n      <td>M</td>\n      <td>2</td>\n      <td>N</td>\n      <td>0</td>\n      <td>73.0</td>\n      <td>75.0</td>\n      <td>72</td>\n      <td>N</td>\n      <td>0.0</td>\n      <td>4</td>\n    </tr>\n    <tr>\n      <th>5</th>\n      <td>6</td>\n      <td>24.0</td>\n      <td>M</td>\n      <td>2</td>\n      <td>N</td>\n      <td>0</td>\n      <td>75.0</td>\n      <td>71.0</td>\n      <td>81</td>\n      <td>N</td>\n      <td>0.0</td>\n      <td>3</td>\n    </tr>\n    <tr>\n      <th>6</th>\n      <td>7</td>\n      <td>28.0</td>\n      <td>M</td>\n      <td>2</td>\n      <td>N</td>\n      <td>0</td>\n      <td>75.0</td>\n      <td>76.0</td>\n      <td>107</td>\n      <td>Y</td>\n      <td>1.0</td>\n      <td>10</td>\n    </tr>\n    <tr>\n      <th>8</th>\n      <td>9</td>\n      <td>29.0</td>\n      <td>M</td>\n      <td>2</td>\n      <td>Y</td>\n      <td>1</td>\n      <td>74.0</td>\n      <td>73.0</td>\n      <td>106</td>\n      <td>N</td>\n      <td>0.0</td>\n      <td>5</td>\n    </tr>\n    <tr>\n      <th>14</th>\n      <td>15</td>\n      <td>31.0</td>\n      <td>M</td>\n      <td>2</td>\n      <td>Y</td>\n      <td>1</td>\n      <td>73.0</td>\n      <td>74.0</td>\n      <td>72</td>\n      <td>Y</td>\n      <td>1.0</td>\n      <td>9</td>\n    </tr>\n    <tr>\n      <th>15</th>\n      <td>16</td>\n      <td>26.0</td>\n      <td>M</td>\n      <td>2</td>\n      <td>Y</td>\n      <td>1</td>\n      <td>71.0</td>\n      <td>72.0</td>\n      <td>115</td>\n      <td>Y</td>\n      <td>1.0</td>\n      <td>6</td>\n    </tr>\n    <tr>\n      <th>18</th>\n      <td>19</td>\n      <td>23.0</td>\n      <td>M</td>\n      <td>2</td>\n      <td>Y</td>\n      <td>1</td>\n      <td>70.0</td>\n      <td>69.0</td>\n      <td>64</td>\n      <td>Y</td>\n      <td>1.0</td>\n      <td>3</td>\n    </tr>\n    <tr>\n      <th>21</th>\n      <td>22</td>\n      <td>29.0</td>\n      <td>M</td>\n      <td>2</td>\n      <td>N</td>\n      <td>0</td>\n      <td>71.0</td>\n      <td>70.0</td>\n      <td>101</td>\n      <td>Y</td>\n      <td>1.0</td>\n      <td>8</td>\n    </tr>\n    <tr>\n      <th>22</th>\n      <td>23</td>\n      <td>25.0</td>\n      <td>M</td>\n      <td>2</td>\n      <td>N</td>\n      <td>0</td>\n      <td>70.0</td>\n      <td>68.0</td>\n      <td>82</td>\n      <td>Y</td>\n      <td>1.0</td>\n      <td>4</td>\n    </tr>\n    <tr>\n      <th>25</th>\n      <td>26</td>\n      <td>30.0</td>\n      <td>F</td>\n      <td>1</td>\n      <td>N</td>\n      <td>0</td>\n      <td>74.6</td>\n      <td>NaN</td>\n      <td>71</td>\n      <td>Y</td>\n      <td>1.0</td>\n      <td>9</td>\n    </tr>\n    <tr>\n      <th>26</th>\n      <td>27</td>\n      <td>NaN</td>\n      <td>M</td>\n      <td>2</td>\n      <td>N</td>\n      <td>0</td>\n      <td>71.0</td>\n      <td>70.0</td>\n      <td>101</td>\n      <td>Y</td>\n      <td>NaN</td>\n      <td>8</td>\n    </tr>\n  </tbody>\n</table>\n</div>",
      "text/plain": "    ID   Age Gender  GenderGroup Glasses  GlassesGroup  Height  Wingspan  \\\n4    5  27.0      M            2       N             0    73.0      75.0   \n5    6  24.0      M            2       N             0    75.0      71.0   \n6    7  28.0      M            2       N             0    75.0      76.0   \n8    9  29.0      M            2       Y             1    74.0      73.0   \n14  15  31.0      M            2       Y             1    73.0      74.0   \n15  16  26.0      M            2       Y             1    71.0      72.0   \n18  19  23.0      M            2       Y             1    70.0      69.0   \n21  22  29.0      M            2       N             0    71.0      70.0   \n22  23  25.0      M            2       N             0    70.0      68.0   \n25  26  30.0      F            1       N             0    74.6       NaN   \n26  27   NaN      M            2       N             0    71.0      70.0   \n\n    CWDistance Complete  CompleteGroup  Score  \n4           72        N            0.0      4  \n5           81        N            0.0      3  \n6          107        Y            1.0     10  \n8          106        N            0.0      5  \n14          72        Y            1.0      9  \n15         115        Y            1.0      6  \n18          64        Y            1.0      3  \n21         101        Y            1.0      8  \n22          82        Y            1.0      4  \n25          71        Y            1.0      9  \n26         101        Y            NaN      8  "
     },
     "execution_count": 30,
     "metadata": {},
     "output_type": "execute_result"
    }
   ],
   "source": [
    "df[df[\"Height\"] >= 70]"
   ]
  },
  {
   "cell_type": "markdown",
   "metadata": {},
   "source": [
    "With **Sort** is possible to sort values in a certain column in an ascending order using `df.sort_values(\"ColumnName\")` or in descending order using `df.sort_values(ColumnName, ascending=False)`. \n",
    "\n",
    "Furthermore, it’s possible to sort values by Column1Name in ascending order then Column2Name in descending order by using `df.sort_values([Column1Name,Column2Name],ascending=[True,False])`\n"
   ]
  },
  {
   "cell_type": "code",
   "execution_count": 31,
   "metadata": {},
   "outputs": [
    {
     "data": {
      "text/html": "<div>\n<style scoped>\n    .dataframe tbody tr th:only-of-type {\n        vertical-align: middle;\n    }\n\n    .dataframe tbody tr th {\n        vertical-align: top;\n    }\n\n    .dataframe thead th {\n        text-align: right;\n    }\n</style>\n<table border=\"1\" class=\"dataframe\">\n  <thead>\n    <tr style=\"text-align: right;\">\n      <th></th>\n      <th>ID</th>\n      <th>Age</th>\n      <th>Gender</th>\n      <th>GenderGroup</th>\n      <th>Glasses</th>\n      <th>GlassesGroup</th>\n      <th>Height</th>\n      <th>Wingspan</th>\n      <th>CWDistance</th>\n      <th>Complete</th>\n      <th>CompleteGroup</th>\n      <th>Score</th>\n    </tr>\n  </thead>\n  <tbody>\n    <tr>\n      <th>13</th>\n      <td>14</td>\n      <td>23.0</td>\n      <td>F</td>\n      <td>1</td>\n      <td>N</td>\n      <td>0</td>\n      <td>61.50</td>\n      <td>57.5</td>\n      <td>66</td>\n      <td>Y</td>\n      <td>1.0</td>\n      <td>4</td>\n    </tr>\n    <tr>\n      <th>16</th>\n      <td>17</td>\n      <td>26.0</td>\n      <td>F</td>\n      <td>1</td>\n      <td>N</td>\n      <td>0</td>\n      <td>61.50</td>\n      <td>59.5</td>\n      <td>90</td>\n      <td>N</td>\n      <td>0.0</td>\n      <td>10</td>\n    </tr>\n    <tr>\n      <th>0</th>\n      <td>1</td>\n      <td>56.0</td>\n      <td>F</td>\n      <td>1</td>\n      <td>Y</td>\n      <td>1</td>\n      <td>62.00</td>\n      <td>61.0</td>\n      <td>79</td>\n      <td>Y</td>\n      <td>1.0</td>\n      <td>7</td>\n    </tr>\n    <tr>\n      <th>1</th>\n      <td>2</td>\n      <td>26.0</td>\n      <td>F</td>\n      <td>1</td>\n      <td>Y</td>\n      <td>1</td>\n      <td>62.00</td>\n      <td>60.0</td>\n      <td>70</td>\n      <td>Y</td>\n      <td>1.0</td>\n      <td>8</td>\n    </tr>\n    <tr>\n      <th>11</th>\n      <td>12</td>\n      <td>28.0</td>\n      <td>F</td>\n      <td>1</td>\n      <td>Y</td>\n      <td>1</td>\n      <td>62.75</td>\n      <td>58.0</td>\n      <td>79</td>\n      <td>Y</td>\n      <td>1.0</td>\n      <td>10</td>\n    </tr>\n    <tr>\n      <th>9</th>\n      <td>10</td>\n      <td>33.0</td>\n      <td>F</td>\n      <td>1</td>\n      <td>Y</td>\n      <td>1</td>\n      <td>63.00</td>\n      <td>60.0</td>\n      <td>65</td>\n      <td>Y</td>\n      <td>1.0</td>\n      <td>8</td>\n    </tr>\n    <tr>\n      <th>3</th>\n      <td>4</td>\n      <td>39.0</td>\n      <td>F</td>\n      <td>1</td>\n      <td>N</td>\n      <td>0</td>\n      <td>64.00</td>\n      <td>63.0</td>\n      <td>87</td>\n      <td>Y</td>\n      <td>1.0</td>\n      <td>10</td>\n    </tr>\n    <tr>\n      <th>24</th>\n      <td>25</td>\n      <td>23.0</td>\n      <td>F</td>\n      <td>1</td>\n      <td>Y</td>\n      <td>1</td>\n      <td>65.00</td>\n      <td>63.0</td>\n      <td>67</td>\n      <td>N</td>\n      <td>0.0</td>\n      <td>3</td>\n    </tr>\n    <tr>\n      <th>7</th>\n      <td>8</td>\n      <td>22.0</td>\n      <td>F</td>\n      <td>1</td>\n      <td>N</td>\n      <td>0</td>\n      <td>65.00</td>\n      <td>62.0</td>\n      <td>98</td>\n      <td>Y</td>\n      <td>1.0</td>\n      <td>9</td>\n    </tr>\n    <tr>\n      <th>12</th>\n      <td>13</td>\n      <td>25.0</td>\n      <td>F</td>\n      <td>1</td>\n      <td>Y</td>\n      <td>1</td>\n      <td>65.00</td>\n      <td>64.5</td>\n      <td>92</td>\n      <td>Y</td>\n      <td>1.0</td>\n      <td>6</td>\n    </tr>\n    <tr>\n      <th>2</th>\n      <td>3</td>\n      <td>33.0</td>\n      <td>F</td>\n      <td>1</td>\n      <td>Y</td>\n      <td>1</td>\n      <td>66.00</td>\n      <td>64.0</td>\n      <td>85</td>\n      <td>Y</td>\n      <td>1.0</td>\n      <td>7</td>\n    </tr>\n    <tr>\n      <th>17</th>\n      <td>18</td>\n      <td>27.0</td>\n      <td>M</td>\n      <td>2</td>\n      <td>N</td>\n      <td>0</td>\n      <td>66.00</td>\n      <td>66.0</td>\n      <td>74</td>\n      <td>Y</td>\n      <td>1.0</td>\n      <td>5</td>\n    </tr>\n    <tr>\n      <th>19</th>\n      <td>20</td>\n      <td>24.0</td>\n      <td>F</td>\n      <td>1</td>\n      <td>Y</td>\n      <td>1</td>\n      <td>68.00</td>\n      <td>66.0</td>\n      <td>85</td>\n      <td>Y</td>\n      <td>1.0</td>\n      <td>8</td>\n    </tr>\n    <tr>\n      <th>23</th>\n      <td>24</td>\n      <td>26.0</td>\n      <td>M</td>\n      <td>2</td>\n      <td>N</td>\n      <td>0</td>\n      <td>69.00</td>\n      <td>71.0</td>\n      <td>63</td>\n      <td>Y</td>\n      <td>1.0</td>\n      <td>5</td>\n    </tr>\n    <tr>\n      <th>20</th>\n      <td>21</td>\n      <td>23.0</td>\n      <td>M</td>\n      <td>2</td>\n      <td>Y</td>\n      <td>1</td>\n      <td>69.00</td>\n      <td>67.0</td>\n      <td>66</td>\n      <td>N</td>\n      <td>0.0</td>\n      <td>2</td>\n    </tr>\n    <tr>\n      <th>10</th>\n      <td>11</td>\n      <td>30.0</td>\n      <td>M</td>\n      <td>2</td>\n      <td>Y</td>\n      <td>1</td>\n      <td>69.50</td>\n      <td>66.0</td>\n      <td>96</td>\n      <td>Y</td>\n      <td>1.0</td>\n      <td>6</td>\n    </tr>\n    <tr>\n      <th>22</th>\n      <td>23</td>\n      <td>25.0</td>\n      <td>M</td>\n      <td>2</td>\n      <td>N</td>\n      <td>0</td>\n      <td>70.00</td>\n      <td>68.0</td>\n      <td>82</td>\n      <td>Y</td>\n      <td>1.0</td>\n      <td>4</td>\n    </tr>\n    <tr>\n      <th>18</th>\n      <td>19</td>\n      <td>23.0</td>\n      <td>M</td>\n      <td>2</td>\n      <td>Y</td>\n      <td>1</td>\n      <td>70.00</td>\n      <td>69.0</td>\n      <td>64</td>\n      <td>Y</td>\n      <td>1.0</td>\n      <td>3</td>\n    </tr>\n    <tr>\n      <th>21</th>\n      <td>22</td>\n      <td>29.0</td>\n      <td>M</td>\n      <td>2</td>\n      <td>N</td>\n      <td>0</td>\n      <td>71.00</td>\n      <td>70.0</td>\n      <td>101</td>\n      <td>Y</td>\n      <td>1.0</td>\n      <td>8</td>\n    </tr>\n    <tr>\n      <th>26</th>\n      <td>27</td>\n      <td>NaN</td>\n      <td>M</td>\n      <td>2</td>\n      <td>N</td>\n      <td>0</td>\n      <td>71.00</td>\n      <td>70.0</td>\n      <td>101</td>\n      <td>Y</td>\n      <td>NaN</td>\n      <td>8</td>\n    </tr>\n    <tr>\n      <th>15</th>\n      <td>16</td>\n      <td>26.0</td>\n      <td>M</td>\n      <td>2</td>\n      <td>Y</td>\n      <td>1</td>\n      <td>71.00</td>\n      <td>72.0</td>\n      <td>115</td>\n      <td>Y</td>\n      <td>1.0</td>\n      <td>6</td>\n    </tr>\n    <tr>\n      <th>4</th>\n      <td>5</td>\n      <td>27.0</td>\n      <td>M</td>\n      <td>2</td>\n      <td>N</td>\n      <td>0</td>\n      <td>73.00</td>\n      <td>75.0</td>\n      <td>72</td>\n      <td>N</td>\n      <td>0.0</td>\n      <td>4</td>\n    </tr>\n    <tr>\n      <th>14</th>\n      <td>15</td>\n      <td>31.0</td>\n      <td>M</td>\n      <td>2</td>\n      <td>Y</td>\n      <td>1</td>\n      <td>73.00</td>\n      <td>74.0</td>\n      <td>72</td>\n      <td>Y</td>\n      <td>1.0</td>\n      <td>9</td>\n    </tr>\n    <tr>\n      <th>8</th>\n      <td>9</td>\n      <td>29.0</td>\n      <td>M</td>\n      <td>2</td>\n      <td>Y</td>\n      <td>1</td>\n      <td>74.00</td>\n      <td>73.0</td>\n      <td>106</td>\n      <td>N</td>\n      <td>0.0</td>\n      <td>5</td>\n    </tr>\n    <tr>\n      <th>25</th>\n      <td>26</td>\n      <td>30.0</td>\n      <td>F</td>\n      <td>1</td>\n      <td>N</td>\n      <td>0</td>\n      <td>74.60</td>\n      <td>NaN</td>\n      <td>71</td>\n      <td>Y</td>\n      <td>1.0</td>\n      <td>9</td>\n    </tr>\n    <tr>\n      <th>6</th>\n      <td>7</td>\n      <td>28.0</td>\n      <td>M</td>\n      <td>2</td>\n      <td>N</td>\n      <td>0</td>\n      <td>75.00</td>\n      <td>76.0</td>\n      <td>107</td>\n      <td>Y</td>\n      <td>1.0</td>\n      <td>10</td>\n    </tr>\n    <tr>\n      <th>5</th>\n      <td>6</td>\n      <td>24.0</td>\n      <td>M</td>\n      <td>2</td>\n      <td>N</td>\n      <td>0</td>\n      <td>75.00</td>\n      <td>71.0</td>\n      <td>81</td>\n      <td>N</td>\n      <td>0.0</td>\n      <td>3</td>\n    </tr>\n    <tr>\n      <th>27</th>\n      <td>28</td>\n      <td>27.0</td>\n      <td>M</td>\n      <td>2</td>\n      <td>N</td>\n      <td>0</td>\n      <td>NaN</td>\n      <td>71.5</td>\n      <td>103</td>\n      <td>Y</td>\n      <td>1.0</td>\n      <td>10</td>\n    </tr>\n  </tbody>\n</table>\n</div>",
      "text/plain": "    ID   Age Gender  GenderGroup Glasses  GlassesGroup  Height  Wingspan  \\\n13  14  23.0      F            1       N             0   61.50      57.5   \n16  17  26.0      F            1       N             0   61.50      59.5   \n0    1  56.0      F            1       Y             1   62.00      61.0   \n1    2  26.0      F            1       Y             1   62.00      60.0   \n11  12  28.0      F            1       Y             1   62.75      58.0   \n9   10  33.0      F            1       Y             1   63.00      60.0   \n3    4  39.0      F            1       N             0   64.00      63.0   \n24  25  23.0      F            1       Y             1   65.00      63.0   \n7    8  22.0      F            1       N             0   65.00      62.0   \n12  13  25.0      F            1       Y             1   65.00      64.5   \n2    3  33.0      F            1       Y             1   66.00      64.0   \n17  18  27.0      M            2       N             0   66.00      66.0   \n19  20  24.0      F            1       Y             1   68.00      66.0   \n23  24  26.0      M            2       N             0   69.00      71.0   \n20  21  23.0      M            2       Y             1   69.00      67.0   \n10  11  30.0      M            2       Y             1   69.50      66.0   \n22  23  25.0      M            2       N             0   70.00      68.0   \n18  19  23.0      M            2       Y             1   70.00      69.0   \n21  22  29.0      M            2       N             0   71.00      70.0   \n26  27   NaN      M            2       N             0   71.00      70.0   \n15  16  26.0      M            2       Y             1   71.00      72.0   \n4    5  27.0      M            2       N             0   73.00      75.0   \n14  15  31.0      M            2       Y             1   73.00      74.0   \n8    9  29.0      M            2       Y             1   74.00      73.0   \n25  26  30.0      F            1       N             0   74.60       NaN   \n6    7  28.0      M            2       N             0   75.00      76.0   \n5    6  24.0      M            2       N             0   75.00      71.0   \n27  28  27.0      M            2       N             0     NaN      71.5   \n\n    CWDistance Complete  CompleteGroup  Score  \n13          66        Y            1.0      4  \n16          90        N            0.0     10  \n0           79        Y            1.0      7  \n1           70        Y            1.0      8  \n11          79        Y            1.0     10  \n9           65        Y            1.0      8  \n3           87        Y            1.0     10  \n24          67        N            0.0      3  \n7           98        Y            1.0      9  \n12          92        Y            1.0      6  \n2           85        Y            1.0      7  \n17          74        Y            1.0      5  \n19          85        Y            1.0      8  \n23          63        Y            1.0      5  \n20          66        N            0.0      2  \n10          96        Y            1.0      6  \n22          82        Y            1.0      4  \n18          64        Y            1.0      3  \n21         101        Y            1.0      8  \n26         101        Y            NaN      8  \n15         115        Y            1.0      6  \n4           72        N            0.0      4  \n14          72        Y            1.0      9  \n8          106        N            0.0      5  \n25          71        Y            1.0      9  \n6          107        Y            1.0     10  \n5           81        N            0.0      3  \n27         103        Y            1.0     10  "
     },
     "execution_count": 31,
     "metadata": {},
     "output_type": "execute_result"
    }
   ],
   "source": [
    "df.sort_values(\"Height\") \n",
    "#df.sort_values(\"Height\",ascending=False)"
   ]
  },
  {
   "cell_type": "markdown",
   "metadata": {},
   "source": [
    "The attribute **Groupby** involves splitting the data into groups based on some criteria, applying a function to each group independently and combining the results into a data structure. df.groupby(col) returns a groupby object for values from one column while df.groupby([col1,col2]) returns a groupby object for values from multiple columns."
   ]
  },
  {
   "cell_type": "code",
   "execution_count": 32,
   "metadata": {},
   "outputs": [
    {
     "data": {
      "text/plain": "<pandas.core.groupby.generic.DataFrameGroupBy object at 0x0000015D8FA884C0>"
     },
     "execution_count": 32,
     "metadata": {},
     "output_type": "execute_result"
    }
   ],
   "source": [
    "df.groupby(['Gender'])\n"
   ]
  },
  {
   "cell_type": "markdown",
   "metadata": {},
   "source": [
    "Size of each group"
   ]
  },
  {
   "cell_type": "code",
   "execution_count": 33,
   "metadata": {
    "colab": {},
    "colab_type": "code",
    "id": "nNvUQetJhjkj",
    "outputId": "3eedb9e8-0d1a-4a1f-ff65-f7ee4a178c5e"
   },
   "outputs": [
    {
     "data": {
      "text/plain": "Gender  GenderGroup\nF       1              13\nM       2              15\ndtype: int64"
     },
     "execution_count": 33,
     "metadata": {},
     "output_type": "execute_result"
    }
   ],
   "source": [
    "df.groupby(['Gender']).size()\n",
    "\n",
    "df.groupby(['Gender','GenderGroup']).size()"
   ]
  },
  {
   "cell_type": "markdown",
   "metadata": {
    "colab_type": "text",
    "id": "7bHLzOH2hjkn"
   },
   "source": [
    "This output indicates that we have two types of combinations. \n",
    "\n",
    "* Case 1: Gender = F & Gender Group = 1 \n",
    "* Case 2: Gender = M & GenderGroup = 2.  \n",
    "\n",
    "This validates our initial assumption that these two fields essentially portray the same information."
   ]
  },
  {
   "cell_type": "markdown",
   "metadata": {},
   "source": [
    "# Data Cleaning: handle with missing data\n",
    "\n",
    "Before getting started to work with your data, it's a good practice to observe it thoroughly to identify missing values and handle them accordingly.\n",
    "\n",
    "When reading a dataset using Pandas, there is a set of values including 'NA', 'NULL', and 'NaN' that are taken by default to represent a missing value.  The full list of default missing value codes is in the '`read_csv`' documentation [here](https://pandas.pydata.org/pandas-docs/stable/generated/pandas.read_csv.html).  This document also explains how to change the way that '`read_csv`' decides whether a variable's value is missing.\n",
    "\n",
    "Pandas has functions called `isnull` and `notnull` that can be used to identify where the missing and non-missing values are located in a data frame.  \n",
    "\n",
    "Below we use these functions to count the number of missing and non-missing values in each variable of the datasetr."
   ]
  },
  {
   "cell_type": "code",
   "execution_count": 34,
   "metadata": {},
   "outputs": [
    {
     "data": {
      "text/html": "<div>\n<style scoped>\n    .dataframe tbody tr th:only-of-type {\n        vertical-align: middle;\n    }\n\n    .dataframe tbody tr th {\n        vertical-align: top;\n    }\n\n    .dataframe thead th {\n        text-align: right;\n    }\n</style>\n<table border=\"1\" class=\"dataframe\">\n  <thead>\n    <tr style=\"text-align: right;\">\n      <th></th>\n      <th>ID</th>\n      <th>Age</th>\n      <th>Gender</th>\n      <th>GenderGroup</th>\n      <th>Glasses</th>\n      <th>GlassesGroup</th>\n      <th>Height</th>\n      <th>Wingspan</th>\n      <th>CWDistance</th>\n      <th>Complete</th>\n      <th>CompleteGroup</th>\n      <th>Score</th>\n    </tr>\n  </thead>\n  <tbody>\n    <tr>\n      <th>0</th>\n      <td>False</td>\n      <td>False</td>\n      <td>False</td>\n      <td>False</td>\n      <td>False</td>\n      <td>False</td>\n      <td>False</td>\n      <td>False</td>\n      <td>False</td>\n      <td>False</td>\n      <td>False</td>\n      <td>False</td>\n    </tr>\n    <tr>\n      <th>1</th>\n      <td>False</td>\n      <td>False</td>\n      <td>False</td>\n      <td>False</td>\n      <td>False</td>\n      <td>False</td>\n      <td>False</td>\n      <td>False</td>\n      <td>False</td>\n      <td>False</td>\n      <td>False</td>\n      <td>False</td>\n    </tr>\n    <tr>\n      <th>2</th>\n      <td>False</td>\n      <td>False</td>\n      <td>False</td>\n      <td>False</td>\n      <td>False</td>\n      <td>False</td>\n      <td>False</td>\n      <td>False</td>\n      <td>False</td>\n      <td>False</td>\n      <td>False</td>\n      <td>False</td>\n    </tr>\n    <tr>\n      <th>3</th>\n      <td>False</td>\n      <td>False</td>\n      <td>False</td>\n      <td>False</td>\n      <td>False</td>\n      <td>False</td>\n      <td>False</td>\n      <td>False</td>\n      <td>False</td>\n      <td>False</td>\n      <td>False</td>\n      <td>False</td>\n    </tr>\n    <tr>\n      <th>4</th>\n      <td>False</td>\n      <td>False</td>\n      <td>False</td>\n      <td>False</td>\n      <td>False</td>\n      <td>False</td>\n      <td>False</td>\n      <td>False</td>\n      <td>False</td>\n      <td>False</td>\n      <td>False</td>\n      <td>False</td>\n    </tr>\n    <tr>\n      <th>5</th>\n      <td>False</td>\n      <td>False</td>\n      <td>False</td>\n      <td>False</td>\n      <td>False</td>\n      <td>False</td>\n      <td>False</td>\n      <td>False</td>\n      <td>False</td>\n      <td>False</td>\n      <td>False</td>\n      <td>False</td>\n    </tr>\n    <tr>\n      <th>6</th>\n      <td>False</td>\n      <td>False</td>\n      <td>False</td>\n      <td>False</td>\n      <td>False</td>\n      <td>False</td>\n      <td>False</td>\n      <td>False</td>\n      <td>False</td>\n      <td>False</td>\n      <td>False</td>\n      <td>False</td>\n    </tr>\n    <tr>\n      <th>7</th>\n      <td>False</td>\n      <td>False</td>\n      <td>False</td>\n      <td>False</td>\n      <td>False</td>\n      <td>False</td>\n      <td>False</td>\n      <td>False</td>\n      <td>False</td>\n      <td>False</td>\n      <td>False</td>\n      <td>False</td>\n    </tr>\n    <tr>\n      <th>8</th>\n      <td>False</td>\n      <td>False</td>\n      <td>False</td>\n      <td>False</td>\n      <td>False</td>\n      <td>False</td>\n      <td>False</td>\n      <td>False</td>\n      <td>False</td>\n      <td>False</td>\n      <td>False</td>\n      <td>False</td>\n    </tr>\n    <tr>\n      <th>9</th>\n      <td>False</td>\n      <td>False</td>\n      <td>False</td>\n      <td>False</td>\n      <td>False</td>\n      <td>False</td>\n      <td>False</td>\n      <td>False</td>\n      <td>False</td>\n      <td>False</td>\n      <td>False</td>\n      <td>False</td>\n    </tr>\n    <tr>\n      <th>10</th>\n      <td>False</td>\n      <td>False</td>\n      <td>False</td>\n      <td>False</td>\n      <td>False</td>\n      <td>False</td>\n      <td>False</td>\n      <td>False</td>\n      <td>False</td>\n      <td>False</td>\n      <td>False</td>\n      <td>False</td>\n    </tr>\n    <tr>\n      <th>11</th>\n      <td>False</td>\n      <td>False</td>\n      <td>False</td>\n      <td>False</td>\n      <td>False</td>\n      <td>False</td>\n      <td>False</td>\n      <td>False</td>\n      <td>False</td>\n      <td>False</td>\n      <td>False</td>\n      <td>False</td>\n    </tr>\n    <tr>\n      <th>12</th>\n      <td>False</td>\n      <td>False</td>\n      <td>False</td>\n      <td>False</td>\n      <td>False</td>\n      <td>False</td>\n      <td>False</td>\n      <td>False</td>\n      <td>False</td>\n      <td>False</td>\n      <td>False</td>\n      <td>False</td>\n    </tr>\n    <tr>\n      <th>13</th>\n      <td>False</td>\n      <td>False</td>\n      <td>False</td>\n      <td>False</td>\n      <td>False</td>\n      <td>False</td>\n      <td>False</td>\n      <td>False</td>\n      <td>False</td>\n      <td>False</td>\n      <td>False</td>\n      <td>False</td>\n    </tr>\n    <tr>\n      <th>14</th>\n      <td>False</td>\n      <td>False</td>\n      <td>False</td>\n      <td>False</td>\n      <td>False</td>\n      <td>False</td>\n      <td>False</td>\n      <td>False</td>\n      <td>False</td>\n      <td>False</td>\n      <td>False</td>\n      <td>False</td>\n    </tr>\n    <tr>\n      <th>15</th>\n      <td>False</td>\n      <td>False</td>\n      <td>False</td>\n      <td>False</td>\n      <td>False</td>\n      <td>False</td>\n      <td>False</td>\n      <td>False</td>\n      <td>False</td>\n      <td>False</td>\n      <td>False</td>\n      <td>False</td>\n    </tr>\n    <tr>\n      <th>16</th>\n      <td>False</td>\n      <td>False</td>\n      <td>False</td>\n      <td>False</td>\n      <td>False</td>\n      <td>False</td>\n      <td>False</td>\n      <td>False</td>\n      <td>False</td>\n      <td>False</td>\n      <td>False</td>\n      <td>False</td>\n    </tr>\n    <tr>\n      <th>17</th>\n      <td>False</td>\n      <td>False</td>\n      <td>False</td>\n      <td>False</td>\n      <td>False</td>\n      <td>False</td>\n      <td>False</td>\n      <td>False</td>\n      <td>False</td>\n      <td>False</td>\n      <td>False</td>\n      <td>False</td>\n    </tr>\n    <tr>\n      <th>18</th>\n      <td>False</td>\n      <td>False</td>\n      <td>False</td>\n      <td>False</td>\n      <td>False</td>\n      <td>False</td>\n      <td>False</td>\n      <td>False</td>\n      <td>False</td>\n      <td>False</td>\n      <td>False</td>\n      <td>False</td>\n    </tr>\n    <tr>\n      <th>19</th>\n      <td>False</td>\n      <td>False</td>\n      <td>False</td>\n      <td>False</td>\n      <td>False</td>\n      <td>False</td>\n      <td>False</td>\n      <td>False</td>\n      <td>False</td>\n      <td>False</td>\n      <td>False</td>\n      <td>False</td>\n    </tr>\n    <tr>\n      <th>20</th>\n      <td>False</td>\n      <td>False</td>\n      <td>False</td>\n      <td>False</td>\n      <td>False</td>\n      <td>False</td>\n      <td>False</td>\n      <td>False</td>\n      <td>False</td>\n      <td>False</td>\n      <td>False</td>\n      <td>False</td>\n    </tr>\n    <tr>\n      <th>21</th>\n      <td>False</td>\n      <td>False</td>\n      <td>False</td>\n      <td>False</td>\n      <td>False</td>\n      <td>False</td>\n      <td>False</td>\n      <td>False</td>\n      <td>False</td>\n      <td>False</td>\n      <td>False</td>\n      <td>False</td>\n    </tr>\n    <tr>\n      <th>22</th>\n      <td>False</td>\n      <td>False</td>\n      <td>False</td>\n      <td>False</td>\n      <td>False</td>\n      <td>False</td>\n      <td>False</td>\n      <td>False</td>\n      <td>False</td>\n      <td>False</td>\n      <td>False</td>\n      <td>False</td>\n    </tr>\n    <tr>\n      <th>23</th>\n      <td>False</td>\n      <td>False</td>\n      <td>False</td>\n      <td>False</td>\n      <td>False</td>\n      <td>False</td>\n      <td>False</td>\n      <td>False</td>\n      <td>False</td>\n      <td>False</td>\n      <td>False</td>\n      <td>False</td>\n    </tr>\n    <tr>\n      <th>24</th>\n      <td>False</td>\n      <td>False</td>\n      <td>False</td>\n      <td>False</td>\n      <td>False</td>\n      <td>False</td>\n      <td>False</td>\n      <td>False</td>\n      <td>False</td>\n      <td>False</td>\n      <td>False</td>\n      <td>False</td>\n    </tr>\n    <tr>\n      <th>25</th>\n      <td>False</td>\n      <td>False</td>\n      <td>False</td>\n      <td>False</td>\n      <td>False</td>\n      <td>False</td>\n      <td>False</td>\n      <td>True</td>\n      <td>False</td>\n      <td>False</td>\n      <td>False</td>\n      <td>False</td>\n    </tr>\n    <tr>\n      <th>26</th>\n      <td>False</td>\n      <td>True</td>\n      <td>False</td>\n      <td>False</td>\n      <td>False</td>\n      <td>False</td>\n      <td>False</td>\n      <td>False</td>\n      <td>False</td>\n      <td>False</td>\n      <td>True</td>\n      <td>False</td>\n    </tr>\n    <tr>\n      <th>27</th>\n      <td>False</td>\n      <td>False</td>\n      <td>False</td>\n      <td>False</td>\n      <td>False</td>\n      <td>False</td>\n      <td>True</td>\n      <td>False</td>\n      <td>False</td>\n      <td>False</td>\n      <td>False</td>\n      <td>False</td>\n    </tr>\n  </tbody>\n</table>\n</div>",
      "text/plain": "       ID    Age  Gender  GenderGroup  Glasses  GlassesGroup  Height  \\\n0   False  False   False        False    False         False   False   \n1   False  False   False        False    False         False   False   \n2   False  False   False        False    False         False   False   \n3   False  False   False        False    False         False   False   \n4   False  False   False        False    False         False   False   \n5   False  False   False        False    False         False   False   \n6   False  False   False        False    False         False   False   \n7   False  False   False        False    False         False   False   \n8   False  False   False        False    False         False   False   \n9   False  False   False        False    False         False   False   \n10  False  False   False        False    False         False   False   \n11  False  False   False        False    False         False   False   \n12  False  False   False        False    False         False   False   \n13  False  False   False        False    False         False   False   \n14  False  False   False        False    False         False   False   \n15  False  False   False        False    False         False   False   \n16  False  False   False        False    False         False   False   \n17  False  False   False        False    False         False   False   \n18  False  False   False        False    False         False   False   \n19  False  False   False        False    False         False   False   \n20  False  False   False        False    False         False   False   \n21  False  False   False        False    False         False   False   \n22  False  False   False        False    False         False   False   \n23  False  False   False        False    False         False   False   \n24  False  False   False        False    False         False   False   \n25  False  False   False        False    False         False   False   \n26  False   True   False        False    False         False   False   \n27  False  False   False        False    False         False    True   \n\n    Wingspan  CWDistance  Complete  CompleteGroup  Score  \n0      False       False     False          False  False  \n1      False       False     False          False  False  \n2      False       False     False          False  False  \n3      False       False     False          False  False  \n4      False       False     False          False  False  \n5      False       False     False          False  False  \n6      False       False     False          False  False  \n7      False       False     False          False  False  \n8      False       False     False          False  False  \n9      False       False     False          False  False  \n10     False       False     False          False  False  \n11     False       False     False          False  False  \n12     False       False     False          False  False  \n13     False       False     False          False  False  \n14     False       False     False          False  False  \n15     False       False     False          False  False  \n16     False       False     False          False  False  \n17     False       False     False          False  False  \n18     False       False     False          False  False  \n19     False       False     False          False  False  \n20     False       False     False          False  False  \n21     False       False     False          False  False  \n22     False       False     False          False  False  \n23     False       False     False          False  False  \n24     False       False     False          False  False  \n25      True       False     False          False  False  \n26     False       False     False           True  False  \n27     False       False     False          False  False  "
     },
     "execution_count": 34,
     "metadata": {},
     "output_type": "execute_result"
    }
   ],
   "source": [
    "df.isnull()\n"
   ]
  },
  {
   "cell_type": "markdown",
   "metadata": {},
   "source": [
    "Unfortunately, our output indicates that some of our columns contain missing values so we are no able to continue on doing analysis with those colums"
   ]
  },
  {
   "cell_type": "code",
   "execution_count": 35,
   "metadata": {},
   "outputs": [
    {
     "data": {
      "text/html": "<div>\n<style scoped>\n    .dataframe tbody tr th:only-of-type {\n        vertical-align: middle;\n    }\n\n    .dataframe tbody tr th {\n        vertical-align: top;\n    }\n\n    .dataframe thead th {\n        text-align: right;\n    }\n</style>\n<table border=\"1\" class=\"dataframe\">\n  <thead>\n    <tr style=\"text-align: right;\">\n      <th></th>\n      <th>ID</th>\n      <th>Age</th>\n      <th>Gender</th>\n      <th>GenderGroup</th>\n      <th>Glasses</th>\n      <th>GlassesGroup</th>\n      <th>Height</th>\n      <th>Wingspan</th>\n      <th>CWDistance</th>\n      <th>Complete</th>\n      <th>CompleteGroup</th>\n      <th>Score</th>\n    </tr>\n  </thead>\n  <tbody>\n    <tr>\n      <th>0</th>\n      <td>True</td>\n      <td>True</td>\n      <td>True</td>\n      <td>True</td>\n      <td>True</td>\n      <td>True</td>\n      <td>True</td>\n      <td>True</td>\n      <td>True</td>\n      <td>True</td>\n      <td>True</td>\n      <td>True</td>\n    </tr>\n    <tr>\n      <th>1</th>\n      <td>True</td>\n      <td>True</td>\n      <td>True</td>\n      <td>True</td>\n      <td>True</td>\n      <td>True</td>\n      <td>True</td>\n      <td>True</td>\n      <td>True</td>\n      <td>True</td>\n      <td>True</td>\n      <td>True</td>\n    </tr>\n    <tr>\n      <th>2</th>\n      <td>True</td>\n      <td>True</td>\n      <td>True</td>\n      <td>True</td>\n      <td>True</td>\n      <td>True</td>\n      <td>True</td>\n      <td>True</td>\n      <td>True</td>\n      <td>True</td>\n      <td>True</td>\n      <td>True</td>\n    </tr>\n    <tr>\n      <th>3</th>\n      <td>True</td>\n      <td>True</td>\n      <td>True</td>\n      <td>True</td>\n      <td>True</td>\n      <td>True</td>\n      <td>True</td>\n      <td>True</td>\n      <td>True</td>\n      <td>True</td>\n      <td>True</td>\n      <td>True</td>\n    </tr>\n    <tr>\n      <th>4</th>\n      <td>True</td>\n      <td>True</td>\n      <td>True</td>\n      <td>True</td>\n      <td>True</td>\n      <td>True</td>\n      <td>True</td>\n      <td>True</td>\n      <td>True</td>\n      <td>True</td>\n      <td>True</td>\n      <td>True</td>\n    </tr>\n    <tr>\n      <th>5</th>\n      <td>True</td>\n      <td>True</td>\n      <td>True</td>\n      <td>True</td>\n      <td>True</td>\n      <td>True</td>\n      <td>True</td>\n      <td>True</td>\n      <td>True</td>\n      <td>True</td>\n      <td>True</td>\n      <td>True</td>\n    </tr>\n    <tr>\n      <th>6</th>\n      <td>True</td>\n      <td>True</td>\n      <td>True</td>\n      <td>True</td>\n      <td>True</td>\n      <td>True</td>\n      <td>True</td>\n      <td>True</td>\n      <td>True</td>\n      <td>True</td>\n      <td>True</td>\n      <td>True</td>\n    </tr>\n    <tr>\n      <th>7</th>\n      <td>True</td>\n      <td>True</td>\n      <td>True</td>\n      <td>True</td>\n      <td>True</td>\n      <td>True</td>\n      <td>True</td>\n      <td>True</td>\n      <td>True</td>\n      <td>True</td>\n      <td>True</td>\n      <td>True</td>\n    </tr>\n    <tr>\n      <th>8</th>\n      <td>True</td>\n      <td>True</td>\n      <td>True</td>\n      <td>True</td>\n      <td>True</td>\n      <td>True</td>\n      <td>True</td>\n      <td>True</td>\n      <td>True</td>\n      <td>True</td>\n      <td>True</td>\n      <td>True</td>\n    </tr>\n    <tr>\n      <th>9</th>\n      <td>True</td>\n      <td>True</td>\n      <td>True</td>\n      <td>True</td>\n      <td>True</td>\n      <td>True</td>\n      <td>True</td>\n      <td>True</td>\n      <td>True</td>\n      <td>True</td>\n      <td>True</td>\n      <td>True</td>\n    </tr>\n    <tr>\n      <th>10</th>\n      <td>True</td>\n      <td>True</td>\n      <td>True</td>\n      <td>True</td>\n      <td>True</td>\n      <td>True</td>\n      <td>True</td>\n      <td>True</td>\n      <td>True</td>\n      <td>True</td>\n      <td>True</td>\n      <td>True</td>\n    </tr>\n    <tr>\n      <th>11</th>\n      <td>True</td>\n      <td>True</td>\n      <td>True</td>\n      <td>True</td>\n      <td>True</td>\n      <td>True</td>\n      <td>True</td>\n      <td>True</td>\n      <td>True</td>\n      <td>True</td>\n      <td>True</td>\n      <td>True</td>\n    </tr>\n    <tr>\n      <th>12</th>\n      <td>True</td>\n      <td>True</td>\n      <td>True</td>\n      <td>True</td>\n      <td>True</td>\n      <td>True</td>\n      <td>True</td>\n      <td>True</td>\n      <td>True</td>\n      <td>True</td>\n      <td>True</td>\n      <td>True</td>\n    </tr>\n    <tr>\n      <th>13</th>\n      <td>True</td>\n      <td>True</td>\n      <td>True</td>\n      <td>True</td>\n      <td>True</td>\n      <td>True</td>\n      <td>True</td>\n      <td>True</td>\n      <td>True</td>\n      <td>True</td>\n      <td>True</td>\n      <td>True</td>\n    </tr>\n    <tr>\n      <th>14</th>\n      <td>True</td>\n      <td>True</td>\n      <td>True</td>\n      <td>True</td>\n      <td>True</td>\n      <td>True</td>\n      <td>True</td>\n      <td>True</td>\n      <td>True</td>\n      <td>True</td>\n      <td>True</td>\n      <td>True</td>\n    </tr>\n    <tr>\n      <th>15</th>\n      <td>True</td>\n      <td>True</td>\n      <td>True</td>\n      <td>True</td>\n      <td>True</td>\n      <td>True</td>\n      <td>True</td>\n      <td>True</td>\n      <td>True</td>\n      <td>True</td>\n      <td>True</td>\n      <td>True</td>\n    </tr>\n    <tr>\n      <th>16</th>\n      <td>True</td>\n      <td>True</td>\n      <td>True</td>\n      <td>True</td>\n      <td>True</td>\n      <td>True</td>\n      <td>True</td>\n      <td>True</td>\n      <td>True</td>\n      <td>True</td>\n      <td>True</td>\n      <td>True</td>\n    </tr>\n    <tr>\n      <th>17</th>\n      <td>True</td>\n      <td>True</td>\n      <td>True</td>\n      <td>True</td>\n      <td>True</td>\n      <td>True</td>\n      <td>True</td>\n      <td>True</td>\n      <td>True</td>\n      <td>True</td>\n      <td>True</td>\n      <td>True</td>\n    </tr>\n    <tr>\n      <th>18</th>\n      <td>True</td>\n      <td>True</td>\n      <td>True</td>\n      <td>True</td>\n      <td>True</td>\n      <td>True</td>\n      <td>True</td>\n      <td>True</td>\n      <td>True</td>\n      <td>True</td>\n      <td>True</td>\n      <td>True</td>\n    </tr>\n    <tr>\n      <th>19</th>\n      <td>True</td>\n      <td>True</td>\n      <td>True</td>\n      <td>True</td>\n      <td>True</td>\n      <td>True</td>\n      <td>True</td>\n      <td>True</td>\n      <td>True</td>\n      <td>True</td>\n      <td>True</td>\n      <td>True</td>\n    </tr>\n    <tr>\n      <th>20</th>\n      <td>True</td>\n      <td>True</td>\n      <td>True</td>\n      <td>True</td>\n      <td>True</td>\n      <td>True</td>\n      <td>True</td>\n      <td>True</td>\n      <td>True</td>\n      <td>True</td>\n      <td>True</td>\n      <td>True</td>\n    </tr>\n    <tr>\n      <th>21</th>\n      <td>True</td>\n      <td>True</td>\n      <td>True</td>\n      <td>True</td>\n      <td>True</td>\n      <td>True</td>\n      <td>True</td>\n      <td>True</td>\n      <td>True</td>\n      <td>True</td>\n      <td>True</td>\n      <td>True</td>\n    </tr>\n    <tr>\n      <th>22</th>\n      <td>True</td>\n      <td>True</td>\n      <td>True</td>\n      <td>True</td>\n      <td>True</td>\n      <td>True</td>\n      <td>True</td>\n      <td>True</td>\n      <td>True</td>\n      <td>True</td>\n      <td>True</td>\n      <td>True</td>\n    </tr>\n    <tr>\n      <th>23</th>\n      <td>True</td>\n      <td>True</td>\n      <td>True</td>\n      <td>True</td>\n      <td>True</td>\n      <td>True</td>\n      <td>True</td>\n      <td>True</td>\n      <td>True</td>\n      <td>True</td>\n      <td>True</td>\n      <td>True</td>\n    </tr>\n    <tr>\n      <th>24</th>\n      <td>True</td>\n      <td>True</td>\n      <td>True</td>\n      <td>True</td>\n      <td>True</td>\n      <td>True</td>\n      <td>True</td>\n      <td>True</td>\n      <td>True</td>\n      <td>True</td>\n      <td>True</td>\n      <td>True</td>\n    </tr>\n    <tr>\n      <th>25</th>\n      <td>True</td>\n      <td>True</td>\n      <td>True</td>\n      <td>True</td>\n      <td>True</td>\n      <td>True</td>\n      <td>True</td>\n      <td>False</td>\n      <td>True</td>\n      <td>True</td>\n      <td>True</td>\n      <td>True</td>\n    </tr>\n    <tr>\n      <th>26</th>\n      <td>True</td>\n      <td>False</td>\n      <td>True</td>\n      <td>True</td>\n      <td>True</td>\n      <td>True</td>\n      <td>True</td>\n      <td>True</td>\n      <td>True</td>\n      <td>True</td>\n      <td>False</td>\n      <td>True</td>\n    </tr>\n    <tr>\n      <th>27</th>\n      <td>True</td>\n      <td>True</td>\n      <td>True</td>\n      <td>True</td>\n      <td>True</td>\n      <td>True</td>\n      <td>False</td>\n      <td>True</td>\n      <td>True</td>\n      <td>True</td>\n      <td>True</td>\n      <td>True</td>\n    </tr>\n  </tbody>\n</table>\n</div>",
      "text/plain": "      ID    Age  Gender  GenderGroup  Glasses  GlassesGroup  Height  Wingspan  \\\n0   True   True    True         True     True          True    True      True   \n1   True   True    True         True     True          True    True      True   \n2   True   True    True         True     True          True    True      True   \n3   True   True    True         True     True          True    True      True   \n4   True   True    True         True     True          True    True      True   \n5   True   True    True         True     True          True    True      True   \n6   True   True    True         True     True          True    True      True   \n7   True   True    True         True     True          True    True      True   \n8   True   True    True         True     True          True    True      True   \n9   True   True    True         True     True          True    True      True   \n10  True   True    True         True     True          True    True      True   \n11  True   True    True         True     True          True    True      True   \n12  True   True    True         True     True          True    True      True   \n13  True   True    True         True     True          True    True      True   \n14  True   True    True         True     True          True    True      True   \n15  True   True    True         True     True          True    True      True   \n16  True   True    True         True     True          True    True      True   \n17  True   True    True         True     True          True    True      True   \n18  True   True    True         True     True          True    True      True   \n19  True   True    True         True     True          True    True      True   \n20  True   True    True         True     True          True    True      True   \n21  True   True    True         True     True          True    True      True   \n22  True   True    True         True     True          True    True      True   \n23  True   True    True         True     True          True    True      True   \n24  True   True    True         True     True          True    True      True   \n25  True   True    True         True     True          True    True     False   \n26  True  False    True         True     True          True    True      True   \n27  True   True    True         True     True          True   False      True   \n\n    CWDistance  Complete  CompleteGroup  Score  \n0         True      True           True   True  \n1         True      True           True   True  \n2         True      True           True   True  \n3         True      True           True   True  \n4         True      True           True   True  \n5         True      True           True   True  \n6         True      True           True   True  \n7         True      True           True   True  \n8         True      True           True   True  \n9         True      True           True   True  \n10        True      True           True   True  \n11        True      True           True   True  \n12        True      True           True   True  \n13        True      True           True   True  \n14        True      True           True   True  \n15        True      True           True   True  \n16        True      True           True   True  \n17        True      True           True   True  \n18        True      True           True   True  \n19        True      True           True   True  \n20        True      True           True   True  \n21        True      True           True   True  \n22        True      True           True   True  \n23        True      True           True   True  \n24        True      True           True   True  \n25        True      True           True   True  \n26        True      True          False   True  \n27        True      True           True   True  "
     },
     "execution_count": 35,
     "metadata": {},
     "output_type": "execute_result"
    }
   ],
   "source": [
    "df.notnull()"
   ]
  },
  {
   "cell_type": "code",
   "execution_count": 36,
   "metadata": {},
   "outputs": [
    {
     "data": {
      "text/plain": "ID               28\nAge              27\nGender           28\nGenderGroup      28\nGlasses          28\nGlassesGroup     28\nHeight           27\nWingspan         27\nCWDistance       28\nComplete         28\nCompleteGroup    27\nScore            28\ndtype: int64"
     },
     "execution_count": 36,
     "metadata": {},
     "output_type": "execute_result"
    }
   ],
   "source": [
    "df.isnull().sum()\n",
    "df.notnull().sum()"
   ]
  },
  {
   "cell_type": "markdown",
   "metadata": {},
   "source": [
    "Now we use these functions to count the number of missing and non-missing values in a single variable in the dataset"
   ]
  },
  {
   "cell_type": "code",
   "execution_count": 37,
   "metadata": {},
   "outputs": [
    {
     "name": "stdout",
     "output_type": "stream",
     "text": [
      "27\n",
      "1\n"
     ]
    }
   ],
   "source": [
    "print( df.Height.notnull().sum() )\n",
    "\n",
    "print( pd.isnull(df.Height).sum() )"
   ]
  },
  {
   "cell_type": "code",
   "execution_count": 38,
   "metadata": {},
   "outputs": [
    {
     "data": {
      "text/plain": "count     8.000000\nmean     27.623504\nstd      13.564125\nmin       6.728771\n25%      23.875000\n50%      27.000000\n75%      28.569444\nmax      56.000000\nName: Age, dtype: float64"
     },
     "execution_count": 38,
     "metadata": {},
     "output_type": "execute_result"
    }
   ],
   "source": [
    "# Extract all non-missing values of one of the columns into a new variable\n",
    "x = df.Age.dropna().describe()\n",
    "x.describe()"
   ]
  },
  {
   "cell_type": "markdown",
   "metadata": {},
   "source": [
    "# Add and eliminate columns\n",
    "\n",
    "In some cases it is useful to create or eiminate new columns "
   ]
  },
  {
   "cell_type": "code",
   "execution_count": 39,
   "metadata": {},
   "outputs": [
    {
     "data": {
      "text/html": "<div>\n<style scoped>\n    .dataframe tbody tr th:only-of-type {\n        vertical-align: middle;\n    }\n\n    .dataframe tbody tr th {\n        vertical-align: top;\n    }\n\n    .dataframe thead th {\n        text-align: right;\n    }\n</style>\n<table border=\"1\" class=\"dataframe\">\n  <thead>\n    <tr style=\"text-align: right;\">\n      <th></th>\n      <th>ID</th>\n      <th>Age</th>\n      <th>Gender</th>\n      <th>GenderGroup</th>\n      <th>Glasses</th>\n      <th>GlassesGroup</th>\n      <th>Height</th>\n      <th>Wingspan</th>\n      <th>CWDistance</th>\n      <th>Complete</th>\n      <th>CompleteGroup</th>\n      <th>Score</th>\n    </tr>\n  </thead>\n  <tbody>\n    <tr>\n      <th>0</th>\n      <td>1</td>\n      <td>56.0</td>\n      <td>F</td>\n      <td>1</td>\n      <td>Y</td>\n      <td>1</td>\n      <td>62.0</td>\n      <td>61.0</td>\n      <td>79</td>\n      <td>Y</td>\n      <td>1.0</td>\n      <td>7</td>\n    </tr>\n    <tr>\n      <th>1</th>\n      <td>2</td>\n      <td>26.0</td>\n      <td>F</td>\n      <td>1</td>\n      <td>Y</td>\n      <td>1</td>\n      <td>62.0</td>\n      <td>60.0</td>\n      <td>70</td>\n      <td>Y</td>\n      <td>1.0</td>\n      <td>8</td>\n    </tr>\n    <tr>\n      <th>2</th>\n      <td>3</td>\n      <td>33.0</td>\n      <td>F</td>\n      <td>1</td>\n      <td>Y</td>\n      <td>1</td>\n      <td>66.0</td>\n      <td>64.0</td>\n      <td>85</td>\n      <td>Y</td>\n      <td>1.0</td>\n      <td>7</td>\n    </tr>\n    <tr>\n      <th>3</th>\n      <td>4</td>\n      <td>39.0</td>\n      <td>F</td>\n      <td>1</td>\n      <td>N</td>\n      <td>0</td>\n      <td>64.0</td>\n      <td>63.0</td>\n      <td>87</td>\n      <td>Y</td>\n      <td>1.0</td>\n      <td>10</td>\n    </tr>\n    <tr>\n      <th>4</th>\n      <td>5</td>\n      <td>27.0</td>\n      <td>M</td>\n      <td>2</td>\n      <td>N</td>\n      <td>0</td>\n      <td>73.0</td>\n      <td>75.0</td>\n      <td>72</td>\n      <td>N</td>\n      <td>0.0</td>\n      <td>4</td>\n    </tr>\n  </tbody>\n</table>\n</div>",
      "text/plain": "   ID   Age Gender  GenderGroup Glasses  GlassesGroup  Height  Wingspan  \\\n0   1  56.0      F            1       Y             1    62.0      61.0   \n1   2  26.0      F            1       Y             1    62.0      60.0   \n2   3  33.0      F            1       Y             1    66.0      64.0   \n3   4  39.0      F            1       N             0    64.0      63.0   \n4   5  27.0      M            2       N             0    73.0      75.0   \n\n   CWDistance Complete  CompleteGroup  Score  \n0          79        Y            1.0      7  \n1          70        Y            1.0      8  \n2          85        Y            1.0      7  \n3          87        Y            1.0     10  \n4          72        N            0.0      4  "
     },
     "execution_count": 39,
     "metadata": {},
     "output_type": "execute_result"
    }
   ],
   "source": [
    "df.head()"
   ]
  },
  {
   "cell_type": "code",
   "execution_count": 40,
   "metadata": {},
   "outputs": [
    {
     "data": {
      "text/html": "<div>\n<style scoped>\n    .dataframe tbody tr th:only-of-type {\n        vertical-align: middle;\n    }\n\n    .dataframe tbody tr th {\n        vertical-align: top;\n    }\n\n    .dataframe thead th {\n        text-align: right;\n    }\n</style>\n<table border=\"1\" class=\"dataframe\">\n  <thead>\n    <tr style=\"text-align: right;\">\n      <th></th>\n      <th>ID</th>\n      <th>Age</th>\n      <th>Gender</th>\n      <th>GenderGroup</th>\n      <th>Glasses</th>\n      <th>GlassesGroup</th>\n      <th>Height</th>\n      <th>Wingspan</th>\n      <th>CWDistance</th>\n      <th>Complete</th>\n      <th>CompleteGroup</th>\n      <th>Score</th>\n      <th>ColumnInserted</th>\n    </tr>\n  </thead>\n  <tbody>\n    <tr>\n      <th>0</th>\n      <td>1</td>\n      <td>56.0</td>\n      <td>F</td>\n      <td>1</td>\n      <td>Y</td>\n      <td>1</td>\n      <td>62.0</td>\n      <td>61.0</td>\n      <td>79</td>\n      <td>Y</td>\n      <td>1.0</td>\n      <td>7</td>\n      <td>1.0</td>\n    </tr>\n    <tr>\n      <th>1</th>\n      <td>2</td>\n      <td>26.0</td>\n      <td>F</td>\n      <td>1</td>\n      <td>Y</td>\n      <td>1</td>\n      <td>62.0</td>\n      <td>60.0</td>\n      <td>70</td>\n      <td>Y</td>\n      <td>1.0</td>\n      <td>8</td>\n      <td>1.0</td>\n    </tr>\n    <tr>\n      <th>2</th>\n      <td>3</td>\n      <td>33.0</td>\n      <td>F</td>\n      <td>1</td>\n      <td>Y</td>\n      <td>1</td>\n      <td>66.0</td>\n      <td>64.0</td>\n      <td>85</td>\n      <td>Y</td>\n      <td>1.0</td>\n      <td>7</td>\n      <td>1.0</td>\n    </tr>\n    <tr>\n      <th>3</th>\n      <td>4</td>\n      <td>39.0</td>\n      <td>F</td>\n      <td>1</td>\n      <td>N</td>\n      <td>0</td>\n      <td>64.0</td>\n      <td>63.0</td>\n      <td>87</td>\n      <td>Y</td>\n      <td>1.0</td>\n      <td>10</td>\n      <td>1.0</td>\n    </tr>\n    <tr>\n      <th>4</th>\n      <td>5</td>\n      <td>27.0</td>\n      <td>M</td>\n      <td>2</td>\n      <td>N</td>\n      <td>0</td>\n      <td>73.0</td>\n      <td>75.0</td>\n      <td>72</td>\n      <td>N</td>\n      <td>0.0</td>\n      <td>4</td>\n      <td>1.0</td>\n    </tr>\n  </tbody>\n</table>\n</div>",
      "text/plain": "   ID   Age Gender  GenderGroup Glasses  GlassesGroup  Height  Wingspan  \\\n0   1  56.0      F            1       Y             1    62.0      61.0   \n1   2  26.0      F            1       Y             1    62.0      60.0   \n2   3  33.0      F            1       Y             1    66.0      64.0   \n3   4  39.0      F            1       N             0    64.0      63.0   \n4   5  27.0      M            2       N             0    73.0      75.0   \n\n   CWDistance Complete  CompleteGroup  Score  ColumnInserted  \n0          79        Y            1.0      7             1.0  \n1          70        Y            1.0      8             1.0  \n2          85        Y            1.0      7             1.0  \n3          87        Y            1.0     10             1.0  \n4          72        N            0.0      4             1.0  "
     },
     "execution_count": 40,
     "metadata": {},
     "output_type": "execute_result"
    }
   ],
   "source": [
    "# Add a new column with new data\n",
    "\n",
    "# Create a column data\n",
    "NewColumnData = df.Age/df.Age\n",
    "\n",
    "# Insert that column in the data frame\n",
    "df.insert(12, \"ColumnInserted\", NewColumnData, True)\n",
    "\n",
    "df.head()"
   ]
  },
  {
   "cell_type": "code",
   "execution_count": 41,
   "metadata": {},
   "outputs": [
    {
     "data": {
      "text/html": "<div>\n<style scoped>\n    .dataframe tbody tr th:only-of-type {\n        vertical-align: middle;\n    }\n\n    .dataframe tbody tr th {\n        vertical-align: top;\n    }\n\n    .dataframe thead th {\n        text-align: right;\n    }\n</style>\n<table border=\"1\" class=\"dataframe\">\n  <thead>\n    <tr style=\"text-align: right;\">\n      <th></th>\n      <th>ID</th>\n      <th>Age</th>\n      <th>Gender</th>\n      <th>GenderGroup</th>\n      <th>Glasses</th>\n      <th>GlassesGroup</th>\n      <th>Height</th>\n      <th>Wingspan</th>\n      <th>CWDistance</th>\n      <th>Complete</th>\n      <th>CompleteGroup</th>\n      <th>Score</th>\n    </tr>\n  </thead>\n  <tbody>\n    <tr>\n      <th>0</th>\n      <td>1</td>\n      <td>56.0</td>\n      <td>F</td>\n      <td>1</td>\n      <td>Y</td>\n      <td>1</td>\n      <td>62.0</td>\n      <td>61.0</td>\n      <td>79</td>\n      <td>Y</td>\n      <td>1.0</td>\n      <td>7</td>\n    </tr>\n    <tr>\n      <th>1</th>\n      <td>2</td>\n      <td>26.0</td>\n      <td>F</td>\n      <td>1</td>\n      <td>Y</td>\n      <td>1</td>\n      <td>62.0</td>\n      <td>60.0</td>\n      <td>70</td>\n      <td>Y</td>\n      <td>1.0</td>\n      <td>8</td>\n    </tr>\n    <tr>\n      <th>2</th>\n      <td>3</td>\n      <td>33.0</td>\n      <td>F</td>\n      <td>1</td>\n      <td>Y</td>\n      <td>1</td>\n      <td>66.0</td>\n      <td>64.0</td>\n      <td>85</td>\n      <td>Y</td>\n      <td>1.0</td>\n      <td>7</td>\n    </tr>\n    <tr>\n      <th>3</th>\n      <td>4</td>\n      <td>39.0</td>\n      <td>F</td>\n      <td>1</td>\n      <td>N</td>\n      <td>0</td>\n      <td>64.0</td>\n      <td>63.0</td>\n      <td>87</td>\n      <td>Y</td>\n      <td>1.0</td>\n      <td>10</td>\n    </tr>\n    <tr>\n      <th>4</th>\n      <td>5</td>\n      <td>27.0</td>\n      <td>M</td>\n      <td>2</td>\n      <td>N</td>\n      <td>0</td>\n      <td>73.0</td>\n      <td>75.0</td>\n      <td>72</td>\n      <td>N</td>\n      <td>0.0</td>\n      <td>4</td>\n    </tr>\n  </tbody>\n</table>\n</div>",
      "text/plain": "   ID   Age Gender  GenderGroup Glasses  GlassesGroup  Height  Wingspan  \\\n0   1  56.0      F            1       Y             1    62.0      61.0   \n1   2  26.0      F            1       Y             1    62.0      60.0   \n2   3  33.0      F            1       Y             1    66.0      64.0   \n3   4  39.0      F            1       N             0    64.0      63.0   \n4   5  27.0      M            2       N             0    73.0      75.0   \n\n   CWDistance Complete  CompleteGroup  Score  \n0          79        Y            1.0      7  \n1          70        Y            1.0      8  \n2          85        Y            1.0      7  \n3          87        Y            1.0     10  \n4          72        N            0.0      4  "
     },
     "execution_count": 41,
     "metadata": {},
     "output_type": "execute_result"
    }
   ],
   "source": [
    "# Eliminate inserted column\n",
    "df.drop(\"ColumnInserted\", axis=1, inplace = True)\n",
    "#df.drop(columns=['ColumnInserted'], inplace = True)\n",
    "# Remove three columns as index base\n",
    "#df.drop(df.columns[[12]], axis = 1, inplace = True)\n",
    "\n",
    "df.head()"
   ]
  },
  {
   "cell_type": "code",
   "execution_count": 42,
   "metadata": {},
   "outputs": [
    {
     "data": {
      "text/html": "<div>\n<style scoped>\n    .dataframe tbody tr th:only-of-type {\n        vertical-align: middle;\n    }\n\n    .dataframe tbody tr th {\n        vertical-align: top;\n    }\n\n    .dataframe thead th {\n        text-align: right;\n    }\n</style>\n<table border=\"1\" class=\"dataframe\">\n  <thead>\n    <tr style=\"text-align: right;\">\n      <th></th>\n      <th>ID</th>\n      <th>Age</th>\n      <th>Gender</th>\n      <th>GenderGroup</th>\n      <th>Glasses</th>\n      <th>GlassesGroup</th>\n      <th>Height</th>\n      <th>Wingspan</th>\n      <th>CWDistance</th>\n      <th>Complete</th>\n      <th>CompleteGroup</th>\n      <th>Score</th>\n      <th>AgeInMonths</th>\n    </tr>\n  </thead>\n  <tbody>\n    <tr>\n      <th>0</th>\n      <td>1</td>\n      <td>56.0</td>\n      <td>F</td>\n      <td>1</td>\n      <td>Y</td>\n      <td>1</td>\n      <td>62.0</td>\n      <td>61.0</td>\n      <td>79</td>\n      <td>Y</td>\n      <td>1.0</td>\n      <td>7</td>\n      <td>672.0</td>\n    </tr>\n    <tr>\n      <th>1</th>\n      <td>2</td>\n      <td>26.0</td>\n      <td>F</td>\n      <td>1</td>\n      <td>Y</td>\n      <td>1</td>\n      <td>62.0</td>\n      <td>60.0</td>\n      <td>70</td>\n      <td>Y</td>\n      <td>1.0</td>\n      <td>8</td>\n      <td>312.0</td>\n    </tr>\n    <tr>\n      <th>2</th>\n      <td>3</td>\n      <td>33.0</td>\n      <td>F</td>\n      <td>1</td>\n      <td>Y</td>\n      <td>1</td>\n      <td>66.0</td>\n      <td>64.0</td>\n      <td>85</td>\n      <td>Y</td>\n      <td>1.0</td>\n      <td>7</td>\n      <td>396.0</td>\n    </tr>\n    <tr>\n      <th>3</th>\n      <td>4</td>\n      <td>39.0</td>\n      <td>F</td>\n      <td>1</td>\n      <td>N</td>\n      <td>0</td>\n      <td>64.0</td>\n      <td>63.0</td>\n      <td>87</td>\n      <td>Y</td>\n      <td>1.0</td>\n      <td>10</td>\n      <td>468.0</td>\n    </tr>\n    <tr>\n      <th>4</th>\n      <td>5</td>\n      <td>27.0</td>\n      <td>M</td>\n      <td>2</td>\n      <td>N</td>\n      <td>0</td>\n      <td>73.0</td>\n      <td>75.0</td>\n      <td>72</td>\n      <td>N</td>\n      <td>0.0</td>\n      <td>4</td>\n      <td>324.0</td>\n    </tr>\n  </tbody>\n</table>\n</div>",
      "text/plain": "   ID   Age Gender  GenderGroup Glasses  GlassesGroup  Height  Wingspan  \\\n0   1  56.0      F            1       Y             1    62.0      61.0   \n1   2  26.0      F            1       Y             1    62.0      60.0   \n2   3  33.0      F            1       Y             1    66.0      64.0   \n3   4  39.0      F            1       N             0    64.0      63.0   \n4   5  27.0      M            2       N             0    73.0      75.0   \n\n   CWDistance Complete  CompleteGroup  Score  AgeInMonths  \n0          79        Y            1.0      7        672.0  \n1          70        Y            1.0      8        312.0  \n2          85        Y            1.0      7        396.0  \n3          87        Y            1.0     10        468.0  \n4          72        N            0.0      4        324.0  "
     },
     "execution_count": 42,
     "metadata": {},
     "output_type": "execute_result"
    }
   ],
   "source": [
    "# Add new column derived from existing columns\n",
    "\n",
    "# The new column is a function of another column\n",
    "df[\"AgeInMonths\"] = df[\"Age\"] * 12\n",
    "\n",
    "df.head()"
   ]
  },
  {
   "cell_type": "code",
   "execution_count": 43,
   "metadata": {},
   "outputs": [
    {
     "data": {
      "text/html": "<div>\n<style scoped>\n    .dataframe tbody tr th:only-of-type {\n        vertical-align: middle;\n    }\n\n    .dataframe tbody tr th {\n        vertical-align: top;\n    }\n\n    .dataframe thead th {\n        text-align: right;\n    }\n</style>\n<table border=\"1\" class=\"dataframe\">\n  <thead>\n    <tr style=\"text-align: right;\">\n      <th></th>\n      <th>ID</th>\n      <th>Age</th>\n      <th>Gender</th>\n      <th>GenderGroup</th>\n      <th>Glasses</th>\n      <th>GlassesGroup</th>\n      <th>Height</th>\n      <th>Wingspan</th>\n      <th>CWDistance</th>\n      <th>Complete</th>\n      <th>CompleteGroup</th>\n      <th>Score</th>\n    </tr>\n  </thead>\n  <tbody>\n    <tr>\n      <th>0</th>\n      <td>1</td>\n      <td>56.0</td>\n      <td>F</td>\n      <td>1</td>\n      <td>Y</td>\n      <td>1</td>\n      <td>62.0</td>\n      <td>61.0</td>\n      <td>79</td>\n      <td>Y</td>\n      <td>1.0</td>\n      <td>7</td>\n    </tr>\n    <tr>\n      <th>1</th>\n      <td>2</td>\n      <td>26.0</td>\n      <td>F</td>\n      <td>1</td>\n      <td>Y</td>\n      <td>1</td>\n      <td>62.0</td>\n      <td>60.0</td>\n      <td>70</td>\n      <td>Y</td>\n      <td>1.0</td>\n      <td>8</td>\n    </tr>\n    <tr>\n      <th>2</th>\n      <td>3</td>\n      <td>33.0</td>\n      <td>F</td>\n      <td>1</td>\n      <td>Y</td>\n      <td>1</td>\n      <td>66.0</td>\n      <td>64.0</td>\n      <td>85</td>\n      <td>Y</td>\n      <td>1.0</td>\n      <td>7</td>\n    </tr>\n    <tr>\n      <th>3</th>\n      <td>4</td>\n      <td>39.0</td>\n      <td>F</td>\n      <td>1</td>\n      <td>N</td>\n      <td>0</td>\n      <td>64.0</td>\n      <td>63.0</td>\n      <td>87</td>\n      <td>Y</td>\n      <td>1.0</td>\n      <td>10</td>\n    </tr>\n    <tr>\n      <th>4</th>\n      <td>5</td>\n      <td>27.0</td>\n      <td>M</td>\n      <td>2</td>\n      <td>N</td>\n      <td>0</td>\n      <td>73.0</td>\n      <td>75.0</td>\n      <td>72</td>\n      <td>N</td>\n      <td>0.0</td>\n      <td>4</td>\n    </tr>\n  </tbody>\n</table>\n</div>",
      "text/plain": "   ID   Age Gender  GenderGroup Glasses  GlassesGroup  Height  Wingspan  \\\n0   1  56.0      F            1       Y             1    62.0      61.0   \n1   2  26.0      F            1       Y             1    62.0      60.0   \n2   3  33.0      F            1       Y             1    66.0      64.0   \n3   4  39.0      F            1       N             0    64.0      63.0   \n4   5  27.0      M            2       N             0    73.0      75.0   \n\n   CWDistance Complete  CompleteGroup  Score  \n0          79        Y            1.0      7  \n1          70        Y            1.0      8  \n2          85        Y            1.0      7  \n3          87        Y            1.0     10  \n4          72        N            0.0      4  "
     },
     "execution_count": 43,
     "metadata": {},
     "output_type": "execute_result"
    }
   ],
   "source": [
    "# Eliminate inserted column\n",
    "df.drop(\"AgeInMonths\", axis=1, inplace = True)\n",
    "\n",
    "df.head()"
   ]
  },
  {
   "cell_type": "code",
   "execution_count": 44,
   "metadata": {},
   "outputs": [
    {
     "data": {
      "text/html": "<div>\n<style scoped>\n    .dataframe tbody tr th:only-of-type {\n        vertical-align: middle;\n    }\n\n    .dataframe tbody tr th {\n        vertical-align: top;\n    }\n\n    .dataframe thead th {\n        text-align: right;\n    }\n</style>\n<table border=\"1\" class=\"dataframe\">\n  <thead>\n    <tr style=\"text-align: right;\">\n      <th></th>\n      <th>ID</th>\n      <th>Age</th>\n      <th>Gender</th>\n      <th>GenderGroup</th>\n      <th>Glasses</th>\n      <th>GlassesGroup</th>\n      <th>Height</th>\n      <th>Wingspan</th>\n      <th>CWDistance</th>\n      <th>Complete</th>\n      <th>CompleteGroup</th>\n      <th>Score</th>\n      <th>GenderGroupNew</th>\n    </tr>\n  </thead>\n  <tbody>\n    <tr>\n      <th>0</th>\n      <td>1</td>\n      <td>56.0</td>\n      <td>F</td>\n      <td>1</td>\n      <td>Y</td>\n      <td>1</td>\n      <td>62.0</td>\n      <td>61.0</td>\n      <td>79</td>\n      <td>Y</td>\n      <td>1.0</td>\n      <td>7</td>\n      <td>Female</td>\n    </tr>\n    <tr>\n      <th>1</th>\n      <td>2</td>\n      <td>26.0</td>\n      <td>F</td>\n      <td>1</td>\n      <td>Y</td>\n      <td>1</td>\n      <td>62.0</td>\n      <td>60.0</td>\n      <td>70</td>\n      <td>Y</td>\n      <td>1.0</td>\n      <td>8</td>\n      <td>Female</td>\n    </tr>\n    <tr>\n      <th>2</th>\n      <td>3</td>\n      <td>33.0</td>\n      <td>F</td>\n      <td>1</td>\n      <td>Y</td>\n      <td>1</td>\n      <td>66.0</td>\n      <td>64.0</td>\n      <td>85</td>\n      <td>Y</td>\n      <td>1.0</td>\n      <td>7</td>\n      <td>Female</td>\n    </tr>\n    <tr>\n      <th>3</th>\n      <td>4</td>\n      <td>39.0</td>\n      <td>F</td>\n      <td>1</td>\n      <td>N</td>\n      <td>0</td>\n      <td>64.0</td>\n      <td>63.0</td>\n      <td>87</td>\n      <td>Y</td>\n      <td>1.0</td>\n      <td>10</td>\n      <td>Female</td>\n    </tr>\n    <tr>\n      <th>4</th>\n      <td>5</td>\n      <td>27.0</td>\n      <td>M</td>\n      <td>2</td>\n      <td>N</td>\n      <td>0</td>\n      <td>73.0</td>\n      <td>75.0</td>\n      <td>72</td>\n      <td>N</td>\n      <td>0.0</td>\n      <td>4</td>\n      <td>Male</td>\n    </tr>\n  </tbody>\n</table>\n</div>",
      "text/plain": "   ID   Age Gender  GenderGroup Glasses  GlassesGroup  Height  Wingspan  \\\n0   1  56.0      F            1       Y             1    62.0      61.0   \n1   2  26.0      F            1       Y             1    62.0      60.0   \n2   3  33.0      F            1       Y             1    66.0      64.0   \n3   4  39.0      F            1       N             0    64.0      63.0   \n4   5  27.0      M            2       N             0    73.0      75.0   \n\n   CWDistance Complete  CompleteGroup  Score GenderGroupNew  \n0          79        Y            1.0      7         Female  \n1          70        Y            1.0      8         Female  \n2          85        Y            1.0      7         Female  \n3          87        Y            1.0     10         Female  \n4          72        N            0.0      4           Male  "
     },
     "execution_count": 44,
     "metadata": {},
     "output_type": "execute_result"
    }
   ],
   "source": [
    "# Add a new column with text labels reflecting the code's meaning\n",
    "\n",
    "df[\"GenderGroupNew\"] = df.GenderGroup.replace({1: \"Female\", 2: \"Male\"})\n",
    "\n",
    "# Show the first 5 rows of the created data frame\n",
    "df.head()"
   ]
  },
  {
   "cell_type": "code",
   "execution_count": 45,
   "metadata": {},
   "outputs": [
    {
     "data": {
      "text/html": "<div>\n<style scoped>\n    .dataframe tbody tr th:only-of-type {\n        vertical-align: middle;\n    }\n\n    .dataframe tbody tr th {\n        vertical-align: top;\n    }\n\n    .dataframe thead th {\n        text-align: right;\n    }\n</style>\n<table border=\"1\" class=\"dataframe\">\n  <thead>\n    <tr style=\"text-align: right;\">\n      <th></th>\n      <th>ID</th>\n      <th>Age</th>\n      <th>Gender</th>\n      <th>GenderGroup</th>\n      <th>Glasses</th>\n      <th>GlassesGroup</th>\n      <th>Height</th>\n      <th>Wingspan</th>\n      <th>CWDistance</th>\n      <th>Complete</th>\n      <th>CompleteGroup</th>\n      <th>Score</th>\n    </tr>\n  </thead>\n  <tbody>\n    <tr>\n      <th>0</th>\n      <td>1</td>\n      <td>56.0</td>\n      <td>F</td>\n      <td>1</td>\n      <td>Y</td>\n      <td>1</td>\n      <td>62.0</td>\n      <td>61.0</td>\n      <td>79</td>\n      <td>Y</td>\n      <td>1.0</td>\n      <td>7</td>\n    </tr>\n    <tr>\n      <th>1</th>\n      <td>2</td>\n      <td>26.0</td>\n      <td>F</td>\n      <td>1</td>\n      <td>Y</td>\n      <td>1</td>\n      <td>62.0</td>\n      <td>60.0</td>\n      <td>70</td>\n      <td>Y</td>\n      <td>1.0</td>\n      <td>8</td>\n    </tr>\n    <tr>\n      <th>2</th>\n      <td>3</td>\n      <td>33.0</td>\n      <td>F</td>\n      <td>1</td>\n      <td>Y</td>\n      <td>1</td>\n      <td>66.0</td>\n      <td>64.0</td>\n      <td>85</td>\n      <td>Y</td>\n      <td>1.0</td>\n      <td>7</td>\n    </tr>\n    <tr>\n      <th>3</th>\n      <td>4</td>\n      <td>39.0</td>\n      <td>F</td>\n      <td>1</td>\n      <td>N</td>\n      <td>0</td>\n      <td>64.0</td>\n      <td>63.0</td>\n      <td>87</td>\n      <td>Y</td>\n      <td>1.0</td>\n      <td>10</td>\n    </tr>\n    <tr>\n      <th>4</th>\n      <td>5</td>\n      <td>27.0</td>\n      <td>M</td>\n      <td>2</td>\n      <td>N</td>\n      <td>0</td>\n      <td>73.0</td>\n      <td>75.0</td>\n      <td>72</td>\n      <td>N</td>\n      <td>0.0</td>\n      <td>4</td>\n    </tr>\n  </tbody>\n</table>\n</div>",
      "text/plain": "   ID   Age Gender  GenderGroup Glasses  GlassesGroup  Height  Wingspan  \\\n0   1  56.0      F            1       Y             1    62.0      61.0   \n1   2  26.0      F            1       Y             1    62.0      60.0   \n2   3  33.0      F            1       Y             1    66.0      64.0   \n3   4  39.0      F            1       N             0    64.0      63.0   \n4   5  27.0      M            2       N             0    73.0      75.0   \n\n   CWDistance Complete  CompleteGroup  Score  \n0          79        Y            1.0      7  \n1          70        Y            1.0      8  \n2          85        Y            1.0      7  \n3          87        Y            1.0     10  \n4          72        N            0.0      4  "
     },
     "execution_count": 45,
     "metadata": {},
     "output_type": "execute_result"
    }
   ],
   "source": [
    "# Eliminate inserted column\n",
    "df.drop(\"GenderGroupNew\", axis=1, inplace = True)\n",
    "#df.drop(['GenderGroupNew'],vaxis='columns',vinplace=True)\n",
    "\n",
    "df.head()"
   ]
  },
  {
   "cell_type": "code",
   "execution_count": 46,
   "metadata": {},
   "outputs": [
    {
     "data": {
      "text/html": "<div>\n<style scoped>\n    .dataframe tbody tr th:only-of-type {\n        vertical-align: middle;\n    }\n\n    .dataframe tbody tr th {\n        vertical-align: top;\n    }\n\n    .dataframe thead th {\n        text-align: right;\n    }\n</style>\n<table border=\"1\" class=\"dataframe\">\n  <thead>\n    <tr style=\"text-align: right;\">\n      <th></th>\n      <th>ID</th>\n      <th>ColumnStrata</th>\n      <th>Age</th>\n      <th>Gender</th>\n      <th>GenderGroup</th>\n      <th>Glasses</th>\n      <th>GlassesGroup</th>\n      <th>Height</th>\n      <th>Wingspan</th>\n      <th>CWDistance</th>\n      <th>Complete</th>\n      <th>CompleteGroup</th>\n      <th>Score</th>\n    </tr>\n  </thead>\n  <tbody>\n    <tr>\n      <th>0</th>\n      <td>1</td>\n      <td>(60.0, 63.0]</td>\n      <td>56.0</td>\n      <td>F</td>\n      <td>1</td>\n      <td>Y</td>\n      <td>1</td>\n      <td>62.0</td>\n      <td>61.0</td>\n      <td>79</td>\n      <td>Y</td>\n      <td>1.0</td>\n      <td>7</td>\n    </tr>\n    <tr>\n      <th>1</th>\n      <td>2</td>\n      <td>(60.0, 63.0]</td>\n      <td>26.0</td>\n      <td>F</td>\n      <td>1</td>\n      <td>Y</td>\n      <td>1</td>\n      <td>62.0</td>\n      <td>60.0</td>\n      <td>70</td>\n      <td>Y</td>\n      <td>1.0</td>\n      <td>8</td>\n    </tr>\n    <tr>\n      <th>2</th>\n      <td>3</td>\n      <td>(63.0, 66.0]</td>\n      <td>33.0</td>\n      <td>F</td>\n      <td>1</td>\n      <td>Y</td>\n      <td>1</td>\n      <td>66.0</td>\n      <td>64.0</td>\n      <td>85</td>\n      <td>Y</td>\n      <td>1.0</td>\n      <td>7</td>\n    </tr>\n    <tr>\n      <th>3</th>\n      <td>4</td>\n      <td>(63.0, 66.0]</td>\n      <td>39.0</td>\n      <td>F</td>\n      <td>1</td>\n      <td>N</td>\n      <td>0</td>\n      <td>64.0</td>\n      <td>63.0</td>\n      <td>87</td>\n      <td>Y</td>\n      <td>1.0</td>\n      <td>10</td>\n    </tr>\n    <tr>\n      <th>4</th>\n      <td>5</td>\n      <td>(72.0, 75.0]</td>\n      <td>27.0</td>\n      <td>M</td>\n      <td>2</td>\n      <td>N</td>\n      <td>0</td>\n      <td>73.0</td>\n      <td>75.0</td>\n      <td>72</td>\n      <td>N</td>\n      <td>0.0</td>\n      <td>4</td>\n    </tr>\n  </tbody>\n</table>\n</div>",
      "text/plain": "   ID  ColumnStrata   Age Gender  GenderGroup Glasses  GlassesGroup  Height  \\\n0   1  (60.0, 63.0]  56.0      F            1       Y             1    62.0   \n1   2  (60.0, 63.0]  26.0      F            1       Y             1    62.0   \n2   3  (63.0, 66.0]  33.0      F            1       Y             1    66.0   \n3   4  (63.0, 66.0]  39.0      F            1       N             0    64.0   \n4   5  (72.0, 75.0]  27.0      M            2       N             0    73.0   \n\n   Wingspan  CWDistance Complete  CompleteGroup  Score  \n0      61.0          79        Y            1.0      7  \n1      60.0          70        Y            1.0      8  \n2      64.0          85        Y            1.0      7  \n3      63.0          87        Y            1.0     10  \n4      75.0          72        N            0.0      4  "
     },
     "execution_count": 46,
     "metadata": {},
     "output_type": "execute_result"
    }
   ],
   "source": [
    "# Add a new column with strata based on these cut points\n",
    "\n",
    "# Create a column data\n",
    "NewColumnData = df.Age/df.Age\n",
    "\n",
    "# Insert that column in the data frame\n",
    "df.insert(1, \"ColumnStrata\", NewColumnData, True)\n",
    "\n",
    "df[\"ColumnStrata\"] = pd.cut(df.Height, [60., 63., 66., 69., 72., 75., 78.])\n",
    "\n",
    "# Show the first 5 rows of the created data frame\n",
    "df.head()"
   ]
  },
  {
   "cell_type": "code",
   "execution_count": 47,
   "metadata": {},
   "outputs": [
    {
     "data": {
      "text/html": "<div>\n<style scoped>\n    .dataframe tbody tr th:only-of-type {\n        vertical-align: middle;\n    }\n\n    .dataframe tbody tr th {\n        vertical-align: top;\n    }\n\n    .dataframe thead th {\n        text-align: right;\n    }\n</style>\n<table border=\"1\" class=\"dataframe\">\n  <thead>\n    <tr style=\"text-align: right;\">\n      <th></th>\n      <th>ID</th>\n      <th>Age</th>\n      <th>Gender</th>\n      <th>GenderGroup</th>\n      <th>Glasses</th>\n      <th>GlassesGroup</th>\n      <th>Height</th>\n      <th>Wingspan</th>\n      <th>CWDistance</th>\n      <th>Complete</th>\n      <th>CompleteGroup</th>\n      <th>Score</th>\n    </tr>\n  </thead>\n  <tbody>\n    <tr>\n      <th>0</th>\n      <td>1</td>\n      <td>56.0</td>\n      <td>F</td>\n      <td>1</td>\n      <td>Y</td>\n      <td>1</td>\n      <td>62.0</td>\n      <td>61.0</td>\n      <td>79</td>\n      <td>Y</td>\n      <td>1.0</td>\n      <td>7</td>\n    </tr>\n    <tr>\n      <th>1</th>\n      <td>2</td>\n      <td>26.0</td>\n      <td>F</td>\n      <td>1</td>\n      <td>Y</td>\n      <td>1</td>\n      <td>62.0</td>\n      <td>60.0</td>\n      <td>70</td>\n      <td>Y</td>\n      <td>1.0</td>\n      <td>8</td>\n    </tr>\n    <tr>\n      <th>2</th>\n      <td>3</td>\n      <td>33.0</td>\n      <td>F</td>\n      <td>1</td>\n      <td>Y</td>\n      <td>1</td>\n      <td>66.0</td>\n      <td>64.0</td>\n      <td>85</td>\n      <td>Y</td>\n      <td>1.0</td>\n      <td>7</td>\n    </tr>\n    <tr>\n      <th>3</th>\n      <td>4</td>\n      <td>39.0</td>\n      <td>F</td>\n      <td>1</td>\n      <td>N</td>\n      <td>0</td>\n      <td>64.0</td>\n      <td>63.0</td>\n      <td>87</td>\n      <td>Y</td>\n      <td>1.0</td>\n      <td>10</td>\n    </tr>\n    <tr>\n      <th>4</th>\n      <td>5</td>\n      <td>27.0</td>\n      <td>M</td>\n      <td>2</td>\n      <td>N</td>\n      <td>0</td>\n      <td>73.0</td>\n      <td>75.0</td>\n      <td>72</td>\n      <td>N</td>\n      <td>0.0</td>\n      <td>4</td>\n    </tr>\n  </tbody>\n</table>\n</div>",
      "text/plain": "   ID   Age Gender  GenderGroup Glasses  GlassesGroup  Height  Wingspan  \\\n0   1  56.0      F            1       Y             1    62.0      61.0   \n1   2  26.0      F            1       Y             1    62.0      60.0   \n2   3  33.0      F            1       Y             1    66.0      64.0   \n3   4  39.0      F            1       N             0    64.0      63.0   \n4   5  27.0      M            2       N             0    73.0      75.0   \n\n   CWDistance Complete  CompleteGroup  Score  \n0          79        Y            1.0      7  \n1          70        Y            1.0      8  \n2          85        Y            1.0      7  \n3          87        Y            1.0     10  \n4          72        N            0.0      4  "
     },
     "execution_count": 47,
     "metadata": {},
     "output_type": "execute_result"
    }
   ],
   "source": [
    "# Eliminate inserted column\n",
    "df.drop(\"ColumnStrata\", axis=1, inplace = True)\n",
    "\n",
    "df.head()"
   ]
  },
  {
   "cell_type": "code",
   "execution_count": 82,
   "metadata": {},
   "outputs": [],
   "source": [
    "# Drop several \"unused\" columns\n",
    "#vars = [\"ID\", \"GenderGroup\", \"GlassesGroup\", \"CompleteGroup\"]\n",
    "#df.drop(vars, axis=1, inplace = True)"
   ]
  },
  {
   "cell_type": "markdown",
   "metadata": {},
   "source": [
    "# Add and eliminate rows\n",
    "\n",
    "In some cases it is requiered to add new observations (rows) to the data set"
   ]
  },
  {
   "cell_type": "code",
   "execution_count": 48,
   "metadata": {},
   "outputs": [
    {
     "data": {
      "text/html": "<div>\n<style scoped>\n    .dataframe tbody tr th:only-of-type {\n        vertical-align: middle;\n    }\n\n    .dataframe tbody tr th {\n        vertical-align: top;\n    }\n\n    .dataframe thead th {\n        text-align: right;\n    }\n</style>\n<table border=\"1\" class=\"dataframe\">\n  <thead>\n    <tr style=\"text-align: right;\">\n      <th></th>\n      <th>ID</th>\n      <th>Age</th>\n      <th>Gender</th>\n      <th>GenderGroup</th>\n      <th>Glasses</th>\n      <th>GlassesGroup</th>\n      <th>Height</th>\n      <th>Wingspan</th>\n      <th>CWDistance</th>\n      <th>Complete</th>\n      <th>CompleteGroup</th>\n      <th>Score</th>\n    </tr>\n  </thead>\n  <tbody>\n    <tr>\n      <th>23</th>\n      <td>24</td>\n      <td>26.0</td>\n      <td>M</td>\n      <td>2</td>\n      <td>N</td>\n      <td>0</td>\n      <td>69.0</td>\n      <td>71.0</td>\n      <td>63</td>\n      <td>Y</td>\n      <td>1.0</td>\n      <td>5</td>\n    </tr>\n    <tr>\n      <th>24</th>\n      <td>25</td>\n      <td>23.0</td>\n      <td>F</td>\n      <td>1</td>\n      <td>Y</td>\n      <td>1</td>\n      <td>65.0</td>\n      <td>63.0</td>\n      <td>67</td>\n      <td>N</td>\n      <td>0.0</td>\n      <td>3</td>\n    </tr>\n    <tr>\n      <th>25</th>\n      <td>26</td>\n      <td>30.0</td>\n      <td>F</td>\n      <td>1</td>\n      <td>N</td>\n      <td>0</td>\n      <td>74.6</td>\n      <td>NaN</td>\n      <td>71</td>\n      <td>Y</td>\n      <td>1.0</td>\n      <td>9</td>\n    </tr>\n    <tr>\n      <th>26</th>\n      <td>27</td>\n      <td>NaN</td>\n      <td>M</td>\n      <td>2</td>\n      <td>N</td>\n      <td>0</td>\n      <td>71.0</td>\n      <td>70.0</td>\n      <td>101</td>\n      <td>Y</td>\n      <td>NaN</td>\n      <td>8</td>\n    </tr>\n    <tr>\n      <th>27</th>\n      <td>28</td>\n      <td>27.0</td>\n      <td>M</td>\n      <td>2</td>\n      <td>N</td>\n      <td>0</td>\n      <td>NaN</td>\n      <td>71.5</td>\n      <td>103</td>\n      <td>Y</td>\n      <td>1.0</td>\n      <td>10</td>\n    </tr>\n  </tbody>\n</table>\n</div>",
      "text/plain": "    ID   Age Gender  GenderGroup Glasses  GlassesGroup  Height  Wingspan  \\\n23  24  26.0      M            2       N             0    69.0      71.0   \n24  25  23.0      F            1       Y             1    65.0      63.0   \n25  26  30.0      F            1       N             0    74.6       NaN   \n26  27   NaN      M            2       N             0    71.0      70.0   \n27  28  27.0      M            2       N             0     NaN      71.5   \n\n    CWDistance Complete  CompleteGroup  Score  \n23          63        Y            1.0      5  \n24          67        N            0.0      3  \n25          71        Y            1.0      9  \n26         101        Y            NaN      8  \n27         103        Y            1.0     10  "
     },
     "execution_count": 48,
     "metadata": {},
     "output_type": "execute_result"
    }
   ],
   "source": [
    "df.tail()"
   ]
  },
  {
   "cell_type": "code",
   "execution_count": 49,
   "metadata": {},
   "outputs": [
    {
     "data": {
      "text/html": "<div>\n<style scoped>\n    .dataframe tbody tr th:only-of-type {\n        vertical-align: middle;\n    }\n\n    .dataframe tbody tr th {\n        vertical-align: top;\n    }\n\n    .dataframe thead th {\n        text-align: right;\n    }\n</style>\n<table border=\"1\" class=\"dataframe\">\n  <thead>\n    <tr style=\"text-align: right;\">\n      <th></th>\n      <th>ID</th>\n      <th>Age</th>\n      <th>Gender</th>\n      <th>GenderGroup</th>\n      <th>Glasses</th>\n      <th>GlassesGroup</th>\n      <th>Height</th>\n      <th>Wingspan</th>\n      <th>CWDistance</th>\n      <th>Complete</th>\n      <th>CompleteGroup</th>\n      <th>Score</th>\n    </tr>\n  </thead>\n  <tbody>\n    <tr>\n      <th>24</th>\n      <td>25</td>\n      <td>23.0</td>\n      <td>F</td>\n      <td>1</td>\n      <td>Y</td>\n      <td>1</td>\n      <td>65.0</td>\n      <td>63.0</td>\n      <td>67</td>\n      <td>N</td>\n      <td>0.0</td>\n      <td>3</td>\n    </tr>\n    <tr>\n      <th>25</th>\n      <td>26</td>\n      <td>30.0</td>\n      <td>F</td>\n      <td>1</td>\n      <td>N</td>\n      <td>0</td>\n      <td>74.6</td>\n      <td>NaN</td>\n      <td>71</td>\n      <td>Y</td>\n      <td>1.0</td>\n      <td>9</td>\n    </tr>\n    <tr>\n      <th>26</th>\n      <td>27</td>\n      <td>NaN</td>\n      <td>M</td>\n      <td>2</td>\n      <td>N</td>\n      <td>0</td>\n      <td>71.0</td>\n      <td>70.0</td>\n      <td>101</td>\n      <td>Y</td>\n      <td>NaN</td>\n      <td>8</td>\n    </tr>\n    <tr>\n      <th>27</th>\n      <td>28</td>\n      <td>27.0</td>\n      <td>M</td>\n      <td>2</td>\n      <td>N</td>\n      <td>0</td>\n      <td>NaN</td>\n      <td>71.5</td>\n      <td>103</td>\n      <td>Y</td>\n      <td>1.0</td>\n      <td>10</td>\n    </tr>\n    <tr>\n      <th>28</th>\n      <td>26</td>\n      <td>24.0</td>\n      <td>F</td>\n      <td>1</td>\n      <td>Y</td>\n      <td>1</td>\n      <td>66.0</td>\n      <td>NaN</td>\n      <td>68</td>\n      <td>N</td>\n      <td>0.0</td>\n      <td>3</td>\n    </tr>\n  </tbody>\n</table>\n</div>",
      "text/plain": "    ID   Age Gender  GenderGroup Glasses  GlassesGroup  Height Wingspan  \\\n24  25  23.0      F            1       Y             1    65.0     63.0   \n25  26  30.0      F            1       N             0    74.6      NaN   \n26  27   NaN      M            2       N             0    71.0     70.0   \n27  28  27.0      M            2       N             0     NaN     71.5   \n28  26  24.0      F            1       Y             1    66.0      NaN   \n\n    CWDistance Complete  CompleteGroup  Score  \n24          67        N            0.0      3  \n25          71        Y            1.0      9  \n26         101        Y            NaN      8  \n27         103        Y            1.0     10  \n28          68        N            0.0      3  "
     },
     "execution_count": 49,
     "metadata": {},
     "output_type": "execute_result"
    }
   ],
   "source": [
    "df.loc[len(df.index)] = [26, 24, 'F', 1, 'Y', 1, 66, 'NaN', 68, 'N', 0, 3] \n",
    "\n",
    "df.tail()\n"
   ]
  },
  {
   "cell_type": "code",
   "execution_count": 50,
   "metadata": {},
   "outputs": [
    {
     "data": {
      "text/html": "<div>\n<style scoped>\n    .dataframe tbody tr th:only-of-type {\n        vertical-align: middle;\n    }\n\n    .dataframe tbody tr th {\n        vertical-align: top;\n    }\n\n    .dataframe thead th {\n        text-align: right;\n    }\n</style>\n<table border=\"1\" class=\"dataframe\">\n  <thead>\n    <tr style=\"text-align: right;\">\n      <th></th>\n      <th>ID</th>\n      <th>Age</th>\n      <th>Gender</th>\n      <th>GenderGroup</th>\n      <th>Glasses</th>\n      <th>GlassesGroup</th>\n      <th>Height</th>\n      <th>Wingspan</th>\n      <th>CWDistance</th>\n      <th>Complete</th>\n      <th>CompleteGroup</th>\n      <th>Score</th>\n    </tr>\n  </thead>\n  <tbody>\n    <tr>\n      <th>23</th>\n      <td>24</td>\n      <td>26.0</td>\n      <td>M</td>\n      <td>2</td>\n      <td>N</td>\n      <td>0</td>\n      <td>69.0</td>\n      <td>71.0</td>\n      <td>63</td>\n      <td>Y</td>\n      <td>1.0</td>\n      <td>5</td>\n    </tr>\n    <tr>\n      <th>24</th>\n      <td>25</td>\n      <td>23.0</td>\n      <td>F</td>\n      <td>1</td>\n      <td>Y</td>\n      <td>1</td>\n      <td>65.0</td>\n      <td>63.0</td>\n      <td>67</td>\n      <td>N</td>\n      <td>0.0</td>\n      <td>3</td>\n    </tr>\n    <tr>\n      <th>25</th>\n      <td>26</td>\n      <td>30.0</td>\n      <td>F</td>\n      <td>1</td>\n      <td>N</td>\n      <td>0</td>\n      <td>74.6</td>\n      <td>NaN</td>\n      <td>71</td>\n      <td>Y</td>\n      <td>1.0</td>\n      <td>9</td>\n    </tr>\n    <tr>\n      <th>26</th>\n      <td>27</td>\n      <td>NaN</td>\n      <td>M</td>\n      <td>2</td>\n      <td>N</td>\n      <td>0</td>\n      <td>71.0</td>\n      <td>70.0</td>\n      <td>101</td>\n      <td>Y</td>\n      <td>NaN</td>\n      <td>8</td>\n    </tr>\n    <tr>\n      <th>27</th>\n      <td>28</td>\n      <td>27.0</td>\n      <td>M</td>\n      <td>2</td>\n      <td>N</td>\n      <td>0</td>\n      <td>NaN</td>\n      <td>71.5</td>\n      <td>103</td>\n      <td>Y</td>\n      <td>1.0</td>\n      <td>10</td>\n    </tr>\n  </tbody>\n</table>\n</div>",
      "text/plain": "    ID   Age Gender  GenderGroup Glasses  GlassesGroup  Height Wingspan  \\\n23  24  26.0      M            2       N             0    69.0     71.0   \n24  25  23.0      F            1       Y             1    65.0     63.0   \n25  26  30.0      F            1       N             0    74.6      NaN   \n26  27   NaN      M            2       N             0    71.0     70.0   \n27  28  27.0      M            2       N             0     NaN     71.5   \n\n    CWDistance Complete  CompleteGroup  Score  \n23          63        Y            1.0      5  \n24          67        N            0.0      3  \n25          71        Y            1.0      9  \n26         101        Y            NaN      8  \n27         103        Y            1.0     10  "
     },
     "execution_count": 50,
     "metadata": {},
     "output_type": "execute_result"
    }
   ],
   "source": [
    "# Eliminate inserted row\n",
    "df.drop([28], inplace = True )\n",
    "\n",
    "df.tail()\n"
   ]
  },
  {
   "cell_type": "markdown",
   "metadata": {},
   "source": [
    "# Cleaning your data: drop out unused columns and/or drop out rows with any missing values"
   ]
  },
  {
   "cell_type": "code",
   "execution_count": 51,
   "metadata": {},
   "outputs": [
    {
     "data": {
      "text/html": "<div>\n<style scoped>\n    .dataframe tbody tr th:only-of-type {\n        vertical-align: middle;\n    }\n\n    .dataframe tbody tr th {\n        vertical-align: top;\n    }\n\n    .dataframe thead th {\n        text-align: right;\n    }\n</style>\n<table border=\"1\" class=\"dataframe\">\n  <thead>\n    <tr style=\"text-align: right;\">\n      <th></th>\n      <th>ID</th>\n      <th>Age</th>\n      <th>Gender</th>\n      <th>GenderGroup</th>\n      <th>Glasses</th>\n      <th>GlassesGroup</th>\n      <th>Height</th>\n      <th>Wingspan</th>\n      <th>CWDistance</th>\n      <th>Complete</th>\n      <th>CompleteGroup</th>\n      <th>Score</th>\n    </tr>\n  </thead>\n  <tbody>\n    <tr>\n      <th>0</th>\n      <td>1</td>\n      <td>56.0</td>\n      <td>F</td>\n      <td>1</td>\n      <td>Y</td>\n      <td>1</td>\n      <td>62.00</td>\n      <td>61.0</td>\n      <td>79</td>\n      <td>Y</td>\n      <td>1.0</td>\n      <td>7</td>\n    </tr>\n    <tr>\n      <th>1</th>\n      <td>2</td>\n      <td>26.0</td>\n      <td>F</td>\n      <td>1</td>\n      <td>Y</td>\n      <td>1</td>\n      <td>62.00</td>\n      <td>60.0</td>\n      <td>70</td>\n      <td>Y</td>\n      <td>1.0</td>\n      <td>8</td>\n    </tr>\n    <tr>\n      <th>2</th>\n      <td>3</td>\n      <td>33.0</td>\n      <td>F</td>\n      <td>1</td>\n      <td>Y</td>\n      <td>1</td>\n      <td>66.00</td>\n      <td>64.0</td>\n      <td>85</td>\n      <td>Y</td>\n      <td>1.0</td>\n      <td>7</td>\n    </tr>\n    <tr>\n      <th>3</th>\n      <td>4</td>\n      <td>39.0</td>\n      <td>F</td>\n      <td>1</td>\n      <td>N</td>\n      <td>0</td>\n      <td>64.00</td>\n      <td>63.0</td>\n      <td>87</td>\n      <td>Y</td>\n      <td>1.0</td>\n      <td>10</td>\n    </tr>\n    <tr>\n      <th>4</th>\n      <td>5</td>\n      <td>27.0</td>\n      <td>M</td>\n      <td>2</td>\n      <td>N</td>\n      <td>0</td>\n      <td>73.00</td>\n      <td>75.0</td>\n      <td>72</td>\n      <td>N</td>\n      <td>0.0</td>\n      <td>4</td>\n    </tr>\n    <tr>\n      <th>5</th>\n      <td>6</td>\n      <td>24.0</td>\n      <td>M</td>\n      <td>2</td>\n      <td>N</td>\n      <td>0</td>\n      <td>75.00</td>\n      <td>71.0</td>\n      <td>81</td>\n      <td>N</td>\n      <td>0.0</td>\n      <td>3</td>\n    </tr>\n    <tr>\n      <th>6</th>\n      <td>7</td>\n      <td>28.0</td>\n      <td>M</td>\n      <td>2</td>\n      <td>N</td>\n      <td>0</td>\n      <td>75.00</td>\n      <td>76.0</td>\n      <td>107</td>\n      <td>Y</td>\n      <td>1.0</td>\n      <td>10</td>\n    </tr>\n    <tr>\n      <th>7</th>\n      <td>8</td>\n      <td>22.0</td>\n      <td>F</td>\n      <td>1</td>\n      <td>N</td>\n      <td>0</td>\n      <td>65.00</td>\n      <td>62.0</td>\n      <td>98</td>\n      <td>Y</td>\n      <td>1.0</td>\n      <td>9</td>\n    </tr>\n    <tr>\n      <th>8</th>\n      <td>9</td>\n      <td>29.0</td>\n      <td>M</td>\n      <td>2</td>\n      <td>Y</td>\n      <td>1</td>\n      <td>74.00</td>\n      <td>73.0</td>\n      <td>106</td>\n      <td>N</td>\n      <td>0.0</td>\n      <td>5</td>\n    </tr>\n    <tr>\n      <th>9</th>\n      <td>10</td>\n      <td>33.0</td>\n      <td>F</td>\n      <td>1</td>\n      <td>Y</td>\n      <td>1</td>\n      <td>63.00</td>\n      <td>60.0</td>\n      <td>65</td>\n      <td>Y</td>\n      <td>1.0</td>\n      <td>8</td>\n    </tr>\n    <tr>\n      <th>10</th>\n      <td>11</td>\n      <td>30.0</td>\n      <td>M</td>\n      <td>2</td>\n      <td>Y</td>\n      <td>1</td>\n      <td>69.50</td>\n      <td>66.0</td>\n      <td>96</td>\n      <td>Y</td>\n      <td>1.0</td>\n      <td>6</td>\n    </tr>\n    <tr>\n      <th>11</th>\n      <td>12</td>\n      <td>28.0</td>\n      <td>F</td>\n      <td>1</td>\n      <td>Y</td>\n      <td>1</td>\n      <td>62.75</td>\n      <td>58.0</td>\n      <td>79</td>\n      <td>Y</td>\n      <td>1.0</td>\n      <td>10</td>\n    </tr>\n    <tr>\n      <th>12</th>\n      <td>13</td>\n      <td>25.0</td>\n      <td>F</td>\n      <td>1</td>\n      <td>Y</td>\n      <td>1</td>\n      <td>65.00</td>\n      <td>64.5</td>\n      <td>92</td>\n      <td>Y</td>\n      <td>1.0</td>\n      <td>6</td>\n    </tr>\n    <tr>\n      <th>13</th>\n      <td>14</td>\n      <td>23.0</td>\n      <td>F</td>\n      <td>1</td>\n      <td>N</td>\n      <td>0</td>\n      <td>61.50</td>\n      <td>57.5</td>\n      <td>66</td>\n      <td>Y</td>\n      <td>1.0</td>\n      <td>4</td>\n    </tr>\n    <tr>\n      <th>14</th>\n      <td>15</td>\n      <td>31.0</td>\n      <td>M</td>\n      <td>2</td>\n      <td>Y</td>\n      <td>1</td>\n      <td>73.00</td>\n      <td>74.0</td>\n      <td>72</td>\n      <td>Y</td>\n      <td>1.0</td>\n      <td>9</td>\n    </tr>\n    <tr>\n      <th>15</th>\n      <td>16</td>\n      <td>26.0</td>\n      <td>M</td>\n      <td>2</td>\n      <td>Y</td>\n      <td>1</td>\n      <td>71.00</td>\n      <td>72.0</td>\n      <td>115</td>\n      <td>Y</td>\n      <td>1.0</td>\n      <td>6</td>\n    </tr>\n    <tr>\n      <th>16</th>\n      <td>17</td>\n      <td>26.0</td>\n      <td>F</td>\n      <td>1</td>\n      <td>N</td>\n      <td>0</td>\n      <td>61.50</td>\n      <td>59.5</td>\n      <td>90</td>\n      <td>N</td>\n      <td>0.0</td>\n      <td>10</td>\n    </tr>\n    <tr>\n      <th>17</th>\n      <td>18</td>\n      <td>27.0</td>\n      <td>M</td>\n      <td>2</td>\n      <td>N</td>\n      <td>0</td>\n      <td>66.00</td>\n      <td>66.0</td>\n      <td>74</td>\n      <td>Y</td>\n      <td>1.0</td>\n      <td>5</td>\n    </tr>\n    <tr>\n      <th>18</th>\n      <td>19</td>\n      <td>23.0</td>\n      <td>M</td>\n      <td>2</td>\n      <td>Y</td>\n      <td>1</td>\n      <td>70.00</td>\n      <td>69.0</td>\n      <td>64</td>\n      <td>Y</td>\n      <td>1.0</td>\n      <td>3</td>\n    </tr>\n    <tr>\n      <th>19</th>\n      <td>20</td>\n      <td>24.0</td>\n      <td>F</td>\n      <td>1</td>\n      <td>Y</td>\n      <td>1</td>\n      <td>68.00</td>\n      <td>66.0</td>\n      <td>85</td>\n      <td>Y</td>\n      <td>1.0</td>\n      <td>8</td>\n    </tr>\n    <tr>\n      <th>20</th>\n      <td>21</td>\n      <td>23.0</td>\n      <td>M</td>\n      <td>2</td>\n      <td>Y</td>\n      <td>1</td>\n      <td>69.00</td>\n      <td>67.0</td>\n      <td>66</td>\n      <td>N</td>\n      <td>0.0</td>\n      <td>2</td>\n    </tr>\n    <tr>\n      <th>21</th>\n      <td>22</td>\n      <td>29.0</td>\n      <td>M</td>\n      <td>2</td>\n      <td>N</td>\n      <td>0</td>\n      <td>71.00</td>\n      <td>70.0</td>\n      <td>101</td>\n      <td>Y</td>\n      <td>1.0</td>\n      <td>8</td>\n    </tr>\n    <tr>\n      <th>22</th>\n      <td>23</td>\n      <td>25.0</td>\n      <td>M</td>\n      <td>2</td>\n      <td>N</td>\n      <td>0</td>\n      <td>70.00</td>\n      <td>68.0</td>\n      <td>82</td>\n      <td>Y</td>\n      <td>1.0</td>\n      <td>4</td>\n    </tr>\n    <tr>\n      <th>23</th>\n      <td>24</td>\n      <td>26.0</td>\n      <td>M</td>\n      <td>2</td>\n      <td>N</td>\n      <td>0</td>\n      <td>69.00</td>\n      <td>71.0</td>\n      <td>63</td>\n      <td>Y</td>\n      <td>1.0</td>\n      <td>5</td>\n    </tr>\n    <tr>\n      <th>24</th>\n      <td>25</td>\n      <td>23.0</td>\n      <td>F</td>\n      <td>1</td>\n      <td>Y</td>\n      <td>1</td>\n      <td>65.00</td>\n      <td>63.0</td>\n      <td>67</td>\n      <td>N</td>\n      <td>0.0</td>\n      <td>3</td>\n    </tr>\n    <tr>\n      <th>25</th>\n      <td>26</td>\n      <td>30.0</td>\n      <td>F</td>\n      <td>1</td>\n      <td>N</td>\n      <td>0</td>\n      <td>74.60</td>\n      <td>NaN</td>\n      <td>71</td>\n      <td>Y</td>\n      <td>1.0</td>\n      <td>9</td>\n    </tr>\n    <tr>\n      <th>26</th>\n      <td>27</td>\n      <td>NaN</td>\n      <td>M</td>\n      <td>2</td>\n      <td>N</td>\n      <td>0</td>\n      <td>71.00</td>\n      <td>70.0</td>\n      <td>101</td>\n      <td>Y</td>\n      <td>NaN</td>\n      <td>8</td>\n    </tr>\n    <tr>\n      <th>27</th>\n      <td>28</td>\n      <td>27.0</td>\n      <td>M</td>\n      <td>2</td>\n      <td>N</td>\n      <td>0</td>\n      <td>NaN</td>\n      <td>71.5</td>\n      <td>103</td>\n      <td>Y</td>\n      <td>1.0</td>\n      <td>10</td>\n    </tr>\n  </tbody>\n</table>\n</div>",
      "text/plain": "    ID   Age Gender  GenderGroup Glasses  GlassesGroup  Height Wingspan  \\\n0    1  56.0      F            1       Y             1   62.00     61.0   \n1    2  26.0      F            1       Y             1   62.00     60.0   \n2    3  33.0      F            1       Y             1   66.00     64.0   \n3    4  39.0      F            1       N             0   64.00     63.0   \n4    5  27.0      M            2       N             0   73.00     75.0   \n5    6  24.0      M            2       N             0   75.00     71.0   \n6    7  28.0      M            2       N             0   75.00     76.0   \n7    8  22.0      F            1       N             0   65.00     62.0   \n8    9  29.0      M            2       Y             1   74.00     73.0   \n9   10  33.0      F            1       Y             1   63.00     60.0   \n10  11  30.0      M            2       Y             1   69.50     66.0   \n11  12  28.0      F            1       Y             1   62.75     58.0   \n12  13  25.0      F            1       Y             1   65.00     64.5   \n13  14  23.0      F            1       N             0   61.50     57.5   \n14  15  31.0      M            2       Y             1   73.00     74.0   \n15  16  26.0      M            2       Y             1   71.00     72.0   \n16  17  26.0      F            1       N             0   61.50     59.5   \n17  18  27.0      M            2       N             0   66.00     66.0   \n18  19  23.0      M            2       Y             1   70.00     69.0   \n19  20  24.0      F            1       Y             1   68.00     66.0   \n20  21  23.0      M            2       Y             1   69.00     67.0   \n21  22  29.0      M            2       N             0   71.00     70.0   \n22  23  25.0      M            2       N             0   70.00     68.0   \n23  24  26.0      M            2       N             0   69.00     71.0   \n24  25  23.0      F            1       Y             1   65.00     63.0   \n25  26  30.0      F            1       N             0   74.60      NaN   \n26  27   NaN      M            2       N             0   71.00     70.0   \n27  28  27.0      M            2       N             0     NaN     71.5   \n\n    CWDistance Complete  CompleteGroup  Score  \n0           79        Y            1.0      7  \n1           70        Y            1.0      8  \n2           85        Y            1.0      7  \n3           87        Y            1.0     10  \n4           72        N            0.0      4  \n5           81        N            0.0      3  \n6          107        Y            1.0     10  \n7           98        Y            1.0      9  \n8          106        N            0.0      5  \n9           65        Y            1.0      8  \n10          96        Y            1.0      6  \n11          79        Y            1.0     10  \n12          92        Y            1.0      6  \n13          66        Y            1.0      4  \n14          72        Y            1.0      9  \n15         115        Y            1.0      6  \n16          90        N            0.0     10  \n17          74        Y            1.0      5  \n18          64        Y            1.0      3  \n19          85        Y            1.0      8  \n20          66        N            0.0      2  \n21         101        Y            1.0      8  \n22          82        Y            1.0      4  \n23          63        Y            1.0      5  \n24          67        N            0.0      3  \n25          71        Y            1.0      9  \n26         101        Y            NaN      8  \n27         103        Y            1.0     10  "
     },
     "execution_count": 51,
     "metadata": {},
     "output_type": "execute_result"
    }
   ],
   "source": [
    "# Drop unused columns\n",
    "#vars = [\"ID\", \"GenderGroup\", \"GlassesGroup\", \"CompleteGroup\"]\n",
    "#df.drop(vars, axis=1, inplace = True)\n",
    "\n",
    "#vars = [\"Age\", \"Gender\", \"Glasses\", \"Height\", \"Wingspan\", \"CWDistance\", \"Complete\", \"Score\"]\n",
    "#df = df[vars]\n",
    "\n",
    "# Drop rows with any missing values\n",
    "#df = df.dropna()\n",
    "\n",
    "# Drop unused columns and drop rows with any missing values\n",
    "#vars = [\"Age\", \"Gender\", \"Glasses\", \"Height\", \"Wingspan\", \"CWDistance\", \"Complete\", \"Score\"]\n",
    "#df = df[vars].dropna()\n",
    "\n",
    "df\n"
   ]
  },
  {
   "cell_type": "markdown",
   "metadata": {},
   "source": [
    "# Final remarks\n",
    "\n",
    "\n",
    "- The understanding of your dataset is essential\n",
    "    - Number of observations\n",
    "    - Variables\n",
    "    - Data types: numerical or categorial\n",
    "    - What are my variables of interest\n",
    "\n",
    "- There are several ways to do the same thing\n",
    "\n",
    "- Cleaning your dataset (dropping out rows with any missing values) is a good practice\n",
    "\n",
    "- The **Pandas** library provides fancy, high-performance, easy-to-use data structures and data analysis tools\n"
   ]
  },
  {
   "cell_type": "markdown",
   "metadata": {},
   "source": [
    "# Activity: work with the iris dataset\n",
    "\n",
    "Repeat this tutorial with the iris data set and respond to the following inquiries\n",
    "\n",
    "1. Calculate the statistical summary for each quantitative variables. Explain the results\n",
    "    - Identify the name of each column\n",
    "    - Identify the type of each column\n",
    "    - Minimum, maximum, mean, average, median, standar deviation\n",
    "    \n",
    "    \n",
    "2. Are there missing data? If so, create a new dataset containing only the rows with the non-missing data\n",
    "\n",
    "\n",
    "3. Create a new dataset containing only the petal width and length and the type of Flower\n",
    "\n",
    "\n",
    "4. Create a new dataset containing only the setal width and length and the type of Flower\n",
    "\n",
    "\n",
    "5. Create a new dataset containing the setal width and length and the type of Flower encoded as a categorical numerical column \n"
   ]
  },
  {
   "cell_type": "code",
   "execution_count": 9,
   "metadata": {},
   "outputs": [],
   "source": [
    "import pandas as pd\r\n",
    "url = \"datasets/iris/iris.csv\"\r\n",
    "dataset = pd.read_csv(url)"
   ]
  },
  {
   "cell_type": "markdown",
   "metadata": {},
   "source": [
    "## Punto 1"
   ]
  },
  {
   "cell_type": "code",
   "execution_count": 56,
   "metadata": {},
   "outputs": [
    {
     "data": {
      "text/html": "<div>\n<style scoped>\n    .dataframe tbody tr th:only-of-type {\n        vertical-align: middle;\n    }\n\n    .dataframe tbody tr th {\n        vertical-align: top;\n    }\n\n    .dataframe thead th {\n        text-align: right;\n    }\n</style>\n<table border=\"1\" class=\"dataframe\">\n  <thead>\n    <tr style=\"text-align: right;\">\n      <th></th>\n      <th>SepalLength</th>\n      <th>SepalWidth</th>\n      <th>PetalLength</th>\n      <th>PetalWidth</th>\n    </tr>\n  </thead>\n  <tbody>\n    <tr>\n      <th>count</th>\n      <td>150.000000</td>\n      <td>150.000000</td>\n      <td>150.000000</td>\n      <td>150.000000</td>\n    </tr>\n    <tr>\n      <th>mean</th>\n      <td>5.843333</td>\n      <td>3.057333</td>\n      <td>3.758000</td>\n      <td>1.199333</td>\n    </tr>\n    <tr>\n      <th>std</th>\n      <td>0.828066</td>\n      <td>0.435866</td>\n      <td>1.765298</td>\n      <td>0.762238</td>\n    </tr>\n    <tr>\n      <th>min</th>\n      <td>4.300000</td>\n      <td>2.000000</td>\n      <td>1.000000</td>\n      <td>0.100000</td>\n    </tr>\n    <tr>\n      <th>25%</th>\n      <td>5.100000</td>\n      <td>2.800000</td>\n      <td>1.600000</td>\n      <td>0.300000</td>\n    </tr>\n    <tr>\n      <th>50%</th>\n      <td>5.800000</td>\n      <td>3.000000</td>\n      <td>4.350000</td>\n      <td>1.300000</td>\n    </tr>\n    <tr>\n      <th>75%</th>\n      <td>6.400000</td>\n      <td>3.300000</td>\n      <td>5.100000</td>\n      <td>1.800000</td>\n    </tr>\n    <tr>\n      <th>max</th>\n      <td>7.900000</td>\n      <td>4.400000</td>\n      <td>6.900000</td>\n      <td>2.500000</td>\n    </tr>\n  </tbody>\n</table>\n</div>",
      "text/plain": "       SepalLength  SepalWidth  PetalLength  PetalWidth\ncount   150.000000  150.000000   150.000000  150.000000\nmean      5.843333    3.057333     3.758000    1.199333\nstd       0.828066    0.435866     1.765298    0.762238\nmin       4.300000    2.000000     1.000000    0.100000\n25%       5.100000    2.800000     1.600000    0.300000\n50%       5.800000    3.000000     4.350000    1.300000\n75%       6.400000    3.300000     5.100000    1.800000\nmax       7.900000    4.400000     6.900000    2.500000"
     },
     "execution_count": 56,
     "metadata": {},
     "output_type": "execute_result"
    }
   ],
   "source": [
    "dataset.describe()"
   ]
  },
  {
   "cell_type": "code",
   "execution_count": 57,
   "metadata": {},
   "outputs": [
    {
     "name": "stdout",
     "output_type": "stream",
     "text": [
      "5.8\n"
     ]
    }
   ],
   "source": [
    "#Aqui cambias el nombre del SepalLength por la caracterisca que quieras sacara la mediana\r\n",
    "median = print(dataset.SepalLength.median())"
   ]
  },
  {
   "cell_type": "code",
   "execution_count": 55,
   "metadata": {},
   "outputs": [
    {
     "data": {
      "text/plain": "count    150.000000\nmean       5.843333\nstd        0.828066\nmin        4.300000\n25%        5.100000\n50%        5.800000\n75%        6.400000\nmax        7.900000\nName: SepalLength, dtype: float64"
     },
     "execution_count": 55,
     "metadata": {},
     "output_type": "execute_result"
    }
   ],
   "source": [
    "#Aqui puedes poner cualquiera de las columnas para tener un detalle especifico\r\n",
    "dataset.SepalLength.describe()"
   ]
  },
  {
   "cell_type": "markdown",
   "metadata": {},
   "source": [
    "## Punto 2"
   ]
  },
  {
   "cell_type": "code",
   "execution_count": 58,
   "metadata": {},
   "outputs": [
    {
     "data": {
      "text/plain": "SepalLength    0\nSepalWidth     0\nPetalLength    0\nPetalWidth     0\nClass          0\ndtype: int64"
     },
     "execution_count": 58,
     "metadata": {},
     "output_type": "execute_result"
    }
   ],
   "source": [
    "dataset.isnull().sum()\r\n",
    "# Aqui podemos ver que no hay datos nulos"
   ]
  },
  {
   "cell_type": "markdown",
   "metadata": {},
   "source": [
    "## Punto 3"
   ]
  },
  {
   "cell_type": "code",
   "execution_count": 61,
   "metadata": {},
   "outputs": [
    {
     "data": {
      "text/html": "<div>\n<style scoped>\n    .dataframe tbody tr th:only-of-type {\n        vertical-align: middle;\n    }\n\n    .dataframe tbody tr th {\n        vertical-align: top;\n    }\n\n    .dataframe thead th {\n        text-align: right;\n    }\n</style>\n<table border=\"1\" class=\"dataframe\">\n  <thead>\n    <tr style=\"text-align: right;\">\n      <th></th>\n      <th>PetalWidth</th>\n      <th>PetalLength</th>\n      <th>Class</th>\n    </tr>\n  </thead>\n  <tbody>\n    <tr>\n      <th>0</th>\n      <td>0.2</td>\n      <td>1.4</td>\n      <td>Iris-setosa</td>\n    </tr>\n    <tr>\n      <th>1</th>\n      <td>0.2</td>\n      <td>1.4</td>\n      <td>Iris-setosa</td>\n    </tr>\n    <tr>\n      <th>2</th>\n      <td>0.2</td>\n      <td>1.3</td>\n      <td>Iris-setosa</td>\n    </tr>\n    <tr>\n      <th>3</th>\n      <td>0.2</td>\n      <td>1.5</td>\n      <td>Iris-setosa</td>\n    </tr>\n    <tr>\n      <th>4</th>\n      <td>0.2</td>\n      <td>1.4</td>\n      <td>Iris-setosa</td>\n    </tr>\n    <tr>\n      <th>...</th>\n      <td>...</td>\n      <td>...</td>\n      <td>...</td>\n    </tr>\n    <tr>\n      <th>145</th>\n      <td>2.3</td>\n      <td>5.2</td>\n      <td>Iris-virginica</td>\n    </tr>\n    <tr>\n      <th>146</th>\n      <td>1.9</td>\n      <td>5.0</td>\n      <td>Iris-virginica</td>\n    </tr>\n    <tr>\n      <th>147</th>\n      <td>2.0</td>\n      <td>5.2</td>\n      <td>Iris-virginica</td>\n    </tr>\n    <tr>\n      <th>148</th>\n      <td>2.3</td>\n      <td>5.4</td>\n      <td>Iris-virginica</td>\n    </tr>\n    <tr>\n      <th>149</th>\n      <td>1.8</td>\n      <td>5.1</td>\n      <td>Iris-virginica</td>\n    </tr>\n  </tbody>\n</table>\n<p>150 rows × 3 columns</p>\n</div>",
      "text/plain": "     PetalWidth  PetalLength           Class\n0           0.2          1.4     Iris-setosa\n1           0.2          1.4     Iris-setosa\n2           0.2          1.3     Iris-setosa\n3           0.2          1.5     Iris-setosa\n4           0.2          1.4     Iris-setosa\n..          ...          ...             ...\n145         2.3          5.2  Iris-virginica\n146         1.9          5.0  Iris-virginica\n147         2.0          5.2  Iris-virginica\n148         2.3          5.4  Iris-virginica\n149         1.8          5.1  Iris-virginica\n\n[150 rows x 3 columns]"
     },
     "execution_count": 61,
     "metadata": {},
     "output_type": "execute_result"
    }
   ],
   "source": [
    "data3 = dataset[[\"PetalWidth\", \"PetalLength\", \"Class\"]]\r\n",
    "data3"
   ]
  },
  {
   "cell_type": "markdown",
   "metadata": {},
   "source": [
    "## Punto 4"
   ]
  },
  {
   "cell_type": "code",
   "execution_count": 62,
   "metadata": {},
   "outputs": [
    {
     "data": {
      "text/html": "<div>\n<style scoped>\n    .dataframe tbody tr th:only-of-type {\n        vertical-align: middle;\n    }\n\n    .dataframe tbody tr th {\n        vertical-align: top;\n    }\n\n    .dataframe thead th {\n        text-align: right;\n    }\n</style>\n<table border=\"1\" class=\"dataframe\">\n  <thead>\n    <tr style=\"text-align: right;\">\n      <th></th>\n      <th>SepalWidth</th>\n      <th>SepalLength</th>\n      <th>Class</th>\n    </tr>\n  </thead>\n  <tbody>\n    <tr>\n      <th>0</th>\n      <td>3.5</td>\n      <td>5.1</td>\n      <td>Iris-setosa</td>\n    </tr>\n    <tr>\n      <th>1</th>\n      <td>3.0</td>\n      <td>4.9</td>\n      <td>Iris-setosa</td>\n    </tr>\n    <tr>\n      <th>2</th>\n      <td>3.2</td>\n      <td>4.7</td>\n      <td>Iris-setosa</td>\n    </tr>\n    <tr>\n      <th>3</th>\n      <td>3.1</td>\n      <td>4.6</td>\n      <td>Iris-setosa</td>\n    </tr>\n    <tr>\n      <th>4</th>\n      <td>3.6</td>\n      <td>5.0</td>\n      <td>Iris-setosa</td>\n    </tr>\n    <tr>\n      <th>...</th>\n      <td>...</td>\n      <td>...</td>\n      <td>...</td>\n    </tr>\n    <tr>\n      <th>145</th>\n      <td>3.0</td>\n      <td>6.7</td>\n      <td>Iris-virginica</td>\n    </tr>\n    <tr>\n      <th>146</th>\n      <td>2.5</td>\n      <td>6.3</td>\n      <td>Iris-virginica</td>\n    </tr>\n    <tr>\n      <th>147</th>\n      <td>3.0</td>\n      <td>6.5</td>\n      <td>Iris-virginica</td>\n    </tr>\n    <tr>\n      <th>148</th>\n      <td>3.4</td>\n      <td>6.2</td>\n      <td>Iris-virginica</td>\n    </tr>\n    <tr>\n      <th>149</th>\n      <td>3.0</td>\n      <td>5.9</td>\n      <td>Iris-virginica</td>\n    </tr>\n  </tbody>\n</table>\n<p>150 rows × 3 columns</p>\n</div>",
      "text/plain": "     SepalWidth  SepalLength           Class\n0           3.5          5.1     Iris-setosa\n1           3.0          4.9     Iris-setosa\n2           3.2          4.7     Iris-setosa\n3           3.1          4.6     Iris-setosa\n4           3.6          5.0     Iris-setosa\n..          ...          ...             ...\n145         3.0          6.7  Iris-virginica\n146         2.5          6.3  Iris-virginica\n147         3.0          6.5  Iris-virginica\n148         3.4          6.2  Iris-virginica\n149         3.0          5.9  Iris-virginica\n\n[150 rows x 3 columns]"
     },
     "execution_count": 62,
     "metadata": {},
     "output_type": "execute_result"
    }
   ],
   "source": [
    "data4 = dataset[[\"SepalWidth\", \"SepalLength\", \"Class\"]]\r\n",
    "data4"
   ]
  },
  {
   "cell_type": "markdown",
   "metadata": {},
   "source": [
    "## Punto 5"
   ]
  },
  {
   "cell_type": "code",
   "execution_count": 63,
   "metadata": {},
   "outputs": [
    {
     "data": {
      "text/html": "<div>\n<style scoped>\n    .dataframe tbody tr th:only-of-type {\n        vertical-align: middle;\n    }\n\n    .dataframe tbody tr th {\n        vertical-align: top;\n    }\n\n    .dataframe thead th {\n        text-align: right;\n    }\n</style>\n<table border=\"1\" class=\"dataframe\">\n  <thead>\n    <tr style=\"text-align: right;\">\n      <th></th>\n      <th>SepalWidth</th>\n      <th>SepalLength</th>\n      <th>Class</th>\n    </tr>\n  </thead>\n  <tbody>\n    <tr>\n      <th>0</th>\n      <td>3.5</td>\n      <td>5.1</td>\n      <td>1</td>\n    </tr>\n    <tr>\n      <th>1</th>\n      <td>3.0</td>\n      <td>4.9</td>\n      <td>1</td>\n    </tr>\n    <tr>\n      <th>2</th>\n      <td>3.2</td>\n      <td>4.7</td>\n      <td>1</td>\n    </tr>\n    <tr>\n      <th>3</th>\n      <td>3.1</td>\n      <td>4.6</td>\n      <td>1</td>\n    </tr>\n    <tr>\n      <th>4</th>\n      <td>3.6</td>\n      <td>5.0</td>\n      <td>1</td>\n    </tr>\n    <tr>\n      <th>...</th>\n      <td>...</td>\n      <td>...</td>\n      <td>...</td>\n    </tr>\n    <tr>\n      <th>145</th>\n      <td>3.0</td>\n      <td>6.7</td>\n      <td>3</td>\n    </tr>\n    <tr>\n      <th>146</th>\n      <td>2.5</td>\n      <td>6.3</td>\n      <td>3</td>\n    </tr>\n    <tr>\n      <th>147</th>\n      <td>3.0</td>\n      <td>6.5</td>\n      <td>3</td>\n    </tr>\n    <tr>\n      <th>148</th>\n      <td>3.4</td>\n      <td>6.2</td>\n      <td>3</td>\n    </tr>\n    <tr>\n      <th>149</th>\n      <td>3.0</td>\n      <td>5.9</td>\n      <td>3</td>\n    </tr>\n  </tbody>\n</table>\n<p>150 rows × 3 columns</p>\n</div>",
      "text/plain": "     SepalWidth  SepalLength  Class\n0           3.5          5.1      1\n1           3.0          4.9      1\n2           3.2          4.7      1\n3           3.1          4.6      1\n4           3.6          5.0      1\n..          ...          ...    ...\n145         3.0          6.7      3\n146         2.5          6.3      3\n147         3.0          6.5      3\n148         3.4          6.2      3\n149         3.0          5.9      3\n\n[150 rows x 3 columns]"
     },
     "execution_count": 63,
     "metadata": {},
     "output_type": "execute_result"
    }
   ],
   "source": [
    "data5 = dataset.replace({\"Class\": {'Iris-setosa': 1, 'Iris-versicolor': 2, 'Iris-virginica': 3}})\r\n",
    "data5[[\"SepalWidth\", \"SepalLength\", \"Class\"]]"
   ]
  }
 ],
 "metadata": {
  "colab": {
   "name": "Introduction to Libraries and Data Management.ipynb",
   "provenance": [],
   "version": "0.3.2"
  },
  "kernelspec": {
   "display_name": "Python 3",
   "language": "python",
   "name": "python3"
  },
  "language_info": {
   "codemirror_mode": {
    "name": "ipython",
    "version": 3
   },
   "file_extension": ".py",
   "mimetype": "text/x-python",
   "name": "python",
   "nbconvert_exporter": "python",
   "pygments_lexer": "ipython3",
   "version": "3.8.3"
  }
 },
 "nbformat": 4,
 "nbformat_minor": 1
}